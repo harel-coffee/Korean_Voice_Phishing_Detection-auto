{
 "cells": [
  {
   "cell_type": "markdown",
   "source": [
    "# Korean vishing Detection using KoBERT model from HuggingFace on TensorFlow"
   ],
   "metadata": {
    "collapsed": false
   },
   "id": "66b5a5e71c5d516"
  },
  {
   "cell_type": "markdown",
   "source": [
    "## Install dependencies"
   ],
   "metadata": {
    "collapsed": false
   },
   "id": "5903846fa4717d84"
  },
  {
   "cell_type": "markdown",
   "source": [
    "Install the tensorFlow to work on GPU for WSL2 Ubuntu 20.04 LTS (Focal Fossa) on Windows 11 Pro as follows described in the [TensorFlow documentation](https://www.tensorflow.org/install/pip#windows-wsl2).\n",
    "1. Install WSL2\n",
    "2. Install the NVIDIA drive\n",
    "3. NVIDIA’s setup docs for CUDA in WSL2\n",
    "4. Install TensorFlow\n",
    "5. Verify the installation\n",
    "6. Install the transformers library\n",
    "7. Install the pandas library\n",
    "8. Install the numpy library\n",
    "9. Install the scikit-learn library\n",
    "10. Install the matplotlib library\n",
    "11. Install the seaborn library\n",
    "(optional)\n",
    "12. Install the tqdm library\n",
    "13. Install the sentencepiece library\n",
    "14. Install the pydot library\n",
    "15. Install the graphviz library"
   ],
   "metadata": {
    "collapsed": false
   },
   "id": "e9d99971e944e87d"
  },
  {
   "cell_type": "code",
   "execution_count": 1,
   "outputs": [
    {
     "name": "stderr",
     "output_type": "stream",
     "text": [
      "2023-12-08 14:59:51.406552: I tensorflow/core/platform/cpu_feature_guard.cc:193] This TensorFlow binary is optimized with oneAPI Deep Neural Network Library (oneDNN) to use the following CPU instructions in performance-critical operations:  AVX2 AVX_VNNI FMA\n",
      "To enable them in other operations, rebuild TensorFlow with the appropriate compiler flags.\n",
      "2023-12-08 14:59:51.775855: I tensorflow/core/util/port.cc:104] oneDNN custom operations are on. You may see slightly different numerical results due to floating-point round-off errors from different computation orders. To turn them off, set the environment variable `TF_ENABLE_ONEDNN_OPTS=0`.\n",
      "2023-12-08 14:59:53.115049: W tensorflow/compiler/xla/stream_executor/platform/default/dso_loader.cc:64] Could not load dynamic library 'libnvinfer.so.7'; dlerror: libnvinfer.so.7: cannot open shared object file: No such file or directory; LD_LIBRARY_PATH: :/home/mbmk92/anaconda3/envs/dltest/lib/\n",
      "2023-12-08 14:59:53.122451: W tensorflow/compiler/xla/stream_executor/platform/default/dso_loader.cc:64] Could not load dynamic library 'libnvinfer_plugin.so.7'; dlerror: libnvinfer_plugin.so.7: cannot open shared object file: No such file or directory; LD_LIBRARY_PATH: :/home/mbmk92/anaconda3/envs/dltest/lib/\n",
      "2023-12-08 14:59:53.122467: W tensorflow/compiler/tf2tensorrt/utils/py_utils.cc:38] TF-TRT Warning: Cannot dlopen some TensorRT libraries. If you would like to use Nvidia GPU with TensorRT, please make sure the missing libraries mentioned above are installed properly.\n"
     ]
    },
    {
     "name": "stdout",
     "output_type": "stream",
     "text": [
      "Num GPUs Available:  1\n",
      "Num GPUs Available:  1\n",
      "Default GPU Device: /device:GPU:0\n"
     ]
    },
    {
     "name": "stderr",
     "output_type": "stream",
     "text": [
      "2023-12-08 14:59:54.870377: I tensorflow/compiler/xla/stream_executor/cuda/cuda_gpu_executor.cc:967] could not open file to read NUMA node: /sys/bus/pci/devices/0000:01:00.0/numa_node\n",
      "Your kernel may have been built without NUMA support.\n",
      "2023-12-08 14:59:55.005020: I tensorflow/compiler/xla/stream_executor/cuda/cuda_gpu_executor.cc:967] could not open file to read NUMA node: /sys/bus/pci/devices/0000:01:00.0/numa_node\n",
      "Your kernel may have been built without NUMA support.\n",
      "2023-12-08 14:59:55.005065: I tensorflow/compiler/xla/stream_executor/cuda/cuda_gpu_executor.cc:967] could not open file to read NUMA node: /sys/bus/pci/devices/0000:01:00.0/numa_node\n",
      "Your kernel may have been built without NUMA support.\n",
      "2023-12-08 14:59:55.007281: I tensorflow/core/platform/cpu_feature_guard.cc:193] This TensorFlow binary is optimized with oneAPI Deep Neural Network Library (oneDNN) to use the following CPU instructions in performance-critical operations:  AVX2 AVX_VNNI FMA\n",
      "To enable them in other operations, rebuild TensorFlow with the appropriate compiler flags.\n",
      "2023-12-08 14:59:55.011665: I tensorflow/compiler/xla/stream_executor/cuda/cuda_gpu_executor.cc:967] could not open file to read NUMA node: /sys/bus/pci/devices/0000:01:00.0/numa_node\n",
      "Your kernel may have been built without NUMA support.\n",
      "2023-12-08 14:59:55.011774: I tensorflow/compiler/xla/stream_executor/cuda/cuda_gpu_executor.cc:967] could not open file to read NUMA node: /sys/bus/pci/devices/0000:01:00.0/numa_node\n",
      "Your kernel may have been built without NUMA support.\n",
      "2023-12-08 14:59:55.011797: I tensorflow/compiler/xla/stream_executor/cuda/cuda_gpu_executor.cc:967] could not open file to read NUMA node: /sys/bus/pci/devices/0000:01:00.0/numa_node\n",
      "Your kernel may have been built without NUMA support.\n",
      "2023-12-08 14:59:56.355877: I tensorflow/compiler/xla/stream_executor/cuda/cuda_gpu_executor.cc:967] could not open file to read NUMA node: /sys/bus/pci/devices/0000:01:00.0/numa_node\n",
      "Your kernel may have been built without NUMA support.\n",
      "2023-12-08 14:59:56.356303: I tensorflow/compiler/xla/stream_executor/cuda/cuda_gpu_executor.cc:967] could not open file to read NUMA node: /sys/bus/pci/devices/0000:01:00.0/numa_node\n",
      "Your kernel may have been built without NUMA support.\n",
      "2023-12-08 14:59:56.356319: I tensorflow/core/common_runtime/gpu/gpu_device.cc:1700] Could not identify NUMA node of platform GPU id 0, defaulting to 0.  Your kernel may not have been built with NUMA support.\n",
      "2023-12-08 14:59:56.356354: I tensorflow/compiler/xla/stream_executor/cuda/cuda_gpu_executor.cc:967] could not open file to read NUMA node: /sys/bus/pci/devices/0000:01:00.0/numa_node\n",
      "Your kernel may have been built without NUMA support.\n",
      "2023-12-08 14:59:56.356379: I tensorflow/core/common_runtime/gpu/gpu_device.cc:1613] Created device /device:GPU:0 with 5503 MB memory:  -> device: 0, name: NVIDIA GeForce RTX 3050, pci bus id: 0000:01:00.0, compute capability: 8.6\n",
      "2023-12-08 14:59:56.358165: I tensorflow/compiler/xla/stream_executor/cuda/cuda_gpu_executor.cc:967] could not open file to read NUMA node: /sys/bus/pci/devices/0000:01:00.0/numa_node\n",
      "Your kernel may have been built without NUMA support.\n",
      "2023-12-08 14:59:56.358208: I tensorflow/compiler/xla/stream_executor/cuda/cuda_gpu_executor.cc:967] could not open file to read NUMA node: /sys/bus/pci/devices/0000:01:00.0/numa_node\n",
      "Your kernel may have been built without NUMA support.\n",
      "2023-12-08 14:59:56.358227: I tensorflow/compiler/xla/stream_executor/cuda/cuda_gpu_executor.cc:967] could not open file to read NUMA node: /sys/bus/pci/devices/0000:01:00.0/numa_node\n",
      "Your kernel may have been built without NUMA support.\n",
      "2023-12-08 14:59:56.358414: I tensorflow/compiler/xla/stream_executor/cuda/cuda_gpu_executor.cc:967] could not open file to read NUMA node: /sys/bus/pci/devices/0000:01:00.0/numa_node\n",
      "Your kernel may have been built without NUMA support.\n",
      "2023-12-08 14:59:56.358427: I tensorflow/core/common_runtime/gpu/gpu_device.cc:1700] Could not identify NUMA node of platform GPU id 0, defaulting to 0.  Your kernel may not have been built with NUMA support.\n",
      "2023-12-08 14:59:56.358456: I tensorflow/compiler/xla/stream_executor/cuda/cuda_gpu_executor.cc:967] could not open file to read NUMA node: /sys/bus/pci/devices/0000:01:00.0/numa_node\n",
      "Your kernel may have been built without NUMA support.\n",
      "2023-12-08 14:59:56.358471: I tensorflow/core/common_runtime/gpu/gpu_device.cc:1613] Created device /device:GPU:0 with 5503 MB memory:  -> device: 0, name: NVIDIA GeForce RTX 3050, pci bus id: 0000:01:00.0, compute capability: 8.6\n"
     ]
    }
   ],
   "source": [
    "# Verify the installation:\n",
    "import tensorflow as tf\n",
    "print(\"Num GPUs Available: \", len(tf.config.list_physical_devices('GPU')))\n",
    "print(\"Num GPUs Available: \", len(tf.config.experimental.list_physical_devices('GPU')))\n",
    "\n",
    "# Check if TensorFlow is using GPU\n",
    "if tf.test.gpu_device_name():\n",
    "    print('Default GPU Device: {}'.format(tf.test.gpu_device_name()))\n",
    "else:\n",
    "    print(\"Please install GPU version of TF\")"
   ],
   "metadata": {
    "collapsed": false,
    "ExecuteTime": {
     "end_time": "2023-12-08T05:59:56.382277300Z",
     "start_time": "2023-12-08T05:59:51.364015200Z"
    }
   },
   "id": "34cbe67316b21296"
  },
  {
   "cell_type": "code",
   "execution_count": 2,
   "outputs": [],
   "source": [
    "# !pip install transformers pandas numpy"
   ],
   "metadata": {
    "collapsed": false,
    "ExecuteTime": {
     "end_time": "2023-12-08T05:59:56.383281500Z",
     "start_time": "2023-12-08T05:59:56.364278100Z"
    }
   },
   "id": "initial_id"
  },
  {
   "cell_type": "code",
   "execution_count": 3,
   "outputs": [],
   "source": [
    "# !pip install --upgrade pip"
   ],
   "metadata": {
    "collapsed": false,
    "ExecuteTime": {
     "end_time": "2023-12-08T05:59:56.383281500Z",
     "start_time": "2023-12-08T05:59:56.368280Z"
    }
   },
   "id": "8057bd8275a75175"
  },
  {
   "cell_type": "code",
   "execution_count": 4,
   "outputs": [],
   "source": [
    "# !pip install tensorflow\n",
    "# !pip3 install tensorflow[and-cuda]"
   ],
   "metadata": {
    "collapsed": false,
    "ExecuteTime": {
     "end_time": "2023-12-08T05:59:56.393279300Z",
     "start_time": "2023-12-08T05:59:56.380278600Z"
    }
   },
   "id": "a31387707392daff"
  },
  {
   "cell_type": "code",
   "execution_count": 5,
   "outputs": [],
   "source": [
    "# load the libraries\n",
    "import tensorflow as tf\n",
    "from transformers import BertTokenizer, TFBertForSequenceClassification ,TFBertModel, AutoTokenizer, AutoModelForSequenceClassification, TFAutoModelForSequenceClassification\n",
    "from transformers import AdamWeightDecay\n",
    "import pandas as pd\n",
    "import numpy as np\n",
    "import re, os, time, gc, psutil\n",
    "import matplotlib.pyplot as plt\n",
    "import seaborn as sns\n",
    "from sklearn.model_selection import train_test_split\n",
    "from sklearn.metrics import accuracy_score, classification_report\n",
    "from keras.utils import to_categorical\n",
    "from transformers import AdamW\n",
    "from tensorflow.keras.optimizers import Adam\n",
    "from tensorflow.python.keras.losses import SparseCategoricalCrossentropy\n",
    "# from tensorflow.keras.optimizers import AdamW,\n",
    "# from tensorflow.keras.losses import SparseCategoricalCrossentropy\n",
    "# from tensorflow.keras.callbacks import EarlyStopping, ModelCheckpoint\n",
    "# from tensorflow.keras.utils import to_categorical"
   ],
   "metadata": {
    "collapsed": false,
    "ExecuteTime": {
     "end_time": "2023-12-08T05:59:59.428822400Z",
     "start_time": "2023-12-08T05:59:56.383281500Z"
    }
   },
   "id": "11cfd9dc6f073076"
  },
  {
   "cell_type": "markdown",
   "source": [
    "## Load the dataset and cleaning"
   ],
   "metadata": {
    "collapsed": false
   },
   "id": "8622d771bda0aaac"
  },
  {
   "cell_type": "code",
   "execution_count": 6,
   "outputs": [
    {
     "data": {
      "text/plain": "   id                                         transcript  confidence  label\n0   0  저는 여행 다니는 것을 굉장히 좋아하는데요. 그래가지고 스페인이나 뭐 영국 유럽 아...         NaN      0\n1   1  반려동물을 키우고 계신가요? 혹시 안 키우고 계시다면은 어떤 반려동물을 한번 키워보...         NaN      0\n2   2   씨는 주로 어떤 음식 좋아하시나요? 저는 근데 가리는 게 거의 없어서 대부분 다 ...         NaN      0\n3   3   씨는 반려동물 어~ 좋 뭐 어떤 동물 좋아하세요? 저는 고양이를 정말 좋아하는데요...         NaN      0\n4   4  가장 좋아하는 음식이 무엇인가요? 저는 주로 먹는 거를 좋아해서 음식을 가리지 않고...         NaN      0",
      "text/html": "<div>\n<style scoped>\n    .dataframe tbody tr th:only-of-type {\n        vertical-align: middle;\n    }\n\n    .dataframe tbody tr th {\n        vertical-align: top;\n    }\n\n    .dataframe thead th {\n        text-align: right;\n    }\n</style>\n<table border=\"1\" class=\"dataframe\">\n  <thead>\n    <tr style=\"text-align: right;\">\n      <th></th>\n      <th>id</th>\n      <th>transcript</th>\n      <th>confidence</th>\n      <th>label</th>\n    </tr>\n  </thead>\n  <tbody>\n    <tr>\n      <th>0</th>\n      <td>0</td>\n      <td>저는 여행 다니는 것을 굉장히 좋아하는데요. 그래가지고 스페인이나 뭐 영국 유럽 아...</td>\n      <td>NaN</td>\n      <td>0</td>\n    </tr>\n    <tr>\n      <th>1</th>\n      <td>1</td>\n      <td>반려동물을 키우고 계신가요? 혹시 안 키우고 계시다면은 어떤 반려동물을 한번 키워보...</td>\n      <td>NaN</td>\n      <td>0</td>\n    </tr>\n    <tr>\n      <th>2</th>\n      <td>2</td>\n      <td>씨는 주로 어떤 음식 좋아하시나요? 저는 근데 가리는 게 거의 없어서 대부분 다 ...</td>\n      <td>NaN</td>\n      <td>0</td>\n    </tr>\n    <tr>\n      <th>3</th>\n      <td>3</td>\n      <td>씨는 반려동물 어~ 좋 뭐 어떤 동물 좋아하세요? 저는 고양이를 정말 좋아하는데요...</td>\n      <td>NaN</td>\n      <td>0</td>\n    </tr>\n    <tr>\n      <th>4</th>\n      <td>4</td>\n      <td>가장 좋아하는 음식이 무엇인가요? 저는 주로 먹는 거를 좋아해서 음식을 가리지 않고...</td>\n      <td>NaN</td>\n      <td>0</td>\n    </tr>\n  </tbody>\n</table>\n</div>"
     },
     "execution_count": 6,
     "metadata": {},
     "output_type": "execute_result"
    }
   ],
   "source": [
    "# Import the dataset KorCCVi\n",
    "df = pd.read_csv('KorCCVi_v2.csv')\n",
    "# df = pd.read_csv('KorCCViD_v1.3_fullcleansed.csv')\n",
    "df.head()"
   ],
   "metadata": {
    "collapsed": false,
    "ExecuteTime": {
     "end_time": "2023-12-08T05:59:59.864382400Z",
     "start_time": "2023-12-08T05:59:59.428822400Z"
    }
   },
   "id": "d6ec82b6777b9336"
  },
  {
   "cell_type": "code",
   "execution_count": 7,
   "outputs": [
    {
     "name": "stdout",
     "output_type": "stream",
     "text": [
      "<class 'pandas.core.frame.DataFrame'>\n",
      "RangeIndex: 2927 entries, 0 to 2926\n",
      "Data columns (total 4 columns):\n",
      " #   Column      Non-Null Count  Dtype  \n",
      "---  ------      --------------  -----  \n",
      " 0   id          2927 non-null   int64  \n",
      " 1   transcript  2927 non-null   object \n",
      " 2   confidence  0 non-null      float64\n",
      " 3   label       2927 non-null   int64  \n",
      "dtypes: float64(1), int64(2), object(1)\n",
      "memory usage: 91.6+ KB\n"
     ]
    }
   ],
   "source": [
    "df.info()"
   ],
   "metadata": {
    "collapsed": false,
    "ExecuteTime": {
     "end_time": "2023-12-08T05:59:59.879867200Z",
     "start_time": "2023-12-08T05:59:59.869355700Z"
    }
   },
   "id": "24f23d5a054d4eb"
  },
  {
   "cell_type": "code",
   "execution_count": 8,
   "outputs": [
    {
     "data": {
      "text/plain": "<Figure size 640x480 with 1 Axes>",
      "image/png": "[encoded data removed]"
     },
     "metadata": {},
     "output_type": "display_data"
    }
   ],
   "source": [
    "# visualize the dataset with pie chart \n",
    "df['label'].value_counts().plot(kind='pie', autopct='%1.0f%%', colors=['green', 'red'])\n",
    "plt.title('Percentage of non-vishing and vishing text')\n",
    "plt.show()"
   ],
   "metadata": {
    "collapsed": false,
    "ExecuteTime": {
     "end_time": "2023-12-08T06:00:00.098593Z",
     "start_time": "2023-12-08T05:59:59.873869400Z"
    }
   },
   "id": "a9198ec46b807e9"
  },
  {
   "cell_type": "code",
   "execution_count": 9,
   "outputs": [],
   "source": [
    "# function to plot the class distribution\n",
    "def plot_class_distribution(data, title):\n",
    "    sns.set(style=\"whitegrid\")\n",
    "    # sns.set(style=\"ticks\")\n",
    "    ax = sns.countplot(x='label', data=data)\n",
    "    ax.set_title(title)\n",
    "    \n",
    "    # Annotate the bars with the number of samples\n",
    "    for p in ax.patches:\n",
    "        ax.annotate(f'{p.get_height()}', (p.get_x() + p.get_width() / 2., p.get_height()),\n",
    "                    ha='center', va='baseline', fontsize=11, color='black', xytext=(0, 5),\n",
    "                    textcoords='offset points')\n",
    "        \n",
    "    plt.show()"
   ],
   "metadata": {
    "collapsed": false,
    "ExecuteTime": {
     "end_time": "2023-12-08T06:00:00.141747200Z",
     "start_time": "2023-12-08T05:59:59.974218Z"
    }
   },
   "id": "c1e9d866d9e58661"
  },
  {
   "cell_type": "code",
   "execution_count": 10,
   "outputs": [
    {
     "data": {
      "text/plain": "<Figure size 640x480 with 1 Axes>",
      "image/png": "[encoded data removed]"
     },
     "metadata": {},
     "output_type": "display_data"
    }
   ],
   "source": [
    "# drop the colum we don't need\n",
    "df.drop(['confidence'], axis=1, inplace=True)\n",
    "plot_class_distribution(df, 'Full Dataset Class Distribution')"
   ],
   "metadata": {
    "collapsed": false,
    "ExecuteTime": {
     "end_time": "2023-12-08T06:00:00.143748900Z",
     "start_time": "2023-12-08T05:59:59.978221400Z"
    }
   },
   "id": "6b97dea8476704d"
  },
  {
   "cell_type": "code",
   "execution_count": 11,
   "outputs": [],
   "source": [
    "# function to perform the cleaning parts\n",
    "def apply_replacement(src_df, replace_func):\n",
    "    ret_df = src_df\n",
    "    ret_df['transcript'] = ret_df['transcript'].apply(lambda x: replace_func(x))\n",
    "    return ret_df"
   ],
   "metadata": {
    "collapsed": false,
    "ExecuteTime": {
     "end_time": "2023-12-08T06:00:00.143748900Z",
     "start_time": "2023-12-08T06:00:00.090200800Z"
    }
   },
   "id": "40f3b866ce63d881"
  },
  {
   "cell_type": "code",
   "execution_count": 12,
   "outputs": [],
   "source": [
    "# remove the unwanted word and characters from the dataset\n",
    "def word_replace(x):\n",
    "    example_word_replace_list = {'o/': '',\n",
    "                                 'b/': '',\n",
    "                                'n/': '',\n",
    "                                '\\n': ' ',\n",
    "                                'name': '',\n",
    "                                'laughing': '',\n",
    "                                'clearing': '',\n",
    "                                'singing': '',\n",
    "                                'applauding': ''}\n",
    "\n",
    "    for i in example_word_replace_list:\n",
    "        x = x.replace(i, example_word_replace_list[i])\n",
    "    return x"
   ],
   "metadata": {
    "collapsed": false,
    "ExecuteTime": {
     "end_time": "2023-12-08T06:00:00.199288300Z",
     "start_time": "2023-12-08T06:00:00.095088Z"
    }
   },
   "id": "c36e45acf91013be"
  },
  {
   "cell_type": "code",
   "execution_count": 13,
   "outputs": [],
   "source": [
    "# remove the special character from the transcripts\n",
    "def remove_special_characters(sentence):\n",
    "    sentence = re.sub(r\"[^a-zA-Z0-9ㄱ-ㅣ가-힣]\", ' ', sentence)\n",
    "    sentence = re.sub(r\"[-~=+,#/\\?:^$.@*\\\"※~&%ㆍ!』\\\\‘|\\(\\)\\[\\]\\<\\>`\\'…》]\", '', sentence)\n",
    "    return sentence"
   ],
   "metadata": {
    "collapsed": false,
    "ExecuteTime": {
     "end_time": "2023-12-08T06:00:00.200288100Z",
     "start_time": "2023-12-08T06:00:00.103601900Z"
    }
   },
   "id": "c8dafdce02ee7b67"
  },
  {
   "cell_type": "code",
   "execution_count": 14,
   "outputs": [],
   "source": [
    "# remove x and O from the transcripts\n",
    "def remove_x_o(sentence):\n",
    "    sentence = re.sub(r\"[xX]\", '', sentence)\n",
    "    sentence = re.sub(r\"[oO]\", '', sentence)\n",
    "    sentence = re.sub(r\"(o|O|\\ㅇ|0|x){2,}\", '', sentence)\n",
    "    return sentence"
   ],
   "metadata": {
    "collapsed": false,
    "ExecuteTime": {
     "end_time": "2023-12-08T06:00:00.200288100Z",
     "start_time": "2023-12-08T06:00:00.110604100Z"
    }
   },
   "id": "a73a15ba305f181c"
  },
  {
   "cell_type": "code",
   "execution_count": 15,
   "outputs": [],
   "source": [
    "# remove all the digits and numbers from the transcripts\n",
    "def remove_digits(sentence):\n",
    "    sentence = re.sub(r\"[0-9]\", '', sentence)\n",
    "    return sentence"
   ],
   "metadata": {
    "collapsed": false,
    "ExecuteTime": {
     "end_time": "2023-12-08T06:00:00.200288100Z",
     "start_time": "2023-12-08T06:00:00.117604500Z"
    }
   },
   "id": "829235c0b269528a"
  },
  {
   "cell_type": "code",
   "execution_count": 16,
   "outputs": [],
   "source": [
    "# remove all extra spaces from the transcripts\n",
    "def remove_extra_spaces(sentence):\n",
    "    sentence = re.sub(r\"\\s+\", ' ', sentence)\n",
    "    return sentence"
   ],
   "metadata": {
    "collapsed": false,
    "ExecuteTime": {
     "end_time": "2023-12-08T06:00:00.261483Z",
     "start_time": "2023-12-08T06:00:00.124603Z"
    }
   },
   "id": "a91344cbe76d6872"
  },
  {
   "cell_type": "code",
   "execution_count": 17,
   "outputs": [],
   "source": [
    "# Apply all the cleaning functions to the dataset\n",
    "df = apply_replacement(df, word_replace)\n",
    "df = apply_replacement(df, remove_special_characters)\n",
    "df = apply_replacement(df, remove_x_o)\n",
    "df = apply_replacement(df, remove_digits)\n",
    "df = apply_replacement(df, remove_extra_spaces)"
   ],
   "metadata": {
    "collapsed": false,
    "ExecuteTime": {
     "end_time": "2023-12-08T06:00:01.581116600Z",
     "start_time": "2023-12-08T06:00:00.133117800Z"
    }
   },
   "id": "1498a28740043432"
  },
  {
   "cell_type": "code",
   "execution_count": 18,
   "outputs": [
    {
     "name": "stdout",
     "output_type": "stream",
     "text": [
      "        id                                         transcript  label\n",
      "69      69  네 씨는 혹시 여행 좋아하시나요 저는 되게 많이 좋아합니다 국내 해외 다 좋아하고 ...      0\n",
      "1168  1168  언니 요새 이가 여자 친구한테 선물 받은 거 있어 있긴 있는 거 같더라고 그렇지 않...      0\n",
      "1452  1452  나는 지금 강아지를 년째 키우고 있는 중이거든 우리 강아지 이름은 코난이고 아 얘가...      0\n",
      "2233  2233  본인 성함 알겟습니다 제가 첫번째는 이제 본인이 혹시라도 이제 깡통 계좌 발생으로 ...      1\n",
      "2239  2239  보니까 서면조사를 받으셔야 되고요 알겠습니다 그럼 말씀 드릴게요 계속 말씀드렸다시피...      1\n"
     ]
    }
   ],
   "source": [
    "# print the row with any English character in the transcript\n",
    "print(df[df['transcript'].str.contains('[a-zA-Z]')].head(5))"
   ],
   "metadata": {
    "collapsed": false,
    "ExecuteTime": {
     "end_time": "2023-12-08T06:00:01.678813200Z",
     "start_time": "2023-12-08T06:00:01.605126Z"
    }
   },
   "id": "4fb9dfe1da74752d"
  },
  {
   "cell_type": "code",
   "execution_count": 19,
   "outputs": [],
   "source": [
    "# save the cleaned dataset\n",
    "df.to_csv('KorCCVi_v2_cleaned.csv', index=False)"
   ],
   "metadata": {
    "collapsed": false,
    "ExecuteTime": {
     "end_time": "2023-12-08T06:00:02.210763800Z",
     "start_time": "2023-12-08T06:00:01.676813900Z"
    }
   },
   "id": "2490bf83df1fd94"
  },
  {
   "cell_type": "markdown",
   "source": [
    "## Training the KoBERT model using the Tokenizer provided by KoBERT"
   ],
   "metadata": {
    "collapsed": false
   },
   "id": "e8908527f4a2408f"
  },
  {
   "cell_type": "code",
   "execution_count": 20,
   "outputs": [],
   "source": [
    "# Load the cleaned dataset\n",
    "df = pd.read_csv('KorCCVi_v2_cleaned.csv')"
   ],
   "metadata": {
    "collapsed": false,
    "ExecuteTime": {
     "end_time": "2023-12-08T06:00:02.560862700Z",
     "start_time": "2023-12-08T06:00:02.210763800Z"
    }
   },
   "id": "2538b751924d06dc"
  },
  {
   "cell_type": "code",
   "execution_count": 21,
   "outputs": [],
   "source": [
    "sentences = df['transcript'].values\n",
    "labels = df['label'].values"
   ],
   "metadata": {
    "collapsed": false,
    "ExecuteTime": {
     "end_time": "2023-12-08T06:00:02.570862400Z",
     "start_time": "2023-12-08T06:00:02.563861800Z"
    }
   },
   "id": "c45449faf08a0361"
  },
  {
   "cell_type": "markdown",
   "source": [
    "### Tokenization & Input Formatting Method 1"
   ],
   "metadata": {
    "collapsed": false
   },
   "id": "775b6039944adca8"
  },
  {
   "cell_type": "code",
   "execution_count": 22,
   "outputs": [],
   "source": [
    "# Load the KoBERT tokenizer\n",
    "# tokenizer = BertTokenizer.from_pretrained(\"kykim/bert-kor-base\")\n",
    "# tokenizer = BertTokenizer.from_pretrained('monologg/kobert')"
   ],
   "metadata": {
    "collapsed": false,
    "ExecuteTime": {
     "end_time": "2023-12-08T06:00:02.586864900Z",
     "start_time": "2023-12-08T06:00:02.566864700Z"
    }
   },
   "id": "ef8e6e7a0a8554fe"
  },
  {
   "cell_type": "code",
   "execution_count": 23,
   "outputs": [],
   "source": [
    "# # Tokenize the input texts\n",
    "# def convert_example_to_feature(review):\n",
    "#     return tokenizer.encode_plus(review, \n",
    "#                                  add_special_tokens = True, # Add '[CLS]' and '[SEP]'\n",
    "#                                  max_length = None,           # 64, 512, None, max_length, Pad & truncate all sentences \n",
    "#                                  # pad_to_max_length = True,\n",
    "#                                  padding='max_length',        # True, longest, max_length, Pad & truncate all sentences\n",
    "#                                  return_attention_mask = True,\n",
    "#                                  return_token_type_ids = False,\n",
    "#                                  truncation=True)"
   ],
   "metadata": {
    "collapsed": false,
    "ExecuteTime": {
     "end_time": "2023-12-08T06:00:02.596861100Z",
     "start_time": "2023-12-08T06:00:02.573861900Z"
    }
   },
   "id": "d2d64dcff0a97b02"
  },
  {
   "cell_type": "code",
   "execution_count": 24,
   "outputs": [],
   "source": [
    "# # Map to the expected input to TFBertForSequenceClassification, see https://huggingface.co/transformers/model_doc/bert.html#tfbertforsequenceclassification\n",
    "# input_ids = []\n",
    "# attention_masks = []"
   ],
   "metadata": {
    "collapsed": false,
    "ExecuteTime": {
     "end_time": "2023-12-08T06:00:02.598861400Z",
     "start_time": "2023-12-08T06:00:02.579858700Z"
    }
   },
   "id": "a3c7f2462b763943"
  },
  {
   "cell_type": "code",
   "execution_count": 25,
   "outputs": [],
   "source": [
    "# for sent in sentences:\n",
    "#     encoded_dict = convert_example_to_feature(sent)\n",
    "#     input_ids.append(encoded_dict['input_ids'])\n",
    "#     attention_masks.append(encoded_dict['attention_mask'])"
   ],
   "metadata": {
    "collapsed": false,
    "ExecuteTime": {
     "end_time": "2023-12-08T06:00:02.650383Z",
     "start_time": "2023-12-08T06:00:02.588859700Z"
    }
   },
   "id": "98dda219087f3992"
  },
  {
   "cell_type": "code",
   "execution_count": 26,
   "outputs": [],
   "source": [
    "# # # Print the shapes of the data.\n",
    "# print('Original: ', sentences[0])\n",
    "# print('Token IDs:', input_ids[0])"
   ],
   "metadata": {
    "collapsed": false,
    "ExecuteTime": {
     "end_time": "2023-12-08T06:00:02.679897200Z",
     "start_time": "2023-12-08T06:00:02.595862100Z"
    }
   },
   "id": "5cd7f2728eb21254"
  },
  {
   "cell_type": "code",
   "execution_count": 27,
   "outputs": [],
   "source": [
    "# # Convert the lists into tensors.\n",
    "# # input_ids = tf.convert_to_tensor(input_ids)\n",
    "# # attention_masks = tf.convert_to_tensor(attention_masks)\n",
    "# # labels = tf.convert_to_tensor(labels)\n",
    "# \n",
    "# input_ids = tf.constant(input_ids)\n",
    "# attention_masks = tf.constant(attention_masks)\n",
    "# labels = tf.constant(labels)"
   ],
   "metadata": {
    "collapsed": false,
    "ExecuteTime": {
     "end_time": "2023-12-08T06:00:02.679897200Z",
     "start_time": "2023-12-08T06:00:02.603859500Z"
    }
   },
   "id": "39a8aaf0a3d5c814"
  },
  {
   "cell_type": "code",
   "execution_count": 28,
   "outputs": [],
   "source": [
    "# input_ids"
   ],
   "metadata": {
    "collapsed": false,
    "ExecuteTime": {
     "end_time": "2023-12-08T06:00:02.679897200Z",
     "start_time": "2023-12-08T06:00:02.609863200Z"
    }
   },
   "id": "c690ebe44a75f043"
  },
  {
   "cell_type": "code",
   "execution_count": 29,
   "outputs": [],
   "source": [
    "# labels"
   ],
   "metadata": {
    "collapsed": false,
    "ExecuteTime": {
     "end_time": "2023-12-08T06:00:02.680897100Z",
     "start_time": "2023-12-08T06:00:02.625869400Z"
    }
   },
   "id": "27e99a40ecda3d83"
  },
  {
   "cell_type": "code",
   "execution_count": 30,
   "outputs": [],
   "source": [
    "# attention_masks"
   ],
   "metadata": {
    "collapsed": false,
    "ExecuteTime": {
     "end_time": "2023-12-08T06:00:02.680897100Z",
     "start_time": "2023-12-08T06:00:02.627870700Z"
    }
   },
   "id": "34df9aaa31b60a15"
  },
  {
   "cell_type": "code",
   "execution_count": 31,
   "outputs": [],
   "source": [
    "# # split the dataset into train, validation and test set\n",
    "# # train_ratio = 0.7\n",
    "# # validation_ratio = 0.15\n",
    "# # test_ratio = 0.15\n",
    "# #     \n",
    "# # train_inputs, validation_inputs, train_labels, validation_labels = train_test_split(input_ids, labels, random_state=42, test_size=0.2)\n",
    "# # train_inputs, validation_inputs, train_labels, validation_labels = train_test_split(input_ids, labels, random_state=2018, test_size=0.1)\n",
    "# # train_masks, validation_masks, _, _ = train_test_split(attention_masks, input_ids, random_state=42, test_size=0.2)\n",
    "# # Split data into train and validation sets\n",
    "# train_inputs, validation_inputs, train_labels, validation_labels = train_test_split(input_ids, labels, random_state=2018, test_size=0.1)\n",
    "# train_masks, validation_masks, _, _ = train_test_split(attention_masks, labels, random_state=2018, test_size=0.1)"
   ],
   "metadata": {
    "collapsed": false,
    "ExecuteTime": {
     "end_time": "2023-12-08T06:00:02.680897100Z",
     "start_time": "2023-12-08T06:00:02.634387500Z"
    }
   },
   "id": "666f2fc1a5eb34af"
  },
  {
   "cell_type": "markdown",
   "source": [
    "### Split the dataset"
   ],
   "metadata": {
    "collapsed": false
   },
   "id": "8f84504802e5dba"
  },
  {
   "cell_type": "code",
   "execution_count": 32,
   "outputs": [],
   "source": [
    "# Split data into training and testing sets\n",
    "# train_inputs, validation_inputs, train_inputs, validation_labels = train_test_split(sentences, labels, random_state=2018, test_size=0.2)\n",
    "\n",
    "# Split data into training and testing sets\n",
    "X_train, X_test, y_train, y_test = train_test_split(sentences, labels, test_size=0.2)"
   ],
   "metadata": {
    "collapsed": false,
    "ExecuteTime": {
     "end_time": "2023-12-08T06:00:02.680897100Z",
     "start_time": "2023-12-08T06:00:02.643382600Z"
    }
   },
   "id": "17cd2fb649284eab"
  },
  {
   "cell_type": "code",
   "execution_count": 33,
   "outputs": [
    {
     "data": {
      "text/plain": "array(['예 지금 통화 가능하신가요 혹시 정보인데요 뭐 이름도 들어보지도 마시고요 제가 이거 이쪽으로 서울지방경찰청 건물 현장에서 대량이 복지신용카드 주민등록증 하고 통장 저기가 발견되어서 여보세요 예 예 예 예 지금 들리시나요 이동을 한번 아시나요 보내시고 화요일에 지난주 화요일에 제출확인서 사람 죽음으로 금융사기단 했는데요 복지신용카드 위조하는 하고요 통장을 통장 동일한 빨간색이 이렇게 전화를 예 예 가시나요 그럼 뭐 최근에 신청 좀 해 가지고 차를 가지고 있으니까 생각 중이라 시간 적어주시고요 되었습니다 등록 안 하신 건 없으시고요 맛있는 거 통신사가 어디 통신을 하지 않게 줄 수 있나요 계장님 오기 전에 예전에 뭐 분 결혼식 내가 일단은 이거 설명해 드리겠습니다 사건이 메모 여기서 뭐 뭐 국가 공무원 현직 경찰 보험사 직원들도 경찰관입니다 어 이거 예 예 가장 중요한 점은 어머니라면 경찰 총 정리 없이 그냥 뭐 하셔 통장 만들어 가지고 있거든요 피곤 하신데 없으시고요 쪽이나 뭐라고 하셔 가지고 사버린다 은행 거래내역 있으신가요 최근에 뭐 신분증이나 그러지는 없으시고요 저희가 그거 현장에서 발견한 통장이거든요 예 농협이랑 하나은행 통장 있어 통장에 농협 통장 있으신가요 괜찮아지면 제가 자주 자주 거래하시는 통장 계신가요 뭐 이거를 해 봤는데 다들 하신다고 얘랑 아닐 거고 그래서 제가 전화를 하다 보니까 어렵다 G 뭐 만 원 정도 받고 뭐 판매하시는 분들도 계시더라구요 홈 있고 월 있으시다고요 ',\n       '아 안녕하세요 저희 가족은 인 가족입니다 두 살 연하의 말 안 듣는 남편과 더 개구지고 더 말 안 듣는 열한 살짜리 아들을 데리고 있는 속 썩고 사는 마흔네 살 주부 그러면서 애증의 관계로 미움과 사랑이 항상 교차하면서 잘 지내고 있는 이라고 합니다 가족이 어떻게 되시나요 어 저랑 동갑이신 거 같아요 저는두 저 년생 마흔네 살 이고요 저도 마찬가지로 아들 한 명 그리고 남편이랑 이르 살고 있는 인 가족이에요 어 아들 저희 학년 인제 열두 살이고요 비슷한 거 같은데 한 명 있고 저희 남편은 연하는 아니고 이제 동갑 동갑 어 남편 있고요 그렇게 셋이 살고 있는데 뭐 마찬가지로 힘든 점도 있고 그리고 계속 이제 점점 이제 한 해 한 해 갈수록 저 고맙다라는 생각이 많이 들고요 특히 남편한테도 그렇고 아이한테도 그 이 뭐 잘 커주고 아프지 않고 잘 커줘서 고맙다고 계속 생각이 들고 나이 들고 하니까 점점 더 이제 가족이 더 소중하게 되는 거 같아요 반대로 저는 이제 그 친정엄마랑 그렇게 사이가 많이 좋진 않아서 어 그 점이 이제 결혼하기 전부터도 고민이었거든요 그 친정 아빠가 이제 돌아가셨어요 그 친정 아빠랑 그 저랑 정말 아주 친하고 좀 유대 관계가 깊었는데 아빠가 돌아가시니까 어 엄마 계시 엄마가 혼자 되시니까 점 더 더 힘든 거 같고 이 연년생 언니가 있는데 언니하고도 이제 사이가 안 좋고 언니랑 엄마랑 이제 한 편 저랑 아빠랑 이게 한 편이었는데 제가 옛 짝을 잃어버린 셈이 되잖아요 그래서 그 둘만 이제 뭉쳐서 좀 차별 당하고 뭐 그런 게 있어서 많이 서운해요 그래서 이제 뭐 명절 다가올 때마다 마음이 많이 무겁고 또 모이면은 이제 이게 또 마찰이 생길 수가 있으니까 요즘 뭐 그 즐거워야 될 명절에 좀 마음이 많이 불편하고 그런데 반면에 이제 시댁 식구들이 되게 마음씨가 좋아서 뭐 감싸주고 그러니까 오히려 이제 시집 와서 더 잘된 거 같아요 그래서 뭐 하 가족이 이제 뭐 친정 다른 사람들은 친정 엄마한테 뭐 기대고 막 그러는데 저는 그런 게 없다 보니까 뭐 서운하기도 하고 근데 뭐 마찬가지 주고받고 하는 게 뭐 서로 느끼는 게 다 똑같겠죠 뭐 저도 엄마한테 인제 잘 못하고 하니까 엄마도 더 오히려 이제 언니를 더 많이 챙기는 거 같고 그리고 그러니까 하여간 결혼하기 전에는 언니랑도 친했는데 결혼하고 나서 이제 크게 뭐 싸운 싸운 적 있어요 그래서 언니하고도 또 연락을 안 하고 잘 아니까 잘 안 하고 그래서 오히려 명절 때 되니까 조금 더 더 쓸쓸해지는 게 있고 돌아가신 친정 아버지가 계속 더 많이 생각나고 그러네요 어 그러면 씨는 그 친정 식구들하고 사이 좋으세요 아 저는 반대로 약간 엄마하고의 관계는 너무나도 좋은데 아빠하고는 맨날 싸워요 둘이 성격이 똑같아서 더 싸우는 거 같아요 아빠하고는 저희 아버지하고 저하고 약간 불 같은 성격이어서 더 그런 거 같아요 저희 집이 남매거든요 남 녀 그렇게 되다 보니까 오형이 세 명 에이형이 세 명이에요 그렇게 딱 혈액형도 딱 오이 오형하고 에이형만 있고 그렇고 딸 둘 아들 둘인데 이게 성비도 이렇게 나눠지기를 딸 저만 오형이고 아버지 오형이고 어 오빠도 오형이니까 이 오형 세 명은 약간 불 같은 성격이고 에이형 세 명은 또 약간 차분하고 약간 여성스러운 성격이거든요 음 그러니까 같은 혈액형에 같은 성격인 사람끼리 많이 다투고 의견이 많이 대립 하게 되더라고요 왜냐면은 에이형인 사람이 많이 받아줬는데 오형은 안 지려고 하니까 같이 이게 부딪치게 되더라고요 그래서 저는 아직까지는 엄마가 훨씬 더 편하고 제가 힘들 때 언제나 전화를 하면 와주시니까 그게 너무 너무 감사하고 좋아요 그런데 아버지하고는 왜 그것도 못해 이렇게 하시니까 아 그러면 아빠가 해봐 이렇게 되면서 둘이 또 싸우는 거예요 그래서 아버지하고는 같이 이렇게 떨어져 있으면 보고 싶고 걱정되고 하다가 얼굴만 보면 으르렁거리고 싸워요 그래서 아버지하고는 아 우리는 전화만 하고 살자 전화하고 있을 때는 이렇게 좋은 모녀가 없는데 에 그 부녀지간이 없는데 어 얼굴만 보면은 딱 한 두 시간 세 시간은 너무 사이가 좋다가 끝에 가면은 둘이 의견 대립으로 싸워요 그렇게 돼서 아버지하고 어머니가 같이 있으면 가기가 편하고 아빠가 혼자 있다 그러면은 잘 안 가게 돼요 저도 친정으로는 음 그래도 엄마가 가장 편하고 좋은 거 같아요 언니가 저는 천호동에 살고 저희 친언니는 일산에 사니까 거의 명절 때나 부모님 생신 때 빼고는 거의 보지를 못해요 저희 언니를 언니가 학교 선생님이다 보니까 요즘 코로나 때문에 학교 방침이 외부 사람 만나는 거 거의 철저히 차단을 해버리니까 친정도 거의 못 왔어요 음 명절 때 얼굴 잠깐 비치고 생신 때도 그냥 영상 통화하고 끝냈고 어 아버지 생신이 월 일 단오날이었거든요 그때도 그냥 영상 통화 하고 끝냈어요 그리고 이번에 추석 때도 언니는 잠깐 왔다가 간다고 하고 음 애들이 지금 언니는 고등학생 고등학교 학년 그다음에 중 되는 아들 있거든요 그러니까 애들도 학교에서 계속 주시를 하니까 나가지 말아라 계속 그렇게 하다 보니까 애들은 그냥 안 데리고 오고 언니만 온다고 하더라고요 추석 때도 음 언니하고도 저도 어렸을 때 항상 같은 방을 써가지고 언니하고 너무 친하고 좋고 그랬었는데 확실히 결혼해서 떨어져서 지내다 보니까 음 예전만큼 같이 대화하면서 공감대가 이어지고 이렇게 자주 만나서 밥도 먹고 차도 마시고 해야 되는데 그런 거를 못하다 보니까 관계가 쪼끔씩 소원해지는 건 있는 거 같아요 그리고 저희 언니가 약간 내성적이다 보니까 저랑 얘기할 때 조금 안 통하는 면이 있기는 해요 저는 활발하고 막 놀이기구 타고 막 몸을 움직이는 운동 되게 좋아하고 하는데 저희 언니 항상 집에 있는 걸 좋아하거든요 그러다보니까 저하고 그 부분이 쪼금 안 맞기는 해요 그래도 잘 지내게 되기는 해요 그래서 저희는 한 년 년에 한 번씩 가족 여행을 가거든요 전체 가족 그렇게 되면 아예 버스를 대절을 해가지고 인승 아니면은 인승 미니 버스를 대절을 해서 가야 돼요 전체 식구가 다 움직이려면 그렇게 해서 움직여서 여행을 가게 되면 그게 하나의 결속이 되는 거 같아요 그런 걸로 쪼끔 소원했던 것도 만나서 그때 인제 맥주라도 한 잔씩 하면서 풀어지기도 하고 또 그 장소에서 그거 땜에도 또 싸우기도 하지 고 그렇게 되는데 그래도 이 가족끼리 여행을 가는 거는 참 좋은 거 같더라고요 그래야지 한 번 더 얼굴을 마주치게 되고 같이 자고 이러면서 더 풀리게 되고 그러는 거 같아요 어 씨는 가족끼리 여행을 자주 가시는 편이세요 네 저는 저희 가족들 하고만 여행을 가지 이리 뭐 언니네 뭐 친정 식구들이나 뭐 시댁 식구들하고 다 같이 이제 다 모여서 가본 적은 한 번도 없는 게 제가 인제 성격이 저는 반대로 조용하다 보니까 북적북적대는 건 싫어하고 그리고 또 저희 언니랑 엄마랑 안 맞는 게 그서 거의 저의 희생을 강요를 하는 편이에요 이제 예전부터 이제 제가 뭐 저한테 집안일을 다 시키든가 아니면 뭐 자기네들은 외향적이니까 다른 사람들 막 다 불러서 친척들 다 불러놓고 이제 그 준비라든가 뒷처리는 다 저한테 이제 떠넘기기 그런 식으로 해서 제가 그게 인제 몇년 동안 이제 뿌리 깊은 그런 상처와 분노로 남아서 이제 아직까지도 이제 그 마음이 서운한 마음이 해소되지가 않고 있거든요 그래서 저는 씨하고 반대로 이렇게 다 같이 막 북적북적대면서 그렇게 해서 만약에 사이가 좋고 화목하고 계속 오랫동안 그렇게 지내 왔다면 그게 가는 게 굉장히 즐겁겠지만 갑자기 안 하다가 갑자기 그런 식으로 할면 저한테 또 어 엄청 큰 스트레스거든요 그래서 그런 식으로는 거의 가 본 적이 없고 인제 결혼하기 전에는 이제 그런 식의 여행을 되게 많이 갔었어요 그게뭐 뭐 가족 동반해서 뭐 한 다섯 집이 이렇게 다 같이 뭐 설악산 가든지 그게 아직까지도 굉장히 좋은 기억으로 남았는데 에 저희 아이는 외동이잖아요 근데 제가 인제 그렇게 사람들하고 뭉쳐서 다니는 거 싫어하다 보니까 우리 아이한테는 이제 그런 추억을 저 만들어주지는 못하고 이런 게 뭐 가끔씩 미안하기는 하죠 근데 저희 인제 세 식구가 여행을 다닌 적은 진짜 많아요 어 그래서 코로나 이전에는 년에 한 두 번 정도는 그 외국으로 여행 갔다 오고 왜냐면 국내보다 외국이 더 쌌잖아요 거의 그렇기도 하고 외국 나가는 거 좋아해서 여러 군데 갔다 오고 했는데 최근에는 그냥 너무 괜히 가가지고 제가 이제 놀다가 뭐 코로나라도 감염 시킬까 봐 거의 못 나가고 이제 저는 일 때문에 어쩔 수 없이 돌아다니는데 아이는 그냥 집에서 주로있으라고 하는 주의 그 이번 추석 때도 어디 좀 가볼까 했는데 또 괜히 또 어 감염이라도 되면은 큰일 나니까 그래서 지금 이러지도 저러지도 못하고 이 당장 인제 내일 모레 시작할 그 연휴를 어떻게 어 보낼지 고민이 많아요 그래서 호캉스라도 가려고 사람들이 다 그쪽으로 몰려서 좋은 데 그런 데는 예약이 꽉 차 있어요 그래서 어 저는 막 인천에 아라뱃길 그쪽에서 어 카약 그 무료 체험도 있고 재밌는 게 많다고 해서 그쪽에 있는 이제 좋은 호텔들 뭐 추천 받아서 찾아봤는데 거기 월 말까지 다 예약이 꽉 차 있고 거의 거의 어 없고 거기다 그다음에 수영장 패키지 같은 그런 거는 수영장은 또 더 위험하잖아요 그래서 어 그것도 못하겠고 그래서 지금 어떻게 할지 아이랑 뭔갈 하긴 해야 되는데 어 그래도 걱정이 되고 에버랜드 가는 거 좋아하거든요 근데 에버랜드 간다고 하니까 또 인제 인터넷상에서 에버랜드 너무 위험하다 다 모여든다 막 이래서 그것도 또 고민이 되고 어 어떻게 해야 될지 모르겠어요 그런데 씨는 그러면 추석 긴 추석 연휴 동안에 가족들하고 뭐 어떤 계획 짜놓은 거 있어요 어 말씀하신 대로 저 주 전에 그 에버랜드 갔다 왔거든요 지금이 사람이 가장 없어요 갔다 오셔도 돼요 갔더니 정말 옛날 주말 같았으면은 진짜 꽉 차 있을 곳이 사람들이 예전에 비해서 분의 정도밖에 없었어요 정말 한적했어요 음 이번에 추석은 조금 다를 수도 있는데 아마 추석 지나고 나서 주말에 시간 있을 때 에버랜드는 갔다 오셔도 될 거 같아요 사람이 생각하시는 것만큼 많지는 않으실 거예요 생각보다 괜찮았어요 저 사실은 그 호캉스 하겠다고 예약까지 다 해놨었는데 그거 사이트에 확인해보니까 전체 다 매진인 거예요 아 그냥 취소하자 하고 취소했거든요 그랬더니 호텔에서 고마워하시더라고요 취소해줬다고 저는 훨씬 전에 예약을 해가지고 조금 싼 가격에 해놓은 거였는데 제가 그거 결제했던 가격보다 한 원 이상이 더 붙었더라고요 그러니까 호텔로써는 이득이 되니까 고마워하시더라고요 원래 수영장 있는 방으로 해서 풀장 있는 걸로 해서 해놨었는데 겁 나서 못 가겠더라고요 사람들이 해외를 못 나가니까 국내에 있는 모든 호텔 아니면 제주도로 다 몰렸잖아요 제주도 항공권을 구할 수는 있겠는데 겁이 나서 못 가겠더라고요 사람들이 너무 많고 그렇다 보니까 올해는 그냥 음식 만들어서 우리 한강이나 가자 하고 있어요 한강에다가 텐트 여러 개 쳐놓고 그러고서는 하루 정도 놀자라고 얘기를 했거든요 가족끼리 그렇게라도 쪼끔 하든가 아니면은 집이 천호동이니까 저 정약용 있는 데가 있거든요 정약용 생가 있고 그쪽에 약간 공원처럼 잘 되어 있어서 그쪽으로 지금 여행을 여행 겸 산책을 갈까 생각 중입니다 ',\n       '선물에 대해서 이야기를 해 보겠습니다 선물 과 같은 존재 가 님한테 있다면 누가 있을까요 선물과 같은 존재 생각을 해 보면 가족들도 생각이 나지만 어 주변에 있으 친구들도 생각이 들어요 어렸을 적부터 항상 함께해 왔던 친구들이 생각이 나는데 어 초등학교 때부터 아니 유치원 때부터 알고 있었던 사이였어요 그래서 어 지금까지 만나도 아무런 문제가 없는 그 친구들이 저에겐 너무나도 선물 같은 존재고 왜 선물일까 라는 생각을 해 보면 선물을 받으면 기분이 좋거든요 저는 솔직하게 그냥 예상치 못했었던 거 예상되는 선물도 많고 진짜 예기치도 못하게 받는 선물도 있지만 어 공통점이 선물을 받으면 그래도 기분이 이전이 이전에 가지고 있었던 기분보다는 새로워진다라는 느낌을 많이 받거든요 서 친구들을 보면 음 오랜만에 만나도 어 다 새롭다 이런 느낌은 아니지만 그래도 과거의 그 좋았었던 추억의 향수를 생각해 줄 수 있는 친구들이어서 저에겐 그거 너무나도 선물 같아요 야며 그 친구들을 떠올리면 제가 행복했었던 기억들이 그 친구 입에서 나오든 제 입에서 나오든 그런 이야기가 오고 가고 하기 때문에 어 그런 것들 하나하나가 다 선물이 되는 거 같거든요 그래서 가지고 있었던 선물의 소중하게 생각하고 있었던 선물을 들쳐다 보는 것도 참 기분 좋은 일이라 생각이 되는데 그 친구들을 보면 어 선물을 받았을 때와 같은 그런 비슷한 느낌들이 많이 들어서 여러 가지로 어 선물 같은 존재 선물이 주는 느낌 을 생각해 보면 어 저의 친구들 이라는 생각이 많이 듭니다 그런 밤 그럼 우리 님은 어 선물과 같은 존재가 있다면 어 누가 있을까요 저도 먼저는 선물이 주는 느낌이 어떤 건지를 생각해 보면 저는 기쁘기도 하지만 먼저는 소중하다라는 생각을 먼저 떠올린 거 같습니다 그래서 정말로 선물을 받았을 때 뭔가 포장지도 뜯기 뭔가 싫은 그런 느낌이라 할까요 그런 소중함 그렇다면 이런 소중함을 주는 것은 무엇일까 그런 존재는 누구일까 생각해 보면 저도 친구인 거 같습니다 아주 어렸을 때부터 함께 해 온 어 년 지기 년 지기 이런 친구 저는 이제 성격이 또 많이 많은 사람과 어울리는 성격이 아니라서 친구가 별로 없습니다 그런데 한 친구를 사귀면 그 친구와는 정말로 깊게 깊게 사귀는 편이었어서 저에게도 그런 년 지기 친구가 있었음 그래서 어쩔 때는 나보다 나를 더 잘 알고 어떤 상황이 같이 놓여져 있을 때 내 눈짓만 봐도 내 자세만 봐도 내가 어떤 생각을 하고 있는지 그런 걸 공유할 수 있는 그런 친구가 있었습니다 너무나도 되돌아보면 되돌아볼수록 소중했고 그리고 한 달에 한 번씩은 대학 때까지 편지도 오랜만에 만남 편지를 써 오고 손편지를 써 오고 주고받고 그랬었던 친구가 있었습니다 정말 생각해 보면 그 존재 자체가 저한테 되게 소중했기 때문에 선물이었던 같습니다 근데 예를 들어서 음 아이패드를 선물로 받았다고 하면은 이런 동일한 기분은 들지 않겠지만 그래도 설레이고 소중할 거 같습니다 근데 그 아이 패드를 너무나도 소중하게 여겼던 그런 마음과는 상관없이 그 아이패드를 내 발등에 떨어트리면 제 발등이 아픈 건 맞거든요 그래서 음 소중한 것도 있지만 사람이라는 것은 아무리 선물 같은 존재여도 뭔가 배신하고 뭔가 내 마음을 그만큼 동일한 크기 소중했던 크기만큼 더 아프게도 할 수 있는 그런 존재구나 라는 것들을 느끼는 그런 일도 있었던 거 같습니다 그래서 주변에 선물과 같은 존재가 있는 것도 좋지만 그런 계기를 통해서 뭔가 사람에 대해서 완전히 믿고 신뢰하고 그렇게 어 할 수는 없는 거구나 라는 것을 좀 이 선물을 통해서도 깨달았던 거 같습니다 있고 님이 받았던 선물 중에서 가장 기분을 좋게 했던 그런 선물이 있다면 그런 건 어떤 것이 있을까요 단순하게 생각이 어 드는데 어 지금 이 질문을 받았을 때 떠오르는 것들 떠오르는 것은 음 어렸을 적 시골에서 살았을 때 에 어머니가 깨우더니 저기 문 앞으로 나가봐라 산타 할아버지가 너한테 선물 준 거 같더라 라는 얘기를 듣고 진짜로 그 추운데도 아무것도 안 일고 뛰어나가가지고 어 그 저희 집 대문 앞에 놓여져 있었던 그 로봇 장난감이 기억이 나요 그거를 보고 아직까지 그래도 그 선물을 받은 기억이 어 그래도 어머니와 아버지가 어 나를 신경을 써 줬구나라는 생각이 들 정도로 또 아직까지 생각이 날 정도로 어 기분이 좋았었던 선물이었던 거 같아요 그래서 누나가 그거를 보더니 나는 왜 저런 사이즈는 안 사주고 나는 소한 색연필을 사 줬냐 가라고 하면서 어 아버지어머니한테 이렇게 말을 했었던 것도 기억이 나는데 어 그냥 그게 어떤 것이 였든 간에 로봇이어서 기분이 좋았던 게 아니라 그냥 어 나를 위해서 그렇게 준비를 해 줬구나라는 생각이 드니까 이제 와서는 아 그것이 소중하구나라는 생각이 드는 거 같고 어 만약 그 로봇이 진짜로 소중하게 생각이 들었다면은 지금까지 있겠죠 근데 없거든요 근데 어 그것을 생각해 보면 기분이 참 좋고 지금은 어 어떤 선물을 받으면 좋아하냐면 단편적으로는 그냥 나이키 을 받으면 이상하게 기분이 좋아요 장갑을 받든 요즘은 어 그 메이커에서 주는 느낌 너무 속세적으로 보일 수 있겠지만 나이키에서 오는 매력을 이미 느껴버린 거 같아서 그냥 작은 것 만으로도 어 기분이 요즘 너무나도 그냥 좋은 거 같아서 눈이 가는 것도 다 나이킨 거 같고 입는 것도 다 그렇게 신경 쓰는 거 같고 그런 생각이 많이 듭니다 금 님한테 조금 생각이 나거나 또 기분이 좋았었던 선물은 또 뭐가 있었는지 궁금합니다 네 저는 음 두 가지 정도를 생각해 볼 수 있겠는데요 첫 번째는 아빠가 남겨 준 이게 뭐냐면 네 저희는 이제 친척들이랑 모임이 굉장히 잦습니다 이제 아버지가 농사를 짓다 보니까 그 일손들을 친척들이 많이 도와줘가지고 집에 모여서 진짜 상다리 부러지게 이렇게 해가지고 같이 밥 먹고 이런 문화가 있는데 그때 이제 뭐 멧돼지나 이런 고기 아니면 뭔가 흔치 않은 그런 고기들이 있으면 거기에서 그 자리에서 다 막 먹 지 않고 가장 맛있는 부위를 떼어서 김치냉장고에 딱 놓으시는 겁니다 아버지가 근데 저는 몰라요 그 자리에 없어서 워낙 바쁜 생활을 했었고 그러니까 집에 뭐 한 달에 한 번씩 몇 개월에 한 번씩 이렇게 갔었는데 그때마다 아버지가 걸 꺼내 오세요 그러면 어 맛있는 거네 하면서 저는 먹는데 이게 어떤 고기였는지는 저는 몰랐던 거죠 에 친척들 친척 언니들의 말을 이제 그 뒤에 들어보면 항상 삼촌이 이 오면 준다고 가장 맛있는 부위를 따로 챙겨 놓으신다는 겁니다 이거 다 먹어버리면은 우리 딸 삐진다고 이렇게 하면서 그래서 이제 일 도와준 친척들 앞에서 저한테 직접적으로 표현은 안 하시지만 그렇게 많이 생각을 해 주시는 편인 거 그래서 그런 걸 뒤에서 그런 아빠의 행동 마음 이런 것들 들었을 때 그럴 때 에 저한테 정말 어떤 물질적인 바 것을 받은 건 아니지만 되게 기분이 조안 던 그런 선물이었던 같습니다 그리 두 번째는 이제 아까 말씀드린 것처럼 제가 뭔가 생일 축하를 받거나 크리스마스를 챙기거나 이런 집이 아니어서 그래서 대학 때 생일 축하를 받는 거에 대한 의미를 처음 생각해 봐 봤어요 그 대학 때 동아리를 했었는데 그때 제가 이제 간호학과다 보니까 의대 치대 한의대 간호대만 들 수 있는 기독교 동아리가 있었는데 거기에 제가 들게 됐는데 이제 간호학관 별로 없었고 다 의대 언니오빠들이어서 또 이제 기독교 동아리다 보니까 분위기가 얼마나 사랑이 넘치겠어요 그 생일에 생일 선물을 받는 거를 안 해봤던 사람인데 기대도 안 했고 근데 그런 것들을 이제 오빠들이 챙겨주는 거 그냥 말 한마디라도 이 너 생일이라며 하면서 생일 선물 은 아니고 그냥 말 한마디라도 그렇게 해 주는 것이 저한테는 진짜 큰 의미였고 신기했고 뭔가 좋았던 경험이었던 거 같습니다 만약에 결혼을 하신다면 결혼선물로 어떤 걸 주고 싶은지 궁금합니다 바로 떠오르는 건 그 누나는 이쁜 걸 좋아해요 어 최근에 보니까 어 돈 좀 번다고 이젠 본인이 예전부터 사고 싶었던 거 가장 합리적이게 사는 신중한 누나 돈도 좋아하고 그렇지만 떠오르는 선물은 어렸을 때부터 누나랑 저는 서예를 했었어요 그래서 어 아직 제가 그 붓을 잡으면 어떤 글씨가 나올진 모르겠지만 독특하게 조금 줘 보면 어떻게 의미를 줄 수 있을까는 생각이 드는 게 그 서예로 붓을 잡아가지고 먹을 좀 직접 갈아가지고 거기다 글씨를 써서 편지를 주는 것도 참 펜으로 쓴 것보다 과거에같이 어 버스 타고 다니면서 혼나면서도 같이 대회에도 나가면서 같이 서예 썼었던 그 기억들이나 추억들을 공유하면서 그냥 가볍게 써 주는 편지 그리고 또 어 고맙고 뭐 사랑한다라는 말도 좀 사실은 해 본 적이 없어요 근데 누나 그런 느낌 든 적도 없지만 하지만 결혼하니까',\n       ...,\n       '그러면 본인 같은 경우는 저희가 조회를 해봤지만 동일 전과도 전혀 없으시고 신원도 확실하시고 별다른 혐의점이 크게 없으시기 때문에 유선상 연락을 드린 겁니다 일단 범죄 현장에서 본인 명의 통장이 발견이 됐기 때문에 본인께서 양도한 게 아니시란 걸 밝히기 위해서는 간단한 피해자 입증 조사를 받으셔야 되시고요 ',\n       '혹시 강아지 좋아하세요 네 강아지 매우 좋아합니다 강아지는 사람에게 이롭 기도 하고 좋은 영향을 많이 끼침으로 강아지를 좋아합니다 어떤 종류의 반려동물을 좋아하시나요 요크셔테리어하고 몰티즈 강아지를 좋아합니다 강아지 키워보신 적은 있나요 키워본 적은 없습니다 왜 그 요크셔테리어를 좋아하시나요 제가 중학교 때 강아지를 키워본 게 요크셔테리어라서 좋아하게 됐습니다 잘 따르기도 하고 고양이를 좋아하십니까 고양이는 별로 안 좋아합니다 고양이는 사람에게 사람을 깔보기도 하고 또 여러 가지 단점이 많기 때문에 고양이는 별로 안 좋아합니다 반려동물들이 많이 버려지고 있는데 그 점에 대해선 어떻게 생각하고 계십니까 참 안타깝고 불쌍하기도 하고 그런 거 보면은 화가 나기도 합니다 반대로 어떻게 생각하십니까 반려동물을 키우는 사람 그 주인으로서 그 반려동물의 일거수일투족을 잘 관찰해서 그 반려동물이 집 밖을 나가거나 하는 일이 없도록 잘 교육을 시키고 또 그 이웃들에게 피해 안 가게 잘하고 잃어버리면 안 된다고 생각됩니다 요크셔테리어 말고 다른 동물은 또 아 안 좋아하십니까 저는 몰티즈를 되게 좋아합니다 시츄도 좋아하고 강아지를 키워 본 적이 많습니다 저희 엄마도 좋아하기도 하고 강아지가 애교가 있잖아요 강아지를 좋아하게 된 이유가 뭐죠 강아지 랑 고양이랑은 의사소통이 반대기 때문에 강아지를 더 으 사람과 가까운 음 가족 같은 느낌으로 예 좋아합니다 다른 종류는 반려동물을 안 좋아하시나요 뭐 설치류 영장류 같은 저는 강아지도 좋아하고 새도 좋아하고 물고기에도 좋아합니다 앵무새도 좋아하는데 잘 키우기는 게 힘 들어가지고 눈으로만 보는 게 좋더라고요 혹시 동물농장 보셨나요 동물놀장 가끔 봅디다 그 아까 새 도아하신다고 하셨었는데 새 종류도 조류 종류도 키워보신 적이 있나요 네 잉꼬 키웠었는데 저희 엄마가 새를 분양해가지고 근데 새가 얼마 못 살고 죽었어요 세상을 떠났어요 햄스터도 키워봤떴는데 햄스터도 오래 못 살더라고요 자기 새끼도 잡아먹기도 하고 어미가 징그럽더라고요 햄스터 키워보셨나요 예 키워봤었습니다 햄스터 그 한 세 마린가 있었었는데 그 한 마리를 잡아먹더라고요 징그러워가지고 더 키우다가 버렸습니다 산에다가 어 물고기도 키워보시고 거북이 그 키워보셨어요 네 키워본 적 있었는데 아주 어릴 때라서 기 기억이 잘 안 납니다 고양이를 싫어하게 된 이유 지금 물어봐도 될까요 고양이는 왜 싫어하시죠 제가 고양이 보면은 거 겁이 있고 어릴 때 트라우마가 남아가지고 고양이 보면은 어 피하게 되더라고요 만지지도 못하고 고양이한테 다가가면은 위협적일 거 같아서 피하게 됐습니다 고양이에 대해서 어떻게 생각하시는지 고양이 그게 썩 좋아하지 않지마는 강아지 다음으로 좋아합니다 어 고양이한테 뭐 피해를 입어보신 적 있으셨으 딱히 그런 적은 없는데 제가 초등학교 때 길 가다가 죽은 고양이를 봐가지고 너무 무서웠어요 그 고양이에 대한 저 안 좋은 추억이 있어가지고 그 잊어버리려고 해도 쉽게 되지 않더라고요 그러니까 가장 좋아하는 동물이 있으신가요 저는 다람쥐도 좋아하고 뭐 날다람쥐도 좋아하고 다람쥘 직접 키워본 적은 없는데 키우는 사람을 직접 본 적이 있어가지고 다람쥐가 이제 쳇바퀴도 돌리고 그때 도토리도 까먹고 귀엽더라고요 다람쥐 키워본 적 있으세요 아니요 제 아 아는 친구가 고슴도치를 되게 좋아하더라고요 고슴도치를 분양받아가지고 키운다고 하더라고요 그거를 인스타그램에도 올린 적도 있었고 페이스북에 올린 적도 있다고 하더라고요 고슴도치 귀엽지 않으세요 예 고슴도치 귀엽죠 고슴도치 그 가시가 많이 위험하긴 한데 그 기르면은 되게 재밌을 거 같 아요 고슴도치 키워보고 싶으신가요 아니요 그 돈도 많이 들고 치워야 되고 귀찮기도 하고 청소를 해야 되잖아요 키우려면은 돈이 많이 지 들어가지고 생각을 조금 해 봐야 될 거 같아요 어 어질러 놓기도 할 거 같아서 그러면은 동물농장 싯 본 적 있으세요 예 본 적 있습니다 동물농장 보면은 하마 도 나오고 그 게 자주 평소에 접해보지 못한 동물들을 많이 볼 수 있어서 잼 있는 거 같습니다 동물농장 동물농장에서 본 동물 중에 어떤 동물이 제일 기억에 남으세요 저는 그 고영욱이 키웠던 그 강아지 여러 마리 키운 거 그거 엄청 많잖아요 키 키우기가 쉽지도 않고 씻기는 것도 어렵고 그거가 가장 기억에 남았어요 여러 마리 강아지를 키운다는 게 쉽지 않더라고요 만약에 여러 만지 강아지를 키운다면은 키우실 수 있으신가요 어 여러 마리라면은 키우기 힘들 거 같습니다 강아지들끼리 또 서로 물고 뜯고 싸우기도 하고 그서 그러면 여러 마리 어떤 거를 주로 키워보시고 싶으세요 저는 코커 스패니얼도 키워보고 싶고 말티즈 작은 강아지 새끼 강아지도 한번 키워보고 싶고 강아지 산책시키는 것도 한번 해보고 싶기도 해요 요즘 귀여운 강아지들이 많잖아요 그 바 분양해서 키울 생각이 있어요 베란다가 워낙 넓어가지고 강아지들하고 사진 찍고 싶어요 호시 사진 찍는 거 좋아하세요 애완견하고 뭐 저는 애완동물을 반려동물을 키워 본 적이 없어서 강아지과 고양잇과를 키워 본 적이 따로 없어서 그 같이 사진 찍는 거 조금 별로 글면 어렸을 때 강아지한테 물렸 다고 그런 적이 있었는데 그때는 상황 좀 얘기 좀 해주실래요 그때 강아지한테 시골 개한테 물려가지고 갑자기 강아지가 저한테 와가지고 턱을 물려가지고 제 프 병원 가서 크게 수술 받아가지고 그 뒤로 강아지는 못 만지고 그냥 보기만 했었어요 시골 개한테 갑자기 물려가지고 어릴 때느 기억이 안 나네요 강아지한테 물리면 어떻게 대처를 하실 건지 어 강아지 한테 물리게 되면은 싸우게 되면은 그 강아지 일단 눈을 마주쳐서 강아지가 사람 그 시선을 회피하게 한 다음에 그 강아지로부터 좀 거리를 두고 도 도망을 쳐야 된다고 생각을 하고 있습니다 그 강아지한테 물린 기억이 있었는데 그 그래도 강아지를 여전히 좋아하시나요 예 저는 강아지를 좋아하고 산책하는 거 보면은 한번 키워보고 싶단 생각이 드는데 경제적인 어려움이 있어가지고 미루고 있었어요 취업 준비도 해야 되고 그래가지고 그때쯤 여유 되면은 강아지 키울 생각이 입니다 물고기 같은 것도 키워 본 적 없나요 물고기는 키워 본 적이 많이 있죠 많이 있습니다 근데 그 물고기 그 밥 제때제때 챙겨주는 거하고 그 물 갈아줘야 되는 거하고 좀 여러 가지 번거로운 게 많이 있고 그 물고기만 또 키우면 재미가 없으니깐 그 수중 이게 에서 생활하는 그 물고기아라고 그렇게 상관이 그게 지장이 없는 그런 뭐 곤충이라든가 뭐 벌레들을 같이 키우는 것 뭐 우렁 우럭 같은 그 족 그 조개 새우 같은 그런 뭐 같이 키운 것도 좋다고 생각이 듭니다 그 물고기는 어느 정도 키워보셨나요 기간 그 기간은 짧았어요 그 죽은 물고기들이 워낙 많아가지고 버리 기도 하고 묻어두기도 하고 너무 안타깝더라고요 얘네들 보면은 다시는 물고기 안 키우기로 했었어요 그냥 추억이죠 다 가족 중에 혹시 동물 좋아하는 분도 계시나요 아이 저희 어머님은 강아지 알레르기가 있으셔서 강아지 털 싫어하시고요 그 이제 집 안에서 뭐 길러본다든가 이런 적이 이제 제한적이 돼 있어서 제한적으로만 키워 본 게 전부입니다 다른 가족들은 동물 기르는 거에 대해서 어떻게 생각을 하세요 저희 이모도 강아지 기르고 저희 엄마도 강아질 좋아해가지고 강아지 알레르기는 없고 고양이보다 강아지를 많이 좋아하시더라고요 저희 이모도 강아지 막 사진도 올리기도 하고 카톡에다가 강아지랑 산책하기도 하고 가족 중에 강아지 알레르기 있는 사람은 없는 거 같습니다 어머님은 왜 강아지 알레르기가 있나요 뭐 저도 잘 모르겠지마는 어머니가 강아지 알레르기가 있으신 편이라서 근데 강아지를 이제 막상 키우게 되면은 대변부터 이제 또 산책시키는 거부터 또 목줄이랑 또 여러 가지 강아지 성향에 따라서 사람을 잘 따르는 강아지면 상관이 없는데 사람을 약간 경계하고 이런 강아지들이 있으면은 조금 이게 강아지한테 그 투자하는 그 시간이 조금 자기 개인적인 시간이 없어 지는 거 같기도 해가지고 이제 추천 드리고 싶지는 않 습니다 그 앞으로는 이제 강아지 키울 계획이 있으신거예요 네 만약에 여유가 되면은 넓은 집에 이사를 해가지고 강아지를 키우면서 강아지를 키우면 주인을 지켜준다는 그런 생각이 들더라고요 그래서 꼭 키워보고 싶어요 강아지 산책시키는 거 본 적 있나요 주변 사람들 공원 갈 때 어 제 지인들도 이제 몇 명 강아지를 키우고 또 강아지를 이제 그 거의 다 기르는 사람들이 조금 많은 편이라서 그 많이 들었긴 했었고 이제 산책 같은 거 공원 나가거나 이럴 때 또 보긴 보는데 강아지 산책시키는 것도 조금 인제 강아지한테 질질 끌려가면 안 되고 이제 목줄 잡아 당기면서 강아질 잘 다루고 그 강아지에 관한 거 조금 더 해박하게 알고 싶으면은 그 티브이에 강형욱 선생님 나오니까 그 게 잘 보고 배워서 기르면 될 거 같습니다 ',\n       '어 지금 까지 내가 받았거나 아니면 다른 사람한테 선 줬거나 뭐 그러니까 선물을 많이 주고받았을 거 같은데 가장 기억에 남는 선물이 있다면 아 소개 좀 부탁드리겠습니다 제가 어 배우를 좋아하는 배우가 있는데 굉장히 좋아해요 박영수 배우라고 아시겠지만 그래서 조공이라고 표현을 하잖아요 배우님들께 선물을 드리는 거 그래서 그거를 많이 좀 즐겨하는 편이에요 네 제가 사진 찍는 것도 좋아해서 이번에 디에스엘알 장비도 뭐 렌즈도 다시 바꾸기도 했고 했지만 그래서 배우님 사진을 찍어서 나눔을 하거나 배우님께 드리거나 거기에 사인을 받거나 이제 그렇게 하는 것들을 조금 많이 했는데 그래서 배우님께 제가 한 번 엽서를 만들어서 고르시라고 갖고 싶은 걸 고르시라고 이렇게 몇 장을 펼쳐서 드린 적이 있어요 단순한 당연히 배우님이 제일 잘 나온 사진을 고르실 줄 알고 있었는데 제가 고양이를 키우잖아요 근데 거기서 그사이에 고양 제가 가지려고 했던 고양이 엽서가 제 아이를 찍은 엽서가 껴 있었던 거예요 근데 배우님이 그거를 그러니까 쓱 가져가시는 거예요 제가 원한 건 그건 아니었는데 근데 너무 귀엽다면서 가지고 가셔서 제가 그때 한바탕 제 고양이 이름이 다미거든요 다미 자랑을 조금 하면서 고양이 그리고 남은 엽서도 다 같이 챙겨서 그냥 가져가시라고 다 드렸던 적이 있는데 그게 지금 제일 기억에 남고 그때 받는 당사자가 되게 개구진 표정으로 그 엽서를 가지고 갔을 때 그 표정이 아직도 기억에 생생해 남아있어요 근데 하필 그때 저는 이제 주는 사람이었으니까 사진을 못 찍었다는 거 그 표정을 사진을 못 찍었다는 게 너무 아쉽기도 하고 제일 기억에 남는 선물이기도 하고 제가 만들어서 제가 제작을 해 가지고 드린 거기 때문에 아마 제일 지금까지 기억에 남는 선물이 아니었을까 싶어요 이제 저한테 그러니까 저한테는 그게 제일 뜻깊었는데 선생님께서는 뭐 마찬가지로 뭐 선물 하실 기회도 많으셨을 거고 뭐 하셨을 텐데 마찬가지로 제일 기억에 남는 선물 뭐가 있으세요 네 그 이제 선물이라는 것이 그러니까 그 말씀해 주신 것도 그렇고 이게 참 상대를 생각하면서 상대를 위해서 준비하는 걸로 상대를 생각하면서 시작하는게 선물인데 결국은 내가 행복해지는 게 선물이 아닌가 라는 생각을 지금 선생님 말씀하시는 걸 들으면서 그런 생각이 들어서 조금 마음이 뭉클 해지는 거 같고요 아 그리고 네 인상 깊었던 내지는 기억에 남는 선물이 되게 많다고 생각했는데 지금 또 질문을 하시니까 갑자기 떠오르는 선물이 음 이게 어릴 때 받았던 선물이 지금 기억이 하나 나는 게 있어요 어 제가 중학교 입학할 때 아빠가 그 컴퓨터를 선물을 해 주셨어요 아 근데 그때 당시만 해도 컴퓨터는 어 지금은 뭐 아이패드부터 해서 쪼그만 아이들도 다 가지고 있는 그런 전자기기가 됐지만 그때 당시에는 뭐 학교에 컴퓨터실 에만 있고 그래서 특별한 시간에 조금 특별한 공간에서만 사용할 수 있는 거였는데 아빠가 컴퓨터를 선물해 주셔가지고 일단 제 기 기억 속에 가장 강렬하게 남아있고 어 근데 또 한 가지 이유는 음 그게 아빠가 저한테 주신 마지막 선물이 되셨거든요 예 아 이런 얘기까지는 할 거는 아니었는데 아무튼 예 그랬고 제가 어렸을 때부터 컴퓨터를 너무 좋아해가지고 그러니까 그 컴퓨터 선물 사주세요 라고 제가 얘기를 한 번도 안 했는데 이제 그 선물을 해 주셔서 음 그리고 지금도 어 저는 제가 하는 일이 이 컴퓨터랑 관련된 아이티랑 관련된 일이었는데 그때 만약에 아빠가 그 컴퓨터를 선물해 주시지 않으셨으면 저의 이제 진로나 뭐 가졌던 꿈이 예 다른 그러니까 이쪽으로는 연결되지는 않았을 거 같다라는 생각이 들기도 하고 음 아무튼 예 그 선물로 인해서 예 제가 지금 하고 있는 이런 아이티 쪽 관련된 일들도 더 재밌게 할 수 있게 됐고 또 열 음 열심히 할 수 있게 됐고 예 그 좋은 계기가 됐던 거 같아요 그래서 그게 조금 가장 기억에 남는 선물이 된 거 같고요 그리고 최근에는 네 저도 마찬가지로 좋아하는 그 뮤지컬 배우님이 있는데 어 예 그 그러니까 저도 손으로 제가 뭔가를 만들어서 내지는 정성을 많이 들여서 예 꾸민 그런 것들을 드리는 것이 아무래도 조금 기억에 많이 남고 왜냐면 그런 준비하는 과정 자체에서도 마음이 굉장히 기쁘고 또 상대를 계속 생각하게 되고 뭐 이런 것들이 음 이렇게 그 마음을 조금 말랑말랑하게 해 주는 그런 것들이 있는 거 같아요 그래서 그런 선물들이 조금 마음에 남고 또 뭐 물질적인 거는 아니지만 이렇게 조금 편지를 써서 예 마음에 있는 말을 조금 쏟아내서 예 이렇게 편지 써서 드리는 것도 좀 제가 그러니까 그 상대방한테 주었던 선물 중에서는 편지가 조금 기억에 많이 남는 거 같고요 예 그런 거 같습니다 아 그러면 음 선생님께서는 혹시 어 받고 싶은 선물이 있다면 무엇이 있을까요 받고 싶은 선물이면은 대상에 따라서 좀 다르긴 한대요 지금 우선은 제 딸한테는 어 이제 곧 미성년자에서 벗어나는데 첫 월급 받으면 뭐 선물 받는다고 하잖아요 생각을 해놨어요 디에스엘알 업그레이드해서 받겠다고 선언을 해 놓은 상태거든요 좀 비싸잖아요 그래서 지금 많이 아르바이트를 그 친구가 좀 빡세게 아니 많이 힘들게 하게 되겠지만 저는 이제 선언을 했으니까 그거를 받고 싶어요 지금 그 그 친구에게는 그리고 어 그리고 제가 아까 박영수 배우님 좋아한다고 말씀드렸는데 배우님께도 받고 싶은 게 있었어요 근데 이번 생일에 받았어요 그러니까 어쩌다 보니 생일에 이제 그 공연이 있으셔가지고 제가 공연을 보러 갔지만 그 공연이 너무 좋았고 너무 날 행복하게 해 주는 거 가 있어서 이제 그분이 의도하진 않았지만 나한테는 그게 생일 선물이었고 그리고 나중에 공연이 끝나고 그 만나는 자리에서 짧지만 저한테 생일 축하 노래를 해 주셨어요 완전 부끄럽기도 했고 그렇지마는 너무 노래를 잘하시는 분이 빠르게 노래를 해 주셔가지고 너무 즐거웠고 행복했던 선물인 거 같은데 내년 생일에도 그분의 공연이 있었으면 좋겠고 또 똑같이 코로나가 조금 잠잠해져서 또 그 만나는 자리에서 또 생일 선물로 노래 한 소절 받고 싶은 게 지금은 이제 그분께는 제일 큰 선물이고요 선물을 받고 싶은 거고 부모님한테는 현금입니다 음 현금을 받고 싶어요 현금을 잘 안 주셔가지고 현금을 받고 싶어요 그래서 그렇게 우선은 대상 세 명에게 이제는 리스트가 되어있는 상태입니다 음 글면 선생님께서는 그 선물을 만 만드시거나 그런 것들도 있으셨나요 아니 뭔 뭐 선물을 하기 위해서 뭘 배우셨다든가 뭐 그랬던 것이 있는지 조금 궁금해요 그쵸 그러니까 많은 시간을 들여서 정성을 들여서 준비를 하려면 예 뭔가를 이렇게 시간도 필요하고 예 또 새로운 거라든지 필요한 것들을 배워야 하는 경우도 있는 거 같아요 저도 물론 그런 경험들이 있는데 음 저는 이상하게 어떤 경우에는 제가 직접 그린 그림을 선물을 하고 싶다는 생각을많이 하고 있어서 사실 그림을 그려서 선물을 한다는 거가 생각보다 쉽지는 않고 어떻게 보면은 조금 작은 용기가 필요한 부분이기도 한 거 같아요 예 그래서 그 그 뭐 고백 아닌 고백을 하자면 저도 제가 좋아하는 뮤지컬 배우님한테 그분의 그분이 무대에서 굉장히 멋지게 공연을 하시는 그 장면을 그려서 선물을 정말 하고 싶다라는 생각을 많이 해서 예 사실은 예 조금 옛날부터 지금 준비를 하고 있는데 이게 조금 습작들은 많이 나왔는데 이게 마음에 드는 또는 마음에 들어하실 거 같은 그런 조금 분위기나 뭐 그 퀄리티 이런 것들이 좀 그 기대에 미치지 못해서 아직 선물을 드리지는 못하고 있는데 뭐 그래서 계속 막 그 보내지 못하는 선물이 지금 보내지 못하는 그림들이 쌓이고 있어요 사실은 그래서 일단 그림을 조금 잘 그려서 잘 잘 그린다라는 그 기준이나 조건이 사람마다 다 다를 수 있 있어서 뭐 어떤 기술적인 그런 것보다는 저는 그냥 제가 느끼기에 이게 이상하게 그림도 그렇고 사진도 마찬가지인 거 같아요 그 대상에 대해서 애정을 가지고 마음을 가지고 그 그리는 경우나 찍는 경우에는 그게 실제로 그 사진이나 그림을 보는 사람들한테 전달이 되고 느껴지는 거 같아요 그래서 어느 정도 그런 느낌이 좋은 상태로 제가 선물을 하고 싶어서 더 열심히 배우고 있고 습작도 하고 있고 예 준비를 하고 있는 상황인데 일단 디데이가 있어야지 이게 또 마무리가 되기 때문에 네 이 생일 선물 프로젝트가지금 계속 진행 중에 있고 계속 인제 매년 그 엔딩을 그러니까 그 종료를 하지 못하고 연기 연기되고 있는데 어 올해는 부디 꼭 예 마무리를 해서 선물을 드리고 싶어요 그래서 지금 제가 예 그림을 그리고 있는 이 생활에 굉장히 에너지가 더 쏟 에너지를 더 쏟을 수 있는 그런 계기도 되는 거 같고 하여튼 뭔가 장기 로 선물을 준비하고 있는 상황이라고 얘기를 드릴 수가 있겠습니다 아 그러면 선생님께서는 음 그 사진을 좋아하시고 찍는 것도 좋아하시고 또 선생님과 관련돼서 뭔가를 만들어서 어 다른 누군가한테 이렇게 주는 것도 굉장히 좋아하시는 거 같은데 음 이게 저도 뭐 사진을 찍 잘 찍는 사람은 아니지만 이게 보통 어떻게 아 이 장면 정말 사진으로 남기고 싶다 뭐 이런 생각이 드는 경우가 간혹 생기더라고요 그래서 주로 그러면 평소에 어떤 대상을 봤을 때 뭐 어떤 장면을 봤을 때 정말 잘 찍어서 기록으로 남기고 싶다라는 생각이 드시는지 그리고 어 주로 어떤 것들에 어 카메라 앵글을 잡으시는지 궁금합니다 어 저는 우선은 카메라 앵글은 제가 좋아하는 배우님을 향하고요 그래서 인물 쪽으로 조금 사진 찍는 거를 공부를 좀 하기는 했어요 기초반이기는 했지만 그렇게 해서 했는데 역시 실력은 잘 늘지는 않고 수만 장 진짜 수십만 장 찍어봐야 진짜로 한 몇 장 건질 수 있을까 말까 한 사진들을 이렇게 하는데 그게 그 수만 장을 찍어서 셀렉 하고 뭐 포토샵을 해서 예쁘게 만들어서 하는 것들이 그 시간이 아까운 줄은 모르겠어요 막 이렇게 시간 오래 걸리거든요 굉장히 근데 그때는 에너지가 엄청나게 솟아나서 막 수백 장 수천 장을 보는데 막 질리지가 않는 그런 팬심이라고 하죠 그래서 인제 그렇게 인물 앵글을 많이 잡고 있고요 그 잘 나온 사진들은 솔직히 저만 보고 싶 지는 않고 다른 사람들에게도 아 내가 이렇게 좋아하는 사 사람이 이렇게 이렇게 멋있는 모습이 있다라는 거를 보여주고 싶어서 인화를 하거나 아니면은 액자를 만들거나 또 연말에는 달력을 만들어서 나눠주기도 하고 선물로 드리기도 하고 그리고 이벤트처럼 뭐 선착순이라든가 아니면 뭐 에스엔에스에 올려서 어떤 추첨기를 돌린다든가 해서 그렇게 해서 당첨 선물 이렇게 해가지고 주는 경우도 있었어요 그래서 그런 게 하나의 이벤트처럼 연중행사로 조금 즐겁게 하는 부분이 있고요 지금 조금 요즘에 제일 많이 찍는 거는 이제는 무대가 끝나면 이제 커튼콜이라고 해서 배우들이 나와서 한 소절을 즐겁게 부르고 또 이제 그 장면 시연을 쪼금씩 하면서 사진을 찍을 수 있는 시간을 주는데 그 때의 사진들을 지금은 많이 찍고 즐겁게 더 잘하고 있는 거 같아요 '],\n      dtype=object)"
     },
     "execution_count": 33,
     "metadata": {},
     "output_type": "execute_result"
    }
   ],
   "source": [
    "X_train"
   ],
   "metadata": {
    "collapsed": false,
    "ExecuteTime": {
     "end_time": "2023-12-08T06:00:02.688457800Z",
     "start_time": "2023-12-08T06:00:02.654382400Z"
    }
   },
   "id": "244d99dbb5717e76"
  },
  {
   "cell_type": "code",
   "execution_count": 34,
   "outputs": [
    {
     "data": {
      "text/plain": "<Figure size 640x480 with 1 Axes>",
      "image/png": "[encoded data removed]"
     },
     "metadata": {},
     "output_type": "display_data"
    },
    {
     "data": {
      "text/plain": "<Figure size 640x480 with 1 Axes>",
      "image/png": "[encoded data removed]"
     },
     "metadata": {},
     "output_type": "display_data"
    }
   ],
   "source": [
    "# plot the class distribution of train and validation set\n",
    "plot_class_distribution(pd.DataFrame(y_train, columns=['label']), 'Train Dataset Class Distribution')\n",
    "plot_class_distribution(pd.DataFrame(y_test, columns=['label']), 'Validation Dataset Class Distribution')"
   ],
   "metadata": {
    "collapsed": false,
    "ExecuteTime": {
     "end_time": "2023-12-08T06:00:02.868221800Z",
     "start_time": "2023-12-08T06:00:02.660896400Z"
    }
   },
   "id": "851b194636cefccf"
  },
  {
   "cell_type": "markdown",
   "source": [
    "### Tokenization & Input Formatting Method 2\n"
   ],
   "metadata": {
    "collapsed": false
   },
   "id": "97dff07481c71c0e"
  },
  {
   "cell_type": "code",
   "execution_count": 38,
   "outputs": [],
   "source": [
    "# Define hyperparameters\n",
    "model_name = \"monologg/kobert\"\n",
    "batch_size = 16 # 32, 64, 128\n",
    "epochs = 1\n",
    "# Lower learning rates are often better for fine-tuning transformers\n",
    "learning_rate = 3e-5    #2e-5, 5e-5, 4e-5\n",
    "weight_decay_rate=0.01"
   ],
   "metadata": {
    "collapsed": false,
    "ExecuteTime": {
     "end_time": "2023-12-08T06:01:01.223470300Z",
     "start_time": "2023-12-08T06:01:01.186470500Z"
    }
   },
   "id": "15fb4443b2c68286"
  },
  {
   "cell_type": "code",
   "execution_count": 39,
   "outputs": [],
   "source": [
    "# Load KoBERT tokenizer\n",
    "tokenizer = AutoTokenizer.from_pretrained(model_name)"
   ],
   "metadata": {
    "collapsed": false,
    "ExecuteTime": {
     "end_time": "2023-12-08T06:01:01.707653100Z",
     "start_time": "2023-12-08T06:01:01.458406800Z"
    }
   },
   "id": "8354a304b104dee"
  },
  {
   "cell_type": "markdown",
   "source": [
    "#### Tokenize dataset NEW method (BARD)"
   ],
   "metadata": {
    "collapsed": false
   },
   "id": "f85cf4773380283f"
  },
  {
   "cell_type": "code",
   "execution_count": 40,
   "outputs": [
    {
     "name": "stderr",
     "output_type": "stream",
     "text": [
      "2023-12-08 15:01:03.294526: I tensorflow/compiler/xla/stream_executor/cuda/cuda_gpu_executor.cc:967] could not open file to read NUMA node: /sys/bus/pci/devices/0000:01:00.0/numa_node\n",
      "Your kernel may have been built without NUMA support.\n",
      "2023-12-08 15:01:03.294638: I tensorflow/compiler/xla/stream_executor/cuda/cuda_gpu_executor.cc:967] could not open file to read NUMA node: /sys/bus/pci/devices/0000:01:00.0/numa_node\n",
      "Your kernel may have been built without NUMA support.\n",
      "2023-12-08 15:01:03.294659: I tensorflow/compiler/xla/stream_executor/cuda/cuda_gpu_executor.cc:967] could not open file to read NUMA node: /sys/bus/pci/devices/0000:01:00.0/numa_node\n",
      "Your kernel may have been built without NUMA support.\n",
      "2023-12-08 15:01:03.294838: I tensorflow/compiler/xla/stream_executor/cuda/cuda_gpu_executor.cc:967] could not open file to read NUMA node: /sys/bus/pci/devices/0000:01:00.0/numa_node\n",
      "Your kernel may have been built without NUMA support.\n",
      "2023-12-08 15:01:03.294846: I tensorflow/core/common_runtime/gpu/gpu_device.cc:1700] Could not identify NUMA node of platform GPU id 0, defaulting to 0.  Your kernel may not have been built with NUMA support.\n",
      "2023-12-08 15:01:03.294869: I tensorflow/compiler/xla/stream_executor/cuda/cuda_gpu_executor.cc:967] could not open file to read NUMA node: /sys/bus/pci/devices/0000:01:00.0/numa_node\n",
      "Your kernel may have been built without NUMA support.\n",
      "2023-12-08 15:01:03.294885: I tensorflow/core/common_runtime/gpu/gpu_device.cc:1613] Created device /job:localhost/replica:0/task:0/device:GPU:0 with 5503 MB memory:  -> device: 0, name: NVIDIA GeForce RTX 3050, pci bus id: 0000:01:00.0, compute capability: 8.6\n"
     ]
    }
   ],
   "source": [
    "# Preprocess training data\n",
    "X_train_list = X_train.tolist()\n",
    "train_inputs = tokenizer(X_train_list, padding=\"max_length\", truncation=True, return_tensors=\"tf\")"
   ],
   "metadata": {
    "collapsed": false,
    "ExecuteTime": {
     "end_time": "2023-12-08T06:01:03.453977700Z",
     "start_time": "2023-12-08T06:01:02.083474800Z"
    }
   },
   "id": "cb0334e452a41ea"
  },
  {
   "cell_type": "code",
   "execution_count": 41,
   "outputs": [],
   "source": [
    "# Convert training labels to one-hot encoding\n",
    "train_labels = to_categorical(y_train)"
   ],
   "metadata": {
    "collapsed": false,
    "ExecuteTime": {
     "end_time": "2023-12-08T06:01:03.464988300Z",
     "start_time": "2023-12-08T06:01:03.444465800Z"
    }
   },
   "id": "84c1d5d52f6e3563"
  },
  {
   "cell_type": "code",
   "execution_count": 42,
   "outputs": [],
   "source": [
    "# Create TF training dataset\n",
    "train_dataset = tf.data.Dataset.from_tensor_slices((train_inputs[\"input_ids\"], train_labels)).batch(batch_size)"
   ],
   "metadata": {
    "collapsed": false,
    "ExecuteTime": {
     "end_time": "2023-12-08T06:01:03.732284600Z",
     "start_time": "2023-12-08T06:01:03.453977700Z"
    }
   },
   "id": "9cfdab769a86e27d"
  },
  {
   "cell_type": "code",
   "execution_count": 43,
   "outputs": [],
   "source": [
    "# Preprocess test data\n",
    "X_test_list = X_train.tolist()\n",
    "test_inputs = tokenizer(X_test_list, padding=\"max_length\", truncation=True, return_tensors=\"tf\")"
   ],
   "metadata": {
    "collapsed": false,
    "ExecuteTime": {
     "end_time": "2023-12-08T06:01:05.014521900Z",
     "start_time": "2023-12-08T06:01:03.741069200Z"
    }
   },
   "id": "db4d21cdd6e696cc"
  },
  {
   "cell_type": "code",
   "execution_count": 44,
   "outputs": [],
   "source": [
    "# Convert test labels to one-hot encoding\n",
    "test_labels = to_categorical(y_test)"
   ],
   "metadata": {
    "collapsed": false,
    "ExecuteTime": {
     "end_time": "2023-12-08T06:01:05.024037500Z",
     "start_time": "2023-12-08T06:01:05.014521900Z"
    }
   },
   "id": "f256318aa6826e5f"
  },
  {
   "cell_type": "markdown",
   "source": [
    "#### Training the KoBERT model"
   ],
   "metadata": {
    "collapsed": false
   },
   "id": "b30f6a4bc3a51479"
  },
  {
   "cell_type": "code",
   "execution_count": 45,
   "outputs": [],
   "source": [
    "# Define optimizer, loss function, and metrics\n",
    "optimizer = AdamWeightDecay(learning_rate=learning_rate)      # No loss argument!\n",
    "# optimizer1 = AdamW(learning_rate=learning_rate)\n",
    "optimizer2 = Adam(learning_rate)  # No loss argument!\n",
    "\n",
    "loss_fn = SparseCategoricalCrossentropy(from_logits=True)\n",
    "\n",
    "metrics = tf.keras.metrics.SparseCategoricalAccuracy()"
   ],
   "metadata": {
    "collapsed": false,
    "ExecuteTime": {
     "end_time": "2023-12-08T06:01:05.046418600Z",
     "start_time": "2023-12-08T06:01:05.018036500Z"
    }
   },
   "id": "925671ce80dd55a0"
  },
  {
   "cell_type": "code",
   "execution_count": 46,
   "outputs": [],
   "source": [
    "# from tensorflow.python.keras.callbacks import EarlyStopping, ModelCheckpoint\n",
    "\n",
    "# Define callbacks\n",
    "# early_stopping = EarlyStopping(monitor=\"val_loss\", patience=3)\n",
    "# model_checkpoint = ModelCheckpoint(\"best_model.hdf5\", monitor=\"val_accuracy\", save_best_only=True)"
   ],
   "metadata": {
    "collapsed": false,
    "ExecuteTime": {
     "end_time": "2023-12-08T06:01:05.446344100Z",
     "start_time": "2023-12-08T06:01:05.397346600Z"
    }
   },
   "id": "3faadf1b045a64c9"
  },
  {
   "cell_type": "code",
   "execution_count": 47,
   "outputs": [
    {
     "name": "stderr",
     "output_type": "stream",
     "text": [
      "2023-12-08 15:01:10.011640: I tensorflow/compiler/xla/stream_executor/cuda/cuda_blas.cc:630] TensorFloat-32 will be used for the matrix multiplication. This will only be logged once.\n",
      "All PyTorch model weights were used when initializing TFBertForSequenceClassification.\n",
      "\n",
      "Some weights or buffers of the TF 2.0 model TFBertForSequenceClassification were not initialized from the PyTorch model and are newly initialized: ['classifier.weight', 'classifier.bias']\n",
      "You should probably TRAIN this model on a down-stream task to be able to use it for predictions and inference.\n"
     ]
    }
   ],
   "source": [
    "# Load pretrained KoBERT model\n",
    "model = TFBertForSequenceClassification.from_pretrained(model_name, num_labels=2, from_pt=True)"
   ],
   "metadata": {
    "collapsed": false,
    "ExecuteTime": {
     "end_time": "2023-12-08T06:01:11.250409200Z",
     "start_time": "2023-12-08T06:01:05.846502500Z"
    }
   },
   "id": "73fb1d913cab5f28"
  },
  {
   "cell_type": "code",
   "execution_count": 48,
   "outputs": [
    {
     "name": "stderr",
     "output_type": "stream",
     "text": [
      "No loss specified in compile() - the model's internal loss computation will be used as the loss. Don't panic - this is a common way to train TensorFlow models in Transformers! To disable this behaviour please pass a loss argument, or explicitly pass `loss=None` if you do not want your model to compute a loss.\n"
     ]
    }
   ],
   "source": [
    "# Fine-tune the model\n",
    "model.compile(optimizer=optimizer)"
   ],
   "metadata": {
    "collapsed": false,
    "ExecuteTime": {
     "end_time": "2023-12-08T06:01:11.275931700Z",
     "start_time": "2023-12-08T06:01:11.250409200Z"
    }
   },
   "id": "63649fcb65267f2"
  },
  {
   "cell_type": "code",
   "execution_count": 49,
   "outputs": [],
   "source": [
    "# get the model details\n",
    "# get_model_details(model)"
   ],
   "metadata": {
    "collapsed": false,
    "ExecuteTime": {
     "end_time": "2023-12-08T06:01:11.276925300Z",
     "start_time": "2023-12-08T06:01:11.262409100Z"
    }
   },
   "id": "ca1cb7d53176fa30"
  },
  {
   "cell_type": "code",
   "execution_count": 50,
   "outputs": [],
   "source": [
    "# get the model settings and parameters\n",
    "# get_model_settings(model)"
   ],
   "metadata": {
    "collapsed": false,
    "ExecuteTime": {
     "end_time": "2023-12-08T06:01:11.276925300Z",
     "start_time": "2023-12-08T06:01:11.266927700Z"
    }
   },
   "id": "eb46dcaf9eb73e59"
  },
  {
   "cell_type": "code",
   "execution_count": 51,
   "outputs": [
    {
     "name": "stderr",
     "output_type": "stream",
     "text": [
      "2023-12-08 15:01:32.429786: W tensorflow/tsl/framework/bfc_allocator.cc:479] Allocator (GPU_0_bfc) ran out of memory trying to allocate 96.00MiB (rounded to 100663296)requested by op tf_bert_for_sequence_classification/bert/encoder/layer_._3/intermediate/Gelu/mul_1\n",
      "If the cause is memory fragmentation maybe the environment variable 'TF_GPU_ALLOCATOR=cuda_malloc_async' will improve the situation. \n",
      "Current allocation summary follows.\n",
      "Current allocation summary follows.\n",
      "2023-12-08 15:01:32.429891: I tensorflow/tsl/framework/bfc_allocator.cc:1034] BFCAllocator dump for GPU_0_bfc\n",
      "2023-12-08 15:01:32.429905: I tensorflow/tsl/framework/bfc_allocator.cc:1041] Bin (256): \tTotal Chunks: 97, Chunks in use: 95. 24.2KiB allocated for chunks. 23.8KiB in use in bin. 677B client-requested in use in bin.\n",
      "2023-12-08 15:01:32.429911: I tensorflow/tsl/framework/bfc_allocator.cc:1041] Bin (512): \tTotal Chunks: 0, Chunks in use: 0. 0B allocated for chunks. 0B in use in bin. 0B client-requested in use in bin.\n",
      "2023-12-08 15:01:32.429915: I tensorflow/tsl/framework/bfc_allocator.cc:1041] Bin (1024): \tTotal Chunks: 2, Chunks in use: 2. 3.0KiB allocated for chunks. 3.0KiB in use in bin. 2.3KiB client-requested in use in bin.\n",
      "2023-12-08 15:01:32.429920: I tensorflow/tsl/framework/bfc_allocator.cc:1041] Bin (2048): \tTotal Chunks: 333, Chunks in use: 333. 998.0KiB allocated for chunks. 998.0KiB in use in bin. 998.0KiB client-requested in use in bin.\n",
      "2023-12-08 15:01:32.429924: I tensorflow/tsl/framework/bfc_allocator.cc:1041] Bin (4096): \tTotal Chunks: 8, Chunks in use: 7. 45.5KiB allocated for chunks. 40.5KiB in use in bin. 39.0KiB client-requested in use in bin.\n",
      "2023-12-08 15:01:32.429929: I tensorflow/tsl/framework/bfc_allocator.cc:1041] Bin (8192): \tTotal Chunks: 34, Chunks in use: 34. 414.0KiB allocated for chunks. 414.0KiB in use in bin. 408.0KiB client-requested in use in bin.\n",
      "2023-12-08 15:01:32.429933: I tensorflow/tsl/framework/bfc_allocator.cc:1041] Bin (16384): \tTotal Chunks: 3, Chunks in use: 3. 63.0KiB allocated for chunks. 63.0KiB in use in bin. 42.3KiB client-requested in use in bin.\n",
      "2023-12-08 15:01:32.429937: I tensorflow/tsl/framework/bfc_allocator.cc:1041] Bin (32768): \tTotal Chunks: 19, Chunks in use: 19. 608.0KiB allocated for chunks. 608.0KiB in use in bin. 608.0KiB client-requested in use in bin.\n",
      "2023-12-08 15:01:32.429941: I tensorflow/tsl/framework/bfc_allocator.cc:1041] Bin (65536): \tTotal Chunks: 0, Chunks in use: 0. 0B allocated for chunks. 0B in use in bin. 0B client-requested in use in bin.\n",
      "2023-12-08 15:01:32.429944: I tensorflow/tsl/framework/bfc_allocator.cc:1041] Bin (131072): \tTotal Chunks: 0, Chunks in use: 0. 0B allocated for chunks. 0B in use in bin. 0B client-requested in use in bin.\n",
      "2023-12-08 15:01:32.429947: I tensorflow/tsl/framework/bfc_allocator.cc:1041] Bin (262144): \tTotal Chunks: 0, Chunks in use: 0. 0B allocated for chunks. 0B in use in bin. 0B client-requested in use in bin.\n",
      "2023-12-08 15:01:32.429950: I tensorflow/tsl/framework/bfc_allocator.cc:1041] Bin (524288): \tTotal Chunks: 0, Chunks in use: 0. 0B allocated for chunks. 0B in use in bin. 0B client-requested in use in bin.\n",
      "2023-12-08 15:01:32.429954: I tensorflow/tsl/framework/bfc_allocator.cc:1041] Bin (1048576): \tTotal Chunks: 3, Chunks in use: 2. 4.81MiB allocated for chunks. 3.00MiB in use in bin. 3.00MiB client-requested in use in bin.\n",
      "2023-12-08 15:01:32.429959: I tensorflow/tsl/framework/bfc_allocator.cc:1041] Bin (2097152): \tTotal Chunks: 146, Chunks in use: 146. 328.50MiB allocated for chunks. 328.50MiB in use in bin. 327.75MiB client-requested in use in bin.\n",
      "2023-12-08 15:01:32.429963: I tensorflow/tsl/framework/bfc_allocator.cc:1041] Bin (4194304): \tTotal Chunks: 10, Chunks in use: 10. 56.43MiB allocated for chunks. 56.43MiB in use in bin. 52.50MiB client-requested in use in bin.\n",
      "2023-12-08 15:01:32.429967: I tensorflow/tsl/framework/bfc_allocator.cc:1041] Bin (8388608): \tTotal Chunks: 72, Chunks in use: 72. 660.19MiB allocated for chunks. 660.19MiB in use in bin. 648.00MiB client-requested in use in bin.\n",
      "2023-12-08 15:01:32.429971: I tensorflow/tsl/framework/bfc_allocator.cc:1041] Bin (16777216): \tTotal Chunks: 40, Chunks in use: 39. 959.29MiB allocated for chunks. 935.29MiB in use in bin. 934.33MiB client-requested in use in bin.\n",
      "2023-12-08 15:01:32.429976: I tensorflow/tsl/framework/bfc_allocator.cc:1041] Bin (33554432): \tTotal Chunks: 8, Chunks in use: 8. 343.31MiB allocated for chunks. 343.31MiB in use in bin. 288.00MiB client-requested in use in bin.\n",
      "2023-12-08 15:01:32.429979: I tensorflow/tsl/framework/bfc_allocator.cc:1041] Bin (67108864): \tTotal Chunks: 15, Chunks in use: 14. 1.40GiB allocated for chunks. 1.31GiB in use in bin. 1.31GiB client-requested in use in bin.\n",
      "2023-12-08 15:01:32.429984: I tensorflow/tsl/framework/bfc_allocator.cc:1041] Bin (134217728): \tTotal Chunks: 9, Chunks in use: 9. 1.67GiB allocated for chunks. 1.67GiB in use in bin. 1.59GiB client-requested in use in bin.\n",
      "2023-12-08 15:01:32.429987: I tensorflow/tsl/framework/bfc_allocator.cc:1041] Bin (268435456): \tTotal Chunks: 0, Chunks in use: 0. 0B allocated for chunks. 0B in use in bin. 0B client-requested in use in bin.\n",
      "2023-12-08 15:01:32.429992: I tensorflow/tsl/framework/bfc_allocator.cc:1057] Bin for 96.00MiB was 64.00MiB, Chunk State: \n",
      "2023-12-08 15:01:32.430001: I tensorflow/tsl/framework/bfc_allocator.cc:1063]   Size: 90.00MiB | Requested Size: 0B | in_use: 0 | bin_num: 18, prev:   Size: 24.00MiB | Requested Size: 24.00MiB | in_use: 1 | bin_num: -1, next:   Size: 48.00MiB | Requested Size: 48.00MiB | in_use: 1 | bin_num: -1\n",
      "2023-12-08 15:01:32.430004: I tensorflow/tsl/framework/bfc_allocator.cc:1070] Next region of size 5770313728\n",
      "2023-12-08 15:01:32.430010: I tensorflow/tsl/framework/bfc_allocator.cc:1090] InUse at 50f600000 of size 1280 next 1\n",
      "2023-12-08 15:01:32.430013: I tensorflow/tsl/framework/bfc_allocator.cc:1090] InUse at 50f600500 of size 18944 next 2\n",
      "2023-12-08 15:01:32.430015: I tensorflow/tsl/framework/bfc_allocator.cc:1090] InUse at 50f604f00 of size 256 next 3\n",
      "2023-12-08 15:01:32.430018: I tensorflow/tsl/framework/bfc_allocator.cc:1090] InUse at 50f605000 of size 256 next 4\n",
      "2023-12-08 15:01:32.430021: I tensorflow/tsl/framework/bfc_allocator.cc:1090] InUse at 50f605100 of size 256 next 5\n",
      "2023-12-08 15:01:32.430023: I tensorflow/tsl/framework/bfc_allocator.cc:1090] InUse at 50f605200 of size 256 next 6\n",
      "2023-12-08 15:01:32.430026: I tensorflow/tsl/framework/bfc_allocator.cc:1090] InUse at 50f605300 of size 256 next 7\n",
      "2023-12-08 15:01:32.430029: I tensorflow/tsl/framework/bfc_allocator.cc:1090] InUse at 50f605400 of size 256 next 8\n",
      "2023-12-08 15:01:32.430031: I tensorflow/tsl/framework/bfc_allocator.cc:1090] InUse at 50f605500 of size 256 next 9\n",
      "2023-12-08 15:01:32.430034: I tensorflow/tsl/framework/bfc_allocator.cc:1090] InUse at 50f605600 of size 256 next 10\n",
      "2023-12-08 15:01:32.430037: I tensorflow/tsl/framework/bfc_allocator.cc:1090] InUse at 50f605700 of size 256 next 11\n",
      "2023-12-08 15:01:32.430039: I tensorflow/tsl/framework/bfc_allocator.cc:1090] InUse at 50f605800 of size 256 next 13\n",
      "2023-12-08 15:01:32.430042: I tensorflow/tsl/framework/bfc_allocator.cc:1090] InUse at 50f605900 of size 256 next 12\n",
      "2023-12-08 15:01:32.430044: I tensorflow/tsl/framework/bfc_allocator.cc:1090] InUse at 50f605a00 of size 256 next 22\n",
      "2023-12-08 15:01:32.430047: I tensorflow/tsl/framework/bfc_allocator.cc:1090] InUse at 50f605b00 of size 256 next 26\n",
      "2023-12-08 15:01:32.430050: I tensorflow/tsl/framework/bfc_allocator.cc:1090] InUse at 50f605c00 of size 3072 next 27\n",
      "2023-12-08 15:01:32.430053: I tensorflow/tsl/framework/bfc_allocator.cc:1090] InUse at 50f606800 of size 3072 next 28\n",
      "2023-12-08 15:01:32.430056: I tensorflow/tsl/framework/bfc_allocator.cc:1090] InUse at 50f607400 of size 256 next 21\n",
      "2023-12-08 15:01:32.430058: I tensorflow/tsl/framework/bfc_allocator.cc:1090] InUse at 50f607500 of size 256 next 30\n",
      "2023-12-08 15:01:32.430061: I tensorflow/tsl/framework/bfc_allocator.cc:1090] InUse at 50f607600 of size 256 next 31\n",
      "2023-12-08 15:01:32.430064: I tensorflow/tsl/framework/bfc_allocator.cc:1090] InUse at 50f607700 of size 256 next 23\n",
      "2023-12-08 15:01:32.430066: I tensorflow/tsl/framework/bfc_allocator.cc:1090] InUse at 50f607800 of size 4608 next 17\n",
      "2023-12-08 15:01:32.430070: I tensorflow/tsl/framework/bfc_allocator.cc:1090] InUse at 50f608a00 of size 3072 next 220\n",
      "2023-12-08 15:01:32.430073: I tensorflow/tsl/framework/bfc_allocator.cc:1090] InUse at 50f609600 of size 3072 next 18\n",
      "2023-12-08 15:01:32.430076: I tensorflow/tsl/framework/bfc_allocator.cc:1090] InUse at 50f60a200 of size 3072 next 36\n",
      "2023-12-08 15:01:32.430079: I tensorflow/tsl/framework/bfc_allocator.cc:1090] InUse at 50f60ae00 of size 3072 next 39\n",
      "2023-12-08 15:01:32.430081: I tensorflow/tsl/framework/bfc_allocator.cc:1090] InUse at 50f60ba00 of size 3072 next 62\n",
      "2023-12-08 15:01:32.430084: I tensorflow/tsl/framework/bfc_allocator.cc:1090] InUse at 50f60c600 of size 3072 next 49\n",
      "2023-12-08 15:01:32.430086: I tensorflow/tsl/framework/bfc_allocator.cc:1090] InUse at 50f60d200 of size 3072 next 64\n",
      "2023-12-08 15:01:32.430089: I tensorflow/tsl/framework/bfc_allocator.cc:1090] InUse at 50f60de00 of size 3072 next 43\n",
      "2023-12-08 15:01:32.430092: I tensorflow/tsl/framework/bfc_allocator.cc:1090] InUse at 50f60ea00 of size 256 next 46\n",
      "2023-12-08 15:01:32.430094: I tensorflow/tsl/framework/bfc_allocator.cc:1090] InUse at 50f60eb00 of size 256 next 48\n",
      "2023-12-08 15:01:32.430099: I tensorflow/tsl/framework/bfc_allocator.cc:1090] InUse at 50f60ec00 of size 3072 next 51\n",
      "2023-12-08 15:01:32.430101: I tensorflow/tsl/framework/bfc_allocator.cc:1090] InUse at 50f60f800 of size 3072 next 57\n",
      "2023-12-08 15:01:32.430104: I tensorflow/tsl/framework/bfc_allocator.cc:1090] InUse at 50f610400 of size 3072 next 68\n",
      "2023-12-08 15:01:32.430107: I tensorflow/tsl/framework/bfc_allocator.cc:1090] InUse at 50f611000 of size 3072 next 93\n",
      "2023-12-08 15:01:32.430109: I tensorflow/tsl/framework/bfc_allocator.cc:1090] InUse at 50f611c00 of size 3072 next 96\n",
      "2023-12-08 15:01:32.430112: I tensorflow/tsl/framework/bfc_allocator.cc:1090] InUse at 50f612800 of size 3072 next 127\n",
      "2023-12-08 15:01:32.430115: I tensorflow/tsl/framework/bfc_allocator.cc:1090] InUse at 50f613400 of size 3072 next 146\n",
      "2023-12-08 15:01:32.430117: I tensorflow/tsl/framework/bfc_allocator.cc:1090] InUse at 50f614000 of size 3072 next 167\n",
      "2023-12-08 15:01:32.430120: I tensorflow/tsl/framework/bfc_allocator.cc:1090] InUse at 50f614c00 of size 3072 next 173\n",
      "2023-12-08 15:01:32.430123: I tensorflow/tsl/framework/bfc_allocator.cc:1090] InUse at 50f615800 of size 3072 next 162\n",
      "2023-12-08 15:01:32.430125: I tensorflow/tsl/framework/bfc_allocator.cc:1090] InUse at 50f616400 of size 3072 next 174\n",
      "2023-12-08 15:01:32.430128: I tensorflow/tsl/framework/bfc_allocator.cc:1090] InUse at 50f617000 of size 3072 next 171\n",
      "2023-12-08 15:01:32.430131: I tensorflow/tsl/framework/bfc_allocator.cc:1090] InUse at 50f617c00 of size 3072 next 179\n",
      "2023-12-08 15:01:32.430134: I tensorflow/tsl/framework/bfc_allocator.cc:1090] InUse at 50f618800 of size 3072 next 42\n",
      "2023-12-08 15:01:32.430136: I tensorflow/tsl/framework/bfc_allocator.cc:1090] InUse at 50f619400 of size 3072 next 16\n",
      "2023-12-08 15:01:32.430139: I tensorflow/tsl/framework/bfc_allocator.cc:1090] InUse at 50f61a000 of size 3072 next 221\n",
      "2023-12-08 15:01:32.430142: I tensorflow/tsl/framework/bfc_allocator.cc:1090] InUse at 50f61ac00 of size 256 next 137\n",
      "2023-12-08 15:01:32.430144: I tensorflow/tsl/framework/bfc_allocator.cc:1090] InUse at 50f61ad00 of size 256 next 56\n",
      "2023-12-08 15:01:32.430147: I tensorflow/tsl/framework/bfc_allocator.cc:1090] InUse at 50f61ae00 of size 256 next 238\n",
      "2023-12-08 15:01:32.430150: I tensorflow/tsl/framework/bfc_allocator.cc:1090] InUse at 50f61af00 of size 256 next 240\n",
      "2023-12-08 15:01:32.430152: I tensorflow/tsl/framework/bfc_allocator.cc:1090] InUse at 50f61b000 of size 256 next 29\n",
      "2023-12-08 15:01:32.430155: I tensorflow/tsl/framework/bfc_allocator.cc:1090] InUse at 50f61b100 of size 256 next 241\n",
      "2023-12-08 15:01:32.430157: I tensorflow/tsl/framework/bfc_allocator.cc:1090] InUse at 50f61b200 of size 256 next 24\n",
      "2023-12-08 15:01:32.430160: I tensorflow/tsl/framework/bfc_allocator.cc:1090] InUse at 50f61b300 of size 256 next 103\n",
      "2023-12-08 15:01:32.430163: I tensorflow/tsl/framework/bfc_allocator.cc:1090] InUse at 50f61b400 of size 256 next 65\n",
      "2023-12-08 15:01:32.430165: I tensorflow/tsl/framework/bfc_allocator.cc:1090] InUse at 50f61b500 of size 256 next 432\n",
      "2023-12-08 15:01:32.430168: I tensorflow/tsl/framework/bfc_allocator.cc:1090] InUse at 50f61b600 of size 256 next 633\n",
      "2023-12-08 15:01:32.430170: I tensorflow/tsl/framework/bfc_allocator.cc:1090] InUse at 50f61b700 of size 256 next 231\n",
      "2023-12-08 15:01:32.430173: I tensorflow/tsl/framework/bfc_allocator.cc:1090] InUse at 50f61b800 of size 6144 next 235\n",
      "2023-12-08 15:01:32.430176: I tensorflow/tsl/framework/bfc_allocator.cc:1090] InUse at 50f61d000 of size 3072 next 50\n",
      "2023-12-08 15:01:32.430178: I tensorflow/tsl/framework/bfc_allocator.cc:1090] InUse at 50f61dc00 of size 3072 next 44\n",
      "2023-12-08 15:01:32.430181: I tensorflow/tsl/framework/bfc_allocator.cc:1090] InUse at 50f61e800 of size 3072 next 229\n",
      "2023-12-08 15:01:32.430184: I tensorflow/tsl/framework/bfc_allocator.cc:1090] InUse at 50f61f400 of size 6144 next 234\n",
      "2023-12-08 15:01:32.430186: I tensorflow/tsl/framework/bfc_allocator.cc:1090] InUse at 50f620c00 of size 21504 next 45\n",
      "2023-12-08 15:01:32.430190: I tensorflow/tsl/framework/bfc_allocator.cc:1090] InUse at 50f626000 of size 3072 next 53\n",
      "2023-12-08 15:01:32.430192: I tensorflow/tsl/framework/bfc_allocator.cc:1090] InUse at 50f626c00 of size 3072 next 54\n",
      "2023-12-08 15:01:32.430195: I tensorflow/tsl/framework/bfc_allocator.cc:1090] InUse at 50f627800 of size 3072 next 97\n",
      "2023-12-08 15:01:32.430198: I tensorflow/tsl/framework/bfc_allocator.cc:1090] InUse at 50f628400 of size 3072 next 92\n",
      "2023-12-08 15:01:32.430201: I tensorflow/tsl/framework/bfc_allocator.cc:1090] InUse at 50f629000 of size 3072 next 81\n",
      "2023-12-08 15:01:32.430203: I tensorflow/tsl/framework/bfc_allocator.cc:1090] InUse at 50f629c00 of size 3072 next 105\n",
      "2023-12-08 15:01:32.430206: I tensorflow/tsl/framework/bfc_allocator.cc:1090] InUse at 50f62a800 of size 3072 next 111\n",
      "2023-12-08 15:01:32.430209: I tensorflow/tsl/framework/bfc_allocator.cc:1090] InUse at 50f62b400 of size 15360 next 106\n",
      "2023-12-08 15:01:32.430212: I tensorflow/tsl/framework/bfc_allocator.cc:1090] InUse at 50f62f000 of size 3072 next 33\n",
      "2023-12-08 15:01:32.430214: I tensorflow/tsl/framework/bfc_allocator.cc:1090] InUse at 50f62fc00 of size 3072 next 113\n",
      "2023-12-08 15:01:32.430217: I tensorflow/tsl/framework/bfc_allocator.cc:1090] InUse at 50f630800 of size 3072 next 110\n",
      "2023-12-08 15:01:32.430220: I tensorflow/tsl/framework/bfc_allocator.cc:1090] InUse at 50f631400 of size 3072 next 119\n",
      "2023-12-08 15:01:32.430223: I tensorflow/tsl/framework/bfc_allocator.cc:1090] InUse at 50f632000 of size 3072 next 121\n",
      "2023-12-08 15:01:32.430225: I tensorflow/tsl/framework/bfc_allocator.cc:1090] InUse at 50f632c00 of size 3072 next 108\n",
      "2023-12-08 15:01:32.430228: I tensorflow/tsl/framework/bfc_allocator.cc:1090] InUse at 50f633800 of size 3072 next 109\n",
      "2023-12-08 15:01:32.430231: I tensorflow/tsl/framework/bfc_allocator.cc:1090] InUse at 50f634400 of size 3072 next 122\n",
      "2023-12-08 15:01:32.430234: I tensorflow/tsl/framework/bfc_allocator.cc:1090] InUse at 50f635000 of size 3072 next 124\n",
      "2023-12-08 15:01:32.430236: I tensorflow/tsl/framework/bfc_allocator.cc:1090] InUse at 50f635c00 of size 3072 next 128\n",
      "2023-12-08 15:01:32.430239: I tensorflow/tsl/framework/bfc_allocator.cc:1090] InUse at 50f636800 of size 3072 next 130\n",
      "2023-12-08 15:01:32.430241: I tensorflow/tsl/framework/bfc_allocator.cc:1090] InUse at 50f637400 of size 3072 next 100\n",
      "2023-12-08 15:01:32.430244: I tensorflow/tsl/framework/bfc_allocator.cc:1090] InUse at 50f638000 of size 3072 next 101\n",
      "2023-12-08 15:01:32.430247: I tensorflow/tsl/framework/bfc_allocator.cc:1090] InUse at 50f638c00 of size 3072 next 134\n",
      "2023-12-08 15:01:32.430249: I tensorflow/tsl/framework/bfc_allocator.cc:1090] InUse at 50f639800 of size 3072 next 133\n",
      "2023-12-08 15:01:32.430252: I tensorflow/tsl/framework/bfc_allocator.cc:1090] InUse at 50f63a400 of size 3072 next 140\n",
      "2023-12-08 15:01:32.430255: I tensorflow/tsl/framework/bfc_allocator.cc:1090] InUse at 50f63b000 of size 3072 next 131\n",
      "2023-12-08 15:01:32.430258: I tensorflow/tsl/framework/bfc_allocator.cc:1090] InUse at 50f63bc00 of size 3072 next 144\n",
      "2023-12-08 15:01:32.430261: I tensorflow/tsl/framework/bfc_allocator.cc:1090] InUse at 50f63c800 of size 12288 next 143\n",
      "2023-12-08 15:01:32.430263: I tensorflow/tsl/framework/bfc_allocator.cc:1090] InUse at 50f63f800 of size 3072 next 147\n",
      "2023-12-08 15:01:32.430266: I tensorflow/tsl/framework/bfc_allocator.cc:1090] InUse at 50f640400 of size 24064 next 32\n",
      "2023-12-08 15:01:32.430269: I tensorflow/tsl/framework/bfc_allocator.cc:1090] InUse at 50f646200 of size 12288 next 58\n",
      "2023-12-08 15:01:32.430271: I tensorflow/tsl/framework/bfc_allocator.cc:1090] InUse at 50f649200 of size 3072 next 72\n",
      "2023-12-08 15:01:32.430274: I tensorflow/tsl/framework/bfc_allocator.cc:1090] InUse at 50f649e00 of size 4537344 next 90\n",
      "2023-12-08 15:01:32.430277: I tensorflow/tsl/framework/bfc_allocator.cc:1090] InUse at 50fa9da00 of size 3072 next 76\n",
      "2023-12-08 15:01:32.430280: I tensorflow/tsl/framework/bfc_allocator.cc:1090] InUse at 50fa9e600 of size 3072 next 77\n",
      "2023-12-08 15:01:32.430283: I tensorflow/tsl/framework/bfc_allocator.cc:1090] InUse at 50fa9f200 of size 3072 next 88\n",
      "2023-12-08 15:01:32.430286: I tensorflow/tsl/framework/bfc_allocator.cc:1090] InUse at 50fa9fe00 of size 3072 next 94\n",
      "2023-12-08 15:01:32.430288: I tensorflow/tsl/framework/bfc_allocator.cc:1090] InUse at 50faa0a00 of size 3072 next 59\n",
      "2023-12-08 15:01:32.430291: I tensorflow/tsl/framework/bfc_allocator.cc:1090] InUse at 50faa1600 of size 3072 next 70\n",
      "2023-12-08 15:01:32.430294: I tensorflow/tsl/framework/bfc_allocator.cc:1090] InUse at 50faa2200 of size 3072 next 95\n",
      "2023-12-08 15:01:32.430296: I tensorflow/tsl/framework/bfc_allocator.cc:1090] InUse at 50faa2e00 of size 3072 next 141\n",
      "2023-12-08 15:01:32.430299: I tensorflow/tsl/framework/bfc_allocator.cc:1090] InUse at 50faa3a00 of size 3072 next 148\n",
      "2023-12-08 15:01:32.430302: I tensorflow/tsl/framework/bfc_allocator.cc:1090] InUse at 50faa4600 of size 3072 next 125\n",
      "2023-12-08 15:01:32.430304: I tensorflow/tsl/framework/bfc_allocator.cc:1090] InUse at 50faa5200 of size 3072 next 160\n",
      "2023-12-08 15:01:32.430307: I tensorflow/tsl/framework/bfc_allocator.cc:1090] InUse at 50faa5e00 of size 3072 next 159\n",
      "2023-12-08 15:01:32.430309: I tensorflow/tsl/framework/bfc_allocator.cc:1090] InUse at 50faa6a00 of size 3072 next 153\n",
      "2023-12-08 15:01:32.430312: I tensorflow/tsl/framework/bfc_allocator.cc:1090] InUse at 50faa7600 of size 3072 next 161\n",
      "2023-12-08 15:01:32.430315: I tensorflow/tsl/framework/bfc_allocator.cc:1090] InUse at 50faa8200 of size 3072 next 158\n",
      "2023-12-08 15:01:32.430317: I tensorflow/tsl/framework/bfc_allocator.cc:1090] InUse at 50faa8e00 of size 3072 next 164\n",
      "2023-12-08 15:01:32.430320: I tensorflow/tsl/framework/bfc_allocator.cc:1090] InUse at 50faa9a00 of size 3072 next 169\n",
      "2023-12-08 15:01:32.430323: I tensorflow/tsl/framework/bfc_allocator.cc:1090] InUse at 50faaa600 of size 3072 next 155\n",
      "2023-12-08 15:01:32.430325: I tensorflow/tsl/framework/bfc_allocator.cc:1090] InUse at 50faab200 of size 12288 next 145\n",
      "2023-12-08 15:01:32.430328: I tensorflow/tsl/framework/bfc_allocator.cc:1090] InUse at 50faae200 of size 3072 next 151\n",
      "2023-12-08 15:01:32.430330: I tensorflow/tsl/framework/bfc_allocator.cc:1090] InUse at 50faaee00 of size 3072 next 152\n",
      "2023-12-08 15:01:32.430333: I tensorflow/tsl/framework/bfc_allocator.cc:1090] InUse at 50faafa00 of size 3072 next 225\n",
      "2023-12-08 15:01:32.430336: I tensorflow/tsl/framework/bfc_allocator.cc:1090] InUse at 50fab0600 of size 3072 next 226\n",
      "2023-12-08 15:01:32.430339: I tensorflow/tsl/framework/bfc_allocator.cc:1090] InUse at 50fab1200 of size 256 next 701\n",
      "2023-12-08 15:01:32.430341: I tensorflow/tsl/framework/bfc_allocator.cc:1090] InUse at 50fab1300 of size 256 next 702\n",
      "2023-12-08 15:01:32.430344: I tensorflow/tsl/framework/bfc_allocator.cc:1090] InUse at 50fab1400 of size 256 next 714\n",
      "2023-12-08 15:01:32.430347: I tensorflow/tsl/framework/bfc_allocator.cc:1090] InUse at 50fab1500 of size 256 next 715\n",
      "2023-12-08 15:01:32.430349: I tensorflow/tsl/framework/bfc_allocator.cc:1090] InUse at 50fab1600 of size 256 next 725\n",
      "2023-12-08 15:01:32.430352: I tensorflow/tsl/framework/bfc_allocator.cc:1090] InUse at 50fab1700 of size 256 next 726\n",
      "2023-12-08 15:01:32.430354: I tensorflow/tsl/framework/bfc_allocator.cc:1090] InUse at 50fab1800 of size 256 next 741\n",
      "2023-12-08 15:01:32.430357: I tensorflow/tsl/framework/bfc_allocator.cc:1090] InUse at 50fab1900 of size 256 next 742\n",
      "2023-12-08 15:01:32.430360: I tensorflow/tsl/framework/bfc_allocator.cc:1090] InUse at 50fab1a00 of size 256 next 752\n",
      "2023-12-08 15:01:32.430362: I tensorflow/tsl/framework/bfc_allocator.cc:1090] InUse at 50fab1b00 of size 256 next 753\n",
      "2023-12-08 15:01:32.430365: I tensorflow/tsl/framework/bfc_allocator.cc:1090] InUse at 50fab1c00 of size 256 next 768\n",
      "2023-12-08 15:01:32.430368: I tensorflow/tsl/framework/bfc_allocator.cc:1090] InUse at 50fab1d00 of size 256 next 769\n",
      "2023-12-08 15:01:32.430370: I tensorflow/tsl/framework/bfc_allocator.cc:1090] InUse at 50fab1e00 of size 256 next 779\n",
      "2023-12-08 15:01:32.430374: I tensorflow/tsl/framework/bfc_allocator.cc:1090] InUse at 50fab1f00 of size 256 next 780\n",
      "2023-12-08 15:01:32.430377: I tensorflow/tsl/framework/bfc_allocator.cc:1090] Free  at 50fab2000 of size 256 next 795\n",
      "2023-12-08 15:01:32.430379: I tensorflow/tsl/framework/bfc_allocator.cc:1090] InUse at 50fab2100 of size 256 next 796\n",
      "2023-12-08 15:01:32.430382: I tensorflow/tsl/framework/bfc_allocator.cc:1090] Free  at 50fab2200 of size 5120 next 230\n",
      "2023-12-08 15:01:32.430385: I tensorflow/tsl/framework/bfc_allocator.cc:1090] InUse at 50fab3600 of size 3072 next 73\n",
      "2023-12-08 15:01:32.430387: I tensorflow/tsl/framework/bfc_allocator.cc:1090] InUse at 50fab4200 of size 3072 next 79\n",
      "2023-12-08 15:01:32.430390: I tensorflow/tsl/framework/bfc_allocator.cc:1090] InUse at 50fab4e00 of size 12288 next 80\n",
      "2023-12-08 15:01:32.430393: I tensorflow/tsl/framework/bfc_allocator.cc:1090] InUse at 50fab7e00 of size 3072 next 78\n",
      "2023-12-08 15:01:32.430395: I tensorflow/tsl/framework/bfc_allocator.cc:1090] InUse at 50fab8a00 of size 3072 next 74\n",
      "2023-12-08 15:01:32.430398: I tensorflow/tsl/framework/bfc_allocator.cc:1090] InUse at 50fab9600 of size 3072 next 83\n",
      "2023-12-08 15:01:32.430400: I tensorflow/tsl/framework/bfc_allocator.cc:1090] InUse at 50faba200 of size 3072 next 52\n",
      "2023-12-08 15:01:32.430403: I tensorflow/tsl/framework/bfc_allocator.cc:1090] InUse at 50fabae00 of size 12288 next 91\n",
      "2023-12-08 15:01:32.430406: I tensorflow/tsl/framework/bfc_allocator.cc:1090] InUse at 50fabde00 of size 12288 next 19\n",
      "2023-12-08 15:01:32.430409: I tensorflow/tsl/framework/bfc_allocator.cc:1090] InUse at 50fac0e00 of size 3072 next 177\n",
      "2023-12-08 15:01:32.430411: I tensorflow/tsl/framework/bfc_allocator.cc:1090] InUse at 50fac1a00 of size 3072 next 175\n",
      "2023-12-08 15:01:32.430414: I tensorflow/tsl/framework/bfc_allocator.cc:1090] InUse at 50fac2600 of size 3072 next 184\n",
      "2023-12-08 15:01:32.430417: I tensorflow/tsl/framework/bfc_allocator.cc:1090] InUse at 50fac3200 of size 3072 next 185\n",
      "2023-12-08 15:01:32.430419: I tensorflow/tsl/framework/bfc_allocator.cc:1090] InUse at 50fac3e00 of size 3072 next 191\n",
      "2023-12-08 15:01:32.430422: I tensorflow/tsl/framework/bfc_allocator.cc:1090] InUse at 50fac4a00 of size 12288 next 192\n",
      "2023-12-08 15:01:32.430425: I tensorflow/tsl/framework/bfc_allocator.cc:1090] InUse at 50fac7a00 of size 3072 next 186\n",
      "2023-12-08 15:01:32.430427: I tensorflow/tsl/framework/bfc_allocator.cc:1090] InUse at 50fac8600 of size 3072 next 193\n",
      "2023-12-08 15:01:32.430430: I tensorflow/tsl/framework/bfc_allocator.cc:1090] InUse at 50fac9200 of size 3072 next 190\n",
      "2023-12-08 15:01:32.430433: I tensorflow/tsl/framework/bfc_allocator.cc:1090] InUse at 50fac9e00 of size 3072 next 196\n",
      "2023-12-08 15:01:32.430436: I tensorflow/tsl/framework/bfc_allocator.cc:1090] InUse at 50facaa00 of size 3072 next 201\n",
      "2023-12-08 15:01:32.430438: I tensorflow/tsl/framework/bfc_allocator.cc:1090] InUse at 50facb600 of size 3072 next 188\n",
      "2023-12-08 15:01:32.430441: I tensorflow/tsl/framework/bfc_allocator.cc:1090] InUse at 50facc200 of size 3072 next 194\n",
      "2023-12-08 15:01:32.430444: I tensorflow/tsl/framework/bfc_allocator.cc:1090] InUse at 50facce00 of size 3072 next 202\n",
      "2023-12-08 15:01:32.430446: I tensorflow/tsl/framework/bfc_allocator.cc:1090] InUse at 50facda00 of size 3072 next 207\n",
      "2023-12-08 15:01:32.430449: I tensorflow/tsl/framework/bfc_allocator.cc:1090] InUse at 50face600 of size 12288 next 129\n",
      "2023-12-08 15:01:32.430452: I tensorflow/tsl/framework/bfc_allocator.cc:1090] InUse at 50fad1600 of size 3072 next 239\n",
      "2023-12-08 15:01:32.430457: I tensorflow/tsl/framework/bfc_allocator.cc:1090] InUse at 50fad2200 of size 3072 next 237\n",
      "2023-12-08 15:01:32.430459: I tensorflow/tsl/framework/bfc_allocator.cc:1090] InUse at 50fad2e00 of size 3072 next 14\n",
      "2023-12-08 15:01:32.430462: I tensorflow/tsl/framework/bfc_allocator.cc:1090] InUse at 50fad3a00 of size 3072 next 242\n",
      "2023-12-08 15:01:32.430465: I tensorflow/tsl/framework/bfc_allocator.cc:1090] InUse at 50fad4600 of size 3072 next 244\n",
      "2023-12-08 15:01:32.430470: I tensorflow/tsl/framework/bfc_allocator.cc:1090] InUse at 50fad5200 of size 3072 next 245\n",
      "2023-12-08 15:01:32.430473: I tensorflow/tsl/framework/bfc_allocator.cc:1090] InUse at 50fad5e00 of size 3072 next 246\n",
      "2023-12-08 15:01:32.430475: I tensorflow/tsl/framework/bfc_allocator.cc:1090] InUse at 50fad6a00 of size 3072 next 247\n",
      "2023-12-08 15:01:32.430478: I tensorflow/tsl/framework/bfc_allocator.cc:1090] InUse at 50fad7600 of size 12288 next 249\n",
      "2023-12-08 15:01:32.430481: I tensorflow/tsl/framework/bfc_allocator.cc:1090] InUse at 50fada600 of size 3072 next 251\n",
      "2023-12-08 15:01:32.430483: I tensorflow/tsl/framework/bfc_allocator.cc:1090] InUse at 50fadb200 of size 3072 next 252\n",
      "2023-12-08 15:01:32.430486: I tensorflow/tsl/framework/bfc_allocator.cc:1090] InUse at 50fadbe00 of size 3072 next 253\n",
      "2023-12-08 15:01:32.430489: I tensorflow/tsl/framework/bfc_allocator.cc:1090] InUse at 50fadca00 of size 3072 next 255\n",
      "2023-12-08 15:01:32.430491: I tensorflow/tsl/framework/bfc_allocator.cc:1090] InUse at 50fadd600 of size 3072 next 257\n",
      "2023-12-08 15:01:32.430494: I tensorflow/tsl/framework/bfc_allocator.cc:1090] InUse at 50fade200 of size 3072 next 259\n",
      "2023-12-08 15:01:32.430497: I tensorflow/tsl/framework/bfc_allocator.cc:1090] InUse at 50fadee00 of size 3072 next 261\n",
      "2023-12-08 15:01:32.430499: I tensorflow/tsl/framework/bfc_allocator.cc:1090] InUse at 50fadfa00 of size 3072 next 262\n",
      "2023-12-08 15:01:32.430502: I tensorflow/tsl/framework/bfc_allocator.cc:1090] InUse at 50fae0600 of size 3072 next 263\n",
      "2023-12-08 15:01:32.430505: I tensorflow/tsl/framework/bfc_allocator.cc:1090] InUse at 50fae1200 of size 3072 next 181\n",
      "2023-12-08 15:01:32.430507: I tensorflow/tsl/framework/bfc_allocator.cc:1090] InUse at 50fae1e00 of size 3072 next 176\n",
      "2023-12-08 15:01:32.430510: I tensorflow/tsl/framework/bfc_allocator.cc:1090] InUse at 50fae2a00 of size 3072 next 209\n",
      "2023-12-08 15:01:32.430513: I tensorflow/tsl/framework/bfc_allocator.cc:1090] InUse at 50fae3600 of size 3072 next 210\n",
      "2023-12-08 15:01:32.430515: I tensorflow/tsl/framework/bfc_allocator.cc:1090] InUse at 50fae4200 of size 3072 next 213\n",
      "2023-12-08 15:01:32.430518: I tensorflow/tsl/framework/bfc_allocator.cc:1090] InUse at 50fae4e00 of size 3072 next 217\n",
      "2023-12-08 15:01:32.430521: I tensorflow/tsl/framework/bfc_allocator.cc:1090] InUse at 50fae5a00 of size 3072 next 189\n",
      "2023-12-08 15:01:32.430524: I tensorflow/tsl/framework/bfc_allocator.cc:1090] InUse at 50fae6600 of size 3072 next 215\n",
      "2023-12-08 15:01:32.430526: I tensorflow/tsl/framework/bfc_allocator.cc:1090] InUse at 50fae7200 of size 3072 next 219\n",
      "2023-12-08 15:01:32.430529: I tensorflow/tsl/framework/bfc_allocator.cc:1090] InUse at 50fae7e00 of size 3072 next 224\n",
      "2023-12-08 15:01:32.430532: I tensorflow/tsl/framework/bfc_allocator.cc:1090] InUse at 50fae8a00 of size 15360 next 222\n",
      "2023-12-08 15:01:32.430535: I tensorflow/tsl/framework/bfc_allocator.cc:1090] InUse at 50faec600 of size 3072 next 227\n",
      "2023-12-08 15:01:32.430537: I tensorflow/tsl/framework/bfc_allocator.cc:1090] InUse at 50faed200 of size 3072 next 208\n",
      "2023-12-08 15:01:32.430540: I tensorflow/tsl/framework/bfc_allocator.cc:1090] InUse at 50faede00 of size 3072 next 206\n",
      "2023-12-08 15:01:32.430546: I tensorflow/tsl/framework/bfc_allocator.cc:1090] InUse at 50faeea00 of size 4306944 next 25\n",
      "2023-12-08 15:01:32.430550: I tensorflow/tsl/framework/bfc_allocator.cc:1090] InUse at 50ff0a200 of size 2359296 next 35\n",
      "2023-12-08 15:01:32.430552: I tensorflow/tsl/framework/bfc_allocator.cc:1090] InUse at 51014a200 of size 2359296 next 38\n",
      "2023-12-08 15:01:32.430555: I tensorflow/tsl/framework/bfc_allocator.cc:1090] InUse at 51038a200 of size 2359296 next 41\n",
      "2023-12-08 15:01:32.430558: I tensorflow/tsl/framework/bfc_allocator.cc:1090] InUse at 5105ca200 of size 2359296 next 40\n",
      "2023-12-08 15:01:32.430560: I tensorflow/tsl/framework/bfc_allocator.cc:1090] InUse at 51080a200 of size 2359296 next 47\n",
      "2023-12-08 15:01:32.430563: I tensorflow/tsl/framework/bfc_allocator.cc:1090] InUse at 510a4a200 of size 2359296 next 55\n",
      "2023-12-08 15:01:32.430565: I tensorflow/tsl/framework/bfc_allocator.cc:1090] InUse at 510c8a200 of size 2359296 next 60\n",
      "2023-12-08 15:01:32.430568: I tensorflow/tsl/framework/bfc_allocator.cc:1090] InUse at 510eca200 of size 2359296 next 61\n",
      "2023-12-08 15:01:32.430571: I tensorflow/tsl/framework/bfc_allocator.cc:1090] InUse at 51110a200 of size 2359296 next 69\n",
      "2023-12-08 15:01:32.430573: I tensorflow/tsl/framework/bfc_allocator.cc:1090] InUse at 51134a200 of size 2359296 next 67\n",
      "2023-12-08 15:01:32.430576: I tensorflow/tsl/framework/bfc_allocator.cc:1090] InUse at 51158a200 of size 2359296 next 75\n",
      "2023-12-08 15:01:32.430578: I tensorflow/tsl/framework/bfc_allocator.cc:1090] InUse at 5117ca200 of size 2359296 next 37\n",
      "2023-12-08 15:01:32.430581: I tensorflow/tsl/framework/bfc_allocator.cc:1090] InUse at 511a0a200 of size 9437184 next 112\n",
      "2023-12-08 15:01:32.430584: I tensorflow/tsl/framework/bfc_allocator.cc:1090] InUse at 51230a200 of size 45416448 next 63\n",
      "2023-12-08 15:01:32.430587: I tensorflow/tsl/framework/bfc_allocator.cc:1090] InUse at 514e5a200 of size 9437184 next 66\n",
      "2023-12-08 15:01:32.430590: I tensorflow/tsl/framework/bfc_allocator.cc:1090] InUse at 51575a200 of size 9437184 next 71\n",
      "2023-12-08 15:01:32.430593: I tensorflow/tsl/framework/bfc_allocator.cc:1090] InUse at 51605a200 of size 2359296 next 102\n",
      "2023-12-08 15:01:32.430595: I tensorflow/tsl/framework/bfc_allocator.cc:1090] InUse at 51629a200 of size 2359296 next 99\n",
      "2023-12-08 15:01:32.430598: I tensorflow/tsl/framework/bfc_allocator.cc:1090] InUse at 5164da200 of size 2359296 next 107\n",
      "2023-12-08 15:01:32.430628: I tensorflow/tsl/framework/bfc_allocator.cc:1090] InUse at 51671a200 of size 2359296 next 85\n",
      "2023-12-08 15:01:32.430632: I tensorflow/tsl/framework/bfc_allocator.cc:1090] InUse at 51695a200 of size 9437184 next 84\n",
      "2023-12-08 15:01:32.430636: I tensorflow/tsl/framework/bfc_allocator.cc:1090] InUse at 51725a200 of size 9437184 next 89\n",
      "2023-12-08 15:01:32.430639: I tensorflow/tsl/framework/bfc_allocator.cc:1090] InUse at 517b5a200 of size 2359296 next 116\n",
      "2023-12-08 15:01:32.430642: I tensorflow/tsl/framework/bfc_allocator.cc:1090] InUse at 517d9a200 of size 2359296 next 114\n",
      "2023-12-08 15:01:32.430644: I tensorflow/tsl/framework/bfc_allocator.cc:1090] InUse at 517fda200 of size 2359296 next 126\n",
      "2023-12-08 15:01:32.430647: I tensorflow/tsl/framework/bfc_allocator.cc:1090] InUse at 51821a200 of size 2359296 next 98\n",
      "2023-12-08 15:01:32.430650: I tensorflow/tsl/framework/bfc_allocator.cc:1090] InUse at 51845a200 of size 9437184 next 82\n",
      "2023-12-08 15:01:32.430652: I tensorflow/tsl/framework/bfc_allocator.cc:1090] InUse at 518d5a200 of size 2359296 next 104\n",
      "2023-12-08 15:01:32.430655: I tensorflow/tsl/framework/bfc_allocator.cc:1090] InUse at 518f9a200 of size 2359296 next 138\n",
      "2023-12-08 15:01:32.430657: I tensorflow/tsl/framework/bfc_allocator.cc:1090] InUse at 5191da200 of size 2359296 next 123\n",
      "2023-12-08 15:01:32.430660: I tensorflow/tsl/framework/bfc_allocator.cc:1090] InUse at 51941a200 of size 2359296 next 135\n",
      "2023-12-08 15:01:32.430663: I tensorflow/tsl/framework/bfc_allocator.cc:1090] InUse at 51965a200 of size 9437184 next 115\n",
      "2023-12-08 15:01:32.430665: I tensorflow/tsl/framework/bfc_allocator.cc:1090] InUse at 519f5a200 of size 9437184 next 117\n",
      "2023-12-08 15:01:32.430668: I tensorflow/tsl/framework/bfc_allocator.cc:1090] InUse at 51a85a200 of size 9437184 next 120\n",
      "2023-12-08 15:01:32.430670: I tensorflow/tsl/framework/bfc_allocator.cc:1090] InUse at 51b15a200 of size 2359296 next 149\n",
      "2023-12-08 15:01:32.430673: I tensorflow/tsl/framework/bfc_allocator.cc:1090] InUse at 51b39a200 of size 2359296 next 154\n",
      "2023-12-08 15:01:32.430676: I tensorflow/tsl/framework/bfc_allocator.cc:1090] InUse at 51b5da200 of size 2359296 next 156\n",
      "2023-12-08 15:01:32.430678: I tensorflow/tsl/framework/bfc_allocator.cc:1090] InUse at 51b81a200 of size 2359296 next 118\n",
      "2023-12-08 15:01:32.430681: I tensorflow/tsl/framework/bfc_allocator.cc:1090] InUse at 51ba5a200 of size 9437184 next 132\n",
      "2023-12-08 15:01:32.430683: I tensorflow/tsl/framework/bfc_allocator.cc:1090] InUse at 51c35a200 of size 9437184 next 136\n",
      "2023-12-08 15:01:32.430686: I tensorflow/tsl/framework/bfc_allocator.cc:1090] InUse at 51cc5a200 of size 2359296 next 166\n",
      "2023-12-08 15:01:32.430689: I tensorflow/tsl/framework/bfc_allocator.cc:1090] InUse at 51ce9a200 of size 2359296 next 170\n",
      "2023-12-08 15:01:32.430691: I tensorflow/tsl/framework/bfc_allocator.cc:1090] InUse at 51d0da200 of size 2359296 next 172\n",
      "2023-12-08 15:01:32.430694: I tensorflow/tsl/framework/bfc_allocator.cc:1090] InUse at 51d31a200 of size 2359296 next 142\n",
      "2023-12-08 15:01:32.430697: I tensorflow/tsl/framework/bfc_allocator.cc:1090] InUse at 51d55a200 of size 2359296 next 139\n",
      "2023-12-08 15:01:32.430699: I tensorflow/tsl/framework/bfc_allocator.cc:1090] InUse at 51d79a200 of size 16515072 next 150\n",
      "2023-12-08 15:01:32.430703: I tensorflow/tsl/framework/bfc_allocator.cc:1090] InUse at 51e75a200 of size 2359296 next 182\n",
      "2023-12-08 15:01:32.430705: I tensorflow/tsl/framework/bfc_allocator.cc:1090] InUse at 51e99a200 of size 2359296 next 180\n",
      "2023-12-08 15:01:32.430708: I tensorflow/tsl/framework/bfc_allocator.cc:1090] InUse at 51ebda200 of size 2359296 next 187\n",
      "2023-12-08 15:01:32.430710: I tensorflow/tsl/framework/bfc_allocator.cc:1090] InUse at 51ee1a200 of size 2359296 next 163\n",
      "2023-12-08 15:01:32.430712: I tensorflow/tsl/framework/bfc_allocator.cc:1090] InUse at 51f05a200 of size 9437184 next 165\n",
      "2023-12-08 15:01:32.430714: I tensorflow/tsl/framework/bfc_allocator.cc:1090] InUse at 51f95a200 of size 9437184 next 168\n",
      "2023-12-08 15:01:32.430716: I tensorflow/tsl/framework/bfc_allocator.cc:1090] InUse at 52025a200 of size 2359296 next 199\n",
      "2023-12-08 15:01:32.430717: I tensorflow/tsl/framework/bfc_allocator.cc:1090] InUse at 52049a200 of size 2359296 next 204\n",
      "2023-12-08 15:01:32.430719: I tensorflow/tsl/framework/bfc_allocator.cc:1090] InUse at 5206da200 of size 2359296 next 205\n",
      "2023-12-08 15:01:32.430721: I tensorflow/tsl/framework/bfc_allocator.cc:1090] InUse at 52091a200 of size 2359296 next 178\n",
      "2023-12-08 15:01:32.430722: I tensorflow/tsl/framework/bfc_allocator.cc:1090] InUse at 520b5a200 of size 9437184 next 157\n",
      "2023-12-08 15:01:32.430724: I tensorflow/tsl/framework/bfc_allocator.cc:1090] InUse at 52145a200 of size 9437184 next 183\n",
      "2023-12-08 15:01:32.430726: I tensorflow/tsl/framework/bfc_allocator.cc:1090] InUse at 521d5a200 of size 2359296 next 214\n",
      "2023-12-08 15:01:32.430727: I tensorflow/tsl/framework/bfc_allocator.cc:1090] InUse at 521f9a200 of size 2359296 next 218\n",
      "2023-12-08 15:01:32.430729: I tensorflow/tsl/framework/bfc_allocator.cc:1090] InUse at 5221da200 of size 2359296 next 223\n",
      "2023-12-08 15:01:32.430731: I tensorflow/tsl/framework/bfc_allocator.cc:1090] InUse at 52241a200 of size 2359296 next 195\n",
      "2023-12-08 15:01:32.430732: I tensorflow/tsl/framework/bfc_allocator.cc:1090] InUse at 52265a200 of size 9437184 next 197\n",
      "2023-12-08 15:01:32.430734: I tensorflow/tsl/framework/bfc_allocator.cc:1090] InUse at 522f5a200 of size 9437184 next 200\n",
      "2023-12-08 15:01:32.430736: I tensorflow/tsl/framework/bfc_allocator.cc:1090] InUse at 52385a200 of size 32768 next 677\n",
      "2023-12-08 15:01:32.430738: I tensorflow/tsl/framework/bfc_allocator.cc:1090] InUse at 523862200 of size 32768 next 698\n",
      "2023-12-08 15:01:32.430739: I tensorflow/tsl/framework/bfc_allocator.cc:1090] InUse at 52386a200 of size 32768 next 722\n",
      "2023-12-08 15:01:32.430741: I tensorflow/tsl/framework/bfc_allocator.cc:1090] InUse at 523872200 of size 32768 next 723\n",
      "2023-12-08 15:01:32.430743: I tensorflow/tsl/framework/bfc_allocator.cc:1090] InUse at 52387a200 of size 32768 next 737\n",
      "2023-12-08 15:01:32.430744: I tensorflow/tsl/framework/bfc_allocator.cc:1090] InUse at 523882200 of size 32768 next 738\n",
      "2023-12-08 15:01:32.430746: I tensorflow/tsl/framework/bfc_allocator.cc:1090] InUse at 52388a200 of size 32768 next 749\n",
      "2023-12-08 15:01:32.430747: I tensorflow/tsl/framework/bfc_allocator.cc:1090] InUse at 523892200 of size 32768 next 750\n",
      "2023-12-08 15:01:32.430749: I tensorflow/tsl/framework/bfc_allocator.cc:1090] InUse at 52389a200 of size 32768 next 764\n",
      "2023-12-08 15:01:32.430750: I tensorflow/tsl/framework/bfc_allocator.cc:1090] InUse at 5238a2200 of size 32768 next 765\n",
      "2023-12-08 15:01:32.430752: I tensorflow/tsl/framework/bfc_allocator.cc:1090] InUse at 5238aa200 of size 32768 next 776\n",
      "2023-12-08 15:01:32.430754: I tensorflow/tsl/framework/bfc_allocator.cc:1090] InUse at 5238b2200 of size 32768 next 777\n",
      "2023-12-08 15:01:32.430755: I tensorflow/tsl/framework/bfc_allocator.cc:1090] InUse at 5238ba200 of size 32768 next 791\n",
      "2023-12-08 15:01:32.430757: I tensorflow/tsl/framework/bfc_allocator.cc:1090] InUse at 5238c2200 of size 32768 next 792\n",
      "2023-12-08 15:01:32.430758: I tensorflow/tsl/framework/bfc_allocator.cc:1090] Free  at 5238ca200 of size 1900544 next 228\n",
      "2023-12-08 15:01:32.430760: I tensorflow/tsl/framework/bfc_allocator.cc:1090] InUse at 523a9a200 of size 2359296 next 86\n",
      "2023-12-08 15:01:32.430762: I tensorflow/tsl/framework/bfc_allocator.cc:1090] InUse at 523cda200 of size 2359296 next 87\n",
      "2023-12-08 15:01:32.430763: I tensorflow/tsl/framework/bfc_allocator.cc:1090] InUse at 523f1a200 of size 2359296 next 198\n",
      "2023-12-08 15:01:32.430765: I tensorflow/tsl/framework/bfc_allocator.cc:1090] InUse at 52415a200 of size 9437184 next 212\n",
      "2023-12-08 15:01:32.430767: I tensorflow/tsl/framework/bfc_allocator.cc:1090] InUse at 524a5a200 of size 9437184 next 216\n",
      "2023-12-08 15:01:32.430768: I tensorflow/tsl/framework/bfc_allocator.cc:1090] InUse at 52535a200 of size 9437184 next 203\n",
      "2023-12-08 15:01:32.430770: I tensorflow/tsl/framework/bfc_allocator.cc:1090] InUse at 525c5a200 of size 9437184 next 211\n",
      "2023-12-08 15:01:32.430772: I tensorflow/tsl/framework/bfc_allocator.cc:1090] InUse at 52655a200 of size 2359296 next 34\n",
      "2023-12-08 15:01:32.430773: I tensorflow/tsl/framework/bfc_allocator.cc:1090] InUse at 52679a200 of size 2359296 next 20\n",
      "2023-12-08 15:01:32.430775: I tensorflow/tsl/framework/bfc_allocator.cc:1090] InUse at 5269da200 of size 2359296 next 243\n",
      "2023-12-08 15:01:32.430776: I tensorflow/tsl/framework/bfc_allocator.cc:1090] InUse at 526c1a200 of size 2359296 next 233\n",
      "2023-12-08 15:01:32.430778: I tensorflow/tsl/framework/bfc_allocator.cc:1090] InUse at 526e5a200 of size 9437184 next 15\n",
      "2023-12-08 15:01:32.430780: I tensorflow/tsl/framework/bfc_allocator.cc:1090] InUse at 52775a200 of size 15144960 next 232\n",
      "2023-12-08 15:01:32.430782: I tensorflow/tsl/framework/bfc_allocator.cc:1090] InUse at 5285cba00 of size 24582144 next 236\n",
      "2023-12-08 15:01:32.430784: I tensorflow/tsl/framework/bfc_allocator.cc:1090] InUse at 529d3d200 of size 9437184 next 248\n",
      "2023-12-08 15:01:32.430785: I tensorflow/tsl/framework/bfc_allocator.cc:1090] InUse at 52a63d200 of size 9437184 next 250\n",
      "2023-12-08 15:01:32.430787: I tensorflow/tsl/framework/bfc_allocator.cc:1090] InUse at 52af3d200 of size 2359296 next 254\n",
      "2023-12-08 15:01:32.430789: I tensorflow/tsl/framework/bfc_allocator.cc:1090] InUse at 52b17d200 of size 2359296 next 256\n",
      "2023-12-08 15:01:32.430791: I tensorflow/tsl/framework/bfc_allocator.cc:1090] InUse at 52b3bd200 of size 2359296 next 258\n",
      "2023-12-08 15:01:32.430792: I tensorflow/tsl/framework/bfc_allocator.cc:1090] InUse at 52b5fd200 of size 2359296 next 260\n",
      "2023-12-08 15:01:32.430794: I tensorflow/tsl/framework/bfc_allocator.cc:1090] InUse at 52b83d200 of size 9437184 next 264\n",
      "2023-12-08 15:01:32.430796: I tensorflow/tsl/framework/bfc_allocator.cc:1090] InUse at 52c13d200 of size 12288 next 265\n",
      "2023-12-08 15:01:32.430797: I tensorflow/tsl/framework/bfc_allocator.cc:1090] InUse at 52c140200 of size 9437184 next 266\n",
      "2023-12-08 15:01:32.430799: I tensorflow/tsl/framework/bfc_allocator.cc:1090] InUse at 52ca40200 of size 3072 next 267\n",
      "2023-12-08 15:01:32.430801: I tensorflow/tsl/framework/bfc_allocator.cc:1090] InUse at 52ca40e00 of size 3072 next 268\n",
      "2023-12-08 15:01:32.430802: I tensorflow/tsl/framework/bfc_allocator.cc:1090] InUse at 52ca41a00 of size 2359296 next 269\n",
      "2023-12-08 15:01:32.430804: I tensorflow/tsl/framework/bfc_allocator.cc:1090] InUse at 52cc81a00 of size 3072 next 270\n",
      "2023-12-08 15:01:32.430805: I tensorflow/tsl/framework/bfc_allocator.cc:1090] InUse at 52cc82600 of size 2359296 next 271\n",
      "2023-12-08 15:01:32.430807: I tensorflow/tsl/framework/bfc_allocator.cc:1090] InUse at 52cec2600 of size 3072 next 272\n",
      "2023-12-08 15:01:32.430809: I tensorflow/tsl/framework/bfc_allocator.cc:1090] InUse at 52cec3200 of size 2359296 next 273\n",
      "2023-12-08 15:01:32.430812: I tensorflow/tsl/framework/bfc_allocator.cc:1090] InUse at 52d103200 of size 3072 next 274\n",
      "2023-12-08 15:01:32.430814: I tensorflow/tsl/framework/bfc_allocator.cc:1090] InUse at 52d103e00 of size 2359296 next 275\n",
      "2023-12-08 15:01:32.430817: I tensorflow/tsl/framework/bfc_allocator.cc:1090] InUse at 52d343e00 of size 3072 next 276\n",
      "2023-12-08 15:01:32.430819: I tensorflow/tsl/framework/bfc_allocator.cc:1090] InUse at 52d344a00 of size 3072 next 277\n",
      "2023-12-08 15:01:32.430823: I tensorflow/tsl/framework/bfc_allocator.cc:1090] InUse at 52d345600 of size 3072 next 278\n",
      "2023-12-08 15:01:32.430826: I tensorflow/tsl/framework/bfc_allocator.cc:1090] InUse at 52d346200 of size 9437184 next 279\n",
      "2023-12-08 15:01:32.430829: I tensorflow/tsl/framework/bfc_allocator.cc:1090] InUse at 52dc46200 of size 12288 next 280\n",
      "2023-12-08 15:01:32.430831: I tensorflow/tsl/framework/bfc_allocator.cc:1090] InUse at 52dc49200 of size 9437184 next 281\n",
      "2023-12-08 15:01:32.430834: I tensorflow/tsl/framework/bfc_allocator.cc:1090] InUse at 52e549200 of size 3072 next 282\n",
      "2023-12-08 15:01:32.430836: I tensorflow/tsl/framework/bfc_allocator.cc:1090] InUse at 52e549e00 of size 3072 next 283\n",
      "2023-12-08 15:01:32.430838: I tensorflow/tsl/framework/bfc_allocator.cc:1090] InUse at 52e54aa00 of size 3072 next 284\n",
      "2023-12-08 15:01:32.430841: I tensorflow/tsl/framework/bfc_allocator.cc:1090] InUse at 52e54b600 of size 2359296 next 285\n",
      "2023-12-08 15:01:32.430843: I tensorflow/tsl/framework/bfc_allocator.cc:1090] InUse at 52e78b600 of size 3072 next 286\n",
      "2023-12-08 15:01:32.430846: I tensorflow/tsl/framework/bfc_allocator.cc:1090] InUse at 52e78c200 of size 2359296 next 287\n",
      "2023-12-08 15:01:32.430849: I tensorflow/tsl/framework/bfc_allocator.cc:1090] InUse at 52e9cc200 of size 3072 next 288\n",
      "2023-12-08 15:01:32.430852: I tensorflow/tsl/framework/bfc_allocator.cc:1090] InUse at 52e9cce00 of size 2359296 next 289\n",
      "2023-12-08 15:01:32.430854: I tensorflow/tsl/framework/bfc_allocator.cc:1090] InUse at 52ec0ce00 of size 3072 next 290\n",
      "2023-12-08 15:01:32.430856: I tensorflow/tsl/framework/bfc_allocator.cc:1090] InUse at 52ec0da00 of size 2359296 next 291\n",
      "2023-12-08 15:01:32.430859: I tensorflow/tsl/framework/bfc_allocator.cc:1090] InUse at 52ee4da00 of size 3072 next 292\n",
      "2023-12-08 15:01:32.430862: I tensorflow/tsl/framework/bfc_allocator.cc:1090] InUse at 52ee4e600 of size 3072 next 293\n",
      "2023-12-08 15:01:32.430864: I tensorflow/tsl/framework/bfc_allocator.cc:1090] InUse at 52ee4f200 of size 3072 next 294\n",
      "2023-12-08 15:01:32.430867: I tensorflow/tsl/framework/bfc_allocator.cc:1090] InUse at 52ee4fe00 of size 9437184 next 295\n",
      "2023-12-08 15:01:32.430869: I tensorflow/tsl/framework/bfc_allocator.cc:1090] InUse at 52f74fe00 of size 12288 next 296\n",
      "2023-12-08 15:01:32.430872: I tensorflow/tsl/framework/bfc_allocator.cc:1090] InUse at 52f752e00 of size 9437184 next 297\n",
      "2023-12-08 15:01:32.430875: I tensorflow/tsl/framework/bfc_allocator.cc:1090] InUse at 530052e00 of size 3072 next 298\n",
      "2023-12-08 15:01:32.430878: I tensorflow/tsl/framework/bfc_allocator.cc:1090] InUse at 530053a00 of size 3072 next 299\n",
      "2023-12-08 15:01:32.430880: I tensorflow/tsl/framework/bfc_allocator.cc:1090] InUse at 530054600 of size 3072 next 300\n",
      "2023-12-08 15:01:32.430883: I tensorflow/tsl/framework/bfc_allocator.cc:1090] InUse at 530055200 of size 2359296 next 301\n",
      "2023-12-08 15:01:32.430885: I tensorflow/tsl/framework/bfc_allocator.cc:1090] InUse at 530295200 of size 3072 next 302\n",
      "2023-12-08 15:01:32.430888: I tensorflow/tsl/framework/bfc_allocator.cc:1090] InUse at 530295e00 of size 2359296 next 303\n",
      "2023-12-08 15:01:32.430892: I tensorflow/tsl/framework/bfc_allocator.cc:1090] InUse at 5304d5e00 of size 3072 next 304\n",
      "2023-12-08 15:01:32.430895: I tensorflow/tsl/framework/bfc_allocator.cc:1090] InUse at 5304d6a00 of size 2359296 next 305\n",
      "2023-12-08 15:01:32.430898: I tensorflow/tsl/framework/bfc_allocator.cc:1090] InUse at 530716a00 of size 3072 next 306\n",
      "2023-12-08 15:01:32.430900: I tensorflow/tsl/framework/bfc_allocator.cc:1090] InUse at 530717600 of size 2359296 next 307\n",
      "2023-12-08 15:01:32.430902: I tensorflow/tsl/framework/bfc_allocator.cc:1090] InUse at 530957600 of size 3072 next 308\n",
      "2023-12-08 15:01:32.430905: I tensorflow/tsl/framework/bfc_allocator.cc:1090] InUse at 530958200 of size 3072 next 309\n",
      "2023-12-08 15:01:32.430908: I tensorflow/tsl/framework/bfc_allocator.cc:1090] InUse at 530958e00 of size 3072 next 310\n",
      "2023-12-08 15:01:32.430910: I tensorflow/tsl/framework/bfc_allocator.cc:1090] InUse at 530959a00 of size 9437184 next 311\n",
      "2023-12-08 15:01:32.430913: I tensorflow/tsl/framework/bfc_allocator.cc:1090] InUse at 531259a00 of size 12288 next 312\n",
      "2023-12-08 15:01:32.430916: I tensorflow/tsl/framework/bfc_allocator.cc:1090] InUse at 53125ca00 of size 9437184 next 313\n",
      "2023-12-08 15:01:32.430918: I tensorflow/tsl/framework/bfc_allocator.cc:1090] InUse at 531b5ca00 of size 3072 next 314\n",
      "2023-12-08 15:01:32.430921: I tensorflow/tsl/framework/bfc_allocator.cc:1090] InUse at 531b5d600 of size 3072 next 315\n",
      "2023-12-08 15:01:32.430924: I tensorflow/tsl/framework/bfc_allocator.cc:1090] InUse at 531b5e200 of size 3072 next 316\n",
      "2023-12-08 15:01:32.430926: I tensorflow/tsl/framework/bfc_allocator.cc:1090] InUse at 531b5ee00 of size 2359296 next 317\n",
      "2023-12-08 15:01:32.430929: I tensorflow/tsl/framework/bfc_allocator.cc:1090] InUse at 531d9ee00 of size 3072 next 318\n",
      "2023-12-08 15:01:32.430931: I tensorflow/tsl/framework/bfc_allocator.cc:1090] InUse at 531d9fa00 of size 2359296 next 319\n",
      "2023-12-08 15:01:32.430933: I tensorflow/tsl/framework/bfc_allocator.cc:1090] InUse at 531fdfa00 of size 3072 next 320\n",
      "2023-12-08 15:01:32.430936: I tensorflow/tsl/framework/bfc_allocator.cc:1090] InUse at 531fe0600 of size 2359296 next 321\n",
      "2023-12-08 15:01:32.430938: I tensorflow/tsl/framework/bfc_allocator.cc:1090] InUse at 532220600 of size 3072 next 322\n",
      "2023-12-08 15:01:32.430941: I tensorflow/tsl/framework/bfc_allocator.cc:1090] InUse at 532221200 of size 2359296 next 323\n",
      "2023-12-08 15:01:32.430944: I tensorflow/tsl/framework/bfc_allocator.cc:1090] InUse at 532461200 of size 3072 next 324\n",
      "2023-12-08 15:01:32.430947: I tensorflow/tsl/framework/bfc_allocator.cc:1090] InUse at 532461e00 of size 3072 next 325\n",
      "2023-12-08 15:01:32.430949: I tensorflow/tsl/framework/bfc_allocator.cc:1090] InUse at 532462a00 of size 3072 next 326\n",
      "2023-12-08 15:01:32.430952: I tensorflow/tsl/framework/bfc_allocator.cc:1090] InUse at 532463600 of size 9437184 next 327\n",
      "2023-12-08 15:01:32.430955: I tensorflow/tsl/framework/bfc_allocator.cc:1090] InUse at 532d63600 of size 12288 next 328\n",
      "2023-12-08 15:01:32.430957: I tensorflow/tsl/framework/bfc_allocator.cc:1090] InUse at 532d66600 of size 9437184 next 329\n",
      "2023-12-08 15:01:32.430960: I tensorflow/tsl/framework/bfc_allocator.cc:1090] InUse at 533666600 of size 3072 next 330\n",
      "2023-12-08 15:01:32.430963: I tensorflow/tsl/framework/bfc_allocator.cc:1090] InUse at 533667200 of size 3072 next 331\n",
      "2023-12-08 15:01:32.430965: I tensorflow/tsl/framework/bfc_allocator.cc:1090] InUse at 533667e00 of size 3072 next 332\n",
      "2023-12-08 15:01:32.430968: I tensorflow/tsl/framework/bfc_allocator.cc:1090] InUse at 533668a00 of size 2359296 next 333\n",
      "2023-12-08 15:01:32.430971: I tensorflow/tsl/framework/bfc_allocator.cc:1090] InUse at 5338a8a00 of size 3072 next 334\n",
      "2023-12-08 15:01:32.430974: I tensorflow/tsl/framework/bfc_allocator.cc:1090] InUse at 5338a9600 of size 2359296 next 335\n",
      "2023-12-08 15:01:32.430981: I tensorflow/tsl/framework/bfc_allocator.cc:1090] InUse at 533ae9600 of size 3072 next 336\n",
      "2023-12-08 15:01:32.430984: I tensorflow/tsl/framework/bfc_allocator.cc:1090] InUse at 533aea200 of size 2359296 next 337\n",
      "2023-12-08 15:01:32.430987: I tensorflow/tsl/framework/bfc_allocator.cc:1090] InUse at 533d2a200 of size 3072 next 338\n",
      "2023-12-08 15:01:32.430990: I tensorflow/tsl/framework/bfc_allocator.cc:1090] InUse at 533d2ae00 of size 2359296 next 339\n",
      "2023-12-08 15:01:32.430993: I tensorflow/tsl/framework/bfc_allocator.cc:1090] InUse at 533f6ae00 of size 3072 next 340\n",
      "2023-12-08 15:01:32.430995: I tensorflow/tsl/framework/bfc_allocator.cc:1090] InUse at 533f6ba00 of size 3072 next 341\n",
      "2023-12-08 15:01:32.430998: I tensorflow/tsl/framework/bfc_allocator.cc:1090] InUse at 533f6c600 of size 3072 next 342\n",
      "2023-12-08 15:01:32.431000: I tensorflow/tsl/framework/bfc_allocator.cc:1090] InUse at 533f6d200 of size 9437184 next 343\n",
      "2023-12-08 15:01:32.431003: I tensorflow/tsl/framework/bfc_allocator.cc:1090] InUse at 53486d200 of size 12288 next 344\n",
      "2023-12-08 15:01:32.431006: I tensorflow/tsl/framework/bfc_allocator.cc:1090] InUse at 534870200 of size 9437184 next 345\n",
      "2023-12-08 15:01:32.431008: I tensorflow/tsl/framework/bfc_allocator.cc:1090] InUse at 535170200 of size 3072 next 346\n",
      "2023-12-08 15:01:32.431011: I tensorflow/tsl/framework/bfc_allocator.cc:1090] InUse at 535170e00 of size 3072 next 347\n",
      "2023-12-08 15:01:32.431014: I tensorflow/tsl/framework/bfc_allocator.cc:1090] InUse at 535171a00 of size 3072 next 348\n",
      "2023-12-08 15:01:32.431016: I tensorflow/tsl/framework/bfc_allocator.cc:1090] InUse at 535172600 of size 2359296 next 349\n",
      "2023-12-08 15:01:32.431018: I tensorflow/tsl/framework/bfc_allocator.cc:1090] InUse at 5353b2600 of size 3072 next 350\n",
      "2023-12-08 15:01:32.431020: I tensorflow/tsl/framework/bfc_allocator.cc:1090] InUse at 5353b3200 of size 2359296 next 351\n",
      "2023-12-08 15:01:32.431021: I tensorflow/tsl/framework/bfc_allocator.cc:1090] InUse at 5355f3200 of size 3072 next 352\n",
      "2023-12-08 15:01:32.431023: I tensorflow/tsl/framework/bfc_allocator.cc:1090] InUse at 5355f3e00 of size 2359296 next 353\n",
      "2023-12-08 15:01:32.431025: I tensorflow/tsl/framework/bfc_allocator.cc:1090] InUse at 535833e00 of size 3072 next 354\n",
      "2023-12-08 15:01:32.431026: I tensorflow/tsl/framework/bfc_allocator.cc:1090] InUse at 535834a00 of size 2359296 next 355\n",
      "2023-12-08 15:01:32.431028: I tensorflow/tsl/framework/bfc_allocator.cc:1090] InUse at 535a74a00 of size 3072 next 356\n",
      "2023-12-08 15:01:32.431030: I tensorflow/tsl/framework/bfc_allocator.cc:1090] InUse at 535a75600 of size 3072 next 357\n",
      "2023-12-08 15:01:32.431031: I tensorflow/tsl/framework/bfc_allocator.cc:1090] InUse at 535a76200 of size 3072 next 358\n",
      "2023-12-08 15:01:32.431033: I tensorflow/tsl/framework/bfc_allocator.cc:1090] InUse at 535a76e00 of size 9437184 next 359\n",
      "2023-12-08 15:01:32.431035: I tensorflow/tsl/framework/bfc_allocator.cc:1090] InUse at 536376e00 of size 12288 next 360\n",
      "2023-12-08 15:01:32.431036: I tensorflow/tsl/framework/bfc_allocator.cc:1090] InUse at 536379e00 of size 9437184 next 361\n",
      "2023-12-08 15:01:32.431038: I tensorflow/tsl/framework/bfc_allocator.cc:1090] InUse at 536c79e00 of size 3072 next 362\n",
      "2023-12-08 15:01:32.431039: I tensorflow/tsl/framework/bfc_allocator.cc:1090] InUse at 536c7aa00 of size 3072 next 363\n",
      "2023-12-08 15:01:32.431041: I tensorflow/tsl/framework/bfc_allocator.cc:1090] InUse at 536c7b600 of size 3072 next 364\n",
      "2023-12-08 15:01:32.431043: I tensorflow/tsl/framework/bfc_allocator.cc:1090] InUse at 536c7c200 of size 2359296 next 365\n",
      "2023-12-08 15:01:32.431044: I tensorflow/tsl/framework/bfc_allocator.cc:1090] InUse at 536ebc200 of size 3072 next 366\n",
      "2023-12-08 15:01:32.431046: I tensorflow/tsl/framework/bfc_allocator.cc:1090] InUse at 536ebce00 of size 2359296 next 367\n",
      "2023-12-08 15:01:32.431048: I tensorflow/tsl/framework/bfc_allocator.cc:1090] InUse at 5370fce00 of size 3072 next 368\n",
      "2023-12-08 15:01:32.431049: I tensorflow/tsl/framework/bfc_allocator.cc:1090] InUse at 5370fda00 of size 2359296 next 369\n",
      "2023-12-08 15:01:32.431051: I tensorflow/tsl/framework/bfc_allocator.cc:1090] InUse at 53733da00 of size 3072 next 370\n",
      "2023-12-08 15:01:32.431053: I tensorflow/tsl/framework/bfc_allocator.cc:1090] InUse at 53733e600 of size 2359296 next 371\n",
      "2023-12-08 15:01:32.431054: I tensorflow/tsl/framework/bfc_allocator.cc:1090] InUse at 53757e600 of size 3072 next 372\n",
      "2023-12-08 15:01:32.431056: I tensorflow/tsl/framework/bfc_allocator.cc:1090] InUse at 53757f200 of size 3072 next 373\n",
      "2023-12-08 15:01:32.431057: I tensorflow/tsl/framework/bfc_allocator.cc:1090] InUse at 53757fe00 of size 3072 next 374\n",
      "2023-12-08 15:01:32.431059: I tensorflow/tsl/framework/bfc_allocator.cc:1090] InUse at 537580a00 of size 9437184 next 375\n",
      "2023-12-08 15:01:32.431061: I tensorflow/tsl/framework/bfc_allocator.cc:1090] InUse at 537e80a00 of size 12288 next 376\n",
      "2023-12-08 15:01:32.431062: I tensorflow/tsl/framework/bfc_allocator.cc:1090] InUse at 537e83a00 of size 9437184 next 377\n",
      "2023-12-08 15:01:32.431064: I tensorflow/tsl/framework/bfc_allocator.cc:1090] InUse at 538783a00 of size 3072 next 378\n",
      "2023-12-08 15:01:32.431066: I tensorflow/tsl/framework/bfc_allocator.cc:1090] InUse at 538784600 of size 3072 next 379\n",
      "2023-12-08 15:01:32.431068: I tensorflow/tsl/framework/bfc_allocator.cc:1090] InUse at 538785200 of size 3072 next 380\n",
      "2023-12-08 15:01:32.431069: I tensorflow/tsl/framework/bfc_allocator.cc:1090] InUse at 538785e00 of size 2359296 next 381\n",
      "2023-12-08 15:01:32.431071: I tensorflow/tsl/framework/bfc_allocator.cc:1090] InUse at 5389c5e00 of size 3072 next 382\n",
      "2023-12-08 15:01:32.431073: I tensorflow/tsl/framework/bfc_allocator.cc:1090] InUse at 5389c6a00 of size 2359296 next 383\n",
      "2023-12-08 15:01:32.431074: I tensorflow/tsl/framework/bfc_allocator.cc:1090] InUse at 538c06a00 of size 3072 next 384\n",
      "2023-12-08 15:01:32.431076: I tensorflow/tsl/framework/bfc_allocator.cc:1090] InUse at 538c07600 of size 2359296 next 385\n",
      "2023-12-08 15:01:32.431078: I tensorflow/tsl/framework/bfc_allocator.cc:1090] InUse at 538e47600 of size 3072 next 386\n",
      "2023-12-08 15:01:32.431079: I tensorflow/tsl/framework/bfc_allocator.cc:1090] InUse at 538e48200 of size 2359296 next 387\n",
      "2023-12-08 15:01:32.431081: I tensorflow/tsl/framework/bfc_allocator.cc:1090] InUse at 539088200 of size 3072 next 388\n",
      "2023-12-08 15:01:32.431083: I tensorflow/tsl/framework/bfc_allocator.cc:1090] InUse at 539088e00 of size 3072 next 389\n",
      "2023-12-08 15:01:32.431084: I tensorflow/tsl/framework/bfc_allocator.cc:1090] InUse at 539089a00 of size 3072 next 390\n",
      "2023-12-08 15:01:32.431086: I tensorflow/tsl/framework/bfc_allocator.cc:1090] InUse at 53908a600 of size 9437184 next 391\n",
      "2023-12-08 15:01:32.431088: I tensorflow/tsl/framework/bfc_allocator.cc:1090] InUse at 53998a600 of size 12288 next 392\n",
      "2023-12-08 15:01:32.431089: I tensorflow/tsl/framework/bfc_allocator.cc:1090] InUse at 53998d600 of size 9437184 next 393\n",
      "2023-12-08 15:01:32.431091: I tensorflow/tsl/framework/bfc_allocator.cc:1090] InUse at 53a28d600 of size 3072 next 394\n",
      "2023-12-08 15:01:32.431093: I tensorflow/tsl/framework/bfc_allocator.cc:1090] InUse at 53a28e200 of size 3072 next 395\n",
      "2023-12-08 15:01:32.431094: I tensorflow/tsl/framework/bfc_allocator.cc:1090] InUse at 53a28ee00 of size 3072 next 396\n",
      "2023-12-08 15:01:32.431097: I tensorflow/tsl/framework/bfc_allocator.cc:1090] InUse at 53a28fa00 of size 2359296 next 397\n",
      "2023-12-08 15:01:32.431099: I tensorflow/tsl/framework/bfc_allocator.cc:1090] InUse at 53a4cfa00 of size 3072 next 398\n",
      "2023-12-08 15:01:32.431102: I tensorflow/tsl/framework/bfc_allocator.cc:1090] InUse at 53a4d0600 of size 2359296 next 399\n",
      "2023-12-08 15:01:32.431105: I tensorflow/tsl/framework/bfc_allocator.cc:1090] InUse at 53a710600 of size 3072 next 400\n",
      "2023-12-08 15:01:32.431110: I tensorflow/tsl/framework/bfc_allocator.cc:1090] InUse at 53a711200 of size 2359296 next 401\n",
      "2023-12-08 15:01:32.431113: I tensorflow/tsl/framework/bfc_allocator.cc:1090] InUse at 53a951200 of size 3072 next 402\n",
      "2023-12-08 15:01:32.431116: I tensorflow/tsl/framework/bfc_allocator.cc:1090] InUse at 53a951e00 of size 2359296 next 403\n",
      "2023-12-08 15:01:32.431119: I tensorflow/tsl/framework/bfc_allocator.cc:1090] InUse at 53ab91e00 of size 3072 next 404\n",
      "2023-12-08 15:01:32.431122: I tensorflow/tsl/framework/bfc_allocator.cc:1090] InUse at 53ab92a00 of size 3072 next 405\n",
      "2023-12-08 15:01:32.431124: I tensorflow/tsl/framework/bfc_allocator.cc:1090] InUse at 53ab93600 of size 3072 next 406\n",
      "2023-12-08 15:01:32.431127: I tensorflow/tsl/framework/bfc_allocator.cc:1090] InUse at 53ab94200 of size 9437184 next 407\n",
      "2023-12-08 15:01:32.431130: I tensorflow/tsl/framework/bfc_allocator.cc:1090] InUse at 53b494200 of size 12288 next 408\n",
      "2023-12-08 15:01:32.431132: I tensorflow/tsl/framework/bfc_allocator.cc:1090] InUse at 53b497200 of size 9437184 next 409\n",
      "2023-12-08 15:01:32.431135: I tensorflow/tsl/framework/bfc_allocator.cc:1090] InUse at 53bd97200 of size 3072 next 410\n",
      "2023-12-08 15:01:32.431138: I tensorflow/tsl/framework/bfc_allocator.cc:1090] InUse at 53bd97e00 of size 3072 next 411\n",
      "2023-12-08 15:01:32.431141: I tensorflow/tsl/framework/bfc_allocator.cc:1090] InUse at 53bd98a00 of size 3072 next 412\n",
      "2023-12-08 15:01:32.431143: I tensorflow/tsl/framework/bfc_allocator.cc:1090] InUse at 53bd99600 of size 2359296 next 413\n",
      "2023-12-08 15:01:32.431147: I tensorflow/tsl/framework/bfc_allocator.cc:1090] InUse at 53bfd9600 of size 3072 next 414\n",
      "2023-12-08 15:01:32.431149: I tensorflow/tsl/framework/bfc_allocator.cc:1090] InUse at 53bfda200 of size 2359296 next 415\n",
      "2023-12-08 15:01:32.431151: I tensorflow/tsl/framework/bfc_allocator.cc:1090] InUse at 53c21a200 of size 3072 next 416\n",
      "2023-12-08 15:01:32.431154: I tensorflow/tsl/framework/bfc_allocator.cc:1090] InUse at 53c21ae00 of size 2359296 next 417\n",
      "2023-12-08 15:01:32.431159: I tensorflow/tsl/framework/bfc_allocator.cc:1090] InUse at 53c45ae00 of size 3072 next 418\n",
      "2023-12-08 15:01:32.431162: I tensorflow/tsl/framework/bfc_allocator.cc:1090] InUse at 53c45ba00 of size 2359296 next 419\n",
      "2023-12-08 15:01:32.431165: I tensorflow/tsl/framework/bfc_allocator.cc:1090] InUse at 53c69ba00 of size 3072 next 420\n",
      "2023-12-08 15:01:32.431167: I tensorflow/tsl/framework/bfc_allocator.cc:1090] InUse at 53c69c600 of size 3072 next 421\n",
      "2023-12-08 15:01:32.431170: I tensorflow/tsl/framework/bfc_allocator.cc:1090] InUse at 53c69d200 of size 3072 next 422\n",
      "2023-12-08 15:01:32.431172: I tensorflow/tsl/framework/bfc_allocator.cc:1090] InUse at 53c69de00 of size 9437184 next 423\n",
      "2023-12-08 15:01:32.431174: I tensorflow/tsl/framework/bfc_allocator.cc:1090] InUse at 53cf9de00 of size 12288 next 424\n",
      "2023-12-08 15:01:32.431175: I tensorflow/tsl/framework/bfc_allocator.cc:1090] InUse at 53cfa0e00 of size 9437184 next 425\n",
      "2023-12-08 15:01:32.431177: I tensorflow/tsl/framework/bfc_allocator.cc:1090] InUse at 53d8a0e00 of size 3072 next 426\n",
      "2023-12-08 15:01:32.431179: I tensorflow/tsl/framework/bfc_allocator.cc:1090] InUse at 53d8a1a00 of size 3072 next 427\n",
      "2023-12-08 15:01:32.431180: I tensorflow/tsl/framework/bfc_allocator.cc:1090] InUse at 53d8a2600 of size 3072 next 428\n",
      "2023-12-08 15:01:32.431182: I tensorflow/tsl/framework/bfc_allocator.cc:1090] InUse at 53d8a3200 of size 2359296 next 429\n",
      "2023-12-08 15:01:32.431184: I tensorflow/tsl/framework/bfc_allocator.cc:1090] InUse at 53dae3200 of size 3072 next 430\n",
      "2023-12-08 15:01:32.431185: I tensorflow/tsl/framework/bfc_allocator.cc:1090] InUse at 53dae3e00 of size 6144 next 431\n",
      "2023-12-08 15:01:32.431189: I tensorflow/tsl/framework/bfc_allocator.cc:1090] InUse at 53dae5600 of size 26161152 next 435\n",
      "2023-12-08 15:01:32.431210: I tensorflow/tsl/framework/bfc_allocator.cc:1090] InUse at 53f3d8600 of size 3072 next 436\n",
      "2023-12-08 15:01:32.431216: I tensorflow/tsl/framework/bfc_allocator.cc:1090] InUse at 53f3d9200 of size 3072 next 437\n",
      "2023-12-08 15:01:32.431220: I tensorflow/tsl/framework/bfc_allocator.cc:1090] InUse at 53f3d9e00 of size 2359296 next 438\n",
      "2023-12-08 15:01:32.431225: I tensorflow/tsl/framework/bfc_allocator.cc:1090] InUse at 53f619e00 of size 3072 next 439\n",
      "2023-12-08 15:01:32.431229: I tensorflow/tsl/framework/bfc_allocator.cc:1090] InUse at 53f61aa00 of size 2359296 next 440\n",
      "2023-12-08 15:01:32.431232: I tensorflow/tsl/framework/bfc_allocator.cc:1090] InUse at 53f85aa00 of size 3072 next 441\n",
      "2023-12-08 15:01:32.431235: I tensorflow/tsl/framework/bfc_allocator.cc:1090] InUse at 53f85b600 of size 2359296 next 442\n",
      "2023-12-08 15:01:32.431237: I tensorflow/tsl/framework/bfc_allocator.cc:1090] InUse at 53fa9b600 of size 3072 next 443\n",
      "2023-12-08 15:01:32.431239: I tensorflow/tsl/framework/bfc_allocator.cc:1090] InUse at 53fa9c200 of size 2359296 next 444\n",
      "2023-12-08 15:01:32.431241: I tensorflow/tsl/framework/bfc_allocator.cc:1090] InUse at 53fcdc200 of size 3072 next 445\n",
      "2023-12-08 15:01:32.431242: I tensorflow/tsl/framework/bfc_allocator.cc:1090] InUse at 53fcdce00 of size 3072 next 446\n",
      "2023-12-08 15:01:32.431244: I tensorflow/tsl/framework/bfc_allocator.cc:1090] InUse at 53fcdda00 of size 3072 next 447\n",
      "2023-12-08 15:01:32.431246: I tensorflow/tsl/framework/bfc_allocator.cc:1090] InUse at 53fcde600 of size 9437184 next 448\n",
      "2023-12-08 15:01:32.431248: I tensorflow/tsl/framework/bfc_allocator.cc:1090] InUse at 5405de600 of size 12288 next 449\n",
      "2023-12-08 15:01:32.431249: I tensorflow/tsl/framework/bfc_allocator.cc:1090] InUse at 5405e1600 of size 9437184 next 450\n",
      "2023-12-08 15:01:32.431251: I tensorflow/tsl/framework/bfc_allocator.cc:1090] InUse at 540ee1600 of size 3072 next 451\n",
      "2023-12-08 15:01:32.431252: I tensorflow/tsl/framework/bfc_allocator.cc:1090] InUse at 540ee2200 of size 3072 next 452\n",
      "2023-12-08 15:01:32.431254: I tensorflow/tsl/framework/bfc_allocator.cc:1090] InUse at 540ee2e00 of size 3072 next 453\n",
      "2023-12-08 15:01:32.431256: I tensorflow/tsl/framework/bfc_allocator.cc:1090] InUse at 540ee3a00 of size 2359296 next 454\n",
      "2023-12-08 15:01:32.431257: I tensorflow/tsl/framework/bfc_allocator.cc:1090] InUse at 541123a00 of size 3072 next 455\n",
      "2023-12-08 15:01:32.431259: I tensorflow/tsl/framework/bfc_allocator.cc:1090] InUse at 541124600 of size 2359296 next 456\n",
      "2023-12-08 15:01:32.431260: I tensorflow/tsl/framework/bfc_allocator.cc:1090] InUse at 541364600 of size 3072 next 457\n",
      "2023-12-08 15:01:32.431262: I tensorflow/tsl/framework/bfc_allocator.cc:1090] InUse at 541365200 of size 2359296 next 458\n",
      "2023-12-08 15:01:32.431264: I tensorflow/tsl/framework/bfc_allocator.cc:1090] InUse at 5415a5200 of size 3072 next 459\n",
      "2023-12-08 15:01:32.431265: I tensorflow/tsl/framework/bfc_allocator.cc:1090] InUse at 5415a5e00 of size 2359296 next 460\n",
      "2023-12-08 15:01:32.431267: I tensorflow/tsl/framework/bfc_allocator.cc:1090] InUse at 5417e5e00 of size 3072 next 461\n",
      "2023-12-08 15:01:32.431269: I tensorflow/tsl/framework/bfc_allocator.cc:1090] InUse at 5417e6a00 of size 3072 next 462\n",
      "2023-12-08 15:01:32.431270: I tensorflow/tsl/framework/bfc_allocator.cc:1090] InUse at 5417e7600 of size 3072 next 463\n",
      "2023-12-08 15:01:32.431272: I tensorflow/tsl/framework/bfc_allocator.cc:1090] InUse at 5417e8200 of size 9437184 next 464\n",
      "2023-12-08 15:01:32.431274: I tensorflow/tsl/framework/bfc_allocator.cc:1090] InUse at 5420e8200 of size 12288 next 465\n",
      "2023-12-08 15:01:32.431275: I tensorflow/tsl/framework/bfc_allocator.cc:1090] InUse at 5420eb200 of size 9437184 next 466\n",
      "2023-12-08 15:01:32.431277: I tensorflow/tsl/framework/bfc_allocator.cc:1090] InUse at 5429eb200 of size 3072 next 467\n",
      "2023-12-08 15:01:32.431279: I tensorflow/tsl/framework/bfc_allocator.cc:1090] InUse at 5429ebe00 of size 3072 next 468\n",
      "2023-12-08 15:01:32.431280: I tensorflow/tsl/framework/bfc_allocator.cc:1090] InUse at 5429eca00 of size 3072 next 469\n",
      "2023-12-08 15:01:32.431282: I tensorflow/tsl/framework/bfc_allocator.cc:1090] InUse at 5429ed600 of size 2359296 next 470\n",
      "2023-12-08 15:01:32.431284: I tensorflow/tsl/framework/bfc_allocator.cc:1090] InUse at 542c2d600 of size 3072 next 471\n",
      "2023-12-08 15:01:32.431285: I tensorflow/tsl/framework/bfc_allocator.cc:1090] InUse at 542c2e200 of size 2359296 next 472\n",
      "2023-12-08 15:01:32.431287: I tensorflow/tsl/framework/bfc_allocator.cc:1090] InUse at 542e6e200 of size 3072 next 473\n",
      "2023-12-08 15:01:32.431288: I tensorflow/tsl/framework/bfc_allocator.cc:1090] InUse at 542e6ee00 of size 2359296 next 474\n",
      "2023-12-08 15:01:32.431290: I tensorflow/tsl/framework/bfc_allocator.cc:1090] InUse at 5430aee00 of size 3072 next 475\n",
      "2023-12-08 15:01:32.431292: I tensorflow/tsl/framework/bfc_allocator.cc:1090] InUse at 5430afa00 of size 2359296 next 476\n",
      "2023-12-08 15:01:32.431293: I tensorflow/tsl/framework/bfc_allocator.cc:1090] InUse at 5432efa00 of size 3072 next 477\n",
      "2023-12-08 15:01:32.431295: I tensorflow/tsl/framework/bfc_allocator.cc:1090] InUse at 5432f0600 of size 3072 next 478\n",
      "2023-12-08 15:01:32.431297: I tensorflow/tsl/framework/bfc_allocator.cc:1090] InUse at 5432f1200 of size 3072 next 479\n",
      "2023-12-08 15:01:32.431298: I tensorflow/tsl/framework/bfc_allocator.cc:1090] InUse at 5432f1e00 of size 9437184 next 480\n",
      "2023-12-08 15:01:32.431300: I tensorflow/tsl/framework/bfc_allocator.cc:1090] InUse at 543bf1e00 of size 12288 next 481\n",
      "2023-12-08 15:01:32.431301: I tensorflow/tsl/framework/bfc_allocator.cc:1090] InUse at 543bf4e00 of size 9437184 next 482\n",
      "2023-12-08 15:01:32.431304: I tensorflow/tsl/framework/bfc_allocator.cc:1090] InUse at 5444f4e00 of size 3072 next 483\n",
      "2023-12-08 15:01:32.431307: I tensorflow/tsl/framework/bfc_allocator.cc:1090] InUse at 5444f5a00 of size 3072 next 484\n",
      "2023-12-08 15:01:32.431310: I tensorflow/tsl/framework/bfc_allocator.cc:1090] InUse at 5444f6600 of size 3072 next 485\n",
      "2023-12-08 15:01:32.431312: I tensorflow/tsl/framework/bfc_allocator.cc:1090] InUse at 5444f7200 of size 2359296 next 486\n",
      "2023-12-08 15:01:32.431315: I tensorflow/tsl/framework/bfc_allocator.cc:1090] InUse at 544737200 of size 3072 next 487\n",
      "2023-12-08 15:01:32.431318: I tensorflow/tsl/framework/bfc_allocator.cc:1090] InUse at 544737e00 of size 2359296 next 488\n",
      "2023-12-08 15:01:32.431322: I tensorflow/tsl/framework/bfc_allocator.cc:1090] InUse at 544977e00 of size 3072 next 489\n",
      "2023-12-08 15:01:32.431342: I tensorflow/tsl/framework/bfc_allocator.cc:1090] InUse at 544978a00 of size 2359296 next 490\n",
      "2023-12-08 15:01:32.431347: I tensorflow/tsl/framework/bfc_allocator.cc:1090] InUse at 544bb8a00 of size 3072 next 491\n",
      "2023-12-08 15:01:32.431351: I tensorflow/tsl/framework/bfc_allocator.cc:1090] InUse at 544bb9600 of size 2359296 next 492\n",
      "2023-12-08 15:01:32.431355: I tensorflow/tsl/framework/bfc_allocator.cc:1090] InUse at 544df9600 of size 3072 next 493\n",
      "2023-12-08 15:01:32.431358: I tensorflow/tsl/framework/bfc_allocator.cc:1090] InUse at 544dfa200 of size 3072 next 494\n",
      "2023-12-08 15:01:32.431361: I tensorflow/tsl/framework/bfc_allocator.cc:1090] InUse at 544dfae00 of size 3072 next 495\n",
      "2023-12-08 15:01:32.431363: I tensorflow/tsl/framework/bfc_allocator.cc:1090] InUse at 544dfba00 of size 9437184 next 496\n",
      "2023-12-08 15:01:32.431366: I tensorflow/tsl/framework/bfc_allocator.cc:1090] InUse at 5456fba00 of size 12288 next 497\n",
      "2023-12-08 15:01:32.431369: I tensorflow/tsl/framework/bfc_allocator.cc:1090] InUse at 5456fea00 of size 9437184 next 498\n",
      "2023-12-08 15:01:32.431371: I tensorflow/tsl/framework/bfc_allocator.cc:1090] InUse at 545ffea00 of size 3072 next 499\n",
      "2023-12-08 15:01:32.431374: I tensorflow/tsl/framework/bfc_allocator.cc:1090] InUse at 545fff600 of size 3072 next 500\n",
      "2023-12-08 15:01:32.431376: I tensorflow/tsl/framework/bfc_allocator.cc:1090] InUse at 546000200 of size 3072 next 501\n",
      "2023-12-08 15:01:32.431379: I tensorflow/tsl/framework/bfc_allocator.cc:1090] InUse at 546000e00 of size 2359296 next 502\n",
      "2023-12-08 15:01:32.431382: I tensorflow/tsl/framework/bfc_allocator.cc:1090] InUse at 546240e00 of size 3072 next 503\n",
      "2023-12-08 15:01:32.431384: I tensorflow/tsl/framework/bfc_allocator.cc:1090] InUse at 546241a00 of size 2359296 next 504\n",
      "2023-12-08 15:01:32.431387: I tensorflow/tsl/framework/bfc_allocator.cc:1090] InUse at 546481a00 of size 3072 next 505\n",
      "2023-12-08 15:01:32.431390: I tensorflow/tsl/framework/bfc_allocator.cc:1090] InUse at 546482600 of size 2359296 next 506\n",
      "2023-12-08 15:01:32.431393: I tensorflow/tsl/framework/bfc_allocator.cc:1090] InUse at 5466c2600 of size 3072 next 507\n",
      "2023-12-08 15:01:32.431395: I tensorflow/tsl/framework/bfc_allocator.cc:1090] InUse at 5466c3200 of size 2359296 next 508\n",
      "2023-12-08 15:01:32.431399: I tensorflow/tsl/framework/bfc_allocator.cc:1090] InUse at 546903200 of size 3072 next 509\n",
      "2023-12-08 15:01:32.431401: I tensorflow/tsl/framework/bfc_allocator.cc:1090] InUse at 546903e00 of size 3072 next 510\n",
      "2023-12-08 15:01:32.431403: I tensorflow/tsl/framework/bfc_allocator.cc:1090] InUse at 546904a00 of size 3072 next 511\n",
      "2023-12-08 15:01:32.431405: I tensorflow/tsl/framework/bfc_allocator.cc:1090] InUse at 546905600 of size 9437184 next 512\n",
      "2023-12-08 15:01:32.431406: I tensorflow/tsl/framework/bfc_allocator.cc:1090] InUse at 547205600 of size 12288 next 513\n",
      "2023-12-08 15:01:32.431408: I tensorflow/tsl/framework/bfc_allocator.cc:1090] InUse at 547208600 of size 9437184 next 514\n",
      "2023-12-08 15:01:32.431410: I tensorflow/tsl/framework/bfc_allocator.cc:1090] InUse at 547b08600 of size 3072 next 515\n",
      "2023-12-08 15:01:32.431411: I tensorflow/tsl/framework/bfc_allocator.cc:1090] InUse at 547b09200 of size 3072 next 516\n",
      "2023-12-08 15:01:32.431413: I tensorflow/tsl/framework/bfc_allocator.cc:1090] InUse at 547b09e00 of size 3072 next 517\n",
      "2023-12-08 15:01:32.431415: I tensorflow/tsl/framework/bfc_allocator.cc:1090] InUse at 547b0aa00 of size 2359296 next 518\n",
      "2023-12-08 15:01:32.431416: I tensorflow/tsl/framework/bfc_allocator.cc:1090] InUse at 547d4aa00 of size 3072 next 519\n",
      "2023-12-08 15:01:32.431418: I tensorflow/tsl/framework/bfc_allocator.cc:1090] InUse at 547d4b600 of size 2359296 next 520\n",
      "2023-12-08 15:01:32.431420: I tensorflow/tsl/framework/bfc_allocator.cc:1090] InUse at 547f8b600 of size 3072 next 521\n",
      "2023-12-08 15:01:32.431422: I tensorflow/tsl/framework/bfc_allocator.cc:1090] InUse at 547f8c200 of size 2359296 next 522\n",
      "2023-12-08 15:01:32.431423: I tensorflow/tsl/framework/bfc_allocator.cc:1090] InUse at 5481cc200 of size 3072 next 523\n",
      "2023-12-08 15:01:32.431425: I tensorflow/tsl/framework/bfc_allocator.cc:1090] InUse at 5481cce00 of size 2359296 next 524\n",
      "2023-12-08 15:01:32.431427: I tensorflow/tsl/framework/bfc_allocator.cc:1090] InUse at 54840ce00 of size 3072 next 525\n",
      "2023-12-08 15:01:32.431428: I tensorflow/tsl/framework/bfc_allocator.cc:1090] InUse at 54840da00 of size 3072 next 526\n",
      "2023-12-08 15:01:32.431430: I tensorflow/tsl/framework/bfc_allocator.cc:1090] InUse at 54840e600 of size 3072 next 527\n",
      "2023-12-08 15:01:32.431432: I tensorflow/tsl/framework/bfc_allocator.cc:1090] InUse at 54840f200 of size 9437184 next 528\n",
      "2023-12-08 15:01:32.431433: I tensorflow/tsl/framework/bfc_allocator.cc:1090] InUse at 548d0f200 of size 12288 next 529\n",
      "2023-12-08 15:01:32.431435: I tensorflow/tsl/framework/bfc_allocator.cc:1090] InUse at 548d12200 of size 9437184 next 530\n",
      "2023-12-08 15:01:32.431437: I tensorflow/tsl/framework/bfc_allocator.cc:1090] InUse at 549612200 of size 3072 next 531\n",
      "2023-12-08 15:01:32.431438: I tensorflow/tsl/framework/bfc_allocator.cc:1090] InUse at 549612e00 of size 3072 next 532\n",
      "2023-12-08 15:01:32.431440: I tensorflow/tsl/framework/bfc_allocator.cc:1090] InUse at 549613a00 of size 3072 next 533\n",
      "2023-12-08 15:01:32.431441: I tensorflow/tsl/framework/bfc_allocator.cc:1090] InUse at 549614600 of size 2359296 next 534\n",
      "2023-12-08 15:01:32.431443: I tensorflow/tsl/framework/bfc_allocator.cc:1090] InUse at 549854600 of size 3072 next 535\n",
      "2023-12-08 15:01:32.431445: I tensorflow/tsl/framework/bfc_allocator.cc:1090] InUse at 549855200 of size 2359296 next 536\n",
      "2023-12-08 15:01:32.431446: I tensorflow/tsl/framework/bfc_allocator.cc:1090] InUse at 549a95200 of size 3072 next 537\n",
      "2023-12-08 15:01:32.431448: I tensorflow/tsl/framework/bfc_allocator.cc:1090] InUse at 549a95e00 of size 2359296 next 538\n",
      "2023-12-08 15:01:32.431450: I tensorflow/tsl/framework/bfc_allocator.cc:1090] InUse at 549cd5e00 of size 3072 next 539\n",
      "2023-12-08 15:01:32.431451: I tensorflow/tsl/framework/bfc_allocator.cc:1090] InUse at 549cd6a00 of size 2359296 next 540\n",
      "2023-12-08 15:01:32.431453: I tensorflow/tsl/framework/bfc_allocator.cc:1090] InUse at 549f16a00 of size 3072 next 541\n",
      "2023-12-08 15:01:32.431455: I tensorflow/tsl/framework/bfc_allocator.cc:1090] InUse at 549f17600 of size 3072 next 542\n",
      "2023-12-08 15:01:32.431458: I tensorflow/tsl/framework/bfc_allocator.cc:1090] InUse at 549f18200 of size 3072 next 543\n",
      "2023-12-08 15:01:32.431461: I tensorflow/tsl/framework/bfc_allocator.cc:1090] InUse at 549f18e00 of size 9437184 next 544\n",
      "2023-12-08 15:01:32.431463: I tensorflow/tsl/framework/bfc_allocator.cc:1090] InUse at 54a818e00 of size 12288 next 545\n",
      "2023-12-08 15:01:32.431466: I tensorflow/tsl/framework/bfc_allocator.cc:1090] InUse at 54a81be00 of size 9437184 next 546\n",
      "2023-12-08 15:01:32.431469: I tensorflow/tsl/framework/bfc_allocator.cc:1090] InUse at 54b11be00 of size 3072 next 547\n",
      "2023-12-08 15:01:32.431471: I tensorflow/tsl/framework/bfc_allocator.cc:1090] InUse at 54b11ca00 of size 3072 next 548\n",
      "2023-12-08 15:01:32.431474: I tensorflow/tsl/framework/bfc_allocator.cc:1090] InUse at 54b11d600 of size 3072 next 549\n",
      "2023-12-08 15:01:32.431477: I tensorflow/tsl/framework/bfc_allocator.cc:1090] InUse at 54b11e200 of size 2359296 next 550\n",
      "2023-12-08 15:01:32.431480: I tensorflow/tsl/framework/bfc_allocator.cc:1090] InUse at 54b35e200 of size 3072 next 551\n",
      "2023-12-08 15:01:32.431483: I tensorflow/tsl/framework/bfc_allocator.cc:1090] InUse at 54b35ee00 of size 2359296 next 552\n",
      "2023-12-08 15:01:32.431485: I tensorflow/tsl/framework/bfc_allocator.cc:1090] InUse at 54b59ee00 of size 3072 next 553\n",
      "2023-12-08 15:01:32.431486: I tensorflow/tsl/framework/bfc_allocator.cc:1090] InUse at 54b59fa00 of size 2359296 next 554\n",
      "2023-12-08 15:01:32.431488: I tensorflow/tsl/framework/bfc_allocator.cc:1090] InUse at 54b7dfa00 of size 3072 next 555\n",
      "2023-12-08 15:01:32.431490: I tensorflow/tsl/framework/bfc_allocator.cc:1090] InUse at 54b7e0600 of size 2359296 next 556\n",
      "2023-12-08 15:01:32.431491: I tensorflow/tsl/framework/bfc_allocator.cc:1090] InUse at 54ba20600 of size 3072 next 557\n",
      "2023-12-08 15:01:32.431493: I tensorflow/tsl/framework/bfc_allocator.cc:1090] InUse at 54ba21200 of size 3072 next 558\n",
      "2023-12-08 15:01:32.431494: I tensorflow/tsl/framework/bfc_allocator.cc:1090] InUse at 54ba21e00 of size 3072 next 559\n",
      "2023-12-08 15:01:32.431496: I tensorflow/tsl/framework/bfc_allocator.cc:1090] InUse at 54ba22a00 of size 9437184 next 560\n",
      "2023-12-08 15:01:32.431498: I tensorflow/tsl/framework/bfc_allocator.cc:1090] InUse at 54c322a00 of size 12288 next 561\n",
      "2023-12-08 15:01:32.431499: I tensorflow/tsl/framework/bfc_allocator.cc:1090] InUse at 54c325a00 of size 9437184 next 562\n",
      "2023-12-08 15:01:32.431501: I tensorflow/tsl/framework/bfc_allocator.cc:1090] InUse at 54cc25a00 of size 3072 next 563\n",
      "2023-12-08 15:01:32.431503: I tensorflow/tsl/framework/bfc_allocator.cc:1090] InUse at 54cc26600 of size 3072 next 564\n",
      "2023-12-08 15:01:32.431505: I tensorflow/tsl/framework/bfc_allocator.cc:1090] InUse at 54cc27200 of size 3072 next 565\n",
      "2023-12-08 15:01:32.431506: I tensorflow/tsl/framework/bfc_allocator.cc:1090] InUse at 54cc27e00 of size 2359296 next 566\n",
      "2023-12-08 15:01:32.431508: I tensorflow/tsl/framework/bfc_allocator.cc:1090] InUse at 54ce67e00 of size 3072 next 567\n",
      "2023-12-08 15:01:32.431509: I tensorflow/tsl/framework/bfc_allocator.cc:1090] InUse at 54ce68a00 of size 2359296 next 568\n",
      "2023-12-08 15:01:32.431511: I tensorflow/tsl/framework/bfc_allocator.cc:1090] InUse at 54d0a8a00 of size 3072 next 569\n",
      "2023-12-08 15:01:32.431513: I tensorflow/tsl/framework/bfc_allocator.cc:1090] InUse at 54d0a9600 of size 2359296 next 570\n",
      "2023-12-08 15:01:32.431514: I tensorflow/tsl/framework/bfc_allocator.cc:1090] InUse at 54d2e9600 of size 3072 next 571\n",
      "2023-12-08 15:01:32.431516: I tensorflow/tsl/framework/bfc_allocator.cc:1090] InUse at 54d2ea200 of size 2359296 next 572\n",
      "2023-12-08 15:01:32.431517: I tensorflow/tsl/framework/bfc_allocator.cc:1090] InUse at 54d52a200 of size 3072 next 573\n",
      "2023-12-08 15:01:32.431519: I tensorflow/tsl/framework/bfc_allocator.cc:1090] InUse at 54d52ae00 of size 3072 next 574\n",
      "2023-12-08 15:01:32.431520: I tensorflow/tsl/framework/bfc_allocator.cc:1090] InUse at 54d52ba00 of size 3072 next 575\n",
      "2023-12-08 15:01:32.431522: I tensorflow/tsl/framework/bfc_allocator.cc:1090] InUse at 54d52c600 of size 9437184 next 576\n",
      "2023-12-08 15:01:32.431524: I tensorflow/tsl/framework/bfc_allocator.cc:1090] InUse at 54de2c600 of size 12288 next 577\n",
      "2023-12-08 15:01:32.431526: I tensorflow/tsl/framework/bfc_allocator.cc:1090] InUse at 54de2f600 of size 9437184 next 578\n",
      "2023-12-08 15:01:32.431527: I tensorflow/tsl/framework/bfc_allocator.cc:1090] InUse at 54e72f600 of size 3072 next 579\n",
      "2023-12-08 15:01:32.431529: I tensorflow/tsl/framework/bfc_allocator.cc:1090] InUse at 54e730200 of size 3072 next 580\n",
      "2023-12-08 15:01:32.431531: I tensorflow/tsl/framework/bfc_allocator.cc:1090] InUse at 54e730e00 of size 3072 next 581\n",
      "2023-12-08 15:01:32.431532: I tensorflow/tsl/framework/bfc_allocator.cc:1090] InUse at 54e731a00 of size 2359296 next 582\n",
      "2023-12-08 15:01:32.431534: I tensorflow/tsl/framework/bfc_allocator.cc:1090] InUse at 54e971a00 of size 3072 next 583\n",
      "2023-12-08 15:01:32.431535: I tensorflow/tsl/framework/bfc_allocator.cc:1090] InUse at 54e972600 of size 2359296 next 584\n",
      "2023-12-08 15:01:32.431537: I tensorflow/tsl/framework/bfc_allocator.cc:1090] InUse at 54ebb2600 of size 3072 next 585\n",
      "2023-12-08 15:01:32.431539: I tensorflow/tsl/framework/bfc_allocator.cc:1090] InUse at 54ebb3200 of size 2359296 next 586\n",
      "2023-12-08 15:01:32.431540: I tensorflow/tsl/framework/bfc_allocator.cc:1090] InUse at 54edf3200 of size 3072 next 587\n",
      "2023-12-08 15:01:32.431542: I tensorflow/tsl/framework/bfc_allocator.cc:1090] InUse at 54edf3e00 of size 2359296 next 588\n",
      "2023-12-08 15:01:32.431543: I tensorflow/tsl/framework/bfc_allocator.cc:1090] InUse at 54f033e00 of size 3072 next 589\n",
      "2023-12-08 15:01:32.431545: I tensorflow/tsl/framework/bfc_allocator.cc:1090] InUse at 54f034a00 of size 3072 next 590\n",
      "2023-12-08 15:01:32.431547: I tensorflow/tsl/framework/bfc_allocator.cc:1090] InUse at 54f035600 of size 3072 next 591\n",
      "2023-12-08 15:01:32.431548: I tensorflow/tsl/framework/bfc_allocator.cc:1090] InUse at 54f036200 of size 9437184 next 592\n",
      "2023-12-08 15:01:32.431550: I tensorflow/tsl/framework/bfc_allocator.cc:1090] InUse at 54f936200 of size 12288 next 593\n",
      "2023-12-08 15:01:32.431551: I tensorflow/tsl/framework/bfc_allocator.cc:1090] InUse at 54f939200 of size 9437184 next 594\n",
      "2023-12-08 15:01:32.431553: I tensorflow/tsl/framework/bfc_allocator.cc:1090] InUse at 550239200 of size 3072 next 595\n",
      "2023-12-08 15:01:32.431555: I tensorflow/tsl/framework/bfc_allocator.cc:1090] InUse at 550239e00 of size 3072 next 596\n",
      "2023-12-08 15:01:32.431556: I tensorflow/tsl/framework/bfc_allocator.cc:1090] InUse at 55023aa00 of size 3072 next 597\n",
      "2023-12-08 15:01:32.431558: I tensorflow/tsl/framework/bfc_allocator.cc:1090] InUse at 55023b600 of size 2359296 next 598\n",
      "2023-12-08 15:01:32.431560: I tensorflow/tsl/framework/bfc_allocator.cc:1090] InUse at 55047b600 of size 3072 next 599\n",
      "2023-12-08 15:01:32.431561: I tensorflow/tsl/framework/bfc_allocator.cc:1090] InUse at 55047c200 of size 2359296 next 600\n",
      "2023-12-08 15:01:32.431563: I tensorflow/tsl/framework/bfc_allocator.cc:1090] InUse at 5506bc200 of size 3072 next 601\n",
      "2023-12-08 15:01:32.431564: I tensorflow/tsl/framework/bfc_allocator.cc:1090] InUse at 5506bce00 of size 2359296 next 602\n",
      "2023-12-08 15:01:32.431566: I tensorflow/tsl/framework/bfc_allocator.cc:1090] InUse at 5508fce00 of size 3072 next 603\n",
      "2023-12-08 15:01:32.431568: I tensorflow/tsl/framework/bfc_allocator.cc:1090] InUse at 5508fda00 of size 2359296 next 604\n",
      "2023-12-08 15:01:32.431569: I tensorflow/tsl/framework/bfc_allocator.cc:1090] InUse at 550b3da00 of size 3072 next 605\n",
      "2023-12-08 15:01:32.431571: I tensorflow/tsl/framework/bfc_allocator.cc:1090] InUse at 550b3e600 of size 3072 next 606\n",
      "2023-12-08 15:01:32.431572: I tensorflow/tsl/framework/bfc_allocator.cc:1090] InUse at 550b3f200 of size 3072 next 607\n",
      "2023-12-08 15:01:32.431574: I tensorflow/tsl/framework/bfc_allocator.cc:1090] InUse at 550b3fe00 of size 9437184 next 608\n",
      "2023-12-08 15:01:32.431576: I tensorflow/tsl/framework/bfc_allocator.cc:1090] InUse at 55143fe00 of size 12288 next 609\n",
      "2023-12-08 15:01:32.431577: I tensorflow/tsl/framework/bfc_allocator.cc:1090] InUse at 551442e00 of size 9437184 next 610\n",
      "2023-12-08 15:01:32.431579: I tensorflow/tsl/framework/bfc_allocator.cc:1090] InUse at 551d42e00 of size 3072 next 611\n",
      "2023-12-08 15:01:32.431581: I tensorflow/tsl/framework/bfc_allocator.cc:1090] InUse at 551d43a00 of size 3072 next 612\n",
      "2023-12-08 15:01:32.431582: I tensorflow/tsl/framework/bfc_allocator.cc:1090] InUse at 551d44600 of size 3072 next 613\n",
      "2023-12-08 15:01:32.431584: I tensorflow/tsl/framework/bfc_allocator.cc:1090] InUse at 551d45200 of size 2359296 next 614\n",
      "2023-12-08 15:01:32.431585: I tensorflow/tsl/framework/bfc_allocator.cc:1090] InUse at 551f85200 of size 3072 next 615\n",
      "2023-12-08 15:01:32.431587: I tensorflow/tsl/framework/bfc_allocator.cc:1090] InUse at 551f85e00 of size 2359296 next 616\n",
      "2023-12-08 15:01:32.431589: I tensorflow/tsl/framework/bfc_allocator.cc:1090] InUse at 5521c5e00 of size 3072 next 617\n",
      "2023-12-08 15:01:32.431590: I tensorflow/tsl/framework/bfc_allocator.cc:1090] InUse at 5521c6a00 of size 2359296 next 618\n",
      "2023-12-08 15:01:32.431592: I tensorflow/tsl/framework/bfc_allocator.cc:1090] InUse at 552406a00 of size 3072 next 619\n",
      "2023-12-08 15:01:32.431594: I tensorflow/tsl/framework/bfc_allocator.cc:1090] InUse at 552407600 of size 2359296 next 620\n",
      "2023-12-08 15:01:32.431596: I tensorflow/tsl/framework/bfc_allocator.cc:1090] InUse at 552647600 of size 3072 next 621\n",
      "2023-12-08 15:01:32.431597: I tensorflow/tsl/framework/bfc_allocator.cc:1090] InUse at 552648200 of size 3072 next 622\n",
      "2023-12-08 15:01:32.431607: I tensorflow/tsl/framework/bfc_allocator.cc:1090] InUse at 552648e00 of size 3072 next 623\n",
      "2023-12-08 15:01:32.431621: I tensorflow/tsl/framework/bfc_allocator.cc:1090] InUse at 552649a00 of size 9437184 next 624\n",
      "2023-12-08 15:01:32.431626: I tensorflow/tsl/framework/bfc_allocator.cc:1090] InUse at 552f49a00 of size 12288 next 625\n",
      "2023-12-08 15:01:32.431629: I tensorflow/tsl/framework/bfc_allocator.cc:1090] InUse at 552f4ca00 of size 9437184 next 626\n",
      "2023-12-08 15:01:32.431631: I tensorflow/tsl/framework/bfc_allocator.cc:1090] InUse at 55384ca00 of size 3072 next 627\n",
      "2023-12-08 15:01:32.431634: I tensorflow/tsl/framework/bfc_allocator.cc:1090] InUse at 55384d600 of size 3072 next 628\n",
      "2023-12-08 15:01:32.431635: I tensorflow/tsl/framework/bfc_allocator.cc:1090] InUse at 55384e200 of size 3072 next 629\n",
      "2023-12-08 15:01:32.431637: I tensorflow/tsl/framework/bfc_allocator.cc:1090] InUse at 55384ee00 of size 2359296 next 630\n",
      "2023-12-08 15:01:32.431639: I tensorflow/tsl/framework/bfc_allocator.cc:1090] InUse at 553a8ee00 of size 3072 next 631\n",
      "2023-12-08 15:01:32.431640: I tensorflow/tsl/framework/bfc_allocator.cc:1090] InUse at 553a8fa00 of size 6144 next 632\n",
      "2023-12-08 15:01:32.431642: I tensorflow/tsl/framework/bfc_allocator.cc:1090] InUse at 553a91200 of size 256 next 634\n",
      "2023-12-08 15:01:32.431644: I tensorflow/tsl/framework/bfc_allocator.cc:1090] InUse at 553a91300 of size 256 next 635\n",
      "2023-12-08 15:01:32.431645: I tensorflow/tsl/framework/bfc_allocator.cc:1090] InUse at 553a91400 of size 256 next 636\n",
      "2023-12-08 15:01:32.431647: I tensorflow/tsl/framework/bfc_allocator.cc:1090] InUse at 553a91500 of size 256 next 637\n",
      "2023-12-08 15:01:32.431649: I tensorflow/tsl/framework/bfc_allocator.cc:1090] InUse at 553a91600 of size 256 next 638\n",
      "2023-12-08 15:01:32.431652: I tensorflow/tsl/framework/bfc_allocator.cc:1090] InUse at 553a91700 of size 256 next 639\n",
      "2023-12-08 15:01:32.431653: I tensorflow/tsl/framework/bfc_allocator.cc:1090] InUse at 553a91800 of size 256 next 640\n",
      "2023-12-08 15:01:32.431655: I tensorflow/tsl/framework/bfc_allocator.cc:1090] InUse at 553a91900 of size 256 next 641\n",
      "2023-12-08 15:01:32.431656: I tensorflow/tsl/framework/bfc_allocator.cc:1090] InUse at 553a91a00 of size 256 next 642\n",
      "2023-12-08 15:01:32.431658: I tensorflow/tsl/framework/bfc_allocator.cc:1090] InUse at 553a91b00 of size 256 next 643\n",
      "2023-12-08 15:01:32.431660: I tensorflow/tsl/framework/bfc_allocator.cc:1090] InUse at 553a91c00 of size 256 next 644\n",
      "2023-12-08 15:01:32.431661: I tensorflow/tsl/framework/bfc_allocator.cc:1090] InUse at 553a91d00 of size 256 next 645\n",
      "2023-12-08 15:01:32.431663: I tensorflow/tsl/framework/bfc_allocator.cc:1090] InUse at 553a91e00 of size 256 next 646\n",
      "2023-12-08 15:01:32.431664: I tensorflow/tsl/framework/bfc_allocator.cc:1090] InUse at 553a91f00 of size 256 next 647\n",
      "2023-12-08 15:01:32.431666: I tensorflow/tsl/framework/bfc_allocator.cc:1090] InUse at 553a92000 of size 256 next 648\n",
      "2023-12-08 15:01:32.431667: I tensorflow/tsl/framework/bfc_allocator.cc:1090] InUse at 553a92100 of size 256 next 649\n",
      "2023-12-08 15:01:32.431669: I tensorflow/tsl/framework/bfc_allocator.cc:1090] InUse at 553a92200 of size 256 next 650\n",
      "2023-12-08 15:01:32.431671: I tensorflow/tsl/framework/bfc_allocator.cc:1090] InUse at 553a92300 of size 256 next 651\n",
      "2023-12-08 15:01:32.431672: I tensorflow/tsl/framework/bfc_allocator.cc:1090] InUse at 553a92400 of size 256 next 652\n",
      "2023-12-08 15:01:32.431674: I tensorflow/tsl/framework/bfc_allocator.cc:1090] InUse at 553a92500 of size 256 next 653\n",
      "2023-12-08 15:01:32.431676: I tensorflow/tsl/framework/bfc_allocator.cc:1090] InUse at 553a92600 of size 256 next 654\n",
      "2023-12-08 15:01:32.431677: I tensorflow/tsl/framework/bfc_allocator.cc:1090] InUse at 553a92700 of size 256 next 655\n",
      "2023-12-08 15:01:32.431679: I tensorflow/tsl/framework/bfc_allocator.cc:1090] InUse at 553a92800 of size 256 next 656\n",
      "2023-12-08 15:01:32.431681: I tensorflow/tsl/framework/bfc_allocator.cc:1090] InUse at 553a92900 of size 256 next 657\n",
      "2023-12-08 15:01:32.431682: I tensorflow/tsl/framework/bfc_allocator.cc:1090] InUse at 553a92a00 of size 256 next 658\n",
      "2023-12-08 15:01:32.431684: I tensorflow/tsl/framework/bfc_allocator.cc:1090] InUse at 553a92b00 of size 256 next 659\n",
      "2023-12-08 15:01:32.431686: I tensorflow/tsl/framework/bfc_allocator.cc:1090] InUse at 553a92c00 of size 256 next 660\n",
      "2023-12-08 15:01:32.431689: I tensorflow/tsl/framework/bfc_allocator.cc:1090] InUse at 553a92d00 of size 256 next 661\n",
      "2023-12-08 15:01:32.431691: I tensorflow/tsl/framework/bfc_allocator.cc:1090] InUse at 553a92e00 of size 256 next 662\n",
      "2023-12-08 15:01:32.431694: I tensorflow/tsl/framework/bfc_allocator.cc:1090] InUse at 553a92f00 of size 256 next 663\n",
      "2023-12-08 15:01:32.431697: I tensorflow/tsl/framework/bfc_allocator.cc:1090] InUse at 553a93000 of size 256 next 664\n",
      "2023-12-08 15:01:32.431700: I tensorflow/tsl/framework/bfc_allocator.cc:1090] InUse at 553a93100 of size 256 next 665\n",
      "2023-12-08 15:01:32.431703: I tensorflow/tsl/framework/bfc_allocator.cc:1090] InUse at 553a93200 of size 256 next 666\n",
      "2023-12-08 15:01:32.431706: I tensorflow/tsl/framework/bfc_allocator.cc:1090] InUse at 553a93300 of size 256 next 667\n",
      "2023-12-08 15:01:32.431709: I tensorflow/tsl/framework/bfc_allocator.cc:1090] InUse at 553a93400 of size 256 next 668\n",
      "2023-12-08 15:01:32.431712: I tensorflow/tsl/framework/bfc_allocator.cc:1090] InUse at 553a93500 of size 256 next 669\n",
      "2023-12-08 15:01:32.431714: I tensorflow/tsl/framework/bfc_allocator.cc:1090] InUse at 553a93600 of size 256 next 670\n",
      "2023-12-08 15:01:32.431716: I tensorflow/tsl/framework/bfc_allocator.cc:1090] InUse at 553a93700 of size 256 next 671\n",
      "2023-12-08 15:01:32.431717: I tensorflow/tsl/framework/bfc_allocator.cc:1090] InUse at 553a93800 of size 256 next 672\n",
      "2023-12-08 15:01:32.431719: I tensorflow/tsl/framework/bfc_allocator.cc:1090] InUse at 553a93900 of size 32768 next 673\n",
      "2023-12-08 15:01:32.431721: I tensorflow/tsl/framework/bfc_allocator.cc:1090] InUse at 553a9b900 of size 256 next 674\n",
      "2023-12-08 15:01:32.431722: I tensorflow/tsl/framework/bfc_allocator.cc:1090] InUse at 553a9ba00 of size 32768 next 675\n",
      "2023-12-08 15:01:32.431724: I tensorflow/tsl/framework/bfc_allocator.cc:1090] InUse at 553aa3a00 of size 32768 next 676\n",
      "2023-12-08 15:01:32.431726: I tensorflow/tsl/framework/bfc_allocator.cc:1090] InUse at 553aaba00 of size 256 next 683\n",
      "2023-12-08 15:01:32.431727: I tensorflow/tsl/framework/bfc_allocator.cc:1090] InUse at 553aabb00 of size 256 next 685\n",
      "2023-12-08 15:01:32.431729: I tensorflow/tsl/framework/bfc_allocator.cc:1090] InUse at 553aabc00 of size 6144 next 688\n",
      "2023-12-08 15:01:32.431731: I tensorflow/tsl/framework/bfc_allocator.cc:1090] InUse at 553aad400 of size 6144 next 689\n",
      "2023-12-08 15:01:32.431733: I tensorflow/tsl/framework/bfc_allocator.cc:1090] InUse at 553aaec00 of size 2048 next 691\n",
      "2023-12-08 15:01:32.431734: I tensorflow/tsl/framework/bfc_allocator.cc:1090] InUse at 553aaf400 of size 256 next 697\n",
      "2023-12-08 15:01:32.431736: I tensorflow/tsl/framework/bfc_allocator.cc:1090] InUse at 553aaf500 of size 1792 next 692\n",
      "2023-12-08 15:01:32.431738: I tensorflow/tsl/framework/bfc_allocator.cc:1090] InUse at 553aafc00 of size 256 next 693\n",
      "2023-12-08 15:01:32.431740: I tensorflow/tsl/framework/bfc_allocator.cc:1090] InUse at 553aafd00 of size 256 next 694\n",
      "2023-12-08 15:01:32.431742: I tensorflow/tsl/framework/bfc_allocator.cc:1090] InUse at 553aafe00 of size 256 next 434\n",
      "2023-12-08 15:01:32.431743: I tensorflow/tsl/framework/bfc_allocator.cc:1090] InUse at 553aaff00 of size 256 next 433\n",
      "2023-12-08 15:01:32.431745: I tensorflow/tsl/framework/bfc_allocator.cc:1090] InUse at 553ab0000 of size 256 next 695\n",
      "2023-12-08 15:01:32.431746: I tensorflow/tsl/framework/bfc_allocator.cc:1090] InUse at 553ab0100 of size 256 next 696\n",
      "2023-12-08 15:01:32.431748: I tensorflow/tsl/framework/bfc_allocator.cc:1090] InUse at 553ab0200 of size 25180160 next 678\n",
      "2023-12-08 15:01:32.431750: I tensorflow/tsl/framework/bfc_allocator.cc:1090] InUse at 5552b3a00 of size 25165824 next 679\n",
      "2023-12-08 15:01:32.431752: I tensorflow/tsl/framework/bfc_allocator.cc:1090] InUse at 556ab3a00 of size 32768 next 680\n",
      "2023-12-08 15:01:32.431754: I tensorflow/tsl/framework/bfc_allocator.cc:1090] InUse at 556abba00 of size 32768 next 681\n",
      "2023-12-08 15:01:32.431755: I tensorflow/tsl/framework/bfc_allocator.cc:1090] Free  at 556ac3a00 of size 256 next 682\n",
      "2023-12-08 15:01:32.431757: I tensorflow/tsl/framework/bfc_allocator.cc:1090] InUse at 556ac3b00 of size 1572864 next 684\n",
      "2023-12-08 15:01:32.431759: I tensorflow/tsl/framework/bfc_allocator.cc:1090] InUse at 556c43b00 of size 24582144 next 686\n",
      "2023-12-08 15:01:32.431761: I tensorflow/tsl/framework/bfc_allocator.cc:1090] InUse at 5583b5300 of size 24582144 next 687\n",
      "2023-12-08 15:01:32.431762: I tensorflow/tsl/framework/bfc_allocator.cc:1090] InUse at 559b26b00 of size 1572864 next 690\n",
      "2023-12-08 15:01:32.431764: I tensorflow/tsl/framework/bfc_allocator.cc:1090] InUse at 559ca6b00 of size 6291456 next 699\n",
      "2023-12-08 15:01:32.431766: I tensorflow/tsl/framework/bfc_allocator.cc:1090] InUse at 55a2a6b00 of size 25165824 next 700\n",
      "2023-12-08 15:01:32.431767: I tensorflow/tsl/framework/bfc_allocator.cc:1090] InUse at 55baa6b00 of size 25165824 next 703\n",
      "2023-12-08 15:01:32.431769: I tensorflow/tsl/framework/bfc_allocator.cc:1090] InUse at 55d2a6b00 of size 25165824 next 704\n",
      "2023-12-08 15:01:32.431772: I tensorflow/tsl/framework/bfc_allocator.cc:1090] InUse at 55eaa6b00 of size 201326592 next 705\n",
      "2023-12-08 15:01:32.431773: I tensorflow/tsl/framework/bfc_allocator.cc:1090] InUse at 56aaa6b00 of size 201326592 next 706\n",
      "2023-12-08 15:01:32.431775: I tensorflow/tsl/framework/bfc_allocator.cc:1090] InUse at 576aa6b00 of size 25165824 next 709\n",
      "2023-12-08 15:01:32.431776: I tensorflow/tsl/framework/bfc_allocator.cc:1090] InUse at 5782a6b00 of size 25165824 next 710\n",
      "2023-12-08 15:01:32.431778: I tensorflow/tsl/framework/bfc_allocator.cc:1090] InUse at 579aa6b00 of size 6291456 next 711\n",
      "2023-12-08 15:01:32.431780: I tensorflow/tsl/framework/bfc_allocator.cc:1090] InUse at 57a0a6b00 of size 25165824 next 712\n",
      "2023-12-08 15:01:32.431781: I tensorflow/tsl/framework/bfc_allocator.cc:1090] InUse at 57b8a6b00 of size 25165824 next 713\n",
      "2023-12-08 15:01:32.431783: I tensorflow/tsl/framework/bfc_allocator.cc:1090] InUse at 57d0a6b00 of size 25165824 next 720\n",
      "2023-12-08 15:01:32.431785: I tensorflow/tsl/framework/bfc_allocator.cc:1090] InUse at 57e8a6b00 of size 6291456 next 721\n",
      "2023-12-08 15:01:32.431787: I tensorflow/tsl/framework/bfc_allocator.cc:1090] InUse at 57eea6b00 of size 25165824 next 724\n",
      "2023-12-08 15:01:32.431788: I tensorflow/tsl/framework/bfc_allocator.cc:1090] InUse at 5806a6b00 of size 37748736 next 707\n",
      "2023-12-08 15:01:32.431790: I tensorflow/tsl/framework/bfc_allocator.cc:1090] InUse at 582aa6b00 of size 50331648 next 708\n",
      "2023-12-08 15:01:32.431792: I tensorflow/tsl/framework/bfc_allocator.cc:1090] InUse at 585aa6b00 of size 100663296 next 716\n",
      "2023-12-08 15:01:32.431794: I tensorflow/tsl/framework/bfc_allocator.cc:1090] InUse at 58baa6b00 of size 100663296 next 717\n",
      "2023-12-08 15:01:32.431795: I tensorflow/tsl/framework/bfc_allocator.cc:1090] InUse at 591aa6b00 of size 100663296 next 718\n",
      "2023-12-08 15:01:32.431797: I tensorflow/tsl/framework/bfc_allocator.cc:1090] InUse at 597aa6b00 of size 100663296 next 719\n",
      "2023-12-08 15:01:32.431798: I tensorflow/tsl/framework/bfc_allocator.cc:1090] InUse at 59daa6b00 of size 25165824 next 727\n",
      "2023-12-08 15:01:32.431800: I tensorflow/tsl/framework/bfc_allocator.cc:1090] InUse at 59f2a6b00 of size 25165824 next 728\n",
      "2023-12-08 15:01:32.431802: I tensorflow/tsl/framework/bfc_allocator.cc:1090] InUse at 5a0aa6b00 of size 25165824 next 729\n",
      "2023-12-08 15:01:32.431803: I tensorflow/tsl/framework/bfc_allocator.cc:1090] InUse at 5a22a6b00 of size 201326592 next 730\n",
      "2023-12-08 15:01:32.431805: I tensorflow/tsl/framework/bfc_allocator.cc:1090] InUse at 5ae2a6b00 of size 201326592 next 731\n",
      "2023-12-08 15:01:32.431807: I tensorflow/tsl/framework/bfc_allocator.cc:1090] InUse at 5ba2a6b00 of size 25165824 next 734\n",
      "2023-12-08 15:01:32.431808: I tensorflow/tsl/framework/bfc_allocator.cc:1090] InUse at 5bbaa6b00 of size 25165824 next 735\n",
      "2023-12-08 15:01:32.431810: I tensorflow/tsl/framework/bfc_allocator.cc:1090] InUse at 5bd2a6b00 of size 6291456 next 736\n",
      "2023-12-08 15:01:32.431811: I tensorflow/tsl/framework/bfc_allocator.cc:1090] InUse at 5bd8a6b00 of size 25165824 next 739\n",
      "2023-12-08 15:01:32.431813: I tensorflow/tsl/framework/bfc_allocator.cc:1090] InUse at 5bf0a6b00 of size 25165824 next 740\n",
      "2023-12-08 15:01:32.431815: I tensorflow/tsl/framework/bfc_allocator.cc:1090] InUse at 5c08a6b00 of size 25165824 next 747\n",
      "2023-12-08 15:01:32.431816: I tensorflow/tsl/framework/bfc_allocator.cc:1090] InUse at 5c20a6b00 of size 6291456 next 748\n",
      "2023-12-08 15:01:32.431818: I tensorflow/tsl/framework/bfc_allocator.cc:1090] InUse at 5c26a6b00 of size 25165824 next 751\n",
      "2023-12-08 15:01:32.431819: I tensorflow/tsl/framework/bfc_allocator.cc:1090] InUse at 5c3ea6b00 of size 37748736 next 732\n",
      "2023-12-08 15:01:32.431821: I tensorflow/tsl/framework/bfc_allocator.cc:1090] InUse at 5c62a6b00 of size 50331648 next 733\n",
      "2023-12-08 15:01:32.431823: I tensorflow/tsl/framework/bfc_allocator.cc:1090] InUse at 5c92a6b00 of size 100663296 next 743\n",
      "2023-12-08 15:01:32.431824: I tensorflow/tsl/framework/bfc_allocator.cc:1090] InUse at 5cf2a6b00 of size 100663296 next 744\n",
      "2023-12-08 15:01:32.431826: I tensorflow/tsl/framework/bfc_allocator.cc:1090] InUse at 5d52a6b00 of size 100663296 next 745\n",
      "2023-12-08 15:01:32.431828: I tensorflow/tsl/framework/bfc_allocator.cc:1090] InUse at 5db2a6b00 of size 100663296 next 746\n",
      "2023-12-08 15:01:32.431829: I tensorflow/tsl/framework/bfc_allocator.cc:1090] InUse at 5e12a6b00 of size 25165824 next 754\n",
      "2023-12-08 15:01:32.431831: I tensorflow/tsl/framework/bfc_allocator.cc:1090] InUse at 5e2aa6b00 of size 25165824 next 755\n",
      "2023-12-08 15:01:32.431832: I tensorflow/tsl/framework/bfc_allocator.cc:1090] InUse at 5e42a6b00 of size 25165824 next 756\n",
      "2023-12-08 15:01:32.431834: I tensorflow/tsl/framework/bfc_allocator.cc:1090] InUse at 5e5aa6b00 of size 201326592 next 757\n",
      "2023-12-08 15:01:32.431836: I tensorflow/tsl/framework/bfc_allocator.cc:1090] InUse at 5f1aa6b00 of size 201326592 next 758\n",
      "2023-12-08 15:01:32.431837: I tensorflow/tsl/framework/bfc_allocator.cc:1090] InUse at 5fdaa6b00 of size 25165824 next 761\n",
      "2023-12-08 15:01:32.431839: I tensorflow/tsl/framework/bfc_allocator.cc:1090] InUse at 5ff2a6b00 of size 25165824 next 762\n",
      "2023-12-08 15:01:32.431840: I tensorflow/tsl/framework/bfc_allocator.cc:1090] InUse at 600aa6b00 of size 6291456 next 763\n",
      "2023-12-08 15:01:32.431842: I tensorflow/tsl/framework/bfc_allocator.cc:1090] InUse at 6010a6b00 of size 25165824 next 766\n",
      "2023-12-08 15:01:32.431844: I tensorflow/tsl/framework/bfc_allocator.cc:1090] InUse at 6028a6b00 of size 25165824 next 767\n",
      "2023-12-08 15:01:32.431845: I tensorflow/tsl/framework/bfc_allocator.cc:1090] InUse at 6040a6b00 of size 25165824 next 774\n",
      "2023-12-08 15:01:32.431847: I tensorflow/tsl/framework/bfc_allocator.cc:1090] InUse at 6058a6b00 of size 6291456 next 775\n",
      "2023-12-08 15:01:32.431848: I tensorflow/tsl/framework/bfc_allocator.cc:1090] InUse at 605ea6b00 of size 25165824 next 778\n",
      "2023-12-08 15:01:32.431850: I tensorflow/tsl/framework/bfc_allocator.cc:1090] InUse at 6076a6b00 of size 37748736 next 759\n",
      "2023-12-08 15:01:32.431852: I tensorflow/tsl/framework/bfc_allocator.cc:1090] InUse at 609aa6b00 of size 50331648 next 760\n",
      "2023-12-08 15:01:32.431853: I tensorflow/tsl/framework/bfc_allocator.cc:1090] InUse at 60caa6b00 of size 100663296 next 770\n",
      "2023-12-08 15:01:32.431855: I tensorflow/tsl/framework/bfc_allocator.cc:1090] InUse at 612aa6b00 of size 100663296 next 771\n",
      "2023-12-08 15:01:32.431857: I tensorflow/tsl/framework/bfc_allocator.cc:1090] InUse at 618aa6b00 of size 100663296 next 772\n",
      "2023-12-08 15:01:32.431858: I tensorflow/tsl/framework/bfc_allocator.cc:1090] InUse at 61eaa6b00 of size 100663296 next 773\n",
      "2023-12-08 15:01:32.431860: I tensorflow/tsl/framework/bfc_allocator.cc:1090] InUse at 624aa6b00 of size 25165824 next 781\n",
      "2023-12-08 15:01:32.431862: I tensorflow/tsl/framework/bfc_allocator.cc:1090] InUse at 6262a6b00 of size 25165824 next 782\n",
      "2023-12-08 15:01:32.431863: I tensorflow/tsl/framework/bfc_allocator.cc:1090] InUse at 627aa6b00 of size 25165824 next 783\n",
      "2023-12-08 15:01:32.431865: I tensorflow/tsl/framework/bfc_allocator.cc:1090] InUse at 6292a6b00 of size 201326592 next 784\n",
      "2023-12-08 15:01:32.431867: I tensorflow/tsl/framework/bfc_allocator.cc:1090] InUse at 6352a6b00 of size 201326592 next 785\n",
      "2023-12-08 15:01:32.431868: I tensorflow/tsl/framework/bfc_allocator.cc:1090] InUse at 6412a6b00 of size 25165824 next 788\n",
      "2023-12-08 15:01:32.431870: I tensorflow/tsl/framework/bfc_allocator.cc:1090] InUse at 642aa6b00 of size 25165824 next 789\n",
      "2023-12-08 15:01:32.431872: I tensorflow/tsl/framework/bfc_allocator.cc:1090] InUse at 6442a6b00 of size 6291456 next 790\n",
      "2023-12-08 15:01:32.431873: I tensorflow/tsl/framework/bfc_allocator.cc:1090] Free  at 6448a6b00 of size 25165824 next 793\n",
      "2023-12-08 15:01:32.431875: I tensorflow/tsl/framework/bfc_allocator.cc:1090] InUse at 6460a6b00 of size 25165824 next 794\n",
      "2023-12-08 15:01:32.431877: I tensorflow/tsl/framework/bfc_allocator.cc:1090] Free  at 6478a6b00 of size 94371840 next 786\n",
      "2023-12-08 15:01:32.431878: I tensorflow/tsl/framework/bfc_allocator.cc:1090] InUse at 64d2a6b00 of size 50331648 next 787\n",
      "2023-12-08 15:01:32.431880: I tensorflow/tsl/framework/bfc_allocator.cc:1090] InUse at 6502a6b00 of size 100663296 next 797\n",
      "2023-12-08 15:01:32.431881: I tensorflow/tsl/framework/bfc_allocator.cc:1090] InUse at 6562a6b00 of size 100663296 next 798\n",
      "2023-12-08 15:01:32.431883: I tensorflow/tsl/framework/bfc_allocator.cc:1090] InUse at 65c2a6b00 of size 187012352 next 18446744073709551615\n",
      "2023-12-08 15:01:32.431885: I tensorflow/tsl/framework/bfc_allocator.cc:1095]      Summary of in-use Chunks by size: \n",
      "2023-12-08 15:01:32.431890: I tensorflow/tsl/framework/bfc_allocator.cc:1098] 95 Chunks of size 256 totalling 23.8KiB\n",
      "2023-12-08 15:01:32.431893: I tensorflow/tsl/framework/bfc_allocator.cc:1098] 1 Chunks of size 1280 totalling 1.2KiB\n",
      "2023-12-08 15:01:32.431896: I tensorflow/tsl/framework/bfc_allocator.cc:1098] 1 Chunks of size 1792 totalling 1.8KiB\n",
      "2023-12-08 15:01:32.431899: I tensorflow/tsl/framework/bfc_allocator.cc:1098] 1 Chunks of size 2048 totalling 2.0KiB\n",
      "2023-12-08 15:01:32.431903: I tensorflow/tsl/framework/bfc_allocator.cc:1098] 332 Chunks of size 3072 totalling 996.0KiB\n",
      "2023-12-08 15:01:32.431906: I tensorflow/tsl/framework/bfc_allocator.cc:1098] 1 Chunks of size 4608 totalling 4.5KiB\n",
      "2023-12-08 15:01:32.431910: I tensorflow/tsl/framework/bfc_allocator.cc:1098] 6 Chunks of size 6144 totalling 36.0KiB\n",
      "2023-12-08 15:01:32.431913: I tensorflow/tsl/framework/bfc_allocator.cc:1098] 32 Chunks of size 12288 totalling 384.0KiB\n",
      "2023-12-08 15:01:32.431916: I tensorflow/tsl/framework/bfc_allocator.cc:1098] 2 Chunks of size 15360 totalling 30.0KiB\n",
      "2023-12-08 15:01:32.431920: I tensorflow/tsl/framework/bfc_allocator.cc:1098] 1 Chunks of size 18944 totalling 18.5KiB\n",
      "2023-12-08 15:01:32.431922: I tensorflow/tsl/framework/bfc_allocator.cc:1098] 1 Chunks of size 21504 totalling 21.0KiB\n",
      "2023-12-08 15:01:32.431924: I tensorflow/tsl/framework/bfc_allocator.cc:1098] 1 Chunks of size 24064 totalling 23.5KiB\n",
      "2023-12-08 15:01:32.431926: I tensorflow/tsl/framework/bfc_allocator.cc:1098] 19 Chunks of size 32768 totalling 608.0KiB\n",
      "2023-12-08 15:01:32.431928: I tensorflow/tsl/framework/bfc_allocator.cc:1098] 2 Chunks of size 1572864 totalling 3.00MiB\n",
      "2023-12-08 15:01:32.431930: I tensorflow/tsl/framework/bfc_allocator.cc:1098] 146 Chunks of size 2359296 totalling 328.50MiB\n",
      "2023-12-08 15:01:32.431932: I tensorflow/tsl/framework/bfc_allocator.cc:1098] 1 Chunks of size 4306944 totalling 4.11MiB\n",
      "2023-12-08 15:01:32.431933: I tensorflow/tsl/framework/bfc_allocator.cc:1098] 1 Chunks of size 4537344 totalling 4.33MiB\n",
      "2023-12-08 15:01:32.431935: I tensorflow/tsl/framework/bfc_allocator.cc:1098] 8 Chunks of size 6291456 totalling 48.00MiB\n",
      "2023-12-08 15:01:32.431937: I tensorflow/tsl/framework/bfc_allocator.cc:1098] 70 Chunks of size 9437184 totalling 630.00MiB\n",
      "2023-12-08 15:01:32.431939: I tensorflow/tsl/framework/bfc_allocator.cc:1098] 1 Chunks of size 15144960 totalling 14.44MiB\n",
      "2023-12-08 15:01:32.431941: I tensorflow/tsl/framework/bfc_allocator.cc:1098] 1 Chunks of size 16515072 totalling 15.75MiB\n",
      "2023-12-08 15:01:32.431943: I tensorflow/tsl/framework/bfc_allocator.cc:1098] 3 Chunks of size 24582144 totalling 70.33MiB\n",
      "2023-12-08 15:01:32.431945: I tensorflow/tsl/framework/bfc_allocator.cc:1098] 34 Chunks of size 25165824 totalling 816.00MiB\n",
      "2023-12-08 15:01:32.431948: I tensorflow/tsl/framework/bfc_allocator.cc:1098] 1 Chunks of size 25180160 totalling 24.01MiB\n",
      "2023-12-08 15:01:32.431950: I tensorflow/tsl/framework/bfc_allocator.cc:1098] 1 Chunks of size 26161152 totalling 24.95MiB\n",
      "2023-12-08 15:01:32.431951: I tensorflow/tsl/framework/bfc_allocator.cc:1098] 3 Chunks of size 37748736 totalling 108.00MiB\n",
      "2023-12-08 15:01:32.431953: I tensorflow/tsl/framework/bfc_allocator.cc:1098] 1 Chunks of size 45416448 totalling 43.31MiB\n",
      "2023-12-08 15:01:32.431955: I tensorflow/tsl/framework/bfc_allocator.cc:1098] 4 Chunks of size 50331648 totalling 192.00MiB\n",
      "2023-12-08 15:01:32.431957: I tensorflow/tsl/framework/bfc_allocator.cc:1098] 14 Chunks of size 100663296 totalling 1.31GiB\n",
      "2023-12-08 15:01:32.431959: I tensorflow/tsl/framework/bfc_allocator.cc:1098] 1 Chunks of size 187012352 totalling 178.35MiB\n",
      "2023-12-08 15:01:32.431961: I tensorflow/tsl/framework/bfc_allocator.cc:1098] 8 Chunks of size 201326592 totalling 1.50GiB\n",
      "2023-12-08 15:01:32.431963: I tensorflow/tsl/framework/bfc_allocator.cc:1102] Sum Total of in-use chunks: 5.26GiB\n",
      "2023-12-08 15:01:32.431965: I tensorflow/tsl/framework/bfc_allocator.cc:1104] total_region_allocated_bytes_: 5770313728 memory_limit_: 5770313728 available bytes: 0 curr_region_allocation_bytes_: 11540627456\n",
      "2023-12-08 15:01:32.431971: I tensorflow/tsl/framework/bfc_allocator.cc:1110] Stats: \n",
      "Limit:                      5770313728\n",
      "InUse:                      5648869888\n",
      "MaxInUse:                   5648869888\n",
      "NumAllocs:                        2764\n",
      "MaxAllocSize:                201326592\n",
      "Reserved:                            0\n",
      "PeakReserved:                        0\n",
      "LargestFreeBlock:                    0\n",
      "\n",
      "2023-12-08 15:01:32.431995: W tensorflow/tsl/framework/bfc_allocator.cc:492] *******************************************************************************************_*******x\n",
      "2023-12-08 15:01:32.432851: W tensorflow/core/framework/op_kernel.cc:1818] RESOURCE_EXHAUSTED: failed to allocate memory\n"
     ]
    },
    {
     "ename": "ResourceExhaustedError",
     "evalue": "Graph execution error:\n\nDetected at node 'tf_bert_for_sequence_classification/bert/encoder/layer_._3/intermediate/Gelu/mul_1' defined at (most recent call last):\n    File \"/home/mbmk92/anaconda3/envs/dltest/lib/python3.10/runpy.py\", line 196, in _run_module_as_main\n      return _run_code(code, main_globals, None,\n    File \"/home/mbmk92/anaconda3/envs/dltest/lib/python3.10/runpy.py\", line 86, in _run_code\n      exec(code, run_globals)\n    File \"/home/mbmk92/anaconda3/envs/dltest/lib/python3.10/site-packages/ipykernel_launcher.py\", line 17, in <module>\n      app.launch_new_instance()\n    File \"/home/mbmk92/anaconda3/envs/dltest/lib/python3.10/site-packages/traitlets/config/application.py\", line 992, in launch_instance\n      app.start()\n    File \"/home/mbmk92/anaconda3/envs/dltest/lib/python3.10/site-packages/ipykernel/kernelapp.py\", line 711, in start\n      self.io_loop.start()\n    File \"/home/mbmk92/anaconda3/envs/dltest/lib/python3.10/site-packages/tornado/platform/asyncio.py\", line 215, in start\n      self.asyncio_loop.run_forever()\n    File \"/home/mbmk92/anaconda3/envs/dltest/lib/python3.10/asyncio/base_events.py\", line 603, in run_forever\n      self._run_once()\n    File \"/home/mbmk92/anaconda3/envs/dltest/lib/python3.10/asyncio/base_events.py\", line 1906, in _run_once\n      handle._run()\n    File \"/home/mbmk92/anaconda3/envs/dltest/lib/python3.10/asyncio/events.py\", line 80, in _run\n      self._context.run(self._callback, *self._args)\n    File \"/home/mbmk92/anaconda3/envs/dltest/lib/python3.10/site-packages/ipykernel/kernelbase.py\", line 510, in dispatch_queue\n      await self.process_one()\n    File \"/home/mbmk92/anaconda3/envs/dltest/lib/python3.10/site-packages/ipykernel/kernelbase.py\", line 499, in process_one\n      await dispatch(*args)\n    File \"/home/mbmk92/anaconda3/envs/dltest/lib/python3.10/site-packages/ipykernel/kernelbase.py\", line 406, in dispatch_shell\n      await result\n    File \"/home/mbmk92/anaconda3/envs/dltest/lib/python3.10/site-packages/ipykernel/kernelbase.py\", line 729, in execute_request\n      reply_content = await reply_content\n    File \"/home/mbmk92/anaconda3/envs/dltest/lib/python3.10/site-packages/ipykernel/ipkernel.py\", line 411, in do_execute\n      res = shell.run_cell(\n    File \"/home/mbmk92/anaconda3/envs/dltest/lib/python3.10/site-packages/ipykernel/zmqshell.py\", line 531, in run_cell\n      return super().run_cell(*args, **kwargs)\n    File \"/home/mbmk92/anaconda3/envs/dltest/lib/python3.10/site-packages/IPython/core/interactiveshell.py\", line 2961, in run_cell\n      result = self._run_cell(\n    File \"/home/mbmk92/anaconda3/envs/dltest/lib/python3.10/site-packages/IPython/core/interactiveshell.py\", line 3016, in _run_cell\n      result = runner(coro)\n    File \"/home/mbmk92/anaconda3/envs/dltest/lib/python3.10/site-packages/IPython/core/async_helpers.py\", line 129, in _pseudo_sync_runner\n      coro.send(None)\n    File \"/home/mbmk92/anaconda3/envs/dltest/lib/python3.10/site-packages/IPython/core/interactiveshell.py\", line 3221, in run_cell_async\n      has_raised = await self.run_ast_nodes(code_ast.body, cell_name,\n    File \"/home/mbmk92/anaconda3/envs/dltest/lib/python3.10/site-packages/IPython/core/interactiveshell.py\", line 3400, in run_ast_nodes\n      if await self.run_code(code, result, async_=asy):\n    File \"/home/mbmk92/anaconda3/envs/dltest/lib/python3.10/site-packages/IPython/core/interactiveshell.py\", line 3460, in run_code\n      exec(code_obj, self.user_global_ns, self.user_ns)\n    File \"/tmp/ipykernel_4707/1191927106.py\", line 2, in <module>\n      history = model.fit(train_dataset, epochs=epochs, validation_data=(test_inputs[\"input_ids\"], test_labels))\n    File \"/home/mbmk92/anaconda3/envs/dltest/lib/python3.10/site-packages/keras/utils/traceback_utils.py\", line 65, in error_handler\n      return fn(*args, **kwargs)\n    File \"/home/mbmk92/anaconda3/envs/dltest/lib/python3.10/site-packages/keras/engine/training.py\", line 1650, in fit\n      tmp_logs = self.train_function(iterator)\n    File \"/home/mbmk92/anaconda3/envs/dltest/lib/python3.10/site-packages/keras/engine/training.py\", line 1249, in train_function\n      return step_function(self, iterator)\n    File \"/home/mbmk92/anaconda3/envs/dltest/lib/python3.10/site-packages/keras/engine/training.py\", line 1233, in step_function\n      outputs = model.distribute_strategy.run(run_step, args=(data,))\n    File \"/home/mbmk92/anaconda3/envs/dltest/lib/python3.10/site-packages/keras/engine/training.py\", line 1222, in run_step\n      outputs = model.train_step(data)\n    File \"/home/mbmk92/anaconda3/envs/dltest/lib/python3.10/site-packages/transformers/modeling_tf_utils.py\", line 1534, in train_step\n      y_pred = self(x, training=True)\n    File \"/home/mbmk92/anaconda3/envs/dltest/lib/python3.10/site-packages/keras/utils/traceback_utils.py\", line 65, in error_handler\n      return fn(*args, **kwargs)\n    File \"/home/mbmk92/anaconda3/envs/dltest/lib/python3.10/site-packages/keras/engine/training.py\", line 561, in __call__\n      return super().__call__(*args, **kwargs)\n    File \"/home/mbmk92/anaconda3/envs/dltest/lib/python3.10/site-packages/keras/utils/traceback_utils.py\", line 65, in error_handler\n      return fn(*args, **kwargs)\n    File \"/home/mbmk92/anaconda3/envs/dltest/lib/python3.10/site-packages/keras/engine/base_layer.py\", line 1132, in __call__\n      outputs = call_fn(inputs, *args, **kwargs)\n    File \"/home/mbmk92/anaconda3/envs/dltest/lib/python3.10/site-packages/keras/utils/traceback_utils.py\", line 96, in error_handler\n      return fn(*args, **kwargs)\n    File \"/home/mbmk92/anaconda3/envs/dltest/lib/python3.10/site-packages/transformers/modeling_tf_utils.py\", line 1639, in run_call_with_unpacked_inputs\n      y_pred = self(x, return_loss=True, training=False)\n    File \"/home/mbmk92/anaconda3/envs/dltest/lib/python3.10/site-packages/transformers/models/bert/modeling_tf_bert.py\", line 1651, in call\n      outputs = self.bert(\n    File \"/home/mbmk92/anaconda3/envs/dltest/lib/python3.10/site-packages/keras/utils/traceback_utils.py\", line 65, in error_handler\n      return fn(*args, **kwargs)\n    File \"/home/mbmk92/anaconda3/envs/dltest/lib/python3.10/site-packages/keras/engine/base_layer.py\", line 1132, in __call__\n      outputs = call_fn(inputs, *args, **kwargs)\n    File \"/home/mbmk92/anaconda3/envs/dltest/lib/python3.10/site-packages/keras/utils/traceback_utils.py\", line 96, in error_handler\n      return fn(*args, **kwargs)\n    File \"/home/mbmk92/anaconda3/envs/dltest/lib/python3.10/site-packages/transformers/modeling_tf_utils.py\", line 1639, in run_call_with_unpacked_inputs\n      y_pred = self(x, return_loss=True, training=False)\n    File \"/home/mbmk92/anaconda3/envs/dltest/lib/python3.10/site-packages/transformers/models/bert/modeling_tf_bert.py\", line 870, in call\n      encoder_outputs = self.encoder(\n    File \"/home/mbmk92/anaconda3/envs/dltest/lib/python3.10/site-packages/keras/utils/traceback_utils.py\", line 65, in error_handler\n      return fn(*args, **kwargs)\n    File \"/home/mbmk92/anaconda3/envs/dltest/lib/python3.10/site-packages/keras/engine/base_layer.py\", line 1132, in __call__\n      outputs = call_fn(inputs, *args, **kwargs)\n    File \"/home/mbmk92/anaconda3/envs/dltest/lib/python3.10/site-packages/keras/utils/traceback_utils.py\", line 96, in error_handler\n      return fn(*args, **kwargs)\n    File \"/home/mbmk92/anaconda3/envs/dltest/lib/python3.10/site-packages/transformers/models/bert/modeling_tf_bert.py\", line 556, in call\n      for i, layer_module in enumerate(self.layer):\n    File \"/home/mbmk92/anaconda3/envs/dltest/lib/python3.10/site-packages/transformers/models/bert/modeling_tf_bert.py\", line 562, in call\n      layer_outputs = layer_module(\n    File \"/home/mbmk92/anaconda3/envs/dltest/lib/python3.10/site-packages/keras/utils/traceback_utils.py\", line 65, in error_handler\n      return fn(*args, **kwargs)\n    File \"/home/mbmk92/anaconda3/envs/dltest/lib/python3.10/site-packages/keras/engine/base_layer.py\", line 1132, in __call__\n      outputs = call_fn(inputs, *args, **kwargs)\n    File \"/home/mbmk92/anaconda3/envs/dltest/lib/python3.10/site-packages/keras/utils/traceback_utils.py\", line 96, in error_handler\n      return fn(*args, **kwargs)\n    File \"/home/mbmk92/anaconda3/envs/dltest/lib/python3.10/site-packages/transformers/models/bert/modeling_tf_bert.py\", line 518, in call\n      intermediate_output = self.intermediate(hidden_states=attention_output)\n    File \"/home/mbmk92/anaconda3/envs/dltest/lib/python3.10/site-packages/keras/utils/traceback_utils.py\", line 65, in error_handler\n      return fn(*args, **kwargs)\n    File \"/home/mbmk92/anaconda3/envs/dltest/lib/python3.10/site-packages/keras/engine/base_layer.py\", line 1132, in __call__\n      outputs = call_fn(inputs, *args, **kwargs)\n    File \"/home/mbmk92/anaconda3/envs/dltest/lib/python3.10/site-packages/keras/utils/traceback_utils.py\", line 96, in error_handler\n      return fn(*args, **kwargs)\n    File \"/home/mbmk92/anaconda3/envs/dltest/lib/python3.10/site-packages/transformers/models/bert/modeling_tf_bert.py\", line 422, in call\n      hidden_states = self.intermediate_act_fn(hidden_states)\n    File \"/home/mbmk92/anaconda3/envs/dltest/lib/python3.10/site-packages/keras/activations.py\", line 359, in gelu\n      return tf.nn.gelu(x, approximate)\nNode: 'tf_bert_for_sequence_classification/bert/encoder/layer_._3/intermediate/Gelu/mul_1'\nfailed to allocate memory\n\t [[{{node tf_bert_for_sequence_classification/bert/encoder/layer_._3/intermediate/Gelu/mul_1}}]]\nHint: If you want to see a list of allocated tensors when OOM happens, add report_tensor_allocations_upon_oom to RunOptions for current allocation info. This isn't available when running in Eager mode.\n [Op:__inference_train_function_25149]",
     "output_type": "error",
     "traceback": [
      "\u001B[0;31m---------------------------------------------------------------------------\u001B[0m",
      "\u001B[0;31mResourceExhaustedError\u001B[0m                    Traceback (most recent call last)",
      "Cell \u001B[0;32mIn[51], line 2\u001B[0m\n\u001B[1;32m      1\u001B[0m \u001B[38;5;66;03m# Train the model\u001B[39;00m\n\u001B[0;32m----> 2\u001B[0m history \u001B[38;5;241m=\u001B[39m \u001B[43mmodel\u001B[49m\u001B[38;5;241;43m.\u001B[39;49m\u001B[43mfit\u001B[49m\u001B[43m(\u001B[49m\u001B[43mtrain_dataset\u001B[49m\u001B[43m,\u001B[49m\u001B[43m \u001B[49m\u001B[43mepochs\u001B[49m\u001B[38;5;241;43m=\u001B[39;49m\u001B[43mepochs\u001B[49m\u001B[43m,\u001B[49m\u001B[43m \u001B[49m\u001B[43mvalidation_data\u001B[49m\u001B[38;5;241;43m=\u001B[39;49m\u001B[43m(\u001B[49m\u001B[43mtest_inputs\u001B[49m\u001B[43m[\u001B[49m\u001B[38;5;124;43m\"\u001B[39;49m\u001B[38;5;124;43minput_ids\u001B[39;49m\u001B[38;5;124;43m\"\u001B[39;49m\u001B[43m]\u001B[49m\u001B[43m,\u001B[49m\u001B[43m \u001B[49m\u001B[43mtest_labels\u001B[49m\u001B[43m)\u001B[49m\u001B[43m)\u001B[49m\n",
      "File \u001B[0;32m~/anaconda3/envs/dltest/lib/python3.10/site-packages/keras/utils/traceback_utils.py:70\u001B[0m, in \u001B[0;36mfilter_traceback.<locals>.error_handler\u001B[0;34m(*args, **kwargs)\u001B[0m\n\u001B[1;32m     67\u001B[0m     filtered_tb \u001B[38;5;241m=\u001B[39m _process_traceback_frames(e\u001B[38;5;241m.\u001B[39m__traceback__)\n\u001B[1;32m     68\u001B[0m     \u001B[38;5;66;03m# To get the full stack trace, call:\u001B[39;00m\n\u001B[1;32m     69\u001B[0m     \u001B[38;5;66;03m# `tf.debugging.disable_traceback_filtering()`\u001B[39;00m\n\u001B[0;32m---> 70\u001B[0m     \u001B[38;5;28;01mraise\u001B[39;00m e\u001B[38;5;241m.\u001B[39mwith_traceback(filtered_tb) \u001B[38;5;28;01mfrom\u001B[39;00m \u001B[38;5;28mNone\u001B[39m\n\u001B[1;32m     71\u001B[0m \u001B[38;5;28;01mfinally\u001B[39;00m:\n\u001B[1;32m     72\u001B[0m     \u001B[38;5;28;01mdel\u001B[39;00m filtered_tb\n",
      "File \u001B[0;32m~/anaconda3/envs/dltest/lib/python3.10/site-packages/tensorflow/python/eager/execute.py:52\u001B[0m, in \u001B[0;36mquick_execute\u001B[0;34m(op_name, num_outputs, inputs, attrs, ctx, name)\u001B[0m\n\u001B[1;32m     50\u001B[0m \u001B[38;5;28;01mtry\u001B[39;00m:\n\u001B[1;32m     51\u001B[0m   ctx\u001B[38;5;241m.\u001B[39mensure_initialized()\n\u001B[0;32m---> 52\u001B[0m   tensors \u001B[38;5;241m=\u001B[39m pywrap_tfe\u001B[38;5;241m.\u001B[39mTFE_Py_Execute(ctx\u001B[38;5;241m.\u001B[39m_handle, device_name, op_name,\n\u001B[1;32m     53\u001B[0m                                       inputs, attrs, num_outputs)\n\u001B[1;32m     54\u001B[0m \u001B[38;5;28;01mexcept\u001B[39;00m core\u001B[38;5;241m.\u001B[39m_NotOkStatusException \u001B[38;5;28;01mas\u001B[39;00m e:\n\u001B[1;32m     55\u001B[0m   \u001B[38;5;28;01mif\u001B[39;00m name \u001B[38;5;129;01mis\u001B[39;00m \u001B[38;5;129;01mnot\u001B[39;00m \u001B[38;5;28;01mNone\u001B[39;00m:\n",
      "\u001B[0;31mResourceExhaustedError\u001B[0m: Graph execution error:\n\nDetected at node 'tf_bert_for_sequence_classification/bert/encoder/layer_._3/intermediate/Gelu/mul_1' defined at (most recent call last):\n    File \"/home/mbmk92/anaconda3/envs/dltest/lib/python3.10/runpy.py\", line 196, in _run_module_as_main\n      return _run_code(code, main_globals, None,\n    File \"/home/mbmk92/anaconda3/envs/dltest/lib/python3.10/runpy.py\", line 86, in _run_code\n      exec(code, run_globals)\n    File \"/home/mbmk92/anaconda3/envs/dltest/lib/python3.10/site-packages/ipykernel_launcher.py\", line 17, in <module>\n      app.launch_new_instance()\n    File \"/home/mbmk92/anaconda3/envs/dltest/lib/python3.10/site-packages/traitlets/config/application.py\", line 992, in launch_instance\n      app.start()\n    File \"/home/mbmk92/anaconda3/envs/dltest/lib/python3.10/site-packages/ipykernel/kernelapp.py\", line 711, in start\n      self.io_loop.start()\n    File \"/home/mbmk92/anaconda3/envs/dltest/lib/python3.10/site-packages/tornado/platform/asyncio.py\", line 215, in start\n      self.asyncio_loop.run_forever()\n    File \"/home/mbmk92/anaconda3/envs/dltest/lib/python3.10/asyncio/base_events.py\", line 603, in run_forever\n      self._run_once()\n    File \"/home/mbmk92/anaconda3/envs/dltest/lib/python3.10/asyncio/base_events.py\", line 1906, in _run_once\n      handle._run()\n    File \"/home/mbmk92/anaconda3/envs/dltest/lib/python3.10/asyncio/events.py\", line 80, in _run\n      self._context.run(self._callback, *self._args)\n    File \"/home/mbmk92/anaconda3/envs/dltest/lib/python3.10/site-packages/ipykernel/kernelbase.py\", line 510, in dispatch_queue\n      await self.process_one()\n    File \"/home/mbmk92/anaconda3/envs/dltest/lib/python3.10/site-packages/ipykernel/kernelbase.py\", line 499, in process_one\n      await dispatch(*args)\n    File \"/home/mbmk92/anaconda3/envs/dltest/lib/python3.10/site-packages/ipykernel/kernelbase.py\", line 406, in dispatch_shell\n      await result\n    File \"/home/mbmk92/anaconda3/envs/dltest/lib/python3.10/site-packages/ipykernel/kernelbase.py\", line 729, in execute_request\n      reply_content = await reply_content\n    File \"/home/mbmk92/anaconda3/envs/dltest/lib/python3.10/site-packages/ipykernel/ipkernel.py\", line 411, in do_execute\n      res = shell.run_cell(\n    File \"/home/mbmk92/anaconda3/envs/dltest/lib/python3.10/site-packages/ipykernel/zmqshell.py\", line 531, in run_cell\n      return super().run_cell(*args, **kwargs)\n    File \"/home/mbmk92/anaconda3/envs/dltest/lib/python3.10/site-packages/IPython/core/interactiveshell.py\", line 2961, in run_cell\n      result = self._run_cell(\n    File \"/home/mbmk92/anaconda3/envs/dltest/lib/python3.10/site-packages/IPython/core/interactiveshell.py\", line 3016, in _run_cell\n      result = runner(coro)\n    File \"/home/mbmk92/anaconda3/envs/dltest/lib/python3.10/site-packages/IPython/core/async_helpers.py\", line 129, in _pseudo_sync_runner\n      coro.send(None)\n    File \"/home/mbmk92/anaconda3/envs/dltest/lib/python3.10/site-packages/IPython/core/interactiveshell.py\", line 3221, in run_cell_async\n      has_raised = await self.run_ast_nodes(code_ast.body, cell_name,\n    File \"/home/mbmk92/anaconda3/envs/dltest/lib/python3.10/site-packages/IPython/core/interactiveshell.py\", line 3400, in run_ast_nodes\n      if await self.run_code(code, result, async_=asy):\n    File \"/home/mbmk92/anaconda3/envs/dltest/lib/python3.10/site-packages/IPython/core/interactiveshell.py\", line 3460, in run_code\n      exec(code_obj, self.user_global_ns, self.user_ns)\n    File \"/tmp/ipykernel_4707/1191927106.py\", line 2, in <module>\n      history = model.fit(train_dataset, epochs=epochs, validation_data=(test_inputs[\"input_ids\"], test_labels))\n    File \"/home/mbmk92/anaconda3/envs/dltest/lib/python3.10/site-packages/keras/utils/traceback_utils.py\", line 65, in error_handler\n      return fn(*args, **kwargs)\n    File \"/home/mbmk92/anaconda3/envs/dltest/lib/python3.10/site-packages/keras/engine/training.py\", line 1650, in fit\n      tmp_logs = self.train_function(iterator)\n    File \"/home/mbmk92/anaconda3/envs/dltest/lib/python3.10/site-packages/keras/engine/training.py\", line 1249, in train_function\n      return step_function(self, iterator)\n    File \"/home/mbmk92/anaconda3/envs/dltest/lib/python3.10/site-packages/keras/engine/training.py\", line 1233, in step_function\n      outputs = model.distribute_strategy.run(run_step, args=(data,))\n    File \"/home/mbmk92/anaconda3/envs/dltest/lib/python3.10/site-packages/keras/engine/training.py\", line 1222, in run_step\n      outputs = model.train_step(data)\n    File \"/home/mbmk92/anaconda3/envs/dltest/lib/python3.10/site-packages/transformers/modeling_tf_utils.py\", line 1534, in train_step\n      y_pred = self(x, training=True)\n    File \"/home/mbmk92/anaconda3/envs/dltest/lib/python3.10/site-packages/keras/utils/traceback_utils.py\", line 65, in error_handler\n      return fn(*args, **kwargs)\n    File \"/home/mbmk92/anaconda3/envs/dltest/lib/python3.10/site-packages/keras/engine/training.py\", line 561, in __call__\n      return super().__call__(*args, **kwargs)\n    File \"/home/mbmk92/anaconda3/envs/dltest/lib/python3.10/site-packages/keras/utils/traceback_utils.py\", line 65, in error_handler\n      return fn(*args, **kwargs)\n    File \"/home/mbmk92/anaconda3/envs/dltest/lib/python3.10/site-packages/keras/engine/base_layer.py\", line 1132, in __call__\n      outputs = call_fn(inputs, *args, **kwargs)\n    File \"/home/mbmk92/anaconda3/envs/dltest/lib/python3.10/site-packages/keras/utils/traceback_utils.py\", line 96, in error_handler\n      return fn(*args, **kwargs)\n    File \"/home/mbmk92/anaconda3/envs/dltest/lib/python3.10/site-packages/transformers/modeling_tf_utils.py\", line 1639, in run_call_with_unpacked_inputs\n      y_pred = self(x, return_loss=True, training=False)\n    File \"/home/mbmk92/anaconda3/envs/dltest/lib/python3.10/site-packages/transformers/models/bert/modeling_tf_bert.py\", line 1651, in call\n      outputs = self.bert(\n    File \"/home/mbmk92/anaconda3/envs/dltest/lib/python3.10/site-packages/keras/utils/traceback_utils.py\", line 65, in error_handler\n      return fn(*args, **kwargs)\n    File \"/home/mbmk92/anaconda3/envs/dltest/lib/python3.10/site-packages/keras/engine/base_layer.py\", line 1132, in __call__\n      outputs = call_fn(inputs, *args, **kwargs)\n    File \"/home/mbmk92/anaconda3/envs/dltest/lib/python3.10/site-packages/keras/utils/traceback_utils.py\", line 96, in error_handler\n      return fn(*args, **kwargs)\n    File \"/home/mbmk92/anaconda3/envs/dltest/lib/python3.10/site-packages/transformers/modeling_tf_utils.py\", line 1639, in run_call_with_unpacked_inputs\n      y_pred = self(x, return_loss=True, training=False)\n    File \"/home/mbmk92/anaconda3/envs/dltest/lib/python3.10/site-packages/transformers/models/bert/modeling_tf_bert.py\", line 870, in call\n      encoder_outputs = self.encoder(\n    File \"/home/mbmk92/anaconda3/envs/dltest/lib/python3.10/site-packages/keras/utils/traceback_utils.py\", line 65, in error_handler\n      return fn(*args, **kwargs)\n    File \"/home/mbmk92/anaconda3/envs/dltest/lib/python3.10/site-packages/keras/engine/base_layer.py\", line 1132, in __call__\n      outputs = call_fn(inputs, *args, **kwargs)\n    File \"/home/mbmk92/anaconda3/envs/dltest/lib/python3.10/site-packages/keras/utils/traceback_utils.py\", line 96, in error_handler\n      return fn(*args, **kwargs)\n    File \"/home/mbmk92/anaconda3/envs/dltest/lib/python3.10/site-packages/transformers/models/bert/modeling_tf_bert.py\", line 556, in call\n      for i, layer_module in enumerate(self.layer):\n    File \"/home/mbmk92/anaconda3/envs/dltest/lib/python3.10/site-packages/transformers/models/bert/modeling_tf_bert.py\", line 562, in call\n      layer_outputs = layer_module(\n    File \"/home/mbmk92/anaconda3/envs/dltest/lib/python3.10/site-packages/keras/utils/traceback_utils.py\", line 65, in error_handler\n      return fn(*args, **kwargs)\n    File \"/home/mbmk92/anaconda3/envs/dltest/lib/python3.10/site-packages/keras/engine/base_layer.py\", line 1132, in __call__\n      outputs = call_fn(inputs, *args, **kwargs)\n    File \"/home/mbmk92/anaconda3/envs/dltest/lib/python3.10/site-packages/keras/utils/traceback_utils.py\", line 96, in error_handler\n      return fn(*args, **kwargs)\n    File \"/home/mbmk92/anaconda3/envs/dltest/lib/python3.10/site-packages/transformers/models/bert/modeling_tf_bert.py\", line 518, in call\n      intermediate_output = self.intermediate(hidden_states=attention_output)\n    File \"/home/mbmk92/anaconda3/envs/dltest/lib/python3.10/site-packages/keras/utils/traceback_utils.py\", line 65, in error_handler\n      return fn(*args, **kwargs)\n    File \"/home/mbmk92/anaconda3/envs/dltest/lib/python3.10/site-packages/keras/engine/base_layer.py\", line 1132, in __call__\n      outputs = call_fn(inputs, *args, **kwargs)\n    File \"/home/mbmk92/anaconda3/envs/dltest/lib/python3.10/site-packages/keras/utils/traceback_utils.py\", line 96, in error_handler\n      return fn(*args, **kwargs)\n    File \"/home/mbmk92/anaconda3/envs/dltest/lib/python3.10/site-packages/transformers/models/bert/modeling_tf_bert.py\", line 422, in call\n      hidden_states = self.intermediate_act_fn(hidden_states)\n    File \"/home/mbmk92/anaconda3/envs/dltest/lib/python3.10/site-packages/keras/activations.py\", line 359, in gelu\n      return tf.nn.gelu(x, approximate)\nNode: 'tf_bert_for_sequence_classification/bert/encoder/layer_._3/intermediate/Gelu/mul_1'\nfailed to allocate memory\n\t [[{{node tf_bert_for_sequence_classification/bert/encoder/layer_._3/intermediate/Gelu/mul_1}}]]\nHint: If you want to see a list of allocated tensors when OOM happens, add report_tensor_allocations_upon_oom to RunOptions for current allocation info. This isn't available when running in Eager mode.\n [Op:__inference_train_function_25149]"
     ]
    }
   ],
   "source": [
    "# Train the model\n",
    "history = model.fit(train_dataset, epochs=epochs, validation_data=(test_inputs[\"input_ids\"], test_labels))\n",
    "\n",
    "# history = model.fit(train_dataset, epochs=epochs, validation_data=(test_inputs[\"input_ids\"], test_labels))\n",
    "# history = model.fit(train_dataset)"
   ],
   "metadata": {
    "collapsed": false,
    "ExecuteTime": {
     "end_time": "2023-12-08T06:01:32.500324700Z",
     "start_time": "2023-12-08T06:01:11.273925800Z"
    }
   },
   "id": "1a3ad9c544a17f39"
  },
  {
   "cell_type": "markdown",
   "source": [
    "#### Tokenize dataset OLD method"
   ],
   "metadata": {
    "collapsed": false
   },
   "id": "cc1a04c769c85fb2"
  },
  {
   "cell_type": "code",
   "execution_count": null,
   "outputs": [],
   "source": [
    "# # Tokenize all of the sentences and map the tokens to thier word IDs.\n",
    "# # Map to the expected input to TFBertForSequenceClassification, see https://huggingface.co/transformers/model_doc/bert.html#tfbertforsequenceclassification\n",
    "# train_input_ids = []\n",
    "# train_attention_masks = []\n",
    "# \n",
    "# validation_input_ids = []\n",
    "# validation_attention_masks = []\n",
    "# \n",
    "# # For every sentence...\n",
    "# for train_sent, validation_sent in zip(train_inputs, validation_inputs):\n",
    "#     # `encode_plus` will:\n",
    "#     #   (1) Tokenize the sentence.\n",
    "#     #   (2) Prepend the `[CLS]` token to the start.\n",
    "#     #   (3) Append the `[SEP]` token to the end.\n",
    "#     #   (4) Map tokens to their IDs.\n",
    "#     #   (5) Pad or truncate the sentence to `max_length`\n",
    "#     #   (6) Create attention masks for [PAD] tokens.\n",
    "#     train_encoded_dict = tokenizer1.encode_plus(\n",
    "#                         train_sent,                      # Sentence to encode.\n",
    "#                         add_special_tokens = True, # Add '[CLS]' and '[SEP]'\n",
    "#                         max_length = 64,           # Pad & truncate all sentences.\n",
    "#                         padding='max_length',\n",
    "#                         return_attention_mask = True,   # Construct attn. masks.\n",
    "#                         truncation=True,\n",
    "#                         return_tensors = 'tf',     # Return tensorflow tensor.\n",
    "#                    )\n",
    "#     validation_encoded_dict = tokenizer1.encode_plus(\n",
    "#                         validation_sent,                      # Sentence to encode.\n",
    "#                         add_special_tokens = True, # Add '[CLS]' and '[SEP]'\n",
    "#                         max_length = 64,           # Pad & truncate all sentences.\n",
    "#                         padding='max_length',\n",
    "#                         return_attention_mask = True,   # Construct attn. masks.\n",
    "#                         truncation=True,\n",
    "#                         return_tensors = 'tf',     # Return tensorflow tensor.\n",
    "#                    )\n",
    "#     \n",
    "#     # Add the encoded sentence to the list.    \n",
    "#     train_input_ids.append(train_encoded_dict['input_ids'])\n",
    "#     train_attention_masks.append(train_encoded_dict['attention_mask'])\n",
    "#     validation_input_ids.append(validation_encoded_dict['input_ids'])\n",
    "#     validation_attention_masks.append(validation_encoded_dict['attention_mask'])"
   ],
   "metadata": {
    "collapsed": false,
    "ExecuteTime": {
     "end_time": "2023-12-08T06:00:03.563051700Z",
     "start_time": "2023-12-08T06:00:03.523289400Z"
    }
   },
   "id": "bf7084b85b9b1554"
  },
  {
   "cell_type": "code",
   "execution_count": null,
   "outputs": [],
   "source": [
    "# # Convert the lists into tensors.\n",
    "# train_input_ids = tf.convert_to_tensor(train_input_ids)\n",
    "# train_attention_masks = tf.convert_to_tensor(train_attention_masks)\n",
    "# train_labels = tf.convert_to_tensor(train_labels)\n",
    "# \n",
    "# validation_input_ids = tf.convert_to_tensor(validation_input_ids)\n",
    "# validation_attention_masks = tf.convert_to_tensor(validation_attention_masks)\n",
    "# validation_labels = tf.convert_to_tensor(validation_labels)\n",
    "# \n",
    "# # Print sentence 0, now as a list of IDs.\n",
    "# print('Original: ', train_inputs[0])\n",
    "# print('Token IDs:', train_input_ids[0])"
   ],
   "metadata": {
    "collapsed": false,
    "ExecuteTime": {
     "start_time": "2023-12-08T06:00:03.524288500Z"
    }
   },
   "id": "2c3b2b750b1a8069"
  },
  {
   "cell_type": "code",
   "execution_count": null,
   "outputs": [],
   "source": [
    "# # prepare the dataset for training\n",
    "# train_dataset = tf.data.Dataset.from_tensor_slices((train_input_ids, train_attention_masks, train_labels))\n",
    "# validation_dataset = tf.data.Dataset.from_tensor_slices((validation_input_ids, validation_attention_masks, validation_labels))"
   ],
   "metadata": {
    "collapsed": false,
    "ExecuteTime": {
     "start_time": "2023-12-08T06:00:03.526288400Z"
    }
   },
   "id": "ce34a95a383f2f6e"
  },
  {
   "cell_type": "code",
   "execution_count": null,
   "outputs": [],
   "source": [
    "# # shuffle the dataset\n",
    "# train_dataset = train_dataset.shuffle(len(train_input_ids)).batch(32)\n",
    "# validation_dataset = validation_dataset.shuffle(len(validation_input_ids)).batch(32)"
   ],
   "metadata": {
    "collapsed": false,
    "ExecuteTime": {
     "start_time": "2023-12-08T06:00:03.527288500Z"
    }
   },
   "id": "61aeb14810de4a0f"
  },
  {
   "cell_type": "code",
   "execution_count": null,
   "outputs": [],
   "source": [
    "# # print the shape of the dataset\n",
    "# print(train_dataset)\n",
    "# print(validation_dataset)"
   ],
   "metadata": {
    "collapsed": false,
    "ExecuteTime": {
     "start_time": "2023-12-08T06:00:03.528287900Z"
    }
   },
   "id": "605e3e439c579b30"
  },
  {
   "cell_type": "markdown",
   "source": [],
   "metadata": {
    "collapsed": false
   },
   "id": "3b52be53d2a65b4a"
  },
  {
   "cell_type": "markdown",
   "source": [
    "#### Train the korean BERT model"
   ],
   "metadata": {
    "collapsed": false
   },
   "id": "6690a0c7437900db"
  },
  {
   "cell_type": "code",
   "execution_count": null,
   "outputs": [],
   "source": [
    "# #Function to get all the model settings and parameters\n",
    "# def get_model_settings(model):\n",
    "#     print('Model Name: ', model.name_or_path)\n",
    "#     print('Model Type: ', model.__class__)\n",
    "#     print('Model Parameters: ', model.config)\n",
    "#     # print('Model Parameters: ', model.config.to_dict())\n",
    "#     # print('Model Parameters: ', model.config.to_json_string())\n",
    "#     # print('Model Parameters: ', model.config.to_yaml())\n",
    "#     # print('Model Parameters: ', model.config.to_dict())\n",
    "#     # print('Model Parameters: ', model.config.to_diff_dict())\n",
    "#     # print('Model Parameters: ', model.config.to_json_file())\n",
    "#     # print('Model Parameters: ', model.config.to_json_string())\n",
    "#     # print('Model Parameters: ', model.config.to_pretrained_dict())\n",
    "#     # print('Model Parameters: ', model.config.to_yaml())\n",
    "#     # print('Model Parameters: ', model.config.to_dict())\n",
    "#     # print('Model Parameters: ', model.config.to_diff_dict())\n",
    "#     # print('Model Parameters: ', model.config.to_json_file())\n",
    "#     # print('Model Parameters: ', model.config.to_json_string())\n",
    "#     # print('Model Parameters: ', model.config.to_pretrained_dict())\n",
    "#     # print('Model Parameters: ', model.config.to_yaml())\n",
    "#     # print('Model Parameters: ', model.config.to_dict())\n",
    "#     # print('Model Parameters: ', model.config.to_diff_dict())\n",
    "#     # print('Model Parameters: ', model.config.to_json_file())\n",
    "#     # print('Model Parameters: ', model.config.to_json_string())\n",
    "#     # print('Model Parameters: ', model.config.to_pretrained_dict())\n",
    "#     # print('Model Parameters: ', model.config.to_yaml())\n",
    "#     # print('Model Parameters: ', model.config.to_dict())\n",
    "#     # print('Model Parameters: ', model.config.to_diff_dict())\n",
    "#     # print('Model Parameters: ', model.config.to_json_file())\n",
    "#     # print('Model Parameters: ', model.config.to_json_string())\n",
    "#     # print('Model Parameters: ', model.config.to_pretrained_dict())\n",
    "#     # print('Model Parameters: ', model.config.to_yaml())\n",
    "#     # print('Model Parameters: ', model.config.to_dict())\n",
    "#     # print('Model Parameters: ', model.config.to_diff_dict())\n",
    "#     # print('Model Parameters: ', model.config.to_json_file())\n",
    "#     # print('Model Parameters: ', model.config.to_json_string())\n",
    "#     # print('Model Parameters: ', model.config.to_pretrained_dict())\n",
    "#     # print('Model Parameters: ', model.config.to_yaml())\n",
    "#     # print('Model Parameters: ', model.config.to_dict())\n",
    "#     # print('Model Parameters: ', model.config.to_diff_dict())\n",
    "#     # print('Model Parameters: ', model.config.to_json_file())\n"
   ],
   "metadata": {
    "collapsed": false,
    "ExecuteTime": {
     "start_time": "2023-12-08T06:00:03.529293600Z"
    }
   },
   "id": "71937f4516e81c88"
  },
  {
   "cell_type": "code",
   "execution_count": null,
   "outputs": [],
   "source": [
    "# # function to get the model detail after compiling\n",
    "# def get_model_details(model):\n",
    "#     print('Model Name: ', model.name)\n",
    "#     print('Model Type: ', model.__class__)\n",
    "#     print('Model Parameters: ', model.count_params())\n",
    "#     print('Model Parameters: ', model.summary())\n",
    "#     # print('Model Parameters: ', model.weights)\n",
    "#     # print('Model Parameters: ', model.trainable_weights)\n",
    "#     # print('Model Parameters: ', model.non_trainable_weights)\n",
    "#     # print('Model Parameters: ', model.layers)\n",
    "#     # print('Model Parameters: ', model.layers[0].name)\n",
    "#     # print('Model Parameters: ', model.layers[0].trainable)\n",
    "#     # print('Model Parameters: ', model.layers[0].count_params())\n",
    "#     # print('Model Parameters: ', model.layers[0].input_shape)\n",
    "#     # print('Model Parameters: ', model.layers[0].output_shape)\n",
    "#     # print('Model Parameters: ', model.layers[0].get_weights())\n",
    "#     # print('Model Parameters: ', model.layers[0].get_weights()[0].shape)\n",
    "#     # print('Model Parameters: ', model.layers[0].get_weights()[1].shape)\n",
    "#     # print('Model Parameters: ', model.layers[0].get_weights()[0])\n",
    "#     # print('Model Parameters: ', model.layers[0].get_weights()[1])\n",
    "#     # print('Model Parameters: ', model.layers[0].get_weights()[0].size)\n",
    "#     # print('Model Parameters: ', model.layers[0].get_weights()[1].size)\n",
    "#     # print('Model Parameters: ', model.layers[0].get_weights()[0].nbytes)\n",
    "#     # print('Model Parameters: ', model.layers[0].get_weights()[1].nbytes)\n",
    "#     # print('Model Parameters: ', model.layers[0].get_weights()[0].itemsize)\n",
    "#     # print('Model Parameters: ', model.layers[0].get_weights()[1].itemsize)\n",
    "#     # print('Model Parameters: ', model.layers[0].get_weights()[0].dtype)\n",
    "#     # print('Model Parameters: ', model.layers[0].get_weights()[1].dtype)\n",
    "#     # print('Model Parameters: ', model.layers[0].get_weights()[0].ndim)\n",
    "#     # print('Model Parameters: ', model.layers[0].get_weights()[1].ndim)\n",
    "#     # print('Model Parameters: ', model.layers[0].get_weights()[0].shape)\n",
    "#     # print('Model Parameters: ', model.layers[0].get_weights()[1].shape)\n",
    "#     # print('Model Parameters: ', model.layers[0].get_weights()[0].flatten())\n",
    "#     # print('Model Parameters: ', model.layers[0].get_weights()[0].flatten().shape)\n",
    "#     # print('Model Parameters: ', model.layers[0].get_weights()[1].flatten())\n",
    "#     # print('Model Parameters: ', model.layers[0].get_weights()[1].flatten().shape)  \n",
    "#     # print('Model Parameters: ', model.layers[0].get_weights()[0].flatten().size)\n",
    "#     # print('Model Parameters: ', model.layers[0].get_weights()[1].flatten().size)\n",
    "#     # print('Model Parameters: ', model.layers[0].get_weights()[0].flatten().nbytes)\n",
    "#     # print('Model Parameters: ', model.layers[0].get_weights()[1].flatten().nbytes)\n",
    "#     # print('Model Parameters: ', model.layers[0].get_weights()[0].flatten().itemsize)\n",
    "#     # print('Model Parameters: ', model.layers[0].get_weights()[1].flatten().itemsize)   "
   ],
   "metadata": {
    "collapsed": false,
    "ExecuteTime": {
     "start_time": "2023-12-08T06:00:03.530796Z"
    }
   },
   "id": "8701d4f98c39ce94"
  },
  {
   "cell_type": "code",
   "execution_count": null,
   "outputs": [],
   "source": [
    "# # Load the pre-trained KoBERT model\n",
    "# model = TFBertForSequenceClassification.from_pretrained(model_name, num_labels=2, from_pt=True)"
   ],
   "metadata": {
    "collapsed": false,
    "ExecuteTime": {
     "start_time": "2023-12-08T06:00:03.531805200Z"
    }
   },
   "id": "8dcfcc66dd93cc60"
  },
  {
   "cell_type": "code",
   "execution_count": null,
   "outputs": [],
   "source": [
    "\n",
    "# model1 = TFAutoModelForSequenceClassification.from_pretrained(model_name, num_labels=2, from_pt=True)"
   ],
   "metadata": {
    "collapsed": false,
    "ExecuteTime": {
     "start_time": "2023-12-08T06:00:03.534318100Z"
    }
   },
   "id": "5928a9a0bc96d2d6"
  },
  {
   "cell_type": "code",
   "execution_count": null,
   "outputs": [],
   "source": [
    "# model0 = TFBertModel.from_pretrained(model_name, from_pt=True,num_labels=2)"
   ],
   "metadata": {
    "collapsed": false,
    "ExecuteTime": {
     "start_time": "2023-12-08T06:00:03.535333800Z"
    }
   },
   "id": "ab760c02b518245c"
  },
  {
   "cell_type": "code",
   "execution_count": null,
   "outputs": [],
   "source": [
    "# model2 = AutoModelForSequenceClassification.from_pretrained(model_name, num_labels=2)"
   ],
   "metadata": {
    "collapsed": false,
    "ExecuteTime": {
     "start_time": "2023-12-08T06:00:03.536333100Z"
    }
   },
   "id": "561516085c1b1217"
  },
  {
   "cell_type": "code",
   "execution_count": null,
   "outputs": [],
   "source": [
    "# # Get the model settings and parameters\n",
    "# get_model_settings(model)\n",
    "# print('#'*100)"
   ],
   "metadata": {
    "collapsed": false,
    "ExecuteTime": {
     "start_time": "2023-12-08T06:00:03.537330800Z"
    }
   },
   "id": "461c56653d47beee"
  },
  {
   "cell_type": "code",
   "execution_count": null,
   "outputs": [],
   "source": [
    "# # Get the model settings and parameters\n",
    "# get_model_settings(model1)\n",
    "# print('#'*100)"
   ],
   "metadata": {
    "collapsed": false,
    "ExecuteTime": {
     "start_time": "2023-12-08T06:00:03.539330Z"
    }
   },
   "id": "e3fc12712baaeac8"
  },
  {
   "cell_type": "code",
   "execution_count": null,
   "outputs": [],
   "source": [
    "# # Get the model settings and parameters\n",
    "# get_model_settings(model0)\n",
    "# print('#'*100)"
   ],
   "metadata": {
    "collapsed": false,
    "ExecuteTime": {
     "start_time": "2023-12-08T06:00:03.540331300Z"
    }
   },
   "id": "7ff06e6ca19e3d09"
  },
  {
   "cell_type": "code",
   "execution_count": null,
   "outputs": [],
   "source": [
    "# # Get the model settings and parameters\n",
    "# get_model_settings(model2)\n",
    "# print('#'*100)"
   ],
   "metadata": {
    "collapsed": false,
    "ExecuteTime": {
     "start_time": "2023-12-08T06:00:03.540331300Z"
    }
   },
   "id": "afb1c5704dc40390"
  },
  {
   "cell_type": "code",
   "execution_count": null,
   "outputs": [],
   "source": [
    "# compare all the models parameters\n",
    "# model.config == model1.config == model0.config == model2.config"
   ],
   "metadata": {
    "collapsed": false,
    "ExecuteTime": {
     "start_time": "2023-12-08T06:00:03.541329600Z"
    }
   },
   "id": "239145c7ca7ae441"
  },
  {
   "cell_type": "code",
   "execution_count": null,
   "outputs": [],
   "source": [
    "# # Define model hyperparameters\n",
    "# batch_size = 32\n",
    "# # epochs = 5\n",
    "# # Lower learning rates are often better for fine-tuning transformers\n",
    "# learning_rate = 3e-5    #2e-5, 5e-5, 4e-5 \n",
    "# weight_decay_rate=0.01\n",
    "# \n",
    "# # Define the optimizer\n",
    "# optimizer = AdamWeightDecay(learning_rate=learning_rate)      # No loss argument!"
   ],
   "metadata": {
    "collapsed": false,
    "ExecuteTime": {
     "start_time": "2023-12-08T06:00:03.542330Z"
    }
   },
   "id": "c09113ef2b13cd58"
  },
  {
   "cell_type": "code",
   "execution_count": null,
   "outputs": [],
   "source": [
    "# Compile the model\n",
    "# model.compile(optimizer=optimizer)"
   ],
   "metadata": {
    "collapsed": false,
    "ExecuteTime": {
     "start_time": "2023-12-08T06:00:03.544009800Z"
    }
   },
   "id": "319270a584b35760"
  },
  {
   "cell_type": "code",
   "execution_count": null,
   "outputs": [],
   "source": [
    "# Get the model details\n",
    "# get_model_details(model)"
   ],
   "metadata": {
    "collapsed": false,
    "ExecuteTime": {
     "start_time": "2023-12-08T06:00:03.545022400Z"
    }
   },
   "id": "63198c6006495916"
  },
  {
   "cell_type": "code",
   "execution_count": null,
   "outputs": [],
   "source": [
    "# # train the model\n",
    "# history = model.fit(x={'input_ids': train_input_ids, 'attention_mask': train_attention_masks},\n",
    "#                     y=train_labels,\n",
    "#                     # batch_size=batch_size,\n",
    "#                     # epochs=epochs,\n",
    "#                     validation_data=({'input_ids': validation_input_ids, 'attention_mask': validation_attention_masks}, validation_labels))\n"
   ],
   "metadata": {
    "collapsed": false,
    "ExecuteTime": {
     "start_time": "2023-12-08T06:00:03.546022700Z"
    }
   },
   "id": "c673e991176a2f14"
  },
  {
   "cell_type": "code",
   "execution_count": null,
   "outputs": [],
   "source": [
    "# model.fit(tokenized_data, labels)"
   ],
   "metadata": {
    "collapsed": false,
    "ExecuteTime": {
     "start_time": "2023-12-08T06:00:03.547021400Z"
    }
   },
   "id": "56bd90b26f8de9d6"
  },
  {
   "cell_type": "code",
   "execution_count": null,
   "outputs": [],
   "source": [
    "# # Fucntion to get all the model parameters and their shape and size in MB \n",
    "# def get_model_memory_usage(batch_size, mymodel):\n",
    "#     shapes_mem_count = 0\n",
    "#     for p in mymodel.trainable_weights:\n",
    "#         shapes_mem_count += np.prod(p.shape)\n",
    "#     # shapes_mem_count *= batch_size\n",
    "#     # shapes_mem_count *= 4  # fp32 bits/element\n",
    "#     # shapes_mem_count /= 1024**2\n",
    "#     # print('Model size (MB):', shapes_mem_count)\n",
    "#     return shapes_mem_count"
   ],
   "metadata": {
    "collapsed": false,
    "ExecuteTime": {
     "start_time": "2023-12-08T06:00:03.548020200Z"
    }
   },
   "id": "b182c8138793ea91"
  },
  {
   "cell_type": "code",
   "execution_count": null,
   "outputs": [],
   "source": [
    "# #put the bellow in a function\n",
    "# def mode_info(model):\n",
    "#     model.config\n",
    "#     # Getthe model weights\n",
    "#     model.get_weights()\n",
    "#     # Getthe model summary\n",
    "#     model.summary()\n",
    "#     # Getthe model layers\n",
    "#     model.layers\n",
    "#     # Getthe model input\n",
    "#     model.input\n",
    "#     # Getthe model output\n",
    "#     model.output\n",
    "#     # Getthe model loss\n",
    "#     model.loss\n",
    "#     # Getthe model metrics\n",
    "#     model.metrics\n",
    "#     # Getthe model optimizer\n",
    "#     model.optimizer\n",
    "#     # Getthe model sample weight mode\n",
    "#     model.sample_weight_mode"
   ],
   "metadata": {
    "collapsed": false,
    "ExecuteTime": {
     "end_time": "2023-12-08T06:00:03.710652500Z",
     "start_time": "2023-12-08T06:00:03.595094400Z"
    }
   },
   "id": "87384c888b80d7cb"
  }
 ],
 "metadata": {
  "kernelspec": {
   "display_name": "Python 3",
   "language": "python",
   "name": "python3"
  },
  "language_info": {
   "codemirror_mode": {
    "name": "ipython",
    "version": 2
   },
   "file_extension": ".py",
   "mimetype": "text/x-python",
   "name": "python",
   "nbconvert_exporter": "python",
   "pygments_lexer": "ipython2",
   "version": "2.7.6"
  }
 },
 "nbformat": 4,
 "nbformat_minor": 5
}
