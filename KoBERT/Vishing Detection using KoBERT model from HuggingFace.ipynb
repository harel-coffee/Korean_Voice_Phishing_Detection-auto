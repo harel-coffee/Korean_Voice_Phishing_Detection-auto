{
 "cells": [
  {
   "cell_type": "markdown",
   "source": [
    "# Korean vishing Detection using KoBERT model from HuggingFace on TensorFlow"
   ],
   "metadata": {
    "collapsed": false
   },
   "id": "66b5a5e71c5d516"
  },
  {
   "cell_type": "markdown",
   "source": [
    "## Install dependencies"
   ],
   "metadata": {
    "collapsed": false
   },
   "id": "5903846fa4717d84"
  },
  {
   "cell_type": "markdown",
   "source": [
    "Install the tensorFlow to work on GPU for WSL2 Ubuntu 20.04 LTS (Focal Fossa) on Windows 11 Pro as follows described in the [TensorFlow documentation](https://www.tensorflow.org/install/pip#windows-wsl2).\n",
    "1. Install WSL2\n",
    "2. Install the NVIDIA drive\n",
    "3. NVIDIA’s setup docs for CUDA in WSL2\n",
    "4. Install TensorFlow\n",
    "5. Verify the installation\n",
    "6. Install the transformers library\n",
    "7. Install the pandas library\n",
    "8. Install the numpy library\n",
    "9. Install the scikit-learn library\n",
    "10. Install the matplotlib library\n",
    "11. Install the seaborn library\n",
    "(optional)\n",
    "12. Install the tqdm library\n",
    "13. Install the sentencepiece library\n",
    "14. Install the pydot library\n",
    "15. Install the graphviz library"
   ],
   "metadata": {
    "collapsed": false
   },
   "id": "e9d99971e944e87d"
  },
  {
   "cell_type": "code",
   "execution_count": 7,
   "outputs": [
    {
     "name": "stdout",
     "output_type": "stream",
     "text": [
      "Num GPUs Available:  1\n",
      "Num GPUs Available:  1\n",
      "Default GPU Device: /device:GPU:0\n"
     ]
    },
    {
     "name": "stderr",
     "output_type": "stream",
     "text": [
      "2023-12-07 19:24:31.485070: I tensorflow/compiler/xla/stream_executor/cuda/cuda_gpu_executor.cc:967] could not open file to read NUMA node: /sys/bus/pci/devices/0000:01:00.0/numa_node\n",
      "Your kernel may have been built without NUMA support.\n",
      "2023-12-07 19:24:31.485271: I tensorflow/compiler/xla/stream_executor/cuda/cuda_gpu_executor.cc:967] could not open file to read NUMA node: /sys/bus/pci/devices/0000:01:00.0/numa_node\n",
      "Your kernel may have been built without NUMA support.\n",
      "2023-12-07 19:24:31.485315: I tensorflow/compiler/xla/stream_executor/cuda/cuda_gpu_executor.cc:967] could not open file to read NUMA node: /sys/bus/pci/devices/0000:01:00.0/numa_node\n",
      "Your kernel may have been built without NUMA support.\n",
      "2023-12-07 19:24:31.492842: I tensorflow/compiler/xla/stream_executor/cuda/cuda_gpu_executor.cc:967] could not open file to read NUMA node: /sys/bus/pci/devices/0000:01:00.0/numa_node\n",
      "Your kernel may have been built without NUMA support.\n",
      "2023-12-07 19:24:31.492883: I tensorflow/core/common_runtime/gpu/gpu_device.cc:1700] Could not identify NUMA node of platform GPU id 0, defaulting to 0.  Your kernel may not have been built with NUMA support.\n",
      "2023-12-07 19:24:31.492982: I tensorflow/compiler/xla/stream_executor/cuda/cuda_gpu_executor.cc:967] could not open file to read NUMA node: /sys/bus/pci/devices/0000:01:00.0/numa_node\n",
      "Your kernel may have been built without NUMA support.\n",
      "2023-12-07 19:24:31.493025: I tensorflow/core/common_runtime/gpu/gpu_device.cc:1613] Created device /device:GPU:0 with 5503 MB memory:  -> device: 0, name: NVIDIA GeForce RTX 3050, pci bus id: 0000:01:00.0, compute capability: 8.6\n",
      "2023-12-07 19:24:31.493928: I tensorflow/compiler/xla/stream_executor/cuda/cuda_gpu_executor.cc:967] could not open file to read NUMA node: /sys/bus/pci/devices/0000:01:00.0/numa_node\n",
      "Your kernel may have been built without NUMA support.\n",
      "2023-12-07 19:24:31.494041: I tensorflow/compiler/xla/stream_executor/cuda/cuda_gpu_executor.cc:967] could not open file to read NUMA node: /sys/bus/pci/devices/0000:01:00.0/numa_node\n",
      "Your kernel may have been built without NUMA support.\n",
      "2023-12-07 19:24:31.494072: I tensorflow/compiler/xla/stream_executor/cuda/cuda_gpu_executor.cc:967] could not open file to read NUMA node: /sys/bus/pci/devices/0000:01:00.0/numa_node\n",
      "Your kernel may have been built without NUMA support.\n",
      "2023-12-07 19:24:31.494367: I tensorflow/compiler/xla/stream_executor/cuda/cuda_gpu_executor.cc:967] could not open file to read NUMA node: /sys/bus/pci/devices/0000:01:00.0/numa_node\n",
      "Your kernel may have been built without NUMA support.\n",
      "2023-12-07 19:24:31.494383: I tensorflow/core/common_runtime/gpu/gpu_device.cc:1700] Could not identify NUMA node of platform GPU id 0, defaulting to 0.  Your kernel may not have been built with NUMA support.\n",
      "2023-12-07 19:24:31.494427: I tensorflow/compiler/xla/stream_executor/cuda/cuda_gpu_executor.cc:967] could not open file to read NUMA node: /sys/bus/pci/devices/0000:01:00.0/numa_node\n",
      "Your kernel may have been built without NUMA support.\n",
      "2023-12-07 19:24:31.494449: I tensorflow/core/common_runtime/gpu/gpu_device.cc:1613] Created device /device:GPU:0 with 5503 MB memory:  -> device: 0, name: NVIDIA GeForce RTX 3050, pci bus id: 0000:01:00.0, compute capability: 8.6\n"
     ]
    }
   ],
   "source": [
    "# Verify the installation:\n",
    "import tensorflow as tf\n",
    "print(\"Num GPUs Available: \", len(tf.config.list_physical_devices('GPU')))\n",
    "print(\"Num GPUs Available: \", len(tf.config.experimental.list_physical_devices('GPU')))\n",
    "\n",
    "# Check if TensorFlow is using GPU\n",
    "if tf.test.gpu_device_name():\n",
    "    print('Default GPU Device: {}'.format(tf.test.gpu_device_name()))\n",
    "else:\n",
    "    print(\"Please install GPU version of TF\")"
   ],
   "metadata": {
    "collapsed": false,
    "ExecuteTime": {
     "end_time": "2023-12-07T10:24:31.561238100Z",
     "start_time": "2023-12-07T10:24:31.495235900Z"
    }
   },
   "id": "34cbe67316b21296"
  },
  {
   "cell_type": "code",
   "execution_count": 3,
   "outputs": [
    {
     "name": "stdout",
     "output_type": "stream",
     "text": [
      "/bin/bash: /home/mbmk92/anaconda3/envs/dltest/lib/libtinfo.so.6: no version information available (required by /bin/bash)\r\n",
      "/bin/bash: warning: setlocale: LC_ALL: cannot change locale (en_US.UTF-8)\r\n",
      "Requirement already satisfied: transformers in /home/mbmk92/anaconda3/envs/dltest/lib/python3.10/site-packages (4.27.1)\r\n",
      "Requirement already satisfied: pandas in /home/mbmk92/anaconda3/envs/dltest/lib/python3.10/site-packages (1.5.3)\r\n",
      "Requirement already satisfied: numpy in /home/mbmk92/anaconda3/envs/dltest/lib/python3.10/site-packages (1.23.5)\r\n",
      "Requirement already satisfied: filelock in /home/mbmk92/anaconda3/envs/dltest/lib/python3.10/site-packages (from transformers) (3.10.0)\r\n",
      "Requirement already satisfied: huggingface-hub<1.0,>=0.11.0 in /home/mbmk92/anaconda3/envs/dltest/lib/python3.10/site-packages (from transformers) (0.13.2)\r\n",
      "Requirement already satisfied: packaging>=20.0 in /home/mbmk92/.local/lib/python3.10/site-packages (from transformers) (23.0)\r\n",
      "Requirement already satisfied: pyyaml>=5.1 in /home/mbmk92/anaconda3/envs/dltest/lib/python3.10/site-packages (from transformers) (6.0)\r\n",
      "Requirement already satisfied: regex!=2019.12.17 in /home/mbmk92/.local/lib/python3.10/site-packages (from transformers) (2022.10.31)\r\n",
      "Requirement already satisfied: requests in /home/mbmk92/.local/lib/python3.10/site-packages (from transformers) (2.28.2)\r\n",
      "Requirement already satisfied: tokenizers!=0.11.3,<0.14,>=0.11.1 in /home/mbmk92/anaconda3/envs/dltest/lib/python3.10/site-packages (from transformers) (0.13.2)\r\n",
      "Requirement already satisfied: tqdm>=4.27 in /home/mbmk92/.local/lib/python3.10/site-packages (from transformers) (4.65.0)\r\n",
      "Requirement already satisfied: python-dateutil>=2.8.1 in /home/mbmk92/anaconda3/envs/dltest/lib/python3.10/site-packages (from pandas) (2.8.2)\r\n",
      "Requirement already satisfied: pytz>=2020.1 in /home/mbmk92/anaconda3/envs/dltest/lib/python3.10/site-packages (from pandas) (2022.7)\r\n",
      "Requirement already satisfied: typing-extensions>=3.7.4.3 in /home/mbmk92/.local/lib/python3.10/site-packages (from huggingface-hub<1.0,>=0.11.0->transformers) (4.5.0)\r\n",
      "Requirement already satisfied: six>=1.5 in /home/mbmk92/anaconda3/envs/dltest/lib/python3.10/site-packages (from python-dateutil>=2.8.1->pandas) (1.16.0)\r\n",
      "Requirement already satisfied: charset-normalizer<4,>=2 in /home/mbmk92/.local/lib/python3.10/site-packages (from requests->transformers) (3.1.0)\r\n",
      "Requirement already satisfied: idna<4,>=2.5 in /home/mbmk92/anaconda3/envs/dltest/lib/python3.10/site-packages (from requests->transformers) (2.10)\r\n",
      "Requirement already satisfied: urllib3<1.27,>=1.21.1 in /home/mbmk92/.local/lib/python3.10/site-packages (from requests->transformers) (1.26.15)\r\n",
      "Requirement already satisfied: certifi>=2017.4.17 in /home/mbmk92/.local/lib/python3.10/site-packages (from requests->transformers) (2022.12.7)\r\n",
      "\u001B[33mWARNING: There was an error checking the latest version of pip.\u001B[0m\u001B[33m\r\n",
      "\u001B[0m"
     ]
    }
   ],
   "source": [
    "!pip install transformers pandas numpy"
   ],
   "metadata": {
    "collapsed": false,
    "ExecuteTime": {
     "end_time": "2023-12-07T10:18:46.455182700Z",
     "start_time": "2023-12-07T10:18:43.570152900Z"
    }
   },
   "id": "initial_id"
  },
  {
   "cell_type": "code",
   "execution_count": 5,
   "outputs": [
    {
     "name": "stdout",
     "output_type": "stream",
     "text": [
      "/bin/bash: /home/mbmk92/anaconda3/envs/dltest/lib/libtinfo.so.6: no version information available (required by /bin/bash)\r\n",
      "/bin/bash: warning: setlocale: LC_ALL: cannot change locale (en_US.UTF-8)\r\n",
      "Requirement already satisfied: pip in /home/mbmk92/anaconda3/envs/dltest/lib/python3.10/site-packages (23.3.1)\r\n"
     ]
    }
   ],
   "source": [
    "!pip install --upgrade pip"
   ],
   "metadata": {
    "collapsed": false,
    "ExecuteTime": {
     "end_time": "2023-12-07T10:19:04.803469Z",
     "start_time": "2023-12-07T10:19:02.153812300Z"
    }
   },
   "id": "8057bd8275a75175"
  },
  {
   "cell_type": "code",
   "execution_count": null,
   "outputs": [],
   "source": [
    "# !pip install tensorflow\n",
    "# !pip3 install tensorflow[and-cuda]"
   ],
   "metadata": {
    "collapsed": false
   },
   "id": "a31387707392daff"
  },
  {
   "cell_type": "code",
   "execution_count": 8,
   "outputs": [],
   "source": [
    "# load the libraries\n",
    "import tensorflow as tf\n",
    "from transformers import BertTokenizer, TFBertForSequenceClassification\n",
    "from transformers import AdamWeightDecay\n",
    "import pandas as pd\n",
    "from sklearn.model_selection import train_test_split"
   ],
   "metadata": {
    "collapsed": false,
    "ExecuteTime": {
     "end_time": "2023-12-07T10:24:56.615240Z",
     "start_time": "2023-12-07T10:24:56.576200Z"
    }
   },
   "id": "11cfd9dc6f073076"
  },
  {
   "cell_type": "code",
   "execution_count": null,
   "outputs": [],
   "source": [],
   "metadata": {
    "collapsed": false
   },
   "id": "95bfa7998b706135"
  }
 ],
 "metadata": {
  "kernelspec": {
   "display_name": "Python 3",
   "language": "python",
   "name": "python3"
  },
  "language_info": {
   "codemirror_mode": {
    "name": "ipython",
    "version": 2
   },
   "file_extension": ".py",
   "mimetype": "text/x-python",
   "name": "python",
   "nbconvert_exporter": "python",
   "pygments_lexer": "ipython2",
   "version": "2.7.6"
  }
 },
 "nbformat": 4,
 "nbformat_minor": 5
}
