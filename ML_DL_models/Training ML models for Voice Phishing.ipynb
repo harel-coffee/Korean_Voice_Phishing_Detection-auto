{
 "nbformat": 4,
 "nbformat_minor": 0,
 "metadata": {
  "colab": {
   "name": "Training ML models for Voice Phishing",
   "provenance": [],
   "collapsed_sections": [
    "eOJktn5DjK-d",
    "ZrNV7QIClOHZ"
   ]
  },
  "kernelspec": {
   "display_name": "Python 3",
   "language": "python",
   "name": "python3"
  },
  "language_info": {
   "codemirror_mode": {
    "name": "ipython",
    "version": 3
   },
   "file_extension": ".py",
   "mimetype": "text/x-python",
   "name": "python",
   "nbconvert_exporter": "python",
   "pygments_lexer": "ipython3",
   "version": "3.7.9"
  }
 },
 "cells": [
  {
   "cell_type": "markdown",
   "metadata": {
    "id": "KkSVunf5hXx5"
   },
   "source": [
    "# Souce\n",
    "* https://towardsdatascience.com/boosting-showdown-scikit-learn-vs-xgboost-vs-lightgbm-vs-catboost-in-sentiment-classification-f7c7f46fd956"
   ]
  },
  {
   "cell_type": "code",
   "metadata": {
    "colab": {
     "base_uri": "https://localhost:8080/"
    },
    "id": "ScqQ4S7ThcMS",
    "executionInfo": {
     "status": "ok",
     "timestamp": 1650112111110,
     "user_tz": -540,
     "elapsed": 26101,
     "user": {
      "displayName": "Milandu Keith Moussavou Boussougou",
      "userId": "16125998280788005643"
     }
    },
    "outputId": "46bbfa6c-7c9f-4c41-9390-b8ccd7977c1b"
   },
   "source": [
    "from google.colab import drive\n",
    "drive.mount('drive')"
   ],
   "execution_count": null,
   "outputs": [
    {
     "output_type": "stream",
     "name": "stdout",
     "text": [
      "Mounted at drive\n"
     ]
    }
   ]
  },
  {
   "cell_type": "code",
   "metadata": {
    "id": "zZESESLVhf2N",
    "executionInfo": {
     "status": "ok",
     "timestamp": 1650112111550,
     "user_tz": -540,
     "elapsed": 444,
     "user": {
      "displayName": "Milandu Keith Moussavou Boussougou",
      "userId": "16125998280788005643"
     }
    },
    "colab": {
     "base_uri": "https://localhost:8080/"
    },
    "outputId": "f3e0926b-e2ab-4ddd-ec5c-97c3de08ae4d"
   },
   "source": [
    "cd drive/My\\ Drive/Colab\\ Notebooks/voice_phishing/"
   ],
   "execution_count": null,
   "outputs": [
    {
     "output_type": "stream",
     "name": "stdout",
     "text": [
      "/content/drive/My Drive/Colab Notebooks/voice_phishing\n"
     ]
    }
   ]
  },
  {
   "cell_type": "markdown",
   "metadata": {
    "id": "hNVlkogIh9h4"
   },
   "source": [
    "# Import librairie"
   ]
  },
  {
   "cell_type": "code",
   "metadata": {
    "id": "eozkHhsPjCL5",
    "executionInfo": {
     "status": "ok",
     "timestamp": 1650112124175,
     "user_tz": -540,
     "elapsed": 12627,
     "user": {
      "displayName": "Milandu Keith Moussavou Boussougou",
      "userId": "16125998280788005643"
     }
    },
    "colab": {
     "base_uri": "https://localhost:8080/"
    },
    "outputId": "56708155-d2dc-412e-bc8e-7ed0e9abcc6b"
   },
   "source": [
    "!pip install catboost"
   ],
   "execution_count": null,
   "outputs": [
    {
     "output_type": "stream",
     "name": "stdout",
     "text": [
      "Collecting catboost\n",
      "  Downloading catboost-1.0.5-cp37-none-manylinux1_x86_64.whl (76.6 MB)\n",
      "\u001B[K     |████████████████████████████████| 76.6 MB 57 kB/s \n",
      "\u001B[?25hRequirement already satisfied: plotly in /usr/local/lib/python3.7/dist-packages (from catboost) (5.5.0)\n",
      "Requirement already satisfied: six in /usr/local/lib/python3.7/dist-packages (from catboost) (1.15.0)\n",
      "Requirement already satisfied: scipy in /usr/local/lib/python3.7/dist-packages (from catboost) (1.4.1)\n",
      "Requirement already satisfied: graphviz in /usr/local/lib/python3.7/dist-packages (from catboost) (0.10.1)\n",
      "Requirement already satisfied: matplotlib in /usr/local/lib/python3.7/dist-packages (from catboost) (3.2.2)\n",
      "Requirement already satisfied: numpy>=1.16.0 in /usr/local/lib/python3.7/dist-packages (from catboost) (1.21.5)\n",
      "Requirement already satisfied: pandas>=0.24.0 in /usr/local/lib/python3.7/dist-packages (from catboost) (1.3.5)\n",
      "Requirement already satisfied: python-dateutil>=2.7.3 in /usr/local/lib/python3.7/dist-packages (from pandas>=0.24.0->catboost) (2.8.2)\n",
      "Requirement already satisfied: pytz>=2017.3 in /usr/local/lib/python3.7/dist-packages (from pandas>=0.24.0->catboost) (2018.9)\n",
      "Requirement already satisfied: pyparsing!=2.0.4,!=2.1.2,!=2.1.6,>=2.0.1 in /usr/local/lib/python3.7/dist-packages (from matplotlib->catboost) (3.0.8)\n",
      "Requirement already satisfied: cycler>=0.10 in /usr/local/lib/python3.7/dist-packages (from matplotlib->catboost) (0.11.0)\n",
      "Requirement already satisfied: kiwisolver>=1.0.1 in /usr/local/lib/python3.7/dist-packages (from matplotlib->catboost) (1.4.2)\n",
      "Requirement already satisfied: typing-extensions in /usr/local/lib/python3.7/dist-packages (from kiwisolver>=1.0.1->matplotlib->catboost) (4.1.1)\n",
      "Requirement already satisfied: tenacity>=6.2.0 in /usr/local/lib/python3.7/dist-packages (from plotly->catboost) (8.0.1)\n",
      "Installing collected packages: catboost\n",
      "Successfully installed catboost-1.0.5\n"
     ]
    }
   ]
  },
  {
   "cell_type": "code",
   "metadata": {
    "id": "6b5nzrcpiBE_"
   },
   "source": [
    "# Importing packages and data\n",
    "from time import time\n",
    "import numpy as np\n",
    "import pandas as pd\n",
    "\n",
    "from sklearn.model_selection import train_test_split\n",
    "from sklearn.feature_extraction.text import TfidfVectorizer\n",
    "\n",
    "from sklearn.svm import LinearSVC\n",
    "from sklearn import svm\n",
    "from sklearn.tree import DecisionTreeClassifier\n",
    "from sklearn.metrics import classification_report, confusion_matrix\n",
    "\n",
    "\n",
    "# from sklearn.experimental import enable_hist_gradient_boosting\n",
    "from sklearn.ensemble import (RandomForestClassifier,\n",
    "                              AdaBoostClassifier,\n",
    "                              GradientBoostingClassifier,\n",
    "                              HistGradientBoostingClassifier)\n",
    "from sklearn.linear_model import LogisticRegression\n",
    "from xgboost import XGBClassifier\n",
    "from lightgbm import LGBMClassifier\n",
    "from catboost import CatBoostClassifier\n",
    "\n",
    "import matplotlib.pyplot as plt\n",
    "import seaborn as sns"
   ],
   "execution_count": null,
   "outputs": []
  },
  {
   "cell_type": "markdown",
   "metadata": {
    "id": "dUv65U4LilU4"
   },
   "source": [
    "# Import and prepare the data"
   ]
  },
  {
   "cell_type": "code",
   "metadata": {
    "id": "U4FT_HEbiELf"
   },
   "source": [
    "# df_train = pd.read_csv('train.csv').sample(frac=1.0)\n",
    "# df_test = pd.read_csv('test.csv').sample(frac=1.0)\n",
    "\n",
    "# use this data sets incase we want the ration of 8:2\n",
    "df_train = pd.read_csv('train_test_sets/train_KorCCVi_v2_fullcleansed.csv')\n",
    "df_test = pd.read_csv('train_test_sets/test_KorCCVi_v2_fullcleansed.csv')\n",
    "\n",
    "# import the full dataset\n",
    "# df_dataset = pd.read_csv('KorCCVi_v2_fullcleansed.csv').sample(frac=1.0)"
   ],
   "execution_count": null,
   "outputs": []
  },
  {
   "cell_type": "code",
   "source": [
    "# df_dataset"
   ],
   "metadata": {
    "id": "BUbZpTRFL-YT"
   },
   "execution_count": null,
   "outputs": []
  },
  {
   "cell_type": "code",
   "metadata": {
    "id": "RF1c0L3ZoZBj"
   },
   "source": [
    "# df_train"
   ],
   "execution_count": null,
   "outputs": []
  },
  {
   "cell_type": "code",
   "source": [
    "# df_test"
   ],
   "metadata": {
    "id": "iTNU9Bj_4VdW"
   },
   "execution_count": null,
   "outputs": []
  },
  {
   "cell_type": "code",
   "metadata": {
    "id": "kbRImiyXfHd6"
   },
   "source": [
    "# df_test.head()"
   ],
   "execution_count": null,
   "outputs": []
  },
  {
   "cell_type": "markdown",
   "metadata": {
    "id": "EE8pI7tr4d4A"
   },
   "source": [
    "# train_test_split"
   ]
  },
  {
   "cell_type": "code",
   "source": [
    "# data, labels = df_dataset['transcript'], df_dataset['label']\n",
    "\n",
    "# # numericalization of the text into numbers\n",
    "# data = tfidf.fit_transform(data).toarray()\n",
    "# X_test = tfidf.transform(df_test['transcript']).toarray()\n",
    "\n",
    "# # Split the data in train and test set, reseve 10% of the for the test set\n",
    "# X_train, X_test, y_train, y_test = train_test_split(\n",
    "#     data,\n",
    "#     labels,\n",
    "#     test_size=0.1,\n",
    "#     random_state=42, \n",
    "#     shuffle= True\n",
    "# )\n",
    "\n",
    "# # slip the train set in train and eval, reseve 10% of the data for thse evaluation\n",
    "# X_train_sub, X_val, y_train_sub, y_val = train_test_split(\n",
    "#     X_train,\n",
    "#     y_train, \n",
    "#     test_size=0.1,\n",
    "#     random_state=42, \n",
    "#     shuffle= True\n",
    "# )"
   ],
   "metadata": {
    "id": "kTlYkyGjJy8W"
   },
   "execution_count": null,
   "outputs": []
  },
  {
   "cell_type": "code",
   "source": [
    "# # check the shape of each set\n",
    "# print(\"X_train shape: {}\".format(X_train.shape))\n",
    "# print(\"y_train shape: {}\".format(y_train.shape))\n",
    "\n",
    "# print(\"X_train_sub shape: {}\".format(X_train_sub.shape))\n",
    "# print(\"y_train_sub shape: {}\".format(y_train_sub.shape))\n",
    "\n",
    "# print(\"X_val shape: {}\".format(X_val.shape))\n",
    "# print(\"y_val shape: {}\".format(y_val.shape))\n",
    "\n",
    "# print(\"X_test shape: {}\".format(X_test.shape))\n",
    "# print(\"y_test shape: {}\".format(y_test.shape))"
   ],
   "metadata": {
    "id": "-aslWFALJ2Hv"
   },
   "execution_count": null,
   "outputs": []
  },
  {
   "cell_type": "code",
   "metadata": {
    "id": "PMulgON_iIU2",
    "executionInfo": {
     "status": "ok",
     "timestamp": 1650112126730,
     "user_tz": -540,
     "elapsed": 16,
     "user": {
      "displayName": "Milandu Keith Moussavou Boussougou",
      "userId": "16125998280788005643"
     }
    },
    "colab": {
     "base_uri": "https://localhost:8080/"
    },
    "outputId": "0023638d-30b1-44e2-b53d-042b1a2d2dfe"
   },
   "source": [
    "%%time\n",
    "# Preprocessing our data\n",
    "# Convert a collection of raw documents to a matrix of TF-IDF features.\n",
    "tfidf = TfidfVectorizer(# analyzer='word', # default='word'\n",
    "                        ngram_range=(1, 3), #(2, 6), # 3,6\n",
    "                        # max_df=1, \n",
    "                        min_df=2, # 10\n",
    "                        max_features=2000, #300, 500, 10000 (thsi will limit the vocavulary) \n",
    "                        # sublinear_tf=True,\n",
    "                        use_idf=True\n",
    "                        )"
   ],
   "execution_count": null,
   "outputs": [
    {
     "output_type": "stream",
     "name": "stdout",
     "text": [
      "CPU times: user 38 µs, sys: 6 µs, total: 44 µs\n",
      "Wall time: 50.5 µs\n"
     ]
    }
   ]
  },
  {
   "cell_type": "code",
   "metadata": {
    "id": "A-OMWI7TiVZf",
    "executionInfo": {
     "status": "ok",
     "timestamp": 1650112126731,
     "user_tz": -540,
     "elapsed": 15,
     "user": {
      "displayName": "Milandu Keith Moussavou Boussougou",
      "userId": "16125998280788005643"
     }
    },
    "colab": {
     "base_uri": "https://localhost:8080/"
    },
    "outputId": "58c527bf-eaf6-4003-ddbf-7c6c1b4484d7"
   },
   "source": [
    "tfidf"
   ],
   "execution_count": null,
   "outputs": [
    {
     "output_type": "execute_result",
     "data": {
      "text/plain": [
       "TfidfVectorizer(max_features=2000, min_df=2, ngram_range=(1, 3))"
      ]
     },
     "metadata": {},
     "execution_count": 13
    }
   ]
  },
  {
   "cell_type": "code",
   "metadata": {
    "id": "1CxIpr-QfX2q"
   },
   "source": [
    "# numericalization of the text into numbers\n",
    "X_train = tfidf.fit_transform(df_train['transcript']).toarray()\n",
    "X_test = tfidf.transform(df_test['transcript']).toarray()\n",
    "\n",
    "y_train, y_test = df_train['label'], df_test['label']\n",
    "\n",
    "# slip the train set and reseve 20% of the data for the evaluation\n",
    "X_train_sub, X_valid, y_train_sub, y_valid = train_test_split(X_train, \n",
    "                                                              y_train, \n",
    "                                                              test_size=0.2,\n",
    "                                                              random_state=42, \n",
    "                                                              shuffle= True\n",
    "                                                              )\n",
    "\n",
    "# training with fulldataset\n",
    "# y_train = df_train['label']\n",
    "# X_train_sub, X_test, y_train_sub, y_test = train_test_split(X_train, y_train, test_size=0.3, shuffle= True)"
   ],
   "execution_count": null,
   "outputs": []
  },
  {
   "cell_type": "code",
   "source": [
    "# check the shape of each set\n",
    "print(\"X_train shape: {}\".format(X_train_sub.shape))\n",
    "print(\"X_val shape: {}\".format(X_valid.shape))\n",
    "print(\"X_test shape: {}\".format(X_test.shape))\n",
    "\n",
    "print(\"y_train shape: {}\".format(y_train_sub.shape))\n",
    "print(\"y val shape: {}\".format(y_valid.shape))\n",
    "print(\"y_test shape: {}\".format(y_test.shape))"
   ],
   "metadata": {
    "colab": {
     "base_uri": "https://localhost:8080/"
    },
    "id": "teiDcqfU6ZWI",
    "executionInfo": {
     "status": "ok",
     "timestamp": 1650112163992,
     "user_tz": -540,
     "elapsed": 68,
     "user": {
      "displayName": "Milandu Keith Moussavou Boussougou",
      "userId": "16125998280788005643"
     }
    },
    "outputId": "d41be31f-2347-488a-f401-dbc81c24baaf"
   },
   "execution_count": null,
   "outputs": [
    {
     "output_type": "stream",
     "name": "stdout",
     "text": [
      "X_train shape: (1872, 2000)\n",
      "X_val shape: (469, 2000)\n",
      "X_test shape: (586, 2000)\n",
      "y_train shape: (1872,)\n",
      "y val shape: (469,)\n",
      "y_test shape: (586,)\n"
     ]
    }
   ]
  },
  {
   "cell_type": "code",
   "source": [
    "print(X_train_sub)"
   ],
   "metadata": {
    "id": "rnhYlIkPemGt",
    "executionInfo": {
     "status": "ok",
     "timestamp": 1650112163993,
     "user_tz": -540,
     "elapsed": 64,
     "user": {
      "displayName": "Milandu Keith Moussavou Boussougou",
      "userId": "16125998280788005643"
     }
    },
    "colab": {
     "base_uri": "https://localhost:8080/"
    },
    "outputId": "32b58605-be3b-4ef9-e861-2d1a9778d490"
   },
   "execution_count": null,
   "outputs": [
    {
     "output_type": "stream",
     "name": "stdout",
     "text": [
      "[[0.01190997 0.         0.         ... 0.         0.         0.        ]\n",
      " [0.         0.         0.         ... 0.01011084 0.         0.        ]\n",
      " [0.         0.         0.         ... 0.03720847 0.         0.        ]\n",
      " ...\n",
      " [0.         0.         0.         ... 0.03197549 0.         0.        ]\n",
      " [0.         0.         0.         ... 0.16609568 0.         0.        ]\n",
      " [0.         0.         0.         ... 0.         0.         0.        ]]\n"
     ]
    }
   ]
  },
  {
   "cell_type": "code",
   "metadata": {
    "id": "-TGmJfy4HVAZ",
    "colab": {
     "base_uri": "https://localhost:8080/"
    },
    "executionInfo": {
     "status": "ok",
     "timestamp": 1650112163993,
     "user_tz": -540,
     "elapsed": 60,
     "user": {
      "displayName": "Milandu Keith Moussavou Boussougou",
      "userId": "16125998280788005643"
     }
    },
    "outputId": "7e82e121-fccf-40bf-fba9-bd1f6aa56576"
   },
   "source": [
    "X_test"
   ],
   "execution_count": null,
   "outputs": [
    {
     "output_type": "execute_result",
     "data": {
      "text/plain": [
       "array([[0.        , 0.        , 0.        , ..., 0.        , 0.        ,\n",
       "        0.        ],\n",
       "       [0.        , 0.        , 0.        , ..., 0.01638131, 0.        ,\n",
       "        0.        ],\n",
       "       [0.        , 0.        , 0.        , ..., 0.        , 0.        ,\n",
       "        0.        ],\n",
       "       ...,\n",
       "       [0.        , 0.        , 0.        , ..., 0.        , 0.        ,\n",
       "        0.        ],\n",
       "       [0.        , 0.        , 0.        , ..., 0.00858095, 0.        ,\n",
       "        0.        ],\n",
       "       [0.01272806, 0.        , 0.        , ..., 0.        , 0.        ,\n",
       "        0.        ]])"
      ]
     },
     "metadata": {},
     "execution_count": 17
    }
   ]
  },
  {
   "cell_type": "code",
   "source": [
    "tfidf.get_feature_names_out()"
   ],
   "metadata": {
    "id": "gBZ0lPZ-caN6",
    "executionInfo": {
     "status": "ok",
     "timestamp": 1650112163994,
     "user_tz": -540,
     "elapsed": 55,
     "user": {
      "displayName": "Milandu Keith Moussavou Boussougou",
      "userId": "16125998280788005643"
     }
    },
    "colab": {
     "base_uri": "https://localhost:8080/"
    },
    "outputId": "a766b4ee-f1b5-471e-e99b-a6504f213388"
   },
   "execution_count": null,
   "outputs": [
    {
     "output_type": "execute_result",
     "data": {
      "text/plain": [
       "array(['10', '11', '12', ..., '힘들', '힘들 어서', '힘들 어요'], dtype=object)"
      ]
     },
     "metadata": {},
     "execution_count": 18
    }
   ]
  },
  {
   "cell_type": "code",
   "source": [
    "# Setting up our results dataframe\n",
    "df_results = pd.DataFrame(columns=['F1_score', 'Precision', 'Recall', 'Accuracy', 'Accuracy1', 'Training time', 'Test time'])"
   ],
   "metadata": {
    "id": "Zvz5Tyk85t9x"
   },
   "execution_count": null,
   "outputs": []
  },
  {
   "cell_type": "markdown",
   "metadata": {
    "id": "sCnGx8Tsirp6"
   },
   "source": [
    "# Build the models\n"
   ]
  },
  {
   "cell_type": "code",
   "source": [
    "#llogistic regression\n",
    "lr = LogisticRegression(\n",
    "    # C=10,\n",
    "    # random_state=1234\n",
    ")\n",
    "lr"
   ],
   "metadata": {
    "colab": {
     "base_uri": "https://localhost:8080/"
    },
    "id": "qiKJbCKWkAw5",
    "executionInfo": {
     "status": "ok",
     "timestamp": 1650112163994,
     "user_tz": -540,
     "elapsed": 50,
     "user": {
      "displayName": "Milandu Keith Moussavou Boussougou",
      "userId": "16125998280788005643"
     }
    },
    "outputId": "e18f9c3f-c4d2-452a-9d71-b8c1e8de478c"
   },
   "execution_count": null,
   "outputs": [
    {
     "output_type": "execute_result",
     "data": {
      "text/plain": [
       "LogisticRegression()"
      ]
     },
     "metadata": {},
     "execution_count": 20
    }
   ]
  },
  {
   "cell_type": "code",
   "metadata": {
    "id": "oNOxA4FZWt5N",
    "colab": {
     "base_uri": "https://localhost:8080/"
    },
    "executionInfo": {
     "status": "ok",
     "timestamp": 1650112163995,
     "user_tz": -540,
     "elapsed": 48,
     "user": {
      "displayName": "Milandu Keith Moussavou Boussougou",
      "userId": "16125998280788005643"
     }
    },
    "outputId": "4efa573b-f280-4dbf-ff12-2d3ca4559469"
   },
   "source": [
    "#Decision Tree\n",
    "dt = DecisionTreeClassifier(\n",
    "    # max_depth=10, \n",
    "    # random_state=1234\n",
    ")\n",
    "dt"
   ],
   "execution_count": null,
   "outputs": [
    {
     "output_type": "execute_result",
     "data": {
      "text/plain": [
       "DecisionTreeClassifier()"
      ]
     },
     "metadata": {},
     "execution_count": 21
    }
   ]
  },
  {
   "cell_type": "code",
   "metadata": {
    "colab": {
     "base_uri": "https://localhost:8080/"
    },
    "id": "vQfE-GL5W1cD",
    "executionInfo": {
     "status": "ok",
     "timestamp": 1650112163995,
     "user_tz": -540,
     "elapsed": 45,
     "user": {
      "displayName": "Milandu Keith Moussavou Boussougou",
      "userId": "16125998280788005643"
     }
    },
    "outputId": "b135188e-0805-47ca-e806-7365c95095a4"
   },
   "source": [
    "#Random Forest\n",
    "rf = RandomForestClassifier(\n",
    "    # n_estimators=100,\n",
    "    # max_depth=20,\n",
    "    # max_features=0.06,\n",
    "    # n_jobs=6,\n",
    "    # random_state=1234\n",
    ")\n",
    "rf"
   ],
   "execution_count": null,
   "outputs": [
    {
     "output_type": "execute_result",
     "data": {
      "text/plain": [
       "RandomForestClassifier()"
      ]
     },
     "metadata": {},
     "execution_count": 22
    }
   ]
  },
  {
   "cell_type": "code",
   "metadata": {
    "id": "SGG2qzs4W5mu",
    "colab": {
     "base_uri": "https://localhost:8080/"
    },
    "executionInfo": {
     "status": "ok",
     "timestamp": 1650112163995,
     "user_tz": -540,
     "elapsed": 38,
     "user": {
      "displayName": "Milandu Keith Moussavou Boussougou",
      "userId": "16125998280788005643"
     }
    },
    "outputId": "dd39926e-a176-43f2-fe79-53760855d18d"
   },
   "source": [
    "#Adaboost\n",
    "# base_estim = DecisionTreeClassifier(max_depth=1, max_features=0.06)                            \n",
    "ab = AdaBoostClassifier(\n",
    "    # base_estimator=base_estim,\n",
    "    # n_estimators=500,\n",
    "    # learning_rate=0.5,\n",
    "    # random_state=1234\n",
    ")\n",
    "ab"
   ],
   "execution_count": null,
   "outputs": [
    {
     "output_type": "execute_result",
     "data": {
      "text/plain": [
       "AdaBoostClassifier()"
      ]
     },
     "metadata": {},
     "execution_count": 23
    }
   ]
  },
  {
   "cell_type": "code",
   "metadata": {
    "id": "yWEGF4HZW_GX",
    "colab": {
     "base_uri": "https://localhost:8080/"
    },
    "executionInfo": {
     "status": "ok",
     "timestamp": 1650112163996,
     "user_tz": -540,
     "elapsed": 36,
     "user": {
      "displayName": "Milandu Keith Moussavou Boussougou",
      "userId": "16125998280788005643"
     }
    },
    "outputId": "3f51749b-d945-43d2-f7a7-46af612202ee"
   },
   "source": [
    "#Gradient Boosted Decision Trees (Scikit-Learn)\n",
    "gbm = GradientBoostingClassifier(\n",
    "    # n_estimators=2000,\n",
    "    # subsample=0.67,\n",
    "    # max_features=0.06,\n",
    "    # validation_fraction=0.1,\n",
    "    # n_iter_no_change=15,\n",
    "    # verbose=0,\n",
    "    # random_state=1234\n",
    ")\n",
    "gbm"
   ],
   "execution_count": null,
   "outputs": [
    {
     "output_type": "execute_result",
     "data": {
      "text/plain": [
       "GradientBoostingClassifier()"
      ]
     },
     "metadata": {},
     "execution_count": 24
    }
   ]
  },
  {
   "cell_type": "code",
   "metadata": {
    "colab": {
     "base_uri": "https://localhost:8080/"
    },
    "id": "YBQDEgkoXDmR",
    "executionInfo": {
     "status": "ok",
     "timestamp": 1650112163996,
     "user_tz": -540,
     "elapsed": 34,
     "user": {
      "displayName": "Milandu Keith Moussavou Boussougou",
      "userId": "16125998280788005643"
     }
    },
    "outputId": "eae787fd-c6ac-4e4b-ab23-15d209cc5c93"
   },
   "source": [
    "#XGBoost\n",
    "xgb = XGBClassifier(\n",
    "    # n_estimators=2000,\n",
    "    # tree_method='hist',\n",
    "    # subsample=0.67,\n",
    "    # colsample_level=0.06,\n",
    "    # verbose=0,\n",
    "    # n_jobs=6,\n",
    "    # random_state=1234\n",
    ")\n",
    "xgb"
   ],
   "execution_count": null,
   "outputs": [
    {
     "output_type": "execute_result",
     "data": {
      "text/plain": [
       "XGBClassifier()"
      ]
     },
     "metadata": {},
     "execution_count": 25
    }
   ]
  },
  {
   "cell_type": "code",
   "metadata": {
    "colab": {
     "base_uri": "https://localhost:8080/"
    },
    "id": "YuKE2EzzXIyD",
    "executionInfo": {
     "status": "ok",
     "timestamp": 1650112163996,
     "user_tz": -540,
     "elapsed": 32,
     "user": {
      "displayName": "Milandu Keith Moussavou Boussougou",
      "userId": "16125998280788005643"
     }
    },
    "outputId": "dba388f5-8841-46fd-bd74-c3f06e924e79"
   },
   "source": [
    "#LightGBM\n",
    "lgbm = LGBMClassifier(\n",
    "    # n_estimators=2000,\n",
    "    # feature_fraction=0.06,\n",
    "    # bagging_fraction=0.67,\n",
    "    # bagging_freq=1,\n",
    "    # verbose=0,\n",
    "    # n_jobs=6,\n",
    "    # random_state=1234\n",
    ")\n",
    "lgbm"
   ],
   "execution_count": null,
   "outputs": [
    {
     "output_type": "execute_result",
     "data": {
      "text/plain": [
       "LGBMClassifier()"
      ]
     },
     "metadata": {},
     "execution_count": 26
    }
   ]
  },
  {
   "cell_type": "code",
   "metadata": {
    "colab": {
     "base_uri": "https://localhost:8080/"
    },
    "id": "BVLteRLiXQzJ",
    "executionInfo": {
     "status": "ok",
     "timestamp": 1650112163997,
     "user_tz": -540,
     "elapsed": 30,
     "user": {
      "displayName": "Milandu Keith Moussavou Boussougou",
      "userId": "16125998280788005643"
     }
    },
    "outputId": "9f123ccf-a616-43b8-ead4-d1e9f3cdf6bd"
   },
   "source": [
    "#CatBoost\n",
    "cb = CatBoostClassifier(\n",
    "    # n_estimators=2000,\n",
    "    # colsample_bylevel=0.06,\n",
    "    # max_leaves=31,\n",
    "    # subsample=0.67,\n",
    "    # thread_count=6,\n",
    "    # verbose=0,\n",
    "    # random_state=1234\n",
    ")\n",
    "cb"
   ],
   "execution_count": null,
   "outputs": [
    {
     "output_type": "execute_result",
     "data": {
      "text/plain": [
       "<catboost.core.CatBoostClassifier at 0x7f9ca6615050>"
      ]
     },
     "metadata": {},
     "execution_count": 27
    }
   ]
  },
  {
   "cell_type": "code",
   "source": [
    "cb.get_params()"
   ],
   "metadata": {
    "colab": {
     "base_uri": "https://localhost:8080/"
    },
    "id": "bKh8CjcmI0yB",
    "executionInfo": {
     "status": "ok",
     "timestamp": 1650112163997,
     "user_tz": -540,
     "elapsed": 25,
     "user": {
      "displayName": "Milandu Keith Moussavou Boussougou",
      "userId": "16125998280788005643"
     }
    },
    "outputId": "c9079ea1-c5f7-429d-8987-2622d254445c"
   },
   "execution_count": null,
   "outputs": [
    {
     "output_type": "execute_result",
     "data": {
      "text/plain": [
       "{}"
      ]
     },
     "metadata": {},
     "execution_count": 28
    }
   ]
  },
  {
   "cell_type": "code",
   "metadata": {
    "id": "2RLCwlAmXYnq",
    "colab": {
     "base_uri": "https://localhost:8080/"
    },
    "executionInfo": {
     "status": "ok",
     "timestamp": 1650112163997,
     "user_tz": -540,
     "elapsed": 22,
     "user": {
      "displayName": "Milandu Keith Moussavou Boussougou",
      "userId": "16125998280788005643"
     }
    },
    "outputId": "f7728c12-ebb1-4403-97ac-2361bc6964a1"
   },
   "source": [
    "#Bonus: Histogram-based Gradient Boosting Machine (Scikit-Learn)\n",
    "hgbm = HistGradientBoostingClassifier(\n",
    "    # max_iter=2000,\n",
    "    # validation_fraction=0.1,\n",
    "    # n_iter_no_change=15,\n",
    "    # verbose=0,\n",
    "    # random_state=1234\n",
    ")\n",
    "hgbm"
   ],
   "execution_count": null,
   "outputs": [
    {
     "output_type": "execute_result",
     "data": {
      "text/plain": [
       "HistGradientBoostingClassifier()"
      ]
     },
     "metadata": {},
     "execution_count": 29
    }
   ]
  },
  {
   "cell_type": "code",
   "metadata": {
    "id": "pcNOWtJpXeEY"
   },
   "source": [
    "#Comparing our Competitors\n",
    "models = [lr, dt, rf, ab, gbm, hgbm, xgb, lgbm, cb]\n",
    "# models = [rf, xgb, lgbm, cb]\n",
    "model_names = [i.__class__.__name__ for i in models]"
   ],
   "execution_count": null,
   "outputs": []
  },
  {
   "cell_type": "code",
   "metadata": {
    "id": "_0pKqxkoXl37"
   },
   "source": [
    "#to specify which of our models require early stopping within the .fit() method.\n",
    "es_models = [\n",
    "             'XGBClassifier',\n",
    "             'LGBMClassifier',\n",
    "             'CatBoostClassifier'\n",
    "]"
   ],
   "execution_count": null,
   "outputs": []
  },
  {
   "cell_type": "markdown",
   "metadata": {
    "id": "DyH0MBSArfxU"
   },
   "source": [
    "# train models"
   ]
  },
  {
   "cell_type": "code",
   "metadata": {
    "colab": {
     "base_uri": "https://localhost:8080/"
    },
    "id": "dsSYVKJLXv5K",
    "executionInfo": {
     "status": "ok",
     "timestamp": 1650115542788,
     "user_tz": -540,
     "elapsed": 182423,
     "user": {
      "displayName": "Milandu Keith Moussavou Boussougou",
      "userId": "16125998280788005643"
     }
    },
    "outputId": "49b83822-dd8c-4949-94aa-a0acc521ea6c"
   },
   "source": [
    "from timeit import default_timer as timer\n",
    "\n",
    "start = timer()\n",
    "#Train each of our candidate models\n",
    "for m, n in zip(models, model_names):\n",
    "  train_time = 0\n",
    "  test_time = 0\n",
    "    \n",
    "  if n in es_models:\n",
    "      start_train = time()\n",
    "      m.fit(X_train_sub,\n",
    "            y_train_sub,\n",
    "            eval_set = [(X_valid, y_valid)],\n",
    "            early_stopping_rounds=15,\n",
    "            verbose=0)\n",
    "      train_time = time() - start_train\n",
    "  else:\n",
    "      start_train = time()\n",
    "      m.fit(X_train, y_train)\n",
    "      train_time = time() - start_train\n",
    "\n",
    "  # Make test of the model\n",
    "  start_test = time()\n",
    "  predicted = m.predict(X_test)\n",
    "  test_time = time() - start_test\n",
    "\n",
    "  print('-'*80)\n",
    "  print(n)\n",
    "  accuracy = np.mean(predicted == y_test)\n",
    "  print(accuracy)\n",
    "\n",
    "  # Use score method to get accuracy of model\n",
    "  score = m.score(X_test, y_test)\n",
    "  print(score)\n",
    "\n",
    "  print(classification_report(y_test, predicted))\n",
    "\n",
    "  # cm = confusion_matrix(y_test, predicted)\n",
    "  # print(cm)\n",
    "  print('#'*80)\n",
    "\n",
    "  df_results.loc[n] = [None, None, None, None, accuracy, train_time, test_time]\n",
    "  \n",
    "  del m\n",
    "    \n",
    "train_test_time = timer() - start\n",
    "print('The time is {:.4f} seconds'.format(train_test_time))"
   ],
   "execution_count": null,
   "outputs": [
    {
     "output_type": "stream",
     "name": "stdout",
     "text": [
      "--------------------------------------------------------------------------------\n",
      "LogisticRegression\n",
      "1.0\n",
      "1.0\n",
      "              precision    recall  f1-score   support\n",
      "\n",
      "           0       1.00      1.00      1.00       448\n",
      "           1       1.00      1.00      1.00       138\n",
      "\n",
      "    accuracy                           1.00       586\n",
      "   macro avg       1.00      1.00      1.00       586\n",
      "weighted avg       1.00      1.00      1.00       586\n",
      "\n",
      "################################################################################\n",
      "--------------------------------------------------------------------------------\n",
      "DecisionTreeClassifier\n",
      "0.9897610921501706\n",
      "0.9897610921501706\n",
      "              precision    recall  f1-score   support\n",
      "\n",
      "           0       1.00      0.99      0.99       448\n",
      "           1       0.97      0.99      0.98       138\n",
      "\n",
      "    accuracy                           0.99       586\n",
      "   macro avg       0.98      0.99      0.99       586\n",
      "weighted avg       0.99      0.99      0.99       586\n",
      "\n",
      "################################################################################\n",
      "--------------------------------------------------------------------------------\n",
      "RandomForestClassifier\n",
      "1.0\n",
      "1.0\n",
      "              precision    recall  f1-score   support\n",
      "\n",
      "           0       1.00      1.00      1.00       448\n",
      "           1       1.00      1.00      1.00       138\n",
      "\n",
      "    accuracy                           1.00       586\n",
      "   macro avg       1.00      1.00      1.00       586\n",
      "weighted avg       1.00      1.00      1.00       586\n",
      "\n",
      "################################################################################\n",
      "--------------------------------------------------------------------------------\n",
      "AdaBoostClassifier\n",
      "1.0\n",
      "1.0\n",
      "              precision    recall  f1-score   support\n",
      "\n",
      "           0       1.00      1.00      1.00       448\n",
      "           1       1.00      1.00      1.00       138\n",
      "\n",
      "    accuracy                           1.00       586\n",
      "   macro avg       1.00      1.00      1.00       586\n",
      "weighted avg       1.00      1.00      1.00       586\n",
      "\n",
      "################################################################################\n",
      "--------------------------------------------------------------------------------\n",
      "GradientBoostingClassifier\n",
      "1.0\n",
      "1.0\n",
      "              precision    recall  f1-score   support\n",
      "\n",
      "           0       1.00      1.00      1.00       448\n",
      "           1       1.00      1.00      1.00       138\n",
      "\n",
      "    accuracy                           1.00       586\n",
      "   macro avg       1.00      1.00      1.00       586\n",
      "weighted avg       1.00      1.00      1.00       586\n",
      "\n",
      "################################################################################\n",
      "--------------------------------------------------------------------------------\n",
      "HistGradientBoostingClassifier\n",
      "1.0\n",
      "1.0\n",
      "              precision    recall  f1-score   support\n",
      "\n",
      "           0       1.00      1.00      1.00       448\n",
      "           1       1.00      1.00      1.00       138\n",
      "\n",
      "    accuracy                           1.00       586\n",
      "   macro avg       1.00      1.00      1.00       586\n",
      "weighted avg       1.00      1.00      1.00       586\n",
      "\n",
      "################################################################################\n",
      "--------------------------------------------------------------------------------\n",
      "XGBClassifier\n",
      "0.9880546075085325\n",
      "0.9880546075085325\n",
      "              precision    recall  f1-score   support\n",
      "\n",
      "           0       0.99      0.99      0.99       448\n",
      "           1       0.98      0.97      0.97       138\n",
      "\n",
      "    accuracy                           0.99       586\n",
      "   macro avg       0.98      0.98      0.98       586\n",
      "weighted avg       0.99      0.99      0.99       586\n",
      "\n",
      "################################################################################\n",
      "--------------------------------------------------------------------------------\n",
      "LGBMClassifier\n",
      "1.0\n",
      "1.0\n",
      "              precision    recall  f1-score   support\n",
      "\n",
      "           0       1.00      1.00      1.00       448\n",
      "           1       1.00      1.00      1.00       138\n",
      "\n",
      "    accuracy                           1.00       586\n",
      "   macro avg       1.00      1.00      1.00       586\n",
      "weighted avg       1.00      1.00      1.00       586\n",
      "\n",
      "################################################################################\n",
      "--------------------------------------------------------------------------------\n",
      "CatBoostClassifier\n",
      "1.0\n",
      "1.0\n",
      "              precision    recall  f1-score   support\n",
      "\n",
      "           0       1.00      1.00      1.00       448\n",
      "           1       1.00      1.00      1.00       138\n",
      "\n",
      "    accuracy                           1.00       586\n",
      "   macro avg       1.00      1.00      1.00       586\n",
      "weighted avg       1.00      1.00      1.00       586\n",
      "\n",
      "################################################################################\n",
      "The time is 182.0234 seconds\n"
     ]
    }
   ]
  },
  {
   "cell_type": "code",
   "source": [
    "# cb.get_all_params()"
   ],
   "metadata": {
    "id": "TeqOiXqfT_b6"
   },
   "execution_count": null,
   "outputs": []
  },
  {
   "cell_type": "code",
   "source": [
    "df_results"
   ],
   "metadata": {
    "colab": {
     "base_uri": "https://localhost:8080/",
     "height": 332
    },
    "id": "GaJT1l4ENSCS",
    "executionInfo": {
     "status": "ok",
     "timestamp": 1650115542793,
     "user_tz": -540,
     "elapsed": 57,
     "user": {
      "displayName": "Milandu Keith Moussavou Boussougou",
      "userId": "16125998280788005643"
     }
    },
    "outputId": "0e493cfb-6436-45ff-ccf2-523d7795d208"
   },
   "execution_count": null,
   "outputs": [
    {
     "output_type": "execute_result",
     "data": {
      "text/plain": [
       "                                F1_score  Precision  Recall  Accuracy  \\\n",
       "LogisticRegression                   NaN        NaN     NaN       NaN   \n",
       "DecisionTreeClassifier               NaN        NaN     NaN       NaN   \n",
       "RandomForestClassifier               NaN        NaN     NaN       NaN   \n",
       "AdaBoostClassifier                   NaN        NaN     NaN       NaN   \n",
       "GradientBoostingClassifier           NaN        NaN     NaN       NaN   \n",
       "HistGradientBoostingClassifier       NaN        NaN     NaN       NaN   \n",
       "XGBClassifier                        NaN        NaN     NaN       NaN   \n",
       "LGBMClassifier                       NaN        NaN     NaN       NaN   \n",
       "CatBoostClassifier                   NaN        NaN     NaN       NaN   \n",
       "\n",
       "                                Accuracy1  Training time  Test time  \n",
       "LogisticRegression               1.000000       0.161276   0.002261  \n",
       "DecisionTreeClassifier           0.989761       0.838473   0.006275  \n",
       "RandomForestClassifier           1.000000       1.646268   0.031493  \n",
       "AdaBoostClassifier               1.000000       8.285576   0.156767  \n",
       "GradientBoostingClassifier       1.000000      34.827289   0.006557  \n",
       "HistGradientBoostingClassifier   1.000000      19.715119   0.020977  \n",
       "XGBClassifier                    0.988055       2.309119   0.019061  \n",
       "LGBMClassifier                   1.000000      10.514986   0.010745  \n",
       "CatBoostClassifier               1.000000     102.418896   0.341318  "
      ],
      "text/html": [
       "\n",
       "  <div id=\"df-bb0b6b0a-166e-41c3-80b0-2044f33c3625\">\n",
       "    <div class=\"colab-df-container\">\n",
       "      <div>\n",
       "<style scoped>\n",
       "    .dataframe tbody tr th:only-of-type {\n",
       "        vertical-align: middle;\n",
       "    }\n",
       "\n",
       "    .dataframe tbody tr th {\n",
       "        vertical-align: top;\n",
       "    }\n",
       "\n",
       "    .dataframe thead th {\n",
       "        text-align: right;\n",
       "    }\n",
       "</style>\n",
       "<table border=\"1\" class=\"dataframe\">\n",
       "  <thead>\n",
       "    <tr style=\"text-align: right;\">\n",
       "      <th></th>\n",
       "      <th>F1_score</th>\n",
       "      <th>Precision</th>\n",
       "      <th>Recall</th>\n",
       "      <th>Accuracy</th>\n",
       "      <th>Accuracy1</th>\n",
       "      <th>Training time</th>\n",
       "      <th>Test time</th>\n",
       "    </tr>\n",
       "  </thead>\n",
       "  <tbody>\n",
       "    <tr>\n",
       "      <th>LogisticRegression</th>\n",
       "      <td>NaN</td>\n",
       "      <td>NaN</td>\n",
       "      <td>NaN</td>\n",
       "      <td>NaN</td>\n",
       "      <td>1.000000</td>\n",
       "      <td>0.161276</td>\n",
       "      <td>0.002261</td>\n",
       "    </tr>\n",
       "    <tr>\n",
       "      <th>DecisionTreeClassifier</th>\n",
       "      <td>NaN</td>\n",
       "      <td>NaN</td>\n",
       "      <td>NaN</td>\n",
       "      <td>NaN</td>\n",
       "      <td>0.989761</td>\n",
       "      <td>0.838473</td>\n",
       "      <td>0.006275</td>\n",
       "    </tr>\n",
       "    <tr>\n",
       "      <th>RandomForestClassifier</th>\n",
       "      <td>NaN</td>\n",
       "      <td>NaN</td>\n",
       "      <td>NaN</td>\n",
       "      <td>NaN</td>\n",
       "      <td>1.000000</td>\n",
       "      <td>1.646268</td>\n",
       "      <td>0.031493</td>\n",
       "    </tr>\n",
       "    <tr>\n",
       "      <th>AdaBoostClassifier</th>\n",
       "      <td>NaN</td>\n",
       "      <td>NaN</td>\n",
       "      <td>NaN</td>\n",
       "      <td>NaN</td>\n",
       "      <td>1.000000</td>\n",
       "      <td>8.285576</td>\n",
       "      <td>0.156767</td>\n",
       "    </tr>\n",
       "    <tr>\n",
       "      <th>GradientBoostingClassifier</th>\n",
       "      <td>NaN</td>\n",
       "      <td>NaN</td>\n",
       "      <td>NaN</td>\n",
       "      <td>NaN</td>\n",
       "      <td>1.000000</td>\n",
       "      <td>34.827289</td>\n",
       "      <td>0.006557</td>\n",
       "    </tr>\n",
       "    <tr>\n",
       "      <th>HistGradientBoostingClassifier</th>\n",
       "      <td>NaN</td>\n",
       "      <td>NaN</td>\n",
       "      <td>NaN</td>\n",
       "      <td>NaN</td>\n",
       "      <td>1.000000</td>\n",
       "      <td>19.715119</td>\n",
       "      <td>0.020977</td>\n",
       "    </tr>\n",
       "    <tr>\n",
       "      <th>XGBClassifier</th>\n",
       "      <td>NaN</td>\n",
       "      <td>NaN</td>\n",
       "      <td>NaN</td>\n",
       "      <td>NaN</td>\n",
       "      <td>0.988055</td>\n",
       "      <td>2.309119</td>\n",
       "      <td>0.019061</td>\n",
       "    </tr>\n",
       "    <tr>\n",
       "      <th>LGBMClassifier</th>\n",
       "      <td>NaN</td>\n",
       "      <td>NaN</td>\n",
       "      <td>NaN</td>\n",
       "      <td>NaN</td>\n",
       "      <td>1.000000</td>\n",
       "      <td>10.514986</td>\n",
       "      <td>0.010745</td>\n",
       "    </tr>\n",
       "    <tr>\n",
       "      <th>CatBoostClassifier</th>\n",
       "      <td>NaN</td>\n",
       "      <td>NaN</td>\n",
       "      <td>NaN</td>\n",
       "      <td>NaN</td>\n",
       "      <td>1.000000</td>\n",
       "      <td>102.418896</td>\n",
       "      <td>0.341318</td>\n",
       "    </tr>\n",
       "  </tbody>\n",
       "</table>\n",
       "</div>\n",
       "      <button class=\"colab-df-convert\" onclick=\"convertToInteractive('df-bb0b6b0a-166e-41c3-80b0-2044f33c3625')\"\n",
       "              title=\"Convert this dataframe to an interactive table.\"\n",
       "              style=\"display:none;\">\n",
       "        \n",
       "  <svg xmlns=\"http://www.w3.org/2000/svg\" height=\"24px\"viewBox=\"0 0 24 24\"\n",
       "       width=\"24px\">\n",
       "    <path d=\"M0 0h24v24H0V0z\" fill=\"none\"/>\n",
       "    <path d=\"M18.56 5.44l.94 2.06.94-2.06 2.06-.94-2.06-.94-.94-2.06-.94 2.06-2.06.94zm-11 1L8.5 8.5l.94-2.06 2.06-.94-2.06-.94L8.5 2.5l-.94 2.06-2.06.94zm10 10l.94 2.06.94-2.06 2.06-.94-2.06-.94-.94-2.06-.94 2.06-2.06.94z\"/><path d=\"M17.41 7.96l-1.37-1.37c-.4-.4-.92-.59-1.43-.59-.52 0-1.04.2-1.43.59L10.3 9.45l-7.72 7.72c-.78.78-.78 2.05 0 2.83L4 21.41c.39.39.9.59 1.41.59.51 0 1.02-.2 1.41-.59l7.78-7.78 2.81-2.81c.8-.78.8-2.07 0-2.86zM5.41 20L4 18.59l7.72-7.72 1.47 1.35L5.41 20z\"/>\n",
       "  </svg>\n",
       "      </button>\n",
       "      \n",
       "  <style>\n",
       "    .colab-df-container {\n",
       "      display:flex;\n",
       "      flex-wrap:wrap;\n",
       "      gap: 12px;\n",
       "    }\n",
       "\n",
       "    .colab-df-convert {\n",
       "      background-color: #E8F0FE;\n",
       "      border: none;\n",
       "      border-radius: 50%;\n",
       "      cursor: pointer;\n",
       "      display: none;\n",
       "      fill: #1967D2;\n",
       "      height: 32px;\n",
       "      padding: 0 0 0 0;\n",
       "      width: 32px;\n",
       "    }\n",
       "\n",
       "    .colab-df-convert:hover {\n",
       "      background-color: #E2EBFA;\n",
       "      box-shadow: 0px 1px 2px rgba(60, 64, 67, 0.3), 0px 1px 3px 1px rgba(60, 64, 67, 0.15);\n",
       "      fill: #174EA6;\n",
       "    }\n",
       "\n",
       "    [theme=dark] .colab-df-convert {\n",
       "      background-color: #3B4455;\n",
       "      fill: #D2E3FC;\n",
       "    }\n",
       "\n",
       "    [theme=dark] .colab-df-convert:hover {\n",
       "      background-color: #434B5C;\n",
       "      box-shadow: 0px 1px 3px 1px rgba(0, 0, 0, 0.15);\n",
       "      filter: drop-shadow(0px 1px 2px rgba(0, 0, 0, 0.3));\n",
       "      fill: #FFFFFF;\n",
       "    }\n",
       "  </style>\n",
       "\n",
       "      <script>\n",
       "        const buttonEl =\n",
       "          document.querySelector('#df-bb0b6b0a-166e-41c3-80b0-2044f33c3625 button.colab-df-convert');\n",
       "        buttonEl.style.display =\n",
       "          google.colab.kernel.accessAllowed ? 'block' : 'none';\n",
       "\n",
       "        async function convertToInteractive(key) {\n",
       "          const element = document.querySelector('#df-bb0b6b0a-166e-41c3-80b0-2044f33c3625');\n",
       "          const dataTable =\n",
       "            await google.colab.kernel.invokeFunction('convertToInteractive',\n",
       "                                                     [key], {});\n",
       "          if (!dataTable) return;\n",
       "\n",
       "          const docLinkHtml = 'Like what you see? Visit the ' +\n",
       "            '<a target=\"_blank\" href=https://colab.research.google.com/notebooks/data_table.ipynb>data table notebook</a>'\n",
       "            + ' to learn more about interactive tables.';\n",
       "          element.innerHTML = '';\n",
       "          dataTable['output_type'] = 'display_data';\n",
       "          await google.colab.output.renderOutput(dataTable, element);\n",
       "          const docLink = document.createElement('div');\n",
       "          docLink.innerHTML = docLinkHtml;\n",
       "          element.appendChild(docLink);\n",
       "        }\n",
       "      </script>\n",
       "    </div>\n",
       "  </div>\n",
       "  "
      ]
     },
     "metadata": {},
     "execution_count": 38
    }
   ]
  },
  {
   "cell_type": "code",
   "metadata": {
    "colab": {
     "base_uri": "https://localhost:8080/"
    },
    "id": "xFO6mgXcYvcd",
    "executionInfo": {
     "status": "ok",
     "timestamp": 1650115542795,
     "user_tz": -540,
     "elapsed": 56,
     "user": {
      "displayName": "Milandu Keith Moussavou Boussougou",
      "userId": "16125998280788005643"
     }
    },
    "outputId": "39eb2fd9-e569-40ba-9ac8-6cda4e9eeb9d"
   },
   "source": [
    "## Testing LinearSVC\n",
    "start = timer()\n",
    "\n",
    "svc = LinearSVC(\n",
    "    # C = 10\n",
    ")\n",
    "# clf = svm.SVC(kernel='linear', C=10)\n",
    "svc"
   ],
   "execution_count": null,
   "outputs": [
    {
     "output_type": "execute_result",
     "data": {
      "text/plain": [
       "LinearSVC()"
      ]
     },
     "metadata": {},
     "execution_count": 39
    }
   ]
  },
  {
   "cell_type": "code",
   "source": [
    "start_time = time()\n",
    "svc.fit(X_train, y_train)\n",
    "run_time = time() - start_time\n",
    "\n",
    "start_test = time()\n",
    "preds = svc.predict(X_test)\n",
    "test_time = time() - start_test\n",
    "\n",
    "accuracy = np.mean(preds == y_test)\n",
    "df_results.loc['LinearSVC'] = [None, None, None, None, accuracy, run_time, test_time]\n",
    "\n",
    "train_time = timer() - start\n",
    "print('The time is {:.4f} seconds'.format(train_time))"
   ],
   "metadata": {
    "colab": {
     "base_uri": "https://localhost:8080/"
    },
    "id": "AS95TUfNii1y",
    "executionInfo": {
     "status": "ok",
     "timestamp": 1650115542796,
     "user_tz": -540,
     "elapsed": 50,
     "user": {
      "displayName": "Milandu Keith Moussavou Boussougou",
      "userId": "16125998280788005643"
     }
    },
    "outputId": "03c985cc-cc64-44d2-de5b-0da1c21437e1"
   },
   "execution_count": null,
   "outputs": [
    {
     "output_type": "stream",
     "name": "stdout",
     "text": [
      "The time is 0.0723 seconds\n"
     ]
    }
   ]
  },
  {
   "cell_type": "code",
   "metadata": {
    "colab": {
     "base_uri": "https://localhost:8080/",
     "height": 363
    },
    "id": "BiTgxiA5ZprT",
    "executionInfo": {
     "status": "ok",
     "timestamp": 1650115542797,
     "user_tz": -540,
     "elapsed": 45,
     "user": {
      "displayName": "Milandu Keith Moussavou Boussougou",
      "userId": "16125998280788005643"
     }
    },
    "outputId": "7519ad9f-67be-4f8b-df01-4e79f04d732f"
   },
   "source": [
    "df_results"
   ],
   "execution_count": null,
   "outputs": [
    {
     "output_type": "execute_result",
     "data": {
      "text/plain": [
       "                                F1_score  Precision  Recall  Accuracy  \\\n",
       "LogisticRegression                   NaN        NaN     NaN       NaN   \n",
       "DecisionTreeClassifier               NaN        NaN     NaN       NaN   \n",
       "RandomForestClassifier               NaN        NaN     NaN       NaN   \n",
       "AdaBoostClassifier                   NaN        NaN     NaN       NaN   \n",
       "GradientBoostingClassifier           NaN        NaN     NaN       NaN   \n",
       "HistGradientBoostingClassifier       NaN        NaN     NaN       NaN   \n",
       "XGBClassifier                        NaN        NaN     NaN       NaN   \n",
       "LGBMClassifier                       NaN        NaN     NaN       NaN   \n",
       "CatBoostClassifier                   NaN        NaN     NaN       NaN   \n",
       "LinearSVC                            NaN        NaN     NaN       NaN   \n",
       "\n",
       "                                Accuracy1  Training time  Test time  \n",
       "LogisticRegression               1.000000       0.161276   0.002261  \n",
       "DecisionTreeClassifier           0.989761       0.838473   0.006275  \n",
       "RandomForestClassifier           1.000000       1.646268   0.031493  \n",
       "AdaBoostClassifier               1.000000       8.285576   0.156767  \n",
       "GradientBoostingClassifier       1.000000      34.827289   0.006557  \n",
       "HistGradientBoostingClassifier   1.000000      19.715119   0.020977  \n",
       "XGBClassifier                    0.988055       2.309119   0.019061  \n",
       "LGBMClassifier                   1.000000      10.514986   0.010745  \n",
       "CatBoostClassifier               1.000000     102.418896   0.341318  \n",
       "LinearSVC                        1.000000       0.048701   0.002273  "
      ],
      "text/html": [
       "\n",
       "  <div id=\"df-fe380dfa-038f-42a9-947d-506024731a64\">\n",
       "    <div class=\"colab-df-container\">\n",
       "      <div>\n",
       "<style scoped>\n",
       "    .dataframe tbody tr th:only-of-type {\n",
       "        vertical-align: middle;\n",
       "    }\n",
       "\n",
       "    .dataframe tbody tr th {\n",
       "        vertical-align: top;\n",
       "    }\n",
       "\n",
       "    .dataframe thead th {\n",
       "        text-align: right;\n",
       "    }\n",
       "</style>\n",
       "<table border=\"1\" class=\"dataframe\">\n",
       "  <thead>\n",
       "    <tr style=\"text-align: right;\">\n",
       "      <th></th>\n",
       "      <th>F1_score</th>\n",
       "      <th>Precision</th>\n",
       "      <th>Recall</th>\n",
       "      <th>Accuracy</th>\n",
       "      <th>Accuracy1</th>\n",
       "      <th>Training time</th>\n",
       "      <th>Test time</th>\n",
       "    </tr>\n",
       "  </thead>\n",
       "  <tbody>\n",
       "    <tr>\n",
       "      <th>LogisticRegression</th>\n",
       "      <td>NaN</td>\n",
       "      <td>NaN</td>\n",
       "      <td>NaN</td>\n",
       "      <td>NaN</td>\n",
       "      <td>1.000000</td>\n",
       "      <td>0.161276</td>\n",
       "      <td>0.002261</td>\n",
       "    </tr>\n",
       "    <tr>\n",
       "      <th>DecisionTreeClassifier</th>\n",
       "      <td>NaN</td>\n",
       "      <td>NaN</td>\n",
       "      <td>NaN</td>\n",
       "      <td>NaN</td>\n",
       "      <td>0.989761</td>\n",
       "      <td>0.838473</td>\n",
       "      <td>0.006275</td>\n",
       "    </tr>\n",
       "    <tr>\n",
       "      <th>RandomForestClassifier</th>\n",
       "      <td>NaN</td>\n",
       "      <td>NaN</td>\n",
       "      <td>NaN</td>\n",
       "      <td>NaN</td>\n",
       "      <td>1.000000</td>\n",
       "      <td>1.646268</td>\n",
       "      <td>0.031493</td>\n",
       "    </tr>\n",
       "    <tr>\n",
       "      <th>AdaBoostClassifier</th>\n",
       "      <td>NaN</td>\n",
       "      <td>NaN</td>\n",
       "      <td>NaN</td>\n",
       "      <td>NaN</td>\n",
       "      <td>1.000000</td>\n",
       "      <td>8.285576</td>\n",
       "      <td>0.156767</td>\n",
       "    </tr>\n",
       "    <tr>\n",
       "      <th>GradientBoostingClassifier</th>\n",
       "      <td>NaN</td>\n",
       "      <td>NaN</td>\n",
       "      <td>NaN</td>\n",
       "      <td>NaN</td>\n",
       "      <td>1.000000</td>\n",
       "      <td>34.827289</td>\n",
       "      <td>0.006557</td>\n",
       "    </tr>\n",
       "    <tr>\n",
       "      <th>HistGradientBoostingClassifier</th>\n",
       "      <td>NaN</td>\n",
       "      <td>NaN</td>\n",
       "      <td>NaN</td>\n",
       "      <td>NaN</td>\n",
       "      <td>1.000000</td>\n",
       "      <td>19.715119</td>\n",
       "      <td>0.020977</td>\n",
       "    </tr>\n",
       "    <tr>\n",
       "      <th>XGBClassifier</th>\n",
       "      <td>NaN</td>\n",
       "      <td>NaN</td>\n",
       "      <td>NaN</td>\n",
       "      <td>NaN</td>\n",
       "      <td>0.988055</td>\n",
       "      <td>2.309119</td>\n",
       "      <td>0.019061</td>\n",
       "    </tr>\n",
       "    <tr>\n",
       "      <th>LGBMClassifier</th>\n",
       "      <td>NaN</td>\n",
       "      <td>NaN</td>\n",
       "      <td>NaN</td>\n",
       "      <td>NaN</td>\n",
       "      <td>1.000000</td>\n",
       "      <td>10.514986</td>\n",
       "      <td>0.010745</td>\n",
       "    </tr>\n",
       "    <tr>\n",
       "      <th>CatBoostClassifier</th>\n",
       "      <td>NaN</td>\n",
       "      <td>NaN</td>\n",
       "      <td>NaN</td>\n",
       "      <td>NaN</td>\n",
       "      <td>1.000000</td>\n",
       "      <td>102.418896</td>\n",
       "      <td>0.341318</td>\n",
       "    </tr>\n",
       "    <tr>\n",
       "      <th>LinearSVC</th>\n",
       "      <td>NaN</td>\n",
       "      <td>NaN</td>\n",
       "      <td>NaN</td>\n",
       "      <td>NaN</td>\n",
       "      <td>1.000000</td>\n",
       "      <td>0.048701</td>\n",
       "      <td>0.002273</td>\n",
       "    </tr>\n",
       "  </tbody>\n",
       "</table>\n",
       "</div>\n",
       "      <button class=\"colab-df-convert\" onclick=\"convertToInteractive('df-fe380dfa-038f-42a9-947d-506024731a64')\"\n",
       "              title=\"Convert this dataframe to an interactive table.\"\n",
       "              style=\"display:none;\">\n",
       "        \n",
       "  <svg xmlns=\"http://www.w3.org/2000/svg\" height=\"24px\"viewBox=\"0 0 24 24\"\n",
       "       width=\"24px\">\n",
       "    <path d=\"M0 0h24v24H0V0z\" fill=\"none\"/>\n",
       "    <path d=\"M18.56 5.44l.94 2.06.94-2.06 2.06-.94-2.06-.94-.94-2.06-.94 2.06-2.06.94zm-11 1L8.5 8.5l.94-2.06 2.06-.94-2.06-.94L8.5 2.5l-.94 2.06-2.06.94zm10 10l.94 2.06.94-2.06 2.06-.94-2.06-.94-.94-2.06-.94 2.06-2.06.94z\"/><path d=\"M17.41 7.96l-1.37-1.37c-.4-.4-.92-.59-1.43-.59-.52 0-1.04.2-1.43.59L10.3 9.45l-7.72 7.72c-.78.78-.78 2.05 0 2.83L4 21.41c.39.39.9.59 1.41.59.51 0 1.02-.2 1.41-.59l7.78-7.78 2.81-2.81c.8-.78.8-2.07 0-2.86zM5.41 20L4 18.59l7.72-7.72 1.47 1.35L5.41 20z\"/>\n",
       "  </svg>\n",
       "      </button>\n",
       "      \n",
       "  <style>\n",
       "    .colab-df-container {\n",
       "      display:flex;\n",
       "      flex-wrap:wrap;\n",
       "      gap: 12px;\n",
       "    }\n",
       "\n",
       "    .colab-df-convert {\n",
       "      background-color: #E8F0FE;\n",
       "      border: none;\n",
       "      border-radius: 50%;\n",
       "      cursor: pointer;\n",
       "      display: none;\n",
       "      fill: #1967D2;\n",
       "      height: 32px;\n",
       "      padding: 0 0 0 0;\n",
       "      width: 32px;\n",
       "    }\n",
       "\n",
       "    .colab-df-convert:hover {\n",
       "      background-color: #E2EBFA;\n",
       "      box-shadow: 0px 1px 2px rgba(60, 64, 67, 0.3), 0px 1px 3px 1px rgba(60, 64, 67, 0.15);\n",
       "      fill: #174EA6;\n",
       "    }\n",
       "\n",
       "    [theme=dark] .colab-df-convert {\n",
       "      background-color: #3B4455;\n",
       "      fill: #D2E3FC;\n",
       "    }\n",
       "\n",
       "    [theme=dark] .colab-df-convert:hover {\n",
       "      background-color: #434B5C;\n",
       "      box-shadow: 0px 1px 3px 1px rgba(0, 0, 0, 0.15);\n",
       "      filter: drop-shadow(0px 1px 2px rgba(0, 0, 0, 0.3));\n",
       "      fill: #FFFFFF;\n",
       "    }\n",
       "  </style>\n",
       "\n",
       "      <script>\n",
       "        const buttonEl =\n",
       "          document.querySelector('#df-fe380dfa-038f-42a9-947d-506024731a64 button.colab-df-convert');\n",
       "        buttonEl.style.display =\n",
       "          google.colab.kernel.accessAllowed ? 'block' : 'none';\n",
       "\n",
       "        async function convertToInteractive(key) {\n",
       "          const element = document.querySelector('#df-fe380dfa-038f-42a9-947d-506024731a64');\n",
       "          const dataTable =\n",
       "            await google.colab.kernel.invokeFunction('convertToInteractive',\n",
       "                                                     [key], {});\n",
       "          if (!dataTable) return;\n",
       "\n",
       "          const docLinkHtml = 'Like what you see? Visit the ' +\n",
       "            '<a target=\"_blank\" href=https://colab.research.google.com/notebooks/data_table.ipynb>data table notebook</a>'\n",
       "            + ' to learn more about interactive tables.';\n",
       "          element.innerHTML = '';\n",
       "          dataTable['output_type'] = 'display_data';\n",
       "          await google.colab.output.renderOutput(dataTable, element);\n",
       "          const docLink = document.createElement('div');\n",
       "          docLink.innerHTML = docLinkHtml;\n",
       "          element.appendChild(docLink);\n",
       "        }\n",
       "      </script>\n",
       "    </div>\n",
       "  </div>\n",
       "  "
      ]
     },
     "metadata": {},
     "execution_count": 41
    }
   ]
  },
  {
   "cell_type": "code",
   "metadata": {
    "id": "KAGMY89-ntsp"
   },
   "source": [
    "# table = df_results[['accuracy','run_time']].head()"
   ],
   "execution_count": null,
   "outputs": []
  },
  {
   "cell_type": "code",
   "metadata": {
    "id": "H7J9OSmEngVO"
   },
   "source": [
    "# ax = df_results.plot()\n",
    "# fig = ax.get_figure()\n",
    "# fig.savefig('asdf.png')"
   ],
   "execution_count": null,
   "outputs": []
  },
  {
   "cell_type": "code",
   "metadata": {
    "id": "-nrWJo1QoM1a"
   },
   "source": [
    "# ls -l"
   ],
   "execution_count": null,
   "outputs": []
  },
  {
   "cell_type": "code",
   "source": [
    "# example of grid searching key hyperparameters for adaboost on a classification dataset\n",
    "from sklearn.model_selection import RepeatedStratifiedKFold\n",
    "from sklearn.model_selection import GridSearchCV\n",
    "# from sklearn.ensemble import AdaBoostClassifier\n",
    "\n",
    "\n",
    "# # define the model with default hyperparameters\n",
    "# model = AdaBoostClassifier()\n",
    "\n",
    "# define the grid of values to search\n",
    "grid = dict()\n",
    "grid['n_estimators'] = [10, 50, 100, 500]\n",
    "grid['learning_rate'] = [0.0001, 0.001, 0.01, 0.1, 1.0]\n",
    "\n",
    "# define the evaluation procedure\n",
    "cv = RepeatedStratifiedKFold(n_splits=10, n_repeats=3, random_state=1)\n",
    "\n",
    "# define the grid search procedure\n",
    "grid_search = GridSearchCV(estimator=ab, param_grid=grid, n_jobs=-1, cv=cv, scoring='accuracy')\n",
    "\n",
    "# execute the grid search\n",
    "grid_result = grid_search.fit(X_train, y_train)\n",
    "\n",
    "# summarize the best score and configuration\n",
    "print(\"Best: %f using %s\" % (grid_result.best_score_, grid_result.best_params_))\n",
    "\n",
    "# summarize all scores that were evaluated\n",
    "means = grid_result.cv_results_['mean_test_score']\n",
    "stds = grid_result.cv_results_['std_test_score']\n",
    "params = grid_result.cv_results_['params']\n",
    "for mean, stdev, param in zip(means, stds, params):\n",
    "    print(\"%f (%f) with: %r\" % (mean, stdev, param))"
   ],
   "metadata": {
    "colab": {
     "base_uri": "https://localhost:8080/"
    },
    "id": "jym7k4i1XOiL",
    "executionInfo": {
     "status": "ok",
     "timestamp": 1650125479328,
     "user_tz": -540,
     "elapsed": 9936574,
     "user": {
      "displayName": "Milandu Keith Moussavou Boussougou",
      "userId": "16125998280788005643"
     }
    },
    "outputId": "c07f5583-a9ab-41ea-faad-04f16be87dfd"
   },
   "execution_count": null,
   "outputs": [
    {
     "output_type": "stream",
     "name": "stdout",
     "text": [
      "Best: 1.000000 using {'learning_rate': 1.0, 'n_estimators': 500}\n",
      "0.956719 (0.009821) with: {'learning_rate': 0.0001, 'n_estimators': 10}\n",
      "0.956719 (0.009821) with: {'learning_rate': 0.0001, 'n_estimators': 50}\n",
      "0.956719 (0.009821) with: {'learning_rate': 0.0001, 'n_estimators': 100}\n",
      "0.956719 (0.009821) with: {'learning_rate': 0.0001, 'n_estimators': 500}\n",
      "0.956719 (0.009821) with: {'learning_rate': 0.001, 'n_estimators': 10}\n",
      "0.956719 (0.009821) with: {'learning_rate': 0.001, 'n_estimators': 50}\n",
      "0.956719 (0.009821) with: {'learning_rate': 0.001, 'n_estimators': 100}\n",
      "0.963267 (0.010997) with: {'learning_rate': 0.001, 'n_estimators': 500}\n",
      "0.956719 (0.009821) with: {'learning_rate': 0.01, 'n_estimators': 10}\n",
      "0.962839 (0.011301) with: {'learning_rate': 0.01, 'n_estimators': 50}\n",
      "0.968391 (0.009199) with: {'learning_rate': 0.01, 'n_estimators': 100}\n",
      "0.996441 (0.003834) with: {'learning_rate': 0.01, 'n_estimators': 500}\n",
      "0.973803 (0.008510) with: {'learning_rate': 0.1, 'n_estimators': 10}\n",
      "0.996583 (0.003557) with: {'learning_rate': 0.1, 'n_estimators': 50}\n",
      "0.998719 (0.001957) with: {'learning_rate': 0.1, 'n_estimators': 100}\n",
      "0.999431 (0.001451) with: {'learning_rate': 0.1, 'n_estimators': 500}\n",
      "0.996584 (0.003882) with: {'learning_rate': 1.0, 'n_estimators': 10}\n",
      "0.999573 (0.001282) with: {'learning_rate': 1.0, 'n_estimators': 50}\n",
      "0.999715 (0.001066) with: {'learning_rate': 1.0, 'n_estimators': 100}\n",
      "1.000000 (0.000000) with: {'learning_rate': 1.0, 'n_estimators': 500}\n"
     ]
    }
   ]
  },
  {
   "cell_type": "markdown",
   "metadata": {
    "id": "4yqadwxxjEPw"
   },
   "source": [
    "# Model with recall and precision metrics\n"
   ]
  },
  {
   "cell_type": "markdown",
   "metadata": {
    "id": "eOJktn5DjK-d"
   },
   "source": [
    "## librairies"
   ]
  },
  {
   "cell_type": "code",
   "metadata": {
    "colab": {
     "base_uri": "https://localhost:8080/"
    },
    "id": "HtlfQVMRjN5v",
    "executionInfo": {
     "status": "ok",
     "timestamp": 1650125512593,
     "user_tz": -540,
     "elapsed": 32750,
     "user": {
      "displayName": "Milandu Keith Moussavou Boussougou",
      "userId": "16125998280788005643"
     }
    },
    "outputId": "b4cdded0-00c9-4c21-93c3-b6808ca49b00"
   },
   "source": [
    "!pip install psutil nodejs matplotlib seaborn==0.8.1 neptune-client==0.3.7 neptune-contrib[versioning]==0.11.0 neptune-notebooks==0.0.8 scikit-plot"
   ],
   "execution_count": null,
   "outputs": [
    {
     "output_type": "stream",
     "name": "stdout",
     "text": [
      "Requirement already satisfied: psutil in /usr/local/lib/python3.7/dist-packages (5.4.8)\n",
      "Collecting nodejs\n",
      "  Downloading nodejs-0.1.1.tar.gz (2.3 kB)\n",
      "Requirement already satisfied: matplotlib in /usr/local/lib/python3.7/dist-packages (3.2.2)\n",
      "Collecting seaborn==0.8.1\n",
      "  Downloading seaborn-0.8.1.tar.gz (178 kB)\n",
      "\u001B[K     |████████████████████████████████| 178 kB 4.8 MB/s \n",
      "\u001B[?25hCollecting neptune-client==0.3.7\n",
      "  Downloading neptune-client-0.3.7.tar.gz (75 kB)\n",
      "\u001B[K     |████████████████████████████████| 75 kB 3.9 MB/s \n",
      "\u001B[?25hCollecting neptune-contrib[versioning]==0.11.0\n",
      "  Downloading neptune-contrib-0.11.0.tar.gz (22 kB)\n",
      "Collecting neptune-notebooks==0.0.8\n",
      "  Downloading neptune-notebooks-0.0.8.tar.gz (39 kB)\n",
      "Collecting scikit-plot\n",
      "  Downloading scikit_plot-0.3.7-py3-none-any.whl (33 kB)\n",
      "Collecting bravado\n",
      "  Downloading bravado-11.0.3-py2.py3-none-any.whl (38 kB)\n",
      "Requirement already satisfied: click>=7.0 in /usr/local/lib/python3.7/dist-packages (from neptune-client==0.3.7) (7.1.2)\n",
      "Collecting future>=0.17.1\n",
      "  Downloading future-0.18.2.tar.gz (829 kB)\n",
      "\u001B[K     |████████████████████████████████| 829 kB 34.2 MB/s \n",
      "\u001B[?25hRequirement already satisfied: nvidia-ml-py3 in /usr/local/lib/python3.7/dist-packages (from neptune-client==0.3.7) (7.352.0)\n",
      "Requirement already satisfied: oauthlib>=2.1.0 in /usr/local/lib/python3.7/dist-packages (from neptune-client==0.3.7) (3.2.0)\n",
      "Requirement already satisfied: pandas in /usr/local/lib/python3.7/dist-packages (from neptune-client==0.3.7) (1.3.5)\n",
      "Requirement already satisfied: Pillow>=1.1.6 in /usr/local/lib/python3.7/dist-packages (from neptune-client==0.3.7) (7.1.2)\n",
      "Collecting PyJWT\n",
      "  Downloading PyJWT-2.3.0-py3-none-any.whl (16 kB)\n",
      "Requirement already satisfied: requests>=2.20.0 in /usr/local/lib/python3.7/dist-packages (from neptune-client==0.3.7) (2.23.0)\n",
      "Requirement already satisfied: requests-oauthlib>=1.0.0 in /usr/local/lib/python3.7/dist-packages (from neptune-client==0.3.7) (1.3.1)\n",
      "Requirement already satisfied: six>=1.12.0 in /usr/local/lib/python3.7/dist-packages (from neptune-client==0.3.7) (1.15.0)\n",
      "Collecting websocket-client>=0.35.0\n",
      "  Downloading websocket_client-1.3.2-py3-none-any.whl (54 kB)\n",
      "\u001B[K     |████████████████████████████████| 54 kB 2.4 MB/s \n",
      "\u001B[?25hCollecting GitPython>=2.0.8\n",
      "  Downloading GitPython-3.1.27-py3-none-any.whl (181 kB)\n",
      "\u001B[K     |████████████████████████████████| 181 kB 52.5 MB/s \n",
      "\u001B[?25hRequirement already satisfied: notebook>=4.3.0 in /usr/local/lib/python3.7/dist-packages (from neptune-notebooks==0.0.8) (5.3.1)\n",
      "Collecting path.py\n",
      "  Downloading path.py-12.5.0-py3-none-any.whl (2.3 kB)\n",
      "Collecting attrdict==2.0.0\n",
      "  Downloading attrdict-2.0.0.tar.gz (9.0 kB)\n",
      "Collecting joblib==0.13\n",
      "  Downloading joblib-0.13.0-py2.py3-none-any.whl (276 kB)\n",
      "\u001B[K     |████████████████████████████████| 276 kB 49.0 MB/s \n",
      "\u001B[?25hCollecting Pillow>=1.1.6\n",
      "  Downloading Pillow-5.4.1-cp37-cp37m-manylinux1_x86_64.whl (2.0 MB)\n",
      "\u001B[K     |████████████████████████████████| 2.0 MB 41.4 MB/s \n",
      "\u001B[?25hCollecting boto3\n",
      "  Downloading boto3-1.21.42-py3-none-any.whl (132 kB)\n",
      "\u001B[K     |████████████████████████████████| 132 kB 60.8 MB/s \n",
      "\u001B[?25hRequirement already satisfied: numpy in /usr/local/lib/python3.7/dist-packages (from neptune-contrib[versioning]==0.11.0) (1.21.5)\n",
      "Collecting gitdb<5,>=4.0.1\n",
      "  Downloading gitdb-4.0.9-py3-none-any.whl (63 kB)\n",
      "\u001B[K     |████████████████████████████████| 63 kB 1.4 MB/s \n",
      "\u001B[?25hRequirement already satisfied: typing-extensions>=3.7.4.3 in /usr/local/lib/python3.7/dist-packages (from GitPython>=2.0.8->neptune-client==0.3.7) (4.1.1)\n",
      "Collecting smmap<6,>=3.0.1\n",
      "  Downloading smmap-5.0.0-py3-none-any.whl (24 kB)\n",
      "Requirement already satisfied: traitlets>=4.2.1 in /usr/local/lib/python3.7/dist-packages (from notebook>=4.3.0->neptune-notebooks==0.0.8) (5.1.1)\n",
      "Requirement already satisfied: tornado>=4 in /usr/local/lib/python3.7/dist-packages (from notebook>=4.3.0->neptune-notebooks==0.0.8) (5.1.1)\n",
      "Requirement already satisfied: jupyter-core>=4.4.0 in /usr/local/lib/python3.7/dist-packages (from notebook>=4.3.0->neptune-notebooks==0.0.8) (4.9.2)\n",
      "Requirement already satisfied: nbconvert in /usr/local/lib/python3.7/dist-packages (from notebook>=4.3.0->neptune-notebooks==0.0.8) (5.6.1)\n",
      "Requirement already satisfied: ipykernel in /usr/local/lib/python3.7/dist-packages (from notebook>=4.3.0->neptune-notebooks==0.0.8) (4.10.1)\n",
      "Requirement already satisfied: jinja2 in /usr/local/lib/python3.7/dist-packages (from notebook>=4.3.0->neptune-notebooks==0.0.8) (2.11.3)\n",
      "Requirement already satisfied: Send2Trash in /usr/local/lib/python3.7/dist-packages (from notebook>=4.3.0->neptune-notebooks==0.0.8) (1.8.0)\n",
      "Requirement already satisfied: nbformat in /usr/local/lib/python3.7/dist-packages (from notebook>=4.3.0->neptune-notebooks==0.0.8) (5.3.0)\n",
      "Requirement already satisfied: jupyter-client>=5.2.0 in /usr/local/lib/python3.7/dist-packages (from notebook>=4.3.0->neptune-notebooks==0.0.8) (5.3.5)\n",
      "Requirement already satisfied: ipython-genutils in /usr/local/lib/python3.7/dist-packages (from notebook>=4.3.0->neptune-notebooks==0.0.8) (0.2.0)\n",
      "Requirement already satisfied: terminado>=0.8.1 in /usr/local/lib/python3.7/dist-packages (from notebook>=4.3.0->neptune-notebooks==0.0.8) (0.13.3)\n",
      "Requirement already satisfied: python-dateutil>=2.1 in /usr/local/lib/python3.7/dist-packages (from jupyter-client>=5.2.0->notebook>=4.3.0->neptune-notebooks==0.0.8) (2.8.2)\n",
      "Requirement already satisfied: pyzmq>=13 in /usr/local/lib/python3.7/dist-packages (from jupyter-client>=5.2.0->notebook>=4.3.0->neptune-notebooks==0.0.8) (22.3.0)\n",
      "Requirement already satisfied: urllib3!=1.25.0,!=1.25.1,<1.26,>=1.21.1 in /usr/local/lib/python3.7/dist-packages (from requests>=2.20.0->neptune-client==0.3.7) (1.24.3)\n",
      "Requirement already satisfied: idna<3,>=2.5 in /usr/local/lib/python3.7/dist-packages (from requests>=2.20.0->neptune-client==0.3.7) (2.10)\n",
      "Requirement already satisfied: chardet<4,>=3.0.2 in /usr/local/lib/python3.7/dist-packages (from requests>=2.20.0->neptune-client==0.3.7) (3.0.4)\n",
      "Requirement already satisfied: certifi>=2017.4.17 in /usr/local/lib/python3.7/dist-packages (from requests>=2.20.0->neptune-client==0.3.7) (2021.10.8)\n",
      "Requirement already satisfied: ptyprocess in /usr/local/lib/python3.7/dist-packages (from terminado>=0.8.1->notebook>=4.3.0->neptune-notebooks==0.0.8) (0.7.0)\n",
      "Collecting optional-django==0.1.0\n",
      "  Downloading optional-django-0.1.0.tar.gz (9.5 kB)\n",
      "Requirement already satisfied: kiwisolver>=1.0.1 in /usr/local/lib/python3.7/dist-packages (from matplotlib) (1.4.2)\n",
      "Requirement already satisfied: pyparsing!=2.0.4,!=2.1.2,!=2.1.6,>=2.0.1 in /usr/local/lib/python3.7/dist-packages (from matplotlib) (3.0.8)\n",
      "Requirement already satisfied: cycler>=0.10 in /usr/local/lib/python3.7/dist-packages (from matplotlib) (0.11.0)\n",
      "Requirement already satisfied: scipy>=0.9 in /usr/local/lib/python3.7/dist-packages (from scikit-plot) (1.4.1)\n",
      "Requirement already satisfied: scikit-learn>=0.18 in /usr/local/lib/python3.7/dist-packages (from scikit-plot) (1.0.2)\n",
      "Requirement already satisfied: threadpoolctl>=2.0.0 in /usr/local/lib/python3.7/dist-packages (from scikit-learn>=0.18->scikit-plot) (3.1.0)\n",
      "Collecting s3transfer<0.6.0,>=0.5.0\n",
      "  Downloading s3transfer-0.5.2-py3-none-any.whl (79 kB)\n",
      "\u001B[K     |████████████████████████████████| 79 kB 7.6 MB/s \n",
      "\u001B[?25hCollecting botocore<1.25.0,>=1.24.42\n",
      "  Downloading botocore-1.24.42-py3-none-any.whl (8.7 MB)\n",
      "\u001B[K     |████████████████████████████████| 8.7 MB 34.3 MB/s \n",
      "\u001B[?25hCollecting jmespath<2.0.0,>=0.7.1\n",
      "  Downloading jmespath-1.0.0-py3-none-any.whl (23 kB)\n",
      "Collecting urllib3!=1.25.0,!=1.25.1,<1.26,>=1.21.1\n",
      "  Downloading urllib3-1.25.11-py2.py3-none-any.whl (127 kB)\n",
      "\u001B[K     |████████████████████████████████| 127 kB 65.9 MB/s \n",
      "\u001B[?25hRequirement already satisfied: pyyaml in /usr/local/lib/python3.7/dist-packages (from bravado->neptune-client==0.3.7) (3.13)\n",
      "Collecting simplejson\n",
      "  Downloading simplejson-3.17.6-cp37-cp37m-manylinux_2_5_x86_64.manylinux1_x86_64.manylinux_2_12_x86_64.manylinux2010_x86_64.whl (130 kB)\n",
      "\u001B[K     |████████████████████████████████| 130 kB 51.6 MB/s \n",
      "\u001B[?25hCollecting monotonic\n",
      "  Downloading monotonic-1.6-py2.py3-none-any.whl (8.2 kB)\n",
      "Requirement already satisfied: msgpack in /usr/local/lib/python3.7/dist-packages (from bravado->neptune-client==0.3.7) (1.0.3)\n",
      "Collecting bravado-core>=5.16.1\n",
      "  Downloading bravado_core-5.17.0-py2.py3-none-any.whl (67 kB)\n",
      "\u001B[K     |████████████████████████████████| 67 kB 4.1 MB/s \n",
      "\u001B[?25hCollecting swagger-spec-validator>=2.0.1\n",
      "  Downloading swagger_spec_validator-2.7.4-py2.py3-none-any.whl (27 kB)\n",
      "Requirement already satisfied: pytz in /usr/local/lib/python3.7/dist-packages (from bravado-core>=5.16.1->bravado->neptune-client==0.3.7) (2018.9)\n",
      "Requirement already satisfied: jsonschema[format]>=2.5.1 in /usr/local/lib/python3.7/dist-packages (from bravado-core>=5.16.1->bravado->neptune-client==0.3.7) (4.3.3)\n",
      "Collecting jsonref\n",
      "  Downloading jsonref-0.2-py3-none-any.whl (9.3 kB)\n",
      "Requirement already satisfied: importlib-resources>=1.4.0 in /usr/local/lib/python3.7/dist-packages (from jsonschema[format]>=2.5.1->bravado-core>=5.16.1->bravado->neptune-client==0.3.7) (5.6.0)\n",
      "Requirement already satisfied: pyrsistent!=0.17.0,!=0.17.1,!=0.17.2,>=0.14.0 in /usr/local/lib/python3.7/dist-packages (from jsonschema[format]>=2.5.1->bravado-core>=5.16.1->bravado->neptune-client==0.3.7) (0.18.1)\n",
      "Requirement already satisfied: attrs>=17.4.0 in /usr/local/lib/python3.7/dist-packages (from jsonschema[format]>=2.5.1->bravado-core>=5.16.1->bravado->neptune-client==0.3.7) (21.4.0)\n",
      "Requirement already satisfied: importlib-metadata in /usr/local/lib/python3.7/dist-packages (from jsonschema[format]>=2.5.1->bravado-core>=5.16.1->bravado->neptune-client==0.3.7) (4.11.3)\n",
      "Collecting webcolors>=1.11\n",
      "  Downloading webcolors-1.11.1-py3-none-any.whl (9.9 kB)\n",
      "Collecting fqdn\n",
      "  Downloading fqdn-1.5.1-py3-none-any.whl (9.1 kB)\n",
      "Collecting rfc3987\n",
      "  Downloading rfc3987-1.3.8-py2.py3-none-any.whl (13 kB)\n",
      "Collecting uri-template\n",
      "  Downloading uri_template-1.2.0-py3-none-any.whl (10 kB)\n",
      "Collecting jsonpointer>1.13\n",
      "  Downloading jsonpointer-2.3-py2.py3-none-any.whl (7.8 kB)\n",
      "Collecting isoduration\n",
      "  Downloading isoduration-20.11.0-py3-none-any.whl (11 kB)\n",
      "Collecting rfc3339-validator\n",
      "  Downloading rfc3339_validator-0.1.4-py2.py3-none-any.whl (3.5 kB)\n",
      "Requirement already satisfied: zipp>=3.1.0 in /usr/local/lib/python3.7/dist-packages (from importlib-resources>=1.4.0->jsonschema[format]>=2.5.1->bravado-core>=5.16.1->bravado->neptune-client==0.3.7) (3.8.0)\n",
      "Requirement already satisfied: cached-property>=1.3.0 in /usr/local/lib/python3.7/dist-packages (from fqdn->jsonschema[format]>=2.5.1->bravado-core>=5.16.1->bravado->neptune-client==0.3.7) (1.5.2)\n",
      "Requirement already satisfied: ipython>=4.0.0 in /usr/local/lib/python3.7/dist-packages (from ipykernel->notebook>=4.3.0->neptune-notebooks==0.0.8) (5.5.0)\n",
      "Requirement already satisfied: pygments in /usr/local/lib/python3.7/dist-packages (from ipython>=4.0.0->ipykernel->notebook>=4.3.0->neptune-notebooks==0.0.8) (2.6.1)\n",
      "Requirement already satisfied: setuptools>=18.5 in /usr/local/lib/python3.7/dist-packages (from ipython>=4.0.0->ipykernel->notebook>=4.3.0->neptune-notebooks==0.0.8) (57.4.0)\n",
      "Requirement already satisfied: decorator in /usr/local/lib/python3.7/dist-packages (from ipython>=4.0.0->ipykernel->notebook>=4.3.0->neptune-notebooks==0.0.8) (4.4.2)\n",
      "Requirement already satisfied: prompt-toolkit<2.0.0,>=1.0.4 in /usr/local/lib/python3.7/dist-packages (from ipython>=4.0.0->ipykernel->notebook>=4.3.0->neptune-notebooks==0.0.8) (1.0.18)\n",
      "Requirement already satisfied: simplegeneric>0.8 in /usr/local/lib/python3.7/dist-packages (from ipython>=4.0.0->ipykernel->notebook>=4.3.0->neptune-notebooks==0.0.8) (0.8.1)\n",
      "Requirement already satisfied: pexpect in /usr/local/lib/python3.7/dist-packages (from ipython>=4.0.0->ipykernel->notebook>=4.3.0->neptune-notebooks==0.0.8) (4.8.0)\n",
      "Requirement already satisfied: pickleshare in /usr/local/lib/python3.7/dist-packages (from ipython>=4.0.0->ipykernel->notebook>=4.3.0->neptune-notebooks==0.0.8) (0.7.5)\n",
      "Requirement already satisfied: wcwidth in /usr/local/lib/python3.7/dist-packages (from prompt-toolkit<2.0.0,>=1.0.4->ipython>=4.0.0->ipykernel->notebook>=4.3.0->neptune-notebooks==0.0.8) (0.2.5)\n",
      "Collecting arrow>=0.15.0\n",
      "  Downloading arrow-1.2.2-py3-none-any.whl (64 kB)\n",
      "\u001B[K     |████████████████████████████████| 64 kB 2.0 MB/s \n",
      "\u001B[?25hRequirement already satisfied: MarkupSafe>=0.23 in /usr/local/lib/python3.7/dist-packages (from jinja2->notebook>=4.3.0->neptune-notebooks==0.0.8) (2.0.1)\n",
      "Requirement already satisfied: entrypoints>=0.2.2 in /usr/local/lib/python3.7/dist-packages (from nbconvert->notebook>=4.3.0->neptune-notebooks==0.0.8) (0.4)\n",
      "Requirement already satisfied: testpath in /usr/local/lib/python3.7/dist-packages (from nbconvert->notebook>=4.3.0->neptune-notebooks==0.0.8) (0.6.0)\n",
      "Requirement already satisfied: bleach in /usr/local/lib/python3.7/dist-packages (from nbconvert->notebook>=4.3.0->neptune-notebooks==0.0.8) (5.0.0)\n",
      "Requirement already satisfied: mistune<2,>=0.8.1 in /usr/local/lib/python3.7/dist-packages (from nbconvert->notebook>=4.3.0->neptune-notebooks==0.0.8) (0.8.4)\n",
      "Requirement already satisfied: pandocfilters>=1.4.1 in /usr/local/lib/python3.7/dist-packages (from nbconvert->notebook>=4.3.0->neptune-notebooks==0.0.8) (1.5.0)\n",
      "Requirement already satisfied: defusedxml in /usr/local/lib/python3.7/dist-packages (from nbconvert->notebook>=4.3.0->neptune-notebooks==0.0.8) (0.7.1)\n",
      "Requirement already satisfied: fastjsonschema in /usr/local/lib/python3.7/dist-packages (from nbformat->notebook>=4.3.0->neptune-notebooks==0.0.8) (2.15.3)\n",
      "Requirement already satisfied: webencodings in /usr/local/lib/python3.7/dist-packages (from bleach->nbconvert->notebook>=4.3.0->neptune-notebooks==0.0.8) (0.5.1)\n",
      "Collecting path\n",
      "  Downloading path-16.4.0-py3-none-any.whl (26 kB)\n",
      "Building wheels for collected packages: seaborn, neptune-client, neptune-notebooks, neptune-contrib, attrdict, future, nodejs, optional-django\n",
      "  Building wheel for seaborn (setup.py) ... \u001B[?25l\u001B[?25hdone\n",
      "  Created wheel for seaborn: filename=seaborn-0.8.1-py3-none-any.whl size=184850 sha256=22c0fe0e1d974e443e797b7c8c765b4fa5e984360da6dea4a6269c612969c214\n",
      "  Stored in directory: /root/.cache/pip/wheels/5f/54/36/8bf02b21dbff2da8fcc84a6d11903cc5fc6cc42a13aa501233\n",
      "  Building wheel for neptune-client (setup.py) ... \u001B[?25l\u001B[?25hdone\n",
      "  Created wheel for neptune-client: filename=neptune_client-0.3.7-py2.py3-none-any.whl size=129036 sha256=10d110ab8146cc7a06209bb2397b2825170bb54cf32e750313b25bd8091ec5e4\n",
      "  Stored in directory: /root/.cache/pip/wheels/ba/3b/04/7bbea0c3ed261c429b4a44dd5384caa9811ef93c4fddb0605f\n",
      "  Building wheel for neptune-notebooks (setup.py) ... \u001B[?25lerror\n",
      "\u001B[31m  ERROR: Failed building wheel for neptune-notebooks\u001B[0m\n",
      "\u001B[?25h  Running setup.py clean for neptune-notebooks\n",
      "  Building wheel for neptune-contrib (setup.py) ... \u001B[?25l\u001B[?25hdone\n",
      "  Created wheel for neptune-contrib: filename=neptune_contrib-0.11.0-py3-none-any.whl size=36388 sha256=b949cd853b170874d4411aec826c8b80f670787c4aaa47fe0e7adcc183e009c1\n",
      "  Stored in directory: /root/.cache/pip/wheels/26/b1/39/5d2991546bda61891d24ba877908ed804a6a6f0726ac48f490\n",
      "  Building wheel for attrdict (setup.py) ... \u001B[?25l\u001B[?25hdone\n",
      "  Created wheel for attrdict: filename=attrdict-2.0.0-py2.py3-none-any.whl size=9988 sha256=a88198a5f5efd5c67b4fef73a6db6d2996885aa0bbab55dd83806d77f7f2c518\n",
      "  Stored in directory: /root/.cache/pip/wheels/f1/3f/aa/a86a6834d6170b721305362887f175dedd9192d028a3ed9234\n",
      "  Building wheel for future (setup.py) ... \u001B[?25l\u001B[?25hdone\n",
      "  Created wheel for future: filename=future-0.18.2-py3-none-any.whl size=491070 sha256=62a6eea65edadee85adf1f46e6afc06770226bab09b7ce610231a26374727327\n",
      "  Stored in directory: /root/.cache/pip/wheels/56/b0/fe/4410d17b32f1f0c3cf54cdfb2bc04d7b4b8f4ae377e2229ba0\n",
      "  Building wheel for nodejs (setup.py) ... \u001B[?25l\u001B[?25hdone\n",
      "  Created wheel for nodejs: filename=nodejs-0.1.1-py3-none-any.whl size=3490 sha256=6c41587a3ba3e024e7b4c464ae2b3aa52188fca63ab9967c3f9e7f353efbda1e\n",
      "  Stored in directory: /root/.cache/pip/wheels/80/3a/93/83f57d8cf66261736b920c942905c46e75378805a7af9c5e8d\n",
      "  Building wheel for optional-django (setup.py) ... \u001B[?25l\u001B[?25hdone\n",
      "  Created wheel for optional-django: filename=optional_django-0.1.0-py3-none-any.whl size=9978 sha256=df496b1e1eedf2cb71f0b1ec32cf8471d818b111a14a9628d4e6d5ab0115781c\n",
      "  Stored in directory: /root/.cache/pip/wheels/1c/e9/a3/5e7d589f0ee51e0631361966ac9eb7f063d46f68669ced53b5\n",
      "Successfully built seaborn neptune-client neptune-contrib attrdict future nodejs optional-django\n",
      "Failed to build neptune-notebooks\n",
      "Installing collected packages: arrow, webcolors, uri-template, rfc3987, rfc3339-validator, jsonpointer, isoduration, fqdn, urllib3, swagger-spec-validator, smmap, simplejson, jsonref, monotonic, jmespath, gitdb, bravado-core, websocket-client, PyJWT, Pillow, GitPython, future, bravado, botocore, s3transfer, path, neptune-client, joblib, attrdict, path.py, optional-django, neptune-contrib, boto3, seaborn, scikit-plot, nodejs, neptune-notebooks\n",
      "  Attempting uninstall: urllib3\n",
      "    Found existing installation: urllib3 1.24.3\n",
      "    Uninstalling urllib3-1.24.3:\n",
      "      Successfully uninstalled urllib3-1.24.3\n",
      "  Attempting uninstall: Pillow\n",
      "    Found existing installation: Pillow 7.1.2\n",
      "    Uninstalling Pillow-7.1.2:\n",
      "      Successfully uninstalled Pillow-7.1.2\n",
      "  Attempting uninstall: future\n",
      "    Found existing installation: future 0.16.0\n",
      "    Uninstalling future-0.16.0:\n",
      "      Successfully uninstalled future-0.16.0\n",
      "  Attempting uninstall: joblib\n",
      "    Found existing installation: joblib 1.1.0\n",
      "    Uninstalling joblib-1.1.0:\n",
      "      Successfully uninstalled joblib-1.1.0\n",
      "  Attempting uninstall: seaborn\n",
      "    Found existing installation: seaborn 0.11.2\n",
      "    Uninstalling seaborn-0.11.2:\n",
      "      Successfully uninstalled seaborn-0.11.2\n",
      "    Running setup.py install for neptune-notebooks ... \u001B[?25l\u001B[?25hdone\n",
      "\u001B[33m  DEPRECATION: neptune-notebooks was installed using the legacy 'setup.py install' method, because a wheel could not be built for it. A possible replacement is to fix the wheel build issue reported above. You can find discussion regarding this at https://github.com/pypa/pip/issues/8368.\u001B[0m\n",
      "\u001B[31mERROR: pip's dependency resolver does not currently take into account all the packages that are installed. This behaviour is the source of the following dependency conflicts.\n",
      "librosa 0.8.1 requires joblib>=0.14, but you have joblib 0.13.0 which is incompatible.\n",
      "datascience 0.10.6 requires folium==0.2.1, but you have folium 0.8.3 which is incompatible.\n",
      "bokeh 2.3.3 requires pillow>=7.1.0, but you have pillow 5.4.1 which is incompatible.\n",
      "albumentations 0.1.12 requires imgaug<0.2.7,>=0.2.5, but you have imgaug 0.2.9 which is incompatible.\u001B[0m\n",
      "Successfully installed GitPython-3.1.27 Pillow-5.4.1 PyJWT-2.3.0 arrow-1.2.2 attrdict-2.0.0 boto3-1.21.42 botocore-1.24.42 bravado-11.0.3 bravado-core-5.17.0 fqdn-1.5.1 future-0.18.2 gitdb-4.0.9 isoduration-20.11.0 jmespath-1.0.0 joblib-0.13.0 jsonpointer-2.3 jsonref-0.2 monotonic-1.6 neptune-client-0.3.7 neptune-contrib-0.11.0 neptune-notebooks-0.0.8 nodejs-0.1.1 optional-django-0.1.0 path-16.4.0 path.py-12.5.0 rfc3339-validator-0.1.4 rfc3987-1.3.8 s3transfer-0.5.2 scikit-plot-0.3.7 seaborn-0.8.1 simplejson-3.17.6 smmap-5.0.0 swagger-spec-validator-2.7.4 uri-template-1.2.0 urllib3-1.25.11 webcolors-1.11.1 websocket-client-1.3.2\n"
     ]
    },
    {
     "output_type": "display_data",
     "data": {
      "application/vnd.colab-display-data+json": {
       "pip_warning": {
        "packages": [
         "PIL",
         "joblib",
         "seaborn"
        ]
       }
      }
     },
     "metadata": {}
    }
   ]
  },
  {
   "cell_type": "markdown",
   "metadata": {
    "id": "ZrNV7QIClOHZ"
   },
   "source": [
    "## Utils.py"
   ]
  },
  {
   "cell_type": "code",
   "metadata": {
    "id": "cmOyyNOxkvhy"
   },
   "source": [
    "import matplotlib.pyplot as plt\n",
    "import neptune\n",
    "from neptunecontrib.monitoring.utils import send_figure\n",
    "import pandas as pd\n",
    "import scikitplot.metrics as plt_metrics\n",
    "from scikitplot.helpers import binary_ks_curve\n",
    "import seaborn as sns\n",
    "import sklearn.metrics as sk_metrics\n",
    "\n",
    "plt.rcParams.update({'font.size': 18})\n",
    "plt.rcParams.update({'figure.figsize': [16, 12]})\n",
    "\n",
    "\n",
    "def log_binary_classification_metrics(y_true, y_pred, threshold=0.5):\n",
    "    # Confusion Matrix\n",
    "    # fig, ax = plt.subplots()\n",
    "    # plot_confusion_matrix(y_true, y_pred[:, 1] > threshold, ax=ax)\n",
    "    # send_figure(fig, channel_name='metric_charts')\n",
    "    # plt.close()\n",
    "\n",
    "    # Plot classification report\n",
    "    # fig = plot_classification_report(y_true, y_pred[:, 1] > threshold)\n",
    "    # send_figure(fig, channel_name='metric_charts')\n",
    "    # plt.close()\n",
    "\n",
    "    scores = _class_metrics(y_true, y_pred[:, 1], threshold)\n",
    "    # for metric_name, score in scores.items():\n",
    "        # print('{} :{}'.format(metric_name, score))\n",
    "        # neptune.log_metric(metric_name, score)\n",
    "\n",
    "    # ROC AUC\n",
    "    roc_auc = sk_metrics.roc_auc_score(y_true, y_pred[:, 1])\n",
    "    # print('ROC AUC score {}'.format(roc_auc))\n",
    "    # neptune.log_metric('roc_auc', roc_auc)\n",
    "\n",
    "    fig, ax = plt.subplots()\n",
    "    plt_metrics.plot_roc(y_true, y_pred, ax=ax)\n",
    "    # send_figure(fig, channel_name='metric_charts')\n",
    "    plt.close()\n",
    "\n",
    "    # PR AUC\n",
    "    avg_precision = sk_metrics.average_precision_score(y_true, y_pred[:, 1])\n",
    "    # print('Average precision score {}'.format(avg_precision))\n",
    "    # neptune.log_metric('avg_precision', avg_precision)\n",
    "\n",
    "    fig, ax = plt.subplots()\n",
    "    plt_metrics.plot_precision_recall(y_true, y_pred, ax=ax)\n",
    "    # send_figure(fig, channel_name='metric_charts')\n",
    "    plt.close()\n",
    "\n",
    "    # Brier loss\n",
    "    brier = sk_metrics.brier_score_loss(y_true, y_pred[:, 1])\n",
    "    # print('Brier loss {}'.format(brier))\n",
    "    # neptune.log_metric('brier_loss', brier)\n",
    "\n",
    "    # Log loss\n",
    "    log_loss = sk_metrics.log_loss(y_true, y_pred)\n",
    "    # print('Log loss {}'.format(log_loss))\n",
    "    # neptune.log_metric('log_loss', log_loss)\n",
    "\n",
    "    # Kolmogorov Smirnow\n",
    "    res = binary_ks_curve(y_true, y_pred[:, 1])\n",
    "    ks_stat = res[3]\n",
    "    # print('KS stat {}'.format(ks_stat))\n",
    "    # neptune.log_metric('ks_statistic', ks_stat)\n",
    "\n",
    "    fig, ax = plt.subplots()\n",
    "    plt_metrics.plot_ks_statistic(y_true, y_pred, ax=ax)\n",
    "    # send_figure(fig, channel_name='metric_charts')\n",
    "    plt.close()\n",
    "\n",
    "    # Cumulative gain\n",
    "    fig, ax = plt.subplots()\n",
    "    plt_metrics.plot_cumulative_gain(y_true, y_pred, ax=ax)\n",
    "    # send_figure(fig, channel_name='metric_charts')\n",
    "    plt.close()\n",
    "\n",
    "    # Lift curve\n",
    "    fig, ax = plt.subplots()\n",
    "    plt_metrics.plot_lift_curve(y_true, y_pred, ax=ax)\n",
    "    # send_figure(fig, channel_name='metric_charts')\n",
    "    plt.close()\n",
    "\n",
    "    # Plots by threshold\n",
    "    figs = plot_metrics_per_threshold(y_true, y_pred[:, 1])\n",
    "\n",
    "    for fig in figs:\n",
    "        # send_figure(fig, channel_name='metrics_by_threshold')\n",
    "        plt.close()\n",
    "\n",
    "    return scores\n",
    "\n",
    "\n",
    "def plot_confusion_matrix(y_true, y_pred_class, ax=None):\n",
    "    cmap = plt.get_cmap('Blues')\n",
    "    cm = sk_metrics.confusion_matrix(y_true, y_pred_class)\n",
    "    sns.heatmap(cm, cmap=cmap, annot=True, fmt='g', ax=ax)\n",
    "\n",
    "\n",
    "def plot_metrics_per_threshold(y_true, y_pred_positive):\n",
    "    scores_by_thres = _class_metrics_by_threshold(y_true, y_pred_positive)\n",
    "    figs = []\n",
    "    for name in scores_by_thres.columns:\n",
    "        if name == 'threshold':\n",
    "            continue\n",
    "        else:\n",
    "            best_thres, best_score = _get_best_thres(scores_by_thres, name)\n",
    "            fig, ax = plt.subplots()\n",
    "            ax.plot(scores_by_thres['threshold'], scores_by_thres[name])\n",
    "            ax.set_title('{} by threshold'.format(name))\n",
    "            ax.axvline(x=best_thres, color='red')\n",
    "            ax.text(x=best_thres, y=0.96 * best_score,\n",
    "                    s='thres={:.4f}\\nscore={:.4f}'.format(best_thres, best_score),\n",
    "                    color='red')\n",
    "            figs.append(fig)\n",
    "    return figs\n",
    "\n",
    "\n",
    "def plot_classification_report(y_true, y_pred_class):\n",
    "    report = sk_metrics.classification_report(y_true, y_pred_class, output_dict=True)\n",
    "    report_df = pd.DataFrame(report).transpose().round(4)\n",
    "\n",
    "    fig, ax = plt.subplots()\n",
    "    ax.axis('off')\n",
    "    ax.axis('tight')\n",
    "    ax.table(cellText=report_df.values,\n",
    "             collabels=report_df.columns,\n",
    "             rowlabels=report_df.index,\n",
    "             loc='center',\n",
    "             bbox=[0.2, 0.2, 0.8, 0.8])\n",
    "    fig.tight_layout()\n",
    "\n",
    "    return fig\n",
    "\n",
    "\n",
    "def _class_metrics(y_true, y_pred, threshold):\n",
    "    y_pred_class = y_pred > threshold\n",
    "\n",
    "    tn, fp, fn, tp = sk_metrics.confusion_matrix(y_true, y_pred_class).ravel()\n",
    "\n",
    "    true_positive_rate = tp / (tp + fn)\n",
    "    true_negative_rate = tn / (tn + fp)\n",
    "    positive_predictive_value = tp / (tp + fp)\n",
    "    negative_predictive_value = tn / (tn + fn)\n",
    "    false_positive_rate = fp / (fp + tn)\n",
    "    false_negative_rate = fn / (tp + fn)\n",
    "    false_discovery_rate = fp / (tp + fp)\n",
    "\n",
    "    scores = {'accuracy': sk_metrics.accuracy_score(y_true, y_pred_class),\n",
    "              'precision': sk_metrics.precision_score(y_true, y_pred_class),\n",
    "              'recall': sk_metrics.recall_score(y_true, y_pred_class),\n",
    "              'f1_score': sk_metrics.fbeta_score(y_true, y_pred_class, beta=1),\n",
    "              'f2_score': sk_metrics.fbeta_score(y_true, y_pred_class, beta=2),\n",
    "              'matthews_corrcoef': sk_metrics.matthews_corrcoef(y_true, y_pred_class),\n",
    "              'cohen_kappa': sk_metrics.cohen_kappa_score(y_true, y_pred_class),\n",
    "              'true_positive_rate': true_positive_rate,\n",
    "              'true_negative_rate': true_negative_rate,\n",
    "              'positive_predictive_value': positive_predictive_value,\n",
    "              'negative_predictive_value': negative_predictive_value,\n",
    "              'false_positive_rate': false_positive_rate,\n",
    "              'false_negative_rate': false_negative_rate,\n",
    "              'false_discovery_rate': false_discovery_rate,\n",
    "              }\n",
    "\n",
    "    return scores\n",
    "\n",
    "\n",
    "def _class_metrics_by_threshold(y_true, y_pred_positive, thres_nr=100):\n",
    "    thresholds = [i / thres_nr for i in range(1, thres_nr, 1)]\n",
    "\n",
    "    scores_per_thres = []\n",
    "    for thres in thresholds:\n",
    "        scores = _class_metrics(y_true, y_pred_positive, thres)\n",
    "        scores['threshold'] = thres\n",
    "        scores_per_thres.append(pd.Series(scores))\n",
    "\n",
    "    return pd.DataFrame(scores_per_thres)\n",
    "\n",
    "\n",
    "def _get_best_thres(scores_by_thres, name):\n",
    "    best_res = scores_by_thres[scores_by_thres[name] == scores_by_thres[name].max()][['threshold', name]]\n",
    "    position = len(best_res) // 2\n",
    "    result = best_res.iloc[position].to_dict()\n",
    "    return result['threshold'], result[name]\n"
   ],
   "execution_count": null,
   "outputs": []
  },
  {
   "cell_type": "markdown",
   "metadata": {
    "id": "sTYzhWimlLAE"
   },
   "source": [
    "## training 2"
   ]
  },
  {
   "cell_type": "code",
   "metadata": {
    "colab": {
     "base_uri": "https://localhost:8080/"
    },
    "id": "eM8lYXP2lG-W",
    "executionInfo": {
     "status": "ok",
     "timestamp": 1650125724405,
     "user_tz": -540,
     "elapsed": 210782,
     "user": {
      "displayName": "Milandu Keith Moussavou Boussougou",
      "userId": "16125998280788005643"
     }
    },
    "outputId": "71126f4f-111b-4181-ebde-10456929e3a6"
   },
   "source": [
    "import lightgbm\n",
    "import neptune\n",
    "from neptunecontrib.monitoring.utils import pickle_and_send_artifact\n",
    "from neptunecontrib.versioning.data import log_data_version\n",
    "import pandas as pd\n",
    "\n",
    "# from utils import log_binary_classification_metrics\n",
    "\n",
    "from timeit import default_timer as timer\n",
    "\n",
    "start = timer()\n",
    "#Train each of our candidate models\n",
    "for m, n in zip(models, model_names):\n",
    "  if n in es_models:\n",
    "    start_time = time()\n",
    "    m.fit(X_train_sub,\n",
    "          y_train_sub,\n",
    "          eval_set = [(X_valid, y_valid)],\n",
    "          # eval_set =[(X_test, y_test)],\n",
    "          early_stopping_rounds=8,\n",
    "          verbose=0,\n",
    "          # eval_metric=\"logloss\"\n",
    "          )\n",
    "    run_time = time() - start_time\n",
    "\n",
    "  else:\n",
    "    start_time = time()\n",
    "    m.fit(X_train, y_train)\n",
    "    run_time = time() - start_time\n",
    "    \n",
    "  # Evaluate model\n",
    "  accuracy = np.mean(m.predict(X_test) == y_test)\n",
    "\n",
    "  start_test = time()\n",
    "  y_test_pred = m.predict_proba(X_test)\n",
    "  test_time = time() - start_test\n",
    "\n",
    "  print(n)\n",
    "  metric_scrores = log_binary_classification_metrics(y_test, y_test_pred)\n",
    "  # pickle_and_send_artifact((y_test, y_test_pred), 'test_predictions.pkl')\n",
    "  for metric_name, score in metric_scrores.items():\n",
    "    print('{} :{}'.format(metric_name, score))\n",
    "\n",
    "  df_results.loc[n] = [\n",
    "                       metric_scrores.get(\"f1_score\"),\n",
    "                       metric_scrores.get(\"precision\"), \n",
    "                       metric_scrores.get(\"recall\"), \n",
    "                       metric_scrores.get(\"accuracy\"),\n",
    "                       accuracy,\n",
    "                       run_time,\n",
    "                       test_time]    \n",
    "  print('-'*50)\n",
    "  del m\n",
    "    \n",
    "train_time = timer() - start\n",
    "print('The time is {:.4f} seconds'.format(train_time))"
   ],
   "execution_count": null,
   "outputs": [
    {
     "output_type": "stream",
     "name": "stdout",
     "text": [
      "LogisticRegression\n",
      "accuracy :1.0\n",
      "precision :1.0\n",
      "recall :1.0\n",
      "f1_score :1.0\n",
      "f2_score :1.0\n",
      "matthews_corrcoef :1.0\n",
      "cohen_kappa :1.0\n",
      "true_positive_rate :1.0\n",
      "true_negative_rate :1.0\n",
      "positive_predictive_value :1.0\n",
      "negative_predictive_value :1.0\n",
      "false_positive_rate :0.0\n",
      "false_negative_rate :0.0\n",
      "false_discovery_rate :0.0\n",
      "--------------------------------------------------\n",
      "DecisionTreeClassifier\n",
      "accuracy :0.9863481228668942\n",
      "precision :0.9710144927536232\n",
      "recall :0.9710144927536232\n",
      "f1_score :0.9710144927536232\n",
      "f2_score :0.9710144927536233\n",
      "matthews_corrcoef :0.9620859213250518\n",
      "cohen_kappa :0.9620859213250518\n",
      "true_positive_rate :0.9710144927536232\n",
      "true_negative_rate :0.9910714285714286\n",
      "positive_predictive_value :0.9710144927536232\n",
      "negative_predictive_value :0.9910714285714286\n",
      "false_positive_rate :0.008928571428571428\n",
      "false_negative_rate :0.028985507246376812\n",
      "false_discovery_rate :0.028985507246376812\n",
      "--------------------------------------------------\n",
      "RandomForestClassifier\n",
      "accuracy :1.0\n",
      "precision :1.0\n",
      "recall :1.0\n",
      "f1_score :1.0\n",
      "f2_score :1.0\n",
      "matthews_corrcoef :1.0\n",
      "cohen_kappa :1.0\n",
      "true_positive_rate :1.0\n",
      "true_negative_rate :1.0\n",
      "positive_predictive_value :1.0\n",
      "negative_predictive_value :1.0\n",
      "false_positive_rate :0.0\n",
      "false_negative_rate :0.0\n",
      "false_discovery_rate :0.0\n",
      "--------------------------------------------------\n",
      "AdaBoostClassifier\n"
     ]
    },
    {
     "output_type": "stream",
     "name": "stderr",
     "text": [
      "/usr/local/lib/python3.7/dist-packages/ipykernel_launcher.py:144: RuntimeWarning: invalid value encountered in long_scalars\n",
      "/usr/local/lib/python3.7/dist-packages/ipykernel_launcher.py:144: RuntimeWarning: invalid value encountered in long_scalars\n",
      "/usr/local/lib/python3.7/dist-packages/ipykernel_launcher.py:144: RuntimeWarning: invalid value encountered in long_scalars\n",
      "/usr/local/lib/python3.7/dist-packages/ipykernel_launcher.py:144: RuntimeWarning: invalid value encountered in long_scalars\n",
      "/usr/local/lib/python3.7/dist-packages/ipykernel_launcher.py:144: RuntimeWarning: invalid value encountered in long_scalars\n",
      "/usr/local/lib/python3.7/dist-packages/ipykernel_launcher.py:144: RuntimeWarning: invalid value encountered in long_scalars\n",
      "/usr/local/lib/python3.7/dist-packages/ipykernel_launcher.py:144: RuntimeWarning: invalid value encountered in long_scalars\n",
      "/usr/local/lib/python3.7/dist-packages/ipykernel_launcher.py:144: RuntimeWarning: invalid value encountered in long_scalars\n",
      "/usr/local/lib/python3.7/dist-packages/ipykernel_launcher.py:144: RuntimeWarning: invalid value encountered in long_scalars\n",
      "/usr/local/lib/python3.7/dist-packages/ipykernel_launcher.py:144: RuntimeWarning: invalid value encountered in long_scalars\n",
      "/usr/local/lib/python3.7/dist-packages/ipykernel_launcher.py:144: RuntimeWarning: invalid value encountered in long_scalars\n",
      "/usr/local/lib/python3.7/dist-packages/ipykernel_launcher.py:144: RuntimeWarning: invalid value encountered in long_scalars\n",
      "/usr/local/lib/python3.7/dist-packages/ipykernel_launcher.py:144: RuntimeWarning: invalid value encountered in long_scalars\n",
      "/usr/local/lib/python3.7/dist-packages/ipykernel_launcher.py:143: RuntimeWarning: invalid value encountered in long_scalars\n",
      "/usr/local/lib/python3.7/dist-packages/ipykernel_launcher.py:147: RuntimeWarning: invalid value encountered in long_scalars\n",
      "/usr/local/lib/python3.7/dist-packages/sklearn/metrics/_classification.py:1318: UndefinedMetricWarning: Precision is ill-defined and being set to 0.0 due to no predicted samples. Use `zero_division` parameter to control this behavior.\n",
      "  _warn_prf(average, modifier, msg_start, len(result))\n",
      "/usr/local/lib/python3.7/dist-packages/ipykernel_launcher.py:143: RuntimeWarning: invalid value encountered in long_scalars\n",
      "/usr/local/lib/python3.7/dist-packages/ipykernel_launcher.py:147: RuntimeWarning: invalid value encountered in long_scalars\n",
      "/usr/local/lib/python3.7/dist-packages/sklearn/metrics/_classification.py:1318: UndefinedMetricWarning: Precision is ill-defined and being set to 0.0 due to no predicted samples. Use `zero_division` parameter to control this behavior.\n",
      "  _warn_prf(average, modifier, msg_start, len(result))\n",
      "/usr/local/lib/python3.7/dist-packages/ipykernel_launcher.py:143: RuntimeWarning: invalid value encountered in long_scalars\n",
      "/usr/local/lib/python3.7/dist-packages/ipykernel_launcher.py:147: RuntimeWarning: invalid value encountered in long_scalars\n",
      "/usr/local/lib/python3.7/dist-packages/sklearn/metrics/_classification.py:1318: UndefinedMetricWarning: Precision is ill-defined and being set to 0.0 due to no predicted samples. Use `zero_division` parameter to control this behavior.\n",
      "  _warn_prf(average, modifier, msg_start, len(result))\n",
      "/usr/local/lib/python3.7/dist-packages/ipykernel_launcher.py:143: RuntimeWarning: invalid value encountered in long_scalars\n",
      "/usr/local/lib/python3.7/dist-packages/ipykernel_launcher.py:147: RuntimeWarning: invalid value encountered in long_scalars\n",
      "/usr/local/lib/python3.7/dist-packages/sklearn/metrics/_classification.py:1318: UndefinedMetricWarning: Precision is ill-defined and being set to 0.0 due to no predicted samples. Use `zero_division` parameter to control this behavior.\n",
      "  _warn_prf(average, modifier, msg_start, len(result))\n",
      "/usr/local/lib/python3.7/dist-packages/ipykernel_launcher.py:143: RuntimeWarning: invalid value encountered in long_scalars\n",
      "/usr/local/lib/python3.7/dist-packages/ipykernel_launcher.py:147: RuntimeWarning: invalid value encountered in long_scalars\n",
      "/usr/local/lib/python3.7/dist-packages/sklearn/metrics/_classification.py:1318: UndefinedMetricWarning: Precision is ill-defined and being set to 0.0 due to no predicted samples. Use `zero_division` parameter to control this behavior.\n",
      "  _warn_prf(average, modifier, msg_start, len(result))\n",
      "/usr/local/lib/python3.7/dist-packages/ipykernel_launcher.py:143: RuntimeWarning: invalid value encountered in long_scalars\n",
      "/usr/local/lib/python3.7/dist-packages/ipykernel_launcher.py:147: RuntimeWarning: invalid value encountered in long_scalars\n",
      "/usr/local/lib/python3.7/dist-packages/sklearn/metrics/_classification.py:1318: UndefinedMetricWarning: Precision is ill-defined and being set to 0.0 due to no predicted samples. Use `zero_division` parameter to control this behavior.\n",
      "  _warn_prf(average, modifier, msg_start, len(result))\n",
      "/usr/local/lib/python3.7/dist-packages/ipykernel_launcher.py:143: RuntimeWarning: invalid value encountered in long_scalars\n",
      "/usr/local/lib/python3.7/dist-packages/ipykernel_launcher.py:147: RuntimeWarning: invalid value encountered in long_scalars\n",
      "/usr/local/lib/python3.7/dist-packages/sklearn/metrics/_classification.py:1318: UndefinedMetricWarning: Precision is ill-defined and being set to 0.0 due to no predicted samples. Use `zero_division` parameter to control this behavior.\n",
      "  _warn_prf(average, modifier, msg_start, len(result))\n",
      "/usr/local/lib/python3.7/dist-packages/ipykernel_launcher.py:143: RuntimeWarning: invalid value encountered in long_scalars\n",
      "/usr/local/lib/python3.7/dist-packages/ipykernel_launcher.py:147: RuntimeWarning: invalid value encountered in long_scalars\n",
      "/usr/local/lib/python3.7/dist-packages/sklearn/metrics/_classification.py:1318: UndefinedMetricWarning: Precision is ill-defined and being set to 0.0 due to no predicted samples. Use `zero_division` parameter to control this behavior.\n",
      "  _warn_prf(average, modifier, msg_start, len(result))\n",
      "/usr/local/lib/python3.7/dist-packages/ipykernel_launcher.py:143: RuntimeWarning: invalid value encountered in long_scalars\n",
      "/usr/local/lib/python3.7/dist-packages/ipykernel_launcher.py:147: RuntimeWarning: invalid value encountered in long_scalars\n",
      "/usr/local/lib/python3.7/dist-packages/sklearn/metrics/_classification.py:1318: UndefinedMetricWarning: Precision is ill-defined and being set to 0.0 due to no predicted samples. Use `zero_division` parameter to control this behavior.\n",
      "  _warn_prf(average, modifier, msg_start, len(result))\n",
      "/usr/local/lib/python3.7/dist-packages/ipykernel_launcher.py:143: RuntimeWarning: invalid value encountered in long_scalars\n",
      "/usr/local/lib/python3.7/dist-packages/ipykernel_launcher.py:147: RuntimeWarning: invalid value encountered in long_scalars\n",
      "/usr/local/lib/python3.7/dist-packages/sklearn/metrics/_classification.py:1318: UndefinedMetricWarning: Precision is ill-defined and being set to 0.0 due to no predicted samples. Use `zero_division` parameter to control this behavior.\n",
      "  _warn_prf(average, modifier, msg_start, len(result))\n",
      "/usr/local/lib/python3.7/dist-packages/ipykernel_launcher.py:143: RuntimeWarning: invalid value encountered in long_scalars\n",
      "/usr/local/lib/python3.7/dist-packages/ipykernel_launcher.py:147: RuntimeWarning: invalid value encountered in long_scalars\n",
      "/usr/local/lib/python3.7/dist-packages/sklearn/metrics/_classification.py:1318: UndefinedMetricWarning: Precision is ill-defined and being set to 0.0 due to no predicted samples. Use `zero_division` parameter to control this behavior.\n",
      "  _warn_prf(average, modifier, msg_start, len(result))\n",
      "/usr/local/lib/python3.7/dist-packages/ipykernel_launcher.py:143: RuntimeWarning: invalid value encountered in long_scalars\n",
      "/usr/local/lib/python3.7/dist-packages/ipykernel_launcher.py:147: RuntimeWarning: invalid value encountered in long_scalars\n",
      "/usr/local/lib/python3.7/dist-packages/sklearn/metrics/_classification.py:1318: UndefinedMetricWarning: Precision is ill-defined and being set to 0.0 due to no predicted samples. Use `zero_division` parameter to control this behavior.\n",
      "  _warn_prf(average, modifier, msg_start, len(result))\n",
      "/usr/local/lib/python3.7/dist-packages/ipykernel_launcher.py:143: RuntimeWarning: invalid value encountered in long_scalars\n",
      "/usr/local/lib/python3.7/dist-packages/ipykernel_launcher.py:147: RuntimeWarning: invalid value encountered in long_scalars\n",
      "/usr/local/lib/python3.7/dist-packages/sklearn/metrics/_classification.py:1318: UndefinedMetricWarning: Precision is ill-defined and being set to 0.0 due to no predicted samples. Use `zero_division` parameter to control this behavior.\n",
      "  _warn_prf(average, modifier, msg_start, len(result))\n"
     ]
    },
    {
     "output_type": "stream",
     "name": "stdout",
     "text": [
      "accuracy :1.0\n",
      "precision :1.0\n",
      "recall :1.0\n",
      "f1_score :1.0\n",
      "f2_score :1.0\n",
      "matthews_corrcoef :1.0\n",
      "cohen_kappa :1.0\n",
      "true_positive_rate :1.0\n",
      "true_negative_rate :1.0\n",
      "positive_predictive_value :1.0\n",
      "negative_predictive_value :1.0\n",
      "false_positive_rate :0.0\n",
      "false_negative_rate :0.0\n",
      "false_discovery_rate :0.0\n",
      "--------------------------------------------------\n",
      "GradientBoostingClassifier\n",
      "accuracy :1.0\n",
      "precision :1.0\n",
      "recall :1.0\n",
      "f1_score :1.0\n",
      "f2_score :1.0\n",
      "matthews_corrcoef :1.0\n",
      "cohen_kappa :1.0\n",
      "true_positive_rate :1.0\n",
      "true_negative_rate :1.0\n",
      "positive_predictive_value :1.0\n",
      "negative_predictive_value :1.0\n",
      "false_positive_rate :0.0\n",
      "false_negative_rate :0.0\n",
      "false_discovery_rate :0.0\n",
      "--------------------------------------------------\n",
      "HistGradientBoostingClassifier\n",
      "accuracy :1.0\n",
      "precision :1.0\n",
      "recall :1.0\n",
      "f1_score :1.0\n",
      "f2_score :1.0\n",
      "matthews_corrcoef :1.0\n",
      "cohen_kappa :1.0\n",
      "true_positive_rate :1.0\n",
      "true_negative_rate :1.0\n",
      "positive_predictive_value :1.0\n",
      "negative_predictive_value :1.0\n",
      "false_positive_rate :0.0\n",
      "false_negative_rate :0.0\n",
      "false_discovery_rate :0.0\n",
      "--------------------------------------------------\n",
      "XGBClassifier\n"
     ]
    },
    {
     "output_type": "stream",
     "name": "stderr",
     "text": [
      "/usr/local/lib/python3.7/dist-packages/ipykernel_launcher.py:144: RuntimeWarning: invalid value encountered in long_scalars\n",
      "/usr/local/lib/python3.7/dist-packages/ipykernel_launcher.py:144: RuntimeWarning: invalid value encountered in long_scalars\n",
      "/usr/local/lib/python3.7/dist-packages/ipykernel_launcher.py:144: RuntimeWarning: invalid value encountered in long_scalars\n",
      "/usr/local/lib/python3.7/dist-packages/ipykernel_launcher.py:144: RuntimeWarning: invalid value encountered in long_scalars\n",
      "/usr/local/lib/python3.7/dist-packages/ipykernel_launcher.py:144: RuntimeWarning: invalid value encountered in long_scalars\n",
      "/usr/local/lib/python3.7/dist-packages/ipykernel_launcher.py:144: RuntimeWarning: invalid value encountered in long_scalars\n",
      "/usr/local/lib/python3.7/dist-packages/ipykernel_launcher.py:144: RuntimeWarning: invalid value encountered in long_scalars\n",
      "/usr/local/lib/python3.7/dist-packages/ipykernel_launcher.py:144: RuntimeWarning: invalid value encountered in long_scalars\n",
      "/usr/local/lib/python3.7/dist-packages/ipykernel_launcher.py:144: RuntimeWarning: invalid value encountered in long_scalars\n",
      "/usr/local/lib/python3.7/dist-packages/ipykernel_launcher.py:144: RuntimeWarning: invalid value encountered in long_scalars\n",
      "/usr/local/lib/python3.7/dist-packages/ipykernel_launcher.py:144: RuntimeWarning: invalid value encountered in long_scalars\n",
      "/usr/local/lib/python3.7/dist-packages/ipykernel_launcher.py:144: RuntimeWarning: invalid value encountered in long_scalars\n",
      "/usr/local/lib/python3.7/dist-packages/ipykernel_launcher.py:144: RuntimeWarning: invalid value encountered in long_scalars\n",
      "/usr/local/lib/python3.7/dist-packages/ipykernel_launcher.py:144: RuntimeWarning: invalid value encountered in long_scalars\n",
      "/usr/local/lib/python3.7/dist-packages/ipykernel_launcher.py:144: RuntimeWarning: invalid value encountered in long_scalars\n",
      "/usr/local/lib/python3.7/dist-packages/ipykernel_launcher.py:144: RuntimeWarning: invalid value encountered in long_scalars\n",
      "/usr/local/lib/python3.7/dist-packages/ipykernel_launcher.py:144: RuntimeWarning: invalid value encountered in long_scalars\n",
      "/usr/local/lib/python3.7/dist-packages/ipykernel_launcher.py:144: RuntimeWarning: invalid value encountered in long_scalars\n",
      "/usr/local/lib/python3.7/dist-packages/ipykernel_launcher.py:144: RuntimeWarning: invalid value encountered in long_scalars\n",
      "/usr/local/lib/python3.7/dist-packages/ipykernel_launcher.py:144: RuntimeWarning: invalid value encountered in long_scalars\n",
      "/usr/local/lib/python3.7/dist-packages/ipykernel_launcher.py:144: RuntimeWarning: invalid value encountered in long_scalars\n",
      "/usr/local/lib/python3.7/dist-packages/ipykernel_launcher.py:144: RuntimeWarning: invalid value encountered in long_scalars\n",
      "/usr/local/lib/python3.7/dist-packages/ipykernel_launcher.py:144: RuntimeWarning: invalid value encountered in long_scalars\n",
      "/usr/local/lib/python3.7/dist-packages/ipykernel_launcher.py:144: RuntimeWarning: invalid value encountered in long_scalars\n",
      "/usr/local/lib/python3.7/dist-packages/ipykernel_launcher.py:144: RuntimeWarning: invalid value encountered in long_scalars\n",
      "/usr/local/lib/python3.7/dist-packages/ipykernel_launcher.py:144: RuntimeWarning: invalid value encountered in long_scalars\n",
      "/usr/local/lib/python3.7/dist-packages/ipykernel_launcher.py:144: RuntimeWarning: invalid value encountered in long_scalars\n",
      "/usr/local/lib/python3.7/dist-packages/ipykernel_launcher.py:144: RuntimeWarning: invalid value encountered in long_scalars\n",
      "/usr/local/lib/python3.7/dist-packages/ipykernel_launcher.py:144: RuntimeWarning: invalid value encountered in long_scalars\n",
      "/usr/local/lib/python3.7/dist-packages/ipykernel_launcher.py:144: RuntimeWarning: invalid value encountered in long_scalars\n",
      "/usr/local/lib/python3.7/dist-packages/ipykernel_launcher.py:143: RuntimeWarning: invalid value encountered in long_scalars\n",
      "/usr/local/lib/python3.7/dist-packages/ipykernel_launcher.py:147: RuntimeWarning: invalid value encountered in long_scalars\n",
      "/usr/local/lib/python3.7/dist-packages/sklearn/metrics/_classification.py:1318: UndefinedMetricWarning: Precision is ill-defined and being set to 0.0 due to no predicted samples. Use `zero_division` parameter to control this behavior.\n",
      "  _warn_prf(average, modifier, msg_start, len(result))\n",
      "/usr/local/lib/python3.7/dist-packages/ipykernel_launcher.py:143: RuntimeWarning: invalid value encountered in long_scalars\n",
      "/usr/local/lib/python3.7/dist-packages/ipykernel_launcher.py:147: RuntimeWarning: invalid value encountered in long_scalars\n",
      "/usr/local/lib/python3.7/dist-packages/sklearn/metrics/_classification.py:1318: UndefinedMetricWarning: Precision is ill-defined and being set to 0.0 due to no predicted samples. Use `zero_division` parameter to control this behavior.\n",
      "  _warn_prf(average, modifier, msg_start, len(result))\n",
      "/usr/local/lib/python3.7/dist-packages/ipykernel_launcher.py:143: RuntimeWarning: invalid value encountered in long_scalars\n",
      "/usr/local/lib/python3.7/dist-packages/ipykernel_launcher.py:147: RuntimeWarning: invalid value encountered in long_scalars\n",
      "/usr/local/lib/python3.7/dist-packages/sklearn/metrics/_classification.py:1318: UndefinedMetricWarning: Precision is ill-defined and being set to 0.0 due to no predicted samples. Use `zero_division` parameter to control this behavior.\n",
      "  _warn_prf(average, modifier, msg_start, len(result))\n",
      "/usr/local/lib/python3.7/dist-packages/ipykernel_launcher.py:143: RuntimeWarning: invalid value encountered in long_scalars\n",
      "/usr/local/lib/python3.7/dist-packages/ipykernel_launcher.py:147: RuntimeWarning: invalid value encountered in long_scalars\n",
      "/usr/local/lib/python3.7/dist-packages/sklearn/metrics/_classification.py:1318: UndefinedMetricWarning: Precision is ill-defined and being set to 0.0 due to no predicted samples. Use `zero_division` parameter to control this behavior.\n",
      "  _warn_prf(average, modifier, msg_start, len(result))\n",
      "/usr/local/lib/python3.7/dist-packages/ipykernel_launcher.py:143: RuntimeWarning: invalid value encountered in long_scalars\n",
      "/usr/local/lib/python3.7/dist-packages/ipykernel_launcher.py:147: RuntimeWarning: invalid value encountered in long_scalars\n",
      "/usr/local/lib/python3.7/dist-packages/sklearn/metrics/_classification.py:1318: UndefinedMetricWarning: Precision is ill-defined and being set to 0.0 due to no predicted samples. Use `zero_division` parameter to control this behavior.\n",
      "  _warn_prf(average, modifier, msg_start, len(result))\n",
      "/usr/local/lib/python3.7/dist-packages/ipykernel_launcher.py:143: RuntimeWarning: invalid value encountered in long_scalars\n",
      "/usr/local/lib/python3.7/dist-packages/ipykernel_launcher.py:147: RuntimeWarning: invalid value encountered in long_scalars\n",
      "/usr/local/lib/python3.7/dist-packages/sklearn/metrics/_classification.py:1318: UndefinedMetricWarning: Precision is ill-defined and being set to 0.0 due to no predicted samples. Use `zero_division` parameter to control this behavior.\n",
      "  _warn_prf(average, modifier, msg_start, len(result))\n",
      "/usr/local/lib/python3.7/dist-packages/ipykernel_launcher.py:143: RuntimeWarning: invalid value encountered in long_scalars\n",
      "/usr/local/lib/python3.7/dist-packages/ipykernel_launcher.py:147: RuntimeWarning: invalid value encountered in long_scalars\n",
      "/usr/local/lib/python3.7/dist-packages/sklearn/metrics/_classification.py:1318: UndefinedMetricWarning: Precision is ill-defined and being set to 0.0 due to no predicted samples. Use `zero_division` parameter to control this behavior.\n",
      "  _warn_prf(average, modifier, msg_start, len(result))\n",
      "/usr/local/lib/python3.7/dist-packages/ipykernel_launcher.py:143: RuntimeWarning: invalid value encountered in long_scalars\n",
      "/usr/local/lib/python3.7/dist-packages/ipykernel_launcher.py:147: RuntimeWarning: invalid value encountered in long_scalars\n",
      "/usr/local/lib/python3.7/dist-packages/sklearn/metrics/_classification.py:1318: UndefinedMetricWarning: Precision is ill-defined and being set to 0.0 due to no predicted samples. Use `zero_division` parameter to control this behavior.\n",
      "  _warn_prf(average, modifier, msg_start, len(result))\n",
      "/usr/local/lib/python3.7/dist-packages/ipykernel_launcher.py:143: RuntimeWarning: invalid value encountered in long_scalars\n",
      "/usr/local/lib/python3.7/dist-packages/ipykernel_launcher.py:147: RuntimeWarning: invalid value encountered in long_scalars\n",
      "/usr/local/lib/python3.7/dist-packages/sklearn/metrics/_classification.py:1318: UndefinedMetricWarning: Precision is ill-defined and being set to 0.0 due to no predicted samples. Use `zero_division` parameter to control this behavior.\n",
      "  _warn_prf(average, modifier, msg_start, len(result))\n",
      "/usr/local/lib/python3.7/dist-packages/ipykernel_launcher.py:143: RuntimeWarning: invalid value encountered in long_scalars\n",
      "/usr/local/lib/python3.7/dist-packages/ipykernel_launcher.py:147: RuntimeWarning: invalid value encountered in long_scalars\n",
      "/usr/local/lib/python3.7/dist-packages/sklearn/metrics/_classification.py:1318: UndefinedMetricWarning: Precision is ill-defined and being set to 0.0 due to no predicted samples. Use `zero_division` parameter to control this behavior.\n",
      "  _warn_prf(average, modifier, msg_start, len(result))\n",
      "/usr/local/lib/python3.7/dist-packages/ipykernel_launcher.py:143: RuntimeWarning: invalid value encountered in long_scalars\n",
      "/usr/local/lib/python3.7/dist-packages/ipykernel_launcher.py:147: RuntimeWarning: invalid value encountered in long_scalars\n",
      "/usr/local/lib/python3.7/dist-packages/sklearn/metrics/_classification.py:1318: UndefinedMetricWarning: Precision is ill-defined and being set to 0.0 due to no predicted samples. Use `zero_division` parameter to control this behavior.\n",
      "  _warn_prf(average, modifier, msg_start, len(result))\n",
      "/usr/local/lib/python3.7/dist-packages/ipykernel_launcher.py:143: RuntimeWarning: invalid value encountered in long_scalars\n",
      "/usr/local/lib/python3.7/dist-packages/ipykernel_launcher.py:147: RuntimeWarning: invalid value encountered in long_scalars\n",
      "/usr/local/lib/python3.7/dist-packages/sklearn/metrics/_classification.py:1318: UndefinedMetricWarning: Precision is ill-defined and being set to 0.0 due to no predicted samples. Use `zero_division` parameter to control this behavior.\n",
      "  _warn_prf(average, modifier, msg_start, len(result))\n",
      "/usr/local/lib/python3.7/dist-packages/ipykernel_launcher.py:143: RuntimeWarning: invalid value encountered in long_scalars\n",
      "/usr/local/lib/python3.7/dist-packages/ipykernel_launcher.py:147: RuntimeWarning: invalid value encountered in long_scalars\n",
      "/usr/local/lib/python3.7/dist-packages/sklearn/metrics/_classification.py:1318: UndefinedMetricWarning: Precision is ill-defined and being set to 0.0 due to no predicted samples. Use `zero_division` parameter to control this behavior.\n",
      "  _warn_prf(average, modifier, msg_start, len(result))\n",
      "/usr/local/lib/python3.7/dist-packages/ipykernel_launcher.py:143: RuntimeWarning: invalid value encountered in long_scalars\n",
      "/usr/local/lib/python3.7/dist-packages/ipykernel_launcher.py:147: RuntimeWarning: invalid value encountered in long_scalars\n",
      "/usr/local/lib/python3.7/dist-packages/sklearn/metrics/_classification.py:1318: UndefinedMetricWarning: Precision is ill-defined and being set to 0.0 due to no predicted samples. Use `zero_division` parameter to control this behavior.\n",
      "  _warn_prf(average, modifier, msg_start, len(result))\n",
      "/usr/local/lib/python3.7/dist-packages/ipykernel_launcher.py:143: RuntimeWarning: invalid value encountered in long_scalars\n",
      "/usr/local/lib/python3.7/dist-packages/ipykernel_launcher.py:147: RuntimeWarning: invalid value encountered in long_scalars\n",
      "/usr/local/lib/python3.7/dist-packages/sklearn/metrics/_classification.py:1318: UndefinedMetricWarning: Precision is ill-defined and being set to 0.0 due to no predicted samples. Use `zero_division` parameter to control this behavior.\n",
      "  _warn_prf(average, modifier, msg_start, len(result))\n",
      "/usr/local/lib/python3.7/dist-packages/ipykernel_launcher.py:143: RuntimeWarning: invalid value encountered in long_scalars\n",
      "/usr/local/lib/python3.7/dist-packages/ipykernel_launcher.py:147: RuntimeWarning: invalid value encountered in long_scalars\n",
      "/usr/local/lib/python3.7/dist-packages/sklearn/metrics/_classification.py:1318: UndefinedMetricWarning: Precision is ill-defined and being set to 0.0 due to no predicted samples. Use `zero_division` parameter to control this behavior.\n",
      "  _warn_prf(average, modifier, msg_start, len(result))\n",
      "/usr/local/lib/python3.7/dist-packages/ipykernel_launcher.py:143: RuntimeWarning: invalid value encountered in long_scalars\n",
      "/usr/local/lib/python3.7/dist-packages/ipykernel_launcher.py:147: RuntimeWarning: invalid value encountered in long_scalars\n",
      "/usr/local/lib/python3.7/dist-packages/sklearn/metrics/_classification.py:1318: UndefinedMetricWarning: Precision is ill-defined and being set to 0.0 due to no predicted samples. Use `zero_division` parameter to control this behavior.\n",
      "  _warn_prf(average, modifier, msg_start, len(result))\n",
      "/usr/local/lib/python3.7/dist-packages/ipykernel_launcher.py:143: RuntimeWarning: invalid value encountered in long_scalars\n",
      "/usr/local/lib/python3.7/dist-packages/ipykernel_launcher.py:147: RuntimeWarning: invalid value encountered in long_scalars\n",
      "/usr/local/lib/python3.7/dist-packages/sklearn/metrics/_classification.py:1318: UndefinedMetricWarning: Precision is ill-defined and being set to 0.0 due to no predicted samples. Use `zero_division` parameter to control this behavior.\n",
      "  _warn_prf(average, modifier, msg_start, len(result))\n",
      "/usr/local/lib/python3.7/dist-packages/ipykernel_launcher.py:143: RuntimeWarning: invalid value encountered in long_scalars\n",
      "/usr/local/lib/python3.7/dist-packages/ipykernel_launcher.py:147: RuntimeWarning: invalid value encountered in long_scalars\n",
      "/usr/local/lib/python3.7/dist-packages/sklearn/metrics/_classification.py:1318: UndefinedMetricWarning: Precision is ill-defined and being set to 0.0 due to no predicted samples. Use `zero_division` parameter to control this behavior.\n",
      "  _warn_prf(average, modifier, msg_start, len(result))\n",
      "/usr/local/lib/python3.7/dist-packages/ipykernel_launcher.py:143: RuntimeWarning: invalid value encountered in long_scalars\n",
      "/usr/local/lib/python3.7/dist-packages/ipykernel_launcher.py:147: RuntimeWarning: invalid value encountered in long_scalars\n",
      "/usr/local/lib/python3.7/dist-packages/sklearn/metrics/_classification.py:1318: UndefinedMetricWarning: Precision is ill-defined and being set to 0.0 due to no predicted samples. Use `zero_division` parameter to control this behavior.\n",
      "  _warn_prf(average, modifier, msg_start, len(result))\n",
      "/usr/local/lib/python3.7/dist-packages/ipykernel_launcher.py:143: RuntimeWarning: invalid value encountered in long_scalars\n",
      "/usr/local/lib/python3.7/dist-packages/ipykernel_launcher.py:147: RuntimeWarning: invalid value encountered in long_scalars\n",
      "/usr/local/lib/python3.7/dist-packages/sklearn/metrics/_classification.py:1318: UndefinedMetricWarning: Precision is ill-defined and being set to 0.0 due to no predicted samples. Use `zero_division` parameter to control this behavior.\n",
      "  _warn_prf(average, modifier, msg_start, len(result))\n",
      "/usr/local/lib/python3.7/dist-packages/ipykernel_launcher.py:143: RuntimeWarning: invalid value encountered in long_scalars\n",
      "/usr/local/lib/python3.7/dist-packages/ipykernel_launcher.py:147: RuntimeWarning: invalid value encountered in long_scalars\n",
      "/usr/local/lib/python3.7/dist-packages/sklearn/metrics/_classification.py:1318: UndefinedMetricWarning: Precision is ill-defined and being set to 0.0 due to no predicted samples. Use `zero_division` parameter to control this behavior.\n",
      "  _warn_prf(average, modifier, msg_start, len(result))\n",
      "/usr/local/lib/python3.7/dist-packages/ipykernel_launcher.py:143: RuntimeWarning: invalid value encountered in long_scalars\n",
      "/usr/local/lib/python3.7/dist-packages/ipykernel_launcher.py:147: RuntimeWarning: invalid value encountered in long_scalars\n",
      "/usr/local/lib/python3.7/dist-packages/sklearn/metrics/_classification.py:1318: UndefinedMetricWarning: Precision is ill-defined and being set to 0.0 due to no predicted samples. Use `zero_division` parameter to control this behavior.\n",
      "  _warn_prf(average, modifier, msg_start, len(result))\n",
      "/usr/local/lib/python3.7/dist-packages/ipykernel_launcher.py:143: RuntimeWarning: invalid value encountered in long_scalars\n",
      "/usr/local/lib/python3.7/dist-packages/ipykernel_launcher.py:147: RuntimeWarning: invalid value encountered in long_scalars\n",
      "/usr/local/lib/python3.7/dist-packages/sklearn/metrics/_classification.py:1318: UndefinedMetricWarning: Precision is ill-defined and being set to 0.0 due to no predicted samples. Use `zero_division` parameter to control this behavior.\n",
      "  _warn_prf(average, modifier, msg_start, len(result))\n",
      "/usr/local/lib/python3.7/dist-packages/ipykernel_launcher.py:143: RuntimeWarning: invalid value encountered in long_scalars\n",
      "/usr/local/lib/python3.7/dist-packages/ipykernel_launcher.py:147: RuntimeWarning: invalid value encountered in long_scalars\n",
      "/usr/local/lib/python3.7/dist-packages/sklearn/metrics/_classification.py:1318: UndefinedMetricWarning: Precision is ill-defined and being set to 0.0 due to no predicted samples. Use `zero_division` parameter to control this behavior.\n",
      "  _warn_prf(average, modifier, msg_start, len(result))\n",
      "/usr/local/lib/python3.7/dist-packages/ipykernel_launcher.py:143: RuntimeWarning: invalid value encountered in long_scalars\n",
      "/usr/local/lib/python3.7/dist-packages/ipykernel_launcher.py:147: RuntimeWarning: invalid value encountered in long_scalars\n",
      "/usr/local/lib/python3.7/dist-packages/sklearn/metrics/_classification.py:1318: UndefinedMetricWarning: Precision is ill-defined and being set to 0.0 due to no predicted samples. Use `zero_division` parameter to control this behavior.\n",
      "  _warn_prf(average, modifier, msg_start, len(result))\n",
      "/usr/local/lib/python3.7/dist-packages/ipykernel_launcher.py:143: RuntimeWarning: invalid value encountered in long_scalars\n",
      "/usr/local/lib/python3.7/dist-packages/ipykernel_launcher.py:147: RuntimeWarning: invalid value encountered in long_scalars\n",
      "/usr/local/lib/python3.7/dist-packages/sklearn/metrics/_classification.py:1318: UndefinedMetricWarning: Precision is ill-defined and being set to 0.0 due to no predicted samples. Use `zero_division` parameter to control this behavior.\n",
      "  _warn_prf(average, modifier, msg_start, len(result))\n",
      "/usr/local/lib/python3.7/dist-packages/ipykernel_launcher.py:143: RuntimeWarning: invalid value encountered in long_scalars\n",
      "/usr/local/lib/python3.7/dist-packages/ipykernel_launcher.py:147: RuntimeWarning: invalid value encountered in long_scalars\n",
      "/usr/local/lib/python3.7/dist-packages/sklearn/metrics/_classification.py:1318: UndefinedMetricWarning: Precision is ill-defined and being set to 0.0 due to no predicted samples. Use `zero_division` parameter to control this behavior.\n",
      "  _warn_prf(average, modifier, msg_start, len(result))\n",
      "/usr/local/lib/python3.7/dist-packages/ipykernel_launcher.py:143: RuntimeWarning: invalid value encountered in long_scalars\n",
      "/usr/local/lib/python3.7/dist-packages/ipykernel_launcher.py:147: RuntimeWarning: invalid value encountered in long_scalars\n",
      "/usr/local/lib/python3.7/dist-packages/sklearn/metrics/_classification.py:1318: UndefinedMetricWarning: Precision is ill-defined and being set to 0.0 due to no predicted samples. Use `zero_division` parameter to control this behavior.\n",
      "  _warn_prf(average, modifier, msg_start, len(result))\n",
      "/usr/local/lib/python3.7/dist-packages/ipykernel_launcher.py:143: RuntimeWarning: invalid value encountered in long_scalars\n",
      "/usr/local/lib/python3.7/dist-packages/ipykernel_launcher.py:147: RuntimeWarning: invalid value encountered in long_scalars\n",
      "/usr/local/lib/python3.7/dist-packages/sklearn/metrics/_classification.py:1318: UndefinedMetricWarning: Precision is ill-defined and being set to 0.0 due to no predicted samples. Use `zero_division` parameter to control this behavior.\n",
      "  _warn_prf(average, modifier, msg_start, len(result))\n"
     ]
    },
    {
     "output_type": "stream",
     "name": "stdout",
     "text": [
      "accuracy :0.9880546075085325\n",
      "precision :0.9781021897810219\n",
      "recall :0.9710144927536232\n",
      "f1_score :0.9745454545454545\n",
      "f2_score :0.9724238026124818\n",
      "matthews_corrcoef :0.9667527105801883\n",
      "cohen_kappa :0.9667417989589583\n",
      "true_positive_rate :0.9710144927536232\n",
      "true_negative_rate :0.9933035714285714\n",
      "positive_predictive_value :0.9781021897810219\n",
      "negative_predictive_value :0.9910913140311804\n",
      "false_positive_rate :0.006696428571428571\n",
      "false_negative_rate :0.028985507246376812\n",
      "false_discovery_rate :0.021897810218978103\n",
      "--------------------------------------------------\n",
      "LGBMClassifier\n",
      "accuracy :1.0\n",
      "precision :1.0\n",
      "recall :1.0\n",
      "f1_score :1.0\n",
      "f2_score :1.0\n",
      "matthews_corrcoef :1.0\n",
      "cohen_kappa :1.0\n",
      "true_positive_rate :1.0\n",
      "true_negative_rate :1.0\n",
      "positive_predictive_value :1.0\n",
      "negative_predictive_value :1.0\n",
      "false_positive_rate :0.0\n",
      "false_negative_rate :0.0\n",
      "false_discovery_rate :0.0\n",
      "--------------------------------------------------\n",
      "CatBoostClassifier\n",
      "accuracy :1.0\n",
      "precision :1.0\n",
      "recall :1.0\n",
      "f1_score :1.0\n",
      "f2_score :1.0\n",
      "matthews_corrcoef :1.0\n",
      "cohen_kappa :1.0\n",
      "true_positive_rate :1.0\n",
      "true_negative_rate :1.0\n",
      "positive_predictive_value :1.0\n",
      "negative_predictive_value :1.0\n",
      "false_positive_rate :0.0\n",
      "false_negative_rate :0.0\n",
      "false_discovery_rate :0.0\n",
      "--------------------------------------------------\n",
      "The time is 209.5637 seconds\n"
     ]
    }
   ]
  },
  {
   "cell_type": "code",
   "metadata": {
    "colab": {
     "base_uri": "https://localhost:8080/",
     "height": 373
    },
    "id": "9loukNovuVyC",
    "executionInfo": {
     "status": "error",
     "timestamp": 1650125726802,
     "user_tz": -540,
     "elapsed": 2411,
     "user": {
      "displayName": "Milandu Keith Moussavou Boussougou",
      "userId": "16125998280788005643"
     }
    },
    "outputId": "62afe8e4-e7b0-411a-a163-8ac157266727"
   },
   "source": [
    "## Testing LinearSVC\n",
    "start = timer()\n",
    "from sklearn.svm import LinearSVC\n",
    "from sklearn.pipeline import make_pipeline\n",
    "from sklearn.preprocessing import StandardScaler\n",
    "from sklearn.svm import SVC\n",
    "\n",
    "# svc = make_pipeline(StandardScaler(),\n",
    "#                     LinearSVC(probability=True, random_state=0, tol=1e-5))\n",
    "# svc = LinearSVC()\n",
    "svc = SVC(kernel='linear', C=10)\n",
    "\n",
    "start_time = time()\n",
    "svc.fit(X_train, y_train)\n",
    "run_time = time() - start_time\n",
    "\n",
    "preds = svc.predict(X_test)\n",
    "# y_test_pred = svc.predict_proba(X_test)\n",
    "accuracy = np.mean(preds == y_test)\n",
    "\n",
    "\n",
    "# df_results.loc['LinearSVC'] = [score, run_time]\n",
    "\n",
    "print(\"LinearSVC\")\n",
    "metric_scrores = log_binary_classification_metrics(y_test, preds)\n",
    "# pickle_and_send_artifact((y_test, y_test_pred), 'test_predictions.pkl')\n",
    "# for metric_name, score in metric_scrores.items():\n",
    "  # print('{} :{}'.format(metric_name, score))\n",
    "\n",
    "df_results.loc['LinearSVC'] = [\n",
    "                               metric_scrores.get(\"f1_score\"),\n",
    "                               metric_scrores.get(\"precision\"), \n",
    "                               metric_scrores.get(\"recall\"), \n",
    "                               metric_scrores.get(\"accuracy\"),\n",
    "                               accuracy,\n",
    "                               run_time,\n",
    "                               0]      \n",
    "print('-'*50)\n",
    "del svc\n",
    "\n",
    "train_time = timer() - start\n",
    "print('The time is {:.4f} seconds'.format(train_time))"
   ],
   "execution_count": null,
   "outputs": [
    {
     "output_type": "stream",
     "name": "stdout",
     "text": [
      "LinearSVC\n"
     ]
    },
    {
     "output_type": "error",
     "ename": "IndexError",
     "evalue": "ignored",
     "traceback": [
      "\u001B[0;31m---------------------------------------------------------------------------\u001B[0m",
      "\u001B[0;31mIndexError\u001B[0m                                Traceback (most recent call last)",
      "\u001B[0;32m<ipython-input-46-d63df1f793c7>\u001B[0m in \u001B[0;36m<module>\u001B[0;34m()\u001B[0m\n\u001B[1;32m     23\u001B[0m \u001B[0;34m\u001B[0m\u001B[0m\n\u001B[1;32m     24\u001B[0m \u001B[0mprint\u001B[0m\u001B[0;34m(\u001B[0m\u001B[0;34m\"LinearSVC\"\u001B[0m\u001B[0;34m)\u001B[0m\u001B[0;34m\u001B[0m\u001B[0;34m\u001B[0m\u001B[0m\n\u001B[0;32m---> 25\u001B[0;31m \u001B[0mmetric_scrores\u001B[0m \u001B[0;34m=\u001B[0m \u001B[0mlog_binary_classification_metrics\u001B[0m\u001B[0;34m(\u001B[0m\u001B[0my_test\u001B[0m\u001B[0;34m,\u001B[0m \u001B[0mpreds\u001B[0m\u001B[0;34m)\u001B[0m\u001B[0;34m\u001B[0m\u001B[0;34m\u001B[0m\u001B[0m\n\u001B[0m\u001B[1;32m     26\u001B[0m \u001B[0;31m# pickle_and_send_artifact((y_test, y_test_pred), 'test_predictions.pkl')\u001B[0m\u001B[0;34m\u001B[0m\u001B[0;34m\u001B[0m\u001B[0;34m\u001B[0m\u001B[0m\n\u001B[1;32m     27\u001B[0m \u001B[0;31m# for metric_name, score in metric_scrores.items():\u001B[0m\u001B[0;34m\u001B[0m\u001B[0;34m\u001B[0m\u001B[0;34m\u001B[0m\u001B[0m\n",
      "\u001B[0;32m<ipython-input-44-6c9ce6347958>\u001B[0m in \u001B[0;36mlog_binary_classification_metrics\u001B[0;34m(y_true, y_pred, threshold)\u001B[0m\n\u001B[1;32m     24\u001B[0m     \u001B[0;31m# plt.close()\u001B[0m\u001B[0;34m\u001B[0m\u001B[0;34m\u001B[0m\u001B[0;34m\u001B[0m\u001B[0m\n\u001B[1;32m     25\u001B[0m \u001B[0;34m\u001B[0m\u001B[0m\n\u001B[0;32m---> 26\u001B[0;31m     \u001B[0mscores\u001B[0m \u001B[0;34m=\u001B[0m \u001B[0m_class_metrics\u001B[0m\u001B[0;34m(\u001B[0m\u001B[0my_true\u001B[0m\u001B[0;34m,\u001B[0m \u001B[0my_pred\u001B[0m\u001B[0;34m[\u001B[0m\u001B[0;34m:\u001B[0m\u001B[0;34m,\u001B[0m \u001B[0;36m1\u001B[0m\u001B[0;34m]\u001B[0m\u001B[0;34m,\u001B[0m \u001B[0mthreshold\u001B[0m\u001B[0;34m)\u001B[0m\u001B[0;34m\u001B[0m\u001B[0;34m\u001B[0m\u001B[0m\n\u001B[0m\u001B[1;32m     27\u001B[0m     \u001B[0;31m# for metric_name, score in scores.items():\u001B[0m\u001B[0;34m\u001B[0m\u001B[0;34m\u001B[0m\u001B[0;34m\u001B[0m\u001B[0m\n\u001B[1;32m     28\u001B[0m         \u001B[0;31m# print('{} :{}'.format(metric_name, score))\u001B[0m\u001B[0;34m\u001B[0m\u001B[0;34m\u001B[0m\u001B[0;34m\u001B[0m\u001B[0m\n",
      "\u001B[0;31mIndexError\u001B[0m: too many indices for array: array is 1-dimensional, but 2 were indexed"
     ]
    }
   ]
  },
  {
   "cell_type": "markdown",
   "metadata": {
    "id": "uSqhN0Gk4qyU"
   },
   "source": [
    "# Training results"
   ]
  },
  {
   "cell_type": "code",
   "source": [
    "df_results"
   ],
   "metadata": {
    "id": "WibCVDNROES5"
   },
   "execution_count": null,
   "outputs": []
  },
  {
   "cell_type": "markdown",
   "metadata": {
    "id": "3k1AJ1J1p5P2"
   },
   "source": [
    "## Save performances result to SVC file\n"
   ]
  },
  {
   "cell_type": "code",
   "metadata": {
    "id": "_3zns6a1p_u6"
   },
   "source": [
    "# save the training results\n",
    "df_results.to_csv('performances_shallow_algorithm_lab_220412.csv')"
   ],
   "execution_count": null,
   "outputs": []
  },
  {
   "cell_type": "code",
   "source": [
    "# https://scikit-learn.org/stable/modules/generated/sklearn.metrics.classification_report.html#sklearn.metrics.classification_report\n",
    "# https://scikit-learn.org/stable/modules/generated/sklearn.metrics.ConfusionMatrixDisplay.html#sklearn.metrics.ConfusionMatrixDisplay.from_estimator"
   ],
   "metadata": {
    "id": "Gb3pBBmCy6et"
   },
   "execution_count": null,
   "outputs": []
  }
 ]
}
