{
 "cells": [
  {
   "cell_type": "code",
   "execution_count": 41,
   "metadata": {
    "pycharm": {
     "name": "#%%\n"
    }
   },
   "outputs": [],
   "source": [
    "tf.debugging.set_log_device_placement(True)"
   ]
  },
  {
   "cell_type": "code",
   "execution_count": 2,
   "metadata": {
    "colab": {
     "base_uri": "https://localhost:8080/"
    },
    "executionInfo": {
     "elapsed": 829,
     "status": "ok",
     "timestamp": 1608041132054,
     "user": {
      "displayName": "Milandu Keith Moussavou Boussougou",
      "photoUrl": "https://lh3.googleusercontent.com/a-/AOh14GicOgg14dMz58gOrg69qKXXZuY5LIxdkzh1yMn5KNg=s64",
      "userId": "16125998280788005643"
     },
     "user_tz": -540
    },
    "id": "JDgnmhH45RNS",
    "outputId": "d58a6569-7354-405e-83f0-e85df81884ef",
    "pycharm": {
     "name": "#%%\n"
    }
   },
   "outputs": [
    {
     "name": "stdout",
     "output_type": "stream",
     "text": [
      "Thu Apr 21 15:22:42 2022       \n",
      "+-----------------------------------------------------------------------------+\n",
      "| NVIDIA-SMI 470.103.01   Driver Version: 470.103.01   CUDA Version: 11.4     |\n",
      "|-------------------------------+----------------------+----------------------+\n",
      "| GPU  Name        Persistence-M| Bus-Id        Disp.A | Volatile Uncorr. ECC |\n",
      "| Fan  Temp  Perf  Pwr:Usage/Cap|         Memory-Usage | GPU-Util  Compute M. |\n",
      "|                               |                      |               MIG M. |\n",
      "|===============================+======================+======================|\n",
      "|   0  NVIDIA GeForce ...  Off  | 00000000:19:00.0 Off |                  N/A |\n",
      "| 37%   45C    P8    27W / 350W |  23388MiB / 24268MiB |      0%      Default |\n",
      "|                               |                      |                  N/A |\n",
      "+-------------------------------+----------------------+----------------------+\n",
      "|   1  NVIDIA GeForce ...  Off  | 00000000:1A:00.0 Off |                  N/A |\n",
      "| 97%   78C    P2   320W / 350W |   6093MiB / 24268MiB |    100%      Default |\n",
      "|                               |                      |                  N/A |\n",
      "+-------------------------------+----------------------+----------------------+\n",
      "|   2  NVIDIA GeForce ...  Off  | 00000000:67:00.0 Off |                  N/A |\n",
      "|100%   83C    P2   315W / 350W |   6093MiB / 24268MiB |    100%      Default |\n",
      "|                               |                      |                  N/A |\n",
      "+-------------------------------+----------------------+----------------------+\n",
      "|   3  NVIDIA GeForce ...  Off  | 00000000:68:00.0 Off |                  N/A |\n",
      "|100%   78C    P2   308W / 350W |   6107MiB / 24265MiB |    100%      Default |\n",
      "|                               |                      |                  N/A |\n",
      "+-------------------------------+----------------------+----------------------+\n",
      "                                                                               \n",
      "+-----------------------------------------------------------------------------+\n",
      "| Processes:                                                                  |\n",
      "|  GPU   GI   CI        PID   Type   Process name                  GPU Memory |\n",
      "|        ID   ID                                                   Usage      |\n",
      "|=============================================================================|\n",
      "|    0   N/A  N/A      1233      G   /usr/lib/xorg/Xorg                  4MiB |\n",
      "|    0   N/A  N/A    344672      C   ./ethjob                          253MiB |\n",
      "|    0   N/A  N/A    562148      C   ...3/envs/vishing/bin/python      417MiB |\n",
      "|    0   N/A  N/A    563049      C   ...3/envs/vishing/bin/python    18601MiB |\n",
      "|    0   N/A  N/A   1374430      C   /usr/bin/python3.8               1815MiB |\n",
      "|    0   N/A  N/A   1380072      C   /usr/bin/python3.8                461MiB |\n",
      "|    0   N/A  N/A   1461959      C   /usr/bin/python3.8               1831MiB |\n",
      "|    1   N/A  N/A      1233      G   /usr/lib/xorg/Xorg                  4MiB |\n",
      "|    1   N/A  N/A    344672      C   ./ethjob                         5251MiB |\n",
      "|    1   N/A  N/A    562148      C   ...3/envs/vishing/bin/python      417MiB |\n",
      "|    1   N/A  N/A    563049      C   ...3/envs/vishing/bin/python      417MiB |\n",
      "|    2   N/A  N/A      1233      G   /usr/lib/xorg/Xorg                  4MiB |\n",
      "|    2   N/A  N/A    344672      C   ./ethjob                         5251MiB |\n",
      "|    2   N/A  N/A    562148      C   ...3/envs/vishing/bin/python      417MiB |\n",
      "|    2   N/A  N/A    563049      C   ...3/envs/vishing/bin/python      417MiB |\n",
      "|    3   N/A  N/A      1233      G   /usr/lib/xorg/Xorg                  9MiB |\n",
      "|    3   N/A  N/A      1717      G   /usr/bin/gnome-shell                8MiB |\n",
      "|    3   N/A  N/A    344672      C   ./ethjob                         5251MiB |\n",
      "|    3   N/A  N/A    562148      C   ...3/envs/vishing/bin/python      417MiB |\n",
      "|    3   N/A  N/A    563049      C   ...3/envs/vishing/bin/python      417MiB |\n",
      "+-----------------------------------------------------------------------------+\n"
     ]
    }
   ],
   "source": [
    "# !nvcc --version\n",
    "!nvidia-smi"
   ]
  },
  {
   "cell_type": "code",
   "execution_count": 3,
   "metadata": {
    "id": "7YzVW5nq5RO3",
    "scrolled": true,
    "pycharm": {
     "name": "#%%\n"
    }
   },
   "outputs": [],
   "source": [
    "# import tensorflow as tf\n",
    "# tf.config.list_physical_devices('GPU')"
   ]
  },
  {
   "cell_type": "code",
   "execution_count": 4,
   "metadata": {
    "id": "2BqbGAYD5RPt",
    "pycharm": {
     "name": "#%%\n"
    }
   },
   "outputs": [],
   "source": [
    "#  print(\"Num GPUs Available: \", len(tf.config.experimental.list_physical_devices('GPU')))"
   ]
  },
  {
   "cell_type": "code",
   "execution_count": 5,
   "metadata": {
    "id": "ZZFjlDqR5RP6",
    "pycharm": {
     "name": "#%%\n"
    }
   },
   "outputs": [],
   "source": [
    "# tf.debugging.set_log_device_placement(True)"
   ]
  },
  {
   "cell_type": "code",
   "execution_count": 6,
   "metadata": {
    "id": "LeSEdsbI5RQL",
    "pycharm": {
     "name": "#%%\n"
    }
   },
   "outputs": [],
   "source": [
    "# import tensorflow as tf\n",
    "# device_name = tf.test.gpu_device_name()\n",
    "# if device_name != '/device:GPU:0':\n",
    "#     raise SystemError('GPU device not found')\n",
    "# print('Found GPU at: {}'.format(device_name))"
   ]
  },
  {
   "cell_type": "markdown",
   "metadata": {
    "id": "Dt2izApJxkYh",
    "pycharm": {
     "name": "#%% md\n"
    }
   },
   "source": [
    "## Mount Google Drive\n"
   ]
  },
  {
   "cell_type": "code",
   "execution_count": 7,
   "metadata": {
    "colab": {
     "base_uri": "https://localhost:8080/"
    },
    "executionInfo": {
     "elapsed": 28166,
     "status": "ok",
     "timestamp": 1608041166206,
     "user": {
      "displayName": "Milandu Keith Moussavou Boussougou",
      "photoUrl": "https://lh3.googleusercontent.com/a-/AOh14GicOgg14dMz58gOrg69qKXXZuY5LIxdkzh1yMn5KNg=s64",
      "userId": "16125998280788005643"
     },
     "user_tz": -540
    },
    "id": "ScqQ4S7ThcMS",
    "outputId": "ac26d95a-acad-4880-952e-f8015d5ac911",
    "pycharm": {
     "name": "#%%\n"
    }
   },
   "outputs": [],
   "source": [
    "# from google.colab import drive\n",
    "# drive.mount('drive')"
   ]
  },
  {
   "cell_type": "code",
   "execution_count": 8,
   "metadata": {
    "colab": {
     "base_uri": "https://localhost:8080/"
    },
    "executionInfo": {
     "elapsed": 27782,
     "status": "ok",
     "timestamp": 1608041166964,
     "user": {
      "displayName": "Milandu Keith Moussavou Boussougou",
      "photoUrl": "https://lh3.googleusercontent.com/a-/AOh14GicOgg14dMz58gOrg69qKXXZuY5LIxdkzh1yMn5KNg=s64",
      "userId": "16125998280788005643"
     },
     "user_tz": -540
    },
    "id": "zZESESLVhf2N",
    "outputId": "adc1a6fc-c660-4dd8-9f3f-e6d3703482db",
    "pycharm": {
     "name": "#%%\n"
    }
   },
   "outputs": [],
   "source": [
    "# cd drive/My\\ Drive/Colab\\ Notebooks/voice_phishing/DL"
   ]
  },
  {
   "cell_type": "code",
   "execution_count": 14,
   "metadata": {
    "colab": {
     "base_uri": "https://localhost:8080/"
    },
    "executionInfo": {
     "elapsed": 853,
     "status": "ok",
     "timestamp": 1608041194927,
     "user": {
      "displayName": "Milandu Keith Moussavou Boussougou",
      "photoUrl": "https://lh3.googleusercontent.com/a-/AOh14GicOgg14dMz58gOrg69qKXXZuY5LIxdkzh1yMn5KNg=s64",
      "userId": "16125998280788005643"
     },
     "user_tz": -540
    },
    "id": "EsQfqYhVhpNa",
    "outputId": "c10b4d62-e7d9-4484-d515-52fe27d9e8a5",
    "pycharm": {
     "name": "#%%\n"
    }
   },
   "outputs": [],
   "source": [
    "# ls -l"
   ]
  },
  {
   "cell_type": "markdown",
   "metadata": {
    "id": "FVFBHmNy7PbX",
    "pycharm": {
     "name": "#%% md\n"
    }
   },
   "source": [
    "# Import Libraries"
   ]
  },
  {
   "cell_type": "code",
   "execution_count": 15,
   "metadata": {
    "colab": {
     "base_uri": "https://localhost:8080/"
    },
    "executionInfo": {
     "elapsed": 3284,
     "status": "ok",
     "timestamp": 1608041206019,
     "user": {
      "displayName": "Milandu Keith Moussavou Boussougou",
      "photoUrl": "https://lh3.googleusercontent.com/a-/AOh14GicOgg14dMz58gOrg69qKXXZuY5LIxdkzh1yMn5KNg=s64",
      "userId": "16125998280788005643"
     },
     "user_tz": -540
    },
    "id": "yUP1fGjt7Rjy",
    "outputId": "52ab8db1-94aa-41f8-953b-00020cc3c4f4",
    "pycharm": {
     "name": "#%%\n"
    }
   },
   "outputs": [],
   "source": [
    "import numpy\n",
    "from keras.preprocessing.text import Tokenizer\n",
    "# from keras.utils import to_categorical\n",
    "from tensorflow.keras.utils import to_categorical\n",
    "from keras.models import Sequential\n",
    "from keras.layers import Dense,GRU\n",
    "from keras.layers import Dropout\n",
    "from keras.layers import LSTM\n",
    "from keras.callbacks import ModelCheckpoint\n",
    "from keras.utils import np_utils\n",
    "from keras.layers import Embedding\n",
    "from keras.preprocessing.sequence import pad_sequences\n",
    "from time import sleep\n",
    "import string\n",
    "from textblob import TextBlob\n",
    "from nltk.corpus import stopwords\n",
    "from nltk.stem.wordnet import WordNetLemmatizer\n",
    "import nltk\n",
    "import re\n",
    "from keras.callbacks import ModelCheckpoint\n",
    "from keras.callbacks import EarlyStopping\n",
    "earlystopping = EarlyStopping(monitor = 'loss', verbose = 1,patience = 8, mode = 'min')\n",
    "from glob import glob\n",
    "import numpy as np\n",
    "from tqdm import tqdm\n",
    "# from keras.utils import to_categorical\n",
    "# from sklearn.feature_extraction.stop_words import ENGLISH_STOP_WORDS\n",
    "# from sklearn.feature_extraction import _stop_words\n",
    "from nltk.stem import PorterStemmer\n",
    "from nltk.stem import WordNetLemmatizer\n",
    "from keras.layers import Bidirectional, GlobalMaxPool1D\n",
    "from sklearn.preprocessing import StandardScaler, RobustScaler\n",
    "import os, re, csv, math, codecs\n",
    "from sklearn.model_selection import train_test_split\n",
    "from sklearn.datasets import make_circles\n",
    "from sklearn.metrics import accuracy_score\n",
    "from sklearn.metrics import precision_score\n",
    "from sklearn.metrics import recall_score\n",
    "from sklearn.metrics import f1_score\n",
    "from sklearn.metrics import cohen_kappa_score\n",
    "from sklearn.metrics import roc_auc_score\n",
    "from sklearn.metrics import confusion_matrix\n",
    "from keras.models import Sequential\n",
    "\n",
    "import matplotlib.pyplot as plt\n",
    "import seaborn as sns\n",
    "import pandas as pd\n",
    "import numpy as np\n",
    "import math\n",
    "\n",
    "import tensorflow as tf"
   ]
  },
  {
   "cell_type": "markdown",
   "metadata": {
    "id": "OGBZUSPb7Xsf",
    "pycharm": {
     "name": "#%% md\n"
    }
   },
   "source": [
    "# Load the NPZ file and prepare it"
   ]
  },
  {
   "cell_type": "code",
   "execution_count": 16,
   "metadata": {
    "colab": {
     "base_uri": "https://localhost:8080/"
    },
    "executionInfo": {
     "elapsed": 1241,
     "status": "ok",
     "timestamp": 1608041211466,
     "user": {
      "displayName": "Milandu Keith Moussavou Boussougou",
      "photoUrl": "https://lh3.googleusercontent.com/a-/AOh14GicOgg14dMz58gOrg69qKXXZuY5LIxdkzh1yMn5KNg=s64",
      "userId": "16125998280788005643"
     },
     "user_tz": -540
    },
    "id": "fjEly-oH7ZX5",
    "outputId": "dfd2a4b8-e6f6-4db1-d51b-9b283576e558",
    "pycharm": {
     "name": "#%%\n"
    }
   },
   "outputs": [
    {
     "name": "stdout",
     "output_type": "stream",
     "text": [
      "[5, 5, 6, 6, 6, 7, 7, 8, 8, 9, 10, 10, 11, 11, 11, 12, 13, 14, 14, 15, 15, 15, 15, 15, 16, 17, 18, 18, 19, 19, 19, 20, 20, 21, 21, 21, 21, 21, 21, 21, 22, 22, 23, 23, 23, 23, 23, 23, 23, 23, 24, 24, 24, 24, 24, 24, 25, 25, 25, 25, 25, 25, 25, 25, 26, 26, 26, 26, 27, 27, 27, 27, 27, 27, 27, 27, 27, 27, 27, 27, 28, 28, 28, 28, 28, 28, 28, 28, 28, 28, 28, 28, 28, 28, 28, 28, 29, 29, 29, 29, 29, 29, 29, 29, 29, 29, 29, 29, 29, 29, 30, 30, 30, 30, 30, 30, 30, 30, 30, 30, 30, 30, 30, 30, 30, 30, 30, 30, 30, 30, 30, 31, 31, 31, 31, 31, 31, 31, 31, 31, 31, 31, 31, 31, 31, 31, 31, 31, 32, 32, 32, 32, 32, 32, 32, 32, 32, 32, 32, 32, 32, 32, 32, 32, 32, 32, 32, 32, 32, 32, 32, 32, 32, 32, 32, 32, 32, 32, 32, 32, 32, 32, 32, 32, 32, 32, 32, 32, 33, 33, 33, 33, 33, 33, 33, 33, 33, 33, 33, 33, 33, 33, 33, 33, 33, 33, 33, 33, 33, 33, 33, 33, 33, 33, 33, 33, 34, 34, 34, 34, 34, 34, 34, 34, 34, 34, 34, 34, 34, 34, 34, 34, 34, 34, 34, 34, 34, 34, 34, 34, 34, 34, 34, 34, 34, 34, 34, 34, 34, 34, 34, 34, 34, 34, 35, 35, 35, 35, 35, 35, 35, 35, 35, 35, 35, 35, 35, 35, 35, 35, 35, 35, 35, 35, 35, 35, 35, 35, 35, 35, 35, 35, 35, 35, 35, 35, 35, 36, 36, 36, 36, 36, 36, 36, 36, 36, 36, 36, 36, 36, 36, 36, 36, 36, 36, 36, 36, 36, 36, 36, 36, 36, 36, 36, 36, 36, 36, 36, 36, 36, 36, 36, 36, 36, 36, 36, 36, 36, 36, 36, 36, 36, 37, 37, 37, 37, 37, 37, 37, 37, 37, 37, 37, 37, 37, 37, 37, 37, 37, 37, 37, 37, 37, 37, 37, 37, 37, 37, 37, 37, 37, 37, 37, 37, 38, 38, 38, 38, 38, 38, 38, 38, 38, 38, 38, 38, 38, 38, 38, 38, 38, 38, 38, 38, 38, 38, 38, 38, 38, 38, 38, 38, 38, 38, 38, 38, 38, 38, 38, 38, 38, 39, 39, 39, 39, 39, 39, 39, 39, 39, 39, 39, 39, 39, 39, 39, 39, 39, 39, 39, 39, 39, 39, 39, 39, 39, 39, 39, 39, 39, 39, 39, 39, 39, 39, 39, 39, 39, 39, 39, 39, 39, 39, 39, 39, 39, 39, 39, 39, 39, 39, 39, 39, 39, 39, 39, 39, 40, 40, 40, 40, 40, 40, 40, 40, 40, 40, 40, 40, 40, 40, 40, 40, 40, 40, 40, 40, 40, 40, 40, 40, 40, 40, 40, 40, 41, 41, 41, 41, 41, 41, 41, 41, 41, 41, 41, 41, 41, 41, 41, 41, 41, 41, 41, 41, 41, 41, 41, 41, 41, 41, 41, 41, 41, 41, 41, 41, 41, 42, 42, 42, 42, 42, 42, 42, 42, 42, 42, 42, 42, 42, 42, 42, 42, 42, 42, 42, 42, 42, 42, 42, 42, 42, 42, 42, 42, 42, 42, 42, 42, 42, 42, 43, 43, 43, 43, 43, 43, 43, 43, 43, 43, 43, 43, 43, 43, 43, 43, 43, 43, 43, 43, 43, 43, 43, 43, 43, 43, 43, 43, 43, 43, 43, 43, 43, 43, 43, 43, 43, 44, 44, 44, 44, 44, 44, 44, 44, 44, 44, 44, 44, 44, 44, 44, 44, 44, 44, 44, 44, 44, 44, 45, 45, 45, 45, 45, 45, 45, 45, 45, 45, 45, 45, 45, 45, 45, 45, 45, 45, 45, 45, 45, 45, 45, 45, 45, 45, 45, 45, 45, 46, 46, 46, 46, 46, 46, 46, 46, 46, 46, 46, 46, 46, 46, 46, 46, 46, 46, 46, 46, 46, 46, 46, 46, 46, 46, 46, 46, 47, 47, 47, 47, 47, 47, 47, 47, 47, 47, 47, 47, 47, 47, 47, 47, 47, 47, 47, 47, 47, 47, 47, 47, 47, 47, 48, 48, 48, 48, 48, 48, 48, 48, 48, 48, 48, 48, 48, 48, 48, 48, 48, 48, 48, 48, 48, 48, 48, 48, 49, 49, 49, 49, 49, 49, 49, 49, 49, 49, 49, 49, 49, 49, 50, 50, 50, 50, 50, 50, 50, 50, 50, 50, 50, 50, 50, 50, 51, 51, 51, 51, 51, 51, 51, 51, 52, 52, 52, 52, 52, 52, 52, 52, 53, 53, 53, 53, 53, 53, 53, 53, 53, 53, 54, 54, 54, 55, 56, 56, 56, 56, 57, 57, 57, 57, 57, 58, 58, 58, 58, 59, 59, 59, 59, 60, 60, 61, 61, 61, 61, 61, 62, 62, 62, 63, 63, 63, 63, 63, 63, 63, 63, 63, 63, 64, 65, 65, 65, 66, 66, 66, 66, 66, 66, 67, 67, 67, 67, 68, 68, 68, 69, 69, 69, 69, 70, 70, 70, 70, 70, 71, 72, 72, 74, 74, 74, 74, 74, 75, 75, 76, 77, 78, 78, 79, 80, 81, 81, 81, 81, 82, 82, 83, 83, 84, 84, 84, 86, 86, 86, 86, 86, 87, 87, 88, 88, 88, 88, 89, 89, 89, 89, 89, 90, 90, 90, 90, 91, 91, 91, 91, 92, 94, 94, 95, 95, 95, 95, 95, 96, 96, 96, 97, 97, 97, 97, 99, 99, 100, 101, 101, 103, 103, 106, 107, 107, 107, 107, 108, 108, 109, 109, 111, 111, 111, 111, 113, 115, 115, 116, 116, 117, 117, 117, 117, 118, 118, 119, 119, 121, 121, 121, 121, 122, 122, 123, 123, 124, 125, 125, 125, 126, 126, 126, 128, 130, 133, 133, 133, 133, 134, 135, 135, 136, 136, 138, 139, 139, 140, 140, 141, 142, 142, 143, 143, 147, 150, 150, 151, 155, 156, 158, 158, 163, 165, 166, 166, 167, 169, 169, 170, 170, 170, 171, 172, 173, 174, 175, 178, 179, 180, 181, 182, 182, 182, 186, 188, 189, 190, 190, 192, 192, 194, 195, 195, 196, 198, 198, 199, 201, 202, 206, 206, 206, 208, 210, 210, 214, 216, 220, 221, 221, 223, 224, 226, 227, 230, 230, 231, 233, 235, 235, 236, 236, 236, 236, 239, 240, 241, 241, 242, 244, 244, 244, 247, 248, 250, 259, 261, 261, 263, 265, 266, 269, 271, 271, 274, 278, 280, 280, 282, 284, 285, 285, 287, 295, 304, 306, 308, 309, 311, 313, 316, 317, 323, 324, 325, 328, 329, 329, 331, 332, 351, 352, 353, 359, 361, 362, 362, 363, 363, 364, 368, 369, 376, 378, 383, 385, 390, 396, 402, 404, 407, 409, 413, 418, 429, 436, 439, 440, 441, 443, 443, 448, 448, 450, 455, 457, 458, 467, 474, 478, 479, 479, 482, 483, 484, 487, 510, 532, 537, 554, 558, 559, 569, 581, 585, 588, 588, 596, 605, 608, 617, 620, 628, 636, 649, 652, 654, 655, 664, 682, 695, 703, 708, 713, 719, 742, 757, 758, 758, 821, 824, 839, 842, 846, 858, 875, 889, 940, 961, 991, 1017, 1024, 1029, 1031, 1119, 1226, 1250, 1284, 1301, 1319, 1340, 1345, 1369, 1391, 1393, 1441, 1495, 1504, 1505, 1598, 1708, 1913, 2012, 2039, 2165, 2283, 2317, 2401, 2498, 2739, 2906, 3218, 3237, 3285, 3449, 3620, 4855]\n"
     ]
    }
   ],
   "source": [
    "npsavezFile=np.load(\"OLD_outfile-new.npz\",allow_pickle=True)\n",
    "#print(npsavezFile.files)\n",
    "vocab=npsavezFile['arr_1']\n",
    "data=npsavezFile['arr_0']\n",
    "Y=npsavezFile['arr_2']\n",
    "Y=list(Y)\n",
    "\n",
    "\n",
    "max_length=max([len(i) for i in data])\n",
    "#print(\"max_length\",max_length) # max_length 35\n",
    "\n",
    "print(sorted([len(i) for i in data]))\n",
    "\n",
    "\n",
    "\n",
    "word_id=dict((c,i) for i,c in enumerate(vocab))\n",
    "id_word=dict((i,c) for i,c in enumerate(vocab))\n",
    "#print(\"word_id\",word_id)\n",
    "#print(\"id_word\",id_word)\n",
    "\n",
    "\n",
    "X_train=[]\n",
    "for sentence in data:\n",
    "\tx=[]\n",
    "\tfor word in sentence:\n",
    "\t\tapp=word_id[word]\n",
    "\t\tx.append(app)\n",
    "\t\t\n",
    "\tX_train.append(x)\n"
   ]
  },
  {
   "cell_type": "code",
   "execution_count": 17,
   "metadata": {
    "colab": {
     "base_uri": "https://localhost:8080/"
    },
    "executionInfo": {
     "elapsed": 1014,
     "status": "ok",
     "timestamp": 1608041522503,
     "user": {
      "displayName": "Milandu Keith Moussavou Boussougou",
      "photoUrl": "https://lh3.googleusercontent.com/a-/AOh14GicOgg14dMz58gOrg69qKXXZuY5LIxdkzh1yMn5KNg=s64",
      "userId": "16125998280788005643"
     },
     "user_tz": -540
    },
    "id": "axdvCmLH7fEb",
    "outputId": "32c2d8d8-5294-4501-b9bc-30eccb279e33",
    "pycharm": {
     "name": "#%%\n"
    }
   },
   "outputs": [
    {
     "name": "stdout",
     "output_type": "stream",
     "text": [
      "encoded shape (1218, 4855)\n"
     ]
    }
   ],
   "source": [
    "max_length=max([len(i) for i in X_train])\n",
    "\n",
    "\n",
    "encoded = pad_sequences(X_train, maxlen=max_length, padding='pre')\n",
    "encoded=np.array(encoded)\n",
    "print(\"encoded shape\",encoded.shape) #encoded shape \n",
    "#encoded=np.true_divide(encoded, 500)\n",
    "standard_scaler = StandardScaler()\n",
    "#robust_scaler = RobustScaler()\n",
    "#encoded = standard_scaler.fit_transform(encoded)\n",
    "\n",
    "length_encoded=len(encoded)\n",
    "# encoded shape (1218, 4855)"
   ]
  },
  {
   "cell_type": "markdown",
   "metadata": {
    "id": "D_6RDi2T7nJj",
    "pycharm": {
     "name": "#%% md\n"
    }
   },
   "source": [
    "# FastText embeddings"
   ]
  },
  {
   "cell_type": "code",
   "execution_count": 18,
   "metadata": {
    "colab": {
     "base_uri": "https://localhost:8080/"
    },
    "executionInfo": {
     "elapsed": 94006,
     "status": "ok",
     "timestamp": 1608041622088,
     "user": {
      "displayName": "Milandu Keith Moussavou Boussougou",
      "photoUrl": "https://lh3.googleusercontent.com/a-/AOh14GicOgg14dMz58gOrg69qKXXZuY5LIxdkzh1yMn5KNg=s64",
      "userId": "16125998280788005643"
     },
     "user_tz": -540
    },
    "id": "PAE0dvQQ7qsk",
    "outputId": "2b7dc926-61ac-46c7-92c8-12031f10dc2c",
    "pycharm": {
     "name": "#%%\n"
    }
   },
   "outputs": [
    {
     "name": "stdout",
     "output_type": "stream",
     "text": [
      "loading word embeddings...\n"
     ]
    },
    {
     "name": "stderr",
     "output_type": "stream",
     "text": [
      "879131it [00:56, 15499.41it/s]\n"
     ]
    },
    {
     "name": "stdout",
     "output_type": "stream",
     "text": [
      "found 879130 word vectors\n",
      "tokenizing input data...\n",
      "dictionary size:  10024\n"
     ]
    }
   ],
   "source": [
    "print('loading word embeddings...')\n",
    "embeddings_index = {}\n",
    "f = codecs.open('wiki.ko.vec', encoding='utf-8')\n",
    "for line in tqdm(f):\n",
    "    values = line.rstrip().rsplit(' ')\n",
    "    word = values[0]\n",
    "    coefs = np.asarray(values[1:], dtype='float32')\n",
    "    embeddings_index[word] = coefs\n",
    "f.close()\n",
    "MAX_NB_WORDS=len(vocab)\n",
    "print('found %s word vectors' % len(embeddings_index))\n",
    "print(\"tokenizing input data...\")\n",
    "tokenizer = Tokenizer(num_words=MAX_NB_WORDS, lower=True, char_level=False)\n",
    "tokenizer.fit_on_texts(data)  #leaky\n",
    "word_seq_train = tokenizer.texts_to_sequences(data)\n",
    "word_seq_test = tokenizer.texts_to_sequences(data)\n",
    "word_index = tokenizer.word_index\n",
    "print(\"dictionary size: \", len(word_index))\n",
    "embed_dim = 300 "
   ]
  },
  {
   "cell_type": "code",
   "execution_count": 19,
   "metadata": {
    "colab": {
     "base_uri": "https://localhost:8080/"
    },
    "executionInfo": {
     "elapsed": 88821,
     "status": "ok",
     "timestamp": 1608041622089,
     "user": {
      "displayName": "Milandu Keith Moussavou Boussougou",
      "photoUrl": "https://lh3.googleusercontent.com/a-/AOh14GicOgg14dMz58gOrg69qKXXZuY5LIxdkzh1yMn5KNg=s64",
      "userId": "16125998280788005643"
     },
     "user_tz": -540
    },
    "id": "89G-X0eF7wqL",
    "outputId": "8510ae7d-7f94-4b0e-c318-850b59435f7c",
    "pycharm": {
     "name": "#%%\n"
    }
   },
   "outputs": [
    {
     "name": "stdout",
     "output_type": "stream",
     "text": [
      "preparing embedding matrix...\n",
      "number of null word embeddings: 4027\n",
      "sample words not found:  ['그렇다면은' '프리스톤' '앞두' '올렸' '놨었' '김인술' '멈췄' '어제께' '기다렸' '홀씨']\n"
     ]
    }
   ],
   "source": [
    "#embedding matrix\n",
    "print('preparing embedding matrix...')\n",
    "words_not_found = []\n",
    "nb_words = min(MAX_NB_WORDS, len(word_index))\n",
    "embedding_matrix = np.zeros((MAX_NB_WORDS, embed_dim))\n",
    "for word, i in word_index.items():\n",
    "    if i >= nb_words:\n",
    "        continue\n",
    "    embedding_vector = embeddings_index.get(word)\n",
    "    if (embedding_vector is not None) and len(embedding_vector) > 0:\n",
    "        # words not found in embedding index will be all-zeros.\n",
    "        embedding_matrix[i] = embedding_vector\n",
    "    else:\n",
    "        words_not_found.append(word)\n",
    "print('number of null word embeddings: %d' % np.sum(np.sum(embedding_matrix, axis=1) == 0))\n",
    "print(\"sample words not found: \", np.random.choice(words_not_found, 10))\n",
    "\n",
    "#number of null word embeddings: 4027"
   ]
  },
  {
   "cell_type": "markdown",
   "metadata": {
    "id": "BSJ1WFEF71yH",
    "pycharm": {
     "name": "#%% md\n"
    }
   },
   "source": [
    "# Split dataset"
   ]
  },
  {
   "cell_type": "code",
   "execution_count": 20,
   "metadata": {
    "executionInfo": {
     "elapsed": 1186,
     "status": "ok",
     "timestamp": 1608041623290,
     "user": {
      "displayName": "Milandu Keith Moussavou Boussougou",
      "photoUrl": "https://lh3.googleusercontent.com/a-/AOh14GicOgg14dMz58gOrg69qKXXZuY5LIxdkzh1yMn5KNg=s64",
      "userId": "16125998280788005643"
     },
     "user_tz": -540
    },
    "id": "Eze5FnCZ72uK",
    "pycharm": {
     "name": "#%%\n"
    }
   },
   "outputs": [],
   "source": [
    "Y_train=np.array(Y)\n",
    "# Split the data\n",
    "trainX_data, testX_data, Y_TRAIN, Y_TEST = train_test_split(encoded, Y_train, test_size=0.30, shuffle= True)\n",
    "Ytrain=to_categorical(Y_TRAIN,num_classes=2)\n",
    "Ytest=to_categorical(Y_TEST,num_classes=2)"
   ]
  },
  {
   "cell_type": "code",
   "execution_count": 21,
   "metadata": {
    "colab": {
     "base_uri": "https://localhost:8080/"
    },
    "executionInfo": {
     "elapsed": 1164,
     "status": "ok",
     "timestamp": 1608041623292,
     "user": {
      "displayName": "Milandu Keith Moussavou Boussougou",
      "photoUrl": "https://lh3.googleusercontent.com/a-/AOh14GicOgg14dMz58gOrg69qKXXZuY5LIxdkzh1yMn5KNg=s64",
      "userId": "16125998280788005643"
     },
     "user_tz": -540
    },
    "id": "u8AxaG7buyxU",
    "outputId": "37fb492c-2aa3-41af-8baf-215a4965037c",
    "pycharm": {
     "name": "#%%\n"
    }
   },
   "outputs": [
    {
     "name": "stdout",
     "output_type": "stream",
     "text": [
      "Train set size = 852 \n",
      "Test set size = 366\n"
     ]
    }
   ],
   "source": [
    "print('Train set size = {} \\nTest set size = {}'.format(len(trainX_data),len(testX_data)))"
   ]
  },
  {
   "cell_type": "code",
   "execution_count": 29,
   "metadata": {
    "colab": {
     "base_uri": "https://localhost:8080/"
    },
    "executionInfo": {
     "elapsed": 1139,
     "status": "ok",
     "timestamp": 1608041623293,
     "user": {
      "displayName": "Milandu Keith Moussavou Boussougou",
      "photoUrl": "https://lh3.googleusercontent.com/a-/AOh14GicOgg14dMz58gOrg69qKXXZuY5LIxdkzh1yMn5KNg=s64",
      "userId": "16125998280788005643"
     },
     "user_tz": -540
    },
    "id": "fwXmt0L5t7y1",
    "outputId": "1bb26261-ea16-4f9f-b4a8-76fea3901896",
    "pycharm": {
     "name": "#%%\n"
    }
   },
   "outputs": [
    {
     "name": "stdout",
     "output_type": "stream",
     "text": [
      "852\n",
      "366\n"
     ]
    }
   ],
   "source": [
    "print(len(trainX_data))\n",
    "print(len(testX_data))"
   ]
  },
  {
   "cell_type": "markdown",
   "metadata": {
    "id": "4bXQr5mH79Rs",
    "pycharm": {
     "name": "#%% md\n"
    }
   },
   "source": [
    "# Build model"
   ]
  },
  {
   "cell_type": "code",
   "execution_count": 30,
   "metadata": {
    "colab": {
     "base_uri": "https://localhost:8080/"
    },
    "executionInfo": {
     "elapsed": 154296,
     "status": "ok",
     "timestamp": 1605612328103,
     "user": {
      "displayName": "Milandu Keith Moussavou Boussougou",
      "photoUrl": "https://lh3.googleusercontent.com/a-/AOh14GicOgg14dMz58gOrg69qKXXZuY5LIxdkzh1yMn5KNg=s64",
      "userId": "16125998280788005643"
     },
     "user_tz": -540
    },
    "id": "LN2EuS7L7-it",
    "outputId": "45d6f2eb-c395-48c8-b1f0-21afe02daea9",
    "pycharm": {
     "name": "#%%\n"
    }
   },
   "outputs": [
    {
     "name": "stderr",
     "output_type": "stream",
     "text": [
      "2022-04-21 15:28:42.960367: I tensorflow/core/platform/cpu_feature_guard.cc:151] This TensorFlow binary is optimized with oneAPI Deep Neural Network Library (oneDNN) to use the following CPU instructions in performance-critical operations:  AVX2 AVX512F FMA\n",
      "To enable them in other operations, rebuild TensorFlow with the appropriate compiler flags.\n",
      "2022-04-21 15:28:46.672885: I tensorflow/core/common_runtime/gpu/gpu_device.cc:1525] Created device /job:localhost/replica:0/task:0/device:GPU:0 with 237 MB memory:  -> device: 0, name: NVIDIA GeForce RTX 3090, pci bus id: 0000:19:00.0, compute capability: 8.6\n",
      "2022-04-21 15:28:46.673895: I tensorflow/core/common_runtime/gpu/gpu_device.cc:1525] Created device /job:localhost/replica:0/task:0/device:GPU:1 with 16221 MB memory:  -> device: 1, name: NVIDIA GeForce RTX 3090, pci bus id: 0000:1a:00.0, compute capability: 8.6\n",
      "2022-04-21 15:28:46.674771: I tensorflow/core/common_runtime/gpu/gpu_device.cc:1525] Created device /job:localhost/replica:0/task:0/device:GPU:2 with 16221 MB memory:  -> device: 2, name: NVIDIA GeForce RTX 3090, pci bus id: 0000:67:00.0, compute capability: 8.6\n",
      "2022-04-21 15:28:46.675598: I tensorflow/core/common_runtime/gpu/gpu_device.cc:1525] Created device /job:localhost/replica:0/task:0/device:GPU:3 with 16205 MB memory:  -> device: 3, name: NVIDIA GeForce RTX 3090, pci bus id: 0000:68:00.0, compute capability: 8.6\n"
     ]
    },
    {
     "name": "stdout",
     "output_type": "stream",
     "text": [
      "i <keras.layers.embeddings.Embedding object at 0x7efc11832980>0\n",
      "i <keras.layers.recurrent_v2.GRU object at 0x7efc11830ca0>1\n",
      "i <keras.layers.core.dropout.Dropout object at 0x7efbfdcf88e0>2\n",
      "i <keras.layers.recurrent_v2.GRU object at 0x7efbfdcf8730>3\n",
      "i <keras.layers.core.dropout.Dropout object at 0x7efbec3e4f10>4\n",
      "i <keras.layers.recurrent_v2.GRU object at 0x7efbec2108e0>5\n",
      "i <keras.layers.core.dropout.Dropout object at 0x7efbec3e5180>6\n",
      "i <keras.layers.recurrent_v2.GRU object at 0x7efbec28d900>7\n",
      "i <keras.layers.core.dropout.Dropout object at 0x7efbec2accd0>8\n",
      "i <keras.layers.recurrent_v2.GRU object at 0x7efbec178400>9\n",
      "i <keras.layers.core.dropout.Dropout object at 0x7efbec259a50>10\n",
      "i <keras.layers.core.dense.Dense object at 0x7efbec2e66e0>11\n"
     ]
    }
   ],
   "source": [
    "from keras.callbacks import CSVLogger\n",
    "csv_logger = CSVLogger('training_GRU.log', separator=',', append=False)\n",
    "\n",
    "model = Sequential()\n",
    "model.add(Embedding(MAX_NB_WORDS, embed_dim,weights=[embedding_matrix], input_length=max_length, trainable=False))\n",
    "#model.add(Embedding(len(vocab), 10, input_length=max_length))\n",
    "#model.add(LSTM(128,input_shape=(encoded.shape[0],encoded.shape[1]),return_sequences=True))\n",
    "model.add(GRU(100,return_sequences=True))\n",
    "model.add(Dropout(0.25))\n",
    "model.add(GRU(100,return_sequences=True))\n",
    "model.add(Dropout(0.25))\n",
    "model.add(GRU(50,return_sequences=True))\n",
    "model.add(Dropout(0.25))\n",
    "model.add(GRU(50,return_sequences=True))\n",
    "model.add(Dropout(0.25))\n",
    "model.add(GRU(50))\n",
    "model.add(Dropout(0.20))\n",
    "model.add(Dense(2, activation='softmax'))\n",
    "\n",
    "\n",
    "for i,layer in enumerate(model.layers):\n",
    " print(\"i\",str(layer)+str(i))"
   ]
  },
  {
   "cell_type": "code",
   "execution_count": 31,
   "metadata": {
    "id": "DccR1rPB8Dwn",
    "pycharm": {
     "name": "#%%\n"
    }
   },
   "outputs": [],
   "source": [
    "# for i,layer in enumerate(model.layers):\n",
    "#  print(\"i\",str(layer)+str(i))"
   ]
  },
  {
   "cell_type": "code",
   "execution_count": 32,
   "metadata": {
    "colab": {
     "base_uri": "https://localhost:8080/"
    },
    "executionInfo": {
     "elapsed": 154276,
     "status": "ok",
     "timestamp": 1605612328106,
     "user": {
      "displayName": "Milandu Keith Moussavou Boussougou",
      "photoUrl": "https://lh3.googleusercontent.com/a-/AOh14GicOgg14dMz58gOrg69qKXXZuY5LIxdkzh1yMn5KNg=s64",
      "userId": "16125998280788005643"
     },
     "user_tz": -540
    },
    "id": "RtjawPAm8Ef9",
    "outputId": "4650151e-4678-4e22-f610-1c53926a61be",
    "pycharm": {
     "name": "#%%\n"
    }
   },
   "outputs": [
    {
     "name": "stdout",
     "output_type": "stream",
     "text": [
      "Model: \"sequential\"\n",
      "_________________________________________________________________\n",
      " Layer (type)                Output Shape              Param #   \n",
      "=================================================================\n",
      " embedding (Embedding)       (None, 4855, 300)         3695700   \n",
      "                                                                 \n",
      " gru (GRU)                   (None, 4855, 100)         120600    \n",
      "                                                                 \n",
      " dropout (Dropout)           (None, 4855, 100)         0         \n",
      "                                                                 \n",
      " gru_1 (GRU)                 (None, 4855, 100)         60600     \n",
      "                                                                 \n",
      " dropout_1 (Dropout)         (None, 4855, 100)         0         \n",
      "                                                                 \n",
      " gru_2 (GRU)                 (None, 4855, 50)          22800     \n",
      "                                                                 \n",
      " dropout_2 (Dropout)         (None, 4855, 50)          0         \n",
      "                                                                 \n",
      " gru_3 (GRU)                 (None, 4855, 50)          15300     \n",
      "                                                                 \n",
      " dropout_3 (Dropout)         (None, 4855, 50)          0         \n",
      "                                                                 \n",
      " gru_4 (GRU)                 (None, 50)                15300     \n",
      "                                                                 \n",
      " dropout_4 (Dropout)         (None, 50)                0         \n",
      "                                                                 \n",
      " dense (Dense)               (None, 2)                 102       \n",
      "                                                                 \n",
      "=================================================================\n",
      "Total params: 3,930,402\n",
      "Trainable params: 234,702\n",
      "Non-trainable params: 3,695,700\n",
      "_________________________________________________________________\n",
      "None\n"
     ]
    }
   ],
   "source": [
    "print(model.summary())\n",
    "# Total params: 3,930,402\n",
    "# Trainable params: 234,702\n",
    "# Non-trainable params: 3,695,700"
   ]
  },
  {
   "cell_type": "code",
   "execution_count": 33,
   "metadata": {
    "colab": {
     "base_uri": "https://localhost:8080/",
     "height": 1000
    },
    "executionInfo": {
     "elapsed": 154885,
     "status": "ok",
     "timestamp": 1605612328725,
     "user": {
      "displayName": "Milandu Keith Moussavou Boussougou",
      "photoUrl": "https://lh3.googleusercontent.com/a-/AOh14GicOgg14dMz58gOrg69qKXXZuY5LIxdkzh1yMn5KNg=s64",
      "userId": "16125998280788005643"
     },
     "user_tz": -540
    },
    "id": "r9djd0rGPim5",
    "outputId": "16237348-07d1-4e32-e5a9-6e5a23fbab04",
    "pycharm": {
     "name": "#%%\n"
    }
   },
   "outputs": [
    {
     "name": "stdout",
     "output_type": "stream",
     "text": [
      "You must install pydot (`pip install pydot`) and install graphviz (see instructions at https://graphviz.gitlab.io/download/) for plot_model/model_to_dot to work.\n"
     ]
    }
   ],
   "source": [
    "tf.keras.utils.plot_model(model, \n",
    "                          # to_file=\"GRU_architecture_0.png\",\n",
    "                          show_shapes=True)"
   ]
  },
  {
   "cell_type": "code",
   "execution_count": 34,
   "metadata": {
    "id": "pCohtLFi3-Mn",
    "pycharm": {
     "name": "#%%\n"
    }
   },
   "outputs": [],
   "source": [
    "# tf.keras.utils.plot_model(\n",
    "#     model,\n",
    "#     to_file=\"GRU_architecture_1.png\",\n",
    "#     show_shapes=False,\n",
    "#     # show_dtype=False,\n",
    "#     show_layer_names=True,\n",
    "#     rankdir=\"TB\",\n",
    "#     expand_nested=False,\n",
    "#     dpi=96,\n",
    "# )"
   ]
  },
  {
   "cell_type": "code",
   "execution_count": 35,
   "metadata": {
    "id": "O_iMDH5n8HJJ",
    "pycharm": {
     "name": "#%%\n"
    }
   },
   "outputs": [],
   "source": [
    "# compile network\n",
    "model.compile(loss='categorical_crossentropy', \n",
    "              optimizer='adam', \n",
    "              metrics=['accuracy', \n",
    "                      #  tf.keras.metrics.AUC(), \n",
    "                       tf.keras.metrics.Precision(), \n",
    "                       tf.keras.metrics.Recall()\n",
    "                       ]\n",
    "              )"
   ]
  },
  {
   "cell_type": "markdown",
   "metadata": {
    "id": "Riu8KUpn8KN0",
    "pycharm": {
     "name": "#%% md\n"
    }
   },
   "source": [
    "# train the model"
   ]
  },
  {
   "cell_type": "code",
   "execution_count": 43,
   "metadata": {
    "colab": {
     "base_uri": "https://localhost:8080/"
    },
    "executionInfo": {
     "elapsed": 415176,
     "status": "ok",
     "timestamp": 1605612589048,
     "user": {
      "displayName": "Milandu Keith Moussavou Boussougou",
      "photoUrl": "https://lh3.googleusercontent.com/a-/AOh14GicOgg14dMz58gOrg69qKXXZuY5LIxdkzh1yMn5KNg=s64",
      "userId": "16125998280788005643"
     },
     "user_tz": -540
    },
    "id": "JoQ8GfD58LaM",
    "outputId": "ca07a780-c2bf-4c4b-e41f-16641bda5024",
    "pycharm": {
     "name": "#%%\n"
    }
   },
   "outputs": [
    {
     "name": "stdout",
     "output_type": "stream",
     "text": [
      "Epoch 1/10\n"
     ]
    },
    {
     "name": "stderr",
     "output_type": "stream",
     "text": [
      "2022-04-21 15:36:26.801479: I tensorflow/stream_executor/cuda/cuda_dnn.cc:368] Loaded cuDNN version 8200\n",
      "2022-04-21 15:36:28.572835: I tensorflow/stream_executor/cuda/cuda_blas.cc:1786] TensorFloat-32 will be used for the matrix multiplication. This will only be logged once.\n"
     ]
    },
    {
     "name": "stdout",
     "output_type": "stream",
     "text": [
      "27/27 [==============================] - ETA: 0s - loss: 0.5225 - accuracy: 0.7347 - precision: 0.7347 - recall: 0.7347\n",
      "Epoch 1: loss improved from inf to 0.52248, saving model to check_GRU.h5\n",
      "27/27 [==============================] - 45s 2s/step - loss: 0.5225 - accuracy: 0.7347 - precision: 0.7347 - recall: 0.7347 - val_loss: 0.3258 - val_accuracy: 0.8579 - val_precision: 0.8579 - val_recall: 0.8579\n",
      "Epoch 2/10\n",
      "27/27 [==============================] - ETA: 0s - loss: 0.2559 - accuracy: 0.9014 - precision: 0.9014 - recall: 0.9014\n",
      "Epoch 2: loss improved from 0.52248 to 0.25586, saving model to check_GRU.h5\n",
      "27/27 [==============================] - 41s 2s/step - loss: 0.2559 - accuracy: 0.9014 - precision: 0.9014 - recall: 0.9014 - val_loss: 0.3848 - val_accuracy: 0.8716 - val_precision: 0.8716 - val_recall: 0.8716\n",
      "Epoch 3/10\n",
      "27/27 [==============================] - ETA: 0s - loss: 0.2311 - accuracy: 0.9120 - precision: 0.9120 - recall: 0.9120\n",
      "Epoch 3: loss improved from 0.25586 to 0.23107, saving model to check_GRU.h5\n",
      "27/27 [==============================] - 41s 2s/step - loss: 0.2311 - accuracy: 0.9120 - precision: 0.9120 - recall: 0.9120 - val_loss: 0.2034 - val_accuracy: 0.9126 - val_precision: 0.9126 - val_recall: 0.9126\n",
      "Epoch 4/10\n",
      "27/27 [==============================] - ETA: 0s - loss: 0.1054 - accuracy: 0.9624 - precision: 0.9624 - recall: 0.9624\n",
      "Epoch 4: loss improved from 0.23107 to 0.10538, saving model to check_GRU.h5\n",
      "27/27 [==============================] - 41s 2s/step - loss: 0.1054 - accuracy: 0.9624 - precision: 0.9624 - recall: 0.9624 - val_loss: 0.2032 - val_accuracy: 0.9098 - val_precision: 0.9098 - val_recall: 0.9098\n",
      "Epoch 5/10\n",
      "27/27 [==============================] - ETA: 0s - loss: 0.1120 - accuracy: 0.9636 - precision: 0.9636 - recall: 0.9636\n",
      "Epoch 5: loss did not improve from 0.10538\n",
      "27/27 [==============================] - 41s 2s/step - loss: 0.1120 - accuracy: 0.9636 - precision: 0.9636 - recall: 0.9636 - val_loss: 0.1451 - val_accuracy: 0.9372 - val_precision: 0.9372 - val_recall: 0.9372\n",
      "Epoch 6/10\n",
      "27/27 [==============================] - ETA: 0s - loss: 0.0538 - accuracy: 0.9836 - precision: 0.9836 - recall: 0.9836\n",
      "Epoch 6: loss improved from 0.10538 to 0.05379, saving model to check_GRU.h5\n",
      "27/27 [==============================] - 41s 2s/step - loss: 0.0538 - accuracy: 0.9836 - precision: 0.9836 - recall: 0.9836 - val_loss: 0.1305 - val_accuracy: 0.9590 - val_precision: 0.9590 - val_recall: 0.9590\n",
      "Epoch 7/10\n",
      "27/27 [==============================] - ETA: 0s - loss: 0.0298 - accuracy: 0.9906 - precision: 0.9906 - recall: 0.9906\n",
      "Epoch 7: loss improved from 0.05379 to 0.02983, saving model to check_GRU.h5\n",
      "27/27 [==============================] - 41s 2s/step - loss: 0.0298 - accuracy: 0.9906 - precision: 0.9906 - recall: 0.9906 - val_loss: 0.2143 - val_accuracy: 0.9372 - val_precision: 0.9372 - val_recall: 0.9372\n",
      "Epoch 8/10\n",
      "27/27 [==============================] - ETA: 0s - loss: 0.0205 - accuracy: 0.9930 - precision: 0.9930 - recall: 0.9930\n",
      "Epoch 8: loss improved from 0.02983 to 0.02050, saving model to check_GRU.h5\n",
      "27/27 [==============================] - 41s 2s/step - loss: 0.0205 - accuracy: 0.9930 - precision: 0.9930 - recall: 0.9930 - val_loss: 0.1652 - val_accuracy: 0.9590 - val_precision: 0.9590 - val_recall: 0.9590\n",
      "Epoch 9/10\n",
      "27/27 [==============================] - ETA: 0s - loss: 0.0095 - accuracy: 0.9988 - precision: 0.9988 - recall: 0.9988\n",
      "Epoch 9: loss improved from 0.02050 to 0.00950, saving model to check_GRU.h5\n",
      "27/27 [==============================] - 41s 2s/step - loss: 0.0095 - accuracy: 0.9988 - precision: 0.9988 - recall: 0.9988 - val_loss: 0.2076 - val_accuracy: 0.9590 - val_precision: 0.9590 - val_recall: 0.9590\n",
      "Epoch 10/10\n",
      "27/27 [==============================] - ETA: 0s - loss: 0.0665 - accuracy: 0.9836 - precision: 0.9836 - recall: 0.9836\n",
      "Epoch 10: loss did not improve from 0.00950\n",
      "27/27 [==============================] - 41s 2s/step - loss: 0.0665 - accuracy: 0.9836 - precision: 0.9836 - recall: 0.9836 - val_loss: 0.1416 - val_accuracy: 0.9481 - val_precision: 0.9481 - val_recall: 0.9481\n",
      "CPU times: user 5min 1s, sys: 1min 44s, total: 6min 46s\n",
      "Wall time: 6min 53s\n"
     ]
    }
   ],
   "source": [
    "%%time\n",
    "from time import time\n",
    "from timeit import default_timer as timer\n",
    "\n",
    "# fit network\n",
    "checkpoint = ModelCheckpoint(\"check_GRU.h5\", monitor='loss', verbose=1, save_best_only=True, mode='min')\n",
    "callbacks_list = [checkpoint,earlystopping,csv_logger] #\n",
    "\n",
    "try:\n",
    "    # Specify an invalid GPU device\n",
    "    with tf.device('/device:GPU:1'):\n",
    "        start_time = time()\n",
    "        history = model.fit(\n",
    "            trainX_data, \n",
    "            Ytrain,\n",
    "            batch_size=32, \n",
    "            epochs=10, \n",
    "            verbose=1,\n",
    "            callbacks=callbacks_list,\n",
    "            validation_data=(testX_data,Ytest)\n",
    "        )\n",
    "        run_time = time() - start_time\n",
    "except RuntimeError as e:\n",
    "    print(e)"
   ]
  },
  {
   "cell_type": "code",
   "execution_count": 44,
   "metadata": {
    "colab": {
     "base_uri": "https://localhost:8080/",
     "height": 355
    },
    "executionInfo": {
     "elapsed": 415483,
     "status": "ok",
     "timestamp": 1605612589376,
     "user": {
      "displayName": "Milandu Keith Moussavou Boussougou",
      "photoUrl": "https://lh3.googleusercontent.com/a-/AOh14GicOgg14dMz58gOrg69qKXXZuY5LIxdkzh1yMn5KNg=s64",
      "userId": "16125998280788005643"
     },
     "user_tz": -540
    },
    "id": "-_IutKte0XPm",
    "outputId": "795eed43-8528-4851-88bb-fcb1ddd93d14",
    "pycharm": {
     "name": "#%%\n"
    }
   },
   "outputs": [
    {
     "data": {
      "image/png": "[encoded data removed]",
      "text/plain": [
       "<Figure size 576x360 with 1 Axes>"
      ]
     },
     "metadata": {
      "needs_background": "light"
     },
     "output_type": "display_data"
    }
   ],
   "source": [
    "# Wall time: 4min 20s\n",
    "# loss: 0.0171 - accuracy: 0.9918 - precision: 0.9918 - recall: 0.9918 - val_loss: 0.2304 - val_accuracy: 0.9536 - val_precision: 0.9536 - val_recall: 0.9536\n",
    "\n",
    "# graph of the training\n",
    "pd.DataFrame(history.history).plot(figsize=(8, 5))\n",
    "plt.grid(True)\n",
    "plt.legend()\n",
    "plt.gca().set_ylim(0, 1) # set the vertical range to [0-1]\n",
    "plt.xlabel('epochs')\n",
    "plt.show()\n",
    "# plt.savefig('GRU_archi_plot_allMetrics.png')"
   ]
  },
  {
   "cell_type": "code",
   "execution_count": 45,
   "metadata": {
    "colab": {
     "base_uri": "https://localhost:8080/",
     "height": 300
    },
    "executionInfo": {
     "elapsed": 415476,
     "status": "ok",
     "timestamp": 1605612589378,
     "user": {
      "displayName": "Milandu Keith Moussavou Boussougou",
      "photoUrl": "https://lh3.googleusercontent.com/a-/AOh14GicOgg14dMz58gOrg69qKXXZuY5LIxdkzh1yMn5KNg=s64",
      "userId": "16125998280788005643"
     },
     "user_tz": -540
    },
    "id": "7SReNvcB0cXb",
    "outputId": "e296383f-5fcb-479a-849f-fd5c7552661d",
    "pycharm": {
     "name": "#%%\n"
    }
   },
   "outputs": [
    {
     "data": {
      "image/png": "[encoded data removed]",
      "text/plain": [
       "<Figure size 432x288 with 1 Axes>"
      ]
     },
     "metadata": {
      "needs_background": "light"
     },
     "output_type": "display_data"
    }
   ],
   "source": [
    "import pandas as pd\n",
    "import matplotlib.pyplot as plt\n",
    "\n",
    "# graph of the training\n",
    "plt.plot(history.epoch, history.history['loss'], '-o', label='training_loss')\n",
    "plt.plot(history.epoch, history.history['val_loss'], '-o', label='validation_loss')\n",
    "plt.legend()\n",
    "plt.gca().set_ylim(0, 1) # set the vertical range to [0-1]\n",
    "plt.grid(True)\n",
    "plt.xlim(left=0)\n",
    "plt.xlabel('epochs')\n",
    "plt.ylabel('loss')\n",
    "plt.show()\n",
    "# plt.savefig('GRU_archi_plot_looss.png')"
   ]
  },
  {
   "cell_type": "code",
   "execution_count": 46,
   "metadata": {
    "colab": {
     "base_uri": "https://localhost:8080/",
     "height": 296
    },
    "executionInfo": {
     "elapsed": 415822,
     "status": "ok",
     "timestamp": 1605612589734,
     "user": {
      "displayName": "Milandu Keith Moussavou Boussougou",
      "photoUrl": "https://lh3.googleusercontent.com/a-/AOh14GicOgg14dMz58gOrg69qKXXZuY5LIxdkzh1yMn5KNg=s64",
      "userId": "16125998280788005643"
     },
     "user_tz": -540
    },
    "id": "zwINULZX1DAw",
    "outputId": "10e5d7c9-5081-4ade-eade-af6c1ea71857",
    "pycharm": {
     "name": "#%%\n"
    }
   },
   "outputs": [
    {
     "data": {
      "image/png": "[encoded data removed]",
      "text/plain": [
       "<Figure size 432x288 with 1 Axes>"
      ]
     },
     "metadata": {
      "needs_background": "light"
     },
     "output_type": "display_data"
    }
   ],
   "source": [
    "# graph of the training\n",
    "plt.plot(history.epoch, history.history['accuracy'], '-o', label='training_accuracy')\n",
    "plt.plot(history.epoch, history.history['val_accuracy'], '-o', label='validation_accuracy')\n",
    "plt.grid(True)\n",
    "plt.legend()\n",
    "plt.xlim(left=0)\n",
    "plt.xlabel('epochs')\n",
    "plt.ylabel('accuracy')\n",
    "plt.show()\n",
    "# plt.savefig('GRU_archi_plot_acc.png')"
   ]
  },
  {
   "cell_type": "code",
   "execution_count": 47,
   "metadata": {
    "id": "3gY22DkX8NIA",
    "pycharm": {
     "name": "#%%\n"
    }
   },
   "outputs": [],
   "source": [
    "model.save(\"GRU_10EP.h5\")"
   ]
  },
  {
   "cell_type": "markdown",
   "metadata": {
    "id": "cPbMIuOi80hp",
    "pycharm": {
     "name": "#%% md\n"
    }
   },
   "source": [
    "# test du model"
   ]
  },
  {
   "cell_type": "code",
   "execution_count": 48,
   "metadata": {
    "id": "FN2ZKIiKWWks",
    "pycharm": {
     "name": "#%%\n"
    }
   },
   "outputs": [
    {
     "name": "stdout",
     "output_type": "stream",
     "text": [
      "12/12 [==============================] - 1s 1ms/step - loss: 0.0000e+00 - accuracy: 0.0000e+00 - precision: 0.0000e+00 - recall: 0.0000e+00\n"
     ]
    },
    {
     "ename": "ValueError",
     "evalue": "too many values to unpack (expected 2)",
     "output_type": "error",
     "traceback": [
      "\u001B[0;31m---------------------------------------------------------------------------\u001B[0m",
      "\u001B[0;31mValueError\u001B[0m                                Traceback (most recent call last)",
      "Input \u001B[0;32mIn [48]\u001B[0m, in \u001B[0;36m<cell line: 1>\u001B[0;34m()\u001B[0m\n\u001B[0;32m----> 1\u001B[0m test_loss, test_acc \u001B[38;5;241m=\u001B[39m model\u001B[38;5;241m.\u001B[39mevaluate(testX_data)\n\u001B[1;32m      3\u001B[0m \u001B[38;5;28mprint\u001B[39m(\u001B[38;5;124m'\u001B[39m\u001B[38;5;124mTest Loss: \u001B[39m\u001B[38;5;132;01m{}\u001B[39;00m\u001B[38;5;124m'\u001B[39m\u001B[38;5;241m.\u001B[39mformat(test_loss))\n\u001B[1;32m      4\u001B[0m \u001B[38;5;28mprint\u001B[39m(\u001B[38;5;124m'\u001B[39m\u001B[38;5;124mTest Accuracy: \u001B[39m\u001B[38;5;132;01m{}\u001B[39;00m\u001B[38;5;124m'\u001B[39m\u001B[38;5;241m.\u001B[39mformat(test_acc))\n",
      "\u001B[0;31mValueError\u001B[0m: too many values to unpack (expected 2)"
     ]
    }
   ],
   "source": [
    "test_loss, test_acc = model.evaluate(testX_data)\n",
    "\n",
    "print('Test Loss: {}'.format(test_loss))\n",
    "print('Test Accuracy: {}'.format(test_acc))"
   ]
  },
  {
   "cell_type": "code",
   "execution_count": 50,
   "metadata": {
    "colab": {
     "base_uri": "https://localhost:8080/"
    },
    "executionInfo": {
     "elapsed": 425778,
     "status": "ok",
     "timestamp": 1605612599698,
     "user": {
      "displayName": "Milandu Keith Moussavou Boussougou",
      "photoUrl": "https://lh3.googleusercontent.com/a-/AOh14GicOgg14dMz58gOrg69qKXXZuY5LIxdkzh1yMn5KNg=s64",
      "userId": "16125998280788005643"
     },
     "user_tz": -540
    },
    "id": "Ee9bwrFk81qD",
    "outputId": "ed6553dc-7a16-4bb3-d85c-b82a0879674c",
    "pycharm": {
     "name": "#%%\n"
    }
   },
   "outputs": [
    {
     "name": "stdout",
     "output_type": "stream",
     "text": [
      "\n",
      "\n"
     ]
    },
    {
     "name": "stderr",
     "output_type": "stream",
     "text": [
      "2022-04-21 15:55:39.810500: W tensorflow/core/common_runtime/bfc_allocator.cc:462] Allocator (GPU_0_bfc) ran out of memory trying to allocate 177.79MiB (rounded to 186432000)requested by op transpose\n",
      "If the cause is memory fragmentation maybe the environment variable 'TF_GPU_ALLOCATOR=cuda_malloc_async' will improve the situation. \n",
      "Current allocation summary follows.\n",
      "Current allocation summary follows.\n",
      "2022-04-21 15:55:39.810572: I tensorflow/core/common_runtime/bfc_allocator.cc:1010] BFCAllocator dump for GPU_0_bfc\n",
      "2022-04-21 15:55:39.810598: I tensorflow/core/common_runtime/bfc_allocator.cc:1017] Bin (256): \tTotal Chunks: 89, Chunks in use: 88. 22.2KiB allocated for chunks. 22.0KiB in use in bin. 396B client-requested in use in bin.\n",
      "2022-04-21 15:55:39.810615: I tensorflow/core/common_runtime/bfc_allocator.cc:1017] Bin (512): \tTotal Chunks: 3, Chunks in use: 3. 1.5KiB allocated for chunks. 1.5KiB in use in bin. 1.2KiB client-requested in use in bin.\n",
      "2022-04-21 15:55:39.810629: I tensorflow/core/common_runtime/bfc_allocator.cc:1017] Bin (1024): \tTotal Chunks: 10, Chunks in use: 10. 12.5KiB allocated for chunks. 12.5KiB in use in bin. 11.6KiB client-requested in use in bin.\n",
      "2022-04-21 15:55:39.810642: I tensorflow/core/common_runtime/bfc_allocator.cc:1017] Bin (2048): \tTotal Chunks: 5, Chunks in use: 5. 12.5KiB allocated for chunks. 12.5KiB in use in bin. 11.7KiB client-requested in use in bin.\n",
      "2022-04-21 15:55:39.810655: I tensorflow/core/common_runtime/bfc_allocator.cc:1017] Bin (4096): \tTotal Chunks: 4, Chunks in use: 2. 23.5KiB allocated for chunks. 11.2KiB in use in bin. 9.0KiB client-requested in use in bin.\n",
      "2022-04-21 15:55:39.810668: I tensorflow/core/common_runtime/bfc_allocator.cc:1017] Bin (8192): \tTotal Chunks: 2, Chunks in use: 1. 24.2KiB allocated for chunks. 12.5KiB in use in bin. 12.5KiB client-requested in use in bin.\n",
      "2022-04-21 15:55:39.810684: I tensorflow/core/common_runtime/bfc_allocator.cc:1017] Bin (16384): \tTotal Chunks: 13, Chunks in use: 13. 383.8KiB allocated for chunks. 383.8KiB in use in bin. 380.9KiB client-requested in use in bin.\n",
      "2022-04-21 15:55:39.810698: I tensorflow/core/common_runtime/bfc_allocator.cc:1017] Bin (32768): \tTotal Chunks: 7, Chunks in use: 7. 345.8KiB allocated for chunks. 345.8KiB in use in bin. 293.0KiB client-requested in use in bin.\n",
      "2022-04-21 15:55:39.810711: I tensorflow/core/common_runtime/bfc_allocator.cc:1017] Bin (65536): \tTotal Chunks: 9, Chunks in use: 9. 1.03MiB allocated for chunks. 1.03MiB in use in bin. 996.1KiB client-requested in use in bin.\n",
      "2022-04-21 15:55:39.810725: I tensorflow/core/common_runtime/bfc_allocator.cc:1017] Bin (131072): \tTotal Chunks: 1, Chunks in use: 1. 234.2KiB allocated for chunks. 234.2KiB in use in bin. 117.2KiB client-requested in use in bin.\n",
      "2022-04-21 15:55:39.810737: I tensorflow/core/common_runtime/bfc_allocator.cc:1017] Bin (262144): \tTotal Chunks: 4, Chunks in use: 3. 1.48MiB allocated for chunks. 1.03MiB in use in bin. 1.03MiB client-requested in use in bin.\n",
      "2022-04-21 15:55:39.810749: I tensorflow/core/common_runtime/bfc_allocator.cc:1017] Bin (524288): \tTotal Chunks: 1, Chunks in use: 0. 607.0KiB allocated for chunks. 0B in use in bin. 0B client-requested in use in bin.\n",
      "2022-04-21 15:55:39.810760: I tensorflow/core/common_runtime/bfc_allocator.cc:1017] Bin (1048576): \tTotal Chunks: 0, Chunks in use: 0. 0B allocated for chunks. 0B in use in bin. 0B client-requested in use in bin.\n",
      "2022-04-21 15:55:39.810771: I tensorflow/core/common_runtime/bfc_allocator.cc:1017] Bin (2097152): \tTotal Chunks: 0, Chunks in use: 0. 0B allocated for chunks. 0B in use in bin. 0B client-requested in use in bin.\n",
      "2022-04-21 15:55:39.810782: I tensorflow/core/common_runtime/bfc_allocator.cc:1017] Bin (4194304): \tTotal Chunks: 0, Chunks in use: 0. 0B allocated for chunks. 0B in use in bin. 0B client-requested in use in bin.\n",
      "2022-04-21 15:55:39.810795: I tensorflow/core/common_runtime/bfc_allocator.cc:1017] Bin (8388608): \tTotal Chunks: 1, Chunks in use: 1. 14.10MiB allocated for chunks. 14.10MiB in use in bin. 14.10MiB client-requested in use in bin.\n",
      "2022-04-21 15:55:39.810806: I tensorflow/core/common_runtime/bfc_allocator.cc:1017] Bin (16777216): \tTotal Chunks: 0, Chunks in use: 0. 0B allocated for chunks. 0B in use in bin. 0B client-requested in use in bin.\n",
      "2022-04-21 15:55:39.810817: I tensorflow/core/common_runtime/bfc_allocator.cc:1017] Bin (33554432): \tTotal Chunks: 0, Chunks in use: 0. 0B allocated for chunks. 0B in use in bin. 0B client-requested in use in bin.\n",
      "2022-04-21 15:55:39.810828: I tensorflow/core/common_runtime/bfc_allocator.cc:1017] Bin (67108864): \tTotal Chunks: 0, Chunks in use: 0. 0B allocated for chunks. 0B in use in bin. 0B client-requested in use in bin.\n",
      "2022-04-21 15:55:39.810849: I tensorflow/core/common_runtime/bfc_allocator.cc:1017] Bin (134217728): \tTotal Chunks: 1, Chunks in use: 1. 219.58MiB allocated for chunks. 219.58MiB in use in bin. 177.79MiB client-requested in use in bin.\n",
      "2022-04-21 15:55:39.810860: I tensorflow/core/common_runtime/bfc_allocator.cc:1017] Bin (268435456): \tTotal Chunks: 0, Chunks in use: 0. 0B allocated for chunks. 0B in use in bin. 0B client-requested in use in bin.\n",
      "2022-04-21 15:55:39.810873: I tensorflow/core/common_runtime/bfc_allocator.cc:1033] Bin for 177.79MiB was 128.00MiB, Chunk State: \n",
      "2022-04-21 15:55:39.810882: I tensorflow/core/common_runtime/bfc_allocator.cc:1046] Next region of size 249364480\n",
      "2022-04-21 15:55:39.810901: I tensorflow/core/common_runtime/bfc_allocator.cc:1066] InUse at 7ef9f8000000 of size 256 next 1\n",
      "2022-04-21 15:55:39.810911: I tensorflow/core/common_runtime/bfc_allocator.cc:1066] InUse at 7ef9f8000100 of size 1280 next 2\n",
      "2022-04-21 15:55:39.810919: I tensorflow/core/common_runtime/bfc_allocator.cc:1066] InUse at 7ef9f8000600 of size 256 next 3\n",
      "2022-04-21 15:55:39.810928: I tensorflow/core/common_runtime/bfc_allocator.cc:1066] InUse at 7ef9f8000700 of size 256 next 4\n",
      "2022-04-21 15:55:39.810937: I tensorflow/core/common_runtime/bfc_allocator.cc:1066] InUse at 7ef9f8000800 of size 14782976 next 5\n",
      "2022-04-21 15:55:39.810946: I tensorflow/core/common_runtime/bfc_allocator.cc:1066] InUse at 7ef9f8e19a00 of size 256 next 7\n",
      "2022-04-21 15:55:39.810954: I tensorflow/core/common_runtime/bfc_allocator.cc:1066] InUse at 7ef9f8e19b00 of size 256 next 8\n",
      "2022-04-21 15:55:39.810962: I tensorflow/core/common_runtime/bfc_allocator.cc:1066] InUse at 7ef9f8e19c00 of size 256 next 6\n",
      "2022-04-21 15:55:39.810971: I tensorflow/core/common_runtime/bfc_allocator.cc:1066] InUse at 7ef9f8e19d00 of size 256 next 9\n",
      "2022-04-21 15:55:39.810980: I tensorflow/core/common_runtime/bfc_allocator.cc:1066] InUse at 7ef9f8e19e00 of size 30208 next 29\n",
      "2022-04-21 15:55:39.810989: I tensorflow/core/common_runtime/bfc_allocator.cc:1066] InUse at 7ef9f8e21400 of size 1280 next 24\n",
      "2022-04-21 15:55:39.810997: I tensorflow/core/common_runtime/bfc_allocator.cc:1066] InUse at 7ef9f8e21900 of size 256 next 27\n",
      "2022-04-21 15:55:39.811006: I tensorflow/core/common_runtime/bfc_allocator.cc:1066] InUse at 7ef9f8e21a00 of size 256 next 26\n",
      "2022-04-21 15:55:39.811015: I tensorflow/core/common_runtime/bfc_allocator.cc:1066] InUse at 7ef9f8e21b00 of size 30464 next 30\n",
      "2022-04-21 15:55:39.811027: I tensorflow/core/common_runtime/bfc_allocator.cc:1066] InUse at 7ef9f8e29200 of size 57856 next 19\n",
      "2022-04-21 15:55:39.811036: I tensorflow/core/common_runtime/bfc_allocator.cc:1066] InUse at 7ef9f8e37400 of size 239872 next 14\n",
      "2022-04-21 15:55:39.811044: I tensorflow/core/common_runtime/bfc_allocator.cc:1066] InUse at 7ef9f8e71d00 of size 120064 next 17\n",
      "2022-04-21 15:55:39.811053: I tensorflow/core/common_runtime/bfc_allocator.cc:1066] InUse at 7ef9f8e8f200 of size 256 next 12\n",
      "2022-04-21 15:55:39.811062: I tensorflow/core/common_runtime/bfc_allocator.cc:1066] InUse at 7ef9f8e8f300 of size 2560 next 15\n",
      "2022-04-21 15:55:39.811070: I tensorflow/core/common_runtime/bfc_allocator.cc:1066] InUse at 7ef9f8e8fd00 of size 256 next 13\n",
      "2022-04-21 15:55:39.811078: I tensorflow/core/common_runtime/bfc_allocator.cc:1066] InUse at 7ef9f8e8fe00 of size 256 next 16\n",
      "2022-04-21 15:55:39.811087: I tensorflow/core/common_runtime/bfc_allocator.cc:1066] InUse at 7ef9f8e8ff00 of size 60160 next 25\n",
      "2022-04-21 15:55:39.811096: I tensorflow/core/common_runtime/bfc_allocator.cc:1066] InUse at 7ef9f8e9ea00 of size 1280 next 33\n",
      "2022-04-21 15:55:39.811104: I tensorflow/core/common_runtime/bfc_allocator.cc:1066] InUse at 7ef9f8e9ef00 of size 256 next 35\n",
      "2022-04-21 15:55:39.811113: I tensorflow/core/common_runtime/bfc_allocator.cc:1066] InUse at 7ef9f8e9f000 of size 256 next 36\n",
      "2022-04-21 15:55:39.811121: I tensorflow/core/common_runtime/bfc_allocator.cc:1066] InUse at 7ef9f8e9f100 of size 256 next 38\n",
      "2022-04-21 15:55:39.811131: I tensorflow/core/common_runtime/bfc_allocator.cc:1066] InUse at 7ef9f8e9f200 of size 256 next 39\n",
      "2022-04-21 15:55:39.811140: I tensorflow/core/common_runtime/bfc_allocator.cc:1066] InUse at 7ef9f8e9f300 of size 256 next 42\n",
      "2022-04-21 15:55:39.811148: I tensorflow/core/common_runtime/bfc_allocator.cc:1066] InUse at 7ef9f8e9f400 of size 256 next 43\n",
      "2022-04-21 15:55:39.811157: I tensorflow/core/common_runtime/bfc_allocator.cc:1066] InUse at 7ef9f8e9f500 of size 256 next 40\n",
      "2022-04-21 15:55:39.811165: I tensorflow/core/common_runtime/bfc_allocator.cc:1066] InUse at 7ef9f8e9f600 of size 512 next 41\n",
      "2022-04-21 15:55:39.811174: I tensorflow/core/common_runtime/bfc_allocator.cc:1066] InUse at 7ef9f8e9f800 of size 256 next 44\n",
      "2022-04-21 15:55:39.811182: I tensorflow/core/common_runtime/bfc_allocator.cc:1066] InUse at 7ef9f8e9f900 of size 256 next 45\n",
      "2022-04-21 15:55:39.811191: I tensorflow/core/common_runtime/bfc_allocator.cc:1066] InUse at 7ef9f8e9fa00 of size 256 next 46\n",
      "2022-04-21 15:55:39.811199: I tensorflow/core/common_runtime/bfc_allocator.cc:1066] InUse at 7ef9f8e9fb00 of size 256 next 107\n",
      "2022-04-21 15:55:39.811207: I tensorflow/core/common_runtime/bfc_allocator.cc:1066] InUse at 7ef9f8e9fc00 of size 256 next 155\n",
      "2022-04-21 15:55:39.811216: I tensorflow/core/common_runtime/bfc_allocator.cc:1066] InUse at 7ef9f8e9fd00 of size 256 next 147\n",
      "2022-04-21 15:55:39.811224: I tensorflow/core/common_runtime/bfc_allocator.cc:1066] InUse at 7ef9f8e9fe00 of size 256 next 144\n",
      "2022-04-21 15:55:39.811233: I tensorflow/core/common_runtime/bfc_allocator.cc:1066] Free  at 7ef9f8e9ff00 of size 256 next 140\n",
      "2022-04-21 15:55:39.811241: I tensorflow/core/common_runtime/bfc_allocator.cc:1066] InUse at 7ef9f8ea0000 of size 256 next 149\n",
      "2022-04-21 15:55:39.811250: I tensorflow/core/common_runtime/bfc_allocator.cc:1066] Free  at 7ef9f8ea0100 of size 5376 next 47\n",
      "2022-04-21 15:55:39.811258: I tensorflow/core/common_runtime/bfc_allocator.cc:1066] InUse at 7ef9f8ea1600 of size 256 next 48\n",
      "2022-04-21 15:55:39.811267: I tensorflow/core/common_runtime/bfc_allocator.cc:1066] InUse at 7ef9f8ea1700 of size 256 next 49\n",
      "2022-04-21 15:55:39.811275: I tensorflow/core/common_runtime/bfc_allocator.cc:1066] InUse at 7ef9f8ea1800 of size 256 next 50\n",
      "2022-04-21 15:55:39.811284: I tensorflow/core/common_runtime/bfc_allocator.cc:1066] InUse at 7ef9f8ea1900 of size 256 next 51\n",
      "2022-04-21 15:55:39.811292: I tensorflow/core/common_runtime/bfc_allocator.cc:1066] InUse at 7ef9f8ea1a00 of size 256 next 52\n",
      "2022-04-21 15:55:39.811301: I tensorflow/core/common_runtime/bfc_allocator.cc:1066] InUse at 7ef9f8ea1b00 of size 256 next 53\n",
      "2022-04-21 15:55:39.811309: I tensorflow/core/common_runtime/bfc_allocator.cc:1066] InUse at 7ef9f8ea1c00 of size 256 next 54\n",
      "2022-04-21 15:55:39.811317: I tensorflow/core/common_runtime/bfc_allocator.cc:1066] InUse at 7ef9f8ea1d00 of size 256 next 55\n",
      "2022-04-21 15:55:39.811326: I tensorflow/core/common_runtime/bfc_allocator.cc:1066] InUse at 7ef9f8ea1e00 of size 2560 next 58\n",
      "2022-04-21 15:55:39.811334: I tensorflow/core/common_runtime/bfc_allocator.cc:1066] InUse at 7ef9f8ea2800 of size 2560 next 61\n",
      "2022-04-21 15:55:39.811343: I tensorflow/core/common_runtime/bfc_allocator.cc:1066] InUse at 7ef9f8ea3200 of size 1280 next 62\n",
      "2022-04-21 15:55:39.811352: I tensorflow/core/common_runtime/bfc_allocator.cc:1066] InUse at 7ef9f8ea3700 of size 1280 next 64\n",
      "2022-04-21 15:55:39.811360: I tensorflow/core/common_runtime/bfc_allocator.cc:1066] InUse at 7ef9f8ea3c00 of size 1280 next 67\n",
      "2022-04-21 15:55:39.811369: I tensorflow/core/common_runtime/bfc_allocator.cc:1066] InUse at 7ef9f8ea4100 of size 512 next 68\n",
      "2022-04-21 15:55:39.811377: I tensorflow/core/common_runtime/bfc_allocator.cc:1066] InUse at 7ef9f8ea4300 of size 256 next 69\n",
      "2022-04-21 15:55:39.811385: I tensorflow/core/common_runtime/bfc_allocator.cc:1066] InUse at 7ef9f8ea4400 of size 2560 next 72\n",
      "2022-04-21 15:55:39.811394: I tensorflow/core/common_runtime/bfc_allocator.cc:1066] InUse at 7ef9f8ea4e00 of size 4608 next 32\n",
      "2022-04-21 15:55:39.811405: I tensorflow/core/common_runtime/bfc_allocator.cc:1066] InUse at 7ef9f8ea6000 of size 30208 next 37\n",
      "2022-04-21 15:55:39.811414: I tensorflow/core/common_runtime/bfc_allocator.cc:1066] InUse at 7ef9f8ead600 of size 115968 next 10\n",
      "2022-04-21 15:55:39.811425: I tensorflow/core/common_runtime/bfc_allocator.cc:1066] InUse at 7ef9f8ec9b00 of size 360192 next 11\n",
      "2022-04-21 15:55:39.811433: I tensorflow/core/common_runtime/bfc_allocator.cc:1066] InUse at 7ef9f8f21a00 of size 2560 next 20\n",
      "2022-04-21 15:55:39.811442: I tensorflow/core/common_runtime/bfc_allocator.cc:1066] InUse at 7ef9f8f22400 of size 256 next 21\n",
      "2022-04-21 15:55:39.811450: I tensorflow/core/common_runtime/bfc_allocator.cc:1066] InUse at 7ef9f8f22500 of size 256 next 22\n",
      "2022-04-21 15:55:39.811459: I tensorflow/core/common_runtime/bfc_allocator.cc:1066] InUse at 7ef9f8f22600 of size 30208 next 31\n",
      "2022-04-21 15:55:39.811467: I tensorflow/core/common_runtime/bfc_allocator.cc:1066] InUse at 7ef9f8f29c00 of size 30208 next 34\n",
      "2022-04-21 15:55:39.811476: I tensorflow/core/common_runtime/bfc_allocator.cc:1066] InUse at 7ef9f8f31200 of size 1280 next 28\n",
      "2022-04-21 15:55:39.811485: I tensorflow/core/common_runtime/bfc_allocator.cc:1066] InUse at 7ef9f8f31700 of size 55296 next 18\n",
      "2022-04-21 15:55:39.811493: I tensorflow/core/common_runtime/bfc_allocator.cc:1066] InUse at 7ef9f8f3ef00 of size 120064 next 23\n",
      "2022-04-21 15:55:39.811502: I tensorflow/core/common_runtime/bfc_allocator.cc:1066] InUse at 7ef9f8f5c400 of size 360192 next 56\n",
      "2022-04-21 15:55:39.811511: I tensorflow/core/common_runtime/bfc_allocator.cc:1066] InUse at 7ef9f8fb4300 of size 120064 next 57\n",
      "2022-04-21 15:55:39.811519: I tensorflow/core/common_runtime/bfc_allocator.cc:1066] InUse at 7ef9f8fd1800 of size 120064 next 59\n",
      "2022-04-21 15:55:39.811527: I tensorflow/core/common_runtime/bfc_allocator.cc:1066] InUse at 7ef9f8feed00 of size 120064 next 60\n",
      "2022-04-21 15:55:39.811536: I tensorflow/core/common_runtime/bfc_allocator.cc:1066] InUse at 7ef9f900c200 of size 30208 next 63\n",
      "2022-04-21 15:55:39.811545: I tensorflow/core/common_runtime/bfc_allocator.cc:1066] InUse at 7ef9f9013800 of size 30208 next 65\n",
      "2022-04-21 15:55:39.811553: I tensorflow/core/common_runtime/bfc_allocator.cc:1066] InUse at 7ef9f901ae00 of size 30208 next 66\n",
      "2022-04-21 15:55:39.811561: I tensorflow/core/common_runtime/bfc_allocator.cc:1066] InUse at 7ef9f9022400 of size 360192 next 70\n",
      "2022-04-21 15:55:39.811570: I tensorflow/core/common_runtime/bfc_allocator.cc:1066] InUse at 7ef9f907a300 of size 120064 next 71\n",
      "2022-04-21 15:55:39.811579: I tensorflow/core/common_runtime/bfc_allocator.cc:1066] InUse at 7ef9f9097800 of size 120064 next 73\n",
      "2022-04-21 15:55:39.811587: I tensorflow/core/common_runtime/bfc_allocator.cc:1066] InUse at 7ef9f90b4d00 of size 120064 next 74\n",
      "2022-04-21 15:55:39.811596: I tensorflow/core/common_runtime/bfc_allocator.cc:1066] InUse at 7ef9f90d2200 of size 60160 next 75\n",
      "2022-04-21 15:55:39.811605: I tensorflow/core/common_runtime/bfc_allocator.cc:1066] InUse at 7ef9f90e0d00 of size 30208 next 76\n",
      "2022-04-21 15:55:39.811614: I tensorflow/core/common_runtime/bfc_allocator.cc:1066] InUse at 7ef9f90e8300 of size 1280 next 77\n",
      "2022-04-21 15:55:39.811622: I tensorflow/core/common_runtime/bfc_allocator.cc:1066] InUse at 7ef9f90e8800 of size 30208 next 78\n",
      "2022-04-21 15:55:39.811631: I tensorflow/core/common_runtime/bfc_allocator.cc:1066] InUse at 7ef9f90efe00 of size 30208 next 79\n",
      "2022-04-21 15:55:39.811639: I tensorflow/core/common_runtime/bfc_allocator.cc:1066] InUse at 7ef9f90f7400 of size 1280 next 80\n",
      "2022-04-21 15:55:39.811648: I tensorflow/core/common_runtime/bfc_allocator.cc:1066] InUse at 7ef9f90f7900 of size 30208 next 81\n",
      "2022-04-21 15:55:39.811656: I tensorflow/core/common_runtime/bfc_allocator.cc:1066] InUse at 7ef9f90fef00 of size 30208 next 82\n",
      "2022-04-21 15:55:39.811665: I tensorflow/core/common_runtime/bfc_allocator.cc:1066] InUse at 7ef9f9106500 of size 1280 next 83\n",
      "2022-04-21 15:55:39.811673: I tensorflow/core/common_runtime/bfc_allocator.cc:1066] InUse at 7ef9f9106a00 of size 512 next 84\n",
      "2022-04-21 15:55:39.811682: I tensorflow/core/common_runtime/bfc_allocator.cc:1066] InUse at 7ef9f9106c00 of size 256 next 85\n",
      "2022-04-21 15:55:39.811690: I tensorflow/core/common_runtime/bfc_allocator.cc:1066] InUse at 7ef9f9106d00 of size 256 next 86\n",
      "2022-04-21 15:55:39.811699: I tensorflow/core/common_runtime/bfc_allocator.cc:1066] InUse at 7ef9f9106e00 of size 256 next 87\n",
      "2022-04-21 15:55:39.811707: I tensorflow/core/common_runtime/bfc_allocator.cc:1066] InUse at 7ef9f9106f00 of size 256 next 88\n",
      "2022-04-21 15:55:39.811716: I tensorflow/core/common_runtime/bfc_allocator.cc:1066] InUse at 7ef9f9107000 of size 256 next 89\n",
      "2022-04-21 15:55:39.811724: I tensorflow/core/common_runtime/bfc_allocator.cc:1066] InUse at 7ef9f9107100 of size 256 next 90\n",
      "2022-04-21 15:55:39.811733: I tensorflow/core/common_runtime/bfc_allocator.cc:1066] InUse at 7ef9f9107200 of size 256 next 91\n",
      "2022-04-21 15:55:39.811741: I tensorflow/core/common_runtime/bfc_allocator.cc:1066] InUse at 7ef9f9107300 of size 256 next 92\n",
      "2022-04-21 15:55:39.811750: I tensorflow/core/common_runtime/bfc_allocator.cc:1066] InUse at 7ef9f9107400 of size 256 next 93\n",
      "2022-04-21 15:55:39.811758: I tensorflow/core/common_runtime/bfc_allocator.cc:1066] InUse at 7ef9f9107500 of size 256 next 94\n",
      "2022-04-21 15:55:39.811767: I tensorflow/core/common_runtime/bfc_allocator.cc:1066] InUse at 7ef9f9107600 of size 256 next 95\n",
      "2022-04-21 15:55:39.811775: I tensorflow/core/common_runtime/bfc_allocator.cc:1066] InUse at 7ef9f9107700 of size 256 next 96\n",
      "2022-04-21 15:55:39.811783: I tensorflow/core/common_runtime/bfc_allocator.cc:1066] InUse at 7ef9f9107800 of size 256 next 97\n",
      "2022-04-21 15:55:39.811792: I tensorflow/core/common_runtime/bfc_allocator.cc:1066] InUse at 7ef9f9107900 of size 256 next 98\n",
      "2022-04-21 15:55:39.811800: I tensorflow/core/common_runtime/bfc_allocator.cc:1066] InUse at 7ef9f9107a00 of size 256 next 99\n",
      "2022-04-21 15:55:39.811809: I tensorflow/core/common_runtime/bfc_allocator.cc:1066] InUse at 7ef9f9107b00 of size 256 next 100\n",
      "2022-04-21 15:55:39.811817: I tensorflow/core/common_runtime/bfc_allocator.cc:1066] InUse at 7ef9f9107c00 of size 256 next 101\n",
      "2022-04-21 15:55:39.811826: I tensorflow/core/common_runtime/bfc_allocator.cc:1066] InUse at 7ef9f9107d00 of size 256 next 102\n",
      "2022-04-21 15:55:39.811834: I tensorflow/core/common_runtime/bfc_allocator.cc:1066] InUse at 7ef9f9107e00 of size 256 next 103\n",
      "2022-04-21 15:55:39.811843: I tensorflow/core/common_runtime/bfc_allocator.cc:1066] InUse at 7ef9f9107f00 of size 256 next 104\n",
      "2022-04-21 15:55:39.811851: I tensorflow/core/common_runtime/bfc_allocator.cc:1066] InUse at 7ef9f9108000 of size 256 next 105\n",
      "2022-04-21 15:55:39.811860: I tensorflow/core/common_runtime/bfc_allocator.cc:1066] InUse at 7ef9f9108100 of size 256 next 106\n",
      "2022-04-21 15:55:39.811868: I tensorflow/core/common_runtime/bfc_allocator.cc:1066] Free  at 7ef9f9108200 of size 7168 next 108\n",
      "2022-04-21 15:55:39.811877: I tensorflow/core/common_runtime/bfc_allocator.cc:1066] InUse at 7ef9f9109e00 of size 6912 next 116\n",
      "2022-04-21 15:55:39.811886: I tensorflow/core/common_runtime/bfc_allocator.cc:1066] InUse at 7ef9f910b900 of size 256 next 110\n",
      "2022-04-21 15:55:39.811894: I tensorflow/core/common_runtime/bfc_allocator.cc:1066] InUse at 7ef9f910ba00 of size 256 next 114\n",
      "2022-04-21 15:55:39.811903: I tensorflow/core/common_runtime/bfc_allocator.cc:1066] InUse at 7ef9f910bb00 of size 256 next 117\n",
      "2022-04-21 15:55:39.811911: I tensorflow/core/common_runtime/bfc_allocator.cc:1066] InUse at 7ef9f910bc00 of size 256 next 112\n",
      "2022-04-21 15:55:39.811920: I tensorflow/core/common_runtime/bfc_allocator.cc:1066] InUse at 7ef9f910bd00 of size 256 next 113\n",
      "2022-04-21 15:55:39.811928: I tensorflow/core/common_runtime/bfc_allocator.cc:1066] InUse at 7ef9f910be00 of size 256 next 109\n",
      "2022-04-21 15:55:39.811937: I tensorflow/core/common_runtime/bfc_allocator.cc:1066] InUse at 7ef9f910bf00 of size 256 next 129\n",
      "2022-04-21 15:55:39.811945: I tensorflow/core/common_runtime/bfc_allocator.cc:1066] InUse at 7ef9f910c000 of size 256 next 123\n",
      "2022-04-21 15:55:39.811954: I tensorflow/core/common_runtime/bfc_allocator.cc:1066] InUse at 7ef9f910c100 of size 256 next 131\n",
      "2022-04-21 15:55:39.811962: I tensorflow/core/common_runtime/bfc_allocator.cc:1066] InUse at 7ef9f910c200 of size 256 next 119\n",
      "2022-04-21 15:55:39.811971: I tensorflow/core/common_runtime/bfc_allocator.cc:1066] InUse at 7ef9f910c300 of size 256 next 118\n",
      "2022-04-21 15:55:39.811979: I tensorflow/core/common_runtime/bfc_allocator.cc:1066] InUse at 7ef9f910c400 of size 256 next 121\n",
      "2022-04-21 15:55:39.811988: I tensorflow/core/common_runtime/bfc_allocator.cc:1066] InUse at 7ef9f910c500 of size 256 next 122\n",
      "2022-04-21 15:55:39.811996: I tensorflow/core/common_runtime/bfc_allocator.cc:1066] InUse at 7ef9f910c600 of size 256 next 120\n",
      "2022-04-21 15:55:39.812004: I tensorflow/core/common_runtime/bfc_allocator.cc:1066] InUse at 7ef9f910c700 of size 256 next 124\n",
      "2022-04-21 15:55:39.812013: I tensorflow/core/common_runtime/bfc_allocator.cc:1066] InUse at 7ef9f910c800 of size 256 next 128\n",
      "2022-04-21 15:55:39.812022: I tensorflow/core/common_runtime/bfc_allocator.cc:1066] InUse at 7ef9f910c900 of size 256 next 126\n",
      "2022-04-21 15:55:39.812030: I tensorflow/core/common_runtime/bfc_allocator.cc:1066] InUse at 7ef9f910ca00 of size 256 next 127\n",
      "2022-04-21 15:55:39.812039: I tensorflow/core/common_runtime/bfc_allocator.cc:1066] InUse at 7ef9f910cb00 of size 256 next 125\n",
      "2022-04-21 15:55:39.812047: I tensorflow/core/common_runtime/bfc_allocator.cc:1066] InUse at 7ef9f910cc00 of size 256 next 132\n",
      "2022-04-21 15:55:39.812056: I tensorflow/core/common_runtime/bfc_allocator.cc:1066] InUse at 7ef9f910cd00 of size 256 next 138\n",
      "2022-04-21 15:55:39.812065: I tensorflow/core/common_runtime/bfc_allocator.cc:1066] InUse at 7ef9f910ce00 of size 256 next 139\n",
      "2022-04-21 15:55:39.812073: I tensorflow/core/common_runtime/bfc_allocator.cc:1066] InUse at 7ef9f910cf00 of size 256 next 134\n",
      "2022-04-21 15:55:39.812081: I tensorflow/core/common_runtime/bfc_allocator.cc:1066] InUse at 7ef9f910d000 of size 256 next 153\n",
      "2022-04-21 15:55:39.812090: I tensorflow/core/common_runtime/bfc_allocator.cc:1066] InUse at 7ef9f910d100 of size 256 next 133\n",
      "2022-04-21 15:55:39.812099: I tensorflow/core/common_runtime/bfc_allocator.cc:1066] InUse at 7ef9f910d200 of size 256 next 151\n",
      "2022-04-21 15:55:39.812107: I tensorflow/core/common_runtime/bfc_allocator.cc:1066] Free  at 7ef9f910d300 of size 12032 next 136\n",
      "2022-04-21 15:55:39.812116: I tensorflow/core/common_runtime/bfc_allocator.cc:1066] InUse at 7ef9f9110200 of size 256 next 137\n",
      "2022-04-21 15:55:39.812125: I tensorflow/core/common_runtime/bfc_allocator.cc:1066] InUse at 7ef9f9110300 of size 12800 next 130\n",
      "2022-04-21 15:55:39.812134: I tensorflow/core/common_runtime/bfc_allocator.cc:1066] InUse at 7ef9f9113500 of size 40192 next 141\n",
      "2022-04-21 15:55:39.812143: I tensorflow/core/common_runtime/bfc_allocator.cc:1066] InUse at 7ef9f911d200 of size 40192 next 154\n",
      "2022-04-21 15:55:39.812152: I tensorflow/core/common_runtime/bfc_allocator.cc:1066] InUse at 7ef9f9126f00 of size 40192 next 135\n",
      "2022-04-21 15:55:39.812161: I tensorflow/core/common_runtime/bfc_allocator.cc:1066] Free  at 7ef9f9130c00 of size 468992 next 115\n",
      "2022-04-21 15:55:39.812169: I tensorflow/core/common_runtime/bfc_allocator.cc:1066] InUse at 7ef9f91a3400 of size 256 next 111\n",
      "2022-04-21 15:55:39.812178: I tensorflow/core/common_runtime/bfc_allocator.cc:1066] Free  at 7ef9f91a3500 of size 621568 next 142\n",
      "2022-04-21 15:55:39.812188: I tensorflow/core/common_runtime/bfc_allocator.cc:1066] InUse at 7ef9f923b100 of size 230248192 next 18446744073709551615\n",
      "2022-04-21 15:55:39.812196: I tensorflow/core/common_runtime/bfc_allocator.cc:1071]      Summary of in-use Chunks by size: \n",
      "2022-04-21 15:55:39.812209: I tensorflow/core/common_runtime/bfc_allocator.cc:1074] 88 Chunks of size 256 totalling 22.0KiB\n",
      "2022-04-21 15:55:39.812219: I tensorflow/core/common_runtime/bfc_allocator.cc:1074] 3 Chunks of size 512 totalling 1.5KiB\n",
      "2022-04-21 15:55:39.812230: I tensorflow/core/common_runtime/bfc_allocator.cc:1074] 10 Chunks of size 1280 totalling 12.5KiB\n",
      "2022-04-21 15:55:39.812240: I tensorflow/core/common_runtime/bfc_allocator.cc:1074] 5 Chunks of size 2560 totalling 12.5KiB\n",
      "2022-04-21 15:55:39.812250: I tensorflow/core/common_runtime/bfc_allocator.cc:1074] 1 Chunks of size 4608 totalling 4.5KiB\n",
      "2022-04-21 15:55:39.812260: I tensorflow/core/common_runtime/bfc_allocator.cc:1074] 1 Chunks of size 6912 totalling 6.8KiB\n",
      "2022-04-21 15:55:39.812270: I tensorflow/core/common_runtime/bfc_allocator.cc:1074] 1 Chunks of size 12800 totalling 12.5KiB\n",
      "2022-04-21 15:55:39.812281: I tensorflow/core/common_runtime/bfc_allocator.cc:1074] 12 Chunks of size 30208 totalling 354.0KiB\n",
      "2022-04-21 15:55:39.812293: I tensorflow/core/common_runtime/bfc_allocator.cc:1074] 1 Chunks of size 30464 totalling 29.8KiB\n",
      "2022-04-21 15:55:39.812303: I tensorflow/core/common_runtime/bfc_allocator.cc:1074] 3 Chunks of size 40192 totalling 117.8KiB\n",
      "2022-04-21 15:55:39.812313: I tensorflow/core/common_runtime/bfc_allocator.cc:1074] 1 Chunks of size 55296 totalling 54.0KiB\n",
      "2022-04-21 15:55:39.812323: I tensorflow/core/common_runtime/bfc_allocator.cc:1074] 1 Chunks of size 57856 totalling 56.5KiB\n",
      "2022-04-21 15:55:39.812334: I tensorflow/core/common_runtime/bfc_allocator.cc:1074] 2 Chunks of size 60160 totalling 117.5KiB\n",
      "2022-04-21 15:55:39.812344: I tensorflow/core/common_runtime/bfc_allocator.cc:1074] 1 Chunks of size 115968 totalling 113.2KiB\n",
      "2022-04-21 15:55:39.812355: I tensorflow/core/common_runtime/bfc_allocator.cc:1074] 8 Chunks of size 120064 totalling 938.0KiB\n",
      "2022-04-21 15:55:39.812365: I tensorflow/core/common_runtime/bfc_allocator.cc:1074] 1 Chunks of size 239872 totalling 234.2KiB\n",
      "2022-04-21 15:55:39.812375: I tensorflow/core/common_runtime/bfc_allocator.cc:1074] 3 Chunks of size 360192 totalling 1.03MiB\n",
      "2022-04-21 15:55:39.812385: I tensorflow/core/common_runtime/bfc_allocator.cc:1074] 1 Chunks of size 14782976 totalling 14.10MiB\n",
      "2022-04-21 15:55:39.812396: I tensorflow/core/common_runtime/bfc_allocator.cc:1074] 1 Chunks of size 230248192 totalling 219.58MiB\n",
      "2022-04-21 15:55:39.812407: I tensorflow/core/common_runtime/bfc_allocator.cc:1078] Sum Total of in-use chunks: 236.75MiB\n",
      "2022-04-21 15:55:39.812419: I tensorflow/core/common_runtime/bfc_allocator.cc:1080] total_region_allocated_bytes_: 249364480 memory_limit_: 249364480 available bytes: 0 curr_region_allocation_bytes_: 498728960\n",
      "2022-04-21 15:55:39.812438: I tensorflow/core/common_runtime/bfc_allocator.cc:1086] Stats: \n",
      "Limit:                       249364480\n",
      "InUse:                       248249088\n",
      "MaxInUse:                    249353216\n",
      "NumAllocs:                        9524\n",
      "MaxAllocSize:                230869760\n",
      "Reserved:                            0\n",
      "PeakReserved:                        0\n",
      "LargestFreeBlock:                    0\n",
      "\n",
      "2022-04-21 15:55:39.812467: W tensorflow/core/common_runtime/bfc_allocator.cc:474] ***********************************************************************************xxxxxxxxxxxxxxxxx\n",
      "2022-04-21 15:55:39.812540: W tensorflow/core/framework/op_kernel.cc:1745] OP_REQUIRES failed at transpose_op.cc:183 : RESOURCE_EXHAUSTED: OOM when allocating tensor with shape[4855,32,300] and type float on /job:localhost/replica:0/task:0/device:GPU:0 by allocator GPU_0_bfc\n",
      "2022-04-21 15:55:49.813112: W tensorflow/core/common_runtime/bfc_allocator.cc:462] Allocator (GPU_0_bfc) ran out of memory trying to allocate 471.1KiB (rounded to 482560)requested by op concat\n",
      "If the cause is memory fragmentation maybe the environment variable 'TF_GPU_ALLOCATOR=cuda_malloc_async' will improve the situation. \n",
      "Current allocation summary follows.\n",
      "Current allocation summary follows.\n",
      "2022-04-21 15:55:49.813188: I tensorflow/core/common_runtime/bfc_allocator.cc:1010] BFCAllocator dump for GPU_0_bfc\n",
      "2022-04-21 15:55:49.813219: I tensorflow/core/common_runtime/bfc_allocator.cc:1017] Bin (256): \tTotal Chunks: 89, Chunks in use: 88. 22.2KiB allocated for chunks. 22.0KiB in use in bin. 396B client-requested in use in bin.\n",
      "2022-04-21 15:55:49.813234: I tensorflow/core/common_runtime/bfc_allocator.cc:1017] Bin (512): \tTotal Chunks: 9, Chunks in use: 9. 4.5KiB allocated for chunks. 4.5KiB in use in bin. 3.5KiB client-requested in use in bin.\n",
      "2022-04-21 15:55:49.813250: I tensorflow/core/common_runtime/bfc_allocator.cc:1017] Bin (1024): \tTotal Chunks: 10, Chunks in use: 10. 12.5KiB allocated for chunks. 12.5KiB in use in bin. 11.6KiB client-requested in use in bin.\n",
      "2022-04-21 15:55:49.813265: I tensorflow/core/common_runtime/bfc_allocator.cc:1017] Bin (2048): \tTotal Chunks: 6, Chunks in use: 5. 14.8KiB allocated for chunks. 12.5KiB in use in bin. 11.7KiB client-requested in use in bin.\n",
      "2022-04-21 15:55:49.813280: I tensorflow/core/common_runtime/bfc_allocator.cc:1017] Bin (4096): \tTotal Chunks: 3, Chunks in use: 2. 18.2KiB allocated for chunks. 11.2KiB in use in bin. 9.0KiB client-requested in use in bin.\n",
      "2022-04-21 15:55:49.813295: I tensorflow/core/common_runtime/bfc_allocator.cc:1017] Bin (8192): \tTotal Chunks: 2, Chunks in use: 1. 24.2KiB allocated for chunks. 12.5KiB in use in bin. 12.5KiB client-requested in use in bin.\n",
      "2022-04-21 15:55:49.813312: I tensorflow/core/common_runtime/bfc_allocator.cc:1017] Bin (16384): \tTotal Chunks: 13, Chunks in use: 13. 383.8KiB allocated for chunks. 383.8KiB in use in bin. 380.9KiB client-requested in use in bin.\n",
      "2022-04-21 15:55:49.813341: I tensorflow/core/common_runtime/bfc_allocator.cc:1017] Bin (32768): \tTotal Chunks: 7, Chunks in use: 7. 345.8KiB allocated for chunks. 345.8KiB in use in bin. 293.0KiB client-requested in use in bin.\n",
      "2022-04-21 15:55:49.813354: I tensorflow/core/common_runtime/bfc_allocator.cc:1017] Bin (65536): \tTotal Chunks: 11, Chunks in use: 11. 1.25MiB allocated for chunks. 1.25MiB in use in bin. 1.20MiB client-requested in use in bin.\n",
      "2022-04-21 15:55:49.813368: I tensorflow/core/common_runtime/bfc_allocator.cc:1017] Bin (131072): \tTotal Chunks: 3, Chunks in use: 2. 614.2KiB allocated for chunks. 390.8KiB in use in bin. 234.4KiB client-requested in use in bin.\n",
      "2022-04-21 15:55:49.813381: I tensorflow/core/common_runtime/bfc_allocator.cc:1017] Bin (262144): \tTotal Chunks: 4, Chunks in use: 3. 1.47MiB allocated for chunks. 1.03MiB in use in bin. 1.03MiB client-requested in use in bin.\n",
      "2022-04-21 15:55:49.813393: I tensorflow/core/common_runtime/bfc_allocator.cc:1017] Bin (524288): \tTotal Chunks: 0, Chunks in use: 0. 0B allocated for chunks. 0B in use in bin. 0B client-requested in use in bin.\n",
      "2022-04-21 15:55:49.813404: I tensorflow/core/common_runtime/bfc_allocator.cc:1017] Bin (1048576): \tTotal Chunks: 0, Chunks in use: 0. 0B allocated for chunks. 0B in use in bin. 0B client-requested in use in bin.\n",
      "2022-04-21 15:55:49.813414: I tensorflow/core/common_runtime/bfc_allocator.cc:1017] Bin (2097152): \tTotal Chunks: 0, Chunks in use: 0. 0B allocated for chunks. 0B in use in bin. 0B client-requested in use in bin.\n",
      "2022-04-21 15:55:49.813425: I tensorflow/core/common_runtime/bfc_allocator.cc:1017] Bin (4194304): \tTotal Chunks: 0, Chunks in use: 0. 0B allocated for chunks. 0B in use in bin. 0B client-requested in use in bin.\n",
      "2022-04-21 15:55:49.813439: I tensorflow/core/common_runtime/bfc_allocator.cc:1017] Bin (8388608): \tTotal Chunks: 1, Chunks in use: 1. 14.10MiB allocated for chunks. 14.10MiB in use in bin. 14.10MiB client-requested in use in bin.\n",
      "2022-04-21 15:55:49.813450: I tensorflow/core/common_runtime/bfc_allocator.cc:1017] Bin (16777216): \tTotal Chunks: 0, Chunks in use: 0. 0B allocated for chunks. 0B in use in bin. 0B client-requested in use in bin.\n",
      "2022-04-21 15:55:49.813461: I tensorflow/core/common_runtime/bfc_allocator.cc:1017] Bin (33554432): \tTotal Chunks: 0, Chunks in use: 0. 0B allocated for chunks. 0B in use in bin. 0B client-requested in use in bin.\n",
      "2022-04-21 15:55:49.813472: I tensorflow/core/common_runtime/bfc_allocator.cc:1017] Bin (67108864): \tTotal Chunks: 0, Chunks in use: 0. 0B allocated for chunks. 0B in use in bin. 0B client-requested in use in bin.\n",
      "2022-04-21 15:55:49.813492: I tensorflow/core/common_runtime/bfc_allocator.cc:1017] Bin (134217728): \tTotal Chunks: 1, Chunks in use: 1. 219.58MiB allocated for chunks. 219.58MiB in use in bin. 177.79MiB client-requested in use in bin.\n",
      "2022-04-21 15:55:49.813503: I tensorflow/core/common_runtime/bfc_allocator.cc:1017] Bin (268435456): \tTotal Chunks: 0, Chunks in use: 0. 0B allocated for chunks. 0B in use in bin. 0B client-requested in use in bin.\n",
      "2022-04-21 15:55:49.813517: I tensorflow/core/common_runtime/bfc_allocator.cc:1033] Bin for 471.2KiB was 256.0KiB, Chunk State: \n",
      "2022-04-21 15:55:49.813545: I tensorflow/core/common_runtime/bfc_allocator.cc:1039]   Size: 450.5KiB | Requested Size: 0B | in_use: 0 | bin_num: 10, prev:   Size: 117.2KiB | Requested Size: 117.2KiB | in_use: 1 | bin_num: -1, next:   Size: 219.58MiB | Requested Size: 177.79MiB | in_use: 1 | bin_num: -1\n",
      "2022-04-21 15:55:49.813555: I tensorflow/core/common_runtime/bfc_allocator.cc:1046] Next region of size 249364480\n",
      "2022-04-21 15:55:49.813569: I tensorflow/core/common_runtime/bfc_allocator.cc:1066] InUse at 7ef9f8000000 of size 256 next 1\n",
      "2022-04-21 15:55:49.813578: I tensorflow/core/common_runtime/bfc_allocator.cc:1066] InUse at 7ef9f8000100 of size 1280 next 2\n",
      "2022-04-21 15:55:49.813587: I tensorflow/core/common_runtime/bfc_allocator.cc:1066] InUse at 7ef9f8000600 of size 256 next 3\n",
      "2022-04-21 15:55:49.813595: I tensorflow/core/common_runtime/bfc_allocator.cc:1066] InUse at 7ef9f8000700 of size 256 next 4\n",
      "2022-04-21 15:55:49.813604: I tensorflow/core/common_runtime/bfc_allocator.cc:1066] InUse at 7ef9f8000800 of size 14782976 next 5\n",
      "2022-04-21 15:55:49.813613: I tensorflow/core/common_runtime/bfc_allocator.cc:1066] InUse at 7ef9f8e19a00 of size 256 next 7\n",
      "2022-04-21 15:55:49.813621: I tensorflow/core/common_runtime/bfc_allocator.cc:1066] InUse at 7ef9f8e19b00 of size 256 next 8\n",
      "2022-04-21 15:55:49.813630: I tensorflow/core/common_runtime/bfc_allocator.cc:1066] InUse at 7ef9f8e19c00 of size 256 next 6\n",
      "2022-04-21 15:55:49.813638: I tensorflow/core/common_runtime/bfc_allocator.cc:1066] InUse at 7ef9f8e19d00 of size 256 next 9\n",
      "2022-04-21 15:55:49.813647: I tensorflow/core/common_runtime/bfc_allocator.cc:1066] InUse at 7ef9f8e19e00 of size 30208 next 29\n",
      "2022-04-21 15:55:49.813656: I tensorflow/core/common_runtime/bfc_allocator.cc:1066] InUse at 7ef9f8e21400 of size 1280 next 24\n",
      "2022-04-21 15:55:49.813665: I tensorflow/core/common_runtime/bfc_allocator.cc:1066] InUse at 7ef9f8e21900 of size 256 next 27\n",
      "2022-04-21 15:55:49.813673: I tensorflow/core/common_runtime/bfc_allocator.cc:1066] InUse at 7ef9f8e21a00 of size 256 next 26\n",
      "2022-04-21 15:55:49.813682: I tensorflow/core/common_runtime/bfc_allocator.cc:1066] InUse at 7ef9f8e21b00 of size 30464 next 30\n",
      "2022-04-21 15:55:49.813691: I tensorflow/core/common_runtime/bfc_allocator.cc:1066] InUse at 7ef9f8e29200 of size 57856 next 19\n",
      "2022-04-21 15:55:49.813700: I tensorflow/core/common_runtime/bfc_allocator.cc:1066] InUse at 7ef9f8e37400 of size 239872 next 14\n",
      "2022-04-21 15:55:49.813710: I tensorflow/core/common_runtime/bfc_allocator.cc:1066] InUse at 7ef9f8e71d00 of size 120064 next 17\n",
      "2022-04-21 15:55:49.813719: I tensorflow/core/common_runtime/bfc_allocator.cc:1066] InUse at 7ef9f8e8f200 of size 256 next 12\n",
      "2022-04-21 15:55:49.813727: I tensorflow/core/common_runtime/bfc_allocator.cc:1066] InUse at 7ef9f8e8f300 of size 2560 next 15\n",
      "2022-04-21 15:55:49.813736: I tensorflow/core/common_runtime/bfc_allocator.cc:1066] InUse at 7ef9f8e8fd00 of size 256 next 13\n",
      "2022-04-21 15:55:49.813744: I tensorflow/core/common_runtime/bfc_allocator.cc:1066] InUse at 7ef9f8e8fe00 of size 256 next 16\n",
      "2022-04-21 15:55:49.813753: I tensorflow/core/common_runtime/bfc_allocator.cc:1066] InUse at 7ef9f8e8ff00 of size 60160 next 25\n",
      "2022-04-21 15:55:49.813762: I tensorflow/core/common_runtime/bfc_allocator.cc:1066] InUse at 7ef9f8e9ea00 of size 1280 next 33\n",
      "2022-04-21 15:55:49.813772: I tensorflow/core/common_runtime/bfc_allocator.cc:1066] InUse at 7ef9f8e9ef00 of size 256 next 35\n",
      "2022-04-21 15:55:49.813781: I tensorflow/core/common_runtime/bfc_allocator.cc:1066] InUse at 7ef9f8e9f000 of size 256 next 36\n",
      "2022-04-21 15:55:49.813790: I tensorflow/core/common_runtime/bfc_allocator.cc:1066] InUse at 7ef9f8e9f100 of size 256 next 38\n",
      "2022-04-21 15:55:49.813799: I tensorflow/core/common_runtime/bfc_allocator.cc:1066] InUse at 7ef9f8e9f200 of size 256 next 39\n",
      "2022-04-21 15:55:49.813807: I tensorflow/core/common_runtime/bfc_allocator.cc:1066] InUse at 7ef9f8e9f300 of size 256 next 42\n",
      "2022-04-21 15:55:49.813816: I tensorflow/core/common_runtime/bfc_allocator.cc:1066] InUse at 7ef9f8e9f400 of size 256 next 43\n",
      "2022-04-21 15:55:49.813824: I tensorflow/core/common_runtime/bfc_allocator.cc:1066] InUse at 7ef9f8e9f500 of size 256 next 40\n",
      "2022-04-21 15:55:49.813833: I tensorflow/core/common_runtime/bfc_allocator.cc:1066] InUse at 7ef9f8e9f600 of size 512 next 41\n",
      "2022-04-21 15:55:49.813856: I tensorflow/core/common_runtime/bfc_allocator.cc:1066] InUse at 7ef9f8e9f800 of size 256 next 44\n",
      "2022-04-21 15:55:49.813865: I tensorflow/core/common_runtime/bfc_allocator.cc:1066] InUse at 7ef9f8e9f900 of size 256 next 45\n",
      "2022-04-21 15:55:49.813874: I tensorflow/core/common_runtime/bfc_allocator.cc:1066] InUse at 7ef9f8e9fa00 of size 256 next 46\n",
      "2022-04-21 15:55:49.813883: I tensorflow/core/common_runtime/bfc_allocator.cc:1066] InUse at 7ef9f8e9fb00 of size 256 next 107\n",
      "2022-04-21 15:55:49.813891: I tensorflow/core/common_runtime/bfc_allocator.cc:1066] InUse at 7ef9f8e9fc00 of size 256 next 155\n",
      "2022-04-21 15:55:49.813899: I tensorflow/core/common_runtime/bfc_allocator.cc:1066] InUse at 7ef9f8e9fd00 of size 256 next 147\n",
      "2022-04-21 15:55:49.813908: I tensorflow/core/common_runtime/bfc_allocator.cc:1066] InUse at 7ef9f8e9fe00 of size 256 next 144\n",
      "2022-04-21 15:55:49.813916: I tensorflow/core/common_runtime/bfc_allocator.cc:1066] Free  at 7ef9f8e9ff00 of size 256 next 140\n",
      "2022-04-21 15:55:49.813925: I tensorflow/core/common_runtime/bfc_allocator.cc:1066] InUse at 7ef9f8ea0000 of size 256 next 149\n",
      "2022-04-21 15:55:49.813933: I tensorflow/core/common_runtime/bfc_allocator.cc:1066] InUse at 7ef9f8ea0100 of size 512 next 146\n",
      "2022-04-21 15:55:49.813942: I tensorflow/core/common_runtime/bfc_allocator.cc:1066] InUse at 7ef9f8ea0300 of size 512 next 148\n",
      "2022-04-21 15:55:49.813951: I tensorflow/core/common_runtime/bfc_allocator.cc:1066] InUse at 7ef9f8ea0500 of size 512 next 156\n",
      "2022-04-21 15:55:49.813959: I tensorflow/core/common_runtime/bfc_allocator.cc:1066] InUse at 7ef9f8ea0700 of size 512 next 143\n",
      "2022-04-21 15:55:49.813968: I tensorflow/core/common_runtime/bfc_allocator.cc:1066] InUse at 7ef9f8ea0900 of size 512 next 157\n",
      "2022-04-21 15:55:49.813976: I tensorflow/core/common_runtime/bfc_allocator.cc:1066] InUse at 7ef9f8ea0b00 of size 512 next 158\n",
      "2022-04-21 15:55:49.813985: I tensorflow/core/common_runtime/bfc_allocator.cc:1066] Free  at 7ef9f8ea0d00 of size 2304 next 47\n",
      "2022-04-21 15:55:49.813993: I tensorflow/core/common_runtime/bfc_allocator.cc:1066] InUse at 7ef9f8ea1600 of size 256 next 48\n",
      "2022-04-21 15:55:49.814003: I tensorflow/core/common_runtime/bfc_allocator.cc:1066] InUse at 7ef9f8ea1700 of size 256 next 49\n",
      "2022-04-21 15:55:49.814011: I tensorflow/core/common_runtime/bfc_allocator.cc:1066] InUse at 7ef9f8ea1800 of size 256 next 50\n",
      "2022-04-21 15:55:49.814020: I tensorflow/core/common_runtime/bfc_allocator.cc:1066] InUse at 7ef9f8ea1900 of size 256 next 51\n",
      "2022-04-21 15:55:49.814028: I tensorflow/core/common_runtime/bfc_allocator.cc:1066] InUse at 7ef9f8ea1a00 of size 256 next 52\n",
      "2022-04-21 15:55:49.814037: I tensorflow/core/common_runtime/bfc_allocator.cc:1066] InUse at 7ef9f8ea1b00 of size 256 next 53\n",
      "2022-04-21 15:55:49.814045: I tensorflow/core/common_runtime/bfc_allocator.cc:1066] InUse at 7ef9f8ea1c00 of size 256 next 54\n",
      "2022-04-21 15:55:49.814054: I tensorflow/core/common_runtime/bfc_allocator.cc:1066] InUse at 7ef9f8ea1d00 of size 256 next 55\n",
      "2022-04-21 15:55:49.814063: I tensorflow/core/common_runtime/bfc_allocator.cc:1066] InUse at 7ef9f8ea1e00 of size 2560 next 58\n",
      "2022-04-21 15:55:49.814071: I tensorflow/core/common_runtime/bfc_allocator.cc:1066] InUse at 7ef9f8ea2800 of size 2560 next 61\n",
      "2022-04-21 15:55:49.814082: I tensorflow/core/common_runtime/bfc_allocator.cc:1066] InUse at 7ef9f8ea3200 of size 1280 next 62\n",
      "2022-04-21 15:55:49.814091: I tensorflow/core/common_runtime/bfc_allocator.cc:1066] InUse at 7ef9f8ea3700 of size 1280 next 64\n",
      "2022-04-21 15:55:49.814099: I tensorflow/core/common_runtime/bfc_allocator.cc:1066] InUse at 7ef9f8ea3c00 of size 1280 next 67\n",
      "2022-04-21 15:55:49.814108: I tensorflow/core/common_runtime/bfc_allocator.cc:1066] InUse at 7ef9f8ea4100 of size 512 next 68\n",
      "2022-04-21 15:55:49.814116: I tensorflow/core/common_runtime/bfc_allocator.cc:1066] InUse at 7ef9f8ea4300 of size 256 next 69\n",
      "2022-04-21 15:55:49.814125: I tensorflow/core/common_runtime/bfc_allocator.cc:1066] InUse at 7ef9f8ea4400 of size 2560 next 72\n",
      "2022-04-21 15:55:49.814134: I tensorflow/core/common_runtime/bfc_allocator.cc:1066] InUse at 7ef9f8ea4e00 of size 4608 next 32\n",
      "2022-04-21 15:55:49.814143: I tensorflow/core/common_runtime/bfc_allocator.cc:1066] InUse at 7ef9f8ea6000 of size 30208 next 37\n",
      "2022-04-21 15:55:49.814151: I tensorflow/core/common_runtime/bfc_allocator.cc:1066] InUse at 7ef9f8ead600 of size 115968 next 10\n",
      "2022-04-21 15:55:49.814160: I tensorflow/core/common_runtime/bfc_allocator.cc:1066] InUse at 7ef9f8ec9b00 of size 360192 next 11\n",
      "2022-04-21 15:55:49.814169: I tensorflow/core/common_runtime/bfc_allocator.cc:1066] InUse at 7ef9f8f21a00 of size 2560 next 20\n",
      "2022-04-21 15:55:49.814177: I tensorflow/core/common_runtime/bfc_allocator.cc:1066] InUse at 7ef9f8f22400 of size 256 next 21\n",
      "2022-04-21 15:55:49.814186: I tensorflow/core/common_runtime/bfc_allocator.cc:1066] InUse at 7ef9f8f22500 of size 256 next 22\n",
      "2022-04-21 15:55:49.814194: I tensorflow/core/common_runtime/bfc_allocator.cc:1066] InUse at 7ef9f8f22600 of size 30208 next 31\n",
      "2022-04-21 15:55:49.814203: I tensorflow/core/common_runtime/bfc_allocator.cc:1066] InUse at 7ef9f8f29c00 of size 30208 next 34\n",
      "2022-04-21 15:55:49.814212: I tensorflow/core/common_runtime/bfc_allocator.cc:1066] InUse at 7ef9f8f31200 of size 1280 next 28\n",
      "2022-04-21 15:55:49.814220: I tensorflow/core/common_runtime/bfc_allocator.cc:1066] InUse at 7ef9f8f31700 of size 55296 next 18\n",
      "2022-04-21 15:55:49.814229: I tensorflow/core/common_runtime/bfc_allocator.cc:1066] InUse at 7ef9f8f3ef00 of size 120064 next 23\n",
      "2022-04-21 15:55:49.814238: I tensorflow/core/common_runtime/bfc_allocator.cc:1066] InUse at 7ef9f8f5c400 of size 360192 next 56\n",
      "2022-04-21 15:55:49.814247: I tensorflow/core/common_runtime/bfc_allocator.cc:1066] InUse at 7ef9f8fb4300 of size 120064 next 57\n",
      "2022-04-21 15:55:49.814255: I tensorflow/core/common_runtime/bfc_allocator.cc:1066] InUse at 7ef9f8fd1800 of size 120064 next 59\n",
      "2022-04-21 15:55:49.814264: I tensorflow/core/common_runtime/bfc_allocator.cc:1066] InUse at 7ef9f8feed00 of size 120064 next 60\n",
      "2022-04-21 15:55:49.814273: I tensorflow/core/common_runtime/bfc_allocator.cc:1066] InUse at 7ef9f900c200 of size 30208 next 63\n",
      "2022-04-21 15:55:49.814281: I tensorflow/core/common_runtime/bfc_allocator.cc:1066] InUse at 7ef9f9013800 of size 30208 next 65\n",
      "2022-04-21 15:55:49.814289: I tensorflow/core/common_runtime/bfc_allocator.cc:1066] InUse at 7ef9f901ae00 of size 30208 next 66\n",
      "2022-04-21 15:55:49.814298: I tensorflow/core/common_runtime/bfc_allocator.cc:1066] InUse at 7ef9f9022400 of size 360192 next 70\n",
      "2022-04-21 15:55:49.814307: I tensorflow/core/common_runtime/bfc_allocator.cc:1066] InUse at 7ef9f907a300 of size 120064 next 71\n",
      "2022-04-21 15:55:49.814315: I tensorflow/core/common_runtime/bfc_allocator.cc:1066] InUse at 7ef9f9097800 of size 120064 next 73\n",
      "2022-04-21 15:55:49.814324: I tensorflow/core/common_runtime/bfc_allocator.cc:1066] InUse at 7ef9f90b4d00 of size 120064 next 74\n",
      "2022-04-21 15:55:49.814333: I tensorflow/core/common_runtime/bfc_allocator.cc:1066] InUse at 7ef9f90d2200 of size 60160 next 75\n",
      "2022-04-21 15:55:49.814341: I tensorflow/core/common_runtime/bfc_allocator.cc:1066] InUse at 7ef9f90e0d00 of size 30208 next 76\n",
      "2022-04-21 15:55:49.814350: I tensorflow/core/common_runtime/bfc_allocator.cc:1066] InUse at 7ef9f90e8300 of size 1280 next 77\n",
      "2022-04-21 15:55:49.814359: I tensorflow/core/common_runtime/bfc_allocator.cc:1066] InUse at 7ef9f90e8800 of size 30208 next 78\n",
      "2022-04-21 15:55:49.814368: I tensorflow/core/common_runtime/bfc_allocator.cc:1066] InUse at 7ef9f90efe00 of size 30208 next 79\n",
      "2022-04-21 15:55:49.814376: I tensorflow/core/common_runtime/bfc_allocator.cc:1066] InUse at 7ef9f90f7400 of size 1280 next 80\n",
      "2022-04-21 15:55:49.814385: I tensorflow/core/common_runtime/bfc_allocator.cc:1066] InUse at 7ef9f90f7900 of size 30208 next 81\n",
      "2022-04-21 15:55:49.814393: I tensorflow/core/common_runtime/bfc_allocator.cc:1066] InUse at 7ef9f90fef00 of size 30208 next 82\n",
      "2022-04-21 15:55:49.814402: I tensorflow/core/common_runtime/bfc_allocator.cc:1066] InUse at 7ef9f9106500 of size 1280 next 83\n",
      "2022-04-21 15:55:49.814411: I tensorflow/core/common_runtime/bfc_allocator.cc:1066] InUse at 7ef9f9106a00 of size 512 next 84\n",
      "2022-04-21 15:55:49.814420: I tensorflow/core/common_runtime/bfc_allocator.cc:1066] InUse at 7ef9f9106c00 of size 256 next 85\n",
      "2022-04-21 15:55:49.814428: I tensorflow/core/common_runtime/bfc_allocator.cc:1066] InUse at 7ef9f9106d00 of size 256 next 86\n",
      "2022-04-21 15:55:49.814437: I tensorflow/core/common_runtime/bfc_allocator.cc:1066] InUse at 7ef9f9106e00 of size 256 next 87\n",
      "2022-04-21 15:55:49.814445: I tensorflow/core/common_runtime/bfc_allocator.cc:1066] InUse at 7ef9f9106f00 of size 256 next 88\n",
      "2022-04-21 15:55:49.814454: I tensorflow/core/common_runtime/bfc_allocator.cc:1066] InUse at 7ef9f9107000 of size 256 next 89\n",
      "2022-04-21 15:55:49.814463: I tensorflow/core/common_runtime/bfc_allocator.cc:1066] InUse at 7ef9f9107100 of size 256 next 90\n",
      "2022-04-21 15:55:49.814471: I tensorflow/core/common_runtime/bfc_allocator.cc:1066] InUse at 7ef9f9107200 of size 256 next 91\n",
      "2022-04-21 15:55:49.814480: I tensorflow/core/common_runtime/bfc_allocator.cc:1066] InUse at 7ef9f9107300 of size 256 next 92\n",
      "2022-04-21 15:55:49.814489: I tensorflow/core/common_runtime/bfc_allocator.cc:1066] InUse at 7ef9f9107400 of size 256 next 93\n",
      "2022-04-21 15:55:49.814497: I tensorflow/core/common_runtime/bfc_allocator.cc:1066] InUse at 7ef9f9107500 of size 256 next 94\n",
      "2022-04-21 15:55:49.814506: I tensorflow/core/common_runtime/bfc_allocator.cc:1066] InUse at 7ef9f9107600 of size 256 next 95\n",
      "2022-04-21 15:55:49.814515: I tensorflow/core/common_runtime/bfc_allocator.cc:1066] InUse at 7ef9f9107700 of size 256 next 96\n",
      "2022-04-21 15:55:49.814524: I tensorflow/core/common_runtime/bfc_allocator.cc:1066] InUse at 7ef9f9107800 of size 256 next 97\n",
      "2022-04-21 15:55:49.814533: I tensorflow/core/common_runtime/bfc_allocator.cc:1066] InUse at 7ef9f9107900 of size 256 next 98\n",
      "2022-04-21 15:55:49.814541: I tensorflow/core/common_runtime/bfc_allocator.cc:1066] InUse at 7ef9f9107a00 of size 256 next 99\n",
      "2022-04-21 15:55:49.814550: I tensorflow/core/common_runtime/bfc_allocator.cc:1066] InUse at 7ef9f9107b00 of size 256 next 100\n",
      "2022-04-21 15:55:49.814559: I tensorflow/core/common_runtime/bfc_allocator.cc:1066] InUse at 7ef9f9107c00 of size 256 next 101\n",
      "2022-04-21 15:55:49.814568: I tensorflow/core/common_runtime/bfc_allocator.cc:1066] InUse at 7ef9f9107d00 of size 256 next 102\n",
      "2022-04-21 15:55:49.814577: I tensorflow/core/common_runtime/bfc_allocator.cc:1066] InUse at 7ef9f9107e00 of size 256 next 103\n",
      "2022-04-21 15:55:49.814585: I tensorflow/core/common_runtime/bfc_allocator.cc:1066] InUse at 7ef9f9107f00 of size 256 next 104\n",
      "2022-04-21 15:55:49.814594: I tensorflow/core/common_runtime/bfc_allocator.cc:1066] InUse at 7ef9f9108000 of size 256 next 105\n",
      "2022-04-21 15:55:49.814603: I tensorflow/core/common_runtime/bfc_allocator.cc:1066] InUse at 7ef9f9108100 of size 256 next 106\n",
      "2022-04-21 15:55:49.814612: I tensorflow/core/common_runtime/bfc_allocator.cc:1066] Free  at 7ef9f9108200 of size 7168 next 108\n",
      "2022-04-21 15:55:49.814623: I tensorflow/core/common_runtime/bfc_allocator.cc:1066] InUse at 7ef9f9109e00 of size 6912 next 116\n",
      "2022-04-21 15:55:49.814632: I tensorflow/core/common_runtime/bfc_allocator.cc:1066] InUse at 7ef9f910b900 of size 256 next 110\n",
      "2022-04-21 15:55:49.814640: I tensorflow/core/common_runtime/bfc_allocator.cc:1066] InUse at 7ef9f910ba00 of size 256 next 114\n",
      "2022-04-21 15:55:49.814649: I tensorflow/core/common_runtime/bfc_allocator.cc:1066] InUse at 7ef9f910bb00 of size 256 next 117\n",
      "2022-04-21 15:55:49.814658: I tensorflow/core/common_runtime/bfc_allocator.cc:1066] InUse at 7ef9f910bc00 of size 256 next 112\n",
      "2022-04-21 15:55:49.814667: I tensorflow/core/common_runtime/bfc_allocator.cc:1066] InUse at 7ef9f910bd00 of size 256 next 113\n",
      "2022-04-21 15:55:49.814675: I tensorflow/core/common_runtime/bfc_allocator.cc:1066] InUse at 7ef9f910be00 of size 256 next 109\n",
      "2022-04-21 15:55:49.814684: I tensorflow/core/common_runtime/bfc_allocator.cc:1066] InUse at 7ef9f910bf00 of size 256 next 129\n",
      "2022-04-21 15:55:49.814693: I tensorflow/core/common_runtime/bfc_allocator.cc:1066] InUse at 7ef9f910c000 of size 256 next 123\n",
      "2022-04-21 15:55:49.814702: I tensorflow/core/common_runtime/bfc_allocator.cc:1066] InUse at 7ef9f910c100 of size 256 next 131\n",
      "2022-04-21 15:55:49.814711: I tensorflow/core/common_runtime/bfc_allocator.cc:1066] InUse at 7ef9f910c200 of size 256 next 119\n",
      "2022-04-21 15:55:49.814719: I tensorflow/core/common_runtime/bfc_allocator.cc:1066] InUse at 7ef9f910c300 of size 256 next 118\n",
      "2022-04-21 15:55:49.814728: I tensorflow/core/common_runtime/bfc_allocator.cc:1066] InUse at 7ef9f910c400 of size 256 next 121\n",
      "2022-04-21 15:55:49.814737: I tensorflow/core/common_runtime/bfc_allocator.cc:1066] InUse at 7ef9f910c500 of size 256 next 122\n",
      "2022-04-21 15:55:49.814747: I tensorflow/core/common_runtime/bfc_allocator.cc:1066] InUse at 7ef9f910c600 of size 256 next 120\n",
      "2022-04-21 15:55:49.814755: I tensorflow/core/common_runtime/bfc_allocator.cc:1066] InUse at 7ef9f910c700 of size 256 next 124\n",
      "2022-04-21 15:55:49.814764: I tensorflow/core/common_runtime/bfc_allocator.cc:1066] InUse at 7ef9f910c800 of size 256 next 128\n",
      "2022-04-21 15:55:49.814772: I tensorflow/core/common_runtime/bfc_allocator.cc:1066] InUse at 7ef9f910c900 of size 256 next 126\n",
      "2022-04-21 15:55:49.814781: I tensorflow/core/common_runtime/bfc_allocator.cc:1066] InUse at 7ef9f910ca00 of size 256 next 127\n",
      "2022-04-21 15:55:49.814790: I tensorflow/core/common_runtime/bfc_allocator.cc:1066] InUse at 7ef9f910cb00 of size 256 next 125\n",
      "2022-04-21 15:55:49.814799: I tensorflow/core/common_runtime/bfc_allocator.cc:1066] InUse at 7ef9f910cc00 of size 256 next 132\n",
      "2022-04-21 15:55:49.814807: I tensorflow/core/common_runtime/bfc_allocator.cc:1066] InUse at 7ef9f910cd00 of size 256 next 138\n",
      "2022-04-21 15:55:49.814816: I tensorflow/core/common_runtime/bfc_allocator.cc:1066] InUse at 7ef9f910ce00 of size 256 next 139\n",
      "2022-04-21 15:55:49.814826: I tensorflow/core/common_runtime/bfc_allocator.cc:1066] InUse at 7ef9f910cf00 of size 256 next 134\n",
      "2022-04-21 15:55:49.814835: I tensorflow/core/common_runtime/bfc_allocator.cc:1066] InUse at 7ef9f910d000 of size 256 next 153\n",
      "2022-04-21 15:55:49.814843: I tensorflow/core/common_runtime/bfc_allocator.cc:1066] InUse at 7ef9f910d100 of size 256 next 133\n",
      "2022-04-21 15:55:49.814852: I tensorflow/core/common_runtime/bfc_allocator.cc:1066] InUse at 7ef9f910d200 of size 256 next 151\n",
      "2022-04-21 15:55:49.814861: I tensorflow/core/common_runtime/bfc_allocator.cc:1066] Free  at 7ef9f910d300 of size 12032 next 136\n",
      "2022-04-21 15:55:49.814870: I tensorflow/core/common_runtime/bfc_allocator.cc:1066] InUse at 7ef9f9110200 of size 256 next 137\n",
      "2022-04-21 15:55:49.814878: I tensorflow/core/common_runtime/bfc_allocator.cc:1066] InUse at 7ef9f9110300 of size 12800 next 130\n",
      "2022-04-21 15:55:49.814888: I tensorflow/core/common_runtime/bfc_allocator.cc:1066] InUse at 7ef9f9113500 of size 40192 next 141\n",
      "2022-04-21 15:55:49.814897: I tensorflow/core/common_runtime/bfc_allocator.cc:1066] InUse at 7ef9f911d200 of size 40192 next 154\n",
      "2022-04-21 15:55:49.814906: I tensorflow/core/common_runtime/bfc_allocator.cc:1066] InUse at 7ef9f9126f00 of size 160256 next 152\n",
      "2022-04-21 15:55:49.814916: I tensorflow/core/common_runtime/bfc_allocator.cc:1066] InUse at 7ef9f914e100 of size 120064 next 150\n",
      "2022-04-21 15:55:49.814924: I tensorflow/core/common_runtime/bfc_allocator.cc:1066] Free  at 7ef9f916b600 of size 228864 next 115\n",
      "2022-04-21 15:55:49.814933: I tensorflow/core/common_runtime/bfc_allocator.cc:1066] InUse at 7ef9f91a3400 of size 256 next 111\n",
      "2022-04-21 15:55:49.814943: I tensorflow/core/common_runtime/bfc_allocator.cc:1066] InUse at 7ef9f91a3500 of size 40192 next 145\n",
      "2022-04-21 15:55:49.814952: I tensorflow/core/common_runtime/bfc_allocator.cc:1066] InUse at 7ef9f91ad200 of size 120064 next 159\n",
      "2022-04-21 15:55:49.814960: I tensorflow/core/common_runtime/bfc_allocator.cc:1066] Free  at 7ef9f91ca700 of size 461312 next 142\n",
      "2022-04-21 15:55:49.814972: I tensorflow/core/common_runtime/bfc_allocator.cc:1066] InUse at 7ef9f923b100 of size 230248192 next 18446744073709551615\n",
      "2022-04-21 15:55:49.814981: I tensorflow/core/common_runtime/bfc_allocator.cc:1071]      Summary of in-use Chunks by size: \n",
      "2022-04-21 15:55:49.814993: I tensorflow/core/common_runtime/bfc_allocator.cc:1074] 88 Chunks of size 256 totalling 22.0KiB\n",
      "2022-04-21 15:55:49.815004: I tensorflow/core/common_runtime/bfc_allocator.cc:1074] 9 Chunks of size 512 totalling 4.5KiB\n",
      "2022-04-21 15:55:49.815015: I tensorflow/core/common_runtime/bfc_allocator.cc:1074] 10 Chunks of size 1280 totalling 12.5KiB\n",
      "2022-04-21 15:55:49.815026: I tensorflow/core/common_runtime/bfc_allocator.cc:1074] 5 Chunks of size 2560 totalling 12.5KiB\n",
      "2022-04-21 15:55:49.815036: I tensorflow/core/common_runtime/bfc_allocator.cc:1074] 1 Chunks of size 4608 totalling 4.5KiB\n",
      "2022-04-21 15:55:49.815046: I tensorflow/core/common_runtime/bfc_allocator.cc:1074] 1 Chunks of size 6912 totalling 6.8KiB\n",
      "2022-04-21 15:55:49.815056: I tensorflow/core/common_runtime/bfc_allocator.cc:1074] 1 Chunks of size 12800 totalling 12.5KiB\n",
      "2022-04-21 15:55:49.815067: I tensorflow/core/common_runtime/bfc_allocator.cc:1074] 12 Chunks of size 30208 totalling 354.0KiB\n",
      "2022-04-21 15:55:49.815078: I tensorflow/core/common_runtime/bfc_allocator.cc:1074] 1 Chunks of size 30464 totalling 29.8KiB\n",
      "2022-04-21 15:55:49.815089: I tensorflow/core/common_runtime/bfc_allocator.cc:1074] 3 Chunks of size 40192 totalling 117.8KiB\n",
      "2022-04-21 15:55:49.815099: I tensorflow/core/common_runtime/bfc_allocator.cc:1074] 1 Chunks of size 55296 totalling 54.0KiB\n",
      "2022-04-21 15:55:49.815110: I tensorflow/core/common_runtime/bfc_allocator.cc:1074] 1 Chunks of size 57856 totalling 56.5KiB\n",
      "2022-04-21 15:55:49.815120: I tensorflow/core/common_runtime/bfc_allocator.cc:1074] 2 Chunks of size 60160 totalling 117.5KiB\n",
      "2022-04-21 15:55:49.815131: I tensorflow/core/common_runtime/bfc_allocator.cc:1074] 1 Chunks of size 115968 totalling 113.2KiB\n",
      "2022-04-21 15:55:49.815141: I tensorflow/core/common_runtime/bfc_allocator.cc:1074] 10 Chunks of size 120064 totalling 1.14MiB\n",
      "2022-04-21 15:55:49.815152: I tensorflow/core/common_runtime/bfc_allocator.cc:1074] 1 Chunks of size 160256 totalling 156.5KiB\n",
      "2022-04-21 15:55:49.815163: I tensorflow/core/common_runtime/bfc_allocator.cc:1074] 1 Chunks of size 239872 totalling 234.2KiB\n",
      "2022-04-21 15:55:49.815173: I tensorflow/core/common_runtime/bfc_allocator.cc:1074] 3 Chunks of size 360192 totalling 1.03MiB\n",
      "2022-04-21 15:55:49.815184: I tensorflow/core/common_runtime/bfc_allocator.cc:1074] 1 Chunks of size 14782976 totalling 14.10MiB\n",
      "2022-04-21 15:55:49.815195: I tensorflow/core/common_runtime/bfc_allocator.cc:1074] 1 Chunks of size 230248192 totalling 219.58MiB\n",
      "2022-04-21 15:55:49.815205: I tensorflow/core/common_runtime/bfc_allocator.cc:1078] Sum Total of in-use chunks: 237.13MiB\n",
      "2022-04-21 15:55:49.815215: I tensorflow/core/common_runtime/bfc_allocator.cc:1080] total_region_allocated_bytes_: 249364480 memory_limit_: 249364480 available bytes: 0 curr_region_allocation_bytes_: 498728960\n",
      "2022-04-21 15:55:49.815233: I tensorflow/core/common_runtime/bfc_allocator.cc:1086] Stats: \n",
      "Limit:                       249364480\n",
      "InUse:                       248652544\n",
      "MaxInUse:                    249353216\n",
      "NumAllocs:                        9539\n",
      "MaxAllocSize:                230869760\n",
      "Reserved:                            0\n",
      "PeakReserved:                        0\n",
      "LargestFreeBlock:                    0\n",
      "\n",
      "2022-04-21 15:55:49.815264: W tensorflow/core/common_runtime/bfc_allocator.cc:474] ***********************************************************************************xxxxxxxxxxxxxxxxx\n",
      "2022-04-21 15:55:49.815341: W tensorflow/core/framework/op_kernel.cc:1745] OP_REQUIRES failed at concat_op.cc:159 : RESOURCE_EXHAUSTED: OOM when allocating tensor with shape[120600] and type float on /job:localhost/replica:0/task:0/device:GPU:0 by allocator GPU_0_bfc\n"
     ]
    },
    {
     "ename": "ResourceExhaustedError",
     "evalue": "Graph execution error:\n\nOOM when allocating tensor with shape[4855,32,300] and type float on /job:localhost/replica:0/task:0/device:GPU:0 by allocator GPU_0_bfc\n\t [[{{node transpose}}]]\nHint: If you want to see a list of allocated tensors when OOM happens, add report_tensor_allocations_upon_oom to RunOptions for current allocation info. This isn't available when running in Eager mode.\n\n\t [[sequential/gru/PartitionedCall]]\nHint: If you want to see a list of allocated tensors when OOM happens, add report_tensor_allocations_upon_oom to RunOptions for current allocation info. This isn't available when running in Eager mode.\n [Op:__inference_predict_function_23699]",
     "output_type": "error",
     "traceback": [
      "\u001B[0;31m---------------------------------------------------------------------------\u001B[0m",
      "\u001B[0;31mResourceExhaustedError\u001B[0m                    Traceback (most recent call last)",
      "Input \u001B[0;32mIn [50]\u001B[0m, in \u001B[0;36m<cell line: 4>\u001B[0;34m()\u001B[0m\n\u001B[1;32m      1\u001B[0m \u001B[38;5;28mprint\u001B[39m(\u001B[38;5;124m\"\u001B[39m\u001B[38;5;130;01m\\n\u001B[39;00m\u001B[38;5;124m\"\u001B[39m)\n\u001B[1;32m      2\u001B[0m \u001B[38;5;66;03m#######################for testing####################\u001B[39;00m\n\u001B[0;32m----> 4\u001B[0m yhat_probs \u001B[38;5;241m=\u001B[39m \u001B[43mmodel\u001B[49m\u001B[38;5;241;43m.\u001B[39;49m\u001B[43mpredict\u001B[49m\u001B[43m(\u001B[49m\u001B[43mtestX_data\u001B[49m\u001B[43m,\u001B[49m\u001B[43m \u001B[49m\u001B[43mverbose\u001B[49m\u001B[38;5;241;43m=\u001B[39;49m\u001B[38;5;241;43m1\u001B[39;49m\u001B[43m)\u001B[49m\n\u001B[1;32m      5\u001B[0m \u001B[38;5;66;03m# predict crisp classes for test set\u001B[39;00m\n\u001B[1;32m      6\u001B[0m yhat_classes \u001B[38;5;241m=\u001B[39m model\u001B[38;5;241m.\u001B[39mpredict_classes(testX_data, verbose\u001B[38;5;241m=\u001B[39m\u001B[38;5;241m1\u001B[39m)\n",
      "File \u001B[0;32m/home/phenomx/anaconda3/envs/vishing/lib/python3.10/site-packages/keras/utils/traceback_utils.py:67\u001B[0m, in \u001B[0;36mfilter_traceback.<locals>.error_handler\u001B[0;34m(*args, **kwargs)\u001B[0m\n\u001B[1;32m     65\u001B[0m \u001B[38;5;28;01mexcept\u001B[39;00m \u001B[38;5;167;01mException\u001B[39;00m \u001B[38;5;28;01mas\u001B[39;00m e:  \u001B[38;5;66;03m# pylint: disable=broad-except\u001B[39;00m\n\u001B[1;32m     66\u001B[0m   filtered_tb \u001B[38;5;241m=\u001B[39m _process_traceback_frames(e\u001B[38;5;241m.\u001B[39m__traceback__)\n\u001B[0;32m---> 67\u001B[0m   \u001B[38;5;28;01mraise\u001B[39;00m e\u001B[38;5;241m.\u001B[39mwith_traceback(filtered_tb) \u001B[38;5;28;01mfrom\u001B[39;00m \u001B[38;5;28mNone\u001B[39m\n\u001B[1;32m     68\u001B[0m \u001B[38;5;28;01mfinally\u001B[39;00m:\n\u001B[1;32m     69\u001B[0m   \u001B[38;5;28;01mdel\u001B[39;00m filtered_tb\n",
      "File \u001B[0;32m/home/phenomx/anaconda3/envs/vishing/lib/python3.10/site-packages/tensorflow/python/eager/execute.py:54\u001B[0m, in \u001B[0;36mquick_execute\u001B[0;34m(op_name, num_outputs, inputs, attrs, ctx, name)\u001B[0m\n\u001B[1;32m     52\u001B[0m \u001B[38;5;28;01mtry\u001B[39;00m:\n\u001B[1;32m     53\u001B[0m   ctx\u001B[38;5;241m.\u001B[39mensure_initialized()\n\u001B[0;32m---> 54\u001B[0m   tensors \u001B[38;5;241m=\u001B[39m pywrap_tfe\u001B[38;5;241m.\u001B[39mTFE_Py_Execute(ctx\u001B[38;5;241m.\u001B[39m_handle, device_name, op_name,\n\u001B[1;32m     55\u001B[0m                                       inputs, attrs, num_outputs)\n\u001B[1;32m     56\u001B[0m \u001B[38;5;28;01mexcept\u001B[39;00m core\u001B[38;5;241m.\u001B[39m_NotOkStatusException \u001B[38;5;28;01mas\u001B[39;00m e:\n\u001B[1;32m     57\u001B[0m   \u001B[38;5;28;01mif\u001B[39;00m name \u001B[38;5;129;01mis\u001B[39;00m \u001B[38;5;129;01mnot\u001B[39;00m \u001B[38;5;28;01mNone\u001B[39;00m:\n",
      "\u001B[0;31mResourceExhaustedError\u001B[0m: Graph execution error:\n\nOOM when allocating tensor with shape[4855,32,300] and type float on /job:localhost/replica:0/task:0/device:GPU:0 by allocator GPU_0_bfc\n\t [[{{node transpose}}]]\nHint: If you want to see a list of allocated tensors when OOM happens, add report_tensor_allocations_upon_oom to RunOptions for current allocation info. This isn't available when running in Eager mode.\n\n\t [[sequential/gru/PartitionedCall]]\nHint: If you want to see a list of allocated tensors when OOM happens, add report_tensor_allocations_upon_oom to RunOptions for current allocation info. This isn't available when running in Eager mode.\n [Op:__inference_predict_function_23699]"
     ]
    }
   ],
   "source": [
    "print(\"\\n\")\n",
    "#######################for testing####################\n",
    "\n",
    "yhat_probs = model.predict(testX_data, verbose=1)\n",
    "# predict crisp classes for test set\n",
    "yhat_classes = model.predict_classes(testX_data, verbose=1)\n",
    "\n",
    "\n",
    "# reduce to 1d array\n",
    "#yhat_probs = yhat_probs[:, 0]\n",
    "#yhat_classes = yhat_classes[:, 0]"
   ]
  },
  {
   "cell_type": "markdown",
   "metadata": {
    "id": "UAc5iW8E85iV",
    "pycharm": {
     "name": "#%% md\n"
    }
   },
   "source": [
    "# Metrics"
   ]
  },
  {
   "cell_type": "code",
   "execution_count": 49,
   "metadata": {
    "colab": {
     "base_uri": "https://localhost:8080/"
    },
    "executionInfo": {
     "elapsed": 425776,
     "status": "ok",
     "timestamp": 1605612599699,
     "user": {
      "displayName": "Milandu Keith Moussavou Boussougou",
      "photoUrl": "https://lh3.googleusercontent.com/a-/AOh14GicOgg14dMz58gOrg69qKXXZuY5LIxdkzh1yMn5KNg=s64",
      "userId": "16125998280788005643"
     },
     "user_tz": -540
    },
    "id": "KyeMLhhy839N",
    "outputId": "35950521-8212-49c7-e86d-17fa22428e01",
    "pycharm": {
     "name": "#%%\n"
    }
   },
   "outputs": [
    {
     "ename": "NameError",
     "evalue": "name 'yhat_classes' is not defined",
     "output_type": "error",
     "traceback": [
      "\u001B[0;31m---------------------------------------------------------------------------\u001B[0m",
      "\u001B[0;31mNameError\u001B[0m                                 Traceback (most recent call last)",
      "Input \u001B[0;32mIn [49]\u001B[0m, in \u001B[0;36m<cell line: 2>\u001B[0;34m()\u001B[0m\n\u001B[1;32m      1\u001B[0m \u001B[38;5;66;03m# accuracy: (tp + tn) / (p + n)\u001B[39;00m\n\u001B[0;32m----> 2\u001B[0m accuracy \u001B[38;5;241m=\u001B[39m accuracy_score(Y_TEST, \u001B[43myhat_classes\u001B[49m)\n\u001B[1;32m      3\u001B[0m \u001B[38;5;28mprint\u001B[39m(\u001B[38;5;124m'\u001B[39m\u001B[38;5;124mTesting Accuracy: \u001B[39m\u001B[38;5;132;01m%f\u001B[39;00m\u001B[38;5;124m'\u001B[39m \u001B[38;5;241m%\u001B[39m accuracy)\n\u001B[1;32m      4\u001B[0m \u001B[38;5;66;03m# precision tp / (tp + fp)\u001B[39;00m\n",
      "\u001B[0;31mNameError\u001B[0m: name 'yhat_classes' is not defined"
     ]
    }
   ],
   "source": [
    "# accuracy: (tp + tn) / (p + n)\n",
    "accuracy = accuracy_score(Y_TEST, yhat_classes)\n",
    "print('Testing Accuracy: %f' % accuracy)\n",
    "# precision tp / (tp + fp)\n",
    "precision = precision_score(Y_TEST, yhat_classes,average='weighted')\n",
    "print('Testing Precision: %f' % precision)\n",
    "# recall: tp / (tp + fn)\n",
    "recall = recall_score(Y_TEST, yhat_classes,average='weighted')\n",
    "print('Testing Recall: %f' % recall)\n",
    "# f1: 2 tp / (2 tp + fp + fn)\n",
    "f1 = f1_score(Y_TEST, yhat_classes,average='weighted')\n",
    "print('Testing F1 score: %f' % f1)\n",
    "\n",
    "# Testing Accuracy: 0.953552\n",
    "# Testing Precision: 0.955182\n",
    "# Testing Recall: 0.953552\n",
    "# Testing F1 score: 0.953502"
   ]
  },
  {
   "cell_type": "code",
   "execution_count": null,
   "metadata": {
    "colab": {
     "base_uri": "https://localhost:8080/",
     "height": 80
    },
    "executionInfo": {
     "elapsed": 426039,
     "status": "ok",
     "timestamp": 1605612599965,
     "user": {
      "displayName": "Milandu Keith Moussavou Boussougou",
      "photoUrl": "https://lh3.googleusercontent.com/a-/AOh14GicOgg14dMz58gOrg69qKXXZuY5LIxdkzh1yMn5KNg=s64",
      "userId": "16125998280788005643"
     },
     "user_tz": -540
    },
    "id": "MSI6cupg888y",
    "outputId": "38ec9e20-3d36-42af-d78f-3d4315e812ac",
    "pycharm": {
     "name": "#%%\n"
    }
   },
   "outputs": [],
   "source": [
    "# Setting up our results dataframe\n",
    "df_results = pd.DataFrame(columns=['F1_score', 'Precision', 'Recall', 'Accuracy', 'Accuracy1', 'Training time'])\n",
    "\n",
    "# append the results\n",
    "df_results.loc['GRU'] = [f1, precision, recall, accuracy, accuracy, run_time]\n",
    "df_results\n",
    "\n",
    "# 0.953502\t0.955182\t0.953552\t0.953552\t0.953552\t260.102183"
   ]
  },
  {
   "cell_type": "markdown",
   "metadata": {
    "id": "3k1AJ1J1p5P2",
    "pycharm": {
     "name": "#%% md\n"
    }
   },
   "source": [
    "## Save performances result to SVC file\n"
   ]
  },
  {
   "cell_type": "code",
   "execution_count": null,
   "metadata": {
    "id": "_3zns6a1p_u6",
    "pycharm": {
     "name": "#%%\n"
    }
   },
   "outputs": [],
   "source": [
    "# save the training results\n",
    "df_results.to_csv('performances_GRU_algorithm.csv')"
   ]
  }
 ],
 "metadata": {
  "accelerator": "GPU",
  "colab": {
   "collapsed_sections": [
    "FVFBHmNy7PbX",
    "OGBZUSPb7Xsf",
    "BSJ1WFEF71yH",
    "nIxWrcZi9Qvv"
   ],
   "name": "GRU_FastText.ipynb",
   "provenance": []
  },
  "kernelspec": {
   "display_name": "vishing",
   "language": "python",
   "name": "vishing"
  },
  "language_info": {
   "codemirror_mode": {
    "name": "ipython",
    "version": 3
   },
   "file_extension": ".py",
   "mimetype": "text/x-python",
   "name": "python",
   "nbconvert_exporter": "python",
   "pygments_lexer": "ipython3",
   "version": "3.10.4"
  }
 },
 "nbformat": 4,
 "nbformat_minor": 4
}