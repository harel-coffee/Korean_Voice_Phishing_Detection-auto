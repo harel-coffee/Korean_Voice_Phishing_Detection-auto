{
 "cells": [
  {
   "cell_type": "markdown",
   "metadata": {
    "id": "LXmNhcPAsPcP",
    "pycharm": {
     "name": "#%% md\n"
    }
   },
   "source": [
    "#Check the devices available"
   ]
  },
  {
   "cell_type": "code",
   "execution_count": 1,
   "metadata": {
    "colab": {
     "base_uri": "https://localhost:8080/"
    },
    "executionInfo": {
     "elapsed": 9,
     "status": "ok",
     "timestamp": 1650047828994,
     "user": {
      "displayName": "Milandu Keith Moussavou Boussougou",
      "userId": "16125998280788005643"
     },
     "user_tz": -540
    },
    "id": "JjThzDiG8dS2",
    "outputId": "21dcef03-d7ca-4ac0-fd3c-7f3adfaaf4b0",
    "pycharm": {
     "name": "#%%\n"
    }
   },
   "outputs": [],
   "source": [
    "# !free -h"
   ]
  },
  {
   "cell_type": "code",
   "execution_count": 2,
   "metadata": {
    "colab": {
     "base_uri": "https://localhost:8080/"
    },
    "executionInfo": {
     "elapsed": 315,
     "status": "ok",
     "timestamp": 1650047829306,
     "user": {
      "displayName": "Milandu Keith Moussavou Boussougou",
      "userId": "16125998280788005643"
     },
     "user_tz": -540
    },
    "id": "7Nz5LCtwsGfr",
    "outputId": "a664af7f-9de1-4ae1-d76e-7e567ae9f0ad",
    "pycharm": {
     "name": "#%%\n"
    }
   },
   "outputs": [],
   "source": [
    "# !cat /proc/meminfo"
   ]
  },
  {
   "cell_type": "code",
   "execution_count": 3,
   "metadata": {
    "colab": {
     "base_uri": "https://localhost:8080/"
    },
    "executionInfo": {
     "elapsed": 20,
     "status": "ok",
     "timestamp": 1650047829307,
     "user": {
      "displayName": "Milandu Keith Moussavou Boussougou",
      "userId": "16125998280788005643"
     },
     "user_tz": -540
    },
    "id": "jXVAOF_csKbe",
    "outputId": "769c92ea-b5f0-4d19-e9ae-2958000a18e9",
    "pycharm": {
     "name": "#%%\n"
    }
   },
   "outputs": [],
   "source": [
    "# !cat /proc/cpuinfo"
   ]
  },
  {
   "cell_type": "code",
   "execution_count": 4,
   "metadata": {
    "colab": {
     "base_uri": "https://localhost:8080/"
    },
    "executionInfo": {
     "elapsed": 451,
     "status": "ok",
     "timestamp": 1650047829747,
     "user": {
      "displayName": "Milandu Keith Moussavou Boussougou",
      "userId": "16125998280788005643"
     },
     "user_tz": -540
    },
    "id": "rras1WgS7uLX",
    "outputId": "24b2dfed-be6d-488c-fe59-28dc6f8b7294",
    "pycharm": {
     "name": "#%%\n"
    }
   },
   "outputs": [],
   "source": [
    "# !lscpu |grep 'Model name'"
   ]
  },
  {
   "cell_type": "code",
   "execution_count": 5,
   "metadata": {
    "colab": {
     "base_uri": "https://localhost:8080/"
    },
    "executionInfo": {
     "elapsed": 17,
     "status": "ok",
     "timestamp": 1650047829748,
     "user": {
      "displayName": "Milandu Keith Moussavou Boussougou",
      "userId": "16125998280788005643"
     },
     "user_tz": -540
    },
    "id": "Ynfao0xx9FPb",
    "outputId": "d57062c5-cd23-45b3-a822-cfa18d4f7274",
    "pycharm": {
     "name": "#%%\n"
    }
   },
   "outputs": [],
   "source": [
    "# !lscpu | grep 'Core(s) per socket:'"
   ]
  },
  {
   "cell_type": "code",
   "execution_count": 6,
   "metadata": {
    "colab": {
     "base_uri": "https://localhost:8080/"
    },
    "executionInfo": {
     "elapsed": 11,
     "status": "ok",
     "timestamp": 1650047829749,
     "user": {
      "displayName": "Milandu Keith Moussavou Boussougou",
      "userId": "16125998280788005643"
     },
     "user_tz": -540
    },
    "id": "n6XKKFYju7eI",
    "outputId": "59e6d0fe-e8b5-48df-fff1-5b4b79aec18c",
    "pycharm": {
     "name": "#%%\n"
    }
   },
   "outputs": [],
   "source": [
    "# !nvidia-smi"
   ]
  },
  {
   "cell_type": "code",
   "execution_count": 7,
   "metadata": {
    "colab": {
     "base_uri": "https://localhost:8080/"
    },
    "executionInfo": {
     "elapsed": 3838,
     "status": "ok",
     "timestamp": 1650047833581,
     "user": {
      "displayName": "Milandu Keith Moussavou Boussougou",
      "userId": "16125998280788005643"
     },
     "user_tz": -540
    },
    "id": "csKdj6TEQEnT",
    "outputId": "7aa0c0e6-9605-45a7-f3ca-549b9d92ed11",
    "pycharm": {
     "name": "#%%\n"
    }
   },
   "outputs": [],
   "source": [
    "# import tensorflow as tf\n",
    "# tf.config.list_physical_devices()"
   ]
  },
  {
   "cell_type": "code",
   "execution_count": 8,
   "metadata": {
    "colab": {
     "base_uri": "https://localhost:8080/"
    },
    "executionInfo": {
     "elapsed": 3120,
     "status": "ok",
     "timestamp": 1650047836698,
     "user": {
      "displayName": "Milandu Keith Moussavou Boussougou",
      "userId": "16125998280788005643"
     },
     "user_tz": -540
    },
    "id": "7pkOk2G4rw20",
    "outputId": "d4ddc7b6-2ad9-4ee7-afc0-56f04bd132ec",
    "pycharm": {
     "name": "#%%\n"
    }
   },
   "outputs": [],
   "source": [
    "# from tensorflow.python.client import device_lib\n",
    "# device_lib.list_local_devices()"
   ]
  },
  {
   "cell_type": "code",
   "execution_count": 9,
   "metadata": {
    "colab": {
     "base_uri": "https://localhost:8080/",
     "height": 35
    },
    "executionInfo": {
     "elapsed": 19,
     "status": "ok",
     "timestamp": 1650047836699,
     "user": {
      "displayName": "Milandu Keith Moussavou Boussougou",
      "userId": "16125998280788005643"
     },
     "user_tz": -540
    },
    "id": "NYo9fAXor0LU",
    "outputId": "09ca05b5-24ce-4c5b-8768-ff92c909fbe4",
    "pycharm": {
     "name": "#%%\n"
    }
   },
   "outputs": [],
   "source": [
    "# import tensorflow as tf\n",
    "# tf.test.gpu_device_name()"
   ]
  },
  {
   "cell_type": "markdown",
   "metadata": {
    "id": "xIQs4vxqwTCM",
    "pycharm": {
     "name": "#%% md\n"
    }
   },
   "source": [
    "#Connect to google drive"
   ]
  },
  {
   "cell_type": "code",
   "execution_count": 10,
   "metadata": {
    "colab": {
     "base_uri": "https://localhost:8080/"
    },
    "executionInfo": {
     "elapsed": 49169,
     "status": "ok",
     "timestamp": 1650047885852,
     "user": {
      "displayName": "Milandu Keith Moussavou Boussougou",
      "userId": "16125998280788005643"
     },
     "user_tz": -540
    },
    "id": "ScqQ4S7ThcMS",
    "outputId": "be559522-249c-4544-9ab5-d656a289117a",
    "pycharm": {
     "name": "#%%\n"
    }
   },
   "outputs": [],
   "source": [
    "# from google.colab import drive\n",
    "# drive.mount('drive')"
   ]
  },
  {
   "cell_type": "code",
   "execution_count": 11,
   "metadata": {
    "colab": {
     "base_uri": "https://localhost:8080/"
    },
    "executionInfo": {
     "elapsed": 1333,
     "status": "ok",
     "timestamp": 1650047887181,
     "user": {
      "displayName": "Milandu Keith Moussavou Boussougou",
      "userId": "16125998280788005643"
     },
     "user_tz": -540
    },
    "id": "zZESESLVhf2N",
    "outputId": "550ff595-2476-434d-d821-36922fbafa5d",
    "pycharm": {
     "name": "#%%\n"
    }
   },
   "outputs": [],
   "source": [
    "# cd drive/My\\ Drive/Colab\\ Notebooks/voice_phishing/DL"
   ]
  },
  {
   "cell_type": "code",
   "execution_count": 12,
   "metadata": {
    "executionInfo": {
     "elapsed": 7,
     "status": "ok",
     "timestamp": 1650047887182,
     "user": {
      "displayName": "Milandu Keith Moussavou Boussougou",
      "userId": "16125998280788005643"
     },
     "user_tz": -540
    },
    "id": "Ir6raaMyty5p",
    "pycharm": {
     "name": "#%%\n"
    }
   },
   "outputs": [],
   "source": [
    "# if using local jupyter notebook and not colab\n",
    "# cd Google Drive/Colab Notebooks/voice_phishing/DL"
   ]
  },
  {
   "cell_type": "code",
   "execution_count": 13,
   "metadata": {
    "executionInfo": {
     "elapsed": 6,
     "status": "ok",
     "timestamp": 1650047887182,
     "user": {
      "displayName": "Milandu Keith Moussavou Boussougou",
      "userId": "16125998280788005643"
     },
     "user_tz": -540
    },
    "id": "fvQF6n_MTmWU",
    "pycharm": {
     "name": "#%%\n"
    }
   },
   "outputs": [],
   "source": [
    "# %pwd"
   ]
  },
  {
   "cell_type": "markdown",
   "metadata": {
    "id": "SaJuO8KQiBbB",
    "pycharm": {
     "name": "#%% md\n"
    }
   },
   "source": [
    "# Import library"
   ]
  },
  {
   "cell_type": "code",
   "execution_count": 14,
   "metadata": {
    "executionInfo": {
     "elapsed": 1524,
     "status": "ok",
     "timestamp": 1650047888701,
     "user": {
      "displayName": "Milandu Keith Moussavou Boussougou",
      "userId": "16125998280788005643"
     },
     "user_tz": -540
    },
    "id": "wJWGvzLaj3Y7",
    "pycharm": {
     "name": "#%%\n"
    }
   },
   "outputs": [],
   "source": [
    "from keras.preprocessing.text import Tokenizer\n",
    "# from keras.utils import to_categorical\n",
    "# from keras.models import Sequential\n",
    "# from keras.layers import Dense, GRU\n",
    "# from keras.layers import Dropout\n",
    "# from keras.layers import LSTM\n",
    "# from keras.callbacks import ModelCheckpoint\n",
    "# from keras.utils import np_utils\n",
    "# from keras.layers import Embedding\n",
    "# from keras.preprocessing.sequence import pad_sequences\n",
    "# from keras.callbacks import ModelCheckpoint, EarlyStopping\n",
    "# earlystopping = EarlyStopping(monitor = 'loss', verbose = 1,patience = 8, mode = 'min')\n",
    "# from keras.layers import Bidirectional, GlobalMaxPool1D\n",
    "# from keras.callbacks import CSVLogger\n",
    "\n",
    "from tensorflow.keras.preprocessing.sequence import pad_sequences\n",
    "# from tensorflow.keras.preprocessing.text import Tokenizer\n",
    "from tensorflow.keras.models import Sequential\n",
    "from tensorflow.keras.layers import Dropout, Bidirectional, GlobalMaxPool1D\n",
    "from tensorflow.keras.layers import Dense, Activation, LSTM, Embedding\n",
    "from tensorflow.keras.callbacks import EarlyStopping, ModelCheckpoint\n",
    "from tensorflow.keras.utils import to_categorical\n",
    "from tensorflow.keras import backend as K \n",
    "from tensorflow.keras import callbacks\n",
    "from tensorflow.keras.callbacks import CSVLogger\n",
    "\n",
    "import string\n",
    "from textblob import TextBlob\n",
    "from nltk.corpus import stopwords\n",
    "from nltk.stem.wordnet import WordNetLemmatizer\n",
    "from nltk.stem import PorterStemmer, WordNetLemmatizer\n",
    "import nltk\n",
    "import re\n",
    "\n",
    "from glob import glob\n",
    "from tqdm import tqdm\n",
    "\n",
    "from time import time\n",
    "from timeit import default_timer as timer\n",
    "from datetime import timedelta, datetime\n",
    "\n",
    "import os, re, csv, math, codecs\n",
    "import matplotlib.pyplot as plt\n",
    "import seaborn as sns\n",
    "import pandas as pd\n",
    "import numpy as np\n",
    "import math"
   ]
  },
  {
   "cell_type": "code",
   "execution_count": 15,
   "metadata": {
    "executionInfo": {
     "elapsed": 7,
     "status": "ok",
     "timestamp": 1650047888702,
     "user": {
      "displayName": "Milandu Keith Moussavou Boussougou",
      "userId": "16125998280788005643"
     },
     "user_tz": -540
    },
    "id": "fDcciOWrqNRj",
    "pycharm": {
     "name": "#%%\n"
    }
   },
   "outputs": [],
   "source": [
    "# from sklearn.feature_extraction.stop_words import ENGLISH_STOP_WORDS\n",
    "from sklearn.feature_extraction import _stop_words\n",
    "from sklearn.preprocessing import StandardScaler, RobustScaler\n",
    "\n",
    "from sklearn.model_selection import train_test_split\n",
    "from sklearn.datasets import make_circles\n",
    "\n",
    "from sklearn.metrics import classification_report\n",
    "from sklearn.metrics import accuracy_score\n",
    "from sklearn.metrics import precision_score\n",
    "from sklearn.metrics import recall_score\n",
    "from sklearn.metrics import f1_score\n",
    "from sklearn.metrics import cohen_kappa_score\n",
    "from sklearn.metrics import roc_auc_score\n",
    "from sklearn.metrics import confusion_matrix"
   ]
  },
  {
   "cell_type": "markdown",
   "metadata": {
    "id": "du9itd7XiHCS",
    "pycharm": {
     "name": "#%% md\n"
    }
   },
   "source": [
    "# Import the NPZ file of our dataset"
   ]
  },
  {
   "cell_type": "code",
   "execution_count": 16,
   "metadata": {
    "colab": {
     "base_uri": "https://localhost:8080/"
    },
    "executionInfo": {
     "elapsed": 3269,
     "status": "ok",
     "timestamp": 1650047891965,
     "user": {
      "displayName": "Milandu Keith Moussavou Boussougou",
      "userId": "16125998280788005643"
     },
     "user_tz": -540
    },
    "id": "a49GcNcPqQTO",
    "outputId": "2b4b310a-afa1-4636-b4dd-5cdbbb5185aa",
    "pycharm": {
     "name": "#%%\n"
    }
   },
   "outputs": [
    {
     "name": "stdout",
     "output_type": "stream",
     "text": [
      "['arr_0', 'arr_1', 'arr_2']\n",
      "CPU times: user 730 ms, sys: 92 ms, total: 821 ms\n",
      "Wall time: 820 ms\n"
     ]
    }
   ],
   "source": [
    "%%time\n",
    "npsavezFile=np.load(\"outfile_space_20220414.npz\",allow_pickle=True)\n",
    "print(npsavezFile.files)\n",
    "\n",
    "vocab=npsavezFile['arr_1']\n",
    "data=npsavezFile['arr_0']\n",
    "Y=npsavezFile['arr_2']\n",
    "\n",
    "Y=list(Y)"
   ]
  },
  {
   "cell_type": "code",
   "execution_count": 17,
   "metadata": {
    "colab": {
     "base_uri": "https://localhost:8080/"
    },
    "executionInfo": {
     "elapsed": 29,
     "status": "ok",
     "timestamp": 1650047891966,
     "user": {
      "displayName": "Milandu Keith Moussavou Boussougou",
      "userId": "16125998280788005643"
     },
     "user_tz": -540
    },
    "id": "_NqUBABnfyWc",
    "outputId": "e35e7b75-4dc4-4104-e82c-b4e803a829ee",
    "pycharm": {
     "name": "#%%\n"
    }
   },
   "outputs": [
    {
     "data": {
      "text/plain": [
       "array(['0', '01', '010', ..., '힙합하는', '힙합하면은', '힝'], dtype='<U23')"
      ]
     },
     "execution_count": 17,
     "metadata": {},
     "output_type": "execute_result"
    }
   ],
   "source": [
    "vocab"
   ]
  },
  {
   "cell_type": "code",
   "execution_count": 18,
   "metadata": {
    "colab": {
     "base_uri": "https://localhost:8080/"
    },
    "executionInfo": {
     "elapsed": 24,
     "status": "ok",
     "timestamp": 1650047891967,
     "user": {
      "displayName": "Milandu Keith Moussavou Boussougou",
      "userId": "16125998280788005643"
     },
     "user_tz": -540
    },
    "id": "4qwAFawbeKSY",
    "outputId": "03a444ed-d5b6-4021-ae9c-da82b006c957",
    "pycharm": {
     "name": "#%%\n"
    }
   },
   "outputs": [],
   "source": [
    "# np.set_printoptions(threshold=sys.maxsize)\n",
    "# data"
   ]
  },
  {
   "cell_type": "code",
   "execution_count": 19,
   "metadata": {
    "colab": {
     "base_uri": "https://localhost:8080/"
    },
    "executionInfo": {
     "elapsed": 10,
     "status": "ok",
     "timestamp": 1650047891968,
     "user": {
      "displayName": "Milandu Keith Moussavou Boussougou",
      "userId": "16125998280788005643"
     },
     "user_tz": -540
    },
    "id": "hu-FKdGEyi7i",
    "outputId": "31f20715-2cfc-429b-8c47-d5ac8915360a",
    "pycharm": {
     "name": "#%%\n"
    }
   },
   "outputs": [
    {
     "name": "stdout",
     "output_type": "stream",
     "text": [
      "object\n"
     ]
    }
   ],
   "source": [
    "print(data.dtype)"
   ]
  },
  {
   "cell_type": "code",
   "execution_count": 20,
   "metadata": {
    "colab": {
     "base_uri": "https://localhost:8080/"
    },
    "executionInfo": {
     "elapsed": 10,
     "status": "ok",
     "timestamp": 1650047891969,
     "user": {
      "displayName": "Milandu Keith Moussavou Boussougou",
      "userId": "16125998280788005643"
     },
     "user_tz": -540
    },
    "id": "XZm6au5yqUDo",
    "outputId": "5c3fceca-3361-4fca-f173-38c444004ff9",
    "pycharm": {
     "name": "#%%\n"
    }
   },
   "outputs": [
    {
     "name": "stdout",
     "output_type": "stream",
     "text": [
      "CPU times: user 2.63 ms, sys: 0 ns, total: 2.63 ms\n",
      "Wall time: 2.64 ms\n"
     ]
    }
   ],
   "source": [
    "%%time\n",
    "max_length=max([len(i) for i in data])\n",
    "#print(\"max_length\",max_length) # max_length 35\n",
    "\n",
    "#print(sorted([len(i) for i in data]))"
   ]
  },
  {
   "cell_type": "code",
   "execution_count": 21,
   "metadata": {
    "colab": {
     "base_uri": "https://localhost:8080/"
    },
    "executionInfo": {
     "elapsed": 392,
     "status": "ok",
     "timestamp": 1650047892351,
     "user": {
      "displayName": "Milandu Keith Moussavou Boussougou",
      "userId": "16125998280788005643"
     },
     "user_tz": -540
    },
    "id": "b3WO0mQ1qZt1",
    "outputId": "8dbc2bd9-cf2d-4ec6-96c9-902f7f5103cc",
    "pycharm": {
     "name": "#%%\n"
    }
   },
   "outputs": [
    {
     "name": "stdout",
     "output_type": "stream",
     "text": [
      "CPU times: user 195 ms, sys: 27.9 ms, total: 223 ms\n",
      "Wall time: 223 ms\n"
     ]
    }
   ],
   "source": [
    "%%time\n",
    "word_id=dict((c,i) for i,c in enumerate(vocab))\n",
    "id_word=dict((i,c) for i,c in enumerate(vocab))\n",
    "#print(\"word_id\",word_id)\n",
    "#print(\"id_word\",id_word)"
   ]
  },
  {
   "cell_type": "code",
   "execution_count": 22,
   "metadata": {
    "colab": {
     "base_uri": "https://localhost:8080/"
    },
    "executionInfo": {
     "elapsed": 1248,
     "status": "ok",
     "timestamp": 1650047893595,
     "user": {
      "displayName": "Milandu Keith Moussavou Boussougou",
      "userId": "16125998280788005643"
     },
     "user_tz": -540
    },
    "id": "v7YygBggqdnJ",
    "outputId": "39613662-f000-4cb7-f478-9e75c9d68487",
    "pycharm": {
     "name": "#%%\n"
    }
   },
   "outputs": [
    {
     "name": "stdout",
     "output_type": "stream",
     "text": [
      "CPU times: user 1.06 s, sys: 13.9 ms, total: 1.08 s\n",
      "Wall time: 1.08 s\n"
     ]
    }
   ],
   "source": [
    "%%time\n",
    "X_train=[]\n",
    "for sentence in data:\n",
    "\tx=[]\n",
    "\tfor word in sentence:\n",
    "\t\tapp=word_id[word]\n",
    "\t\tx.append(app)\n",
    "\t\t\n",
    "\tX_train.append(x)\n",
    " \n",
    "#  # Map for readable classnames\n",
    "# class_names = [0, 1]"
   ]
  },
  {
   "cell_type": "code",
   "execution_count": 23,
   "metadata": {
    "colab": {
     "base_uri": "https://localhost:8080/"
    },
    "executionInfo": {
     "elapsed": 435,
     "status": "ok",
     "timestamp": 1650047894027,
     "user": {
      "displayName": "Milandu Keith Moussavou Boussougou",
      "userId": "16125998280788005643"
     },
     "user_tz": -540
    },
    "id": "NzkA41ejqhCD",
    "outputId": "7d552093-1b09-4725-9f2e-ce657fc52023",
    "pycharm": {
     "name": "#%%\n"
    }
   },
   "outputs": [
    {
     "name": "stdout",
     "output_type": "stream",
     "text": [
      "encoded shape (20164, 2307)\n",
      "CPU times: user 149 ms, sys: 78.6 ms, total: 228 ms\n",
      "Wall time: 227 ms\n"
     ]
    }
   ],
   "source": [
    "%%time\n",
    "max_length=max([len(i) for i in X_train])\n",
    "\n",
    "encoded = pad_sequences(X_train, maxlen=max_length, padding='pre')\n",
    "encoded=np.array(encoded)\n",
    "#encoded=np.true_divide(encoded, 500)\n",
    "#standard_scaler = StandardScaler()\n",
    "#robust_scaler = RobustScaler()\n",
    "#encoded = standard_scaler.fit_transform(encoded)\n",
    "print(\"encoded shape\",encoded.shape) #encoded shape (12924, 35)\n",
    "length_encoded=len(encoded)"
   ]
  },
  {
   "cell_type": "markdown",
   "metadata": {
    "id": "vUsGUNUhiUkj",
    "pycharm": {
     "name": "#%% md\n"
    }
   },
   "source": [
    "# Import the Korean fastText pre-trained model and perform the emebeddings\n"
   ]
  },
  {
   "cell_type": "code",
   "execution_count": 24,
   "metadata": {
    "colab": {
     "base_uri": "https://localhost:8080/"
    },
    "executionInfo": {
     "elapsed": 10,
     "status": "ok",
     "timestamp": 1650047894028,
     "user": {
      "displayName": "Milandu Keith Moussavou Boussougou",
      "userId": "16125998280788005643"
     },
     "user_tz": -540
    },
    "id": "eNoDFqlw4789",
    "outputId": "48f3ec0d-ccb3-4a51-88e6-447b222061bb",
    "pycharm": {
     "name": "#%%\n"
    }
   },
   "outputs": [
    {
     "name": "stdout",
     "output_type": "stream",
     "text": [
      "CPU times: user 6.8 s, sys: 7.7 s, total: 14.5 s\n",
      "Wall time: 1min 20s\n"
     ]
    },
    {
     "data": {
      "text/plain": [
       "('wiki.ko.vec', <http.client.HTTPMessage at 0x7f60d7995ed0>)"
      ]
     },
     "execution_count": 24,
     "metadata": {},
     "output_type": "execute_result"
    }
   ],
   "source": [
    "%%time\n",
    "# run if the wiki.ko.vec is not available\n",
    "import os\n",
    "import urllib.request\n",
    "urllib.request.urlretrieve('https://dl.fbaipublicfiles.com/fasttext/vectors-wiki/wiki.ko.vec', 'wiki.ko.vec')"
   ]
  },
  {
   "cell_type": "code",
   "execution_count": 25,
   "metadata": {
    "executionInfo": {
     "elapsed": 9,
     "status": "ok",
     "timestamp": 1650047894029,
     "user": {
      "displayName": "Milandu Keith Moussavou Boussougou",
      "userId": "16125998280788005643"
     },
     "user_tz": -540
    },
    "id": "GhOlbhru5MqD",
    "pycharm": {
     "name": "#%%\n"
    }
   },
   "outputs": [],
   "source": [
    "# os.listdir()"
   ]
  },
  {
   "cell_type": "code",
   "execution_count": 26,
   "metadata": {
    "executionInfo": {
     "elapsed": 9,
     "status": "ok",
     "timestamp": 1650047894030,
     "user": {
      "displayName": "Milandu Keith Moussavou Boussougou",
      "userId": "16125998280788005643"
     },
     "user_tz": -540
    },
    "id": "fufOjZxF7DEf",
    "pycharm": {
     "name": "#%%\n"
    }
   },
   "outputs": [],
   "source": [
    "# ls -l"
   ]
  },
  {
   "cell_type": "code",
   "execution_count": 27,
   "metadata": {
    "colab": {
     "base_uri": "https://localhost:8080/"
    },
    "executionInfo": {
     "elapsed": 96758,
     "status": "ok",
     "timestamp": 1650047990779,
     "user": {
      "displayName": "Milandu Keith Moussavou Boussougou",
      "userId": "16125998280788005643"
     },
     "user_tz": -540
    },
    "id": "buOoByf6qklN",
    "outputId": "e360e220-0726-432c-9db6-7bb82b882e9f",
    "pycharm": {
     "name": "#%%\n"
    }
   },
   "outputs": [
    {
     "name": "stdout",
     "output_type": "stream",
     "text": [
      "loading word embeddings...\n"
     ]
    },
    {
     "name": "stderr",
     "output_type": "stream",
     "text": [
      "879131it [00:55, 15744.89it/s]\n"
     ]
    },
    {
     "name": "stdout",
     "output_type": "stream",
     "text": [
      "CPU times: user 55.3 s, sys: 3.3 s, total: 58.6 s\n",
      "Wall time: 55.8 s\n"
     ]
    }
   ],
   "source": [
    "%%time\n",
    "print('loading word embeddings...')\n",
    "embeddings_index = {}\n",
    "f = codecs.open('wiki.ko.vec', encoding='utf-8')\n",
    "for line in tqdm(f):\n",
    "    values = line.rstrip().rsplit(' ')\n",
    "    word = values[0]\n",
    "    coefs = np.asarray(values[1:], dtype='float32')\n",
    "    embeddings_index[word] = coefs\n",
    "f.close()"
   ]
  },
  {
   "cell_type": "code",
   "execution_count": 28,
   "metadata": {
    "colab": {
     "base_uri": "https://localhost:8080/"
    },
    "executionInfo": {
     "elapsed": 4889,
     "status": "ok",
     "timestamp": 1650047995653,
     "user": {
      "displayName": "Milandu Keith Moussavou Boussougou",
      "userId": "16125998280788005643"
     },
     "user_tz": -540
    },
    "id": "Gt7pm3GdqozW",
    "outputId": "3ff2ffcf-ed37-4160-a57b-acfdad2d4675",
    "pycharm": {
     "name": "#%%\n"
    }
   },
   "outputs": [
    {
     "name": "stdout",
     "output_type": "stream",
     "text": [
      "found 879130 word vectors\n",
      "tokenizing input data...\n",
      "dictionary size:  253930\n"
     ]
    }
   ],
   "source": [
    "# %%time\n",
    "MAX_NB_WORDS=len(vocab)\n",
    "print('found %s word vectors' % len(embeddings_index))\n",
    "print(\"tokenizing input data...\")\n",
    "\n",
    "tokenizer = Tokenizer(num_words=MAX_NB_WORDS, lower=False, char_level=False)\n",
    "tokenizer.fit_on_texts(data)  #leaky\n",
    "word_seq_train = tokenizer.texts_to_sequences(data)\n",
    "word_seq_test = tokenizer.texts_to_sequences(data)\n",
    "word_index = tokenizer.word_index\n",
    "print(\"dictionary size: \", len(word_index))\n",
    "embed_dim = 300 "
   ]
  },
  {
   "cell_type": "code",
   "execution_count": 29,
   "metadata": {
    "colab": {
     "base_uri": "https://localhost:8080/"
    },
    "executionInfo": {
     "elapsed": 768,
     "status": "ok",
     "timestamp": 1650047996405,
     "user": {
      "displayName": "Milandu Keith Moussavou Boussougou",
      "userId": "16125998280788005643"
     },
     "user_tz": -540
    },
    "id": "moIwO9vvqsLF",
    "outputId": "3f61a40b-0051-4f89-bfdb-c1457c678688",
    "pycharm": {
     "name": "#%%\n"
    }
   },
   "outputs": [
    {
     "name": "stdout",
     "output_type": "stream",
     "text": [
      "preparing embedding matrix...\n",
      "number of null word embeddings: 171932\n",
      "sample words not found:  ['도자기라는' '슴' '끓여놓으셔가지고' '오션뷰를' '연예인이란' '입금하셨던' '보호잡니다' '방탄소년원단인데요' '임님만'\n",
      " '안착된']\n",
      "CPU times: user 389 ms, sys: 81 ms, total: 470 ms\n",
      "Wall time: 469 ms\n"
     ]
    }
   ],
   "source": [
    "%%time\n",
    "#embedding matrix\n",
    "print('preparing embedding matrix...')\n",
    "words_not_found = []\n",
    "nb_words = min(MAX_NB_WORDS, len(word_index))\n",
    "embedding_matrix = np.zeros((MAX_NB_WORDS, embed_dim))\n",
    "for word, i in word_index.items():\n",
    "    if i >= nb_words:\n",
    "        continue\n",
    "    embedding_vector = embeddings_index.get(word)\n",
    "    if (embedding_vector is not None) and len(embedding_vector) > 0:\n",
    "        # words not found in embedding index will be all-zeros.\n",
    "        embedding_matrix[i] = embedding_vector\n",
    "    else:\n",
    "        words_not_found.append(word)\n",
    "print('number of null word embeddings: %d' % np.sum(np.sum(embedding_matrix, axis=1) == 0))\n",
    "print(\"sample words not found: \", np.random.choice(words_not_found, 10))"
   ]
  },
  {
   "cell_type": "markdown",
   "metadata": {
    "id": "ch-jfKMGimP3",
    "pycharm": {
     "name": "#%% md\n"
    }
   },
   "source": [
    "# split the dataset/embedding matrice"
   ]
  },
  {
   "cell_type": "code",
   "execution_count": 30,
   "metadata": {
    "executionInfo": {
     "elapsed": 7,
     "status": "ok",
     "timestamp": 1650047996406,
     "user": {
      "displayName": "Milandu Keith Moussavou Boussougou",
      "userId": "16125998280788005643"
     },
     "user_tz": -540
    },
    "id": "UD5l3WtUB1wF",
    "pycharm": {
     "name": "#%%\n"
    }
   },
   "outputs": [],
   "source": [
    "# %%time\n",
    "# Y_train=np.array(Y)\n",
    "\n",
    "# # Split the data\n",
    "# trainX_data, testX_data, Y_TRAIN, Y_TEST = train_test_split(encoded, Y_train, test_size=0.3, shuffle= True)\n",
    "# Ytrain=to_categorical(Y_TRAIN,num_classes=2)\n",
    "# Ytest=to_categorical(Y_TEST,num_classes=2)"
   ]
  },
  {
   "cell_type": "code",
   "execution_count": 31,
   "metadata": {
    "colab": {
     "base_uri": "https://localhost:8080/"
    },
    "executionInfo": {
     "elapsed": 432,
     "status": "ok",
     "timestamp": 1650047996832,
     "user": {
      "displayName": "Milandu Keith Moussavou Boussougou",
      "userId": "16125998280788005643"
     },
     "user_tz": -540
    },
    "id": "gD_GrRvOqxRr",
    "outputId": "859a1ace-b603-4252-cc87-fcc4228e7d8e",
    "pycharm": {
     "name": "#%%\n"
    }
   },
   "outputs": [
    {
     "name": "stdout",
     "output_type": "stream",
     "text": [
      "CPU times: user 47 ms, sys: 48.6 ms, total: 95.6 ms\n",
      "Wall time: 95.3 ms\n"
     ]
    }
   ],
   "source": [
    "%%time\n",
    "# numericalization of the text into numbers\n",
    "# X_train = tfidf.fit_transform(df_train['transcript']).toarray()\n",
    "# X_test = tfidf.transform(df_test['transcript']).toarray()\n",
    "\n",
    "Y_=np.array(Y)\n",
    "\n",
    "# Split the data in train and test set, reseve 10% of the for the test set\n",
    "X_train, X_test, y_train, y_test = train_test_split(\n",
    "    encoded,\n",
    "    Y_,\n",
    "    test_size=0.1,\n",
    "    random_state=42, \n",
    "    shuffle= True\n",
    ")\n",
    "\n",
    "# slip the train set in train and eval, reseve 10% of the data for thse evaluation\n",
    "X_train_sub, X_val, y_train_sub, y_val = train_test_split(\n",
    "    X_train,\n",
    "    y_train, \n",
    "    test_size=0.11111111111111111111111111111,\n",
    "    random_state=42, \n",
    "    shuffle= True\n",
    ")\n",
    "\n",
    "y_train_sub=to_categorical(y_train_sub,num_classes=2)\n",
    "y_val=to_categorical(y_val,num_classes=2)\n",
    "y_test=to_categorical(y_test,num_classes=2)"
   ]
  },
  {
   "cell_type": "code",
   "execution_count": 32,
   "metadata": {
    "colab": {
     "base_uri": "https://localhost:8080/"
    },
    "executionInfo": {
     "elapsed": 21,
     "status": "ok",
     "timestamp": 1650047996832,
     "user": {
      "displayName": "Milandu Keith Moussavou Boussougou",
      "userId": "16125998280788005643"
     },
     "user_tz": -540
    },
    "id": "zg9JG59WSWHy",
    "outputId": "cd7c712b-0b50-4d5a-a770-6c599135a32e",
    "pycharm": {
     "name": "#%%\n"
    }
   },
   "outputs": [
    {
     "name": "stdout",
     "output_type": "stream",
     "text": [
      "X_train shape: (18147, 2307)\n",
      "y_train shape: (18147,)\n",
      "X_train_sub shape: (16130, 2307)\n",
      "y_train_sub shape: (16130, 2)\n",
      "X_val shape: (2017, 2307)\n",
      "y_val shape: (2017, 2)\n",
      "X_test shape: (2017, 2307)\n",
      "y_test shape: (2017, 2)\n"
     ]
    }
   ],
   "source": [
    "# check the shape of each set\n",
    "print(\"X_train shape: {}\".format(X_train.shape))\n",
    "print(\"y_train shape: {}\".format(y_train.shape))\n",
    "\n",
    "print(\"X_train_sub shape: {}\".format(X_train_sub.shape))\n",
    "print(\"y_train_sub shape: {}\".format(y_train_sub.shape))\n",
    "\n",
    "print(\"X_val shape: {}\".format(X_val.shape))\n",
    "print(\"y_val shape: {}\".format(y_val.shape))\n",
    "\n",
    "print(\"X_test shape: {}\".format(X_test.shape))\n",
    "print(\"y_test shape: {}\".format(y_test.shape))"
   ]
  },
  {
   "cell_type": "code",
   "execution_count": 33,
   "metadata": {
    "colab": {
     "base_uri": "https://localhost:8080/"
    },
    "executionInfo": {
     "elapsed": 17,
     "status": "ok",
     "timestamp": 1650047996833,
     "user": {
      "displayName": "Milandu Keith Moussavou Boussougou",
      "userId": "16125998280788005643"
     },
     "user_tz": -540
    },
    "id": "a608XJ7QChfq",
    "outputId": "962b1f0b-938d-454d-a7b0-cc7cc147d6f5",
    "pycharm": {
     "name": "#%%\n"
    }
   },
   "outputs": [
    {
     "name": "stdout",
     "output_type": "stream",
     "text": [
      "Train set size = 18147 \n",
      "Test set size = 2017\n"
     ]
    }
   ],
   "source": [
    "print('Train set size = {} \\nTest set size = {}'.format(len(X_train),len(X_test)))"
   ]
  },
  {
   "cell_type": "markdown",
   "metadata": {
    "id": "1cLA3BKJjQL7",
    "pycharm": {
     "name": "#%% md\n"
    }
   },
   "source": [
    "# Build the BiLSTM model architecture"
   ]
  },
  {
   "cell_type": "code",
   "execution_count": 34,
   "metadata": {
    "colab": {
     "base_uri": "https://localhost:8080/"
    },
    "executionInfo": {
     "elapsed": 11,
     "status": "ok",
     "timestamp": 1650047996833,
     "user": {
      "displayName": "Milandu Keith Moussavou Boussougou",
      "userId": "16125998280788005643"
     },
     "user_tz": -540
    },
    "id": "lrFeV_nSq_lh",
    "outputId": "ea8a0e11-1f5f-41ae-cdbe-29c8ec86c291",
    "pycharm": {
     "name": "#%%\n"
    }
   },
   "outputs": [
    {
     "name": "stdout",
     "output_type": "stream",
     "text": [
      "CPU times: user 63 µs, sys: 13 µs, total: 76 µs\n",
      "Wall time: 82 µs\n"
     ]
    }
   ],
   "source": [
    "%%time\n",
    "csv_logger = CSVLogger('training.log', separator=',', append=False)\n",
    "earlystopping = EarlyStopping(\n",
    "    monitor = 'loss',\n",
    "    verbose = 1, \n",
    "    patience = 3, # Number of epochs with no \n",
    "    # improvement after which training \n",
    "    #will be stopped.\n",
    "    mode = 'min'\n",
    ")\n",
    "# This callback will stop the training when there is no improvement in\n",
    "# the loss for three consecutive epochs."
   ]
  },
  {
   "cell_type": "code",
   "execution_count": 35,
   "metadata": {
    "colab": {
     "base_uri": "https://localhost:8080/"
    },
    "executionInfo": {
     "elapsed": 8,
     "status": "ok",
     "timestamp": 1650047996834,
     "user": {
      "displayName": "Milandu Keith Moussavou Boussougou",
      "userId": "16125998280788005643"
     },
     "user_tz": -540
    },
    "id": "YuDJqA2OaI6e",
    "outputId": "a65a6597-3f22-4f7a-9340-b02319a3f6b6",
    "pycharm": {
     "name": "#%%\n"
    }
   },
   "outputs": [
    {
     "data": {
      "text/plain": [
       "2307"
      ]
     },
     "execution_count": 35,
     "metadata": {},
     "output_type": "execute_result"
    }
   ],
   "source": [
    "max_length"
   ]
  },
  {
   "cell_type": "code",
   "execution_count": 36,
   "metadata": {
    "colab": {
     "base_uri": "https://localhost:8080/"
    },
    "executionInfo": {
     "elapsed": 2637,
     "status": "ok",
     "timestamp": 1650047999465,
     "user": {
      "displayName": "Milandu Keith Moussavou Boussougou",
      "userId": "16125998280788005643"
     },
     "user_tz": -540
    },
    "id": "maWuaZ6rrCu_",
    "outputId": "b8864e77-40cb-48c9-b601-f7ba4d8939cb",
    "pycharm": {
     "name": "#%%\n"
    }
   },
   "outputs": [
    {
     "name": "stderr",
     "output_type": "stream",
     "text": [
      "2022-04-21 04:27:00.146405: I tensorflow/core/platform/cpu_feature_guard.cc:151] This TensorFlow binary is optimized with oneAPI Deep Neural Network Library (oneDNN) to use the following CPU instructions in performance-critical operations:  AVX2 AVX512F FMA\n",
      "To enable them in other operations, rebuild TensorFlow with the appropriate compiler flags.\n",
      "2022-04-21 04:27:03.843842: I tensorflow/core/common_runtime/gpu/gpu_device.cc:1525] Created device /job:localhost/replica:0/task:0/device:GPU:0 with 17527 MB memory:  -> device: 0, name: NVIDIA GeForce RTX 3090, pci bus id: 0000:19:00.0, compute capability: 8.6\n",
      "2022-04-21 04:27:03.844861: I tensorflow/core/common_runtime/gpu/gpu_device.cc:1525] Created device /job:localhost/replica:0/task:0/device:GPU:1 with 16638 MB memory:  -> device: 1, name: NVIDIA GeForce RTX 3090, pci bus id: 0000:1a:00.0, compute capability: 8.6\n",
      "2022-04-21 04:27:03.845762: I tensorflow/core/common_runtime/gpu/gpu_device.cc:1525] Created device /job:localhost/replica:0/task:0/device:GPU:2 with 16638 MB memory:  -> device: 2, name: NVIDIA GeForce RTX 3090, pci bus id: 0000:67:00.0, compute capability: 8.6\n",
      "2022-04-21 04:27:03.846645: I tensorflow/core/common_runtime/gpu/gpu_device.cc:1525] Created device /job:localhost/replica:0/task:0/device:GPU:3 with 16622 MB memory:  -> device: 3, name: NVIDIA GeForce RTX 3090, pci bus id: 0000:68:00.0, compute capability: 8.6\n",
      "2022-04-21 04:27:04.416880: W tensorflow/core/framework/cpu_allocator_impl.cc:82] Allocation of 324021600 exceeds 10% of free system memory.\n"
     ]
    },
    {
     "name": "stdout",
     "output_type": "stream",
     "text": [
      "CPU times: user 4.59 s, sys: 1.13 s, total: 5.72 s\n",
      "Wall time: 5.63 s\n"
     ]
    }
   ],
   "source": [
    "%%time\n",
    "model = Sequential()\n",
    "model.add(\n",
    "    Embedding(\n",
    "        MAX_NB_WORDS, \n",
    "        embed_dim,\n",
    "        weights=[embedding_matrix],\n",
    "        input_length=max_length, \n",
    "        trainable=False\n",
    "    )\n",
    ")\n",
    "#model.add(Embedding(len(vocab), 10, input_length=max_length))\n",
    "#model.add(LSTM(128,input_shape=(encoded.shape[0],encoded.shape[1]),return_sequences=True))\n",
    "\n",
    "# Add 4 bidirectional LSTMs layers\n",
    "model.add(Bidirectional(LSTM(128,return_sequences=True)))\n",
    "model.add(Dropout(0.25))\n",
    "model.add(Bidirectional(LSTM(64,return_sequences=True)))\n",
    "model.add(Dropout(0.25))\n",
    "model.add(Bidirectional(LSTM(64,return_sequences=True)))\n",
    "model.add(Dropout(0.25))\n",
    "model.add(Bidirectional(LSTM(64)))\n",
    "model.add(Dropout(0.20))\n",
    "# model.add(BatchNormalization())\n",
    "\n",
    "# Add a output classifier layer\n",
    "# model.add(Dense(1, activation='sigmoid'))\n",
    "model.add(Dense(2, activation='softmax'))"
   ]
  },
  {
   "cell_type": "code",
   "execution_count": 40,
   "metadata": {
    "colab": {
     "base_uri": "https://localhost:8080/"
    },
    "executionInfo": {
     "elapsed": 21,
     "status": "ok",
     "timestamp": 1650047999465,
     "user": {
      "displayName": "Milandu Keith Moussavou Boussougou",
      "userId": "16125998280788005643"
     },
     "user_tz": -540
    },
    "id": "xsG4H4D-rMU0",
    "outputId": "e1a1c6e6-b90a-4c3b-f408-65bdc26eb744",
    "pycharm": {
     "name": "#%%\n"
    }
   },
   "outputs": [
    {
     "name": "stdout",
     "output_type": "stream",
     "text": [
      "Model: \"sequential\"\n",
      "_________________________________________________________________\n",
      " Layer (type)                Output Shape              Param #   \n",
      "=================================================================\n",
      " embedding (Embedding)       (None, 2307, 300)         81005400  \n",
      "                                                                 \n",
      " bidirectional (Bidirectiona  (None, 2307, 256)        439296    \n",
      " l)                                                              \n",
      "                                                                 \n",
      " dropout (Dropout)           (None, 2307, 256)         0         \n",
      "                                                                 \n",
      " bidirectional_1 (Bidirectio  (None, 2307, 128)        164352    \n",
      " nal)                                                            \n",
      "                                                                 \n",
      " dropout_1 (Dropout)         (None, 2307, 128)         0         \n",
      "                                                                 \n",
      " bidirectional_2 (Bidirectio  (None, 2307, 128)        98816     \n",
      " nal)                                                            \n",
      "                                                                 \n",
      " dropout_2 (Dropout)         (None, 2307, 128)         0         \n",
      "                                                                 \n",
      " bidirectional_3 (Bidirectio  (None, 128)              98816     \n",
      " nal)                                                            \n",
      "                                                                 \n",
      " dropout_3 (Dropout)         (None, 128)               0         \n",
      "                                                                 \n",
      " dense (Dense)               (None, 2)                 258       \n",
      "                                                                 \n",
      "=================================================================\n",
      "Total params: 81,806,938\n",
      "Trainable params: 801,538\n",
      "Non-trainable params: 81,005,400\n",
      "_________________________________________________________________\n",
      "None\n",
      "CPU times: user 56.2 ms, sys: 18.6 ms, total: 74.8 ms\n",
      "Wall time: 63.9 ms\n"
     ]
    }
   ],
   "source": [
    "%%time\n",
    "import tensorflow as tf\n",
    "# compile the model\n",
    "model.compile(\n",
    "    loss='categorical_crossentropy',\n",
    "    # loss='binary_crossentropy',\n",
    "    # loss='sparse_categorical_crossentropy',\n",
    "    optimizer='adam',\n",
    "    metrics=[\n",
    "             'accuracy',\n",
    "              'binary_accuracy',\n",
    "            #  'categorical_accuracy' ,\n",
    "             tf.keras.metrics.AUC(),\n",
    "             tf.keras.metrics.Precision(),\n",
    "             tf.keras.metrics.Recall()\n",
    "             ]\n",
    ")\n",
    "\n",
    "# Display a summary of the models structure\n",
    "print(model.summary())"
   ]
  },
  {
   "cell_type": "markdown",
   "metadata": {
    "id": "8_rUjOc2yTKY",
    "pycharm": {
     "name": "#%% md\n"
    }
   },
   "source": [
    "# Visualise the Model"
   ]
  },
  {
   "cell_type": "code",
   "execution_count": 41,
   "metadata": {
    "colab": {
     "base_uri": "https://localhost:8080/"
    },
    "executionInfo": {
     "elapsed": 9,
     "status": "ok",
     "timestamp": 1650047999466,
     "user": {
      "displayName": "Milandu Keith Moussavou Boussougou",
      "userId": "16125998280788005643"
     },
     "user_tz": -540
    },
    "id": "LliU8NFDrHbU",
    "outputId": "f103c18d-52da-4bf6-b72d-d878058db8d2",
    "pycharm": {
     "name": "#%%\n"
    }
   },
   "outputs": [
    {
     "name": "stdout",
     "output_type": "stream",
     "text": [
      "i <keras.layers.embeddings.Embedding object at 0x7f60d7995450>0\n",
      "i <keras.layers.wrappers.Bidirectional object at 0x7f60a0c09ea0>1\n",
      "i <keras.layers.core.dropout.Dropout object at 0x7f60a0c0af50>2\n",
      "i <keras.layers.wrappers.Bidirectional object at 0x7f60bd7b2230>3\n",
      "i <keras.layers.core.dropout.Dropout object at 0x7f60a0c0baf0>4\n",
      "i <keras.layers.wrappers.Bidirectional object at 0x7f60a00d1e40>5\n",
      "i <keras.layers.core.dropout.Dropout object at 0x7f60a00f2710>6\n",
      "i <keras.layers.wrappers.Bidirectional object at 0x7f609ea356f0>7\n",
      "i <keras.layers.core.dropout.Dropout object at 0x7f609e966d40>8\n",
      "i <keras.layers.core.dense.Dense object at 0x7f60bd822e30>9\n",
      "CPU times: user 715 µs, sys: 148 µs, total: 863 µs\n",
      "Wall time: 570 µs\n"
     ]
    }
   ],
   "source": [
    "%%time\n",
    "for i,layer in enumerate(model.layers):\n",
    "    print(\"i\",str(layer)+str(i))"
   ]
  },
  {
   "cell_type": "code",
   "execution_count": 42,
   "metadata": {
    "colab": {
     "base_uri": "https://localhost:8080/",
     "height": 1000
    },
    "executionInfo": {
     "elapsed": 1158,
     "status": "ok",
     "timestamp": 1650048000619,
     "user": {
      "displayName": "Milandu Keith Moussavou Boussougou",
      "userId": "16125998280788005643"
     },
     "user_tz": -540
    },
    "id": "r9djd0rGPim5",
    "outputId": "bf1c9ce4-d432-44c5-e4e0-f26ae6b7f1e5",
    "pycharm": {
     "name": "#%%\n"
    }
   },
   "outputs": [
    {
     "name": "stdout",
     "output_type": "stream",
     "text": [
      "You must install pydot (`pip install pydot`) and install graphviz (see instructions at https://graphviz.gitlab.io/download/) for plot_model/model_to_dot to work.\n"
     ]
    }
   ],
   "source": [
    "tf.keras.utils.plot_model(model, to_file=\"BiLSTM_architecture_220414.png\", show_shapes=True)"
   ]
  },
  {
   "cell_type": "code",
   "execution_count": 43,
   "metadata": {
    "executionInfo": {
     "elapsed": 6,
     "status": "ok",
     "timestamp": 1650048000620,
     "user": {
      "displayName": "Milandu Keith Moussavou Boussougou",
      "userId": "16125998280788005643"
     },
     "user_tz": -540
    },
    "id": "pCohtLFi3-Mn",
    "pycharm": {
     "name": "#%%\n"
    }
   },
   "outputs": [],
   "source": [
    "# tf.keras.utils.plot_model(\n",
    "#     model,\n",
    "#     to_file=\"BiLSTM_architecture_1.png\",\n",
    "#     show_shapes=False,\n",
    "#     # show_dtype=False,\n",
    "#     show_layer_names=True,\n",
    "#     rankdir=\"TB\",\n",
    "#     expand_nested=False,\n",
    "#     dpi=96,\n",
    "# )"
   ]
  },
  {
   "cell_type": "markdown",
   "metadata": {
    "id": "apPEI9yWLiag",
    "pycharm": {
     "name": "#%% md\n"
    }
   },
   "source": [
    "## Training and evaluating the model"
   ]
  },
  {
   "cell_type": "code",
   "execution_count": 44,
   "metadata": {
    "colab": {
     "base_uri": "https://localhost:8080/"
    },
    "executionInfo": {
     "elapsed": 2848275,
     "status": "ok",
     "timestamp": 1650050848890,
     "user": {
      "displayName": "Milandu Keith Moussavou Boussougou",
      "userId": "16125998280788005643"
     },
     "user_tz": -540
    },
    "id": "odnj7TjNrRzK",
    "outputId": "8f0b5144-3165-4bf4-ec4f-b4072ad5a236",
    "pycharm": {
     "name": "#%%\n"
    }
   },
   "outputs": [
    {
     "name": "stdout",
     "output_type": "stream",
     "text": [
      "Epoch 1/10\n"
     ]
    },
    {
     "name": "stderr",
     "output_type": "stream",
     "text": [
      "2022-04-21 04:28:39.683310: W tensorflow/core/framework/cpu_allocator_impl.cc:82] Allocation of 148847640 exceeds 10% of free system memory.\n",
      "2022-04-21 04:28:47.657627: I tensorflow/stream_executor/cuda/cuda_dnn.cc:368] Loaded cuDNN version 8200\n",
      "2022-04-21 04:28:48.649666: I tensorflow/stream_executor/cuda/cuda_blas.cc:1786] TensorFloat-32 will be used for the matrix multiplication. This will only be logged once.\n"
     ]
    },
    {
     "name": "stdout",
     "output_type": "stream",
     "text": [
      "505/505 [==============================] - ETA: 0s - loss: 0.2562 - accuracy: 0.9160 - binary_accuracy: 0.9161 - auc: 0.9526 - precision: 0.9162 - recall: 0.9160\n",
      "Epoch 1: loss improved from inf to 0.25623, saving model to BiLSTM_check.h5\n"
     ]
    },
    {
     "name": "stderr",
     "output_type": "stream",
     "text": [
      "2022-04-21 04:33:13.603755: W tensorflow/core/framework/cpu_allocator_impl.cc:82] Allocation of 324021600 exceeds 10% of free system memory.\n"
     ]
    },
    {
     "name": "stdout",
     "output_type": "stream",
     "text": [
      "505/505 [==============================] - 275s 526ms/step - loss: 0.2562 - accuracy: 0.9160 - binary_accuracy: 0.9161 - auc: 0.9526 - precision: 0.9162 - recall: 0.9160 - val_loss: 0.0070 - val_accuracy: 0.9990 - val_binary_accuracy: 0.9990 - val_auc: 0.9999 - val_precision: 0.9990 - val_recall: 0.9990\n",
      "Epoch 2/10\n",
      "505/505 [==============================] - ETA: 0s - loss: 0.0025 - accuracy: 0.9998 - binary_accuracy: 0.9998 - auc: 0.9998 - precision: 0.9998 - recall: 0.9998\n",
      "Epoch 2: loss improved from 0.25623 to 0.00252, saving model to BiLSTM_check.h5\n"
     ]
    },
    {
     "name": "stderr",
     "output_type": "stream",
     "text": [
      "2022-04-21 04:37:37.174996: W tensorflow/core/framework/cpu_allocator_impl.cc:82] Allocation of 324021600 exceeds 10% of free system memory.\n"
     ]
    },
    {
     "name": "stdout",
     "output_type": "stream",
     "text": [
      "505/505 [==============================] - 264s 522ms/step - loss: 0.0025 - accuracy: 0.9998 - binary_accuracy: 0.9998 - auc: 0.9998 - precision: 0.9998 - recall: 0.9998 - val_loss: 0.0179 - val_accuracy: 0.9975 - val_binary_accuracy: 0.9975 - val_auc: 0.9975 - val_precision: 0.9975 - val_recall: 0.9975\n",
      "Epoch 3/10\n",
      "505/505 [==============================] - ETA: 0s - loss: 0.0097 - accuracy: 0.9970 - binary_accuracy: 0.9970 - auc: 0.9998 - precision: 0.9970 - recall: 0.9970\n",
      "Epoch 3: loss did not improve from 0.00252\n",
      "505/505 [==============================] - 263s 522ms/step - loss: 0.0097 - accuracy: 0.9970 - binary_accuracy: 0.9970 - auc: 0.9998 - precision: 0.9970 - recall: 0.9970 - val_loss: 0.0064 - val_accuracy: 0.9990 - val_binary_accuracy: 0.9990 - val_auc: 0.9990 - val_precision: 0.9990 - val_recall: 0.9990\n",
      "Epoch 4/10\n",
      "505/505 [==============================] - ETA: 0s - loss: 0.0017 - accuracy: 0.9998 - binary_accuracy: 0.9998 - auc: 0.9998 - precision: 0.9998 - recall: 0.9998\n",
      "Epoch 4: loss improved from 0.00252 to 0.00170, saving model to BiLSTM_check.h5\n"
     ]
    },
    {
     "name": "stderr",
     "output_type": "stream",
     "text": [
      "2022-04-21 04:46:25.103476: W tensorflow/core/framework/cpu_allocator_impl.cc:82] Allocation of 324021600 exceeds 10% of free system memory.\n"
     ]
    },
    {
     "name": "stdout",
     "output_type": "stream",
     "text": [
      "505/505 [==============================] - 265s 524ms/step - loss: 0.0017 - accuracy: 0.9998 - binary_accuracy: 0.9998 - auc: 0.9998 - precision: 0.9998 - recall: 0.9998 - val_loss: 0.0064 - val_accuracy: 0.9990 - val_binary_accuracy: 0.9990 - val_auc: 0.9990 - val_precision: 0.9990 - val_recall: 0.9990\n",
      "Epoch 5/10\n",
      "505/505 [==============================] - ETA: 0s - loss: 0.0015 - accuracy: 0.9998 - binary_accuracy: 0.9998 - auc: 0.9998 - precision: 0.9998 - recall: 0.9998\n",
      "Epoch 5: loss improved from 0.00170 to 0.00146, saving model to BiLSTM_check.h5\n",
      "505/505 [==============================] - 265s 525ms/step - loss: 0.0015 - accuracy: 0.9998 - binary_accuracy: 0.9998 - auc: 0.9998 - precision: 0.9998 - recall: 0.9998 - val_loss: 0.0068 - val_accuracy: 0.9990 - val_binary_accuracy: 0.9990 - val_auc: 0.9990 - val_precision: 0.9990 - val_recall: 0.9990\n",
      "Epoch 6/10\n",
      "505/505 [==============================] - ETA: 0s - loss: 0.0015 - accuracy: 0.9998 - binary_accuracy: 0.9998 - auc: 0.9999 - precision: 0.9998 - recall: 0.9998\n",
      "Epoch 6: loss did not improve from 0.00146\n",
      "505/505 [==============================] - 264s 522ms/step - loss: 0.0015 - accuracy: 0.9998 - binary_accuracy: 0.9998 - auc: 0.9999 - precision: 0.9998 - recall: 0.9998 - val_loss: 0.0069 - val_accuracy: 0.9990 - val_binary_accuracy: 0.9990 - val_auc: 0.9990 - val_precision: 0.9990 - val_recall: 0.9990\n",
      "Epoch 7/10\n",
      "505/505 [==============================] - ETA: 0s - loss: 0.0014 - accuracy: 0.9998 - binary_accuracy: 0.9998 - auc: 0.9998 - precision: 0.9998 - recall: 0.9998\n",
      "Epoch 7: loss improved from 0.00146 to 0.00139, saving model to BiLSTM_check.h5\n",
      "505/505 [==============================] - 266s 526ms/step - loss: 0.0014 - accuracy: 0.9998 - binary_accuracy: 0.9998 - auc: 0.9998 - precision: 0.9998 - recall: 0.9998 - val_loss: 0.0071 - val_accuracy: 0.9990 - val_binary_accuracy: 0.9990 - val_auc: 0.9990 - val_precision: 0.9990 - val_recall: 0.9990\n",
      "Epoch 8/10\n",
      "505/505 [==============================] - ETA: 0s - loss: 0.0017 - accuracy: 0.9998 - binary_accuracy: 0.9998 - auc: 0.9998 - precision: 0.9998 - recall: 0.9998\n",
      "Epoch 8: loss did not improve from 0.00139\n",
      "505/505 [==============================] - 265s 524ms/step - loss: 0.0017 - accuracy: 0.9998 - binary_accuracy: 0.9998 - auc: 0.9998 - precision: 0.9998 - recall: 0.9998 - val_loss: 0.0074 - val_accuracy: 0.9990 - val_binary_accuracy: 0.9990 - val_auc: 0.9990 - val_precision: 0.9990 - val_recall: 0.9990\n",
      "Epoch 9/10\n",
      "505/505 [==============================] - ETA: 0s - loss: 0.0015 - accuracy: 0.9998 - binary_accuracy: 0.9998 - auc: 0.9998 - precision: 0.9998 - recall: 0.9998\n",
      "Epoch 9: loss did not improve from 0.00139\n",
      "505/505 [==============================] - 263s 521ms/step - loss: 0.0015 - accuracy: 0.9998 - binary_accuracy: 0.9998 - auc: 0.9998 - precision: 0.9998 - recall: 0.9998 - val_loss: 0.0065 - val_accuracy: 0.9990 - val_binary_accuracy: 0.9990 - val_auc: 0.9990 - val_precision: 0.9990 - val_recall: 0.9990\n",
      "Epoch 10/10\n",
      "505/505 [==============================] - ETA: 0s - loss: 0.0014 - accuracy: 0.9998 - binary_accuracy: 0.9998 - auc: 0.9998 - precision: 0.9998 - recall: 0.9998\n",
      "Epoch 10: loss did not improve from 0.00139\n",
      "505/505 [==============================] - 264s 523ms/step - loss: 0.0014 - accuracy: 0.9998 - binary_accuracy: 0.9998 - auc: 0.9998 - precision: 0.9998 - recall: 0.9998 - val_loss: 0.0063 - val_accuracy: 0.9990 - val_binary_accuracy: 0.9990 - val_auc: 0.9990 - val_precision: 0.9990 - val_recall: 0.9990\n",
      "Epoch 10: early stopping\n",
      "CPU times: user 43min 9s, sys: 3min 53s, total: 47min 3s\n",
      "Wall time: 44min 12s\n"
     ]
    }
   ],
   "source": [
    "%%time\n",
    "checkpoint = ModelCheckpoint(\n",
    "    \"BiLSTM_check.h5\", \n",
    "    monitor='loss', \n",
    "    verbose=1,\n",
    "    save_best_only=True, \n",
    "    mode='min'\n",
    ")\n",
    "\n",
    "callbacks_list = [checkpoint,earlystopping,csv_logger] \n",
    "\n",
    "# Train the BiLSTM on the training data\n",
    "start_time = time()\n",
    "history = model.fit(\n",
    "    X_train_sub, \n",
    "    y_train_sub,\n",
    "    batch_size=32, \n",
    "    epochs=10,\n",
    "    verbose=1,\n",
    "    callbacks=callbacks_list,\n",
    "    validation_data=(X_val,y_val)\n",
    ")\n",
    "run_time = time() - start_time"
   ]
  },
  {
   "cell_type": "code",
   "execution_count": 64,
   "metadata": {
    "colab": {
     "base_uri": "https://localhost:8080/",
     "height": 338
    },
    "executionInfo": {
     "elapsed": 1632,
     "status": "ok",
     "timestamp": 1650050850500,
     "user": {
      "displayName": "Milandu Keith Moussavou Boussougou",
      "userId": "16125998280788005643"
     },
     "user_tz": -540
    },
    "id": "4ceLXD7lJo1S",
    "outputId": "197a39d4-70b7-4910-bc9e-87f6d4ab95d9",
    "pycharm": {
     "name": "#%%\n"
    }
   },
   "outputs": [
    {
     "data": {
      "image/png": "[encoded data removed]",
      "text/plain": [
       "<Figure size 864x576 with 1 Axes>"
      ]
     },
     "metadata": {
      "needs_background": "light"
     },
     "output_type": "display_data"
    }
   ],
   "source": [
    "# graph of the training\n",
    "pd.DataFrame(history.history).plot(figsize=(12, 8))\n",
    "plt.grid(True)\n",
    "plt.legend()\n",
    "plt.gca().set_ylim(0, 1) # set the vertical range to [0-1]\n",
    "plt.xlabel('epochs')\n",
    "plt.show()\n",
    "# plt.savefig('bilstm_all_metrics.png')"
   ]
  },
  {
   "cell_type": "code",
   "execution_count": 66,
   "metadata": {
    "colab": {
     "base_uri": "https://localhost:8080/",
     "height": 283
    },
    "executionInfo": {
     "elapsed": 9,
     "status": "ok",
     "timestamp": 1650050850501,
     "user": {
      "displayName": "Milandu Keith Moussavou Boussougou",
      "userId": "16125998280788005643"
     },
     "user_tz": -540
    },
    "id": "v7mZvFajIvPQ",
    "outputId": "9f10a503-a1e4-49ec-e0b1-9a58676bbe18",
    "pycharm": {
     "name": "#%%\n"
    }
   },
   "outputs": [
    {
     "data": {
      "image/png": "[encoded data removed]",
      "text/plain": [
       "<Figure size 432x288 with 1 Axes>"
      ]
     },
     "metadata": {
      "needs_background": "light"
     },
     "output_type": "display_data"
    }
   ],
   "source": [
    "# graph of the training\n",
    "plt.plot(history.epoch, history.history['loss'], '-o', label='training_loss')\n",
    "plt.plot(history.epoch, history.history['val_loss'], '-o', label='validation_loss')\n",
    "plt.legend()\n",
    "plt.gca().set_ylim(0, 1) # set the vertical range to [0-1]\n",
    "plt.grid(True)\n",
    "plt.xlim(left=0)\n",
    "plt.xlabel('epochs')\n",
    "plt.ylabel('loss')\n",
    "plt.show()\n",
    "# plt.savefig('bilstm_loss_metrics.png')"
   ]
  },
  {
   "cell_type": "code",
   "execution_count": 47,
   "metadata": {
    "colab": {
     "base_uri": "https://localhost:8080/",
     "height": 279
    },
    "executionInfo": {
     "elapsed": 449,
     "status": "ok",
     "timestamp": 1650050850943,
     "user": {
      "displayName": "Milandu Keith Moussavou Boussougou",
      "userId": "16125998280788005643"
     },
     "user_tz": -540
    },
    "id": "CWGAIyzKEunr",
    "outputId": "99f4c206-d3e1-445c-8b7f-583154e7d01b",
    "pycharm": {
     "name": "#%%\n"
    }
   },
   "outputs": [
    {
     "data": {
      "image/png": "[encoded data removed]",
      "text/plain": [
       "<Figure size 432x288 with 1 Axes>"
      ]
     },
     "metadata": {
      "needs_background": "light"
     },
     "output_type": "display_data"
    }
   ],
   "source": [
    "# graph of the training\n",
    "plt.plot(history.epoch, history.history['accuracy'], '-o', label='training_accuracy')\n",
    "plt.plot(history.epoch, history.history['val_accuracy'], '-o', label='validation_accuracy')\n",
    "plt.grid(True)\n",
    "plt.legend()\n",
    "plt.xlim(left=0)\n",
    "plt.xlabel('epochs')\n",
    "plt.ylabel('accuracy')\n",
    "plt.show()\n",
    "# plt.savefig('bilstm_accuracy_metrics.png')"
   ]
  },
  {
   "cell_type": "code",
   "execution_count": 48,
   "metadata": {
    "executionInfo": {
     "elapsed": 6,
     "status": "ok",
     "timestamp": 1650050850944,
     "user": {
      "displayName": "Milandu Keith Moussavou Boussougou",
      "userId": "16125998280788005643"
     },
     "user_tz": -540
    },
    "id": "kWasMajzmWiB",
    "pycharm": {
     "name": "#%%\n"
    }
   },
   "outputs": [],
   "source": [
    "# graph of the training\n",
    "# plt.plot(history.epoch, history.history['accuracy'], '-o', label='training_accuracy')\n",
    "# plt.plot(history.epoch, history.history['val_accuracy'], '-o', label='validation_accuracy')\n",
    "# plt.grid(True)\n",
    "# plt.legend()\n",
    "# plt.xlim(left=0)\n",
    "# plt.xlabel('epochs')\n",
    "# plt.ylabel('accuracy')\n",
    "# plt.show()"
   ]
  },
  {
   "cell_type": "code",
   "execution_count": 49,
   "metadata": {
    "colab": {
     "base_uri": "https://localhost:8080/"
    },
    "executionInfo": {
     "elapsed": 1295,
     "status": "ok",
     "timestamp": 1650050865383,
     "user": {
      "displayName": "Milandu Keith Moussavou Boussougou",
      "userId": "16125998280788005643"
     },
     "user_tz": -540
    },
    "id": "Ln_aayMpra-3",
    "outputId": "7ebe2d18-02cb-4f16-988c-965168ce949f",
    "pycharm": {
     "name": "#%%\n"
    }
   },
   "outputs": [
    {
     "name": "stdout",
     "output_type": "stream",
     "text": [
      "CPU times: user 177 ms, sys: 462 ms, total: 639 ms\n",
      "Wall time: 617 ms\n"
     ]
    }
   ],
   "source": [
    "%%time\n",
    "model.save(\"BiLSTM_10EP_\" + datetime.now().strftime(\"%Y%m%d\") + \".h5\")"
   ]
  },
  {
   "cell_type": "markdown",
   "metadata": {
    "id": "Q-2hdLlghbJC",
    "pycharm": {
     "name": "#%% md\n"
    }
   },
   "source": [
    "## Evaluate model with test data and view results"
   ]
  },
  {
   "cell_type": "code",
   "execution_count": 50,
   "metadata": {
    "executionInfo": {
     "elapsed": 6,
     "status": "ok",
     "timestamp": 1650050865384,
     "user": {
      "displayName": "Milandu Keith Moussavou Boussougou",
      "userId": "16125998280788005643"
     },
     "user_tz": -540
    },
    "id": "gK040sga5FZT",
    "pycharm": {
     "name": "#%%\n"
    }
   },
   "outputs": [],
   "source": [
    "# Get Model Predictions for test data\n",
    "# predicted_classes = model.predict_classes(X_test)\n",
    "# print(classification_report(y_test, predicted_classes))"
   ]
  },
  {
   "cell_type": "code",
   "execution_count": 51,
   "metadata": {
    "colab": {
     "base_uri": "https://localhost:8080/"
    },
    "executionInfo": {
     "elapsed": 20345,
     "status": "ok",
     "timestamp": 1650050885724,
     "user": {
      "displayName": "Milandu Keith Moussavou Boussougou",
      "userId": "16125998280788005643"
     },
     "user_tz": -540
    },
    "id": "Pk3l7LzBaKQS",
    "outputId": "697eedca-28c3-430e-ace3-576247fb3ff4",
    "pycharm": {
     "name": "#%%\n"
    }
   },
   "outputs": [
    {
     "data": {
      "text/plain": [
       "array([[5.4806119e-06, 9.9999452e-01],\n",
       "       [9.9790925e-01, 2.0906744e-03],\n",
       "       [4.1673916e-06, 9.9999583e-01],\n",
       "       ...,\n",
       "       [3.8101598e-06, 9.9999619e-01],\n",
       "       [4.0237501e-06, 9.9999595e-01],\n",
       "       [9.9795461e-01, 2.0453404e-03]], dtype=float32)"
      ]
     },
     "execution_count": 51,
     "metadata": {},
     "output_type": "execute_result"
    }
   ],
   "source": [
    "# Get Model Predictions for test data\n",
    "predicted = model.predict(X_test)\n",
    "predicted"
   ]
  },
  {
   "cell_type": "code",
   "execution_count": 52,
   "metadata": {
    "colab": {
     "base_uri": "https://localhost:8080/"
    },
    "executionInfo": {
     "elapsed": 29,
     "status": "ok",
     "timestamp": 1650050885724,
     "user": {
      "displayName": "Milandu Keith Moussavou Boussougou",
      "userId": "16125998280788005643"
     },
     "user_tz": -540
    },
    "id": "6_ozxtFcCrou",
    "outputId": "3f918029-3cbe-47e3-9225-8a744352ba6e",
    "pycharm": {
     "name": "#%%\n"
    }
   },
   "outputs": [
    {
     "name": "stdout",
     "output_type": "stream",
     "text": [
      "[1 0 1 ... 1 1 0]\n"
     ]
    }
   ],
   "source": [
    "predicted=np.argmax(predicted, axis=1)\n",
    "print(predicted)"
   ]
  },
  {
   "cell_type": "code",
   "execution_count": 53,
   "metadata": {
    "colab": {
     "base_uri": "https://localhost:8080/"
    },
    "executionInfo": {
     "elapsed": 27,
     "status": "ok",
     "timestamp": 1650050885725,
     "user": {
      "displayName": "Milandu Keith Moussavou Boussougou",
      "userId": "16125998280788005643"
     },
     "user_tz": -540
    },
    "id": "DzRp9H9zEq-w",
    "outputId": "f24b6a3b-37cf-49ae-abad-0cea87d4e39b",
    "pycharm": {
     "name": "#%%\n"
    }
   },
   "outputs": [
    {
     "name": "stdout",
     "output_type": "stream",
     "text": [
      "[1 0 1 ... 1 1 0]\n"
     ]
    }
   ],
   "source": [
    "y_test=np.argmax(y_test,axis=1)\n",
    "print(y_test)"
   ]
  },
  {
   "cell_type": "code",
   "execution_count": 54,
   "metadata": {
    "colab": {
     "base_uri": "https://localhost:8080/"
    },
    "executionInfo": {
     "elapsed": 20,
     "status": "ok",
     "timestamp": 1650050885725,
     "user": {
      "displayName": "Milandu Keith Moussavou Boussougou",
      "userId": "16125998280788005643"
     },
     "user_tz": -540
    },
    "id": "Cz9mmLYeCAcf",
    "outputId": "fa5626a9-70fc-4737-db08-8b59197d84e6",
    "pycharm": {
     "name": "#%%\n"
    }
   },
   "outputs": [
    {
     "name": "stdout",
     "output_type": "stream",
     "text": [
      "              precision    recall  f1-score   support\n",
      "\n",
      "           0       1.00      1.00      1.00       212\n",
      "           1       1.00      1.00      1.00      1805\n",
      "\n",
      "    accuracy                           1.00      2017\n",
      "   macro avg       1.00      1.00      1.00      2017\n",
      "weighted avg       1.00      1.00      1.00      2017\n",
      "\n"
     ]
    }
   ],
   "source": [
    "report = classification_report(y_test, predicted)\n",
    "print(report)"
   ]
  },
  {
   "cell_type": "code",
   "execution_count": 57,
   "metadata": {
    "colab": {
     "base_uri": "https://localhost:8080/"
    },
    "executionInfo": {
     "elapsed": 17,
     "status": "ok",
     "timestamp": 1650050885726,
     "user": {
      "displayName": "Milandu Keith Moussavou Boussougou",
      "userId": "16125998280788005643"
     },
     "user_tz": -540
    },
    "id": "FmLd7rRTD8nV",
    "outputId": "ddd1a1c4-fe4f-4dfb-9065-dd5258e97e19",
    "pycharm": {
     "name": "#%%\n"
    }
   },
   "outputs": [
    {
     "name": "stdout",
     "output_type": "stream",
     "text": [
      "[[ 212    0]\n",
      " [   0 1805]]\n"
     ]
    }
   ],
   "source": [
    "cm = confusion_matrix(y_test, predicted)\n",
    "print(cm)"
   ]
  },
  {
   "cell_type": "code",
   "execution_count": 58,
   "metadata": {
    "colab": {
     "base_uri": "https://localhost:8080/",
     "height": 237
    },
    "executionInfo": {
     "elapsed": 2974,
     "status": "error",
     "timestamp": 1650050888685,
     "user": {
      "displayName": "Milandu Keith Moussavou Boussougou",
      "userId": "16125998280788005643"
     },
     "user_tz": -540
    },
    "id": "IcFCEkJAWYn3",
    "outputId": "9f53abab-7f0b-4b2c-d255-d4905816b264",
    "pycharm": {
     "name": "#%%\n"
    }
   },
   "outputs": [
    {
     "name": "stdout",
     "output_type": "stream",
     "text": [
      "64/64 [==============================] - 0s 3ms/step - loss: 0.0000e+00 - accuracy: 0.0000e+00 - binary_accuracy: 0.0000e+00 - auc: 0.0000e+00 - precision: 0.0000e+00 - recall: 0.0000e+00\n"
     ]
    },
    {
     "ename": "ValueError",
     "evalue": "too many values to unpack (expected 2)",
     "output_type": "error",
     "traceback": [
      "\u001B[0;31m---------------------------------------------------------------------------\u001B[0m",
      "\u001B[0;31mValueError\u001B[0m                                Traceback (most recent call last)",
      "Input \u001B[0;32mIn [58]\u001B[0m, in \u001B[0;36m<cell line: 1>\u001B[0;34m()\u001B[0m\n\u001B[0;32m----> 1\u001B[0m test_loss, test_acc \u001B[38;5;241m=\u001B[39m model\u001B[38;5;241m.\u001B[39mevaluate(X_test)\n\u001B[1;32m      2\u001B[0m \u001B[38;5;28mprint\u001B[39m(\u001B[38;5;124m'\u001B[39m\u001B[38;5;124mTest Loss: \u001B[39m\u001B[38;5;132;01m{}\u001B[39;00m\u001B[38;5;124m'\u001B[39m\u001B[38;5;241m.\u001B[39mformat(test_loss))\n\u001B[1;32m      3\u001B[0m \u001B[38;5;28mprint\u001B[39m(\u001B[38;5;124m'\u001B[39m\u001B[38;5;124mTest Accuracy: \u001B[39m\u001B[38;5;132;01m{}\u001B[39;00m\u001B[38;5;124m'\u001B[39m\u001B[38;5;241m.\u001B[39mformat(test_acc))\n",
      "\u001B[0;31mValueError\u001B[0m: too many values to unpack (expected 2)"
     ]
    }
   ],
   "source": [
    "test_loss, test_acc = model.evaluate(X_test)\n",
    "print('Test Loss: {}'.format(test_loss))\n",
    "print('Test Accuracy: {}'.format(test_acc))"
   ]
  },
  {
   "cell_type": "code",
   "execution_count": null,
   "metadata": {
    "executionInfo": {
     "elapsed": 4,
     "status": "ok",
     "timestamp": 1650078456615,
     "user": {
      "displayName": "Milandu Keith Moussavou Boussougou",
      "userId": "16125998280788005643"
     },
     "user_tz": -540
    },
    "id": "f4kEzYoJso6s",
    "pycharm": {
     "name": "#%%\n"
    }
   },
   "outputs": [],
   "source": [
    "# predict crisp classes for test set\n",
    "# yhat_classes = model.predict_classes(X_test, verbose=1)\n",
    "# yhat_classes = model.predict(x = X_test) > 0.5, verbose=1).astype(\"int32\")"
   ]
  },
  {
   "cell_type": "code",
   "execution_count": 59,
   "metadata": {
    "colab": {
     "base_uri": "https://localhost:8080/",
     "height": 235
    },
    "executionInfo": {
     "elapsed": 288,
     "status": "error",
     "timestamp": 1650078459150,
     "user": {
      "displayName": "Milandu Keith Moussavou Boussougou",
      "userId": "16125998280788005643"
     },
     "user_tz": -540
    },
    "id": "V7z4pEo1s9B6",
    "outputId": "6b96726c-9764-451a-bd55-727a3a9be7c7",
    "pycharm": {
     "name": "#%%\n"
    }
   },
   "outputs": [
    {
     "name": "stdout",
     "output_type": "stream",
     "text": [
      "Testing Accuracy: 1.000000\n",
      "Testing Precision: 1.000000\n",
      "Testing Recall: 1.000000\n",
      "Testing F1 score: 1.000000\n"
     ]
    }
   ],
   "source": [
    "# accuracy: (tp + tn) / (p + n)\n",
    "accuracy = accuracy_score(y_test, predicted)\n",
    "print('Testing Accuracy: %f' % accuracy)\n",
    "# precision tp / (tp + fp)\n",
    "precision = precision_score(y_test, predicted,average='weighted')\n",
    "print('Testing Precision: %f' % precision)\n",
    "# recall: tp / (tp + fn)\n",
    "recall = recall_score(y_test, predicted,average='weighted')\n",
    "print('Testing Recall: %f' % recall)\n",
    "# f1: 2 tp / (2 tp + fp + fn)\n",
    "f1 = f1_score(y_test, predicted,average='weighted')\n",
    "print('Testing F1 score: %f' % f1)"
   ]
  },
  {
   "cell_type": "code",
   "execution_count": null,
   "metadata": {
    "executionInfo": {
     "elapsed": 32,
     "status": "aborted",
     "timestamp": 1650050888679,
     "user": {
      "displayName": "Milandu Keith Moussavou Boussougou",
      "userId": "16125998280788005643"
     },
     "user_tz": -540
    },
    "id": "bdLoApx0hrjg",
    "pycharm": {
     "name": "#%%\n"
    }
   },
   "outputs": [],
   "source": [
    "# reduce to 1d array\n",
    "#yhat_probs = yhat_probs[:, 0]\n",
    "#yhat_classes = yhat_classes[:, 0]"
   ]
  },
  {
   "cell_type": "code",
   "execution_count": 60,
   "metadata": {
    "executionInfo": {
     "elapsed": 32,
     "status": "aborted",
     "timestamp": 1650050888679,
     "user": {
      "displayName": "Milandu Keith Moussavou Boussougou",
      "userId": "16125998280788005643"
     },
     "user_tz": -540
    },
    "id": "MnBvS0wahjHx",
    "pycharm": {
     "name": "#%%\n"
    }
   },
   "outputs": [
    {
     "name": "stdout",
     "output_type": "stream",
     "text": [
      "64/64 [==============================] - 13s 196ms/step\n"
     ]
    }
   ],
   "source": [
    "#######################for testing####################\n",
    "yhat_probs = model.predict(X_test, verbose=1)"
   ]
  },
  {
   "cell_type": "code",
   "execution_count": 61,
   "metadata": {
    "executionInfo": {
     "elapsed": 33,
     "status": "aborted",
     "timestamp": 1650050888680,
     "user": {
      "displayName": "Milandu Keith Moussavou Boussougou",
      "userId": "16125998280788005643"
     },
     "user_tz": -540
    },
    "id": "UEK4po0shtnB",
    "pycharm": {
     "name": "#%%\n"
    }
   },
   "outputs": [
    {
     "ename": "ValueError",
     "evalue": "Classification metrics can't handle a mix of binary and continuous-multioutput targets",
     "output_type": "error",
     "traceback": [
      "\u001B[0;31m---------------------------------------------------------------------------\u001B[0m",
      "\u001B[0;31mValueError\u001B[0m                                Traceback (most recent call last)",
      "Input \u001B[0;32mIn [61]\u001B[0m, in \u001B[0;36m<cell line: 2>\u001B[0;34m()\u001B[0m\n\u001B[1;32m      1\u001B[0m \u001B[38;5;66;03m# accuracy: (tp + tn) / (p + n)\u001B[39;00m\n\u001B[0;32m----> 2\u001B[0m accuracy \u001B[38;5;241m=\u001B[39m \u001B[43maccuracy_score\u001B[49m\u001B[43m(\u001B[49m\u001B[43my_test\u001B[49m\u001B[43m,\u001B[49m\u001B[43m \u001B[49m\u001B[43myhat_probs\u001B[49m\u001B[43m)\u001B[49m\n\u001B[1;32m      3\u001B[0m \u001B[38;5;28mprint\u001B[39m(\u001B[38;5;124m'\u001B[39m\u001B[38;5;124mTesting Accuracy: \u001B[39m\u001B[38;5;132;01m%f\u001B[39;00m\u001B[38;5;124m'\u001B[39m \u001B[38;5;241m%\u001B[39m accuracy)\n\u001B[1;32m      4\u001B[0m \u001B[38;5;66;03m# precision tp / (tp + fp)\u001B[39;00m\n",
      "File \u001B[0;32m/home/phenomx/anaconda3/envs/vishing/lib/python3.10/site-packages/sklearn/metrics/_classification.py:211\u001B[0m, in \u001B[0;36maccuracy_score\u001B[0;34m(y_true, y_pred, normalize, sample_weight)\u001B[0m\n\u001B[1;32m    145\u001B[0m \u001B[38;5;124;03m\"\"\"Accuracy classification score.\u001B[39;00m\n\u001B[1;32m    146\u001B[0m \n\u001B[1;32m    147\u001B[0m \u001B[38;5;124;03mIn multilabel classification, this function computes subset accuracy:\u001B[39;00m\n\u001B[0;32m   (...)\u001B[0m\n\u001B[1;32m    207\u001B[0m \u001B[38;5;124;03m0.5\u001B[39;00m\n\u001B[1;32m    208\u001B[0m \u001B[38;5;124;03m\"\"\"\u001B[39;00m\n\u001B[1;32m    210\u001B[0m \u001B[38;5;66;03m# Compute accuracy for each possible representation\u001B[39;00m\n\u001B[0;32m--> 211\u001B[0m y_type, y_true, y_pred \u001B[38;5;241m=\u001B[39m \u001B[43m_check_targets\u001B[49m\u001B[43m(\u001B[49m\u001B[43my_true\u001B[49m\u001B[43m,\u001B[49m\u001B[43m \u001B[49m\u001B[43my_pred\u001B[49m\u001B[43m)\u001B[49m\n\u001B[1;32m    212\u001B[0m check_consistent_length(y_true, y_pred, sample_weight)\n\u001B[1;32m    213\u001B[0m \u001B[38;5;28;01mif\u001B[39;00m y_type\u001B[38;5;241m.\u001B[39mstartswith(\u001B[38;5;124m\"\u001B[39m\u001B[38;5;124mmultilabel\u001B[39m\u001B[38;5;124m\"\u001B[39m):\n",
      "File \u001B[0;32m/home/phenomx/anaconda3/envs/vishing/lib/python3.10/site-packages/sklearn/metrics/_classification.py:93\u001B[0m, in \u001B[0;36m_check_targets\u001B[0;34m(y_true, y_pred)\u001B[0m\n\u001B[1;32m     90\u001B[0m     y_type \u001B[38;5;241m=\u001B[39m {\u001B[38;5;124m\"\u001B[39m\u001B[38;5;124mmulticlass\u001B[39m\u001B[38;5;124m\"\u001B[39m}\n\u001B[1;32m     92\u001B[0m \u001B[38;5;28;01mif\u001B[39;00m \u001B[38;5;28mlen\u001B[39m(y_type) \u001B[38;5;241m>\u001B[39m \u001B[38;5;241m1\u001B[39m:\n\u001B[0;32m---> 93\u001B[0m     \u001B[38;5;28;01mraise\u001B[39;00m \u001B[38;5;167;01mValueError\u001B[39;00m(\n\u001B[1;32m     94\u001B[0m         \u001B[38;5;124m\"\u001B[39m\u001B[38;5;124mClassification metrics can\u001B[39m\u001B[38;5;124m'\u001B[39m\u001B[38;5;124mt handle a mix of \u001B[39m\u001B[38;5;132;01m{0}\u001B[39;00m\u001B[38;5;124m and \u001B[39m\u001B[38;5;132;01m{1}\u001B[39;00m\u001B[38;5;124m targets\u001B[39m\u001B[38;5;124m\"\u001B[39m\u001B[38;5;241m.\u001B[39mformat(\n\u001B[1;32m     95\u001B[0m             type_true, type_pred\n\u001B[1;32m     96\u001B[0m         )\n\u001B[1;32m     97\u001B[0m     )\n\u001B[1;32m     99\u001B[0m \u001B[38;5;66;03m# We can't have more than one value on y_type => The set is no more needed\u001B[39;00m\n\u001B[1;32m    100\u001B[0m y_type \u001B[38;5;241m=\u001B[39m y_type\u001B[38;5;241m.\u001B[39mpop()\n",
      "\u001B[0;31mValueError\u001B[0m: Classification metrics can't handle a mix of binary and continuous-multioutput targets"
     ]
    }
   ],
   "source": [
    "# accuracy: (tp + tn) / (p + n)\n",
    "accuracy = accuracy_score(y_test, yhat_probs)\n",
    "print('Testing Accuracy: %f' % accuracy)\n",
    "# precision tp / (tp + fp)\n",
    "precision = precision_score(y_test, yhat_probs,average='weighted')\n",
    "print('Testing Precision: %f' % precision)\n",
    "# recall: tp / (tp + fn)\n",
    "recall = recall_score(y_test, yhat_probs,average='weighted')\n",
    "print('Testing Recall: %f' % recall)\n",
    "# f1: 2 tp / (2 tp + fp + fn)\n",
    "f1 = f1_score(y_test, yhat_probs,average='weighted')\n",
    "print('Testing F1 score: %f' % f1)"
   ]
  },
  {
   "cell_type": "code",
   "execution_count": null,
   "metadata": {
    "executionInfo": {
     "elapsed": 32,
     "status": "aborted",
     "timestamp": 1650050888680,
     "user": {
      "displayName": "Milandu Keith Moussavou Boussougou",
      "userId": "16125998280788005643"
     },
     "user_tz": -540
    },
    "id": "I6jMA-35tvaf",
    "pycharm": {
     "name": "#%%\n"
    }
   },
   "outputs": [],
   "source": [
    "# Setting up our results dataframe\n",
    "df_results = pd.DataFrame(columns=['F1_score', 'Precision', 'Recall', 'Accuracy', 'Accuracy1', 'Training time'])\n",
    "\n",
    "# append the results\n",
    "df_results.loc['BiLSTM'] = [f1, precision, recall, accuracy, accuracy, run_time]\n",
    "df_results"
   ]
  },
  {
   "cell_type": "markdown",
   "metadata": {
    "id": "3k1AJ1J1p5P2",
    "pycharm": {
     "name": "#%% md\n"
    }
   },
   "source": [
    "## Save performances result to SVC file\n"
   ]
  },
  {
   "cell_type": "code",
   "execution_count": null,
   "metadata": {
    "executionInfo": {
     "elapsed": 33,
     "status": "aborted",
     "timestamp": 1650050888681,
     "user": {
      "displayName": "Milandu Keith Moussavou Boussougou",
      "userId": "16125998280788005643"
     },
     "user_tz": -540
    },
    "id": "_3zns6a1p_u6",
    "pycharm": {
     "name": "#%%\n"
    }
   },
   "outputs": [],
   "source": [
    "# save the training results\n",
    "df_results.to_csv(\"performances_BiLSTM_algorithm_\" + datetime.now().strftime(\"%Y%m%d\") + \".csv\")"
   ]
  },
  {
   "cell_type": "code",
   "execution_count": null,
   "metadata": {
    "executionInfo": {
     "elapsed": 34,
     "status": "aborted",
     "timestamp": 1650050888682,
     "user": {
      "displayName": "Milandu Keith Moussavou Boussougou",
      "userId": "16125998280788005643"
     },
     "user_tz": -540
    },
    "id": "kkZiYNhQqnSI",
    "pycharm": {
     "name": "#%%\n"
    }
   },
   "outputs": [],
   "source": [
    "# ls -l"
   ]
  },
  {
   "cell_type": "markdown",
   "metadata": {
    "id": "hD5hbFReLVGZ",
    "pycharm": {
     "name": "#%% md\n"
    }
   },
   "source": [
    "## Evaluation of the model"
   ]
  },
  {
   "cell_type": "code",
   "execution_count": null,
   "metadata": {
    "executionInfo": {
     "elapsed": 34,
     "status": "aborted",
     "timestamp": 1650050888683,
     "user": {
      "displayName": "Milandu Keith Moussavou Boussougou",
      "userId": "16125998280788005643"
     },
     "user_tz": -540
    },
    "id": "cle2i5C5GgUB",
    "pycharm": {
     "name": "#%%\n"
    }
   },
   "outputs": [],
   "source": [
    "# %%time\n",
    "# ##Evaluation of the model\n",
    "# results = model.evaluate(X_test, \n",
    "#                y_test,\n",
    "#               #  batch_size=8\n",
    "#                )\n",
    "# print(\"test loss, test acc:\", results)"
   ]
  },
  {
   "cell_type": "markdown",
   "metadata": {
    "id": "SYkTpt9MLS5c",
    "pycharm": {
     "name": "#%% md\n"
    }
   },
   "source": [
    "# Using the model to make predictions"
   ]
  },
  {
   "cell_type": "code",
   "execution_count": null,
   "metadata": {
    "executionInfo": {
     "elapsed": 34,
     "status": "aborted",
     "timestamp": 1650050888683,
     "user": {
      "displayName": "Milandu Keith Moussavou Boussougou",
      "userId": "16125998280788005643"
     },
     "user_tz": -540
    },
    "id": "LZ7jEYNKMJXg",
    "pycharm": {
     "name": "#%%\n"
    }
   },
   "outputs": [],
   "source": [
    "# %%time\n",
    "# X_new = X_test[:10]\n",
    "# y_proba = model.predict(X_new)\n",
    "# y_proba.round(2)\n",
    "# print(\"predictions shape:\", y_proba.shape)"
   ]
  },
  {
   "cell_type": "code",
   "execution_count": null,
   "metadata": {
    "executionInfo": {
     "elapsed": 35,
     "status": "aborted",
     "timestamp": 1650050888684,
     "user": {
      "displayName": "Milandu Keith Moussavou Boussougou",
      "userId": "16125998280788005643"
     },
     "user_tz": -540
    },
    "id": "voBuKMwXBZxl",
    "pycharm": {
     "name": "#%%\n"
    }
   },
   "outputs": [],
   "source": [
    "# y_proba"
   ]
  },
  {
   "cell_type": "code",
   "execution_count": null,
   "metadata": {
    "executionInfo": {
     "elapsed": 35,
     "status": "aborted",
     "timestamp": 1650050888684,
     "user": {
      "displayName": "Milandu Keith Moussavou Boussougou",
      "userId": "16125998280788005643"
     },
     "user_tz": -540
    },
    "id": "9SHQw1PmHSZs",
    "pycharm": {
     "name": "#%%\n"
    }
   },
   "outputs": [],
   "source": [
    "# cpu_model = get_model()\n",
    "# cpu_model.load_weights('./DNN_TPU_1024.h5')\n",
    "# cpu_predictions = cpu_model.predict(data)\n",
    "# template = ('\\nPrediction is \"{}\" ({:.1f}%), expected \"{}\"')\n",
    "# for pred_dict, expec in zip(cpu_predictions, PREDICTION_OUTPUT_DATA):\n",
    "#   class_index = np.argmax(pred_dict)\n",
    "#   class_probability = np.max(pred_dict)\n",
    "#   print(template.format(SPECIES[class_index], 100*class_probability, expec))"
   ]
  }
 ],
 "metadata": {
  "accelerator": "GPU",
  "colab": {
   "collapsed_sections": [
    "LXmNhcPAsPcP",
    "SaJuO8KQiBbB",
    "du9itd7XiHCS"
   ],
   "name": "BiLSTM_FastText_encoding_model.ipynb",
   "provenance": []
  },
  "kernelspec": {
   "display_name": "dltest",
   "language": "python",
   "name": "dltest"
  },
  "language_info": {
   "codemirror_mode": {
    "name": "ipython",
    "version": 3
   },
   "file_extension": ".py",
   "mimetype": "text/x-python",
   "name": "python",
   "nbconvert_exporter": "python",
   "pygments_lexer": "ipython3",
   "version": "3.10.4"
  }
 },
 "nbformat": 4,
 "nbformat_minor": 4
}