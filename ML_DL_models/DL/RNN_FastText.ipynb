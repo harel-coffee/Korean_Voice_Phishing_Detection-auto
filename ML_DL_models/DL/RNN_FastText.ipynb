{
 "nbformat": 4,
 "nbformat_minor": 0,
 "metadata": {
  "accelerator": "GPU",
  "colab": {
   "name": "RNN_FastText.ipynb",
   "provenance": [],
   "collapsed_sections": [
    "xoptsLre1Qjv"
   ]
  },
  "kernelspec": {
   "display_name": "Python 3",
   "name": "python3"
  },
  "language_info": {
   "name": "python"
  }
 },
 "cells": [
  {
   "cell_type": "markdown",
   "metadata": {
    "id": "Dt2izApJxkYh",
    "pycharm": {
     "name": "#%% md\n"
    }
   },
   "source": [
    "## Mount Google Drive\n"
   ]
  },
  {
   "cell_type": "code",
   "metadata": {
    "id": "fgLdP04XKCJm",
    "colab": {
     "base_uri": "https://localhost:8080/"
    },
    "executionInfo": {
     "status": "ok",
     "timestamp": 1649914400042,
     "user_tz": -540,
     "elapsed": 10,
     "user": {
      "displayName": "Milandu Keith Moussavou Boussougou",
      "userId": "16125998280788005643"
     }
    },
    "outputId": "878ed08e-5959-4b92-809b-88ee50a3396e",
    "pycharm": {
     "name": "#%%\n"
    }
   },
   "source": [
    "!nvidia-smi"
   ],
   "execution_count": 1,
   "outputs": [
    {
     "output_type": "stream",
     "name": "stdout",
     "text": [
      "NVIDIA-SMI has failed because it couldn't communicate with the NVIDIA driver. Make sure that the latest NVIDIA driver is installed and running.\n",
      "\n"
     ]
    }
   ]
  },
  {
   "cell_type": "code",
   "metadata": {
    "id": "ScqQ4S7ThcMS",
    "colab": {
     "base_uri": "https://localhost:8080/"
    },
    "executionInfo": {
     "status": "ok",
     "timestamp": 1649914424952,
     "user_tz": -540,
     "elapsed": 24915,
     "user": {
      "displayName": "Milandu Keith Moussavou Boussougou",
      "userId": "16125998280788005643"
     }
    },
    "outputId": "273dc3b5-7170-416e-9219-ca12d95327bc",
    "pycharm": {
     "name": "#%%\n"
    }
   },
   "source": [
    "from google.colab import drive\n",
    "drive.mount('drive')"
   ],
   "execution_count": 2,
   "outputs": [
    {
     "output_type": "stream",
     "name": "stdout",
     "text": [
      "Mounted at drive\n"
     ]
    }
   ]
  },
  {
   "cell_type": "code",
   "metadata": {
    "id": "zZESESLVhf2N",
    "colab": {
     "base_uri": "https://localhost:8080/"
    },
    "executionInfo": {
     "status": "ok",
     "timestamp": 1649914425419,
     "user_tz": -540,
     "elapsed": 483,
     "user": {
      "displayName": "Milandu Keith Moussavou Boussougou",
      "userId": "16125998280788005643"
     }
    },
    "outputId": "436bbdd1-1652-4da9-eef9-e5f2cf7f0a7e",
    "pycharm": {
     "name": "#%%\n"
    }
   },
   "source": [
    "cd drive/My\\ Drive/Colab\\ Notebooks/voice_phishing/DL"
   ],
   "execution_count": 3,
   "outputs": [
    {
     "output_type": "stream",
     "name": "stdout",
     "text": [
      "/content/drive/My Drive/Colab Notebooks/voice_phishing/DL\n"
     ]
    }
   ]
  },
  {
   "cell_type": "code",
   "metadata": {
    "id": "EsQfqYhVhpNa",
    "executionInfo": {
     "status": "ok",
     "timestamp": 1649914425420,
     "user_tz": -540,
     "elapsed": 23,
     "user": {
      "displayName": "Milandu Keith Moussavou Boussougou",
      "userId": "16125998280788005643"
     }
    },
    "pycharm": {
     "name": "#%%\n"
    }
   },
   "source": [
    "# ls -l"
   ],
   "execution_count": 4,
   "outputs": []
  },
  {
   "cell_type": "markdown",
   "metadata": {
    "id": "OzI87rVkxsSy",
    "pycharm": {
     "name": "#%% md\n"
    }
   },
   "source": [
    "# Import the Librairies"
   ]
  },
  {
   "cell_type": "code",
   "metadata": {
    "id": "k2_UKFF1xrFR",
    "executionInfo": {
     "status": "ok",
     "timestamp": 1649914432333,
     "user_tz": -540,
     "elapsed": 6935,
     "user": {
      "displayName": "Milandu Keith Moussavou Boussougou",
      "userId": "16125998280788005643"
     }
    },
    "pycharm": {
     "name": "#%%\n"
    }
   },
   "source": [
    "import numpy\n",
    "from keras.preprocessing.text import Tokenizer\n",
    "# from keras.utils import to_categorical\n",
    "from tensorflow.keras.utils import to_categorical\n",
    "from keras.models import Sequential\n",
    "from keras.layers import Dense,GRU, SimpleRNN\n",
    "from keras.layers import Dropout\n",
    "from keras.layers import LSTM\n",
    "from keras.callbacks import ModelCheckpoint\n",
    "from keras.utils import np_utils\n",
    "from keras.layers import Embedding\n",
    "from keras.preprocessing.sequence import pad_sequences\n",
    "from time import sleep\n",
    "import string\n",
    "from textblob import TextBlob\n",
    "from nltk.corpus import stopwords\n",
    "from nltk.stem.wordnet import WordNetLemmatizer\n",
    "import nltk\n",
    "import re\n",
    "from keras.callbacks import ModelCheckpoint\n",
    "from keras.callbacks import EarlyStopping\n",
    "earlystopping = EarlyStopping(monitor = 'loss', verbose = 1,patience = 8, mode = 'min')\n",
    "from glob import glob\n",
    "import numpy as np\n",
    "from tqdm import tqdm\n",
    "# from keras.utils import to_categorical\n",
    "# from sklearn.feature_extraction.stop_words import ENGLISH_STOP_WORDS\n",
    "from nltk.stem import PorterStemmer\n",
    "from nltk.stem import WordNetLemmatizer\n",
    "from keras.layers import Bidirectional, GlobalMaxPool1D\n",
    "from sklearn.preprocessing import StandardScaler, RobustScaler\n",
    "import os, re, csv, math, codecs\n",
    "import matplotlib.pyplot as plt\n",
    "import seaborn as sns\n",
    "import pandas as pd\n",
    "import numpy as np\n",
    "import math\n",
    "\n",
    "from sklearn.datasets import make_circles\n",
    "from sklearn.metrics import accuracy_score\n",
    "from sklearn.metrics import precision_score\n",
    "from sklearn.metrics import recall_score\n",
    "from sklearn.metrics import f1_score\n",
    "from sklearn.metrics import cohen_kappa_score\n",
    "from sklearn.metrics import roc_auc_score\n",
    "from sklearn.metrics import confusion_matrix\n",
    "from keras.models import Sequential\n",
    "from sklearn.metrics import classification_report\n",
    "\n",
    "import tensorflow as tf"
   ],
   "execution_count": 5,
   "outputs": []
  },
  {
   "cell_type": "markdown",
   "metadata": {
    "id": "pbcZbf6rxvlG",
    "pycharm": {
     "name": "#%% md\n"
    }
   },
   "source": [
    "# Load the NPZ file and prepare it"
   ]
  },
  {
   "cell_type": "code",
   "metadata": {
    "id": "fC3LLVksx1JI",
    "executionInfo": {
     "status": "ok",
     "timestamp": 1649914433110,
     "user_tz": -540,
     "elapsed": 780,
     "user": {
      "displayName": "Milandu Keith Moussavou Boussougou",
      "userId": "16125998280788005643"
     }
    },
    "pycharm": {
     "name": "#%%\n"
    }
   },
   "source": [
    "npsavezFile=np.load(\"OLD_outfile-new.npz\",allow_pickle=True)\n",
    "#print(npsavezFile.files)\n",
    "vocab=npsavezFile['arr_1']\n",
    "data=npsavezFile['arr_0']\n",
    "Y=npsavezFile['arr_2']\n",
    "Y=list(Y)\n",
    "\n",
    "max_length=max([len(i) for i in data])\n",
    "#print(\"max_length\",max_length) # max_length 35\n",
    "\n",
    "#print(sorted([len(i) for i in data]))\n",
    "\n",
    "\n",
    "word_id=dict((c,i) for i,c in enumerate(vocab))\n",
    "id_word=dict((i,c) for i,c in enumerate(vocab))\n",
    "#print(\"word_id\",word_id)\n",
    "#print(\"id_word\",id_word)\n",
    "\n",
    "\n",
    "X_train=[]\n",
    "for sentence in data:\n",
    "\tx=[]\n",
    "\tfor word in sentence:\n",
    "\t\tapp=word_id[word]\n",
    "\t\tx.append(app)\n",
    "\t\t\n",
    "\tX_train.append(x)"
   ],
   "execution_count": 6,
   "outputs": []
  },
  {
   "cell_type": "code",
   "metadata": {
    "id": "b0Mw3W5pyISY",
    "colab": {
     "base_uri": "https://localhost:8080/"
    },
    "executionInfo": {
     "status": "ok",
     "timestamp": 1649914433110,
     "user_tz": -540,
     "elapsed": 10,
     "user": {
      "displayName": "Milandu Keith Moussavou Boussougou",
      "userId": "16125998280788005643"
     }
    },
    "outputId": "c5330aaa-d766-43df-c6d9-a9fff0cddf98",
    "pycharm": {
     "name": "#%%\n"
    }
   },
   "source": [
    "max_length=max([len(i) for i in X_train])\n",
    "\n",
    "encoded = pad_sequences(X_train, maxlen=max_length, padding='pre')\n",
    "encoded=np.array(encoded)\n",
    "#encoded=np.true_divide(encoded, 500)\n",
    "#standard_scaler = StandardScaler()\n",
    "#robust_scaler = RobustScaler()\n",
    "#encoded = standard_scaler.fit_transform(encoded)\n",
    "print(\"encoded shape\",encoded.shape) #encoded shape (12924, 35)\n",
    "length_encoded=len(encoded)"
   ],
   "execution_count": 7,
   "outputs": [
    {
     "output_type": "stream",
     "name": "stdout",
     "text": [
      "encoded shape (1218, 4855)\n"
     ]
    }
   ]
  },
  {
   "cell_type": "code",
   "source": [
    "max_length"
   ],
   "metadata": {
    "id": "YN6HGe91bX5o",
    "colab": {
     "base_uri": "https://localhost:8080/"
    },
    "executionInfo": {
     "status": "ok",
     "timestamp": 1649914433111,
     "user_tz": -540,
     "elapsed": 7,
     "user": {
      "displayName": "Milandu Keith Moussavou Boussougou",
      "userId": "16125998280788005643"
     }
    },
    "outputId": "99836d69-28d9-43a4-d77d-a7cf2564fc31",
    "pycharm": {
     "name": "#%%\n"
    }
   },
   "execution_count": 8,
   "outputs": [
    {
     "output_type": "execute_result",
     "data": {
      "text/plain": [
       "4855"
      ]
     },
     "metadata": {},
     "execution_count": 8
    }
   ]
  },
  {
   "cell_type": "markdown",
   "metadata": {
    "id": "XLazmwxfx2zC",
    "pycharm": {
     "name": "#%% md\n"
    }
   },
   "source": [
    "# FastText embeddings\n"
   ]
  },
  {
   "cell_type": "code",
   "metadata": {
    "id": "36IrOlIByQ86",
    "colab": {
     "base_uri": "https://localhost:8080/"
    },
    "executionInfo": {
     "status": "ok",
     "timestamp": 1649914563570,
     "user_tz": -540,
     "elapsed": 120951,
     "user": {
      "displayName": "Milandu Keith Moussavou Boussougou",
      "userId": "16125998280788005643"
     }
    },
    "outputId": "8a07bbcf-eeb0-4d67-a268-c9a7b094257e",
    "pycharm": {
     "name": "#%%\n"
    }
   },
   "source": [
    "print('loading word embeddings...')\n",
    "embeddings_index = {}\n",
    "f = codecs.open('wiki.ko.vec', encoding='utf-8')\n",
    "\n",
    "for line in tqdm(f):\n",
    "    values = line.rstrip().rsplit(' ')\n",
    "    word = values[0]\n",
    "    coefs = np.asarray(values[1:], dtype='float32')\n",
    "    embeddings_index[word] = coefs\n",
    "f.close()\n",
    "\n",
    "MAX_NB_WORDS=len(vocab)\n",
    "print('found %s word vectors' % len(embeddings_index))\n",
    "print(\"tokenizing input data...\")\n",
    "\n",
    "tokenizer = Tokenizer(num_words=MAX_NB_WORDS, lower=True, char_level=False)\n",
    "tokenizer.fit_on_texts(data)  #leaky\n",
    "word_seq_train = tokenizer.texts_to_sequences(data)\n",
    "word_seq_test = tokenizer.texts_to_sequences(data)\n",
    "word_index = tokenizer.word_index\n",
    "print(\"dictionary size: \", len(word_index))\n",
    "embed_dim = 300 "
   ],
   "execution_count": 9,
   "outputs": [
    {
     "output_type": "stream",
     "name": "stdout",
     "text": [
      "loading word embeddings...\n"
     ]
    },
    {
     "output_type": "stream",
     "name": "stderr",
     "text": [
      "879131it [02:00, 7309.86it/s]\n"
     ]
    },
    {
     "output_type": "stream",
     "name": "stdout",
     "text": [
      "found 879130 word vectors\n",
      "tokenizing input data...\n",
      "dictionary size:  10024\n"
     ]
    }
   ]
  },
  {
   "cell_type": "code",
   "metadata": {
    "id": "YOAHxFdJzJCR",
    "colab": {
     "base_uri": "https://localhost:8080/"
    },
    "executionInfo": {
     "status": "ok",
     "timestamp": 1649891528068,
     "user_tz": -540,
     "elapsed": 26,
     "user": {
      "displayName": "Milandu Keith Moussavou Boussougou",
      "userId": "16125998280788005643"
     }
    },
    "outputId": "14815840-23d4-40e9-c890-b82f7830aaff",
    "pycharm": {
     "name": "#%%\n"
    }
   },
   "source": [
    "#embedding matrix\n",
    "print('preparing embedding matrix...')\n",
    "words_not_found = []\n",
    "nb_words = min(MAX_NB_WORDS, len(word_index))\n",
    "embedding_matrix = np.zeros((MAX_NB_WORDS, embed_dim))\n",
    "for word, i in word_index.items():\n",
    "    if i >= nb_words:\n",
    "        continue\n",
    "    embedding_vector = embeddings_index.get(word)\n",
    "    if (embedding_vector is not None) and len(embedding_vector) > 0:\n",
    "        # words not found in embedding index will be all-zeros.\n",
    "        embedding_matrix[i] = embedding_vector\n",
    "    else:\n",
    "        words_not_found.append(word)\n",
    "print('number of null word embeddings: %d' % np.sum(np.sum(embedding_matrix, axis=1) == 0))\n",
    "print(\"sample words not found: \", np.random.choice(words_not_found, 10))"
   ],
   "execution_count": 24,
   "outputs": [
    {
     "output_type": "stream",
     "name": "stdout",
     "text": [
      "preparing embedding matrix...\n",
      "number of null word embeddings: 23636\n",
      "sample words not found:  ['주는거지' '해드릴려면' '이백에' '있으셨기' '결과지나' '녹취상태로' '법무팀만' '수고했어요' '넉넉' '해줘야지']\n"
     ]
    }
   ]
  },
  {
   "cell_type": "markdown",
   "metadata": {
    "id": "HOYuNbA8zM4e",
    "pycharm": {
     "name": "#%% md\n"
    }
   },
   "source": [
    "# Split dataset"
   ]
  },
  {
   "cell_type": "code",
   "metadata": {
    "id": "HddLXX2GzOHY",
    "executionInfo": {
     "status": "ok",
     "timestamp": 1649891528068,
     "user_tz": -540,
     "elapsed": 20,
     "user": {
      "displayName": "Milandu Keith Moussavou Boussougou",
      "userId": "16125998280788005643"
     }
    },
    "pycharm": {
     "name": "#%%\n"
    }
   },
   "source": [
    "from sklearn.model_selection import train_test_split\n",
    "Y_train=np.array(Y)\n",
    "# Split the data\n",
    "trainX_data, testX_data, Y_TRAIN, Y_TEST = train_test_split(encoded, Y_train, test_size=0.30, shuffle= True)\n",
    "Ytrain=to_categorical(Y_TRAIN,num_classes=2)\n",
    "Ytest=to_categorical(Y_TEST,num_classes=2)"
   ],
   "execution_count": 25,
   "outputs": []
  },
  {
   "cell_type": "code",
   "metadata": {
    "id": "3IW4Ns1IzpDE",
    "colab": {
     "base_uri": "https://localhost:8080/"
    },
    "executionInfo": {
     "status": "ok",
     "timestamp": 1649891528069,
     "user_tz": -540,
     "elapsed": 21,
     "user": {
      "displayName": "Milandu Keith Moussavou Boussougou",
      "userId": "16125998280788005643"
     }
    },
    "outputId": "a7c628cd-d1f7-4be6-f8fe-ecb8acb7cf83",
    "pycharm": {
     "name": "#%%\n"
    }
   },
   "source": [
    "print('Train set size = {} \\nTest set size = {}'.format(len(trainX_data),len(testX_data)))"
   ],
   "execution_count": 26,
   "outputs": [
    {
     "output_type": "stream",
     "name": "stdout",
     "text": [
      "Train set size = 12593 \n",
      "Test set size = 5397\n"
     ]
    }
   ]
  },
  {
   "cell_type": "markdown",
   "metadata": {
    "id": "iSh_5TX_zW11",
    "pycharm": {
     "name": "#%% md\n"
    }
   },
   "source": [
    "# Build the RNN model"
   ]
  },
  {
   "cell_type": "code",
   "metadata": {
    "id": "ikYzjyhlzkeg",
    "executionInfo": {
     "status": "ok",
     "timestamp": 1649891528069,
     "user_tz": -540,
     "elapsed": 16,
     "user": {
      "displayName": "Milandu Keith Moussavou Boussougou",
      "userId": "16125998280788005643"
     }
    },
    "pycharm": {
     "name": "#%%\n"
    }
   },
   "source": [
    "from keras.callbacks import CSVLogger\n",
    "csv_logger = CSVLogger('training_RNN_220414.log', separator=',', append=False)"
   ],
   "execution_count": 27,
   "outputs": []
  },
  {
   "cell_type": "code",
   "metadata": {
    "id": "3gkevNO-zZ_D",
    "colab": {
     "base_uri": "https://localhost:8080/"
    },
    "executionInfo": {
     "status": "ok",
     "timestamp": 1649891531970,
     "user_tz": -540,
     "elapsed": 3916,
     "user": {
      "displayName": "Milandu Keith Moussavou Boussougou",
      "userId": "16125998280788005643"
     }
    },
    "outputId": "902c8143-ec6b-4482-97e7-c78d24a19a31",
    "pycharm": {
     "name": "#%%\n"
    }
   },
   "source": [
    "model = Sequential()\n",
    "model.add(Embedding(MAX_NB_WORDS, embed_dim,weights=[embedding_matrix], input_length=max_length, trainable=False))\n",
    "#model.add(Embedding(len(vocab), 10, input_length=max_length))\n",
    "#model.add(LSTM(128,input_shape=(encoded.shape[0],encoded.shape[1]),return_sequences=True))\n",
    "model.add(SimpleRNN(128,return_sequences=True))\n",
    "model.add(Dropout(0.25))\n",
    "model.add(SimpleRNN(128,return_sequences=True))\n",
    "model.add(Dropout(0.25))\n",
    "model.add(SimpleRNN(64,return_sequences=True))\n",
    "model.add(Dropout(0.25))\n",
    "model.add(SimpleRNN(64,return_sequences=True))\n",
    "model.add(Dropout(0.20))\n",
    "model.add(SimpleRNN(32))\n",
    "model.add(Dropout(0.20))\n",
    "\n",
    "model.add(Dense(2, activation='softmax'))\n",
    "for i,layer in enumerate(model.layers):\n",
    " print(\"i\",str(layer)+str(i))\n",
    "\n",
    "print(model.summary())"
   ],
   "execution_count": 28,
   "outputs": [
    {
     "output_type": "stream",
     "name": "stdout",
     "text": [
      "i <keras.layers.embeddings.Embedding object at 0x7f5de1fce910>0\n",
      "i <keras.layers.recurrent.SimpleRNN object at 0x7f5de203dcd0>1\n",
      "i <keras.layers.core.dropout.Dropout object at 0x7f5dddbb77d0>2\n",
      "i <keras.layers.recurrent.SimpleRNN object at 0x7f5de1fce9d0>3\n",
      "i <keras.layers.core.dropout.Dropout object at 0x7f5dddb1ec90>4\n",
      "i <keras.layers.recurrent.SimpleRNN object at 0x7f5ddda6f1d0>5\n",
      "i <keras.layers.core.dropout.Dropout object at 0x7f5ddda6f4d0>6\n",
      "i <keras.layers.recurrent.SimpleRNN object at 0x7f5dddbacb50>7\n",
      "i <keras.layers.core.dropout.Dropout object at 0x7f5ddd9fb690>8\n",
      "i <keras.layers.recurrent.SimpleRNN object at 0x7f5ddd9f3fd0>9\n",
      "i <keras.layers.core.dropout.Dropout object at 0x7f5ddda55cd0>10\n",
      "i <keras.layers.core.dense.Dense object at 0x7f5dddbb7250>11\n",
      "Model: \"sequential\"\n",
      "_________________________________________________________________\n",
      " Layer (type)                Output Shape              Param #   \n",
      "=================================================================\n",
      " embedding (Embedding)       (None, 808, 300)          13799400  \n",
      "                                                                 \n",
      " simple_rnn (SimpleRNN)      (None, 808, 128)          54912     \n",
      "                                                                 \n",
      " dropout (Dropout)           (None, 808, 128)          0         \n",
      "                                                                 \n",
      " simple_rnn_1 (SimpleRNN)    (None, 808, 128)          32896     \n",
      "                                                                 \n",
      " dropout_1 (Dropout)         (None, 808, 128)          0         \n",
      "                                                                 \n",
      " simple_rnn_2 (SimpleRNN)    (None, 808, 64)           12352     \n",
      "                                                                 \n",
      " dropout_2 (Dropout)         (None, 808, 64)           0         \n",
      "                                                                 \n",
      " simple_rnn_3 (SimpleRNN)    (None, 808, 64)           8256      \n",
      "                                                                 \n",
      " dropout_3 (Dropout)         (None, 808, 64)           0         \n",
      "                                                                 \n",
      " simple_rnn_4 (SimpleRNN)    (None, 32)                3104      \n",
      "                                                                 \n",
      " dropout_4 (Dropout)         (None, 32)                0         \n",
      "                                                                 \n",
      " dense (Dense)               (None, 2)                 66        \n",
      "                                                                 \n",
      "=================================================================\n",
      "Total params: 13,910,986\n",
      "Trainable params: 111,586\n",
      "Non-trainable params: 13,799,400\n",
      "_________________________________________________________________\n",
      "None\n"
     ]
    }
   ]
  },
  {
   "cell_type": "code",
   "metadata": {
    "id": "SxMC1I-2zsA3",
    "executionInfo": {
     "status": "ok",
     "timestamp": 1649891531970,
     "user_tz": -540,
     "elapsed": 5,
     "user": {
      "displayName": "Milandu Keith Moussavou Boussougou",
      "userId": "16125998280788005643"
     }
    },
    "pycharm": {
     "name": "#%%\n"
    }
   },
   "source": [
    "# %%time\n",
    "# for i,layer in enumerate(model.layers):\n",
    "#     print(\"i\",str(layer)+str(i))"
   ],
   "execution_count": 29,
   "outputs": []
  },
  {
   "cell_type": "code",
   "metadata": {
    "id": "r9djd0rGPim5",
    "colab": {
     "base_uri": "https://localhost:8080/",
     "height": 1000
    },
    "executionInfo": {
     "status": "ok",
     "timestamp": 1649891532880,
     "user_tz": -540,
     "elapsed": 914,
     "user": {
      "displayName": "Milandu Keith Moussavou Boussougou",
      "userId": "16125998280788005643"
     }
    },
    "outputId": "13fbc863-9c39-4c89-8171-96562268e32f",
    "pycharm": {
     "name": "#%%\n"
    }
   },
   "source": [
    "tf.keras.utils.plot_model(model, \n",
    "                          to_file=\"RNN_architecture.png\",\n",
    "                          show_shapes=True)"
   ],
   "execution_count": 30,
   "outputs": [
    {
     "output_type": "execute_result",
     "data": {
      "text/plain": [
       "<IPython.core.display.Image object>"
      ],
      "image/png": "[encoded data removed]"
     },
     "metadata": {},
     "execution_count": 30
    }
   ]
  },
  {
   "cell_type": "code",
   "metadata": {
    "id": "pCohtLFi3-Mn",
    "executionInfo": {
     "status": "ok",
     "timestamp": 1649891532881,
     "user_tz": -540,
     "elapsed": 9,
     "user": {
      "displayName": "Milandu Keith Moussavou Boussougou",
      "userId": "16125998280788005643"
     }
    },
    "pycharm": {
     "name": "#%%\n"
    }
   },
   "source": [
    "# tf.keras.utils.plot_model(\n",
    "#     model,\n",
    "#     to_file=\"RNN_architecture_1.png\",\n",
    "#     show_shapes=False,\n",
    "#     # show_dtype=False,\n",
    "#     show_layer_names=True,\n",
    "#     rankdir=\"TB\",\n",
    "#     expand_nested=False,\n",
    "#     dpi=96,\n",
    "# )"
   ],
   "execution_count": 31,
   "outputs": []
  },
  {
   "cell_type": "code",
   "metadata": {
    "id": "MTv0oR5Wzw16",
    "executionInfo": {
     "status": "ok",
     "timestamp": 1649891532881,
     "user_tz": -540,
     "elapsed": 8,
     "user": {
      "displayName": "Milandu Keith Moussavou Boussougou",
      "userId": "16125998280788005643"
     }
    },
    "pycharm": {
     "name": "#%%\n"
    }
   },
   "source": [
    "# %%time\n",
    "# # print(model.summary())"
   ],
   "execution_count": 32,
   "outputs": []
  },
  {
   "cell_type": "code",
   "metadata": {
    "id": "FZUmUJTWz1D0",
    "colab": {
     "base_uri": "https://localhost:8080/",
     "height": 235
    },
    "executionInfo": {
     "status": "error",
     "timestamp": 1649908648372,
     "user_tz": -540,
     "elapsed": 279,
     "user": {
      "displayName": "Milandu Keith Moussavou Boussougou",
      "userId": "16125998280788005643"
     }
    },
    "outputId": "199c6d34-fdde-4777-91eb-5c7908bbceac",
    "pycharm": {
     "name": "#%%\n"
    }
   },
   "source": [
    "# compile network\n",
    "model.compile(loss='categorical_crossentropy', \n",
    "              optimizer='adam', \n",
    "              metrics=['accuracy', \n",
    "                      #  tf.keras.metrics.AUC(), \n",
    "                       tf.keras.metrics.Precision(), \n",
    "                       tf.keras.metrics.Recall()\n",
    "                       ]\n",
    "              )"
   ],
   "execution_count": 1,
   "outputs": [
    {
     "output_type": "error",
     "ename": "NameError",
     "evalue": "ignored",
     "traceback": [
      "\u001B[0;31m---------------------------------------------------------------------------\u001B[0m",
      "\u001B[0;31mNameError\u001B[0m                                 Traceback (most recent call last)",
      "\u001B[0;32m<ipython-input-1-76cff0ebe4a7>\u001B[0m in \u001B[0;36m<module>\u001B[0;34m()\u001B[0m\n\u001B[1;32m      1\u001B[0m \u001B[0;31m# compile network\u001B[0m\u001B[0;34m\u001B[0m\u001B[0;34m\u001B[0m\u001B[0;34m\u001B[0m\u001B[0m\n\u001B[0;32m----> 2\u001B[0;31m model.compile(loss='categorical_crossentropy', \n\u001B[0m\u001B[1;32m      3\u001B[0m               \u001B[0moptimizer\u001B[0m\u001B[0;34m=\u001B[0m\u001B[0;34m'adam'\u001B[0m\u001B[0;34m,\u001B[0m\u001B[0;34m\u001B[0m\u001B[0;34m\u001B[0m\u001B[0m\n\u001B[1;32m      4\u001B[0m               metrics=['accuracy', \n\u001B[1;32m      5\u001B[0m                       \u001B[0;31m#  tf.keras.metrics.AUC(),\u001B[0m\u001B[0;34m\u001B[0m\u001B[0;34m\u001B[0m\u001B[0;34m\u001B[0m\u001B[0m\n",
      "\u001B[0;31mNameError\u001B[0m: name 'model' is not defined"
     ]
    }
   ]
  },
  {
   "cell_type": "markdown",
   "metadata": {
    "id": "pTM-p06w0EgR",
    "pycharm": {
     "name": "#%% md\n"
    }
   },
   "source": [
    "# train the model and evaluation"
   ]
  },
  {
   "cell_type": "code",
   "metadata": {
    "id": "lz_lvqyT0Fsh",
    "colab": {
     "base_uri": "https://localhost:8080/"
    },
    "outputId": "bd116a6d-8c68-4ba9-80af-a515cb19e319",
    "pycharm": {
     "name": "#%%\n"
    }
   },
   "source": [
    "%%time\n",
    "from time import time\n",
    "from timeit import default_timer as timer\n",
    "\n",
    "# fit network\n",
    "filepath=\"best_weight.hdf5\"\n",
    "checkpoint = ModelCheckpoint(filepath, monitor='loss', verbose=1, save_best_only=True, mode='min')\n",
    "callbacks_list = [checkpoint,earlystopping,csv_logger] #\n",
    "\n",
    "start_time = time()\n",
    "history = model.fit(trainX_data, \n",
    "                    Ytrain,batch_size=32, \n",
    "                    epochs=10, \n",
    "                    verbose=1,\n",
    "                    callbacks=callbacks_list,\n",
    "                    validation_data=(testX_data,Ytest)\n",
    "                    )\n",
    "run_time = time() - start_time\n",
    "\n",
    "#for i,layer in enumerate(model.layers):\n",
    "# print(\"i\",str(layer)+str(i)) \n"
   ],
   "execution_count": null,
   "outputs": [
    {
     "output_type": "stream",
     "name": "stdout",
     "text": [
      "Epoch 1/10\n",
      "394/394 [==============================] - ETA: 0s - loss: 0.2225 - accuracy: 0.9269 - precision: 0.9272 - recall: 0.9269\n",
      "Epoch 1: loss improved from inf to 0.22250, saving model to best_weight.hdf5\n",
      "394/394 [==============================] - 1482s 4s/step - loss: 0.2225 - accuracy: 0.9269 - precision: 0.9272 - recall: 0.9269 - val_loss: 0.1459 - val_accuracy: 0.9689 - val_precision: 0.9689 - val_recall: 0.9689\n",
      "Epoch 2/10\n",
      "394/394 [==============================] - ETA: 0s - loss: 0.1779 - accuracy: 0.9570 - precision: 0.9570 - recall: 0.9570\n",
      "Epoch 2: loss improved from 0.22250 to 0.17787, saving model to best_weight.hdf5\n",
      "394/394 [==============================] - 1469s 4s/step - loss: 0.1779 - accuracy: 0.9570 - precision: 0.9570 - recall: 0.9570 - val_loss: 0.1416 - val_accuracy: 0.9689 - val_precision: 0.9689 - val_recall: 0.9689\n",
      "Epoch 3/10\n",
      "394/394 [==============================] - ETA: 0s - loss: 0.1605 - accuracy: 0.9650 - precision: 0.9650 - recall: 0.9650\n",
      "Epoch 3: loss improved from 0.17787 to 0.16054, saving model to best_weight.hdf5\n",
      "394/394 [==============================] - 1449s 4s/step - loss: 0.1605 - accuracy: 0.9650 - precision: 0.9650 - recall: 0.9650 - val_loss: 0.1382 - val_accuracy: 0.9689 - val_precision: 0.9689 - val_recall: 0.9689\n",
      "Epoch 4/10\n",
      "394/394 [==============================] - ETA: 0s - loss: 0.1587 - accuracy: 0.9650 - precision: 0.9650 - recall: 0.9650\n",
      "Epoch 4: loss improved from 0.16054 to 0.15866, saving model to best_weight.hdf5\n",
      "394/394 [==============================] - 1433s 4s/step - loss: 0.1587 - accuracy: 0.9650 - precision: 0.9650 - recall: 0.9650 - val_loss: 0.1387 - val_accuracy: 0.9689 - val_precision: 0.9689 - val_recall: 0.9689\n",
      "Epoch 5/10\n",
      "394/394 [==============================] - ETA: 0s - loss: 0.1565 - accuracy: 0.9650 - precision: 0.9650 - recall: 0.9650\n",
      "Epoch 5: loss improved from 0.15866 to 0.15650, saving model to best_weight.hdf5\n",
      "394/394 [==============================] - 1435s 4s/step - loss: 0.1565 - accuracy: 0.9650 - precision: 0.9650 - recall: 0.9650 - val_loss: 0.1404 - val_accuracy: 0.9689 - val_precision: 0.9689 - val_recall: 0.9689\n",
      "Epoch 6/10\n",
      "394/394 [==============================] - ETA: 0s - loss: 0.1532 - accuracy: 0.9650 - precision: 0.9650 - recall: 0.9650\n",
      "Epoch 6: loss improved from 0.15650 to 0.15318, saving model to best_weight.hdf5\n",
      "394/394 [==============================] - 1432s 4s/step - loss: 0.1532 - accuracy: 0.9650 - precision: 0.9650 - recall: 0.9650 - val_loss: 0.1396 - val_accuracy: 0.9689 - val_precision: 0.9689 - val_recall: 0.9689\n",
      "Epoch 7/10\n",
      "394/394 [==============================] - ETA: 0s - loss: 0.1576 - accuracy: 0.9650 - precision: 0.9650 - recall: 0.9650\n",
      "Epoch 7: loss did not improve from 0.15318\n",
      "394/394 [==============================] - 1445s 4s/step - loss: 0.1576 - accuracy: 0.9650 - precision: 0.9650 - recall: 0.9650 - val_loss: 0.1402 - val_accuracy: 0.9689 - val_precision: 0.9689 - val_recall: 0.9689\n",
      "Epoch 8/10\n",
      "394/394 [==============================] - ETA: 0s - loss: 0.1557 - accuracy: 0.9650 - precision: 0.9650 - recall: 0.9650\n",
      "Epoch 8: loss did not improve from 0.15318\n",
      "394/394 [==============================] - 1480s 4s/step - loss: 0.1557 - accuracy: 0.9650 - precision: 0.9650 - recall: 0.9650 - val_loss: 0.1388 - val_accuracy: 0.9689 - val_precision: 0.9689 - val_recall: 0.9689\n",
      "Epoch 9/10\n",
      "394/394 [==============================] - ETA: 0s - loss: 0.1554 - accuracy: 0.9650 - precision: 0.9650 - recall: 0.9650\n",
      "Epoch 9: loss did not improve from 0.15318\n",
      "394/394 [==============================] - 1459s 4s/step - loss: 0.1554 - accuracy: 0.9650 - precision: 0.9650 - recall: 0.9650 - val_loss: 0.1388 - val_accuracy: 0.9689 - val_precision: 0.9689 - val_recall: 0.9689\n",
      "Epoch 10/10\n",
      " 69/394 [====>.........................] - ETA: 19:16 - loss: 0.1251 - accuracy: 0.9733 - precision: 0.9733 - recall: 0.9733"
     ]
    }
   ]
  },
  {
   "cell_type": "code",
   "metadata": {
    "id": "-_IutKte0XPm",
    "pycharm": {
     "name": "#%%\n"
    }
   },
   "source": [
    "# graph of the training\n",
    "pd.DataFrame(history.history).plot(figsize=(8, 5))\n",
    "plt.grid(True)\n",
    "plt.legend()\n",
    "plt.gca().set_ylim(0, 1) # set the vertical range to [0-1]\n",
    "plt.xlabel('epochs')\n",
    "plt.show()"
   ],
   "execution_count": null,
   "outputs": []
  },
  {
   "cell_type": "code",
   "metadata": {
    "id": "7SReNvcB0cXb",
    "pycharm": {
     "name": "#%%\n"
    }
   },
   "source": [
    "import pandas as pd\n",
    "import matplotlib.pyplot as plt\n",
    "\n",
    "# graph of the training\n",
    "plt.plot(history.epoch, history.history['loss'], '-o', label='training_loss')\n",
    "plt.plot(history.epoch, history.history['val_loss'], '-o', label='validation_loss')\n",
    "plt.legend()\n",
    "plt.gca().set_ylim(0, 1) # set the vertical range to [0-1]\n",
    "plt.grid(True)\n",
    "plt.xlim(left=0)\n",
    "plt.xlabel('epochs')\n",
    "plt.ylabel('loss')\n",
    "plt.show()"
   ],
   "execution_count": null,
   "outputs": []
  },
  {
   "cell_type": "code",
   "metadata": {
    "id": "zwINULZX1DAw",
    "pycharm": {
     "name": "#%%\n"
    }
   },
   "source": [
    "# graph of the training\n",
    "plt.plot(history.epoch, history.history['accuracy'], '-o', label='training_accuracy')\n",
    "plt.plot(history.epoch, history.history['val_accuracy'], '-o', label='validation_accuracy')\n",
    "plt.grid(True)\n",
    "plt.legend()\n",
    "plt.xlim(left=0)\n",
    "plt.xlabel('epochs')\n",
    "plt.ylabel('accuracy')\n",
    "plt.show()"
   ],
   "execution_count": null,
   "outputs": []
  },
  {
   "cell_type": "markdown",
   "metadata": {
    "id": "c9Ets10v1GOR",
    "pycharm": {
     "name": "#%% md\n"
    }
   },
   "source": [
    "#save the model"
   ]
  },
  {
   "cell_type": "code",
   "metadata": {
    "id": "HHFuyuCw1IAG",
    "pycharm": {
     "name": "#%%\n"
    }
   },
   "source": [
    "model.load_weights(filepath)"
   ],
   "execution_count": null,
   "outputs": []
  },
  {
   "cell_type": "code",
   "metadata": {
    "id": "FefGkG6L1JIF",
    "pycharm": {
     "name": "#%%\n"
    }
   },
   "source": [
    "%%time\n",
    "model.save(\"SIMPLERNN_10EP.h5\")"
   ],
   "execution_count": null,
   "outputs": []
  },
  {
   "cell_type": "markdown",
   "metadata": {
    "id": "_hup1MkP1Yng",
    "pycharm": {
     "name": "#%% md\n"
    }
   },
   "source": [
    "# Test"
   ]
  },
  {
   "cell_type": "code",
   "metadata": {
    "id": "Htj2dHHGSqBm",
    "pycharm": {
     "name": "#%%\n"
    }
   },
   "source": [
    "test_loss, test_acc = model.evaluate(testX_data)\n",
    "\n",
    "print('Test Loss: {}'.format(test_loss))\n",
    "print('Test Accuracy: {}'.format(test_acc))"
   ],
   "execution_count": null,
   "outputs": []
  },
  {
   "cell_type": "code",
   "metadata": {
    "id": "G2uaQnBw1bDd",
    "pycharm": {
     "name": "#%%\n"
    }
   },
   "source": [
    "#######################for testing####################\n",
    "\n",
    "yhat_probs = model.predict(testX_data)\n",
    "# predict crisp classes for test set\n",
    "yhat_classes = model.predict_classes(testX_data)\n",
    "\n",
    "\n",
    "# reduce to 1d array\n",
    "#yhat_probs = yhat_probs[:, 0]\n",
    "#yhat_classes = yhat_classes[:, 0]"
   ],
   "execution_count": null,
   "outputs": []
  },
  {
   "cell_type": "markdown",
   "metadata": {
    "id": "_U42GKt21f-K",
    "pycharm": {
     "name": "#%% md\n"
    }
   },
   "source": [
    "# Metrics"
   ]
  },
  {
   "cell_type": "code",
   "source": [
    "print(classification_report(Y_TEST, yhat_classes))"
   ],
   "metadata": {
    "id": "XUah7iL8KS9A",
    "pycharm": {
     "name": "#%%\n"
    }
   },
   "execution_count": null,
   "outputs": []
  },
  {
   "cell_type": "code",
   "metadata": {
    "id": "Sh9WH8O11hcV",
    "pycharm": {
     "name": "#%%\n"
    }
   },
   "source": [
    "# accuracy: (tp + tn) / (p + n)\n",
    "accuracy = accuracy_score(Y_TEST, yhat_classes)\n",
    "print('Testing Accuracy: %f' % accuracy)\n",
    "# precision tp / (tp + fp)\n",
    "precision = precision_score(Y_TEST, yhat_classes,average='weighted')\n",
    "print('Testing Precision: %f' % precision)\n",
    "# recall: tp / (tp + fn)\n",
    "recall = recall_score(Y_TEST, yhat_classes,average='weighted')\n",
    "print('Testing Recall: %f' % recall)\n",
    "# f1: 2 tp / (2 tp + fp + fn)\n",
    "f1 = f1_score(Y_TEST, yhat_classes,average='weighted')\n",
    "print('Testing F1 score: %f' % f1)"
   ],
   "execution_count": null,
   "outputs": []
  },
  {
   "cell_type": "code",
   "metadata": {
    "id": "RF9cnyDD1kG_",
    "pycharm": {
     "name": "#%%\n"
    }
   },
   "source": [
    "# Setting up our results dataframe\n",
    "df_results = pd.DataFrame(columns=['F1_score', 'Precision', 'Recall', 'Accuracy', 'Accuracy1', 'Training time'])\n",
    "\n",
    "# append the results\n",
    "df_results.loc['RNN'] = [f1, precision, recall, accuracy, accuracy, run_time]\n",
    "df_results"
   ],
   "execution_count": null,
   "outputs": []
  },
  {
   "cell_type": "markdown",
   "metadata": {
    "id": "3k1AJ1J1p5P2",
    "pycharm": {
     "name": "#%% md\n"
    }
   },
   "source": [
    "## Save performances result to SVC file\n"
   ]
  },
  {
   "cell_type": "code",
   "metadata": {
    "id": "_3zns6a1p_u6",
    "pycharm": {
     "name": "#%%\n"
    }
   },
   "source": [
    "# save the training results\n",
    "df_results.to_csv('performances_RNN_algorithm.csv')"
   ],
   "execution_count": null,
   "outputs": []
  }
 ]
}