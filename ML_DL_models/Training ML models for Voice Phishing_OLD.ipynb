{
 "nbformat": 4,
 "nbformat_minor": 0,
 "metadata": {
  "accelerator": "GPU",
  "colab": {
   "name": "Training ML models for Voice Phishing",
   "provenance": [],
   "collapsed_sections": [
    "eOJktn5DjK-d",
    "ZrNV7QIClOHZ"
   ]
  },
  "kernelspec": {
   "display_name": "Python 3",
   "language": "python",
   "name": "python3"
  },
  "language_info": {
   "codemirror_mode": {
    "name": "ipython",
    "version": 3
   },
   "file_extension": ".py",
   "mimetype": "text/x-python",
   "name": "python",
   "nbconvert_exporter": "python",
   "pygments_lexer": "ipython3",
   "version": "3.7.9"
  }
 },
 "cells": [
  {
   "cell_type": "markdown",
   "metadata": {
    "id": "KkSVunf5hXx5",
    "pycharm": {
     "name": "#%% md\n"
    }
   },
   "source": [
    "# Souce\n",
    "* https://towardsdatascience.com/boosting-showdown-scikit-learn-vs-xgboost-vs-lightgbm-vs-catboost-in-sentiment-classification-f7c7f46fd956"
   ]
  },
  {
   "cell_type": "code",
   "metadata": {
    "colab": {
     "base_uri": "https://localhost:8080/"
    },
    "id": "ScqQ4S7ThcMS",
    "executionInfo": {
     "status": "ok",
     "timestamp": 1647034302696,
     "user_tz": -540,
     "elapsed": 26240,
     "user": {
      "displayName": "Milandu Keith Moussavou Boussougou",
      "photoUrl": "https://lh3.googleusercontent.com/a-/AOh14GicOgg14dMz58gOrg69qKXXZuY5LIxdkzh1yMn5KNg=s64",
      "userId": "16125998280788005643"
     }
    },
    "outputId": "2bdb0468-4e5f-4380-9720-7d60e82174c1",
    "pycharm": {
     "name": "#%%\n"
    }
   },
   "source": [
    "from google.colab import drive\n",
    "drive.mount('drive')"
   ],
   "execution_count": 1,
   "outputs": [
    {
     "output_type": "stream",
     "name": "stdout",
     "text": [
      "Mounted at drive\n"
     ]
    }
   ]
  },
  {
   "cell_type": "code",
   "metadata": {
    "colab": {
     "base_uri": "https://localhost:8080/"
    },
    "id": "zZESESLVhf2N",
    "executionInfo": {
     "status": "ok",
     "timestamp": 1647034303371,
     "user_tz": -540,
     "elapsed": 681,
     "user": {
      "displayName": "Milandu Keith Moussavou Boussougou",
      "photoUrl": "https://lh3.googleusercontent.com/a-/AOh14GicOgg14dMz58gOrg69qKXXZuY5LIxdkzh1yMn5KNg=s64",
      "userId": "16125998280788005643"
     }
    },
    "outputId": "df7d8061-61bb-4421-a4f2-cd5dc1188f3b",
    "pycharm": {
     "name": "#%%\n"
    }
   },
   "source": [
    "cd drive/My\\ Drive/Colab\\ Notebooks/voice_phishing/"
   ],
   "execution_count": 2,
   "outputs": [
    {
     "output_type": "stream",
     "name": "stdout",
     "text": [
      "/content/drive/My Drive/Colab Notebooks/voice_phishing\n"
     ]
    }
   ]
  },
  {
   "cell_type": "code",
   "metadata": {
    "id": "EsQfqYhVhpNa",
    "executionInfo": {
     "status": "ok",
     "timestamp": 1647034303372,
     "user_tz": -540,
     "elapsed": 6,
     "user": {
      "displayName": "Milandu Keith Moussavou Boussougou",
      "photoUrl": "https://lh3.googleusercontent.com/a-/AOh14GicOgg14dMz58gOrg69qKXXZuY5LIxdkzh1yMn5KNg=s64",
      "userId": "16125998280788005643"
     }
    },
    "pycharm": {
     "name": "#%%\n"
    }
   },
   "source": [
    "# ls -l"
   ],
   "execution_count": 3,
   "outputs": []
  },
  {
   "cell_type": "markdown",
   "metadata": {
    "id": "hNVlkogIh9h4",
    "pycharm": {
     "name": "#%% md\n"
    }
   },
   "source": [
    "# Import librairie"
   ]
  },
  {
   "cell_type": "code",
   "metadata": {
    "colab": {
     "base_uri": "https://localhost:8080/"
    },
    "id": "eozkHhsPjCL5",
    "executionInfo": {
     "status": "ok",
     "timestamp": 1647034316994,
     "user_tz": -540,
     "elapsed": 13627,
     "user": {
      "displayName": "Milandu Keith Moussavou Boussougou",
      "photoUrl": "https://lh3.googleusercontent.com/a-/AOh14GicOgg14dMz58gOrg69qKXXZuY5LIxdkzh1yMn5KNg=s64",
      "userId": "16125998280788005643"
     }
    },
    "outputId": "0b51cd67-a6f8-4583-dbcf-67bd987f8112",
    "pycharm": {
     "name": "#%%\n"
    }
   },
   "source": [
    "!pip install catboost"
   ],
   "execution_count": 4,
   "outputs": [
    {
     "output_type": "stream",
     "name": "stdout",
     "text": [
      "Collecting catboost\n",
      "  Downloading catboost-1.0.4-cp37-none-manylinux1_x86_64.whl (76.1 MB)\n",
      "\u001B[K     |████████████████████████████████| 76.1 MB 1.4 MB/s \n",
      "\u001B[?25hRequirement already satisfied: pandas>=0.24.0 in /usr/local/lib/python3.7/dist-packages (from catboost) (1.3.5)\n",
      "Requirement already satisfied: six in /usr/local/lib/python3.7/dist-packages (from catboost) (1.15.0)\n",
      "Requirement already satisfied: graphviz in /usr/local/lib/python3.7/dist-packages (from catboost) (0.10.1)\n",
      "Requirement already satisfied: numpy>=1.16.0 in /usr/local/lib/python3.7/dist-packages (from catboost) (1.21.5)\n",
      "Requirement already satisfied: scipy in /usr/local/lib/python3.7/dist-packages (from catboost) (1.4.1)\n",
      "Requirement already satisfied: matplotlib in /usr/local/lib/python3.7/dist-packages (from catboost) (3.2.2)\n",
      "Requirement already satisfied: plotly in /usr/local/lib/python3.7/dist-packages (from catboost) (5.5.0)\n",
      "Requirement already satisfied: python-dateutil>=2.7.3 in /usr/local/lib/python3.7/dist-packages (from pandas>=0.24.0->catboost) (2.8.2)\n",
      "Requirement already satisfied: pytz>=2017.3 in /usr/local/lib/python3.7/dist-packages (from pandas>=0.24.0->catboost) (2018.9)\n",
      "Requirement already satisfied: cycler>=0.10 in /usr/local/lib/python3.7/dist-packages (from matplotlib->catboost) (0.11.0)\n",
      "Requirement already satisfied: pyparsing!=2.0.4,!=2.1.2,!=2.1.6,>=2.0.1 in /usr/local/lib/python3.7/dist-packages (from matplotlib->catboost) (3.0.7)\n",
      "Requirement already satisfied: kiwisolver>=1.0.1 in /usr/local/lib/python3.7/dist-packages (from matplotlib->catboost) (1.3.2)\n",
      "Requirement already satisfied: tenacity>=6.2.0 in /usr/local/lib/python3.7/dist-packages (from plotly->catboost) (8.0.1)\n",
      "Installing collected packages: catboost\n",
      "Successfully installed catboost-1.0.4\n"
     ]
    }
   ]
  },
  {
   "cell_type": "code",
   "metadata": {
    "id": "6b5nzrcpiBE_",
    "colab": {
     "base_uri": "https://localhost:8080/"
    },
    "executionInfo": {
     "status": "ok",
     "timestamp": 1647034318967,
     "user_tz": -540,
     "elapsed": 1978,
     "user": {
      "displayName": "Milandu Keith Moussavou Boussougou",
      "photoUrl": "https://lh3.googleusercontent.com/a-/AOh14GicOgg14dMz58gOrg69qKXXZuY5LIxdkzh1yMn5KNg=s64",
      "userId": "16125998280788005643"
     }
    },
    "outputId": "d73b31a7-61b4-45f0-ff72-c966f5e1eb64",
    "pycharm": {
     "name": "#%%\n"
    }
   },
   "source": [
    "# Importing packages and data\n",
    "from time import time\n",
    "import numpy as np\n",
    "import pandas as pd\n",
    "\n",
    "from sklearn.model_selection import train_test_split\n",
    "from sklearn.feature_extraction.text import TfidfVectorizer\n",
    "\n",
    "from sklearn.svm import LinearSVC\n",
    "from sklearn.tree import DecisionTreeClassifier\n",
    "from sklearn.experimental import enable_hist_gradient_boosting\n",
    "from sklearn.ensemble import (RandomForestClassifier,\n",
    "                              AdaBoostClassifier,\n",
    "                              GradientBoostingClassifier,\n",
    "                              HistGradientBoostingClassifier)\n",
    "\n",
    "from xgboost import XGBClassifier\n",
    "from lightgbm import LGBMClassifier\n",
    "from catboost import CatBoostClassifier\n",
    "\n",
    "import matplotlib.pyplot as plt\n",
    "import seaborn as sns"
   ],
   "execution_count": 5,
   "outputs": [
    {
     "output_type": "stream",
     "name": "stderr",
     "text": [
      "/usr/local/lib/python3.7/dist-packages/sklearn/experimental/enable_hist_gradient_boosting.py:17: UserWarning: Since version 1.0, it is not needed to import enable_hist_gradient_boosting anymore. HistGradientBoostingClassifier and HistGradientBoostingRegressor are now stable and can be normally imported from sklearn.ensemble.\n",
      "  \"Since version 1.0, \"\n"
     ]
    }
   ]
  },
  {
   "cell_type": "markdown",
   "metadata": {
    "id": "dUv65U4LilU4",
    "pycharm": {
     "name": "#%% md\n"
    }
   },
   "source": [
    "# Import and prepare the data"
   ]
  },
  {
   "cell_type": "code",
   "metadata": {
    "id": "U4FT_HEbiELf",
    "executionInfo": {
     "status": "ok",
     "timestamp": 1647034319341,
     "user_tz": -540,
     "elapsed": 380,
     "user": {
      "displayName": "Milandu Keith Moussavou Boussougou",
      "photoUrl": "https://lh3.googleusercontent.com/a-/AOh14GicOgg14dMz58gOrg69qKXXZuY5LIxdkzh1yMn5KNg=s64",
      "userId": "16125998280788005643"
     }
    },
    "pycharm": {
     "name": "#%%\n"
    }
   },
   "source": [
    "#\n",
    "# df_train = pd.read_csv('train.csv').sample(frac=1.0)\n",
    "# df_test = pd.read_csv('test.csv').sample(frac=1.0)\n",
    "\n",
    "df_train = pd.read_csv('train_test_sets/train_KorCCViD_v1.3_fullcleansed.csv').drop(['Unnamed: 0'],axis=1).sample(frac=1.0)\n",
    "df_test = pd.read_csv('train_test_sets/test_KorCCViD_v1.3_fullcleansed.csv').drop(['Unnamed: 0'],axis=1).sample(frac=1.0)\n",
    "\n",
    "# df_train = pd.read_csv('KorCCViD_v1.3_fullcleansed.csv').sample(frac=1.0)"
   ],
   "execution_count": 6,
   "outputs": []
  },
  {
   "cell_type": "code",
   "metadata": {
    "id": "RF1c0L3ZoZBj",
    "colab": {
     "base_uri": "https://localhost:8080/",
     "height": 206
    },
    "executionInfo": {
     "status": "ok",
     "timestamp": 1647034319343,
     "user_tz": -540,
     "elapsed": 24,
     "user": {
      "displayName": "Milandu Keith Moussavou Boussougou",
      "photoUrl": "https://lh3.googleusercontent.com/a-/AOh14GicOgg14dMz58gOrg69qKXXZuY5LIxdkzh1yMn5KNg=s64",
      "userId": "16125998280788005643"
     }
    },
    "outputId": "0b34206e-c458-4b77-f15c-b8e7ba93da1a",
    "pycharm": {
     "name": "#%%\n"
    }
   },
   "source": [
    "df_train.head()"
   ],
   "execution_count": 7,
   "outputs": [
    {
     "output_type": "execute_result",
     "data": {
      "text/plain": [
       "                                            Transcript  Label\n",
       "848  근까 그거 고등학교 시즌 시작 그리고 대학교 들어가 시즌 시즌 마다 잖아 니까 당연...      0\n",
       "194  그래 언니 거기 아들 근데 강아지 강아지 10 10 16 20 그래 면은 그게 얼마...      0\n",
       "19   졸업 서도 꼐속 으니까 그래서 당연히 간다고 생각 생각 해도 한지 김태희 아예 친해...      0\n",
       "901  여보세요 수고 십니다 서울 지방 경찰청 경제 범죄 수사 정산 합니다 경제 범죄 수사...      1\n",
       "748  솔직히 결국 정말 자기 한테 선택 진짜 여러 사례 정말 부럽 직장 다니 다가 진짜 ...      0"
      ],
      "text/html": [
       "\n",
       "  <div id=\"df-1204b9c5-08f0-4b75-85b3-43ab9755dc7c\">\n",
       "    <div class=\"colab-df-container\">\n",
       "      <div>\n",
       "<style scoped>\n",
       "    .dataframe tbody tr th:only-of-type {\n",
       "        vertical-align: middle;\n",
       "    }\n",
       "\n",
       "    .dataframe tbody tr th {\n",
       "        vertical-align: top;\n",
       "    }\n",
       "\n",
       "    .dataframe thead th {\n",
       "        text-align: right;\n",
       "    }\n",
       "</style>\n",
       "<table border=\"1\" class=\"dataframe\">\n",
       "  <thead>\n",
       "    <tr style=\"text-align: right;\">\n",
       "      <th></th>\n",
       "      <th>Transcript</th>\n",
       "      <th>Label</th>\n",
       "    </tr>\n",
       "  </thead>\n",
       "  <tbody>\n",
       "    <tr>\n",
       "      <th>848</th>\n",
       "      <td>근까 그거 고등학교 시즌 시작 그리고 대학교 들어가 시즌 시즌 마다 잖아 니까 당연...</td>\n",
       "      <td>0</td>\n",
       "    </tr>\n",
       "    <tr>\n",
       "      <th>194</th>\n",
       "      <td>그래 언니 거기 아들 근데 강아지 강아지 10 10 16 20 그래 면은 그게 얼마...</td>\n",
       "      <td>0</td>\n",
       "    </tr>\n",
       "    <tr>\n",
       "      <th>19</th>\n",
       "      <td>졸업 서도 꼐속 으니까 그래서 당연히 간다고 생각 생각 해도 한지 김태희 아예 친해...</td>\n",
       "      <td>0</td>\n",
       "    </tr>\n",
       "    <tr>\n",
       "      <th>901</th>\n",
       "      <td>여보세요 수고 십니다 서울 지방 경찰청 경제 범죄 수사 정산 합니다 경제 범죄 수사...</td>\n",
       "      <td>1</td>\n",
       "    </tr>\n",
       "    <tr>\n",
       "      <th>748</th>\n",
       "      <td>솔직히 결국 정말 자기 한테 선택 진짜 여러 사례 정말 부럽 직장 다니 다가 진짜 ...</td>\n",
       "      <td>0</td>\n",
       "    </tr>\n",
       "  </tbody>\n",
       "</table>\n",
       "</div>\n",
       "      <button class=\"colab-df-convert\" onclick=\"convertToInteractive('df-1204b9c5-08f0-4b75-85b3-43ab9755dc7c')\"\n",
       "              title=\"Convert this dataframe to an interactive table.\"\n",
       "              style=\"display:none;\">\n",
       "        \n",
       "  <svg xmlns=\"http://www.w3.org/2000/svg\" height=\"24px\"viewBox=\"0 0 24 24\"\n",
       "       width=\"24px\">\n",
       "    <path d=\"M0 0h24v24H0V0z\" fill=\"none\"/>\n",
       "    <path d=\"M18.56 5.44l.94 2.06.94-2.06 2.06-.94-2.06-.94-.94-2.06-.94 2.06-2.06.94zm-11 1L8.5 8.5l.94-2.06 2.06-.94-2.06-.94L8.5 2.5l-.94 2.06-2.06.94zm10 10l.94 2.06.94-2.06 2.06-.94-2.06-.94-.94-2.06-.94 2.06-2.06.94z\"/><path d=\"M17.41 7.96l-1.37-1.37c-.4-.4-.92-.59-1.43-.59-.52 0-1.04.2-1.43.59L10.3 9.45l-7.72 7.72c-.78.78-.78 2.05 0 2.83L4 21.41c.39.39.9.59 1.41.59.51 0 1.02-.2 1.41-.59l7.78-7.78 2.81-2.81c.8-.78.8-2.07 0-2.86zM5.41 20L4 18.59l7.72-7.72 1.47 1.35L5.41 20z\"/>\n",
       "  </svg>\n",
       "      </button>\n",
       "      \n",
       "  <style>\n",
       "    .colab-df-container {\n",
       "      display:flex;\n",
       "      flex-wrap:wrap;\n",
       "      gap: 12px;\n",
       "    }\n",
       "\n",
       "    .colab-df-convert {\n",
       "      background-color: #E8F0FE;\n",
       "      border: none;\n",
       "      border-radius: 50%;\n",
       "      cursor: pointer;\n",
       "      display: none;\n",
       "      fill: #1967D2;\n",
       "      height: 32px;\n",
       "      padding: 0 0 0 0;\n",
       "      width: 32px;\n",
       "    }\n",
       "\n",
       "    .colab-df-convert:hover {\n",
       "      background-color: #E2EBFA;\n",
       "      box-shadow: 0px 1px 2px rgba(60, 64, 67, 0.3), 0px 1px 3px 1px rgba(60, 64, 67, 0.15);\n",
       "      fill: #174EA6;\n",
       "    }\n",
       "\n",
       "    [theme=dark] .colab-df-convert {\n",
       "      background-color: #3B4455;\n",
       "      fill: #D2E3FC;\n",
       "    }\n",
       "\n",
       "    [theme=dark] .colab-df-convert:hover {\n",
       "      background-color: #434B5C;\n",
       "      box-shadow: 0px 1px 3px 1px rgba(0, 0, 0, 0.15);\n",
       "      filter: drop-shadow(0px 1px 2px rgba(0, 0, 0, 0.3));\n",
       "      fill: #FFFFFF;\n",
       "    }\n",
       "  </style>\n",
       "\n",
       "      <script>\n",
       "        const buttonEl =\n",
       "          document.querySelector('#df-1204b9c5-08f0-4b75-85b3-43ab9755dc7c button.colab-df-convert');\n",
       "        buttonEl.style.display =\n",
       "          google.colab.kernel.accessAllowed ? 'block' : 'none';\n",
       "\n",
       "        async function convertToInteractive(key) {\n",
       "          const element = document.querySelector('#df-1204b9c5-08f0-4b75-85b3-43ab9755dc7c');\n",
       "          const dataTable =\n",
       "            await google.colab.kernel.invokeFunction('convertToInteractive',\n",
       "                                                     [key], {});\n",
       "          if (!dataTable) return;\n",
       "\n",
       "          const docLinkHtml = 'Like what you see? Visit the ' +\n",
       "            '<a target=\"_blank\" href=https://colab.research.google.com/notebooks/data_table.ipynb>data table notebook</a>'\n",
       "            + ' to learn more about interactive tables.';\n",
       "          element.innerHTML = '';\n",
       "          dataTable['output_type'] = 'display_data';\n",
       "          await google.colab.output.renderOutput(dataTable, element);\n",
       "          const docLink = document.createElement('div');\n",
       "          docLink.innerHTML = docLinkHtml;\n",
       "          element.appendChild(docLink);\n",
       "        }\n",
       "      </script>\n",
       "    </div>\n",
       "  </div>\n",
       "  "
      ]
     },
     "metadata": {},
     "execution_count": 7
    }
   ]
  },
  {
   "cell_type": "code",
   "metadata": {
    "id": "kbRImiyXfHd6",
    "executionInfo": {
     "status": "ok",
     "timestamp": 1647034319344,
     "user_tz": -540,
     "elapsed": 23,
     "user": {
      "displayName": "Milandu Keith Moussavou Boussougou",
      "photoUrl": "https://lh3.googleusercontent.com/a-/AOh14GicOgg14dMz58gOrg69qKXXZuY5LIxdkzh1yMn5KNg=s64",
      "userId": "16125998280788005643"
     }
    },
    "pycharm": {
     "name": "#%%\n"
    }
   },
   "source": [
    "# df_test.head()"
   ],
   "execution_count": 8,
   "outputs": []
  },
  {
   "cell_type": "code",
   "metadata": {
    "colab": {
     "base_uri": "https://localhost:8080/"
    },
    "id": "PMulgON_iIU2",
    "executionInfo": {
     "status": "ok",
     "timestamp": 1647034319345,
     "user_tz": -540,
     "elapsed": 23,
     "user": {
      "displayName": "Milandu Keith Moussavou Boussougou",
      "photoUrl": "https://lh3.googleusercontent.com/a-/AOh14GicOgg14dMz58gOrg69qKXXZuY5LIxdkzh1yMn5KNg=s64",
      "userId": "16125998280788005643"
     }
    },
    "outputId": "cc7f0e80-5099-47a7-ce7b-4f758be71db6",
    "pycharm": {
     "name": "#%%\n"
    }
   },
   "source": [
    "%%time\n",
    "# Preprocessing our data\n",
    "# Convert a collection of raw documents to a matrix of TF-IDF features.\n",
    "tfidf = TfidfVectorizer(# analyzer='word',\n",
    "                        ngram_range=(1, 3), #(2, 6), # 3,6\n",
    "                        # max_df=1, \n",
    "                        min_df=2, # 10\n",
    "                        max_features=2000, #300, 500, 10000 (thsi will limit the vocavulary) \n",
    "                        # sublinear_tf=True,\n",
    "                        # lowercase=False,\n",
    "                        use_idf=True\n",
    "                        )\n",
    "tfidf"
   ],
   "execution_count": 9,
   "outputs": [
    {
     "output_type": "stream",
     "name": "stdout",
     "text": [
      "CPU times: user 47 µs, sys: 8 µs, total: 55 µs\n",
      "Wall time: 79.6 µs\n"
     ]
    }
   ]
  },
  {
   "cell_type": "code",
   "metadata": {
    "id": "A-OMWI7TiVZf",
    "executionInfo": {
     "status": "ok",
     "timestamp": 1647034319348,
     "user_tz": -540,
     "elapsed": 22,
     "user": {
      "displayName": "Milandu Keith Moussavou Boussougou",
      "photoUrl": "https://lh3.googleusercontent.com/a-/AOh14GicOgg14dMz58gOrg69qKXXZuY5LIxdkzh1yMn5KNg=s64",
      "userId": "16125998280788005643"
     }
    },
    "pycharm": {
     "name": "#%%\n"
    }
   },
   "source": [
    "# tfidf"
   ],
   "execution_count": 10,
   "outputs": []
  },
  {
   "cell_type": "markdown",
   "metadata": {
    "id": "EE8pI7tr4d4A",
    "pycharm": {
     "name": "#%% md\n"
    }
   },
   "source": [
    "# train_test_split"
   ]
  },
  {
   "cell_type": "code",
   "metadata": {
    "id": "1CxIpr-QfX2q",
    "executionInfo": {
     "status": "ok",
     "timestamp": 1647034321628,
     "user_tz": -540,
     "elapsed": 2301,
     "user": {
      "displayName": "Milandu Keith Moussavou Boussougou",
      "photoUrl": "https://lh3.googleusercontent.com/a-/AOh14GicOgg14dMz58gOrg69qKXXZuY5LIxdkzh1yMn5KNg=s64",
      "userId": "16125998280788005643"
     }
    },
    "pycharm": {
     "name": "#%%\n"
    }
   },
   "source": [
    "X_train = tfidf.fit_transform(df_train['Transcript']).toarray()\n",
    "X_test = tfidf.transform(df_test['Transcript']).toarray()\n",
    "\n",
    "# slip the datasets\n",
    "y_train, y_test = df_train['Label'], df_test['Label']\n",
    "X_train_sub, X_valid, y_train_sub, y_valid = train_test_split(X_train, y_train, test_size=0.125, shuffle= True)\n",
    "\n",
    "# training with fulldataset\n",
    "# y_train = df_train['Label']\n",
    "# X_train_sub, X_test, y_train_sub, y_test = train_test_split(X_train, y_train, test_size=0.3, shuffle= True)\n",
    "\n",
    "# Setting up our results dataframe\n",
    "df_results = pd.DataFrame(columns=['F1_score', 'Precision', 'Recall', 'Accuracy', 'Accuracy1', 'Training time'])"
   ],
   "execution_count": 11,
   "outputs": []
  },
  {
   "cell_type": "code",
   "source": [
    "print(X_train_sub)"
   ],
   "metadata": {
    "colab": {
     "base_uri": "https://localhost:8080/"
    },
    "id": "rnhYlIkPemGt",
    "executionInfo": {
     "status": "ok",
     "timestamp": 1647034321629,
     "user_tz": -540,
     "elapsed": 27,
     "user": {
      "displayName": "Milandu Keith Moussavou Boussougou",
      "photoUrl": "https://lh3.googleusercontent.com/a-/AOh14GicOgg14dMz58gOrg69qKXXZuY5LIxdkzh1yMn5KNg=s64",
      "userId": "16125998280788005643"
     }
    },
    "outputId": "89946ef5-f1b1-46ee-8d45-6daac78afb97",
    "pycharm": {
     "name": "#%%\n"
    }
   },
   "execution_count": 12,
   "outputs": [
    {
     "output_type": "stream",
     "name": "stdout",
     "text": [
      "[[0.         0.         0.         ... 0.         0.         0.        ]\n",
      " [0.03216573 0.         0.0282444  ... 0.01549669 0.         0.        ]\n",
      " [0.         0.         0.         ... 0.         0.         0.        ]\n",
      " ...\n",
      " [0.         0.         0.         ... 0.         0.         0.        ]\n",
      " [0.         0.         0.         ... 0.         0.         0.        ]\n",
      " [0.         0.         0.         ... 0.         0.         0.        ]]\n"
     ]
    }
   ]
  },
  {
   "cell_type": "code",
   "source": [
    "tfidf.get_feature_names_out()"
   ],
   "metadata": {
    "colab": {
     "base_uri": "https://localhost:8080/"
    },
    "id": "gBZ0lPZ-caN6",
    "executionInfo": {
     "status": "ok",
     "timestamp": 1647034321630,
     "user_tz": -540,
     "elapsed": 24,
     "user": {
      "displayName": "Milandu Keith Moussavou Boussougou",
      "photoUrl": "https://lh3.googleusercontent.com/a-/AOh14GicOgg14dMz58gOrg69qKXXZuY5LIxdkzh1yMn5KNg=s64",
      "userId": "16125998280788005643"
     }
    },
    "outputId": "64f56fa7-50d3-4357-c38b-f18d7a4e8cfe",
    "pycharm": {
     "name": "#%%\n"
    }
   },
   "execution_count": 13,
   "outputs": [
    {
     "output_type": "execute_result",
     "data": {
      "text/plain": [
       "array(['10', '10 정도', '100', ..., '휴면 계좌', '힘드', '힘들'], dtype=object)"
      ]
     },
     "metadata": {},
     "execution_count": 13
    }
   ]
  },
  {
   "cell_type": "code",
   "source": [
    "print(X_train.shape)"
   ],
   "metadata": {
    "colab": {
     "base_uri": "https://localhost:8080/"
    },
    "id": "Z-aXB2aUchc5",
    "executionInfo": {
     "status": "ok",
     "timestamp": 1647034321630,
     "user_tz": -540,
     "elapsed": 20,
     "user": {
      "displayName": "Milandu Keith Moussavou Boussougou",
      "photoUrl": "https://lh3.googleusercontent.com/a-/AOh14GicOgg14dMz58gOrg69qKXXZuY5LIxdkzh1yMn5KNg=s64",
      "userId": "16125998280788005643"
     }
    },
    "outputId": "b007c5ce-cc3a-4eff-b7d1-886686965020",
    "pycharm": {
     "name": "#%%\n"
    }
   },
   "execution_count": 14,
   "outputs": [
    {
     "output_type": "stream",
     "name": "stdout",
     "text": [
      "(974, 2000)\n"
     ]
    }
   ]
  },
  {
   "cell_type": "code",
   "source": [
    "print(X_train_sub.shape)"
   ],
   "metadata": {
    "colab": {
     "base_uri": "https://localhost:8080/"
    },
    "id": "etKs2iidcoyt",
    "executionInfo": {
     "status": "ok",
     "timestamp": 1647034321630,
     "user_tz": -540,
     "elapsed": 17,
     "user": {
      "displayName": "Milandu Keith Moussavou Boussougou",
      "photoUrl": "https://lh3.googleusercontent.com/a-/AOh14GicOgg14dMz58gOrg69qKXXZuY5LIxdkzh1yMn5KNg=s64",
      "userId": "16125998280788005643"
     }
    },
    "outputId": "ed902c9b-7b0a-40a0-9e66-c87b82556a45",
    "pycharm": {
     "name": "#%%\n"
    }
   },
   "execution_count": 15,
   "outputs": [
    {
     "output_type": "stream",
     "name": "stdout",
     "text": [
      "(852, 2000)\n"
     ]
    }
   ]
  },
  {
   "cell_type": "code",
   "source": [
    "print(X_test.shape)"
   ],
   "metadata": {
    "colab": {
     "base_uri": "https://localhost:8080/"
    },
    "id": "JSUxjtIjcs3k",
    "executionInfo": {
     "status": "ok",
     "timestamp": 1647034321631,
     "user_tz": -540,
     "elapsed": 15,
     "user": {
      "displayName": "Milandu Keith Moussavou Boussougou",
      "photoUrl": "https://lh3.googleusercontent.com/a-/AOh14GicOgg14dMz58gOrg69qKXXZuY5LIxdkzh1yMn5KNg=s64",
      "userId": "16125998280788005643"
     }
    },
    "outputId": "2da22159-244f-4ae1-aec3-9b87ab4082f9",
    "pycharm": {
     "name": "#%%\n"
    }
   },
   "execution_count": 16,
   "outputs": [
    {
     "output_type": "stream",
     "name": "stdout",
     "text": [
      "(244, 2000)\n"
     ]
    }
   ]
  },
  {
   "cell_type": "code",
   "metadata": {
    "id": "nFWpopGTbtsc",
    "executionInfo": {
     "status": "ok",
     "timestamp": 1647034321632,
     "user_tz": -540,
     "elapsed": 14,
     "user": {
      "displayName": "Milandu Keith Moussavou Boussougou",
      "photoUrl": "https://lh3.googleusercontent.com/a-/AOh14GicOgg14dMz58gOrg69qKXXZuY5LIxdkzh1yMn5KNg=s64",
      "userId": "16125998280788005643"
     }
    },
    "pycharm": {
     "name": "#%%\n"
    }
   },
   "source": [
    "# df_results"
   ],
   "execution_count": 17,
   "outputs": []
  },
  {
   "cell_type": "code",
   "metadata": {
    "colab": {
     "base_uri": "https://localhost:8080/"
    },
    "id": "y9sUVLfG94zS",
    "executionInfo": {
     "status": "ok",
     "timestamp": 1647034321632,
     "user_tz": -540,
     "elapsed": 13,
     "user": {
      "displayName": "Milandu Keith Moussavou Boussougou",
      "photoUrl": "https://lh3.googleusercontent.com/a-/AOh14GicOgg14dMz58gOrg69qKXXZuY5LIxdkzh1yMn5KNg=s64",
      "userId": "16125998280788005643"
     }
    },
    "outputId": "38702a55-de0e-4d04-c6d9-4d28fde89b1a",
    "pycharm": {
     "name": "#%%\n"
    }
   },
   "source": [
    "print(len(X_train_sub))\n",
    "# print(len(X_valid))\n",
    "print(len(X_test))"
   ],
   "execution_count": 18,
   "outputs": [
    {
     "output_type": "stream",
     "name": "stdout",
     "text": [
      "852\n",
      "244\n"
     ]
    }
   ]
  },
  {
   "cell_type": "code",
   "metadata": {
    "id": "-TGmJfy4HVAZ",
    "executionInfo": {
     "status": "ok",
     "timestamp": 1647034321633,
     "user_tz": -540,
     "elapsed": 12,
     "user": {
      "displayName": "Milandu Keith Moussavou Boussougou",
      "photoUrl": "https://lh3.googleusercontent.com/a-/AOh14GicOgg14dMz58gOrg69qKXXZuY5LIxdkzh1yMn5KNg=s64",
      "userId": "16125998280788005643"
     }
    },
    "pycharm": {
     "name": "#%%\n"
    }
   },
   "source": [
    "# X_test"
   ],
   "execution_count": 19,
   "outputs": []
  },
  {
   "cell_type": "code",
   "metadata": {
    "id": "vmhIT9xo4bxI",
    "executionInfo": {
     "status": "ok",
     "timestamp": 1647034321634,
     "user_tz": -540,
     "elapsed": 12,
     "user": {
      "displayName": "Milandu Keith Moussavou Boussougou",
      "photoUrl": "https://lh3.googleusercontent.com/a-/AOh14GicOgg14dMz58gOrg69qKXXZuY5LIxdkzh1yMn5KNg=s64",
      "userId": "16125998280788005643"
     }
    },
    "pycharm": {
     "name": "#%%\n"
    }
   },
   "source": [
    "# print(X_train_sub)\n",
    "# print(X_valid)\n",
    "# print(y_train_sub)\n",
    "# print(y_valid)"
   ],
   "execution_count": 20,
   "outputs": []
  },
  {
   "cell_type": "markdown",
   "metadata": {
    "id": "sCnGx8Tsirp6",
    "pycharm": {
     "name": "#%% md\n"
    }
   },
   "source": [
    "# Build the model\n"
   ]
  },
  {
   "cell_type": "code",
   "metadata": {
    "id": "oNOxA4FZWt5N",
    "executionInfo": {
     "status": "ok",
     "timestamp": 1647034322125,
     "user_tz": -540,
     "elapsed": 503,
     "user": {
      "displayName": "Milandu Keith Moussavou Boussougou",
      "photoUrl": "https://lh3.googleusercontent.com/a-/AOh14GicOgg14dMz58gOrg69qKXXZuY5LIxdkzh1yMn5KNg=s64",
      "userId": "16125998280788005643"
     }
    },
    "pycharm": {
     "name": "#%%\n"
    }
   },
   "source": [
    "#Decision Tree\n",
    "# dt = DecisionTreeClassifier(max_depth=12, random_state=1234)\n",
    "# dt"
   ],
   "execution_count": 21,
   "outputs": []
  },
  {
   "cell_type": "code",
   "metadata": {
    "colab": {
     "base_uri": "https://localhost:8080/"
    },
    "id": "vQfE-GL5W1cD",
    "executionInfo": {
     "status": "ok",
     "timestamp": 1647034322126,
     "user_tz": -540,
     "elapsed": 36,
     "user": {
      "displayName": "Milandu Keith Moussavou Boussougou",
      "photoUrl": "https://lh3.googleusercontent.com/a-/AOh14GicOgg14dMz58gOrg69qKXXZuY5LIxdkzh1yMn5KNg=s64",
      "userId": "16125998280788005643"
     }
    },
    "outputId": "68389d1b-2f0c-46ac-d32a-5830de3d47b3",
    "pycharm": {
     "name": "#%%\n"
    }
   },
   "source": [
    "#Random Forest\n",
    "rf = RandomForestClassifier(n_estimators=500,\n",
    "                            max_features=0.06,\n",
    "                            n_jobs=6,\n",
    "                            random_state=1234)\n",
    "rf"
   ],
   "execution_count": 22,
   "outputs": [
    {
     "output_type": "execute_result",
     "data": {
      "text/plain": [
       "RandomForestClassifier(max_features=0.06, n_estimators=500, n_jobs=6,\n",
       "                       random_state=1234)"
      ]
     },
     "metadata": {},
     "execution_count": 22
    }
   ]
  },
  {
   "cell_type": "code",
   "metadata": {
    "id": "SGG2qzs4W5mu",
    "executionInfo": {
     "status": "ok",
     "timestamp": 1647034322126,
     "user_tz": -540,
     "elapsed": 34,
     "user": {
      "displayName": "Milandu Keith Moussavou Boussougou",
      "photoUrl": "https://lh3.googleusercontent.com/a-/AOh14GicOgg14dMz58gOrg69qKXXZuY5LIxdkzh1yMn5KNg=s64",
      "userId": "16125998280788005643"
     }
    },
    "pycharm": {
     "name": "#%%\n"
    }
   },
   "source": [
    "#Adaboost\n",
    "# base_estim = DecisionTreeClassifier(max_depth=1, max_features=0.06)                            \n",
    "# ab = AdaBoostClassifier(base_estimator=base_estim,\n",
    "#                         n_estimators=500,\n",
    "#                         learning_rate=0.5,\n",
    "#                         random_state=1234)\n",
    "# ab"
   ],
   "execution_count": 23,
   "outputs": []
  },
  {
   "cell_type": "code",
   "metadata": {
    "id": "yWEGF4HZW_GX",
    "executionInfo": {
     "status": "ok",
     "timestamp": 1647034322126,
     "user_tz": -540,
     "elapsed": 34,
     "user": {
      "displayName": "Milandu Keith Moussavou Boussougou",
      "photoUrl": "https://lh3.googleusercontent.com/a-/AOh14GicOgg14dMz58gOrg69qKXXZuY5LIxdkzh1yMn5KNg=s64",
      "userId": "16125998280788005643"
     }
    },
    "pycharm": {
     "name": "#%%\n"
    }
   },
   "source": [
    "#Gradient Boosted Decision Trees (Scikit-Learn)\n",
    "# gbm = GradientBoostingClassifier(n_estimators=2000,\n",
    "#                                  subsample=0.67,\n",
    "#                                  max_features=0.06,\n",
    "#                                  validation_fraction=0.1,\n",
    "#                                  n_iter_no_change=15,\n",
    "#                                  verbose=0,\n",
    "#                                  random_state=1234)\n",
    "# gbm"
   ],
   "execution_count": 24,
   "outputs": []
  },
  {
   "cell_type": "code",
   "metadata": {
    "colab": {
     "base_uri": "https://localhost:8080/"
    },
    "id": "YBQDEgkoXDmR",
    "executionInfo": {
     "status": "ok",
     "timestamp": 1647034322128,
     "user_tz": -540,
     "elapsed": 35,
     "user": {
      "displayName": "Milandu Keith Moussavou Boussougou",
      "photoUrl": "https://lh3.googleusercontent.com/a-/AOh14GicOgg14dMz58gOrg69qKXXZuY5LIxdkzh1yMn5KNg=s64",
      "userId": "16125998280788005643"
     }
    },
    "outputId": "b812a497-ab29-4a72-8325-93c17bef1749",
    "pycharm": {
     "name": "#%%\n"
    }
   },
   "source": [
    "#XGBoost\n",
    "xgb = XGBClassifier(n_estimators=2000,\n",
    "                    tree_method='hist',\n",
    "                    subsample=0.67,\n",
    "                    colsample_level=0.06,\n",
    "                    verbose=0,\n",
    "                    n_jobs=6,\n",
    "                    random_state=1234)\n",
    "xgb"
   ],
   "execution_count": 25,
   "outputs": [
    {
     "output_type": "execute_result",
     "data": {
      "text/plain": [
       "XGBClassifier(colsample_level=0.06, n_estimators=2000, n_jobs=6,\n",
       "              random_state=1234, subsample=0.67, tree_method='hist', verbose=0)"
      ]
     },
     "metadata": {},
     "execution_count": 25
    }
   ]
  },
  {
   "cell_type": "code",
   "metadata": {
    "colab": {
     "base_uri": "https://localhost:8080/"
    },
    "id": "YuKE2EzzXIyD",
    "executionInfo": {
     "status": "ok",
     "timestamp": 1647034882839,
     "user_tz": -540,
     "elapsed": 240,
     "user": {
      "displayName": "Milandu Keith Moussavou Boussougou",
      "photoUrl": "https://lh3.googleusercontent.com/a-/AOh14GicOgg14dMz58gOrg69qKXXZuY5LIxdkzh1yMn5KNg=s64",
      "userId": "16125998280788005643"
     }
    },
    "outputId": "8fb26b02-a1bd-4528-f793-c6752d337dd1",
    "pycharm": {
     "name": "#%%\n"
    }
   },
   "source": [
    "#LightGBM\n",
    "lgbm = LGBMClassifier(n_estimators=2000,\n",
    "                      feature_fraction=0.06,\n",
    "                      bagging_fraction=0.67,\n",
    "                      bagging_freq=1,\n",
    "                      verbose=0,\n",
    "                      n_jobs=6,\n",
    "                      random_state=1234)\n",
    "lgbm"
   ],
   "execution_count": 54,
   "outputs": [
    {
     "output_type": "execute_result",
     "data": {
      "text/plain": [
       "LGBMClassifier(bagging_fraction=0.67, bagging_freq=1, feature_fraction=0.06,\n",
       "               n_estimators=2000, n_jobs=6, random_state=1234, verbose=0)"
      ]
     },
     "metadata": {},
     "execution_count": 54
    }
   ]
  },
  {
   "cell_type": "code",
   "metadata": {
    "colab": {
     "base_uri": "https://localhost:8080/"
    },
    "id": "BVLteRLiXQzJ",
    "executionInfo": {
     "status": "ok",
     "timestamp": 1647034322129,
     "user_tz": -540,
     "elapsed": 25,
     "user": {
      "displayName": "Milandu Keith Moussavou Boussougou",
      "photoUrl": "https://lh3.googleusercontent.com/a-/AOh14GicOgg14dMz58gOrg69qKXXZuY5LIxdkzh1yMn5KNg=s64",
      "userId": "16125998280788005643"
     }
    },
    "outputId": "86956916-b6b9-466f-c708-053e0584fd25",
    "pycharm": {
     "name": "#%%\n"
    }
   },
   "source": [
    "#CatBoost\n",
    "cb = CatBoostClassifier(n_estimators=2000,\n",
    "                        colsample_bylevel=0.06,\n",
    "                        # max_leaves=31,\n",
    "                        subsample=0.67,\n",
    "                        thread_count=6,\n",
    "                        verbose=0,\n",
    "                        random_state=1234)\n",
    "cb"
   ],
   "execution_count": 27,
   "outputs": [
    {
     "output_type": "execute_result",
     "data": {
      "text/plain": [
       "<catboost.core.CatBoostClassifier at 0x7fd708676ad0>"
      ]
     },
     "metadata": {},
     "execution_count": 27
    }
   ]
  },
  {
   "cell_type": "code",
   "source": [
    "cb.get_params()"
   ],
   "metadata": {
    "colab": {
     "base_uri": "https://localhost:8080/"
    },
    "id": "bKh8CjcmI0yB",
    "executionInfo": {
     "status": "ok",
     "timestamp": 1647034322130,
     "user_tz": -540,
     "elapsed": 20,
     "user": {
      "displayName": "Milandu Keith Moussavou Boussougou",
      "photoUrl": "https://lh3.googleusercontent.com/a-/AOh14GicOgg14dMz58gOrg69qKXXZuY5LIxdkzh1yMn5KNg=s64",
      "userId": "16125998280788005643"
     }
    },
    "outputId": "8abc1cac-d82e-4903-9c9b-d073822ef939",
    "pycharm": {
     "name": "#%%\n"
    }
   },
   "execution_count": 28,
   "outputs": [
    {
     "output_type": "execute_result",
     "data": {
      "text/plain": [
       "{'colsample_bylevel': 0.06,\n",
       " 'n_estimators': 2000,\n",
       " 'random_state': 1234,\n",
       " 'subsample': 0.67,\n",
       " 'thread_count': 6,\n",
       " 'verbose': 0}"
      ]
     },
     "metadata": {},
     "execution_count": 28
    }
   ]
  },
  {
   "cell_type": "code",
   "metadata": {
    "id": "2RLCwlAmXYnq",
    "executionInfo": {
     "status": "ok",
     "timestamp": 1647034322130,
     "user_tz": -540,
     "elapsed": 16,
     "user": {
      "displayName": "Milandu Keith Moussavou Boussougou",
      "photoUrl": "https://lh3.googleusercontent.com/a-/AOh14GicOgg14dMz58gOrg69qKXXZuY5LIxdkzh1yMn5KNg=s64",
      "userId": "16125998280788005643"
     }
    },
    "pycharm": {
     "name": "#%%\n"
    }
   },
   "source": [
    "#Bonus: Histogram-based Gradient Boosting Machine (Scikit-Learn)\n",
    "# hgbm = HistGradientBoostingClassifier(max_iter=2000,\n",
    "#                                       validation_fraction=0.1,\n",
    "#                                       n_iter_no_change=15,\n",
    "#                                       verbose=0,\n",
    "#                                       random_state=1234)\n",
    "# hgbm"
   ],
   "execution_count": 29,
   "outputs": []
  },
  {
   "cell_type": "code",
   "metadata": {
    "id": "pcNOWtJpXeEY",
    "executionInfo": {
     "status": "ok",
     "timestamp": 1647034322130,
     "user_tz": -540,
     "elapsed": 15,
     "user": {
      "displayName": "Milandu Keith Moussavou Boussougou",
      "photoUrl": "https://lh3.googleusercontent.com/a-/AOh14GicOgg14dMz58gOrg69qKXXZuY5LIxdkzh1yMn5KNg=s64",
      "userId": "16125998280788005643"
     }
    },
    "pycharm": {
     "name": "#%%\n"
    }
   },
   "source": [
    "#Comparing our Competitors\n",
    "# models = [dt, rf, ab, gbm, hgbm, xgb, lgbm, cb]\n",
    "models = [rf, xgb, lgbm, cb]\n",
    "model_names = [i.__class__.__name__ for i in models]"
   ],
   "execution_count": 30,
   "outputs": []
  },
  {
   "cell_type": "code",
   "metadata": {
    "id": "_0pKqxkoXl37",
    "executionInfo": {
     "status": "ok",
     "timestamp": 1647034322131,
     "user_tz": -540,
     "elapsed": 15,
     "user": {
      "displayName": "Milandu Keith Moussavou Boussougou",
      "photoUrl": "https://lh3.googleusercontent.com/a-/AOh14GicOgg14dMz58gOrg69qKXXZuY5LIxdkzh1yMn5KNg=s64",
      "userId": "16125998280788005643"
     }
    },
    "pycharm": {
     "name": "#%%\n"
    }
   },
   "source": [
    "#to specify which of our models require early stopping within the .fit() method.\n",
    "es_models = ['XGBClassifier',\n",
    "             'LGBMClassifier',\n",
    "             'CatBoostClassifier']"
   ],
   "execution_count": 31,
   "outputs": []
  },
  {
   "cell_type": "markdown",
   "metadata": {
    "id": "DyH0MBSArfxU",
    "pycharm": {
     "name": "#%% md\n"
    }
   },
   "source": [
    "# train models"
   ]
  },
  {
   "cell_type": "code",
   "metadata": {
    "colab": {
     "base_uri": "https://localhost:8080/"
    },
    "id": "dsSYVKJLXv5K",
    "executionInfo": {
     "status": "ok",
     "timestamp": 1647034357696,
     "user_tz": -540,
     "elapsed": 35579,
     "user": {
      "displayName": "Milandu Keith Moussavou Boussougou",
      "photoUrl": "https://lh3.googleusercontent.com/a-/AOh14GicOgg14dMz58gOrg69qKXXZuY5LIxdkzh1yMn5KNg=s64",
      "userId": "16125998280788005643"
     }
    },
    "outputId": "12b6e26a-4f80-4a64-9ccc-814462bf4409",
    "pycharm": {
     "name": "#%%\n"
    }
   },
   "source": [
    "from timeit import default_timer as timer\n",
    "\n",
    "start = timer()\n",
    "#Train each of our candidate models\n",
    "for m, n in zip(models, model_names):\n",
    "    \n",
    "    if n in es_models:\n",
    "        start_time = time()\n",
    "        m.fit(X_train_sub,\n",
    "              y_train_sub,\n",
    "              eval_set = [(X_valid, y_valid)],\n",
    "              early_stopping_rounds=15,\n",
    "              verbose=0)\n",
    "    else:\n",
    "        start_time = time()\n",
    "        m.fit(X_train, y_train)\n",
    "    \n",
    "    run_time = time() - start_time\n",
    "    accuracy = np.mean(m.predict(X_test) == y_test)\n",
    "        \n",
    "    df_results.loc[n] = [None, None, None, None, accuracy, run_time]\n",
    "    \n",
    "    del m\n",
    "    \n",
    "train_time = timer() - start\n",
    "print('The time is {:.4f} seconds'.format(train_time))"
   ],
   "execution_count": 32,
   "outputs": [
    {
     "output_type": "stream",
     "name": "stdout",
     "text": [
      "The time is 35.7056 seconds\n"
     ]
    }
   ]
  },
  {
   "cell_type": "code",
   "source": [
    "cb.get_all_params()"
   ],
   "metadata": {
    "colab": {
     "base_uri": "https://localhost:8080/"
    },
    "id": "-Ps2mrADKFaA",
    "executionInfo": {
     "status": "ok",
     "timestamp": 1647034357697,
     "user_tz": -540,
     "elapsed": 28,
     "user": {
      "displayName": "Milandu Keith Moussavou Boussougou",
      "photoUrl": "https://lh3.googleusercontent.com/a-/AOh14GicOgg14dMz58gOrg69qKXXZuY5LIxdkzh1yMn5KNg=s64",
      "userId": "16125998280788005643"
     }
    },
    "outputId": "98f5eee7-5e38-4332-ada6-df1925904b97",
    "pycharm": {
     "name": "#%%\n"
    }
   },
   "execution_count": 33,
   "outputs": [
    {
     "output_type": "execute_result",
     "data": {
      "text/plain": [
       "{'auto_class_weights': 'None',\n",
       " 'bayesian_matrix_reg': 0.10000000149011612,\n",
       " 'best_model_min_trees': 1,\n",
       " 'boost_from_average': False,\n",
       " 'boosting_type': 'Plain',\n",
       " 'bootstrap_type': 'MVS',\n",
       " 'border_count': 254,\n",
       " 'class_names': [0, 1],\n",
       " 'classes_count': 0,\n",
       " 'depth': 6,\n",
       " 'eval_metric': 'Logloss',\n",
       " 'feature_border_type': 'GreedyLogSum',\n",
       " 'force_unit_auto_pair_weights': False,\n",
       " 'grow_policy': 'SymmetricTree',\n",
       " 'iterations': 2000,\n",
       " 'l2_leaf_reg': 3,\n",
       " 'leaf_estimation_backtracking': 'AnyImprovement',\n",
       " 'leaf_estimation_iterations': 10,\n",
       " 'leaf_estimation_method': 'Newton',\n",
       " 'learning_rate': 0.02253100089728832,\n",
       " 'loss_function': 'Logloss',\n",
       " 'max_leaves': 64,\n",
       " 'min_data_in_leaf': 1,\n",
       " 'model_shrink_mode': 'Constant',\n",
       " 'model_shrink_rate': 0,\n",
       " 'model_size_reg': 0.5,\n",
       " 'nan_mode': 'Min',\n",
       " 'od_pval': 0,\n",
       " 'od_type': 'Iter',\n",
       " 'od_wait': 15,\n",
       " 'penalties_coefficient': 1,\n",
       " 'pool_metainfo_options': {'tags': {}},\n",
       " 'posterior_sampling': False,\n",
       " 'random_seed': 1234,\n",
       " 'random_strength': 1,\n",
       " 'rsm': 0.05999999865889549,\n",
       " 'sampling_frequency': 'PerTree',\n",
       " 'score_function': 'Cosine',\n",
       " 'sparse_features_conflict_fraction': 0,\n",
       " 'subsample': 0.6700000166893005,\n",
       " 'task_type': 'CPU',\n",
       " 'use_best_model': True}"
      ]
     },
     "metadata": {},
     "execution_count": 33
    }
   ]
  },
  {
   "cell_type": "code",
   "metadata": {
    "colab": {
     "base_uri": "https://localhost:8080/",
     "height": 175
    },
    "id": "A7MOZkuaYTvs",
    "executionInfo": {
     "status": "ok",
     "timestamp": 1647034357698,
     "user_tz": -540,
     "elapsed": 26,
     "user": {
      "displayName": "Milandu Keith Moussavou Boussougou",
      "photoUrl": "https://lh3.googleusercontent.com/a-/AOh14GicOgg14dMz58gOrg69qKXXZuY5LIxdkzh1yMn5KNg=s64",
      "userId": "16125998280788005643"
     }
    },
    "outputId": "6271ccc1-e0d9-4283-b1e7-a61fb9460538",
    "pycharm": {
     "name": "#%%\n"
    }
   },
   "source": [
    "df_results"
   ],
   "execution_count": 34,
   "outputs": [
    {
     "output_type": "execute_result",
     "data": {
      "text/plain": [
       "                        F1_score  Precision  Recall  Accuracy  Accuracy1  \\\n",
       "RandomForestClassifier       NaN        NaN     NaN       NaN   0.983607   \n",
       "XGBClassifier                NaN        NaN     NaN       NaN   0.950820   \n",
       "LGBMClassifier               NaN        NaN     NaN       NaN   0.991803   \n",
       "CatBoostClassifier           NaN        NaN     NaN       NaN   0.971311   \n",
       "\n",
       "                        Training time  \n",
       "RandomForestClassifier       4.573857  \n",
       "XGBClassifier                1.589698  \n",
       "LGBMClassifier               2.351793  \n",
       "CatBoostClassifier          26.563245  "
      ],
      "text/html": [
       "\n",
       "  <div id=\"df-f8a6311a-e4f9-4193-85c0-1a075cfaece4\">\n",
       "    <div class=\"colab-df-container\">\n",
       "      <div>\n",
       "<style scoped>\n",
       "    .dataframe tbody tr th:only-of-type {\n",
       "        vertical-align: middle;\n",
       "    }\n",
       "\n",
       "    .dataframe tbody tr th {\n",
       "        vertical-align: top;\n",
       "    }\n",
       "\n",
       "    .dataframe thead th {\n",
       "        text-align: right;\n",
       "    }\n",
       "</style>\n",
       "<table border=\"1\" class=\"dataframe\">\n",
       "  <thead>\n",
       "    <tr style=\"text-align: right;\">\n",
       "      <th></th>\n",
       "      <th>F1_score</th>\n",
       "      <th>Precision</th>\n",
       "      <th>Recall</th>\n",
       "      <th>Accuracy</th>\n",
       "      <th>Accuracy1</th>\n",
       "      <th>Training time</th>\n",
       "    </tr>\n",
       "  </thead>\n",
       "  <tbody>\n",
       "    <tr>\n",
       "      <th>RandomForestClassifier</th>\n",
       "      <td>NaN</td>\n",
       "      <td>NaN</td>\n",
       "      <td>NaN</td>\n",
       "      <td>NaN</td>\n",
       "      <td>0.983607</td>\n",
       "      <td>4.573857</td>\n",
       "    </tr>\n",
       "    <tr>\n",
       "      <th>XGBClassifier</th>\n",
       "      <td>NaN</td>\n",
       "      <td>NaN</td>\n",
       "      <td>NaN</td>\n",
       "      <td>NaN</td>\n",
       "      <td>0.950820</td>\n",
       "      <td>1.589698</td>\n",
       "    </tr>\n",
       "    <tr>\n",
       "      <th>LGBMClassifier</th>\n",
       "      <td>NaN</td>\n",
       "      <td>NaN</td>\n",
       "      <td>NaN</td>\n",
       "      <td>NaN</td>\n",
       "      <td>0.991803</td>\n",
       "      <td>2.351793</td>\n",
       "    </tr>\n",
       "    <tr>\n",
       "      <th>CatBoostClassifier</th>\n",
       "      <td>NaN</td>\n",
       "      <td>NaN</td>\n",
       "      <td>NaN</td>\n",
       "      <td>NaN</td>\n",
       "      <td>0.971311</td>\n",
       "      <td>26.563245</td>\n",
       "    </tr>\n",
       "  </tbody>\n",
       "</table>\n",
       "</div>\n",
       "      <button class=\"colab-df-convert\" onclick=\"convertToInteractive('df-f8a6311a-e4f9-4193-85c0-1a075cfaece4')\"\n",
       "              title=\"Convert this dataframe to an interactive table.\"\n",
       "              style=\"display:none;\">\n",
       "        \n",
       "  <svg xmlns=\"http://www.w3.org/2000/svg\" height=\"24px\"viewBox=\"0 0 24 24\"\n",
       "       width=\"24px\">\n",
       "    <path d=\"M0 0h24v24H0V0z\" fill=\"none\"/>\n",
       "    <path d=\"M18.56 5.44l.94 2.06.94-2.06 2.06-.94-2.06-.94-.94-2.06-.94 2.06-2.06.94zm-11 1L8.5 8.5l.94-2.06 2.06-.94-2.06-.94L8.5 2.5l-.94 2.06-2.06.94zm10 10l.94 2.06.94-2.06 2.06-.94-2.06-.94-.94-2.06-.94 2.06-2.06.94z\"/><path d=\"M17.41 7.96l-1.37-1.37c-.4-.4-.92-.59-1.43-.59-.52 0-1.04.2-1.43.59L10.3 9.45l-7.72 7.72c-.78.78-.78 2.05 0 2.83L4 21.41c.39.39.9.59 1.41.59.51 0 1.02-.2 1.41-.59l7.78-7.78 2.81-2.81c.8-.78.8-2.07 0-2.86zM5.41 20L4 18.59l7.72-7.72 1.47 1.35L5.41 20z\"/>\n",
       "  </svg>\n",
       "      </button>\n",
       "      \n",
       "  <style>\n",
       "    .colab-df-container {\n",
       "      display:flex;\n",
       "      flex-wrap:wrap;\n",
       "      gap: 12px;\n",
       "    }\n",
       "\n",
       "    .colab-df-convert {\n",
       "      background-color: #E8F0FE;\n",
       "      border: none;\n",
       "      border-radius: 50%;\n",
       "      cursor: pointer;\n",
       "      display: none;\n",
       "      fill: #1967D2;\n",
       "      height: 32px;\n",
       "      padding: 0 0 0 0;\n",
       "      width: 32px;\n",
       "    }\n",
       "\n",
       "    .colab-df-convert:hover {\n",
       "      background-color: #E2EBFA;\n",
       "      box-shadow: 0px 1px 2px rgba(60, 64, 67, 0.3), 0px 1px 3px 1px rgba(60, 64, 67, 0.15);\n",
       "      fill: #174EA6;\n",
       "    }\n",
       "\n",
       "    [theme=dark] .colab-df-convert {\n",
       "      background-color: #3B4455;\n",
       "      fill: #D2E3FC;\n",
       "    }\n",
       "\n",
       "    [theme=dark] .colab-df-convert:hover {\n",
       "      background-color: #434B5C;\n",
       "      box-shadow: 0px 1px 3px 1px rgba(0, 0, 0, 0.15);\n",
       "      filter: drop-shadow(0px 1px 2px rgba(0, 0, 0, 0.3));\n",
       "      fill: #FFFFFF;\n",
       "    }\n",
       "  </style>\n",
       "\n",
       "      <script>\n",
       "        const buttonEl =\n",
       "          document.querySelector('#df-f8a6311a-e4f9-4193-85c0-1a075cfaece4 button.colab-df-convert');\n",
       "        buttonEl.style.display =\n",
       "          google.colab.kernel.accessAllowed ? 'block' : 'none';\n",
       "\n",
       "        async function convertToInteractive(key) {\n",
       "          const element = document.querySelector('#df-f8a6311a-e4f9-4193-85c0-1a075cfaece4');\n",
       "          const dataTable =\n",
       "            await google.colab.kernel.invokeFunction('convertToInteractive',\n",
       "                                                     [key], {});\n",
       "          if (!dataTable) return;\n",
       "\n",
       "          const docLinkHtml = 'Like what you see? Visit the ' +\n",
       "            '<a target=\"_blank\" href=https://colab.research.google.com/notebooks/data_table.ipynb>data table notebook</a>'\n",
       "            + ' to learn more about interactive tables.';\n",
       "          element.innerHTML = '';\n",
       "          dataTable['output_type'] = 'display_data';\n",
       "          await google.colab.output.renderOutput(dataTable, element);\n",
       "          const docLink = document.createElement('div');\n",
       "          docLink.innerHTML = docLinkHtml;\n",
       "          element.appendChild(docLink);\n",
       "        }\n",
       "      </script>\n",
       "    </div>\n",
       "  </div>\n",
       "  "
      ]
     },
     "metadata": {},
     "execution_count": 34
    }
   ]
  },
  {
   "cell_type": "code",
   "metadata": {
    "colab": {
     "base_uri": "https://localhost:8080/"
    },
    "id": "xFO6mgXcYvcd",
    "executionInfo": {
     "status": "ok",
     "timestamp": 1647034357699,
     "user_tz": -540,
     "elapsed": 25,
     "user": {
      "displayName": "Milandu Keith Moussavou Boussougou",
      "photoUrl": "https://lh3.googleusercontent.com/a-/AOh14GicOgg14dMz58gOrg69qKXXZuY5LIxdkzh1yMn5KNg=s64",
      "userId": "16125998280788005643"
     }
    },
    "outputId": "5fd06f9e-ab1d-4d5c-ec03-f8e8f25cb265",
    "pycharm": {
     "name": "#%%\n"
    }
   },
   "source": [
    "## Testing LinearSVC\n",
    "start = timer()\n",
    "\n",
    "svc = LinearSVC()\n",
    "\n",
    "start_time = time()\n",
    "svc.fit(X_train, y_train)\n",
    "run_time = time() - start_time\n",
    "\n",
    "preds = svc.predict(X_test)\n",
    "accuracy = np.mean(preds == y_test)\n",
    "df_results.loc['LinearSVC'] = [None, None, None, None, accuracy, run_time]\n",
    "\n",
    "train_time = timer() - start\n",
    "print('The time is {:.4f} seconds'.format(train_time))"
   ],
   "execution_count": 35,
   "outputs": [
    {
     "output_type": "stream",
     "name": "stdout",
     "text": [
      "The time is 0.0625 seconds\n"
     ]
    }
   ]
  },
  {
   "cell_type": "code",
   "metadata": {
    "colab": {
     "base_uri": "https://localhost:8080/",
     "height": 206
    },
    "id": "BiTgxiA5ZprT",
    "executionInfo": {
     "status": "ok",
     "timestamp": 1647034358086,
     "user_tz": -540,
     "elapsed": 407,
     "user": {
      "displayName": "Milandu Keith Moussavou Boussougou",
      "photoUrl": "https://lh3.googleusercontent.com/a-/AOh14GicOgg14dMz58gOrg69qKXXZuY5LIxdkzh1yMn5KNg=s64",
      "userId": "16125998280788005643"
     }
    },
    "outputId": "e6f41c65-64e9-4bf0-8492-be985408cc5f",
    "pycharm": {
     "name": "#%%\n"
    }
   },
   "source": [
    "df_results"
   ],
   "execution_count": 36,
   "outputs": [
    {
     "output_type": "execute_result",
     "data": {
      "text/plain": [
       "                        F1_score  Precision  Recall  Accuracy  Accuracy1  \\\n",
       "RandomForestClassifier       NaN        NaN     NaN       NaN   0.983607   \n",
       "XGBClassifier                NaN        NaN     NaN       NaN   0.950820   \n",
       "LGBMClassifier               NaN        NaN     NaN       NaN   0.991803   \n",
       "CatBoostClassifier           NaN        NaN     NaN       NaN   0.971311   \n",
       "LinearSVC                    NaN        NaN     NaN       NaN   0.995902   \n",
       "\n",
       "                        Training time  \n",
       "RandomForestClassifier       4.573857  \n",
       "XGBClassifier                1.589698  \n",
       "LGBMClassifier               2.351793  \n",
       "CatBoostClassifier          26.563245  \n",
       "LinearSVC                    0.021845  "
      ],
      "text/html": [
       "\n",
       "  <div id=\"df-325b5342-b418-4d6d-97a0-da2a6a089cc4\">\n",
       "    <div class=\"colab-df-container\">\n",
       "      <div>\n",
       "<style scoped>\n",
       "    .dataframe tbody tr th:only-of-type {\n",
       "        vertical-align: middle;\n",
       "    }\n",
       "\n",
       "    .dataframe tbody tr th {\n",
       "        vertical-align: top;\n",
       "    }\n",
       "\n",
       "    .dataframe thead th {\n",
       "        text-align: right;\n",
       "    }\n",
       "</style>\n",
       "<table border=\"1\" class=\"dataframe\">\n",
       "  <thead>\n",
       "    <tr style=\"text-align: right;\">\n",
       "      <th></th>\n",
       "      <th>F1_score</th>\n",
       "      <th>Precision</th>\n",
       "      <th>Recall</th>\n",
       "      <th>Accuracy</th>\n",
       "      <th>Accuracy1</th>\n",
       "      <th>Training time</th>\n",
       "    </tr>\n",
       "  </thead>\n",
       "  <tbody>\n",
       "    <tr>\n",
       "      <th>RandomForestClassifier</th>\n",
       "      <td>NaN</td>\n",
       "      <td>NaN</td>\n",
       "      <td>NaN</td>\n",
       "      <td>NaN</td>\n",
       "      <td>0.983607</td>\n",
       "      <td>4.573857</td>\n",
       "    </tr>\n",
       "    <tr>\n",
       "      <th>XGBClassifier</th>\n",
       "      <td>NaN</td>\n",
       "      <td>NaN</td>\n",
       "      <td>NaN</td>\n",
       "      <td>NaN</td>\n",
       "      <td>0.950820</td>\n",
       "      <td>1.589698</td>\n",
       "    </tr>\n",
       "    <tr>\n",
       "      <th>LGBMClassifier</th>\n",
       "      <td>NaN</td>\n",
       "      <td>NaN</td>\n",
       "      <td>NaN</td>\n",
       "      <td>NaN</td>\n",
       "      <td>0.991803</td>\n",
       "      <td>2.351793</td>\n",
       "    </tr>\n",
       "    <tr>\n",
       "      <th>CatBoostClassifier</th>\n",
       "      <td>NaN</td>\n",
       "      <td>NaN</td>\n",
       "      <td>NaN</td>\n",
       "      <td>NaN</td>\n",
       "      <td>0.971311</td>\n",
       "      <td>26.563245</td>\n",
       "    </tr>\n",
       "    <tr>\n",
       "      <th>LinearSVC</th>\n",
       "      <td>NaN</td>\n",
       "      <td>NaN</td>\n",
       "      <td>NaN</td>\n",
       "      <td>NaN</td>\n",
       "      <td>0.995902</td>\n",
       "      <td>0.021845</td>\n",
       "    </tr>\n",
       "  </tbody>\n",
       "</table>\n",
       "</div>\n",
       "      <button class=\"colab-df-convert\" onclick=\"convertToInteractive('df-325b5342-b418-4d6d-97a0-da2a6a089cc4')\"\n",
       "              title=\"Convert this dataframe to an interactive table.\"\n",
       "              style=\"display:none;\">\n",
       "        \n",
       "  <svg xmlns=\"http://www.w3.org/2000/svg\" height=\"24px\"viewBox=\"0 0 24 24\"\n",
       "       width=\"24px\">\n",
       "    <path d=\"M0 0h24v24H0V0z\" fill=\"none\"/>\n",
       "    <path d=\"M18.56 5.44l.94 2.06.94-2.06 2.06-.94-2.06-.94-.94-2.06-.94 2.06-2.06.94zm-11 1L8.5 8.5l.94-2.06 2.06-.94-2.06-.94L8.5 2.5l-.94 2.06-2.06.94zm10 10l.94 2.06.94-2.06 2.06-.94-2.06-.94-.94-2.06-.94 2.06-2.06.94z\"/><path d=\"M17.41 7.96l-1.37-1.37c-.4-.4-.92-.59-1.43-.59-.52 0-1.04.2-1.43.59L10.3 9.45l-7.72 7.72c-.78.78-.78 2.05 0 2.83L4 21.41c.39.39.9.59 1.41.59.51 0 1.02-.2 1.41-.59l7.78-7.78 2.81-2.81c.8-.78.8-2.07 0-2.86zM5.41 20L4 18.59l7.72-7.72 1.47 1.35L5.41 20z\"/>\n",
       "  </svg>\n",
       "      </button>\n",
       "      \n",
       "  <style>\n",
       "    .colab-df-container {\n",
       "      display:flex;\n",
       "      flex-wrap:wrap;\n",
       "      gap: 12px;\n",
       "    }\n",
       "\n",
       "    .colab-df-convert {\n",
       "      background-color: #E8F0FE;\n",
       "      border: none;\n",
       "      border-radius: 50%;\n",
       "      cursor: pointer;\n",
       "      display: none;\n",
       "      fill: #1967D2;\n",
       "      height: 32px;\n",
       "      padding: 0 0 0 0;\n",
       "      width: 32px;\n",
       "    }\n",
       "\n",
       "    .colab-df-convert:hover {\n",
       "      background-color: #E2EBFA;\n",
       "      box-shadow: 0px 1px 2px rgba(60, 64, 67, 0.3), 0px 1px 3px 1px rgba(60, 64, 67, 0.15);\n",
       "      fill: #174EA6;\n",
       "    }\n",
       "\n",
       "    [theme=dark] .colab-df-convert {\n",
       "      background-color: #3B4455;\n",
       "      fill: #D2E3FC;\n",
       "    }\n",
       "\n",
       "    [theme=dark] .colab-df-convert:hover {\n",
       "      background-color: #434B5C;\n",
       "      box-shadow: 0px 1px 3px 1px rgba(0, 0, 0, 0.15);\n",
       "      filter: drop-shadow(0px 1px 2px rgba(0, 0, 0, 0.3));\n",
       "      fill: #FFFFFF;\n",
       "    }\n",
       "  </style>\n",
       "\n",
       "      <script>\n",
       "        const buttonEl =\n",
       "          document.querySelector('#df-325b5342-b418-4d6d-97a0-da2a6a089cc4 button.colab-df-convert');\n",
       "        buttonEl.style.display =\n",
       "          google.colab.kernel.accessAllowed ? 'block' : 'none';\n",
       "\n",
       "        async function convertToInteractive(key) {\n",
       "          const element = document.querySelector('#df-325b5342-b418-4d6d-97a0-da2a6a089cc4');\n",
       "          const dataTable =\n",
       "            await google.colab.kernel.invokeFunction('convertToInteractive',\n",
       "                                                     [key], {});\n",
       "          if (!dataTable) return;\n",
       "\n",
       "          const docLinkHtml = 'Like what you see? Visit the ' +\n",
       "            '<a target=\"_blank\" href=https://colab.research.google.com/notebooks/data_table.ipynb>data table notebook</a>'\n",
       "            + ' to learn more about interactive tables.';\n",
       "          element.innerHTML = '';\n",
       "          dataTable['output_type'] = 'display_data';\n",
       "          await google.colab.output.renderOutput(dataTable, element);\n",
       "          const docLink = document.createElement('div');\n",
       "          docLink.innerHTML = docLinkHtml;\n",
       "          element.appendChild(docLink);\n",
       "        }\n",
       "      </script>\n",
       "    </div>\n",
       "  </div>\n",
       "  "
      ]
     },
     "metadata": {},
     "execution_count": 36
    }
   ]
  },
  {
   "cell_type": "code",
   "metadata": {
    "id": "KAGMY89-ntsp",
    "executionInfo": {
     "status": "ok",
     "timestamp": 1647034358087,
     "user_tz": -540,
     "elapsed": 10,
     "user": {
      "displayName": "Milandu Keith Moussavou Boussougou",
      "photoUrl": "https://lh3.googleusercontent.com/a-/AOh14GicOgg14dMz58gOrg69qKXXZuY5LIxdkzh1yMn5KNg=s64",
      "userId": "16125998280788005643"
     }
    },
    "pycharm": {
     "name": "#%%\n"
    }
   },
   "source": [
    "# table = df_results[['accuracy','run_time']].head()"
   ],
   "execution_count": 37,
   "outputs": []
  },
  {
   "cell_type": "code",
   "metadata": {
    "id": "H7J9OSmEngVO",
    "executionInfo": {
     "status": "ok",
     "timestamp": 1647034358087,
     "user_tz": -540,
     "elapsed": 10,
     "user": {
      "displayName": "Milandu Keith Moussavou Boussougou",
      "photoUrl": "https://lh3.googleusercontent.com/a-/AOh14GicOgg14dMz58gOrg69qKXXZuY5LIxdkzh1yMn5KNg=s64",
      "userId": "16125998280788005643"
     }
    },
    "pycharm": {
     "name": "#%%\n"
    }
   },
   "source": [
    "# ax = df_results.plot()\n",
    "# fig = ax.get_figure()\n",
    "# fig.savefig('asdf.png')"
   ],
   "execution_count": 38,
   "outputs": []
  },
  {
   "cell_type": "code",
   "metadata": {
    "id": "-nrWJo1QoM1a",
    "executionInfo": {
     "status": "ok",
     "timestamp": 1647034358088,
     "user_tz": -540,
     "elapsed": 10,
     "user": {
      "displayName": "Milandu Keith Moussavou Boussougou",
      "photoUrl": "https://lh3.googleusercontent.com/a-/AOh14GicOgg14dMz58gOrg69qKXXZuY5LIxdkzh1yMn5KNg=s64",
      "userId": "16125998280788005643"
     }
    },
    "pycharm": {
     "name": "#%%\n"
    }
   },
   "source": [
    "# ls -l"
   ],
   "execution_count": 39,
   "outputs": []
  },
  {
   "cell_type": "markdown",
   "metadata": {
    "id": "4yqadwxxjEPw",
    "pycharm": {
     "name": "#%% md\n"
    }
   },
   "source": [
    "# Model with recall and precision metrics\n"
   ]
  },
  {
   "cell_type": "markdown",
   "metadata": {
    "id": "eOJktn5DjK-d",
    "pycharm": {
     "name": "#%% md\n"
    }
   },
   "source": [
    "## librairies"
   ]
  },
  {
   "cell_type": "code",
   "metadata": {
    "colab": {
     "base_uri": "https://localhost:8080/",
     "height": 0
    },
    "id": "HtlfQVMRjN5v",
    "executionInfo": {
     "status": "ok",
     "timestamp": 1647034393851,
     "user_tz": -540,
     "elapsed": 35773,
     "user": {
      "displayName": "Milandu Keith Moussavou Boussougou",
      "photoUrl": "https://lh3.googleusercontent.com/a-/AOh14GicOgg14dMz58gOrg69qKXXZuY5LIxdkzh1yMn5KNg=s64",
      "userId": "16125998280788005643"
     }
    },
    "outputId": "b5c58342-9311-4635-e120-48f3f1d1b00d",
    "pycharm": {
     "name": "#%%\n"
    }
   },
   "source": [
    "!pip install psutil nodejs matplotlib seaborn==0.8.1 neptune-client==0.3.7 neptune-contrib[versioning]==0.11.0 neptune-notebooks==0.0.8 scikit-plot"
   ],
   "execution_count": 40,
   "outputs": [
    {
     "output_type": "stream",
     "name": "stdout",
     "text": [
      "Requirement already satisfied: psutil in /usr/local/lib/python3.7/dist-packages (5.4.8)\n",
      "Collecting nodejs\n",
      "  Downloading nodejs-0.1.1.tar.gz (2.3 kB)\n",
      "Requirement already satisfied: matplotlib in /usr/local/lib/python3.7/dist-packages (3.2.2)\n",
      "Collecting seaborn==0.8.1\n",
      "  Downloading seaborn-0.8.1.tar.gz (178 kB)\n",
      "\u001B[K     |████████████████████████████████| 178 kB 6.0 MB/s \n",
      "\u001B[?25hCollecting neptune-client==0.3.7\n",
      "  Downloading neptune-client-0.3.7.tar.gz (75 kB)\n",
      "\u001B[K     |████████████████████████████████| 75 kB 3.9 MB/s \n",
      "\u001B[?25hCollecting neptune-contrib[versioning]==0.11.0\n",
      "  Downloading neptune-contrib-0.11.0.tar.gz (22 kB)\n",
      "Collecting neptune-notebooks==0.0.8\n",
      "  Downloading neptune-notebooks-0.0.8.tar.gz (39 kB)\n",
      "Collecting scikit-plot\n",
      "  Downloading scikit_plot-0.3.7-py3-none-any.whl (33 kB)\n",
      "Collecting bravado\n",
      "  Downloading bravado-11.0.3-py2.py3-none-any.whl (38 kB)\n",
      "Requirement already satisfied: click>=7.0 in /usr/local/lib/python3.7/dist-packages (from neptune-client==0.3.7) (7.1.2)\n",
      "Collecting future>=0.17.1\n",
      "  Downloading future-0.18.2.tar.gz (829 kB)\n",
      "\u001B[K     |████████████████████████████████| 829 kB 40.1 MB/s \n",
      "\u001B[?25hRequirement already satisfied: nvidia-ml-py3 in /usr/local/lib/python3.7/dist-packages (from neptune-client==0.3.7) (7.352.0)\n",
      "Requirement already satisfied: oauthlib>=2.1.0 in /usr/local/lib/python3.7/dist-packages (from neptune-client==0.3.7) (3.2.0)\n",
      "Requirement already satisfied: pandas in /usr/local/lib/python3.7/dist-packages (from neptune-client==0.3.7) (1.3.5)\n",
      "Requirement already satisfied: Pillow>=1.1.6 in /usr/local/lib/python3.7/dist-packages (from neptune-client==0.3.7) (7.1.2)\n",
      "Collecting PyJWT\n",
      "  Downloading PyJWT-2.3.0-py3-none-any.whl (16 kB)\n",
      "Requirement already satisfied: requests>=2.20.0 in /usr/local/lib/python3.7/dist-packages (from neptune-client==0.3.7) (2.23.0)\n",
      "Requirement already satisfied: requests-oauthlib>=1.0.0 in /usr/local/lib/python3.7/dist-packages (from neptune-client==0.3.7) (1.3.1)\n",
      "Requirement already satisfied: six>=1.12.0 in /usr/local/lib/python3.7/dist-packages (from neptune-client==0.3.7) (1.15.0)\n",
      "Collecting websocket-client>=0.35.0\n",
      "  Downloading websocket_client-1.3.1-py3-none-any.whl (54 kB)\n",
      "\u001B[K     |████████████████████████████████| 54 kB 2.4 MB/s \n",
      "\u001B[?25hCollecting GitPython>=2.0.8\n",
      "  Downloading GitPython-3.1.27-py3-none-any.whl (181 kB)\n",
      "\u001B[K     |████████████████████████████████| 181 kB 41.3 MB/s \n",
      "\u001B[?25hRequirement already satisfied: notebook>=4.3.0 in /usr/local/lib/python3.7/dist-packages (from neptune-notebooks==0.0.8) (5.3.1)\n",
      "Collecting path.py\n",
      "  Downloading path.py-12.5.0-py3-none-any.whl (2.3 kB)\n",
      "Collecting attrdict==2.0.0\n",
      "  Downloading attrdict-2.0.0.tar.gz (9.0 kB)\n",
      "Collecting joblib==0.13\n",
      "  Downloading joblib-0.13.0-py2.py3-none-any.whl (276 kB)\n",
      "\u001B[K     |████████████████████████████████| 276 kB 44.6 MB/s \n",
      "\u001B[?25hCollecting Pillow>=1.1.6\n",
      "  Downloading Pillow-5.4.1-cp37-cp37m-manylinux1_x86_64.whl (2.0 MB)\n",
      "\u001B[K     |████████████████████████████████| 2.0 MB 36.5 MB/s \n",
      "\u001B[?25hCollecting boto3\n",
      "  Downloading boto3-1.21.18-py3-none-any.whl (132 kB)\n",
      "\u001B[K     |████████████████████████████████| 132 kB 47.5 MB/s \n",
      "\u001B[?25hRequirement already satisfied: numpy in /usr/local/lib/python3.7/dist-packages (from neptune-contrib[versioning]==0.11.0) (1.21.5)\n",
      "Requirement already satisfied: typing-extensions>=3.7.4.3 in /usr/local/lib/python3.7/dist-packages (from GitPython>=2.0.8->neptune-client==0.3.7) (3.10.0.2)\n",
      "Collecting gitdb<5,>=4.0.1\n",
      "  Downloading gitdb-4.0.9-py3-none-any.whl (63 kB)\n",
      "\u001B[K     |████████████████████████████████| 63 kB 1.6 MB/s \n",
      "\u001B[?25hCollecting smmap<6,>=3.0.1\n",
      "  Downloading smmap-5.0.0-py3-none-any.whl (24 kB)\n",
      "Requirement already satisfied: tornado>=4 in /usr/local/lib/python3.7/dist-packages (from notebook>=4.3.0->neptune-notebooks==0.0.8) (5.1.1)\n",
      "Requirement already satisfied: ipython-genutils in /usr/local/lib/python3.7/dist-packages (from notebook>=4.3.0->neptune-notebooks==0.0.8) (0.2.0)\n",
      "Requirement already satisfied: jupyter-core>=4.4.0 in /usr/local/lib/python3.7/dist-packages (from notebook>=4.3.0->neptune-notebooks==0.0.8) (4.9.2)\n",
      "Requirement already satisfied: ipykernel in /usr/local/lib/python3.7/dist-packages (from notebook>=4.3.0->neptune-notebooks==0.0.8) (4.10.1)\n",
      "Requirement already satisfied: nbconvert in /usr/local/lib/python3.7/dist-packages (from notebook>=4.3.0->neptune-notebooks==0.0.8) (5.6.1)\n",
      "Requirement already satisfied: jinja2 in /usr/local/lib/python3.7/dist-packages (from notebook>=4.3.0->neptune-notebooks==0.0.8) (2.11.3)\n",
      "Requirement already satisfied: nbformat in /usr/local/lib/python3.7/dist-packages (from notebook>=4.3.0->neptune-notebooks==0.0.8) (5.1.3)\n",
      "Requirement already satisfied: jupyter-client>=5.2.0 in /usr/local/lib/python3.7/dist-packages (from notebook>=4.3.0->neptune-notebooks==0.0.8) (5.3.5)\n",
      "Requirement already satisfied: Send2Trash in /usr/local/lib/python3.7/dist-packages (from notebook>=4.3.0->neptune-notebooks==0.0.8) (1.8.0)\n",
      "Requirement already satisfied: traitlets>=4.2.1 in /usr/local/lib/python3.7/dist-packages (from notebook>=4.3.0->neptune-notebooks==0.0.8) (5.1.1)\n",
      "Requirement already satisfied: terminado>=0.8.1 in /usr/local/lib/python3.7/dist-packages (from notebook>=4.3.0->neptune-notebooks==0.0.8) (0.13.3)\n",
      "Requirement already satisfied: python-dateutil>=2.1 in /usr/local/lib/python3.7/dist-packages (from jupyter-client>=5.2.0->notebook>=4.3.0->neptune-notebooks==0.0.8) (2.8.2)\n",
      "Requirement already satisfied: pyzmq>=13 in /usr/local/lib/python3.7/dist-packages (from jupyter-client>=5.2.0->notebook>=4.3.0->neptune-notebooks==0.0.8) (22.3.0)\n",
      "Requirement already satisfied: chardet<4,>=3.0.2 in /usr/local/lib/python3.7/dist-packages (from requests>=2.20.0->neptune-client==0.3.7) (3.0.4)\n",
      "Requirement already satisfied: urllib3!=1.25.0,!=1.25.1,<1.26,>=1.21.1 in /usr/local/lib/python3.7/dist-packages (from requests>=2.20.0->neptune-client==0.3.7) (1.24.3)\n",
      "Requirement already satisfied: idna<3,>=2.5 in /usr/local/lib/python3.7/dist-packages (from requests>=2.20.0->neptune-client==0.3.7) (2.10)\n",
      "Requirement already satisfied: certifi>=2017.4.17 in /usr/local/lib/python3.7/dist-packages (from requests>=2.20.0->neptune-client==0.3.7) (2021.10.8)\n",
      "Requirement already satisfied: ptyprocess in /usr/local/lib/python3.7/dist-packages (from terminado>=0.8.1->notebook>=4.3.0->neptune-notebooks==0.0.8) (0.7.0)\n",
      "Collecting optional-django==0.1.0\n",
      "  Downloading optional-django-0.1.0.tar.gz (9.5 kB)\n",
      "Requirement already satisfied: cycler>=0.10 in /usr/local/lib/python3.7/dist-packages (from matplotlib) (0.11.0)\n",
      "Requirement already satisfied: kiwisolver>=1.0.1 in /usr/local/lib/python3.7/dist-packages (from matplotlib) (1.3.2)\n",
      "Requirement already satisfied: pyparsing!=2.0.4,!=2.1.2,!=2.1.6,>=2.0.1 in /usr/local/lib/python3.7/dist-packages (from matplotlib) (3.0.7)\n",
      "Requirement already satisfied: scikit-learn>=0.18 in /usr/local/lib/python3.7/dist-packages (from scikit-plot) (1.0.2)\n",
      "Requirement already satisfied: scipy>=0.9 in /usr/local/lib/python3.7/dist-packages (from scikit-plot) (1.4.1)\n",
      "Requirement already satisfied: threadpoolctl>=2.0.0 in /usr/local/lib/python3.7/dist-packages (from scikit-learn>=0.18->scikit-plot) (3.1.0)\n",
      "Collecting jmespath<1.0.0,>=0.7.1\n",
      "  Downloading jmespath-0.10.0-py2.py3-none-any.whl (24 kB)\n",
      "Collecting botocore<1.25.0,>=1.24.18\n",
      "  Downloading botocore-1.24.18-py3-none-any.whl (8.6 MB)\n",
      "\u001B[K     |████████████████████████████████| 8.6 MB 36.3 MB/s \n",
      "\u001B[?25hCollecting s3transfer<0.6.0,>=0.5.0\n",
      "  Downloading s3transfer-0.5.2-py3-none-any.whl (79 kB)\n",
      "\u001B[K     |████████████████████████████████| 79 kB 8.0 MB/s \n",
      "\u001B[?25hCollecting urllib3!=1.25.0,!=1.25.1,<1.26,>=1.21.1\n",
      "  Downloading urllib3-1.25.11-py2.py3-none-any.whl (127 kB)\n",
      "\u001B[K     |████████████████████████████████| 127 kB 47.7 MB/s \n",
      "\u001B[?25hCollecting simplejson\n",
      "  Downloading simplejson-3.17.6-cp37-cp37m-manylinux_2_5_x86_64.manylinux1_x86_64.manylinux_2_12_x86_64.manylinux2010_x86_64.whl (130 kB)\n",
      "\u001B[K     |████████████████████████████████| 130 kB 48.5 MB/s \n",
      "\u001B[?25hCollecting monotonic\n",
      "  Downloading monotonic-1.6-py2.py3-none-any.whl (8.2 kB)\n",
      "Requirement already satisfied: msgpack in /usr/local/lib/python3.7/dist-packages (from bravado->neptune-client==0.3.7) (1.0.3)\n",
      "Collecting bravado-core>=5.16.1\n",
      "  Downloading bravado_core-5.17.0-py2.py3-none-any.whl (67 kB)\n",
      "\u001B[K     |████████████████████████████████| 67 kB 5.1 MB/s \n",
      "\u001B[?25hRequirement already satisfied: pyyaml in /usr/local/lib/python3.7/dist-packages (from bravado->neptune-client==0.3.7) (3.13)\n",
      "Requirement already satisfied: pytz in /usr/local/lib/python3.7/dist-packages (from bravado-core>=5.16.1->bravado->neptune-client==0.3.7) (2018.9)\n",
      "Requirement already satisfied: jsonschema[format]>=2.5.1 in /usr/local/lib/python3.7/dist-packages (from bravado-core>=5.16.1->bravado->neptune-client==0.3.7) (4.3.3)\n",
      "Collecting jsonref\n",
      "  Downloading jsonref-0.2-py3-none-any.whl (9.3 kB)\n",
      "Collecting swagger-spec-validator>=2.0.1\n",
      "  Downloading swagger_spec_validator-2.7.4-py2.py3-none-any.whl (27 kB)\n",
      "Requirement already satisfied: importlib-metadata in /usr/local/lib/python3.7/dist-packages (from jsonschema[format]>=2.5.1->bravado-core>=5.16.1->bravado->neptune-client==0.3.7) (4.11.2)\n",
      "Requirement already satisfied: pyrsistent!=0.17.0,!=0.17.1,!=0.17.2,>=0.14.0 in /usr/local/lib/python3.7/dist-packages (from jsonschema[format]>=2.5.1->bravado-core>=5.16.1->bravado->neptune-client==0.3.7) (0.18.1)\n",
      "Requirement already satisfied: importlib-resources>=1.4.0 in /usr/local/lib/python3.7/dist-packages (from jsonschema[format]>=2.5.1->bravado-core>=5.16.1->bravado->neptune-client==0.3.7) (5.4.0)\n",
      "Requirement already satisfied: attrs>=17.4.0 in /usr/local/lib/python3.7/dist-packages (from jsonschema[format]>=2.5.1->bravado-core>=5.16.1->bravado->neptune-client==0.3.7) (21.4.0)\n",
      "Collecting fqdn\n",
      "  Downloading fqdn-1.5.1-py3-none-any.whl (9.1 kB)\n",
      "Collecting jsonpointer>1.13\n",
      "  Downloading jsonpointer-2.2-py2.py3-none-any.whl (7.5 kB)\n",
      "Collecting uri-template\n",
      "  Downloading uri_template-1.1.0-py3-none-any.whl (10 kB)\n",
      "Collecting rfc3987\n",
      "  Downloading rfc3987-1.3.8-py2.py3-none-any.whl (13 kB)\n",
      "Collecting webcolors>=1.11\n",
      "  Downloading webcolors-1.11.1-py3-none-any.whl (9.9 kB)\n",
      "Collecting isoduration\n",
      "  Downloading isoduration-20.11.0-py3-none-any.whl (11 kB)\n",
      "Collecting rfc3339-validator\n",
      "  Downloading rfc3339_validator-0.1.4-py2.py3-none-any.whl (3.5 kB)\n",
      "Requirement already satisfied: zipp>=3.1.0 in /usr/local/lib/python3.7/dist-packages (from importlib-resources>=1.4.0->jsonschema[format]>=2.5.1->bravado-core>=5.16.1->bravado->neptune-client==0.3.7) (3.7.0)\n",
      "Requirement already satisfied: cached-property>=1.3.0 in /usr/local/lib/python3.7/dist-packages (from fqdn->jsonschema[format]>=2.5.1->bravado-core>=5.16.1->bravado->neptune-client==0.3.7) (1.5.2)\n",
      "Requirement already satisfied: ipython>=4.0.0 in /usr/local/lib/python3.7/dist-packages (from ipykernel->notebook>=4.3.0->neptune-notebooks==0.0.8) (5.5.0)\n",
      "Requirement already satisfied: pickleshare in /usr/local/lib/python3.7/dist-packages (from ipython>=4.0.0->ipykernel->notebook>=4.3.0->neptune-notebooks==0.0.8) (0.7.5)\n",
      "Requirement already satisfied: pexpect in /usr/local/lib/python3.7/dist-packages (from ipython>=4.0.0->ipykernel->notebook>=4.3.0->neptune-notebooks==0.0.8) (4.8.0)\n",
      "Requirement already satisfied: simplegeneric>0.8 in /usr/local/lib/python3.7/dist-packages (from ipython>=4.0.0->ipykernel->notebook>=4.3.0->neptune-notebooks==0.0.8) (0.8.1)\n",
      "Requirement already satisfied: pygments in /usr/local/lib/python3.7/dist-packages (from ipython>=4.0.0->ipykernel->notebook>=4.3.0->neptune-notebooks==0.0.8) (2.6.1)\n",
      "Requirement already satisfied: setuptools>=18.5 in /usr/local/lib/python3.7/dist-packages (from ipython>=4.0.0->ipykernel->notebook>=4.3.0->neptune-notebooks==0.0.8) (57.4.0)\n",
      "Requirement already satisfied: prompt-toolkit<2.0.0,>=1.0.4 in /usr/local/lib/python3.7/dist-packages (from ipython>=4.0.0->ipykernel->notebook>=4.3.0->neptune-notebooks==0.0.8) (1.0.18)\n",
      "Requirement already satisfied: decorator in /usr/local/lib/python3.7/dist-packages (from ipython>=4.0.0->ipykernel->notebook>=4.3.0->neptune-notebooks==0.0.8) (4.4.2)\n",
      "Requirement already satisfied: wcwidth in /usr/local/lib/python3.7/dist-packages (from prompt-toolkit<2.0.0,>=1.0.4->ipython>=4.0.0->ipykernel->notebook>=4.3.0->neptune-notebooks==0.0.8) (0.2.5)\n",
      "Collecting arrow>=0.15.0\n",
      "  Downloading arrow-1.2.2-py3-none-any.whl (64 kB)\n",
      "\u001B[K     |████████████████████████████████| 64 kB 2.6 MB/s \n",
      "\u001B[?25hRequirement already satisfied: MarkupSafe>=0.23 in /usr/local/lib/python3.7/dist-packages (from jinja2->notebook>=4.3.0->neptune-notebooks==0.0.8) (2.0.1)\n",
      "Requirement already satisfied: mistune<2,>=0.8.1 in /usr/local/lib/python3.7/dist-packages (from nbconvert->notebook>=4.3.0->neptune-notebooks==0.0.8) (0.8.4)\n",
      "Requirement already satisfied: bleach in /usr/local/lib/python3.7/dist-packages (from nbconvert->notebook>=4.3.0->neptune-notebooks==0.0.8) (4.1.0)\n",
      "Requirement already satisfied: pandocfilters>=1.4.1 in /usr/local/lib/python3.7/dist-packages (from nbconvert->notebook>=4.3.0->neptune-notebooks==0.0.8) (1.5.0)\n",
      "Requirement already satisfied: entrypoints>=0.2.2 in /usr/local/lib/python3.7/dist-packages (from nbconvert->notebook>=4.3.0->neptune-notebooks==0.0.8) (0.4)\n",
      "Requirement already satisfied: defusedxml in /usr/local/lib/python3.7/dist-packages (from nbconvert->notebook>=4.3.0->neptune-notebooks==0.0.8) (0.7.1)\n",
      "Requirement already satisfied: testpath in /usr/local/lib/python3.7/dist-packages (from nbconvert->notebook>=4.3.0->neptune-notebooks==0.0.8) (0.6.0)\n",
      "Requirement already satisfied: webencodings in /usr/local/lib/python3.7/dist-packages (from bleach->nbconvert->notebook>=4.3.0->neptune-notebooks==0.0.8) (0.5.1)\n",
      "Requirement already satisfied: packaging in /usr/local/lib/python3.7/dist-packages (from bleach->nbconvert->notebook>=4.3.0->neptune-notebooks==0.0.8) (21.3)\n",
      "Collecting path\n",
      "  Downloading path-16.4.0-py3-none-any.whl (26 kB)\n",
      "Building wheels for collected packages: seaborn, neptune-client, neptune-notebooks, neptune-contrib, attrdict, future, nodejs, optional-django\n",
      "  Building wheel for seaborn (setup.py) ... \u001B[?25l\u001B[?25hdone\n",
      "  Created wheel for seaborn: filename=seaborn-0.8.1-py3-none-any.whl size=184850 sha256=61ca6d722ba2268c542ad4f207f47dfc4942210b81af1ed3f4c6a29853a96a38\n",
      "  Stored in directory: /root/.cache/pip/wheels/5f/54/36/8bf02b21dbff2da8fcc84a6d11903cc5fc6cc42a13aa501233\n",
      "  Building wheel for neptune-client (setup.py) ... \u001B[?25l\u001B[?25hdone\n",
      "  Created wheel for neptune-client: filename=neptune_client-0.3.7-py2.py3-none-any.whl size=129036 sha256=20f0258882c8e9829b82a36f90dda717ce57b991aa2f0213bdca661b3479792e\n",
      "  Stored in directory: /root/.cache/pip/wheels/ba/3b/04/7bbea0c3ed261c429b4a44dd5384caa9811ef93c4fddb0605f\n",
      "  Building wheel for neptune-notebooks (setup.py) ... \u001B[?25lerror\n",
      "\u001B[31m  ERROR: Failed building wheel for neptune-notebooks\u001B[0m\n",
      "\u001B[?25h  Running setup.py clean for neptune-notebooks\n",
      "  Building wheel for neptune-contrib (setup.py) ... \u001B[?25l\u001B[?25hdone\n",
      "  Created wheel for neptune-contrib: filename=neptune_contrib-0.11.0-py3-none-any.whl size=36388 sha256=47fd64a121ed8ad9b31660a212611f5cb6a07cedd4b108db98e8dd3a62d75ccb\n",
      "  Stored in directory: /root/.cache/pip/wheels/26/b1/39/5d2991546bda61891d24ba877908ed804a6a6f0726ac48f490\n",
      "  Building wheel for attrdict (setup.py) ... \u001B[?25l\u001B[?25hdone\n",
      "  Created wheel for attrdict: filename=attrdict-2.0.0-py2.py3-none-any.whl size=9988 sha256=42d26a818491ab6c0722f4e8acfedf3157d0e879b3fe5b4bbc109f3480dcdd8d\n",
      "  Stored in directory: /root/.cache/pip/wheels/f1/3f/aa/a86a6834d6170b721305362887f175dedd9192d028a3ed9234\n",
      "  Building wheel for future (setup.py) ... \u001B[?25l\u001B[?25hdone\n",
      "  Created wheel for future: filename=future-0.18.2-py3-none-any.whl size=491070 sha256=9fe2dd0dda7e0e5aa854efe33b0849a5063356206bcc7cb85376c8ace9acf884\n",
      "  Stored in directory: /root/.cache/pip/wheels/56/b0/fe/4410d17b32f1f0c3cf54cdfb2bc04d7b4b8f4ae377e2229ba0\n",
      "  Building wheel for nodejs (setup.py) ... \u001B[?25l\u001B[?25hdone\n",
      "  Created wheel for nodejs: filename=nodejs-0.1.1-py3-none-any.whl size=3490 sha256=24dfc5f38fce49b974b691dc8f3118f2299365fa5d9f7288dada88f80e563a7f\n",
      "  Stored in directory: /root/.cache/pip/wheels/80/3a/93/83f57d8cf66261736b920c942905c46e75378805a7af9c5e8d\n",
      "  Building wheel for optional-django (setup.py) ... \u001B[?25l\u001B[?25hdone\n",
      "  Created wheel for optional-django: filename=optional_django-0.1.0-py3-none-any.whl size=9978 sha256=30a488377abf474b7b6d71214aaf566e7a88497f4112d2b9f966eff178f2db48\n",
      "  Stored in directory: /root/.cache/pip/wheels/1c/e9/a3/5e7d589f0ee51e0631361966ac9eb7f063d46f68669ced53b5\n",
      "Successfully built seaborn neptune-client neptune-contrib attrdict future nodejs optional-django\n",
      "Failed to build neptune-notebooks\n",
      "Installing collected packages: arrow, webcolors, uri-template, rfc3987, rfc3339-validator, jsonpointer, isoduration, fqdn, urllib3, swagger-spec-validator, smmap, simplejson, jsonref, monotonic, jmespath, gitdb, bravado-core, websocket-client, PyJWT, Pillow, GitPython, future, bravado, botocore, s3transfer, path, neptune-client, joblib, attrdict, path.py, optional-django, neptune-contrib, boto3, seaborn, scikit-plot, nodejs, neptune-notebooks\n",
      "  Attempting uninstall: urllib3\n",
      "    Found existing installation: urllib3 1.24.3\n",
      "    Uninstalling urllib3-1.24.3:\n",
      "      Successfully uninstalled urllib3-1.24.3\n",
      "  Attempting uninstall: Pillow\n",
      "    Found existing installation: Pillow 7.1.2\n",
      "    Uninstalling Pillow-7.1.2:\n",
      "      Successfully uninstalled Pillow-7.1.2\n",
      "  Attempting uninstall: future\n",
      "    Found existing installation: future 0.16.0\n",
      "    Uninstalling future-0.16.0:\n",
      "      Successfully uninstalled future-0.16.0\n",
      "  Attempting uninstall: joblib\n",
      "    Found existing installation: joblib 1.1.0\n",
      "    Uninstalling joblib-1.1.0:\n",
      "      Successfully uninstalled joblib-1.1.0\n",
      "  Attempting uninstall: seaborn\n",
      "    Found existing installation: seaborn 0.11.2\n",
      "    Uninstalling seaborn-0.11.2:\n",
      "      Successfully uninstalled seaborn-0.11.2\n",
      "    Running setup.py install for neptune-notebooks ... \u001B[?25l\u001B[?25hdone\n",
      "\u001B[33m  DEPRECATION: neptune-notebooks was installed using the legacy 'setup.py install' method, because a wheel could not be built for it. A possible replacement is to fix the wheel build issue reported above. You can find discussion regarding this at https://github.com/pypa/pip/issues/8368.\u001B[0m\n",
      "\u001B[31mERROR: pip's dependency resolver does not currently take into account all the packages that are installed. This behaviour is the source of the following dependency conflicts.\n",
      "librosa 0.8.1 requires joblib>=0.14, but you have joblib 0.13.0 which is incompatible.\n",
      "datascience 0.10.6 requires folium==0.2.1, but you have folium 0.8.3 which is incompatible.\n",
      "bokeh 2.3.3 requires pillow>=7.1.0, but you have pillow 5.4.1 which is incompatible.\n",
      "albumentations 0.1.12 requires imgaug<0.2.7,>=0.2.5, but you have imgaug 0.2.9 which is incompatible.\u001B[0m\n",
      "Successfully installed GitPython-3.1.27 Pillow-5.4.1 PyJWT-2.3.0 arrow-1.2.2 attrdict-2.0.0 boto3-1.21.18 botocore-1.24.18 bravado-11.0.3 bravado-core-5.17.0 fqdn-1.5.1 future-0.18.2 gitdb-4.0.9 isoduration-20.11.0 jmespath-0.10.0 joblib-0.13.0 jsonpointer-2.2 jsonref-0.2 monotonic-1.6 neptune-client-0.3.7 neptune-contrib-0.11.0 neptune-notebooks-0.0.8 nodejs-0.1.1 optional-django-0.1.0 path-16.4.0 path.py-12.5.0 rfc3339-validator-0.1.4 rfc3987-1.3.8 s3transfer-0.5.2 scikit-plot-0.3.7 seaborn-0.8.1 simplejson-3.17.6 smmap-5.0.0 swagger-spec-validator-2.7.4 uri-template-1.1.0 urllib3-1.25.11 webcolors-1.11.1 websocket-client-1.3.1\n"
     ]
    },
    {
     "output_type": "display_data",
     "data": {
      "application/vnd.colab-display-data+json": {
       "pip_warning": {
        "packages": [
         "PIL",
         "joblib",
         "seaborn"
        ]
       }
      }
     },
     "metadata": {}
    }
   ]
  },
  {
   "cell_type": "markdown",
   "metadata": {
    "id": "ZrNV7QIClOHZ",
    "pycharm": {
     "name": "#%% md\n"
    }
   },
   "source": [
    "## Utils.py"
   ]
  },
  {
   "cell_type": "code",
   "metadata": {
    "id": "cmOyyNOxkvhy",
    "executionInfo": {
     "status": "ok",
     "timestamp": 1647034394883,
     "user_tz": -540,
     "elapsed": 1048,
     "user": {
      "displayName": "Milandu Keith Moussavou Boussougou",
      "photoUrl": "https://lh3.googleusercontent.com/a-/AOh14GicOgg14dMz58gOrg69qKXXZuY5LIxdkzh1yMn5KNg=s64",
      "userId": "16125998280788005643"
     }
    },
    "pycharm": {
     "name": "#%%\n"
    }
   },
   "source": [
    "import matplotlib.pyplot as plt\n",
    "import neptune\n",
    "from neptunecontrib.monitoring.utils import send_figure\n",
    "import pandas as pd\n",
    "import scikitplot.metrics as plt_metrics\n",
    "from scikitplot.helpers import binary_ks_curve\n",
    "import seaborn as sns\n",
    "import sklearn.metrics as sk_metrics\n",
    "\n",
    "plt.rcParams.update({'font.size': 18})\n",
    "plt.rcParams.update({'figure.figsize': [16, 12]})\n",
    "\n",
    "\n",
    "def log_binary_classification_metrics(y_true, y_pred, threshold=0.5):\n",
    "    # Confusion Matrix\n",
    "    # fig, ax = plt.subplots()\n",
    "    # plot_confusion_matrix(y_true, y_pred[:, 1] > threshold, ax=ax)\n",
    "    # send_figure(fig, channel_name='metric_charts')\n",
    "    # plt.close()\n",
    "\n",
    "    # Plot classification report\n",
    "    # fig = plot_classification_report(y_true, y_pred[:, 1] > threshold)\n",
    "    # send_figure(fig, channel_name='metric_charts')\n",
    "    # plt.close()\n",
    "\n",
    "    scores = _class_metrics(y_true, y_pred[:, 1], threshold)\n",
    "    # for metric_name, score in scores.items():\n",
    "        # print('{} :{}'.format(metric_name, score))\n",
    "        # neptune.log_metric(metric_name, score)\n",
    "\n",
    "    # ROC AUC\n",
    "    roc_auc = sk_metrics.roc_auc_score(y_true, y_pred[:, 1])\n",
    "    # print('ROC AUC score {}'.format(roc_auc))\n",
    "    # neptune.log_metric('roc_auc', roc_auc)\n",
    "\n",
    "    fig, ax = plt.subplots()\n",
    "    plt_metrics.plot_roc(y_true, y_pred, ax=ax)\n",
    "    # send_figure(fig, channel_name='metric_charts')\n",
    "    plt.close()\n",
    "\n",
    "    # PR AUC\n",
    "    avg_precision = sk_metrics.average_precision_score(y_true, y_pred[:, 1])\n",
    "    # print('Average precision score {}'.format(avg_precision))\n",
    "    # neptune.log_metric('avg_precision', avg_precision)\n",
    "\n",
    "    fig, ax = plt.subplots()\n",
    "    plt_metrics.plot_precision_recall(y_true, y_pred, ax=ax)\n",
    "    # send_figure(fig, channel_name='metric_charts')\n",
    "    plt.close()\n",
    "\n",
    "    # Brier loss\n",
    "    brier = sk_metrics.brier_score_loss(y_true, y_pred[:, 1])\n",
    "    # print('Brier loss {}'.format(brier))\n",
    "    # neptune.log_metric('brier_loss', brier)\n",
    "\n",
    "    # Log loss\n",
    "    log_loss = sk_metrics.log_loss(y_true, y_pred)\n",
    "    # print('Log loss {}'.format(log_loss))\n",
    "    # neptune.log_metric('log_loss', log_loss)\n",
    "\n",
    "    # Kolmogorov Smirnow\n",
    "    res = binary_ks_curve(y_true, y_pred[:, 1])\n",
    "    ks_stat = res[3]\n",
    "    # print('KS stat {}'.format(ks_stat))\n",
    "    # neptune.log_metric('ks_statistic', ks_stat)\n",
    "\n",
    "    fig, ax = plt.subplots()\n",
    "    plt_metrics.plot_ks_statistic(y_true, y_pred, ax=ax)\n",
    "    # send_figure(fig, channel_name='metric_charts')\n",
    "    plt.close()\n",
    "\n",
    "    # Cumulative gain\n",
    "    fig, ax = plt.subplots()\n",
    "    plt_metrics.plot_cumulative_gain(y_true, y_pred, ax=ax)\n",
    "    # send_figure(fig, channel_name='metric_charts')\n",
    "    plt.close()\n",
    "\n",
    "    # Lift curve\n",
    "    fig, ax = plt.subplots()\n",
    "    plt_metrics.plot_lift_curve(y_true, y_pred, ax=ax)\n",
    "    # send_figure(fig, channel_name='metric_charts')\n",
    "    plt.close()\n",
    "\n",
    "    # Plots by threshold\n",
    "    figs = plot_metrics_per_threshold(y_true, y_pred[:, 1])\n",
    "\n",
    "    for fig in figs:\n",
    "        # send_figure(fig, channel_name='metrics_by_threshold')\n",
    "        plt.close()\n",
    "\n",
    "    return scores\n",
    "\n",
    "\n",
    "def plot_confusion_matrix(y_true, y_pred_class, ax=None):\n",
    "    cmap = plt.get_cmap('Blues')\n",
    "    cm = sk_metrics.confusion_matrix(y_true, y_pred_class)\n",
    "    sns.heatmap(cm, cmap=cmap, annot=True, fmt='g', ax=ax)\n",
    "\n",
    "\n",
    "def plot_metrics_per_threshold(y_true, y_pred_positive):\n",
    "    scores_by_thres = _class_metrics_by_threshold(y_true, y_pred_positive)\n",
    "    figs = []\n",
    "    for name in scores_by_thres.columns:\n",
    "        if name == 'threshold':\n",
    "            continue\n",
    "        else:\n",
    "            best_thres, best_score = _get_best_thres(scores_by_thres, name)\n",
    "            fig, ax = plt.subplots()\n",
    "            ax.plot(scores_by_thres['threshold'], scores_by_thres[name])\n",
    "            ax.set_title('{} by threshold'.format(name))\n",
    "            ax.axvline(x=best_thres, color='red')\n",
    "            ax.text(x=best_thres, y=0.96 * best_score,\n",
    "                    s='thres={:.4f}\\nscore={:.4f}'.format(best_thres, best_score),\n",
    "                    color='red')\n",
    "            figs.append(fig)\n",
    "    return figs\n",
    "\n",
    "\n",
    "def plot_classification_report(y_true, y_pred_class):\n",
    "    report = sk_metrics.classification_report(y_true, y_pred_class, output_dict=True)\n",
    "    report_df = pd.DataFrame(report).transpose().round(4)\n",
    "\n",
    "    fig, ax = plt.subplots()\n",
    "    ax.axis('off')\n",
    "    ax.axis('tight')\n",
    "    ax.table(cellText=report_df.values,\n",
    "             colLabels=report_df.columns,\n",
    "             rowLabels=report_df.index,\n",
    "             loc='center',\n",
    "             bbox=[0.2, 0.2, 0.8, 0.8])\n",
    "    fig.tight_layout()\n",
    "\n",
    "    return fig\n",
    "\n",
    "\n",
    "def _class_metrics(y_true, y_pred, threshold):\n",
    "    y_pred_class = y_pred > threshold\n",
    "\n",
    "    tn, fp, fn, tp = sk_metrics.confusion_matrix(y_true, y_pred_class).ravel()\n",
    "\n",
    "    true_positive_rate = tp / (tp + fn)\n",
    "    true_negative_rate = tn / (tn + fp)\n",
    "    positive_predictive_value = tp / (tp + fp)\n",
    "    negative_predictive_value = tn / (tn + fn)\n",
    "    false_positive_rate = fp / (fp + tn)\n",
    "    false_negative_rate = fn / (tp + fn)\n",
    "    false_discovery_rate = fp / (tp + fp)\n",
    "\n",
    "    scores = {'accuracy': sk_metrics.accuracy_score(y_true, y_pred_class),\n",
    "              'precision': sk_metrics.precision_score(y_true, y_pred_class),\n",
    "              'recall': sk_metrics.recall_score(y_true, y_pred_class),\n",
    "              'f1_score': sk_metrics.fbeta_score(y_true, y_pred_class, beta=1),\n",
    "              # 'f2_score': sk_metrics.fbeta_score(y_true, y_pred_class, beta=2),\n",
    "              # 'matthews_corrcoef': sk_metrics.matthews_corrcoef(y_true, y_pred_class),\n",
    "              # 'cohen_kappa': sk_metrics.cohen_kappa_score(y_true, y_pred_class),\n",
    "              # 'true_positive_rate': true_positive_rate,\n",
    "              # 'true_negative_rate': true_negative_rate,\n",
    "              # 'positive_predictive_value': positive_predictive_value,\n",
    "              # 'negative_predictive_value': negative_predictive_value,\n",
    "              # 'false_positive_rate': false_positive_rate,\n",
    "              # 'false_negative_rate': false_negative_rate,\n",
    "              # 'false_discovery_rate': false_discovery_rate,\n",
    "              }\n",
    "\n",
    "    return scores\n",
    "\n",
    "\n",
    "def _class_metrics_by_threshold(y_true, y_pred_positive, thres_nr=100):\n",
    "    thresholds = [i / thres_nr for i in range(1, thres_nr, 1)]\n",
    "\n",
    "    scores_per_thres = []\n",
    "    for thres in thresholds:\n",
    "        scores = _class_metrics(y_true, y_pred_positive, thres)\n",
    "        scores['threshold'] = thres\n",
    "        scores_per_thres.append(pd.Series(scores))\n",
    "\n",
    "    return pd.DataFrame(scores_per_thres)\n",
    "\n",
    "\n",
    "def _get_best_thres(scores_by_thres, name):\n",
    "    best_res = scores_by_thres[scores_by_thres[name] == scores_by_thres[name].max()][['threshold', name]]\n",
    "    position = len(best_res) // 2\n",
    "    result = best_res.iloc[position].to_dict()\n",
    "    return result['threshold'], result[name]\n"
   ],
   "execution_count": 41,
   "outputs": []
  },
  {
   "cell_type": "markdown",
   "metadata": {
    "id": "sTYzhWimlLAE",
    "pycharm": {
     "name": "#%% md\n"
    }
   },
   "source": [
    "## training 2"
   ]
  },
  {
   "cell_type": "code",
   "metadata": {
    "colab": {
     "base_uri": "https://localhost:8080/"
    },
    "id": "eM8lYXP2lG-W",
    "executionInfo": {
     "status": "ok",
     "timestamp": 1647034428535,
     "user_tz": -540,
     "elapsed": 33656,
     "user": {
      "displayName": "Milandu Keith Moussavou Boussougou",
      "photoUrl": "https://lh3.googleusercontent.com/a-/AOh14GicOgg14dMz58gOrg69qKXXZuY5LIxdkzh1yMn5KNg=s64",
      "userId": "16125998280788005643"
     }
    },
    "outputId": "effc2b06-2216-4f19-ccd9-3812285ac2fd",
    "pycharm": {
     "name": "#%%\n"
    }
   },
   "source": [
    "import lightgbm\n",
    "import neptune\n",
    "from neptunecontrib.monitoring.utils import pickle_and_send_artifact\n",
    "from neptunecontrib.versioning.data import log_data_version\n",
    "import pandas as pd\n",
    "\n",
    "# from utils import log_binary_classification_metrics\n",
    "\n",
    "from timeit import default_timer as timer\n",
    "\n",
    "start = timer()\n",
    "#Train each of our candidate models\n",
    "for m, n in zip(models, model_names):\n",
    "  if n in es_models:\n",
    "    start_time = time()\n",
    "    m.fit(X_train_sub,\n",
    "          y_train_sub,\n",
    "          # eval_set = [(X_valid, y_valid)],\n",
    "          eval_set =[(X_test, y_test)],\n",
    "          early_stopping_rounds=8,\n",
    "          verbose=0,\n",
    "          # eval_metric=\"logloss\"\n",
    "          )\n",
    "    run_time = time() - start_time\n",
    "\n",
    "  else:\n",
    "    start_time = time()\n",
    "    m.fit(X_train, y_train)\n",
    "    run_time = time() - start_time\n",
    "    \n",
    "  # Evaluate model\n",
    "  accuracy = np.mean(m.predict(X_test) == y_test)\n",
    "  y_test_pred = m.predict_proba(X_test)\n",
    "\n",
    "  print(n)\n",
    "  metric_scrores = log_binary_classification_metrics(y_test, y_test_pred)\n",
    "  # pickle_and_send_artifact((y_test, y_test_pred), 'test_predictions.pkl')\n",
    "  for metric_name, score in metric_scrores.items():\n",
    "    print('{} :{}'.format(metric_name, score))\n",
    "\n",
    "  df_results.loc[n] = [metric_scrores.get(\"f1_score\"),\n",
    "                       metric_scrores.get(\"precision\"), \n",
    "                       metric_scrores.get(\"recall\"), \n",
    "                       metric_scrores.get(\"accuracy\"),\n",
    "                       accuracy,\n",
    "                       run_time]    \n",
    "  print('-'*50)\n",
    "  del m\n",
    "    \n",
    "train_time = timer() - start\n",
    "print('The time is {:.4f} seconds'.format(train_time))"
   ],
   "execution_count": 42,
   "outputs": [
    {
     "output_type": "stream",
     "name": "stdout",
     "text": [
      "RandomForestClassifier\n",
      "accuracy :0.9836065573770492\n",
      "precision :1.0\n",
      "recall :0.963963963963964\n",
      "f1_score :0.9816513761467891\n",
      "--------------------------------------------------\n",
      "XGBClassifier\n"
     ]
    },
    {
     "output_type": "stream",
     "name": "stderr",
     "text": [
      "/usr/local/lib/python3.7/dist-packages/ipykernel_launcher.py:144: RuntimeWarning: invalid value encountered in long_scalars\n",
      "/usr/local/lib/python3.7/dist-packages/ipykernel_launcher.py:144: RuntimeWarning: invalid value encountered in long_scalars\n",
      "/usr/local/lib/python3.7/dist-packages/ipykernel_launcher.py:144: RuntimeWarning: invalid value encountered in long_scalars\n",
      "/usr/local/lib/python3.7/dist-packages/ipykernel_launcher.py:144: RuntimeWarning: invalid value encountered in long_scalars\n",
      "/usr/local/lib/python3.7/dist-packages/ipykernel_launcher.py:144: RuntimeWarning: invalid value encountered in long_scalars\n",
      "/usr/local/lib/python3.7/dist-packages/ipykernel_launcher.py:144: RuntimeWarning: invalid value encountered in long_scalars\n",
      "/usr/local/lib/python3.7/dist-packages/ipykernel_launcher.py:144: RuntimeWarning: invalid value encountered in long_scalars\n",
      "/usr/local/lib/python3.7/dist-packages/ipykernel_launcher.py:144: RuntimeWarning: invalid value encountered in long_scalars\n",
      "/usr/local/lib/python3.7/dist-packages/ipykernel_launcher.py:144: RuntimeWarning: invalid value encountered in long_scalars\n",
      "/usr/local/lib/python3.7/dist-packages/ipykernel_launcher.py:144: RuntimeWarning: invalid value encountered in long_scalars\n",
      "/usr/local/lib/python3.7/dist-packages/ipykernel_launcher.py:144: RuntimeWarning: invalid value encountered in long_scalars\n",
      "/usr/local/lib/python3.7/dist-packages/ipykernel_launcher.py:144: RuntimeWarning: invalid value encountered in long_scalars\n",
      "/usr/local/lib/python3.7/dist-packages/ipykernel_launcher.py:144: RuntimeWarning: invalid value encountered in long_scalars\n",
      "/usr/local/lib/python3.7/dist-packages/ipykernel_launcher.py:144: RuntimeWarning: invalid value encountered in long_scalars\n",
      "/usr/local/lib/python3.7/dist-packages/ipykernel_launcher.py:144: RuntimeWarning: invalid value encountered in long_scalars\n",
      "/usr/local/lib/python3.7/dist-packages/ipykernel_launcher.py:144: RuntimeWarning: invalid value encountered in long_scalars\n",
      "/usr/local/lib/python3.7/dist-packages/ipykernel_launcher.py:144: RuntimeWarning: invalid value encountered in long_scalars\n",
      "/usr/local/lib/python3.7/dist-packages/ipykernel_launcher.py:144: RuntimeWarning: invalid value encountered in long_scalars\n",
      "/usr/local/lib/python3.7/dist-packages/ipykernel_launcher.py:144: RuntimeWarning: invalid value encountered in long_scalars\n",
      "/usr/local/lib/python3.7/dist-packages/ipykernel_launcher.py:144: RuntimeWarning: invalid value encountered in long_scalars\n",
      "/usr/local/lib/python3.7/dist-packages/ipykernel_launcher.py:144: RuntimeWarning: invalid value encountered in long_scalars\n",
      "/usr/local/lib/python3.7/dist-packages/ipykernel_launcher.py:144: RuntimeWarning: invalid value encountered in long_scalars\n",
      "/usr/local/lib/python3.7/dist-packages/ipykernel_launcher.py:144: RuntimeWarning: invalid value encountered in long_scalars\n",
      "/usr/local/lib/python3.7/dist-packages/ipykernel_launcher.py:144: RuntimeWarning: invalid value encountered in long_scalars\n",
      "/usr/local/lib/python3.7/dist-packages/ipykernel_launcher.py:144: RuntimeWarning: invalid value encountered in long_scalars\n",
      "/usr/local/lib/python3.7/dist-packages/ipykernel_launcher.py:144: RuntimeWarning: invalid value encountered in long_scalars\n",
      "/usr/local/lib/python3.7/dist-packages/ipykernel_launcher.py:144: RuntimeWarning: invalid value encountered in long_scalars\n",
      "/usr/local/lib/python3.7/dist-packages/ipykernel_launcher.py:144: RuntimeWarning: invalid value encountered in long_scalars\n",
      "/usr/local/lib/python3.7/dist-packages/ipykernel_launcher.py:144: RuntimeWarning: invalid value encountered in long_scalars\n",
      "/usr/local/lib/python3.7/dist-packages/ipykernel_launcher.py:144: RuntimeWarning: invalid value encountered in long_scalars\n",
      "/usr/local/lib/python3.7/dist-packages/ipykernel_launcher.py:144: RuntimeWarning: invalid value encountered in long_scalars\n",
      "/usr/local/lib/python3.7/dist-packages/ipykernel_launcher.py:144: RuntimeWarning: invalid value encountered in long_scalars\n",
      "/usr/local/lib/python3.7/dist-packages/ipykernel_launcher.py:144: RuntimeWarning: invalid value encountered in long_scalars\n",
      "/usr/local/lib/python3.7/dist-packages/ipykernel_launcher.py:144: RuntimeWarning: invalid value encountered in long_scalars\n",
      "/usr/local/lib/python3.7/dist-packages/ipykernel_launcher.py:144: RuntimeWarning: invalid value encountered in long_scalars\n",
      "/usr/local/lib/python3.7/dist-packages/ipykernel_launcher.py:143: RuntimeWarning: invalid value encountered in long_scalars\n",
      "/usr/local/lib/python3.7/dist-packages/ipykernel_launcher.py:147: RuntimeWarning: invalid value encountered in long_scalars\n",
      "/usr/local/lib/python3.7/dist-packages/sklearn/metrics/_classification.py:1318: UndefinedMetricWarning: Precision is ill-defined and being set to 0.0 due to no predicted samples. Use `zero_division` parameter to control this behavior.\n",
      "  _warn_prf(average, modifier, msg_start, len(result))\n",
      "/usr/local/lib/python3.7/dist-packages/ipykernel_launcher.py:143: RuntimeWarning: invalid value encountered in long_scalars\n",
      "/usr/local/lib/python3.7/dist-packages/ipykernel_launcher.py:147: RuntimeWarning: invalid value encountered in long_scalars\n",
      "/usr/local/lib/python3.7/dist-packages/sklearn/metrics/_classification.py:1318: UndefinedMetricWarning: Precision is ill-defined and being set to 0.0 due to no predicted samples. Use `zero_division` parameter to control this behavior.\n",
      "  _warn_prf(average, modifier, msg_start, len(result))\n",
      "/usr/local/lib/python3.7/dist-packages/ipykernel_launcher.py:143: RuntimeWarning: invalid value encountered in long_scalars\n",
      "/usr/local/lib/python3.7/dist-packages/ipykernel_launcher.py:147: RuntimeWarning: invalid value encountered in long_scalars\n",
      "/usr/local/lib/python3.7/dist-packages/sklearn/metrics/_classification.py:1318: UndefinedMetricWarning: Precision is ill-defined and being set to 0.0 due to no predicted samples. Use `zero_division` parameter to control this behavior.\n",
      "  _warn_prf(average, modifier, msg_start, len(result))\n",
      "/usr/local/lib/python3.7/dist-packages/ipykernel_launcher.py:143: RuntimeWarning: invalid value encountered in long_scalars\n",
      "/usr/local/lib/python3.7/dist-packages/ipykernel_launcher.py:147: RuntimeWarning: invalid value encountered in long_scalars\n",
      "/usr/local/lib/python3.7/dist-packages/sklearn/metrics/_classification.py:1318: UndefinedMetricWarning: Precision is ill-defined and being set to 0.0 due to no predicted samples. Use `zero_division` parameter to control this behavior.\n",
      "  _warn_prf(average, modifier, msg_start, len(result))\n",
      "/usr/local/lib/python3.7/dist-packages/ipykernel_launcher.py:143: RuntimeWarning: invalid value encountered in long_scalars\n",
      "/usr/local/lib/python3.7/dist-packages/ipykernel_launcher.py:147: RuntimeWarning: invalid value encountered in long_scalars\n",
      "/usr/local/lib/python3.7/dist-packages/sklearn/metrics/_classification.py:1318: UndefinedMetricWarning: Precision is ill-defined and being set to 0.0 due to no predicted samples. Use `zero_division` parameter to control this behavior.\n",
      "  _warn_prf(average, modifier, msg_start, len(result))\n",
      "/usr/local/lib/python3.7/dist-packages/ipykernel_launcher.py:143: RuntimeWarning: invalid value encountered in long_scalars\n",
      "/usr/local/lib/python3.7/dist-packages/ipykernel_launcher.py:147: RuntimeWarning: invalid value encountered in long_scalars\n",
      "/usr/local/lib/python3.7/dist-packages/sklearn/metrics/_classification.py:1318: UndefinedMetricWarning: Precision is ill-defined and being set to 0.0 due to no predicted samples. Use `zero_division` parameter to control this behavior.\n",
      "  _warn_prf(average, modifier, msg_start, len(result))\n",
      "/usr/local/lib/python3.7/dist-packages/ipykernel_launcher.py:143: RuntimeWarning: invalid value encountered in long_scalars\n",
      "/usr/local/lib/python3.7/dist-packages/ipykernel_launcher.py:147: RuntimeWarning: invalid value encountered in long_scalars\n",
      "/usr/local/lib/python3.7/dist-packages/sklearn/metrics/_classification.py:1318: UndefinedMetricWarning: Precision is ill-defined and being set to 0.0 due to no predicted samples. Use `zero_division` parameter to control this behavior.\n",
      "  _warn_prf(average, modifier, msg_start, len(result))\n",
      "/usr/local/lib/python3.7/dist-packages/ipykernel_launcher.py:143: RuntimeWarning: invalid value encountered in long_scalars\n",
      "/usr/local/lib/python3.7/dist-packages/ipykernel_launcher.py:147: RuntimeWarning: invalid value encountered in long_scalars\n",
      "/usr/local/lib/python3.7/dist-packages/sklearn/metrics/_classification.py:1318: UndefinedMetricWarning: Precision is ill-defined and being set to 0.0 due to no predicted samples. Use `zero_division` parameter to control this behavior.\n",
      "  _warn_prf(average, modifier, msg_start, len(result))\n",
      "/usr/local/lib/python3.7/dist-packages/ipykernel_launcher.py:143: RuntimeWarning: invalid value encountered in long_scalars\n",
      "/usr/local/lib/python3.7/dist-packages/ipykernel_launcher.py:147: RuntimeWarning: invalid value encountered in long_scalars\n",
      "/usr/local/lib/python3.7/dist-packages/sklearn/metrics/_classification.py:1318: UndefinedMetricWarning: Precision is ill-defined and being set to 0.0 due to no predicted samples. Use `zero_division` parameter to control this behavior.\n",
      "  _warn_prf(average, modifier, msg_start, len(result))\n",
      "/usr/local/lib/python3.7/dist-packages/ipykernel_launcher.py:143: RuntimeWarning: invalid value encountered in long_scalars\n",
      "/usr/local/lib/python3.7/dist-packages/ipykernel_launcher.py:147: RuntimeWarning: invalid value encountered in long_scalars\n",
      "/usr/local/lib/python3.7/dist-packages/sklearn/metrics/_classification.py:1318: UndefinedMetricWarning: Precision is ill-defined and being set to 0.0 due to no predicted samples. Use `zero_division` parameter to control this behavior.\n",
      "  _warn_prf(average, modifier, msg_start, len(result))\n",
      "/usr/local/lib/python3.7/dist-packages/ipykernel_launcher.py:143: RuntimeWarning: invalid value encountered in long_scalars\n",
      "/usr/local/lib/python3.7/dist-packages/ipykernel_launcher.py:147: RuntimeWarning: invalid value encountered in long_scalars\n",
      "/usr/local/lib/python3.7/dist-packages/sklearn/metrics/_classification.py:1318: UndefinedMetricWarning: Precision is ill-defined and being set to 0.0 due to no predicted samples. Use `zero_division` parameter to control this behavior.\n",
      "  _warn_prf(average, modifier, msg_start, len(result))\n",
      "/usr/local/lib/python3.7/dist-packages/ipykernel_launcher.py:143: RuntimeWarning: invalid value encountered in long_scalars\n",
      "/usr/local/lib/python3.7/dist-packages/ipykernel_launcher.py:147: RuntimeWarning: invalid value encountered in long_scalars\n",
      "/usr/local/lib/python3.7/dist-packages/sklearn/metrics/_classification.py:1318: UndefinedMetricWarning: Precision is ill-defined and being set to 0.0 due to no predicted samples. Use `zero_division` parameter to control this behavior.\n",
      "  _warn_prf(average, modifier, msg_start, len(result))\n",
      "/usr/local/lib/python3.7/dist-packages/ipykernel_launcher.py:143: RuntimeWarning: invalid value encountered in long_scalars\n",
      "/usr/local/lib/python3.7/dist-packages/ipykernel_launcher.py:147: RuntimeWarning: invalid value encountered in long_scalars\n",
      "/usr/local/lib/python3.7/dist-packages/sklearn/metrics/_classification.py:1318: UndefinedMetricWarning: Precision is ill-defined and being set to 0.0 due to no predicted samples. Use `zero_division` parameter to control this behavior.\n",
      "  _warn_prf(average, modifier, msg_start, len(result))\n",
      "/usr/local/lib/python3.7/dist-packages/ipykernel_launcher.py:143: RuntimeWarning: invalid value encountered in long_scalars\n",
      "/usr/local/lib/python3.7/dist-packages/ipykernel_launcher.py:147: RuntimeWarning: invalid value encountered in long_scalars\n",
      "/usr/local/lib/python3.7/dist-packages/sklearn/metrics/_classification.py:1318: UndefinedMetricWarning: Precision is ill-defined and being set to 0.0 due to no predicted samples. Use `zero_division` parameter to control this behavior.\n",
      "  _warn_prf(average, modifier, msg_start, len(result))\n",
      "/usr/local/lib/python3.7/dist-packages/ipykernel_launcher.py:143: RuntimeWarning: invalid value encountered in long_scalars\n",
      "/usr/local/lib/python3.7/dist-packages/ipykernel_launcher.py:147: RuntimeWarning: invalid value encountered in long_scalars\n",
      "/usr/local/lib/python3.7/dist-packages/sklearn/metrics/_classification.py:1318: UndefinedMetricWarning: Precision is ill-defined and being set to 0.0 due to no predicted samples. Use `zero_division` parameter to control this behavior.\n",
      "  _warn_prf(average, modifier, msg_start, len(result))\n",
      "/usr/local/lib/python3.7/dist-packages/ipykernel_launcher.py:143: RuntimeWarning: invalid value encountered in long_scalars\n",
      "/usr/local/lib/python3.7/dist-packages/ipykernel_launcher.py:147: RuntimeWarning: invalid value encountered in long_scalars\n",
      "/usr/local/lib/python3.7/dist-packages/sklearn/metrics/_classification.py:1318: UndefinedMetricWarning: Precision is ill-defined and being set to 0.0 due to no predicted samples. Use `zero_division` parameter to control this behavior.\n",
      "  _warn_prf(average, modifier, msg_start, len(result))\n",
      "/usr/local/lib/python3.7/dist-packages/ipykernel_launcher.py:143: RuntimeWarning: invalid value encountered in long_scalars\n",
      "/usr/local/lib/python3.7/dist-packages/ipykernel_launcher.py:147: RuntimeWarning: invalid value encountered in long_scalars\n",
      "/usr/local/lib/python3.7/dist-packages/sklearn/metrics/_classification.py:1318: UndefinedMetricWarning: Precision is ill-defined and being set to 0.0 due to no predicted samples. Use `zero_division` parameter to control this behavior.\n",
      "  _warn_prf(average, modifier, msg_start, len(result))\n",
      "/usr/local/lib/python3.7/dist-packages/ipykernel_launcher.py:143: RuntimeWarning: invalid value encountered in long_scalars\n",
      "/usr/local/lib/python3.7/dist-packages/ipykernel_launcher.py:147: RuntimeWarning: invalid value encountered in long_scalars\n",
      "/usr/local/lib/python3.7/dist-packages/sklearn/metrics/_classification.py:1318: UndefinedMetricWarning: Precision is ill-defined and being set to 0.0 due to no predicted samples. Use `zero_division` parameter to control this behavior.\n",
      "  _warn_prf(average, modifier, msg_start, len(result))\n",
      "/usr/local/lib/python3.7/dist-packages/ipykernel_launcher.py:143: RuntimeWarning: invalid value encountered in long_scalars\n",
      "/usr/local/lib/python3.7/dist-packages/ipykernel_launcher.py:147: RuntimeWarning: invalid value encountered in long_scalars\n",
      "/usr/local/lib/python3.7/dist-packages/sklearn/metrics/_classification.py:1318: UndefinedMetricWarning: Precision is ill-defined and being set to 0.0 due to no predicted samples. Use `zero_division` parameter to control this behavior.\n",
      "  _warn_prf(average, modifier, msg_start, len(result))\n",
      "/usr/local/lib/python3.7/dist-packages/ipykernel_launcher.py:143: RuntimeWarning: invalid value encountered in long_scalars\n",
      "/usr/local/lib/python3.7/dist-packages/ipykernel_launcher.py:147: RuntimeWarning: invalid value encountered in long_scalars\n",
      "/usr/local/lib/python3.7/dist-packages/sklearn/metrics/_classification.py:1318: UndefinedMetricWarning: Precision is ill-defined and being set to 0.0 due to no predicted samples. Use `zero_division` parameter to control this behavior.\n",
      "  _warn_prf(average, modifier, msg_start, len(result))\n",
      "/usr/local/lib/python3.7/dist-packages/ipykernel_launcher.py:143: RuntimeWarning: invalid value encountered in long_scalars\n",
      "/usr/local/lib/python3.7/dist-packages/ipykernel_launcher.py:147: RuntimeWarning: invalid value encountered in long_scalars\n",
      "/usr/local/lib/python3.7/dist-packages/sklearn/metrics/_classification.py:1318: UndefinedMetricWarning: Precision is ill-defined and being set to 0.0 due to no predicted samples. Use `zero_division` parameter to control this behavior.\n",
      "  _warn_prf(average, modifier, msg_start, len(result))\n",
      "/usr/local/lib/python3.7/dist-packages/ipykernel_launcher.py:143: RuntimeWarning: invalid value encountered in long_scalars\n",
      "/usr/local/lib/python3.7/dist-packages/ipykernel_launcher.py:147: RuntimeWarning: invalid value encountered in long_scalars\n",
      "/usr/local/lib/python3.7/dist-packages/sklearn/metrics/_classification.py:1318: UndefinedMetricWarning: Precision is ill-defined and being set to 0.0 due to no predicted samples. Use `zero_division` parameter to control this behavior.\n",
      "  _warn_prf(average, modifier, msg_start, len(result))\n",
      "/usr/local/lib/python3.7/dist-packages/ipykernel_launcher.py:143: RuntimeWarning: invalid value encountered in long_scalars\n",
      "/usr/local/lib/python3.7/dist-packages/ipykernel_launcher.py:147: RuntimeWarning: invalid value encountered in long_scalars\n",
      "/usr/local/lib/python3.7/dist-packages/sklearn/metrics/_classification.py:1318: UndefinedMetricWarning: Precision is ill-defined and being set to 0.0 due to no predicted samples. Use `zero_division` parameter to control this behavior.\n",
      "  _warn_prf(average, modifier, msg_start, len(result))\n",
      "/usr/local/lib/python3.7/dist-packages/ipykernel_launcher.py:143: RuntimeWarning: invalid value encountered in long_scalars\n",
      "/usr/local/lib/python3.7/dist-packages/ipykernel_launcher.py:147: RuntimeWarning: invalid value encountered in long_scalars\n",
      "/usr/local/lib/python3.7/dist-packages/sklearn/metrics/_classification.py:1318: UndefinedMetricWarning: Precision is ill-defined and being set to 0.0 due to no predicted samples. Use `zero_division` parameter to control this behavior.\n",
      "  _warn_prf(average, modifier, msg_start, len(result))\n",
      "/usr/local/lib/python3.7/dist-packages/ipykernel_launcher.py:143: RuntimeWarning: invalid value encountered in long_scalars\n",
      "/usr/local/lib/python3.7/dist-packages/ipykernel_launcher.py:147: RuntimeWarning: invalid value encountered in long_scalars\n",
      "/usr/local/lib/python3.7/dist-packages/sklearn/metrics/_classification.py:1318: UndefinedMetricWarning: Precision is ill-defined and being set to 0.0 due to no predicted samples. Use `zero_division` parameter to control this behavior.\n",
      "  _warn_prf(average, modifier, msg_start, len(result))\n",
      "/usr/local/lib/python3.7/dist-packages/ipykernel_launcher.py:143: RuntimeWarning: invalid value encountered in long_scalars\n",
      "/usr/local/lib/python3.7/dist-packages/ipykernel_launcher.py:147: RuntimeWarning: invalid value encountered in long_scalars\n",
      "/usr/local/lib/python3.7/dist-packages/sklearn/metrics/_classification.py:1318: UndefinedMetricWarning: Precision is ill-defined and being set to 0.0 due to no predicted samples. Use `zero_division` parameter to control this behavior.\n",
      "  _warn_prf(average, modifier, msg_start, len(result))\n",
      "/usr/local/lib/python3.7/dist-packages/ipykernel_launcher.py:143: RuntimeWarning: invalid value encountered in long_scalars\n",
      "/usr/local/lib/python3.7/dist-packages/ipykernel_launcher.py:147: RuntimeWarning: invalid value encountered in long_scalars\n",
      "/usr/local/lib/python3.7/dist-packages/sklearn/metrics/_classification.py:1318: UndefinedMetricWarning: Precision is ill-defined and being set to 0.0 due to no predicted samples. Use `zero_division` parameter to control this behavior.\n",
      "  _warn_prf(average, modifier, msg_start, len(result))\n",
      "/usr/local/lib/python3.7/dist-packages/ipykernel_launcher.py:143: RuntimeWarning: invalid value encountered in long_scalars\n",
      "/usr/local/lib/python3.7/dist-packages/ipykernel_launcher.py:147: RuntimeWarning: invalid value encountered in long_scalars\n",
      "/usr/local/lib/python3.7/dist-packages/sklearn/metrics/_classification.py:1318: UndefinedMetricWarning: Precision is ill-defined and being set to 0.0 due to no predicted samples. Use `zero_division` parameter to control this behavior.\n",
      "  _warn_prf(average, modifier, msg_start, len(result))\n",
      "/usr/local/lib/python3.7/dist-packages/ipykernel_launcher.py:143: RuntimeWarning: invalid value encountered in long_scalars\n",
      "/usr/local/lib/python3.7/dist-packages/ipykernel_launcher.py:147: RuntimeWarning: invalid value encountered in long_scalars\n",
      "/usr/local/lib/python3.7/dist-packages/sklearn/metrics/_classification.py:1318: UndefinedMetricWarning: Precision is ill-defined and being set to 0.0 due to no predicted samples. Use `zero_division` parameter to control this behavior.\n",
      "  _warn_prf(average, modifier, msg_start, len(result))\n",
      "/usr/local/lib/python3.7/dist-packages/ipykernel_launcher.py:143: RuntimeWarning: invalid value encountered in long_scalars\n",
      "/usr/local/lib/python3.7/dist-packages/ipykernel_launcher.py:147: RuntimeWarning: invalid value encountered in long_scalars\n",
      "/usr/local/lib/python3.7/dist-packages/sklearn/metrics/_classification.py:1318: UndefinedMetricWarning: Precision is ill-defined and being set to 0.0 due to no predicted samples. Use `zero_division` parameter to control this behavior.\n",
      "  _warn_prf(average, modifier, msg_start, len(result))\n",
      "/usr/local/lib/python3.7/dist-packages/ipykernel_launcher.py:143: RuntimeWarning: invalid value encountered in long_scalars\n",
      "/usr/local/lib/python3.7/dist-packages/ipykernel_launcher.py:147: RuntimeWarning: invalid value encountered in long_scalars\n",
      "/usr/local/lib/python3.7/dist-packages/sklearn/metrics/_classification.py:1318: UndefinedMetricWarning: Precision is ill-defined and being set to 0.0 due to no predicted samples. Use `zero_division` parameter to control this behavior.\n",
      "  _warn_prf(average, modifier, msg_start, len(result))\n",
      "/usr/local/lib/python3.7/dist-packages/ipykernel_launcher.py:143: RuntimeWarning: invalid value encountered in long_scalars\n",
      "/usr/local/lib/python3.7/dist-packages/ipykernel_launcher.py:147: RuntimeWarning: invalid value encountered in long_scalars\n",
      "/usr/local/lib/python3.7/dist-packages/sklearn/metrics/_classification.py:1318: UndefinedMetricWarning: Precision is ill-defined and being set to 0.0 due to no predicted samples. Use `zero_division` parameter to control this behavior.\n",
      "  _warn_prf(average, modifier, msg_start, len(result))\n",
      "/usr/local/lib/python3.7/dist-packages/ipykernel_launcher.py:143: RuntimeWarning: invalid value encountered in long_scalars\n",
      "/usr/local/lib/python3.7/dist-packages/ipykernel_launcher.py:147: RuntimeWarning: invalid value encountered in long_scalars\n",
      "/usr/local/lib/python3.7/dist-packages/sklearn/metrics/_classification.py:1318: UndefinedMetricWarning: Precision is ill-defined and being set to 0.0 due to no predicted samples. Use `zero_division` parameter to control this behavior.\n",
      "  _warn_prf(average, modifier, msg_start, len(result))\n"
     ]
    },
    {
     "output_type": "stream",
     "name": "stdout",
     "text": [
      "accuracy :0.9508196721311475\n",
      "precision :0.9900990099009901\n",
      "recall :0.9009009009009009\n",
      "f1_score :0.9433962264150942\n",
      "--------------------------------------------------\n",
      "LGBMClassifier\n",
      "accuracy :0.9918032786885246\n",
      "precision :1.0\n",
      "recall :0.9819819819819819\n",
      "f1_score :0.9909090909090909\n",
      "--------------------------------------------------\n",
      "CatBoostClassifier\n",
      "accuracy :0.9713114754098361\n",
      "precision :1.0\n",
      "recall :0.9369369369369369\n",
      "f1_score :0.9674418604651163\n",
      "--------------------------------------------------\n",
      "The time is 33.4272 seconds\n"
     ]
    }
   ]
  },
  {
   "cell_type": "code",
   "metadata": {
    "colab": {
     "base_uri": "https://localhost:8080/"
    },
    "id": "9loukNovuVyC",
    "executionInfo": {
     "status": "ok",
     "timestamp": 1647034432698,
     "user_tz": -540,
     "elapsed": 4181,
     "user": {
      "displayName": "Milandu Keith Moussavou Boussougou",
      "photoUrl": "https://lh3.googleusercontent.com/a-/AOh14GicOgg14dMz58gOrg69qKXXZuY5LIxdkzh1yMn5KNg=s64",
      "userId": "16125998280788005643"
     }
    },
    "outputId": "139d9d42-72aa-42b9-cfbb-ff531e56de7f",
    "pycharm": {
     "name": "#%%\n"
    }
   },
   "source": [
    "## Testing LinearSVC\n",
    "start = timer()\n",
    "from sklearn.svm import LinearSVC\n",
    "from sklearn.pipeline import make_pipeline\n",
    "from sklearn.preprocessing import StandardScaler\n",
    "from sklearn.svm import SVC\n",
    "\n",
    "# svc = make_pipeline(StandardScaler(),\n",
    "#                     LinearSVC(probability=True, random_state=0, tol=1e-5))\n",
    "# svc = LinearSVC()\n",
    "svc = SVC(kernel='linear', probability=True)\n",
    "\n",
    "start_time = time()\n",
    "svc.fit(X_train, y_train)\n",
    "run_time = time() - start_time\n",
    "\n",
    "preds = svc.predict(X_test)\n",
    "y_test_pred = svc.predict_proba(X_test)\n",
    "accuracy = np.mean(preds == y_test)\n",
    "\n",
    "\n",
    "# df_results.loc['LinearSVC'] = [score, run_time]\n",
    "\n",
    "print(\"LinearSVC\")\n",
    "metric_scrores = log_binary_classification_metrics(y_test, y_test_pred)\n",
    "# pickle_and_send_artifact((y_test, y_test_pred), 'test_predictions.pkl')\n",
    "# for metric_name, score in metric_scrores.items():\n",
    "  # print('{} :{}'.format(metric_name, score))\n",
    "\n",
    "df_results.loc['LinearSVC'] = [metric_scrores.get(\"f1_score\"),\n",
    "                                metric_scrores.get(\"precision\"), \n",
    "                                metric_scrores.get(\"recall\"), \n",
    "                                metric_scrores.get(\"accuracy\"),\n",
    "                                accuracy,\n",
    "                                run_time]      \n",
    "print('-'*50)\n",
    "del svc\n",
    "\n",
    "train_time = timer() - start\n",
    "print('The time is {:.4f} seconds'.format(train_time))"
   ],
   "execution_count": 43,
   "outputs": [
    {
     "output_type": "stream",
     "name": "stdout",
     "text": [
      "LinearSVC\n",
      "--------------------------------------------------\n",
      "The time is 4.1825 seconds\n"
     ]
    }
   ]
  },
  {
   "cell_type": "markdown",
   "metadata": {
    "id": "uSqhN0Gk4qyU",
    "pycharm": {
     "name": "#%% md\n"
    }
   },
   "source": [
    "# Training results"
   ]
  },
  {
   "cell_type": "code",
   "metadata": {
    "colab": {
     "base_uri": "https://localhost:8080/",
     "height": 206
    },
    "id": "cMDdxSmougoq",
    "executionInfo": {
     "status": "ok",
     "timestamp": 1647034432699,
     "user_tz": -540,
     "elapsed": 22,
     "user": {
      "displayName": "Milandu Keith Moussavou Boussougou",
      "photoUrl": "https://lh3.googleusercontent.com/a-/AOh14GicOgg14dMz58gOrg69qKXXZuY5LIxdkzh1yMn5KNg=s64",
      "userId": "16125998280788005643"
     }
    },
    "outputId": "e25096fc-c86d-4bb1-84a7-f3ce2828e0c7",
    "pycharm": {
     "name": "#%%\n"
    }
   },
   "source": [
    "df_results"
   ],
   "execution_count": 44,
   "outputs": [
    {
     "output_type": "execute_result",
     "data": {
      "text/plain": [
       "                        F1_score  Precision    Recall  Accuracy  Accuracy1  \\\n",
       "RandomForestClassifier  0.981651   1.000000  0.963964  0.983607   0.983607   \n",
       "XGBClassifier           0.943396   0.990099  0.900901  0.950820   0.950820   \n",
       "LGBMClassifier          0.990909   1.000000  0.981982  0.991803   0.991803   \n",
       "CatBoostClassifier      0.967442   1.000000  0.936937  0.971311   0.971311   \n",
       "LinearSVC               1.000000   1.000000  1.000000  1.000000   0.995902   \n",
       "\n",
       "                        Training time  \n",
       "RandomForestClassifier       4.012525  \n",
       "XGBClassifier                1.098843  \n",
       "LGBMClassifier               2.062703  \n",
       "CatBoostClassifier          17.496662  \n",
       "LinearSVC                    2.290415  "
      ],
      "text/html": [
       "\n",
       "  <div id=\"df-5bdbf9dc-081c-4739-bff9-0b8a78bdd56a\">\n",
       "    <div class=\"colab-df-container\">\n",
       "      <div>\n",
       "<style scoped>\n",
       "    .dataframe tbody tr th:only-of-type {\n",
       "        vertical-align: middle;\n",
       "    }\n",
       "\n",
       "    .dataframe tbody tr th {\n",
       "        vertical-align: top;\n",
       "    }\n",
       "\n",
       "    .dataframe thead th {\n",
       "        text-align: right;\n",
       "    }\n",
       "</style>\n",
       "<table border=\"1\" class=\"dataframe\">\n",
       "  <thead>\n",
       "    <tr style=\"text-align: right;\">\n",
       "      <th></th>\n",
       "      <th>F1_score</th>\n",
       "      <th>Precision</th>\n",
       "      <th>Recall</th>\n",
       "      <th>Accuracy</th>\n",
       "      <th>Accuracy1</th>\n",
       "      <th>Training time</th>\n",
       "    </tr>\n",
       "  </thead>\n",
       "  <tbody>\n",
       "    <tr>\n",
       "      <th>RandomForestClassifier</th>\n",
       "      <td>0.981651</td>\n",
       "      <td>1.000000</td>\n",
       "      <td>0.963964</td>\n",
       "      <td>0.983607</td>\n",
       "      <td>0.983607</td>\n",
       "      <td>4.012525</td>\n",
       "    </tr>\n",
       "    <tr>\n",
       "      <th>XGBClassifier</th>\n",
       "      <td>0.943396</td>\n",
       "      <td>0.990099</td>\n",
       "      <td>0.900901</td>\n",
       "      <td>0.950820</td>\n",
       "      <td>0.950820</td>\n",
       "      <td>1.098843</td>\n",
       "    </tr>\n",
       "    <tr>\n",
       "      <th>LGBMClassifier</th>\n",
       "      <td>0.990909</td>\n",
       "      <td>1.000000</td>\n",
       "      <td>0.981982</td>\n",
       "      <td>0.991803</td>\n",
       "      <td>0.991803</td>\n",
       "      <td>2.062703</td>\n",
       "    </tr>\n",
       "    <tr>\n",
       "      <th>CatBoostClassifier</th>\n",
       "      <td>0.967442</td>\n",
       "      <td>1.000000</td>\n",
       "      <td>0.936937</td>\n",
       "      <td>0.971311</td>\n",
       "      <td>0.971311</td>\n",
       "      <td>17.496662</td>\n",
       "    </tr>\n",
       "    <tr>\n",
       "      <th>LinearSVC</th>\n",
       "      <td>1.000000</td>\n",
       "      <td>1.000000</td>\n",
       "      <td>1.000000</td>\n",
       "      <td>1.000000</td>\n",
       "      <td>0.995902</td>\n",
       "      <td>2.290415</td>\n",
       "    </tr>\n",
       "  </tbody>\n",
       "</table>\n",
       "</div>\n",
       "      <button class=\"colab-df-convert\" onclick=\"convertToInteractive('df-5bdbf9dc-081c-4739-bff9-0b8a78bdd56a')\"\n",
       "              title=\"Convert this dataframe to an interactive table.\"\n",
       "              style=\"display:none;\">\n",
       "        \n",
       "  <svg xmlns=\"http://www.w3.org/2000/svg\" height=\"24px\"viewBox=\"0 0 24 24\"\n",
       "       width=\"24px\">\n",
       "    <path d=\"M0 0h24v24H0V0z\" fill=\"none\"/>\n",
       "    <path d=\"M18.56 5.44l.94 2.06.94-2.06 2.06-.94-2.06-.94-.94-2.06-.94 2.06-2.06.94zm-11 1L8.5 8.5l.94-2.06 2.06-.94-2.06-.94L8.5 2.5l-.94 2.06-2.06.94zm10 10l.94 2.06.94-2.06 2.06-.94-2.06-.94-.94-2.06-.94 2.06-2.06.94z\"/><path d=\"M17.41 7.96l-1.37-1.37c-.4-.4-.92-.59-1.43-.59-.52 0-1.04.2-1.43.59L10.3 9.45l-7.72 7.72c-.78.78-.78 2.05 0 2.83L4 21.41c.39.39.9.59 1.41.59.51 0 1.02-.2 1.41-.59l7.78-7.78 2.81-2.81c.8-.78.8-2.07 0-2.86zM5.41 20L4 18.59l7.72-7.72 1.47 1.35L5.41 20z\"/>\n",
       "  </svg>\n",
       "      </button>\n",
       "      \n",
       "  <style>\n",
       "    .colab-df-container {\n",
       "      display:flex;\n",
       "      flex-wrap:wrap;\n",
       "      gap: 12px;\n",
       "    }\n",
       "\n",
       "    .colab-df-convert {\n",
       "      background-color: #E8F0FE;\n",
       "      border: none;\n",
       "      border-radius: 50%;\n",
       "      cursor: pointer;\n",
       "      display: none;\n",
       "      fill: #1967D2;\n",
       "      height: 32px;\n",
       "      padding: 0 0 0 0;\n",
       "      width: 32px;\n",
       "    }\n",
       "\n",
       "    .colab-df-convert:hover {\n",
       "      background-color: #E2EBFA;\n",
       "      box-shadow: 0px 1px 2px rgba(60, 64, 67, 0.3), 0px 1px 3px 1px rgba(60, 64, 67, 0.15);\n",
       "      fill: #174EA6;\n",
       "    }\n",
       "\n",
       "    [theme=dark] .colab-df-convert {\n",
       "      background-color: #3B4455;\n",
       "      fill: #D2E3FC;\n",
       "    }\n",
       "\n",
       "    [theme=dark] .colab-df-convert:hover {\n",
       "      background-color: #434B5C;\n",
       "      box-shadow: 0px 1px 3px 1px rgba(0, 0, 0, 0.15);\n",
       "      filter: drop-shadow(0px 1px 2px rgba(0, 0, 0, 0.3));\n",
       "      fill: #FFFFFF;\n",
       "    }\n",
       "  </style>\n",
       "\n",
       "      <script>\n",
       "        const buttonEl =\n",
       "          document.querySelector('#df-5bdbf9dc-081c-4739-bff9-0b8a78bdd56a button.colab-df-convert');\n",
       "        buttonEl.style.display =\n",
       "          google.colab.kernel.accessAllowed ? 'block' : 'none';\n",
       "\n",
       "        async function convertToInteractive(key) {\n",
       "          const element = document.querySelector('#df-5bdbf9dc-081c-4739-bff9-0b8a78bdd56a');\n",
       "          const dataTable =\n",
       "            await google.colab.kernel.invokeFunction('convertToInteractive',\n",
       "                                                     [key], {});\n",
       "          if (!dataTable) return;\n",
       "\n",
       "          const docLinkHtml = 'Like what you see? Visit the ' +\n",
       "            '<a target=\"_blank\" href=https://colab.research.google.com/notebooks/data_table.ipynb>data table notebook</a>'\n",
       "            + ' to learn more about interactive tables.';\n",
       "          element.innerHTML = '';\n",
       "          dataTable['output_type'] = 'display_data';\n",
       "          await google.colab.output.renderOutput(dataTable, element);\n",
       "          const docLink = document.createElement('div');\n",
       "          docLink.innerHTML = docLinkHtml;\n",
       "          element.appendChild(docLink);\n",
       "        }\n",
       "      </script>\n",
       "    </div>\n",
       "  </div>\n",
       "  "
      ]
     },
     "metadata": {},
     "execution_count": 44
    }
   ]
  },
  {
   "cell_type": "markdown",
   "metadata": {
    "id": "3k1AJ1J1p5P2",
    "pycharm": {
     "name": "#%% md\n"
    }
   },
   "source": [
    "## Save performances result to SVC file\n"
   ]
  },
  {
   "cell_type": "code",
   "metadata": {
    "id": "_3zns6a1p_u6",
    "executionInfo": {
     "status": "ok",
     "timestamp": 1647034433066,
     "user_tz": -540,
     "elapsed": 386,
     "user": {
      "displayName": "Milandu Keith Moussavou Boussougou",
      "photoUrl": "https://lh3.googleusercontent.com/a-/AOh14GicOgg14dMz58gOrg69qKXXZuY5LIxdkzh1yMn5KNg=s64",
      "userId": "16125998280788005643"
     }
    },
    "pycharm": {
     "name": "#%%\n"
    }
   },
   "source": [
    "# save the training results\n",
    "df_results.to_csv('performances_shallow_algorithm_lab_new1.csv')"
   ],
   "execution_count": 45,
   "outputs": []
  },
  {
   "cell_type": "code",
   "metadata": {
    "id": "kkZiYNhQqnSI",
    "executionInfo": {
     "status": "ok",
     "timestamp": 1647034433067,
     "user_tz": -540,
     "elapsed": 19,
     "user": {
      "displayName": "Milandu Keith Moussavou Boussougou",
      "photoUrl": "https://lh3.googleusercontent.com/a-/AOh14GicOgg14dMz58gOrg69qKXXZuY5LIxdkzh1yMn5KNg=s64",
      "userId": "16125998280788005643"
     }
    },
    "pycharm": {
     "name": "#%%\n"
    }
   },
   "source": [
    "# ls -l"
   ],
   "execution_count": 46,
   "outputs": []
  },
  {
   "cell_type": "markdown",
   "metadata": {
    "id": "yv299MGGi_CP",
    "pycharm": {
     "name": "#%% md\n"
    }
   },
   "source": [
    "# Testing the CatBoost text feature"
   ]
  },
  {
   "cell_type": "code",
   "metadata": {
    "id": "ue725rcKdO11",
    "executionInfo": {
     "status": "ok",
     "timestamp": 1647034433068,
     "user_tz": -540,
     "elapsed": 19,
     "user": {
      "displayName": "Milandu Keith Moussavou Boussougou",
      "photoUrl": "https://lh3.googleusercontent.com/a-/AOh14GicOgg14dMz58gOrg69qKXXZuY5LIxdkzh1yMn5KNg=s64",
      "userId": "16125998280788005643"
     }
    },
    "pycharm": {
     "name": "#%%\n"
    }
   },
   "source": [
    "# !pip install ipywidgets"
   ],
   "execution_count": 47,
   "outputs": []
  },
  {
   "cell_type": "code",
   "metadata": {
    "id": "8fVw46tRdU48",
    "executionInfo": {
     "status": "ok",
     "timestamp": 1647034433069,
     "user_tz": -540,
     "elapsed": 20,
     "user": {
      "displayName": "Milandu Keith Moussavou Boussougou",
      "photoUrl": "https://lh3.googleusercontent.com/a-/AOh14GicOgg14dMz58gOrg69qKXXZuY5LIxdkzh1yMn5KNg=s64",
      "userId": "16125998280788005643"
     }
    },
    "pycharm": {
     "name": "#%%\n"
    }
   },
   "source": [
    "# !jupyter nbextension enable --py widgetsnbextension"
   ],
   "execution_count": 48,
   "outputs": []
  },
  {
   "cell_type": "code",
   "metadata": {
    "id": "WjtjdH2ucTn1",
    "executionInfo": {
     "status": "ok",
     "timestamp": 1647034433070,
     "user_tz": -540,
     "elapsed": 20,
     "user": {
      "displayName": "Milandu Keith Moussavou Boussougou",
      "photoUrl": "https://lh3.googleusercontent.com/a-/AOh14GicOgg14dMz58gOrg69qKXXZuY5LIxdkzh1yMn5KNg=s64",
      "userId": "16125998280788005643"
     }
    },
    "pycharm": {
     "name": "#%%\n"
    }
   },
   "source": [
    "# df_train['Transcript'] = df_train['Transcript'].astype(str)\n",
    "# X_train = df_train.Transcript.tolist()\n",
    "# len(X_train)"
   ],
   "execution_count": 49,
   "outputs": []
  },
  {
   "cell_type": "code",
   "metadata": {
    "id": "nAZJnZfrFHyT",
    "executionInfo": {
     "status": "ok",
     "timestamp": 1647034433071,
     "user_tz": -540,
     "elapsed": 20,
     "user": {
      "displayName": "Milandu Keith Moussavou Boussougou",
      "photoUrl": "https://lh3.googleusercontent.com/a-/AOh14GicOgg14dMz58gOrg69qKXXZuY5LIxdkzh1yMn5KNg=s64",
      "userId": "16125998280788005643"
     }
    },
    "pycharm": {
     "name": "#%%\n"
    }
   },
   "source": [
    "# X_train_text, X_valid_text, y_train_sub, y_valid = train_test_split(X_train, y_train, test_size=0.1)"
   ],
   "execution_count": 50,
   "outputs": []
  },
  {
   "cell_type": "code",
   "metadata": {
    "id": "xNsF-KGVaG6w",
    "executionInfo": {
     "status": "ok",
     "timestamp": 1647034433071,
     "user_tz": -540,
     "elapsed": 19,
     "user": {
      "displayName": "Milandu Keith Moussavou Boussougou",
      "photoUrl": "https://lh3.googleusercontent.com/a-/AOh14GicOgg14dMz58gOrg69qKXXZuY5LIxdkzh1yMn5KNg=s64",
      "userId": "16125998280788005643"
     }
    },
    "pycharm": {
     "name": "#%%\n"
    }
   },
   "source": [
    "# # Testing the CatBoost text feature\n",
    "# model = CatBoostClassifier(n_estimators=2000,\n",
    "#                            text_features=[0],\n",
    "#                            colsample_bylevel=0.06,\n",
    "#                            max_leaves=31,\n",
    "#                            subsample=0.67,\n",
    "#                            verbose=0,\n",
    "#                            thread_count=6,\n",
    "#                            random_state=1234)\n",
    "# start = timer()\n",
    "# model.fit(X_train_text,\n",
    "#           y_train_sub,\n",
    "#           eval_set = [(X_valid_text, y_valid)],\n",
    "#           early_stopping_rounds=15,\n",
    "#           verbose=0,\n",
    "#           plot=True)"
   ],
   "execution_count": 51,
   "outputs": []
  },
  {
   "cell_type": "code",
   "metadata": {
    "id": "XK95lrpKawSO",
    "executionInfo": {
     "status": "ok",
     "timestamp": 1647034433072,
     "user_tz": -540,
     "elapsed": 18,
     "user": {
      "displayName": "Milandu Keith Moussavou Boussougou",
      "photoUrl": "https://lh3.googleusercontent.com/a-/AOh14GicOgg14dMz58gOrg69qKXXZuY5LIxdkzh1yMn5KNg=s64",
      "userId": "16125998280788005643"
     }
    },
    "pycharm": {
     "name": "#%%\n"
    }
   },
   "source": [
    "# train_time = timer() - start\n",
    "# print('The time is {:.4f} seconds'.format(train_time))"
   ],
   "execution_count": 52,
   "outputs": []
  }
 ]
}