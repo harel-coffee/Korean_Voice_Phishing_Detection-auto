{
 "cells": [
  {
   "cell_type": "code",
   "execution_count": 1,
   "metadata": {
    "colab": {
     "base_uri": "https://localhost:8080/"
    },
    "executionInfo": {
     "elapsed": 8100,
     "status": "ok",
     "timestamp": 1655731772020,
     "user": {
      "displayName": "Milandu Keith Moussavou Boussougou",
      "userId": "16125998280788005643"
     },
     "user_tz": -540
    },
    "id": "ZFcT_ttb3cxp",
    "outputId": "9b5e3f07-81e5-49df-8be6-b66ab94205b7"
   },
   "outputs": [],
   "source": [
    "# !pip install transformers==3.0.2"
   ]
  },
  {
   "cell_type": "code",
   "execution_count": 2,
   "metadata": {
    "executionInfo": {
     "elapsed": 6248,
     "status": "ok",
     "timestamp": 1655731778262,
     "user": {
      "displayName": "Milandu Keith Moussavou Boussougou",
      "userId": "16125998280788005643"
     },
     "user_tz": -540
    },
    "id": "mI_AcZbA20Ll"
   },
   "outputs": [],
   "source": [
    "# Importing libraries\n",
    "import pandas as pd\n",
    "import torch\n",
    "import transformers\n",
    "from torch.utils.data import Dataset, DataLoader\n",
    "from transformers import RobertaModel, RobertaTokenizer\n",
    "import matplotlib.pyplot as plt\n",
    "from tqdm import tqdm\n",
    "import numpy as np\n",
    "import time\n",
    "import copy\n",
    "import os\n",
    "import logging\n",
    "logging.basicConfig(level=logging.ERROR)"
   ]
  },
  {
   "cell_type": "code",
   "execution_count": 4,
   "metadata": {
    "executionInfo": {
     "elapsed": 26,
     "status": "ok",
     "timestamp": 1655731778264,
     "user": {
      "displayName": "Milandu Keith Moussavou Boussougou",
      "userId": "16125998280788005643"
     },
     "user_tz": -540
    },
    "id": "VGLPc0Pw4a_W"
   },
   "outputs": [
    {
     "data": {
      "text/plain": [
       "'cuda'"
      ]
     },
     "execution_count": 4,
     "metadata": {},
     "output_type": "execute_result"
    }
   ],
   "source": [
    "# Setting up GPU\n",
    "from torch import cuda\n",
    "device = 'cuda' if cuda.is_available() else 'cpu'\n",
    "device"
   ]
  },
  {
   "cell_type": "code",
   "execution_count": 5,
   "metadata": {
    "colab": {
     "base_uri": "https://localhost:8080/",
     "height": 73,
     "resources": {
      "http://localhost:8080/nbextensions/google.colab/files.js": {
       "data": "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",
       "headers": [
        [
         "content-type",
         "application/javascript"
        ]
       ],
       "ok": true,
       "status": 200,
       "status_text": ""
      }
     }
    },
    "executionInfo": {
     "elapsed": 542861,
     "status": "ok",
     "timestamp": 1655732321101,
     "user": {
      "displayName": "Milandu Keith Moussavou Boussougou",
      "userId": "16125998280788005643"
     },
     "user_tz": -540
    },
    "id": "fU_00oNwgrRU",
    "outputId": "c7a7fefa-7192-4852-cd9c-c84e2aa94d24"
   },
   "outputs": [],
   "source": [
    "# from google.colab import files\n",
    "# uploaded = files.upload()"
   ]
  },
  {
   "cell_type": "code",
   "execution_count": 6,
   "metadata": {
    "colab": {
     "base_uri": "https://localhost:8080/",
     "height": 206
    },
    "executionInfo": {
     "elapsed": 648,
     "status": "ok",
     "timestamp": 1655732321745,
     "user": {
      "displayName": "Milandu Keith Moussavou Boussougou",
      "userId": "16125998280788005643"
     },
     "user_tz": -540
    },
    "id": "ZAMpDOcuM_NU",
    "outputId": "cc9ea8d7-df17-4a39-bed1-a40d2c83541d"
   },
   "outputs": [
    {
     "data": {
      "text/html": [
       "<div>\n",
       "<style scoped>\n",
       "    .dataframe tbody tr th:only-of-type {\n",
       "        vertical-align: middle;\n",
       "    }\n",
       "\n",
       "    .dataframe tbody tr th {\n",
       "        vertical-align: top;\n",
       "    }\n",
       "\n",
       "    .dataframe thead th {\n",
       "        text-align: right;\n",
       "    }\n",
       "</style>\n",
       "<table border=\"1\" class=\"dataframe\">\n",
       "  <thead>\n",
       "    <tr style=\"text-align: right;\">\n",
       "      <th></th>\n",
       "      <th>id</th>\n",
       "      <th>transcript</th>\n",
       "      <th>confidence</th>\n",
       "      <th>label</th>\n",
       "    </tr>\n",
       "  </thead>\n",
       "  <tbody>\n",
       "    <tr>\n",
       "      <th>2071</th>\n",
       "      <td>2071</td>\n",
       "      <td>내는 초등학교 때 오형이어서 막 에이형이나 에이비형인 애들이 막 물 한 입 달라 그...</td>\n",
       "      <td>NaN</td>\n",
       "      <td>0</td>\n",
       "    </tr>\n",
       "    <tr>\n",
       "      <th>1878</th>\n",
       "      <td>1878</td>\n",
       "      <td>저는 학교 다닐 때 급식이 정말 맛이 없었거든요. 저희 학교 급식이 너무 맛이 없어...</td>\n",
       "      <td>NaN</td>\n",
       "      <td>0</td>\n",
       "    </tr>\n",
       "    <tr>\n",
       "      <th>615</th>\n",
       "      <td>615</td>\n",
       "      <td>최근에 다녀온 여행지 있으십니까? 저는 요기가 고향이 아니라 대구가 고향이기 때문에...</td>\n",
       "      <td>NaN</td>\n",
       "      <td>0</td>\n",
       "    </tr>\n",
       "    <tr>\n",
       "      <th>510</th>\n",
       "      <td>510</td>\n",
       "      <td>어~ 저는 지금 7년 동안 연애를 하고 있는 중인데 어~ 혹시 저처럼 길게 연애를 ...</td>\n",
       "      <td>NaN</td>\n",
       "      <td>0</td>\n",
       "    </tr>\n",
       "    <tr>\n",
       "      <th>743</th>\n",
       "      <td>743</td>\n",
       "      <td>음~ 여행 저 좋아해요. 아 엄마가 어릴 때부터 엄마가 어릴 때부터 많이 여행을 데...</td>\n",
       "      <td>NaN</td>\n",
       "      <td>0</td>\n",
       "    </tr>\n",
       "  </tbody>\n",
       "</table>\n",
       "</div>"
      ],
      "text/plain": [
       "        id                                         transcript  confidence  \\\n",
       "2071  2071  내는 초등학교 때 오형이어서 막 에이형이나 에이비형인 애들이 막 물 한 입 달라 그...         NaN   \n",
       "1878  1878  저는 학교 다닐 때 급식이 정말 맛이 없었거든요. 저희 학교 급식이 너무 맛이 없어...         NaN   \n",
       "615    615  최근에 다녀온 여행지 있으십니까? 저는 요기가 고향이 아니라 대구가 고향이기 때문에...         NaN   \n",
       "510    510  어~ 저는 지금 7년 동안 연애를 하고 있는 중인데 어~ 혹시 저처럼 길게 연애를 ...         NaN   \n",
       "743    743  음~ 여행 저 좋아해요. 아 엄마가 어릴 때부터 엄마가 어릴 때부터 많이 여행을 데...         NaN   \n",
       "\n",
       "      label  \n",
       "2071      0  \n",
       "1878      0  \n",
       "615       0  \n",
       "510       0  \n",
       "743       0  "
      ]
     },
     "execution_count": 6,
     "metadata": {},
     "output_type": "execute_result"
    }
   ],
   "source": [
    "# import the dataset\n",
    "df = pd.read_csv('KorCCVi_v2.csv').sample(frac=1.0)\n",
    "df.sample(n=5)"
   ]
  },
  {
   "cell_type": "code",
   "execution_count": 7,
   "metadata": {
    "executionInfo": {
     "elapsed": 13,
     "status": "ok",
     "timestamp": 1655732321746,
     "user": {
      "displayName": "Milandu Keith Moussavou Boussougou",
      "userId": "16125998280788005643"
     },
     "user_tz": -540
    },
    "id": "1fojK33nKHhc"
   },
   "outputs": [],
   "source": [
    "df = df.drop(['id', 'confidence'], axis=1, inplace=False)\n",
    "first_column = df.pop('label')\n",
    "df.insert(0, 'label', first_column)\n",
    "df.rename(columns = {'label':'Label', 'transcript':'Text'}, inplace = True)"
   ]
  },
  {
   "cell_type": "code",
   "execution_count": 8,
   "metadata": {
    "colab": {
     "base_uri": "https://localhost:8080/",
     "height": 206
    },
    "executionInfo": {
     "elapsed": 12,
     "status": "ok",
     "timestamp": 1655732321746,
     "user": {
      "displayName": "Milandu Keith Moussavou Boussougou",
      "userId": "16125998280788005643"
     },
     "user_tz": -540
    },
    "id": "lyEZefjRNHGl",
    "outputId": "923a56dc-fe80-47a4-d467-603416e7066f"
   },
   "outputs": [
    {
     "data": {
      "text/html": [
       "<div>\n",
       "<style scoped>\n",
       "    .dataframe tbody tr th:only-of-type {\n",
       "        vertical-align: middle;\n",
       "    }\n",
       "\n",
       "    .dataframe tbody tr th {\n",
       "        vertical-align: top;\n",
       "    }\n",
       "\n",
       "    .dataframe thead th {\n",
       "        text-align: right;\n",
       "    }\n",
       "</style>\n",
       "<table border=\"1\" class=\"dataframe\">\n",
       "  <thead>\n",
       "    <tr style=\"text-align: right;\">\n",
       "      <th></th>\n",
       "      <th>Label</th>\n",
       "      <th>Text</th>\n",
       "    </tr>\n",
       "  </thead>\n",
       "  <tbody>\n",
       "    <tr>\n",
       "      <th>2812</th>\n",
       "      <td>1</td>\n",
       "      <td>10월 달부터 현재까지, 지금까지 수천 만 원의 불법 자금이 돈세탁이 되서 해외로 ...</td>\n",
       "    </tr>\n",
       "    <tr>\n",
       "      <th>2788</th>\n",
       "      <td>1</td>\n",
       "      <td>많은 사람이 시냐고이 사람은 저 모르신다는 왜냐하면 저희가 이마트 지역에서 동영상 ...</td>\n",
       "    </tr>\n",
       "    <tr>\n",
       "      <th>1532</th>\n",
       "      <td>0</td>\n",
       "      <td>부모님께서는  님의 그 성향 자체가 외향적이라고 생각하나요 아니면 내향적이라고 생각...</td>\n",
       "    </tr>\n",
       "    <tr>\n",
       "      <th>1738</th>\n",
       "      <td>0</td>\n",
       "      <td>너 요즘에 좋아하는 아이돌 있어? 있지. 너 엔시티 알지. 엔시티가 이제 작년 학 ...</td>\n",
       "    </tr>\n",
       "    <tr>\n",
       "      <th>1813</th>\n",
       "      <td>0</td>\n",
       "      <td>살아 있다 봤어? 얼마 전에 봤는데 어~ 결말이 조금 많이 별로였던 거 같아. 너무...</td>\n",
       "    </tr>\n",
       "  </tbody>\n",
       "</table>\n",
       "</div>"
      ],
      "text/plain": [
       "      Label                                               Text\n",
       "2812      1  10월 달부터 현재까지, 지금까지 수천 만 원의 불법 자금이 돈세탁이 되서 해외로 ...\n",
       "2788      1  많은 사람이 시냐고이 사람은 저 모르신다는 왜냐하면 저희가 이마트 지역에서 동영상 ...\n",
       "1532      0  부모님께서는  님의 그 성향 자체가 외향적이라고 생각하나요 아니면 내향적이라고 생각...\n",
       "1738      0  너 요즘에 좋아하는 아이돌 있어? 있지. 너 엔시티 알지. 엔시티가 이제 작년 학 ...\n",
       "1813      0  살아 있다 봤어? 얼마 전에 봤는데 어~ 결말이 조금 많이 별로였던 거 같아. 너무..."
      ]
     },
     "execution_count": 8,
     "metadata": {},
     "output_type": "execute_result"
    }
   ],
   "source": [
    "df.sample(n=5)"
   ]
  },
  {
   "cell_type": "markdown",
   "metadata": {
    "id": "1YhlneiEHzB8"
   },
   "source": [
    "# Partitioning"
   ]
  },
  {
   "cell_type": "markdown",
   "metadata": {
    "id": "EGWafcsLH11y"
   },
   "source": [
    "## IID"
   ]
  },
  {
   "cell_type": "code",
   "execution_count": 9,
   "metadata": {
    "executionInfo": {
     "elapsed": 12,
     "status": "ok",
     "timestamp": 1655732321747,
     "user": {
      "displayName": "Milandu Keith Moussavou Boussougou",
      "userId": "16125998280788005643"
     },
     "user_tz": -540
    },
    "id": "rPIyHBVTFifB"
   },
   "outputs": [],
   "source": [
    "def iid_partition(dataset, clients):\n",
    "  \"\"\"\n",
    "  I.I.D paritioning of data over clients\n",
    "  Shuffle the data\n",
    "  Split it between clients\n",
    "  \n",
    "  params:\n",
    "    - dataset (torch.utils.Dataset): Dataset containing the MNIST Images\n",
    "    - clients (int): Number of Clients to split the data between\n",
    "\n",
    "  returns:\n",
    "    - Dictionary of image indexes for each client\n",
    "  \"\"\"\n",
    "\n",
    "  num_items_per_client = int(len(dataset)/clients)\n",
    "  client_dict = {}\n",
    "  image_idxs = [i for i in range(len(dataset))]\n",
    "\n",
    "  for i in range(clients):\n",
    "    client_dict[i] = set(np.random.choice(image_idxs, num_items_per_client, replace=False))\n",
    "    image_idxs = list(set(image_idxs) - client_dict[i])\n",
    "\n",
    "  return client_dict"
   ]
  },
  {
   "cell_type": "markdown",
   "metadata": {
    "id": "1hhMk0QAH4kr"
   },
   "source": [
    "## Non-IID"
   ]
  },
  {
   "cell_type": "code",
   "execution_count": 10,
   "metadata": {
    "executionInfo": {
     "elapsed": 12,
     "status": "ok",
     "timestamp": 1655732321747,
     "user": {
      "displayName": "Milandu Keith Moussavou Boussougou",
      "userId": "16125998280788005643"
     },
     "user_tz": -540
    },
    "id": "8Vr78-GMFm9p"
   },
   "outputs": [],
   "source": [
    "def non_iid_partition(dataset, clients, total_shards, shards_size, num_shards_per_client):\n",
    "  \"\"\"\n",
    "  non I.I.D parititioning of data over clients\n",
    "  Sort the data by the digit label\n",
    "  Divide the data into N shards of size S\n",
    "  Each of the clients will get X shards\n",
    "\n",
    "  params:\n",
    "    - dataset (torch.utils.Dataset): Dataset containing the MNIST Images\n",
    "    - clients (int): Number of Clients to split the data between\n",
    "    - total_shards (int): Number of shards to partition the data in\n",
    "    - shards_size (int): Size of each shard \n",
    "    - num_shards_per_client (int): Number of shards of size shards_size that each client receives\n",
    "\n",
    "  returns:\n",
    "    - Dictionary of image indexes for each client\n",
    "  \"\"\"\n",
    "  \n",
    "  shard_idxs = [i for i in range(total_shards)]\n",
    "  client_dict = {i: np.array([], dtype='int64') for i in range(clients)}\n",
    "  idxs = np.arange(len(dataset))\n",
    "  data_labels = dataset.get_labels()\n",
    "\n",
    "  # sort the labels\n",
    "  label_idxs = np.vstack((idxs, data_labels))\n",
    "  label_idxs = label_idxs[:, label_idxs[1,:].argsort()]\n",
    "  idxs = label_idxs[0,:]\n",
    "\n",
    "  # divide the data into total_shards of size shards_size\n",
    "  # assign num_shards_per_client to each client\n",
    "  for i in range(clients):\n",
    "    rand_set = set(np.random.choice(shard_idxs, num_shards_per_client, replace=False))\n",
    "    shard_idxs = list(set(shard_idxs) - rand_set)\n",
    "\n",
    "    for rand in rand_set:\n",
    "      client_dict[i] = np.concatenate((client_dict[i], idxs[rand*shards_size:(rand+1)*shards_size]), axis=0)\n",
    "  \n",
    "  return client_dict"
   ]
  },
  {
   "cell_type": "markdown",
   "metadata": {
    "id": "MbYgMVAcTWXC"
   },
   "source": [
    "# MAIN"
   ]
  },
  {
   "cell_type": "markdown",
   "metadata": {
    "id": "NvHtHWHsT5E3"
   },
   "source": [
    "## MODELS"
   ]
  },
  {
   "cell_type": "markdown",
   "metadata": {
    "id": "6GClLMsl9DNC"
   },
   "source": [
    "### KoBERT"
   ]
  },
  {
   "cell_type": "code",
   "execution_count": 11,
   "metadata": {
    "colab": {
     "base_uri": "https://localhost:8080/",
     "height": 1000
    },
    "executionInfo": {
     "elapsed": 28129,
     "status": "ok",
     "timestamp": 1655732349865,
     "user": {
      "displayName": "Milandu Keith Moussavou Boussougou",
      "userId": "16125998280788005643"
     },
     "user_tz": -540
    },
    "id": "8CvJWclY9GWr",
    "outputId": "dbb39aaf-bc76-478b-b2a5-dc5b5a6f790c"
   },
   "outputs": [
    {
     "name": "stdout",
     "output_type": "stream",
     "text": [
      "/bin/bash: /home/mbmk92/anaconda3/envs/dltest/lib/libtinfo.so.6: no version information available (required by /bin/bash)\n",
      "Collecting git+https://****@github.com/SKTBrain/KoBERT.git@master\n",
      "  Cloning https://****@github.com/SKTBrain/KoBERT.git (to revision master) to /tmp/pip-req-build-b8m13qm_\n",
      "  Running command git clone --filter=blob:none --quiet 'https://****@github.com/SKTBrain/KoBERT.git' /tmp/pip-req-build-b8m13qm_\n",
      "  Resolved https://****@github.com/SKTBrain/KoBERT.git to commit 47a69af87928fc24e20f571fe10c3cc9dd9af9a3\n",
      "  Preparing metadata (setup.py) ... \u001b[?25ldone\n",
      "\u001b[?25hCollecting boto3<=1.15.18 (from kobert==0.2.3)\n",
      "  Downloading boto3-1.15.18-py2.py3-none-any.whl (129 kB)\n",
      "\u001b[2K     \u001b[90m━━━━━━━━━━━━━━━━━━━━━━━━━━━━━━━━━━━━━━━\u001b[0m \u001b[32m129.1/129.1 kB\u001b[0m \u001b[31m4.2 MB/s\u001b[0m eta \u001b[36m0:00:00\u001b[0m\n",
      "\u001b[?25hCollecting gluonnlp<=0.10.0,>=0.6.0 (from kobert==0.2.3)\n",
      "  Downloading gluonnlp-0.10.0.tar.gz (344 kB)\n",
      "\u001b[2K     \u001b[90m━━━━━━━━━━━━━━━━━━━━━━━━━━━━━━━━━━━━━━━\u001b[0m \u001b[32m344.5/344.5 kB\u001b[0m \u001b[31m4.5 MB/s\u001b[0m eta \u001b[36m0:00:00\u001b[0m00:01\u001b[0m00:01\u001b[0m\n",
      "\u001b[?25h  Preparing metadata (setup.py) ... \u001b[?25ldone\n",
      "\u001b[?25hCollecting mxnet<=1.7.0.post2,>=1.4.0 (from kobert==0.2.3)\n",
      "  Downloading mxnet-1.7.0.post2-py2.py3-none-manylinux2014_x86_64.whl (54.7 MB)\n",
      "\u001b[2K     \u001b[90m━━━━━━━━━━━━━━━━━━━━━━━━━━━━━━━━━━━━━━━━\u001b[0m \u001b[32m54.7/54.7 MB\u001b[0m \u001b[31m4.6 MB/s\u001b[0m eta \u001b[36m0:00:00\u001b[0m00:01\u001b[0m00:01\u001b[0m\n",
      "\u001b[?25hINFO: pip is looking at multiple versions of kobert to determine which version is compatible with other requirements. This could take a while.\n",
      "\u001b[31mERROR: Could not find a version that satisfies the requirement onnxruntime<=1.8.0,==1.8.0 (from kobert) (from versions: 1.12.0, 1.12.1, 1.13.1, 1.14.0, 1.14.1, 1.15.0)\u001b[0m\u001b[31m\n",
      "\u001b[0m\u001b[31mERROR: No matching distribution found for onnxruntime<=1.8.0,==1.8.0\u001b[0m\u001b[31m\n",
      "\u001b[0m"
     ]
    }
   ],
   "source": [
    "!pip install git+https://git@github.com/SKTBrain/KoBERT.git@master"
   ]
  },
  {
   "cell_type": "markdown",
   "metadata": {
    "id": "6qTJARwx9Hcb"
   },
   "source": [
    "### Roberta"
   ]
  },
  {
   "cell_type": "code",
   "execution_count": 12,
   "metadata": {
    "executionInfo": {
     "elapsed": 987,
     "status": "ok",
     "timestamp": 1655735910209,
     "user": {
      "displayName": "Milandu Keith Moussavou Boussougou",
      "userId": "16125998280788005643"
     },
     "user_tz": -540
    },
    "id": "lcqCzmTOh9N2"
   },
   "outputs": [],
   "source": [
    "#Base Roberta model\n",
    "class RobertaClass(torch.nn.Module):\n",
    "    def __init__(self):\n",
    "        super(RobertaClass, self).__init__()\n",
    "        self.l1 = RobertaModel.from_pretrained(\"roberta-base\")\n",
    "        self.pre_classifier = torch.nn.Linear(768, 768)\n",
    "        self.dropout = torch.nn.Dropout(0.3)\n",
    "        self.classifier = torch.nn.Linear(768, 3)\n",
    "\n",
    "    def forward(self, input_ids, attention_mask, token_type_ids):\n",
    "        output_1 = self.l1(input_ids=input_ids, attention_mask=attention_mask, token_type_ids=token_type_ids)\n",
    "        hidden_state = output_1[0]\n",
    "        pooler = hidden_state[:, 0]\n",
    "        pooler = self.pre_classifier(pooler)\n",
    "        pooler = torch.nn.ReLU()(pooler)\n",
    "        pooler = self.dropout(pooler)\n",
    "        output = self.classifier(pooler)\n",
    "        return output"
   ]
  },
  {
   "cell_type": "code",
   "execution_count": 13,
   "metadata": {
    "colab": {
     "base_uri": "https://localhost:8080/"
    },
    "executionInfo": {
     "elapsed": 4010,
     "status": "ok",
     "timestamp": 1655735915617,
     "user": {
      "displayName": "Milandu Keith Moussavou Boussougou",
      "userId": "16125998280788005643"
     },
     "user_tz": -540
    },
    "id": "A6srQnPth-4m",
    "outputId": "45102a39-3d8f-4b6a-dc88-ad2cf1208d4d"
   },
   "outputs": [
    {
     "data": {
      "application/vnd.jupyter.widget-view+json": {
       "model_id": "b3d60b8f3bda47c2a32348b8ae0bf41d",
       "version_major": 2,
       "version_minor": 0
      },
      "text/plain": [
       "Downloading (…)lve/main/config.json:   0%|          | 0.00/481 [00:00<?, ?B/s]"
      ]
     },
     "metadata": {},
     "output_type": "display_data"
    },
    {
     "data": {
      "application/vnd.jupyter.widget-view+json": {
       "model_id": "c64a10c73f284e1b800db5900112dbf5",
       "version_major": 2,
       "version_minor": 0
      },
      "text/plain": [
       "Downloading pytorch_model.bin:   0%|          | 0.00/501M [00:00<?, ?B/s]"
      ]
     },
     "metadata": {},
     "output_type": "display_data"
    },
    {
     "name": "stderr",
     "output_type": "stream",
     "text": [
      "Some weights of the model checkpoint at roberta-base were not used when initializing RobertaModel: ['lm_head.layer_norm.bias', 'lm_head.layer_norm.weight', 'lm_head.decoder.weight', 'lm_head.dense.bias', 'lm_head.bias', 'lm_head.dense.weight']\n",
      "- This IS expected if you are initializing RobertaModel from the checkpoint of a model trained on another task or with another architecture (e.g. initializing a BertForSequenceClassification model from a BertForPreTraining model).\n",
      "- This IS NOT expected if you are initializing RobertaModel from the checkpoint of a model that you expect to be exactly identical (initializing a BertForSequenceClassification model from a BertForSequenceClassification model).\n"
     ]
    },
    {
     "data": {
      "text/plain": [
       "RobertaClass(\n",
       "  (l1): RobertaModel(\n",
       "    (embeddings): RobertaEmbeddings(\n",
       "      (word_embeddings): Embedding(50265, 768, padding_idx=1)\n",
       "      (position_embeddings): Embedding(514, 768, padding_idx=1)\n",
       "      (token_type_embeddings): Embedding(1, 768)\n",
       "      (LayerNorm): LayerNorm((768,), eps=1e-05, elementwise_affine=True)\n",
       "      (dropout): Dropout(p=0.1, inplace=False)\n",
       "    )\n",
       "    (encoder): RobertaEncoder(\n",
       "      (layer): ModuleList(\n",
       "        (0-11): 12 x RobertaLayer(\n",
       "          (attention): RobertaAttention(\n",
       "            (self): RobertaSelfAttention(\n",
       "              (query): Linear(in_features=768, out_features=768, bias=True)\n",
       "              (key): Linear(in_features=768, out_features=768, bias=True)\n",
       "              (value): Linear(in_features=768, out_features=768, bias=True)\n",
       "              (dropout): Dropout(p=0.1, inplace=False)\n",
       "            )\n",
       "            (output): RobertaSelfOutput(\n",
       "              (dense): Linear(in_features=768, out_features=768, bias=True)\n",
       "              (LayerNorm): LayerNorm((768,), eps=1e-05, elementwise_affine=True)\n",
       "              (dropout): Dropout(p=0.1, inplace=False)\n",
       "            )\n",
       "          )\n",
       "          (intermediate): RobertaIntermediate(\n",
       "            (dense): Linear(in_features=768, out_features=3072, bias=True)\n",
       "            (intermediate_act_fn): GELUActivation()\n",
       "          )\n",
       "          (output): RobertaOutput(\n",
       "            (dense): Linear(in_features=3072, out_features=768, bias=True)\n",
       "            (LayerNorm): LayerNorm((768,), eps=1e-05, elementwise_affine=True)\n",
       "            (dropout): Dropout(p=0.1, inplace=False)\n",
       "          )\n",
       "        )\n",
       "      )\n",
       "    )\n",
       "    (pooler): RobertaPooler(\n",
       "      (dense): Linear(in_features=768, out_features=768, bias=True)\n",
       "      (activation): Tanh()\n",
       "    )\n",
       "  )\n",
       "  (pre_classifier): Linear(in_features=768, out_features=768, bias=True)\n",
       "  (dropout): Dropout(p=0.3, inplace=False)\n",
       "  (classifier): Linear(in_features=768, out_features=3, bias=True)\n",
       ")"
      ]
     },
     "execution_count": 13,
     "metadata": {},
     "output_type": "execute_result"
    }
   ],
   "source": [
    "model = RobertaClass()\n",
    "model.to(device)"
   ]
  },
  {
   "cell_type": "code",
   "execution_count": 14,
   "metadata": {
    "executionInfo": {
     "elapsed": 2214,
     "status": "ok",
     "timestamp": 1655735917828,
     "user": {
      "displayName": "Milandu Keith Moussavou Boussougou",
      "userId": "16125998280788005643"
     },
     "user_tz": -540
    },
    "id": "eJYVU02b4DjQ"
   },
   "outputs": [
    {
     "data": {
      "application/vnd.jupyter.widget-view+json": {
       "model_id": "563775490dd146168cdbf419f6805077",
       "version_major": 2,
       "version_minor": 0
      },
      "text/plain": [
       "Downloading (…)olve/main/vocab.json:   0%|          | 0.00/899k [00:00<?, ?B/s]"
      ]
     },
     "metadata": {},
     "output_type": "display_data"
    },
    {
     "data": {
      "application/vnd.jupyter.widget-view+json": {
       "model_id": "7f6746d49b924beb9805ffa67af2285f",
       "version_major": 2,
       "version_minor": 0
      },
      "text/plain": [
       "Downloading (…)olve/main/merges.txt:   0%|          | 0.00/456k [00:00<?, ?B/s]"
      ]
     },
     "metadata": {},
     "output_type": "display_data"
    }
   ],
   "source": [
    "#Initialization\n",
    "MAX_LEN = 256\n",
    "TRAIN_BATCH_SIZE = 8\n",
    "VALID_BATCH_SIZE = 2\n",
    "#EPOCHS = 10\n",
    "LEARNING_RATE = 1e-05\n",
    "tokenizer = RobertaTokenizer.from_pretrained('roberta-base', truncation=True, do_lower_case=True)"
   ]
  },
  {
   "cell_type": "code",
   "execution_count": 15,
   "metadata": {
    "executionInfo": {
     "elapsed": 11,
     "status": "ok",
     "timestamp": 1655735917829,
     "user": {
      "displayName": "Milandu Keith Moussavou Boussougou",
      "userId": "16125998280788005643"
     },
     "user_tz": -540
    },
    "id": "oOV8C2S54FXw"
   },
   "outputs": [],
   "source": [
    "class TweetData(Dataset):\n",
    "    def __init__(self, dataframe, tokenizer, max_len):\n",
    "        self.tokenizer = tokenizer\n",
    "        self.data = dataframe\n",
    "        self.text = dataframe.Text\n",
    "        self.targets = self.data.Label\n",
    "        self.max_len = max_len\n",
    "\n",
    "    def __len__(self):\n",
    "        return len(self.text)\n",
    "\n",
    "    def get_labels(self):\n",
    "      l = []\n",
    "      for i in range(len(self.data)):\n",
    "        # text = str(self.text[i])\n",
    "        # text = \" \".join(text.split())\n",
    "\n",
    "        # inputs = self.tokenizer.encode_plus(\n",
    "        #     text,\n",
    "        #     None,\n",
    "        #     add_special_tokens=True,\n",
    "        #     max_length=self.max_len,\n",
    "        #     pad_to_max_length=True,\n",
    "        #     return_token_type_ids=True\n",
    "        # )\n",
    "\n",
    "        l.append(self.targets[i])\n",
    "\n",
    "      return l     \n",
    "\n",
    "\n",
    "    def __getitem__(self, index):\n",
    "        text = str(self.text[index])\n",
    "        text = \" \".join(text.split())\n",
    "\n",
    "        inputs = self.tokenizer.encode_plus(\n",
    "            text,\n",
    "            None,\n",
    "            add_special_tokens=True,\n",
    "            max_length=self.max_len,\n",
    "            pad_to_max_length=True,\n",
    "            return_token_type_ids=True\n",
    "        )\n",
    "        ids = inputs['input_ids']\n",
    "        mask = inputs['attention_mask']\n",
    "        token_type_ids = inputs[\"token_type_ids\"]\n",
    "\n",
    "\n",
    "        return {\n",
    "            'ids': torch.tensor(ids, dtype=torch.long),\n",
    "            'mask': torch.tensor(mask, dtype=torch.long),\n",
    "            'token_type_ids': torch.tensor(token_type_ids, dtype=torch.long),\n",
    "            'targets': torch.tensor(self.targets[index], dtype=torch.float)\n",
    "        }"
   ]
  },
  {
   "cell_type": "code",
   "execution_count": 16,
   "metadata": {
    "executionInfo": {
     "elapsed": 10,
     "status": "ok",
     "timestamp": 1655735917829,
     "user": {
      "displayName": "Milandu Keith Moussavou Boussougou",
      "userId": "16125998280788005643"
     },
     "user_tz": -540
    },
    "id": "_eIAvHupTiBO"
   },
   "outputs": [],
   "source": [
    "class CustomDataset(Dataset):\n",
    "  def __init__(self, dataset, tokenizer, max_len, idxs):\n",
    "      self.data = dataset\n",
    "      self.idxs = list(idxs)\n",
    "      self.text = dataset.Text\n",
    "      self.tokenizer = tokenizer\n",
    "      self.max_len = max_len\n",
    "      self.targets = self.data.Label\n",
    "      \n",
    "  # def __init__(self, dataset, idxs):\n",
    "  #     self.dataset = dataset\n",
    "  #     self.idxs = list(idxs)\n",
    "\n",
    "  def __len__(self):\n",
    "      return len(self.idxs)\n",
    "\n",
    "  def __getitem__(self, index):\n",
    "      text = str(self.text[index])\n",
    "      text = \" \".join(text.split())\n",
    "\n",
    "      inputs = self.tokenizer.encode_plus(\n",
    "          text,\n",
    "          None,\n",
    "          add_special_tokens=True,\n",
    "          max_length=self.max_len,\n",
    "          pad_to_max_length=True,\n",
    "          return_token_type_ids=True\n",
    "      )\n",
    "      ids = inputs['input_ids']\n",
    "      mask = inputs['attention_mask']\n",
    "      token_type_ids = inputs[\"token_type_ids\"]\n",
    "\n",
    "\n",
    "      return {\n",
    "          'ids': torch.tensor(ids, dtype=torch.long),\n",
    "          'mask': torch.tensor(mask, dtype=torch.long),\n",
    "          'token_type_ids': torch.tensor(token_type_ids, dtype=torch.long),\n",
    "          'targets': torch.tensor(self.targets[index], dtype=torch.float)\n",
    "      }\n",
    "\n",
    "class ClientUpdate(object):\n",
    "  def __init__(self, dataset, model, tokenizer, loss_function, optimizer, idxs, epochs, MAX_LEN=256):\n",
    "    self.train_loader = DataLoader(CustomDataset(dataset, tokenizer, MAX_LEN, idxs), batch_size=8, shuffle=True)\n",
    "    self.model = model\n",
    "    self.loss_function = loss_function\n",
    "    self.optimizer = optimizer\n",
    "    self.epochs = epochs\n",
    "\n",
    "  # Function to calcuate the accuracy of the model\n",
    "\n",
    "  def calcuate_accu(self, big_idx, targets):\n",
    "    n_correct = (big_idx==targets).sum().item()\n",
    "    return n_correct\n",
    "\n",
    "  def train(self):\n",
    "\n",
    "    epochloss, epochacc = [], []\n",
    "    \n",
    "    for epoch in range(1, self.epochs+1):\n",
    "      tr_loss = 0\n",
    "      n_correct = 0\n",
    "      nb_tr_steps = 0\n",
    "      nb_tr_examples = 0\n",
    "      model.train()\n",
    "\n",
    "      for _,data in enumerate(self.train_loader, 0):\n",
    "        ids = data['ids'].to(device, dtype = torch.long)\n",
    "        mask = data['mask'].to(device, dtype = torch.long)\n",
    "        token_type_ids = data['token_type_ids'].to(device, dtype = torch.long)\n",
    "        targets = data['targets'].to(device, dtype = torch.long)\n",
    "\n",
    "        outputs = self.model(ids, mask, token_type_ids)\n",
    "        loss = self.loss_function(outputs, targets)\n",
    "        tr_loss += loss.item()\n",
    "        big_val, big_idx = torch.max(outputs.data, dim=1)\n",
    "        n_correct += self.calcuate_accu(big_idx, targets)\n",
    "\n",
    "        nb_tr_steps += 1\n",
    "        nb_tr_examples+=targets.size(0)\n",
    "        \n",
    "        if _%5000==0:\n",
    "            loss_step = tr_loss/nb_tr_steps\n",
    "            accu_step = (n_correct*100)/nb_tr_examples \n",
    "            print(f\"Training Loss per 5000 steps: {loss_step}\")\n",
    "            print(f\"Training Accuracy per 5000 steps: {accu_step}\")\n",
    "\n",
    "        self.optimizer.zero_grad()\n",
    "        loss.backward()\n",
    "        # # When using GPU\n",
    "        self.optimizer.step()\n",
    "\n",
    "      print(f'The Total Accuracy for Epoch {epoch}: {(n_correct*100)/nb_tr_examples}')\n",
    "      epoch_loss = tr_loss/nb_tr_steps\n",
    "      epoch_accu = (n_correct*100)/nb_tr_examples\n",
    "      print(f\"Training Loss Epoch: {epoch_loss}\")\n",
    "      print(f\"Training Accuracy Epoch: {epoch_accu}\")\n",
    "      print(\"-------------------------------\")\n",
    "      epochloss.append(epoch_loss)\n",
    "      epochacc.append(epoch_accu)\n",
    "\n",
    "    return model.state_dict(), epochacc[-1], epochloss[-1]"
   ]
  },
  {
   "cell_type": "code",
   "execution_count": 17,
   "metadata": {
    "executionInfo": {
     "elapsed": 10,
     "status": "ok",
     "timestamp": 1655737702798,
     "user": {
      "displayName": "Milandu Keith Moussavou Boussougou",
      "userId": "16125998280788005643"
     },
     "user_tz": -540
    },
    "id": "NC6o9ggzVCNW"
   },
   "outputs": [],
   "source": [
    "def training(model, rounds, ds, data_dict, loss_function, lr, C, K, E,plt_color):\n",
    "  \"\"\"\n",
    "  Function implements the Federated Averaging Algorithm from the FedAvg paper.\n",
    "  Specifically, this function is used for the server side training and weight update\n",
    "\n",
    "  Params:\n",
    "    - model:           PyTorch model to train\n",
    "    - rounds:          Number of communication rounds for the client update\n",
    "    - batch_size:      Batch size for client update training\n",
    "    - lr:              Learning rate used for client update training\n",
    "    - ds:              Dataset used for training\n",
    "    - data_dict:       Type of data partition used for training (IID or non-IID)\n",
    "    - C:               Fraction of clients randomly chosen to perform computation on each round\n",
    "    - K:               Total number of clients\n",
    "    - E:               Number of training passes each client makes over its local dataset per round\n",
    "    - tb_writer_name:  Directory name to save the tensorboard logs\n",
    "  Returns:\n",
    "    - model:           Trained model on the server\n",
    "  \"\"\"\n",
    "\n",
    "  # global model weights\n",
    "  global_weights = model.state_dict()\n",
    "\n",
    "  # training loss\n",
    "  train_loss,train_acc = [], []\n",
    "\n",
    "  optimizer = torch.optim.Adam(params = model.parameters(), lr=lr)\n",
    "  \n",
    "  # measure time\n",
    "  start = time.time()\n",
    "\n",
    "  for curr_round in range(1, rounds+1):\n",
    "    w, local_loss,local_acc = [], [], []\n",
    "\n",
    "    m = max(int(C*K), 1)\n",
    "    \n",
    "    S_t = np.random.choice(range(K), m, replace=False)\n",
    "    for k in S_t:\n",
    "      local_update = ClientUpdate(dataset=ds, model=model, tokenizer=tokenizer, loss_function=loss_function, \\\n",
    "                                  optimizer=optimizer, epochs=E, idxs=data_dict[k])\n",
    "      weights, acc, loss = local_update.train()\n",
    "\n",
    "      w.append(copy.deepcopy(weights))\n",
    "      local_loss.append(copy.deepcopy(loss))\n",
    "      local_acc.append(copy.deepcopy(acc))\n",
    "\n",
    "    # updating the global weights\n",
    "    weights_avg = copy.deepcopy(w[0])\n",
    "    for k in weights_avg.keys():\n",
    "      for i in range(1, len(w)):\n",
    "        weights_avg[k] += w[i][k]\n",
    "\n",
    "      weights_avg[k] = torch.div(weights_avg[k], len(w))\n",
    "\n",
    "    global_weights = weights_avg\n",
    "\n",
    "    # move the updated weights to our model state dict\n",
    "    model.load_state_dict(global_weights)\n",
    "\n",
    "    # loss\n",
    "    loss_avg = sum(local_loss) / len(local_loss)\n",
    "    acc_avg = sum(local_acc) / len(local_acc)\n",
    "    print('Round: {}... \\tAverage Loss: {}'.format(curr_round, round(loss_avg, 3)))\n",
    "    print('Round: {}... \\tAverage Accuracy: {}'.format(curr_round, round(acc_avg, 3)))\n",
    "    train_loss.append(loss_avg)\n",
    "    train_acc.append(acc_avg)\n",
    "\n",
    "  end = time.time()\n",
    "  \n",
    "  fig, ax = plt.subplots()\n",
    "  x_axis = np.arange(1, rounds+1)\n",
    "  # y_axis = np.array(train_loss)\n",
    "  # ax.plot(x_axis, y_axis, 'tab:'+plt_color)\n",
    "\n",
    "  # ax.set(xlabel='Number of Rounds', ylabel='Train Loss',\n",
    "  #      title=\"Training Loss\")\n",
    "  \n",
    "  y_axis = np.array(train_acc)\n",
    "  ax.plot(x_axis, y_axis, 'tab:'+plt_color)\n",
    "\n",
    "  ax.set(xlabel='Number of Rounds', ylabel='Train Accuracy',\n",
    "       title=\"Training Accuracy vs. Global rounds\")\n",
    "  ax.grid()\n",
    "  #fig.savefig(plt_title+'.jpg', format='jpg')\n",
    "  print(\"Training Done!\")\n",
    "  print(\"Total time taken to Train: {}\".format(end-start))\n",
    "  \n",
    "  return model,train_acc"
   ]
  },
  {
   "cell_type": "code",
   "execution_count": 18,
   "metadata": {
    "colab": {
     "base_uri": "https://localhost:8080/"
    },
    "executionInfo": {
     "elapsed": 10,
     "status": "ok",
     "timestamp": 1655737702799,
     "user": {
      "displayName": "Milandu Keith Moussavou Boussougou",
      "userId": "16125998280788005643"
     },
     "user_tz": -540
    },
    "id": "dfPQekmI4JCv",
    "outputId": "dcbfcd53-65f5-4af9-d86f-9fbb4bf5cbfb"
   },
   "outputs": [
    {
     "name": "stdout",
     "output_type": "stream",
     "text": [
      "FULL Dataset: (2927, 2)\n",
      "TRAIN Dataset: (2342, 2)\n",
      "TEST Dataset: (585, 2)\n"
     ]
    }
   ],
   "source": [
    "# Creating the dataset and dataloader for the neural network\n",
    "\n",
    "train_size = 0.8\n",
    "train_dataset=df.sample(frac=train_size,random_state=200)\n",
    "test_dataset=df.drop(train_dataset.index).reset_index(drop=True)\n",
    "train_dataset = train_dataset.reset_index(drop=True)\n",
    "\n",
    "\n",
    "print(\"FULL Dataset: {}\".format(df.shape))\n",
    "print(\"TRAIN Dataset: {}\".format(train_dataset.shape))\n",
    "print(\"TEST Dataset: {}\".format(test_dataset.shape))\n",
    "\n",
    "training_set = TweetData(train_dataset, tokenizer, MAX_LEN)\n",
    "testing_set = TweetData(test_dataset, tokenizer, MAX_LEN)"
   ]
  },
  {
   "cell_type": "code",
   "execution_count": 19,
   "metadata": {
    "executionInfo": {
     "elapsed": 6,
     "status": "ok",
     "timestamp": 1655737702799,
     "user": {
      "displayName": "Milandu Keith Moussavou Boussougou",
      "userId": "16125998280788005643"
     },
     "user_tz": -540
    },
    "id": "4DIl0v0P4Lss"
   },
   "outputs": [],
   "source": [
    "train_params = {'batch_size': TRAIN_BATCH_SIZE,\n",
    "                'shuffle': True,\n",
    "                'num_workers': 0\n",
    "                }\n",
    "\n",
    "test_params = {'batch_size': VALID_BATCH_SIZE,\n",
    "                'shuffle': True,\n",
    "                'num_workers': 0\n",
    "                }\n",
    "\n",
    "training_loader = DataLoader(training_set, **train_params)\n",
    "testing_loader = DataLoader(testing_set, **test_params)"
   ]
  },
  {
   "cell_type": "markdown",
   "metadata": {
    "id": "kvI6AIwJ-z0m"
   },
   "source": [
    "### iid training"
   ]
  },
  {
   "cell_type": "code",
   "execution_count": 20,
   "metadata": {
    "colab": {
     "base_uri": "https://localhost:8080/",
     "height": 1000
    },
    "executionInfo": {
     "elapsed": 1596719,
     "status": "ok",
     "timestamp": 1655739299512,
     "user": {
      "displayName": "Milandu Keith Moussavou Boussougou",
      "userId": "16125998280788005643"
     },
     "user_tz": -540
    },
    "id": "zW4QTZ4Xtb9e",
    "outputId": "e63a652f-4608-474c-ecca-958f533ee1e9"
   },
   "outputs": [
    {
     "name": "stderr",
     "output_type": "stream",
     "text": [
      "Truncation was not explicitly activated but `max_length` is provided a specific value, please use `truncation=True` to explicitly truncate examples to max length. Defaulting to 'longest_first' truncation strategy. If you encode pairs of sequences (GLUE-style) with the tokenizer you can select this strategy more precisely by providing a specific strategy to `truncation`.\n",
      "/home/mbmk92/anaconda3/envs/dltest/lib/python3.10/site-packages/transformers/tokenization_utils_base.py:2346: FutureWarning: The `pad_to_max_length` argument is deprecated and will be removed in a future version, use `padding=True` or `padding='longest'` to pad to the longest sequence in the batch, or use `padding='max_length'` to pad to a max length. In this case, you can give a specific length with `max_length` (e.g. `max_length=45`) or leave max_length to None to pad to the maximal input size of the model (e.g. 512 for Bert).\n",
      "  warnings.warn(\n"
     ]
    },
    {
     "name": "stdout",
     "output_type": "stream",
     "text": [
      "Training Loss per 5000 steps: 1.1750428676605225\n",
      "Training Accuracy per 5000 steps: 0.0\n",
      "The Total Accuracy for Epoch 1: 67.94871794871794\n",
      "Training Loss Epoch: 0.7852037012577057\n",
      "Training Accuracy Epoch: 67.94871794871794\n",
      "-------------------------------\n",
      "Training Loss per 5000 steps: 0.5979601740837097\n",
      "Training Accuracy per 5000 steps: 75.0\n",
      "The Total Accuracy for Epoch 2: 76.06837606837607\n",
      "Training Loss Epoch: 0.5954968720674515\n",
      "Training Accuracy Epoch: 76.06837606837607\n",
      "-------------------------------\n",
      "Training Loss per 5000 steps: 0.6749432682991028\n",
      "Training Accuracy per 5000 steps: 62.5\n",
      "The Total Accuracy for Epoch 3: 76.06837606837607\n",
      "Training Loss Epoch: 0.5660668214162191\n",
      "Training Accuracy Epoch: 76.06837606837607\n",
      "-------------------------------\n",
      "Training Loss per 5000 steps: 0.24870336055755615\n",
      "Training Accuracy per 5000 steps: 100.0\n",
      "The Total Accuracy for Epoch 1: 76.06837606837607\n",
      "Training Loss Epoch: 0.5979468713204066\n",
      "Training Accuracy Epoch: 76.06837606837607\n",
      "-------------------------------\n",
      "Training Loss per 5000 steps: 0.5472630262374878\n",
      "Training Accuracy per 5000 steps: 75.0\n",
      "The Total Accuracy for Epoch 2: 76.06837606837607\n",
      "Training Loss Epoch: 0.5551319301128388\n",
      "Training Accuracy Epoch: 76.06837606837607\n",
      "-------------------------------\n",
      "Training Loss per 5000 steps: 0.5494884848594666\n",
      "Training Accuracy per 5000 steps: 75.0\n",
      "The Total Accuracy for Epoch 3: 76.4957264957265\n",
      "Training Loss Epoch: 0.5010807141661644\n",
      "Training Accuracy Epoch: 76.4957264957265\n",
      "-------------------------------\n",
      "Training Loss per 5000 steps: 0.5820130109786987\n",
      "Training Accuracy per 5000 steps: 75.0\n",
      "The Total Accuracy for Epoch 1: 80.34188034188034\n",
      "Training Loss Epoch: 0.45144352316856384\n",
      "Training Accuracy Epoch: 80.34188034188034\n",
      "-------------------------------\n",
      "Training Loss per 5000 steps: 0.35394904017448425\n",
      "Training Accuracy per 5000 steps: 87.5\n",
      "The Total Accuracy for Epoch 2: 83.76068376068376\n",
      "Training Loss Epoch: 0.35594805603226026\n",
      "Training Accuracy Epoch: 83.76068376068376\n",
      "-------------------------------\n",
      "Training Loss per 5000 steps: 0.33505770564079285\n",
      "Training Accuracy per 5000 steps: 87.5\n",
      "The Total Accuracy for Epoch 3: 89.74358974358974\n",
      "Training Loss Epoch: 0.25839615762233736\n",
      "Training Accuracy Epoch: 89.74358974358974\n",
      "-------------------------------\n",
      "Training Loss per 5000 steps: 0.18371644616127014\n",
      "Training Accuracy per 5000 steps: 100.0\n",
      "The Total Accuracy for Epoch 1: 95.72649572649573\n",
      "Training Loss Epoch: 0.1600412752479315\n",
      "Training Accuracy Epoch: 95.72649572649573\n",
      "-------------------------------\n",
      "Training Loss per 5000 steps: 0.05405052751302719\n",
      "Training Accuracy per 5000 steps: 100.0\n",
      "The Total Accuracy for Epoch 2: 99.14529914529915\n",
      "Training Loss Epoch: 0.06339866363753875\n",
      "Training Accuracy Epoch: 99.14529914529915\n",
      "-------------------------------\n",
      "Training Loss per 5000 steps: 0.11805513501167297\n",
      "Training Accuracy per 5000 steps: 100.0\n",
      "The Total Accuracy for Epoch 3: 99.57264957264957\n",
      "Training Loss Epoch: 0.03563667045285304\n",
      "Training Accuracy Epoch: 99.57264957264957\n",
      "-------------------------------\n",
      "Training Loss per 5000 steps: 0.19474361836910248\n",
      "Training Accuracy per 5000 steps: 87.5\n",
      "The Total Accuracy for Epoch 1: 99.14529914529915\n",
      "Training Loss Epoch: 0.03188020468999942\n",
      "Training Accuracy Epoch: 99.14529914529915\n",
      "-------------------------------\n",
      "Training Loss per 5000 steps: 0.028544072061777115\n",
      "Training Accuracy per 5000 steps: 100.0\n",
      "The Total Accuracy for Epoch 2: 94.87179487179488\n",
      "Training Loss Epoch: 0.09687275768568118\n",
      "Training Accuracy Epoch: 94.87179487179488\n",
      "-------------------------------\n",
      "Training Loss per 5000 steps: 0.05083457753062248\n",
      "Training Accuracy per 5000 steps: 100.0\n",
      "The Total Accuracy for Epoch 3: 100.0\n",
      "Training Loss Epoch: 0.028322945442050697\n",
      "Training Accuracy Epoch: 100.0\n",
      "-------------------------------\n",
      "Round: 1... \tAverage Loss: 0.278\n",
      "Round: 1... \tAverage Accuracy: 88.376\n",
      "Training Loss per 5000 steps: 0.34879010915756226\n",
      "Training Accuracy per 5000 steps: 87.5\n",
      "The Total Accuracy for Epoch 1: 97.43589743589743\n",
      "Training Loss Epoch: 0.11350733879953623\n",
      "Training Accuracy Epoch: 97.43589743589743\n",
      "-------------------------------\n",
      "Training Loss per 5000 steps: 0.0985008254647255\n",
      "Training Accuracy per 5000 steps: 100.0\n",
      "The Total Accuracy for Epoch 2: 95.72649572649573\n",
      "Training Loss Epoch: 0.12507993128771583\n",
      "Training Accuracy Epoch: 95.72649572649573\n",
      "-------------------------------\n",
      "Training Loss per 5000 steps: 0.08813130855560303\n",
      "Training Accuracy per 5000 steps: 100.0\n",
      "The Total Accuracy for Epoch 3: 98.2905982905983\n",
      "Training Loss Epoch: 0.06326039011279742\n",
      "Training Accuracy Epoch: 98.2905982905983\n",
      "-------------------------------\n",
      "Training Loss per 5000 steps: 0.01718951389193535\n",
      "Training Accuracy per 5000 steps: 100.0\n",
      "The Total Accuracy for Epoch 1: 99.57264957264957\n",
      "Training Loss Epoch: 0.028437601091961067\n",
      "Training Accuracy Epoch: 99.57264957264957\n",
      "-------------------------------\n",
      "Training Loss per 5000 steps: 0.01082991249859333\n",
      "Training Accuracy per 5000 steps: 100.0\n",
      "The Total Accuracy for Epoch 2: 99.14529914529915\n",
      "Training Loss Epoch: 0.03451333126674096\n",
      "Training Accuracy Epoch: 99.14529914529915\n",
      "-------------------------------\n",
      "Training Loss per 5000 steps: 0.011835628189146519\n",
      "Training Accuracy per 5000 steps: 100.0\n",
      "The Total Accuracy for Epoch 3: 99.14529914529915\n",
      "Training Loss Epoch: 0.04292173356128236\n",
      "Training Accuracy Epoch: 99.14529914529915\n",
      "-------------------------------\n",
      "Training Loss per 5000 steps: 0.004958870820701122\n",
      "Training Accuracy per 5000 steps: 100.0\n",
      "The Total Accuracy for Epoch 1: 97.43589743589743\n",
      "Training Loss Epoch: 0.08641402026017507\n",
      "Training Accuracy Epoch: 97.43589743589743\n",
      "-------------------------------\n",
      "Training Loss per 5000 steps: 0.014291300438344479\n",
      "Training Accuracy per 5000 steps: 100.0\n",
      "The Total Accuracy for Epoch 2: 99.57264957264957\n",
      "Training Loss Epoch: 0.015841503798340758\n",
      "Training Accuracy Epoch: 99.57264957264957\n",
      "-------------------------------\n",
      "Training Loss per 5000 steps: 0.00743945362046361\n",
      "Training Accuracy per 5000 steps: 100.0\n",
      "The Total Accuracy for Epoch 3: 100.0\n",
      "Training Loss Epoch: 0.013933349998357396\n",
      "Training Accuracy Epoch: 100.0\n",
      "-------------------------------\n",
      "Training Loss per 5000 steps: 0.007030261214822531\n",
      "Training Accuracy per 5000 steps: 100.0\n",
      "The Total Accuracy for Epoch 1: 100.0\n",
      "Training Loss Epoch: 0.006810787211482723\n",
      "Training Accuracy Epoch: 100.0\n",
      "-------------------------------\n",
      "Training Loss per 5000 steps: 0.005204937886446714\n",
      "Training Accuracy per 5000 steps: 100.0\n",
      "The Total Accuracy for Epoch 2: 100.0\n",
      "Training Loss Epoch: 0.005125400874142845\n",
      "Training Accuracy Epoch: 100.0\n",
      "-------------------------------\n",
      "Training Loss per 5000 steps: 0.0026009511202573776\n",
      "Training Accuracy per 5000 steps: 100.0\n",
      "The Total Accuracy for Epoch 3: 100.0\n",
      "Training Loss Epoch: 0.005165608716197312\n",
      "Training Accuracy Epoch: 100.0\n",
      "-------------------------------\n",
      "Training Loss per 5000 steps: 0.0028048669919371605\n",
      "Training Accuracy per 5000 steps: 100.0\n",
      "The Total Accuracy for Epoch 1: 100.0\n",
      "Training Loss Epoch: 0.004166800901293755\n",
      "Training Accuracy Epoch: 100.0\n",
      "-------------------------------\n",
      "Training Loss per 5000 steps: 0.0038520731031894684\n",
      "Training Accuracy per 5000 steps: 100.0\n",
      "The Total Accuracy for Epoch 2: 100.0\n",
      "Training Loss Epoch: 0.003367664540807406\n",
      "Training Accuracy Epoch: 100.0\n",
      "-------------------------------\n",
      "Training Loss per 5000 steps: 0.005335942376405001\n",
      "Training Accuracy per 5000 steps: 100.0\n",
      "The Total Accuracy for Epoch 3: 100.0\n",
      "Training Loss Epoch: 0.0031832668115384876\n",
      "Training Accuracy Epoch: 100.0\n",
      "-------------------------------\n",
      "Round: 2... \tAverage Loss: 0.026\n",
      "Round: 2... \tAverage Accuracy: 99.487\n",
      "Training Loss per 5000 steps: 0.007266017142683268\n",
      "Training Accuracy per 5000 steps: 100.0\n",
      "The Total Accuracy for Epoch 1: 100.0\n",
      "Training Loss Epoch: 0.0071138195848713314\n",
      "Training Accuracy Epoch: 100.0\n",
      "-------------------------------\n",
      "Training Loss per 5000 steps: 0.007634598296135664\n",
      "Training Accuracy per 5000 steps: 100.0\n",
      "The Total Accuracy for Epoch 2: 100.0\n",
      "Training Loss Epoch: 0.005765846169864138\n",
      "Training Accuracy Epoch: 100.0\n",
      "-------------------------------\n",
      "Training Loss per 5000 steps: 0.004684580024331808\n",
      "Training Accuracy per 5000 steps: 100.0\n",
      "The Total Accuracy for Epoch 3: 100.0\n",
      "Training Loss Epoch: 0.00458523475099355\n",
      "Training Accuracy Epoch: 100.0\n",
      "-------------------------------\n",
      "Training Loss per 5000 steps: 0.004901054315268993\n",
      "Training Accuracy per 5000 steps: 100.0\n",
      "The Total Accuracy for Epoch 1: 100.0\n",
      "Training Loss Epoch: 0.003878410463221371\n",
      "Training Accuracy Epoch: 100.0\n",
      "-------------------------------\n",
      "Training Loss per 5000 steps: 0.0036987201310694218\n",
      "Training Accuracy per 5000 steps: 100.0\n",
      "The Total Accuracy for Epoch 2: 100.0\n",
      "Training Loss Epoch: 0.0033022257033735515\n",
      "Training Accuracy Epoch: 100.0\n",
      "-------------------------------\n",
      "Training Loss per 5000 steps: 0.003690053941681981\n",
      "Training Accuracy per 5000 steps: 100.0\n",
      "The Total Accuracy for Epoch 3: 100.0\n",
      "Training Loss Epoch: 0.003298195358365774\n",
      "Training Accuracy Epoch: 100.0\n",
      "-------------------------------\n",
      "Training Loss per 5000 steps: 0.0032248971983790398\n",
      "Training Accuracy per 5000 steps: 100.0\n",
      "The Total Accuracy for Epoch 1: 100.0\n",
      "Training Loss Epoch: 0.0028758839898121854\n",
      "Training Accuracy Epoch: 100.0\n",
      "-------------------------------\n",
      "Training Loss per 5000 steps: 0.0023254367988556623\n",
      "Training Accuracy per 5000 steps: 100.0\n",
      "The Total Accuracy for Epoch 2: 100.0\n",
      "Training Loss Epoch: 0.0025489380738387504\n",
      "Training Accuracy Epoch: 100.0\n",
      "-------------------------------\n",
      "Training Loss per 5000 steps: 0.0025918276514858007\n",
      "Training Accuracy per 5000 steps: 100.0\n",
      "The Total Accuracy for Epoch 3: 100.0\n",
      "Training Loss Epoch: 0.002338352163011829\n",
      "Training Accuracy Epoch: 100.0\n",
      "-------------------------------\n",
      "Training Loss per 5000 steps: 0.001622468582354486\n",
      "Training Accuracy per 5000 steps: 100.0\n",
      "The Total Accuracy for Epoch 1: 100.0\n",
      "Training Loss Epoch: 0.0021828240055280427\n",
      "Training Accuracy Epoch: 100.0\n",
      "-------------------------------\n",
      "Training Loss per 5000 steps: 0.002513449639081955\n",
      "Training Accuracy per 5000 steps: 100.0\n",
      "The Total Accuracy for Epoch 2: 100.0\n",
      "Training Loss Epoch: 0.0021234899177215993\n",
      "Training Accuracy Epoch: 100.0\n",
      "-------------------------------\n",
      "Training Loss per 5000 steps: 0.002192980144172907\n",
      "Training Accuracy per 5000 steps: 100.0\n",
      "The Total Accuracy for Epoch 3: 100.0\n",
      "Training Loss Epoch: 0.0018077948479913175\n",
      "Training Accuracy Epoch: 100.0\n",
      "-------------------------------\n",
      "Training Loss per 5000 steps: 0.001832346199080348\n",
      "Training Accuracy per 5000 steps: 100.0\n",
      "The Total Accuracy for Epoch 1: 100.0\n",
      "Training Loss Epoch: 0.0017204723980588218\n",
      "Training Accuracy Epoch: 100.0\n",
      "-------------------------------\n",
      "Training Loss per 5000 steps: 0.0017048772424459457\n",
      "Training Accuracy per 5000 steps: 100.0\n",
      "The Total Accuracy for Epoch 2: 100.0\n",
      "Training Loss Epoch: 0.0016463095632692178\n",
      "Training Accuracy Epoch: 100.0\n",
      "-------------------------------\n",
      "Training Loss per 5000 steps: 0.002489035250619054\n",
      "Training Accuracy per 5000 steps: 100.0\n",
      "The Total Accuracy for Epoch 3: 100.0\n",
      "Training Loss Epoch: 0.001503313850844279\n",
      "Training Accuracy Epoch: 100.0\n",
      "-------------------------------\n",
      "Round: 3... \tAverage Loss: 0.003\n",
      "Round: 3... \tAverage Accuracy: 100.0\n",
      "Training Done!\n",
      "Total time taken to Train: 433.29337191581726\n"
     ]
    },
    {
     "data": {
      "image/png": "[encoded data removed]",
      "text/plain": [
       "<Figure size 640x480 with 1 Axes>"
      ]
     },
     "metadata": {},
     "output_type": "display_data"
    }
   ],
   "source": [
    "# number of training rounds\n",
    "rounds = 3\n",
    "# client fraction\n",
    "C = 0.5\n",
    "# number of clients\n",
    "K = 10\n",
    "# number of training passes on local dataset for each round\n",
    "E = 3\n",
    "# batch size\n",
    "batch_size = 10\n",
    "# learning Rate\n",
    "lr=1e-05\n",
    "# dict containing different type of data partition\n",
    "data_dict = iid_partition(training_set, 10)\n",
    "d={}\n",
    "\n",
    "loss_function = torch.nn.CrossEntropyLoss()\n",
    "\n",
    "if torch.cuda.is_available():\n",
    "  model.cuda()\n",
    "\n",
    "roberta_iid_trained,train_acc = training(model, rounds, train_dataset, data_dict, loss_function, lr, C, K, E, \"orange\")"
   ]
  },
  {
   "cell_type": "code",
   "execution_count": 32,
   "metadata": {
    "executionInfo": {
     "elapsed": 13,
     "status": "ok",
     "timestamp": 1655739299513,
     "user": {
      "displayName": "Milandu Keith Moussavou Boussougou",
      "userId": "16125998280788005643"
     },
     "user_tz": -540
    },
    "id": "c6TxASf-2aK5"
   },
   "outputs": [],
   "source": [
    "def calcuate_accuracy(big_idx, targets):\n",
    "  n_correct = (big_idx==targets).sum().item()\n",
    "  return n_correct"
   ]
  },
  {
   "cell_type": "code",
   "execution_count": 33,
   "metadata": {
    "executionInfo": {
     "elapsed": 12,
     "status": "ok",
     "timestamp": 1655739299513,
     "user": {
      "displayName": "Milandu Keith Moussavou Boussougou",
      "userId": "16125998280788005643"
     },
     "user_tz": -540
    },
    "id": "KfihyQ6Btb7I"
   },
   "outputs": [],
   "source": [
    "#Testing the trained model\n",
    "\n",
    "def valid(model, testing_loader, loss_function):\n",
    "    model.eval()\n",
    "    n_correct = 0; n_wrong = 0; total = 0; tr_loss=0; nb_tr_steps=0; nb_tr_examples=0\n",
    "    with torch.no_grad():\n",
    "        for _, data in tqdm(enumerate(testing_loader, 0)):\n",
    "            ids = data['ids'].to(device, dtype = torch.long)\n",
    "            mask = data['mask'].to(device, dtype = torch.long)\n",
    "            token_type_ids = data['token_type_ids'].to(device, dtype=torch.long)\n",
    "            targets = data['targets'].to(device, dtype = torch.long)\n",
    "            outputs = model(ids, mask, token_type_ids)\n",
    "            loss = loss_function(outputs, targets)\n",
    "            tr_loss += loss.item()\n",
    "            big_val, big_idx = torch.max(outputs.data, dim=1)\n",
    "            n_correct += calcuate_accuracy(big_idx, targets)\n",
    "\n",
    "            nb_tr_steps += 1\n",
    "            nb_tr_examples+=targets.size(0)\n",
    "            \n",
    "            if _%5000==0:\n",
    "                loss_step = tr_loss/nb_tr_steps\n",
    "                accu_step = (n_correct*100)/nb_tr_examples\n",
    "                print(f\"Validation Loss per 100 steps: {loss_step}\")\n",
    "                print(f\"Validation Accuracy per 100 steps: {accu_step}\")\n",
    "    epoch_loss = tr_loss/nb_tr_steps\n",
    "    epoch_accu = (n_correct*100)/nb_tr_examples\n",
    "    print(f\"Validation Loss Epoch: {epoch_loss}\")\n",
    "    print(f\"Validation Accuracy Epoch: {epoch_accu}\")\n",
    "    \n",
    "    return epoch_accu\n"
   ]
  },
  {
   "cell_type": "code",
   "execution_count": 34,
   "metadata": {
    "colab": {
     "base_uri": "https://localhost:8080/"
    },
    "executionInfo": {
     "elapsed": 79231,
     "status": "ok",
     "timestamp": 1655739378732,
     "user": {
      "displayName": "Milandu Keith Moussavou Boussougou",
      "userId": "16125998280788005643"
     },
     "user_tz": -540
    },
    "id": "DEWigxtmVCKn",
    "outputId": "7091214a-935f-488d-d0bb-fd30e9fd6ac2"
   },
   "outputs": [
    {
     "name": "stdout",
     "output_type": "stream",
     "text": [
      "This is the validation section to print the accuracy and see how it performs\n",
      "Here we are leveraging on the dataloader crearted for the validation dataset, the approcah is using more of pytorch\n"
     ]
    },
    {
     "name": "stderr",
     "output_type": "stream",
     "text": [
      "1it [00:00,  2.70it/s]"
     ]
    },
    {
     "name": "stdout",
     "output_type": "stream",
     "text": [
      "Validation Loss per 100 steps: 0.0003836342948488891\n",
      "Validation Accuracy per 100 steps: 100.0\n"
     ]
    },
    {
     "name": "stderr",
     "output_type": "stream",
     "text": [
      "293it [01:19,  3.69it/s]"
     ]
    },
    {
     "name": "stdout",
     "output_type": "stream",
     "text": [
      "Validation Loss Epoch: 0.38199475074460876\n",
      "Validation Accuracy Epoch: 94.01709401709402\n",
      "Accuracy on test data = 94.02%\n"
     ]
    },
    {
     "name": "stderr",
     "output_type": "stream",
     "text": [
      "\n"
     ]
    }
   ],
   "source": [
    "import pickle\n",
    "print('This is the validation section to print the accuracy and see how it performs')\n",
    "print('Here we are leveraging on the dataloader crearted for the validation dataset, the approcah is using more of pytorch')\n",
    "\n",
    "acc = valid(roberta_iid_trained, testing_loader, loss_function)\n",
    "print(\"Accuracy on test data = %0.2f%%\" % acc)\n",
    "\n",
    "d['train_acc'] = train_acc\n",
    "d['test_acc'] = acc\n",
    "\n",
    "\n",
    "# with open(f'/content/drive/My Drive/RoBERTa/Sexual_Harassment/FLRoBERTa_Harassment_eps0_5.pkl', 'wb') as file:\n",
    "#   pickle.dump(d, file)"
   ]
  },
  {
   "cell_type": "code",
   "execution_count": 40,
   "metadata": {
    "colab": {
     "base_uri": "https://localhost:8080/",
     "height": 1000
    },
    "executionInfo": {
     "elapsed": 2157270,
     "status": "ok",
     "timestamp": 1655742271831,
     "user": {
      "displayName": "Milandu Keith Moussavou Boussougou",
      "userId": "16125998280788005643"
     },
     "user_tz": -540
    },
    "id": "BHqCfKs1zP-t",
    "outputId": "c610c17b-3bd5-4666-c5ce-664cc9a4d6a6"
   },
   "outputs": [
    {
     "name": "stdout",
     "output_type": "stream",
     "text": [
      "Training Loss per 5000 steps: 5.125979896547506e-06\n",
      "Training Accuracy per 5000 steps: 100.0\n",
      "The Total Accuracy for Epoch 1: 100.0\n",
      "Training Loss Epoch: 5.35690192009497e-06\n",
      "Training Accuracy Epoch: 100.0\n",
      "-------------------------------\n",
      "Training Loss per 5000 steps: 4.827954398933798e-06\n",
      "Training Accuracy per 5000 steps: 100.0\n",
      "The Total Accuracy for Epoch 2: 98.2905982905983\n",
      "Training Loss Epoch: 0.05865370088530616\n",
      "Training Accuracy Epoch: 98.2905982905983\n",
      "-------------------------------\n",
      "Training Loss per 5000 steps: 2.3990833142306656e-06\n",
      "Training Accuracy per 5000 steps: 100.0\n",
      "The Total Accuracy for Epoch 3: 99.14529914529915\n",
      "Training Loss Epoch: 0.06294246488326204\n",
      "Training Accuracy Epoch: 99.14529914529915\n",
      "-------------------------------\n",
      "Training Loss per 5000 steps: 0.0011165939504280686\n",
      "Training Accuracy per 5000 steps: 100.0\n",
      "The Total Accuracy for Epoch 1: 99.14529914529915\n",
      "Training Loss Epoch: 0.05480180882305679\n",
      "Training Accuracy Epoch: 99.14529914529915\n",
      "-------------------------------\n",
      "Training Loss per 5000 steps: 3.4329415939282626e-05\n",
      "Training Accuracy per 5000 steps: 100.0\n",
      "The Total Accuracy for Epoch 2: 100.0\n",
      "Training Loss Epoch: 0.0028892714169766504\n",
      "Training Accuracy Epoch: 100.0\n",
      "-------------------------------\n",
      "Training Loss per 5000 steps: 4.35396796092391e-05\n",
      "Training Accuracy per 5000 steps: 100.0\n",
      "The Total Accuracy for Epoch 3: 100.0\n",
      "Training Loss Epoch: 1.715962606188744e-05\n",
      "Training Accuracy Epoch: 100.0\n",
      "-------------------------------\n",
      "Training Loss per 5000 steps: 8.195588634407613e-06\n",
      "Training Accuracy per 5000 steps: 100.0\n",
      "The Total Accuracy for Epoch 1: 100.0\n",
      "Training Loss Epoch: 1.8891046829594414e-05\n",
      "Training Accuracy Epoch: 100.0\n",
      "-------------------------------\n",
      "Training Loss per 5000 steps: 3.161849235766567e-05\n",
      "Training Accuracy per 5000 steps: 100.0\n",
      "The Total Accuracy for Epoch 2: 100.0\n",
      "Training Loss Epoch: 1.3548825063480762e-05\n",
      "Training Accuracy Epoch: 100.0\n",
      "-------------------------------\n",
      "Training Loss per 5000 steps: 1.0207201739831362e-05\n",
      "Training Accuracy per 5000 steps: 100.0\n",
      "The Total Accuracy for Epoch 3: 100.0\n",
      "Training Loss Epoch: 2.20394102143473e-05\n",
      "Training Accuracy Epoch: 100.0\n",
      "-------------------------------\n",
      "Training Loss per 5000 steps: 4.649142738344381e-06\n",
      "Training Accuracy per 5000 steps: 100.0\n",
      "The Total Accuracy for Epoch 1: 100.0\n",
      "Training Loss Epoch: 1.9135591537633444e-05\n",
      "Training Accuracy Epoch: 100.0\n",
      "-------------------------------\n",
      "Training Loss per 5000 steps: 1.810456524253823e-05\n",
      "Training Accuracy per 5000 steps: 100.0\n",
      "The Total Accuracy for Epoch 2: 100.0\n",
      "Training Loss Epoch: 3.88931384653309e-05\n",
      "Training Accuracy Epoch: 100.0\n",
      "-------------------------------\n",
      "Training Loss per 5000 steps: 6.839597517682705e-06\n",
      "Training Accuracy per 5000 steps: 100.0\n",
      "The Total Accuracy for Epoch 3: 100.0\n",
      "Training Loss Epoch: 2.055143478780034e-05\n",
      "Training Accuracy Epoch: 100.0\n",
      "-------------------------------\n",
      "Training Loss per 5000 steps: 9.924067853717133e-06\n",
      "Training Accuracy per 5000 steps: 100.0\n",
      "The Total Accuracy for Epoch 1: 100.0\n",
      "Training Loss Epoch: 1.22658428002372e-05\n",
      "Training Accuracy Epoch: 100.0\n",
      "-------------------------------\n",
      "Training Loss per 5000 steps: 2.4138875232893042e-05\n",
      "Training Accuracy per 5000 steps: 100.0\n",
      "The Total Accuracy for Epoch 2: 100.0\n",
      "Training Loss Epoch: 2.431355850755305e-05\n",
      "Training Accuracy Epoch: 100.0\n",
      "-------------------------------\n",
      "Training Loss per 5000 steps: 1.0877766726480331e-05\n",
      "Training Accuracy per 5000 steps: 100.0\n",
      "The Total Accuracy for Epoch 3: 100.0\n",
      "Training Loss Epoch: 2.1310697123529585e-05\n",
      "Training Accuracy Epoch: 100.0\n",
      "-------------------------------\n",
      "Round: 1... \tAverage Loss: 0.013\n",
      "Round: 1... \tAverage Accuracy: 99.829\n",
      "Training Loss per 5000 steps: 9.477026651438791e-06\n",
      "Training Accuracy per 5000 steps: 100.0\n",
      "The Total Accuracy for Epoch 1: 99.57264957264957\n",
      "Training Loss Epoch: 0.0036082319456530363\n",
      "Training Accuracy Epoch: 99.57264957264957\n",
      "-------------------------------\n",
      "Training Loss per 5000 steps: 1.4498586097033694e-05\n",
      "Training Accuracy per 5000 steps: 100.0\n",
      "The Total Accuracy for Epoch 2: 99.57264957264957\n",
      "Training Loss Epoch: 0.02273033318618521\n",
      "Training Accuracy Epoch: 99.57264957264957\n",
      "-------------------------------\n",
      "Training Loss per 5000 steps: 4.371710747363977e-05\n",
      "Training Accuracy per 5000 steps: 100.0\n",
      "The Total Accuracy for Epoch 3: 99.57264957264957\n",
      "Training Loss Epoch: 0.014902588311527628\n",
      "Training Accuracy Epoch: 99.57264957264957\n",
      "-------------------------------\n",
      "Training Loss per 5000 steps: 4.781592360814102e-05\n",
      "Training Accuracy per 5000 steps: 100.0\n",
      "The Total Accuracy for Epoch 1: 99.57264957264957\n",
      "Training Loss Epoch: 0.00525042828048754\n",
      "Training Accuracy Epoch: 99.57264957264957\n",
      "-------------------------------\n",
      "Training Loss per 5000 steps: 0.0001906507386593148\n",
      "Training Accuracy per 5000 steps: 100.0\n",
      "The Total Accuracy for Epoch 2: 100.0\n",
      "Training Loss Epoch: 0.0005766350968163654\n",
      "Training Accuracy Epoch: 100.0\n",
      "-------------------------------\n",
      "Training Loss per 5000 steps: 0.0003231230075471103\n",
      "Training Accuracy per 5000 steps: 100.0\n",
      "The Total Accuracy for Epoch 3: 100.0\n",
      "Training Loss Epoch: 0.0011286626541429238\n",
      "Training Accuracy Epoch: 100.0\n",
      "-------------------------------\n",
      "Training Loss per 5000 steps: 2.0830853827646933e-05\n",
      "Training Accuracy per 5000 steps: 100.0\n",
      "The Total Accuracy for Epoch 1: 100.0\n",
      "Training Loss Epoch: 7.173429867179948e-05\n",
      "Training Accuracy Epoch: 100.0\n",
      "-------------------------------\n",
      "Training Loss per 5000 steps: 1.3127651982358657e-05\n",
      "Training Accuracy per 5000 steps: 100.0\n",
      "The Total Accuracy for Epoch 2: 100.0\n",
      "Training Loss Epoch: 5.3770782536351665e-05\n",
      "Training Accuracy Epoch: 100.0\n",
      "-------------------------------\n",
      "Training Loss per 5000 steps: 3.9351409213850275e-05\n",
      "Training Accuracy per 5000 steps: 100.0\n",
      "The Total Accuracy for Epoch 3: 100.0\n",
      "Training Loss Epoch: 4.9324492753536715e-05\n",
      "Training Accuracy Epoch: 100.0\n",
      "-------------------------------\n",
      "Training Loss per 5000 steps: 2.753668559307698e-05\n",
      "Training Accuracy per 5000 steps: 100.0\n",
      "The Total Accuracy for Epoch 1: 100.0\n",
      "Training Loss Epoch: 4.6992611760288125e-05\n",
      "Training Accuracy Epoch: 100.0\n",
      "-------------------------------\n",
      "Training Loss per 5000 steps: 1.83874653885141e-05\n",
      "Training Accuracy per 5000 steps: 100.0\n",
      "The Total Accuracy for Epoch 2: 100.0\n",
      "Training Loss Epoch: 6.108201325029464e-05\n",
      "Training Accuracy Epoch: 100.0\n",
      "-------------------------------\n",
      "Training Loss per 5000 steps: 5.244697240414098e-05\n",
      "Training Accuracy per 5000 steps: 100.0\n",
      "The Total Accuracy for Epoch 3: 100.0\n",
      "Training Loss Epoch: 4.7291682615953805e-05\n",
      "Training Accuracy Epoch: 100.0\n",
      "-------------------------------\n",
      "Training Loss per 5000 steps: 3.3570933737792075e-05\n",
      "Training Accuracy per 5000 steps: 100.0\n",
      "The Total Accuracy for Epoch 1: 100.0\n",
      "Training Loss Epoch: 3.506618606176441e-05\n",
      "Training Accuracy Epoch: 100.0\n",
      "-------------------------------\n",
      "Training Loss per 5000 steps: 9.50686626310926e-06\n",
      "Training Accuracy per 5000 steps: 100.0\n",
      "The Total Accuracy for Epoch 2: 100.0\n",
      "Training Loss Epoch: 4.06250292447415e-05\n",
      "Training Accuracy Epoch: 100.0\n",
      "-------------------------------\n",
      "Training Loss per 5000 steps: 1.38429877551971e-05\n",
      "Training Accuracy per 5000 steps: 100.0\n",
      "The Total Accuracy for Epoch 3: 100.0\n",
      "Training Loss Epoch: 3.417078472314946e-05\n",
      "Training Accuracy Epoch: 100.0\n",
      "-------------------------------\n",
      "Round: 2... \tAverage Loss: 0.003\n",
      "Round: 2... \tAverage Accuracy: 99.915\n",
      "Training Loss per 5000 steps: 5.444153430289589e-05\n",
      "Training Accuracy per 5000 steps: 100.0\n",
      "The Total Accuracy for Epoch 1: 100.0\n",
      "Training Loss Epoch: 0.0001667838074051057\n",
      "Training Accuracy Epoch: 100.0\n",
      "-------------------------------\n",
      "Training Loss per 5000 steps: 1.8536469724494964e-05\n",
      "Training Accuracy per 5000 steps: 100.0\n",
      "The Total Accuracy for Epoch 2: 100.0\n",
      "Training Loss Epoch: 6.352958741141871e-05\n",
      "Training Accuracy Epoch: 100.0\n",
      "-------------------------------\n",
      "Training Loss per 5000 steps: 1.659931876929477e-05\n",
      "Training Accuracy per 5000 steps: 100.0\n",
      "The Total Accuracy for Epoch 3: 100.0\n",
      "Training Loss Epoch: 3.9829279891516005e-05\n",
      "Training Accuracy Epoch: 100.0\n",
      "-------------------------------\n",
      "Training Loss per 5000 steps: 2.829534605552908e-05\n",
      "Training Accuracy per 5000 steps: 100.0\n",
      "The Total Accuracy for Epoch 1: 100.0\n",
      "Training Loss Epoch: 3.5023253834272815e-05\n",
      "Training Accuracy Epoch: 100.0\n",
      "-------------------------------\n",
      "Training Loss per 5000 steps: 0.00010199864482274279\n",
      "Training Accuracy per 5000 steps: 100.0\n",
      "The Total Accuracy for Epoch 2: 100.0\n",
      "Training Loss Epoch: 4.052060782366122e-05\n",
      "Training Accuracy Epoch: 100.0\n",
      "-------------------------------\n",
      "Training Loss per 5000 steps: 6.318041869235458e-06\n",
      "Training Accuracy per 5000 steps: 100.0\n",
      "The Total Accuracy for Epoch 3: 100.0\n",
      "Training Loss Epoch: 3.119294898776085e-05\n",
      "Training Accuracy Epoch: 100.0\n",
      "-------------------------------\n",
      "Training Loss per 5000 steps: 6.521543400594965e-05\n",
      "Training Accuracy per 5000 steps: 100.0\n",
      "The Total Accuracy for Epoch 1: 100.0\n",
      "Training Loss Epoch: 2.7395220566480324e-05\n",
      "Training Accuracy Epoch: 100.0\n",
      "-------------------------------\n",
      "Training Loss per 5000 steps: 3.798093166551553e-05\n",
      "Training Accuracy per 5000 steps: 100.0\n",
      "The Total Accuracy for Epoch 2: 100.0\n",
      "Training Loss Epoch: 0.00010658691671020885\n",
      "Training Accuracy Epoch: 100.0\n",
      "-------------------------------\n",
      "Training Loss per 5000 steps: 2.746129575825762e-05\n",
      "Training Accuracy per 5000 steps: 100.0\n",
      "The Total Accuracy for Epoch 3: 100.0\n",
      "Training Loss Epoch: 2.1074363288183426e-05\n",
      "Training Accuracy Epoch: 100.0\n",
      "-------------------------------\n",
      "Training Loss per 5000 steps: 4.261131471139379e-05\n",
      "Training Accuracy per 5000 steps: 100.0\n",
      "The Total Accuracy for Epoch 1: 100.0\n",
      "Training Loss Epoch: 1.956117487983041e-05\n",
      "Training Accuracy Epoch: 100.0\n",
      "-------------------------------\n",
      "Training Loss per 5000 steps: 8.374390745302662e-06\n",
      "Training Accuracy per 5000 steps: 100.0\n",
      "The Total Accuracy for Epoch 2: 100.0\n",
      "Training Loss Epoch: 1.7324601560630982e-05\n",
      "Training Accuracy Epoch: 100.0\n",
      "-------------------------------\n",
      "Training Loss per 5000 steps: 8.865961717674509e-06\n",
      "Training Accuracy per 5000 steps: 100.0\n",
      "The Total Accuracy for Epoch 3: 100.0\n",
      "Training Loss Epoch: 2.0279489444874343e-05\n",
      "Training Accuracy Epoch: 100.0\n",
      "-------------------------------\n",
      "Training Loss per 5000 steps: 5.4905634897295386e-05\n",
      "Training Accuracy per 5000 steps: 100.0\n",
      "The Total Accuracy for Epoch 1: 100.0\n",
      "Training Loss Epoch: 2.5712974502312135e-05\n",
      "Training Accuracy Epoch: 100.0\n",
      "-------------------------------\n",
      "Training Loss per 5000 steps: 7.659133189008571e-06\n",
      "Training Accuracy per 5000 steps: 100.0\n",
      "The Total Accuracy for Epoch 2: 100.0\n",
      "Training Loss Epoch: 1.7881037077434788e-05\n",
      "Training Accuracy Epoch: 100.0\n",
      "-------------------------------\n",
      "Training Loss per 5000 steps: 2.890817995648831e-06\n",
      "Training Accuracy per 5000 steps: 100.0\n",
      "The Total Accuracy for Epoch 3: 100.0\n",
      "Training Loss Epoch: 1.7760623336471326e-05\n",
      "Training Accuracy Epoch: 100.0\n",
      "-------------------------------\n",
      "Round: 3... \tAverage Loss: 0.0\n",
      "Round: 3... \tAverage Accuracy: 100.0\n",
      "Training Loss per 5000 steps: 1.1846226698253304e-05\n",
      "Training Accuracy per 5000 steps: 100.0\n",
      "The Total Accuracy for Epoch 1: 100.0\n",
      "Training Loss Epoch: 2.3228691694991237e-05\n",
      "Training Accuracy Epoch: 100.0\n",
      "-------------------------------\n",
      "Training Loss per 5000 steps: 4.023297151434235e-06\n",
      "Training Accuracy per 5000 steps: 100.0\n",
      "The Total Accuracy for Epoch 2: 100.0\n",
      "Training Loss Epoch: 2.2338817855901047e-05\n",
      "Training Accuracy Epoch: 100.0\n",
      "-------------------------------\n",
      "Training Loss per 5000 steps: 4.294227255741134e-05\n",
      "Training Accuracy per 5000 steps: 100.0\n",
      "The Total Accuracy for Epoch 3: 100.0\n",
      "Training Loss Epoch: 2.5705020235970247e-05\n",
      "Training Accuracy Epoch: 100.0\n",
      "-------------------------------\n",
      "Training Loss per 5000 steps: 1.8744645785773173e-05\n",
      "Training Accuracy per 5000 steps: 100.0\n",
      "The Total Accuracy for Epoch 1: 100.0\n",
      "Training Loss Epoch: 1.6886784502882318e-05\n",
      "Training Accuracy Epoch: 100.0\n",
      "-------------------------------\n",
      "Training Loss per 5000 steps: 4.798136615136173e-06\n",
      "Training Accuracy per 5000 steps: 100.0\n",
      "The Total Accuracy for Epoch 2: 100.0\n",
      "Training Loss Epoch: 1.892769595694214e-05\n",
      "Training Accuracy Epoch: 100.0\n",
      "-------------------------------\n",
      "Training Loss per 5000 steps: 1.1652490684355143e-05\n",
      "Training Accuracy per 5000 steps: 100.0\n",
      "The Total Accuracy for Epoch 3: 100.0\n",
      "Training Loss Epoch: 1.781796211920058e-05\n",
      "Training Accuracy Epoch: 100.0\n",
      "-------------------------------\n",
      "Training Loss per 5000 steps: 1.6078125554486178e-05\n",
      "Training Accuracy per 5000 steps: 100.0\n",
      "The Total Accuracy for Epoch 1: 100.0\n",
      "Training Loss Epoch: 1.836344012341821e-05\n",
      "Training Accuracy Epoch: 100.0\n",
      "-------------------------------\n",
      "Training Loss per 5000 steps: 6.258434041228611e-06\n",
      "Training Accuracy per 5000 steps: 100.0\n",
      "The Total Accuracy for Epoch 2: 100.0\n",
      "Training Loss Epoch: 0.000224791464726574\n",
      "Training Accuracy Epoch: 100.0\n",
      "-------------------------------\n",
      "Training Loss per 5000 steps: 6.899173058627639e-06\n",
      "Training Accuracy per 5000 steps: 100.0\n",
      "The Total Accuracy for Epoch 3: 100.0\n",
      "Training Loss Epoch: 1.987213484729485e-05\n",
      "Training Accuracy Epoch: 100.0\n",
      "-------------------------------\n",
      "Training Loss per 5000 steps: 8.732011337997392e-06\n",
      "Training Accuracy per 5000 steps: 100.0\n",
      "The Total Accuracy for Epoch 1: 100.0\n",
      "Training Loss Epoch: 1.4627401509414994e-05\n",
      "Training Accuracy Epoch: 100.0\n",
      "-------------------------------\n",
      "Training Loss per 5000 steps: 7.986931450432166e-06\n",
      "Training Accuracy per 5000 steps: 100.0\n",
      "The Total Accuracy for Epoch 2: 100.0\n",
      "Training Loss Epoch: 7.846794793901306e-06\n",
      "Training Accuracy Epoch: 100.0\n",
      "-------------------------------\n",
      "Training Loss per 5000 steps: 7.584649665659526e-06\n",
      "Training Accuracy per 5000 steps: 100.0\n",
      "The Total Accuracy for Epoch 3: 100.0\n",
      "Training Loss Epoch: 1.0030423698026426e-05\n",
      "Training Accuracy Epoch: 100.0\n",
      "-------------------------------\n",
      "Training Loss per 5000 steps: 2.6641895601642318e-05\n",
      "Training Accuracy per 5000 steps: 100.0\n",
      "The Total Accuracy for Epoch 1: 100.0\n",
      "Training Loss Epoch: 1.0423104815041976e-05\n",
      "Training Accuracy Epoch: 100.0\n",
      "-------------------------------\n",
      "Training Loss per 5000 steps: 8.150821486196946e-06\n",
      "Training Accuracy per 5000 steps: 100.0\n",
      "The Total Accuracy for Epoch 2: 100.0\n",
      "Training Loss Epoch: 2.275030506098119e-05\n",
      "Training Accuracy Epoch: 100.0\n",
      "-------------------------------\n",
      "Training Loss per 5000 steps: 7.510112482123077e-06\n",
      "Training Accuracy per 5000 steps: 100.0\n",
      "The Total Accuracy for Epoch 3: 100.0\n",
      "Training Loss Epoch: 1.0952684116697734e-05\n",
      "Training Accuracy Epoch: 100.0\n",
      "-------------------------------\n",
      "Round: 4... \tAverage Loss: 0.0\n",
      "Round: 4... \tAverage Accuracy: 100.0\n",
      "Training Done!\n",
      "Total time taken to Train: 2156.391621828079\n"
     ]
    },
    {
     "data": {
      "image/png": "[encoded data removed]",
      "text/plain": [
       "<Figure size 432x288 with 1 Axes>"
      ]
     },
     "metadata": {
      "needs_background": "light"
     },
     "output_type": "display_data"
    }
   ],
   "source": [
    "# number of training rounds\n",
    "rounds = 4\n",
    "# client fraction\n",
    "C = 0.5\n",
    "# number of clients\n",
    "K = 10\n",
    "# number of training passes on local dataset for each round\n",
    "E = 3\n",
    "# batch size\n",
    "batch_size = 10\n",
    "# learning Rate\n",
    "lr=1e-05\n",
    "# dict containing different type of data partition\n",
    "data_dict = iid_partition(training_set, 10)\n",
    "d={}\n",
    "\n",
    "loss_function = torch.nn.CrossEntropyLoss()\n",
    "\n",
    "if torch.cuda.is_available():\n",
    "  model.cuda()\n",
    "\n",
    "roberta_iid_trained,train_acc = training(model, rounds, train_dataset, data_dict, loss_function, lr, C, K, E, \"orange\")"
   ]
  },
  {
   "cell_type": "code",
   "execution_count": 44,
   "metadata": {
    "colab": {
     "base_uri": "https://localhost:8080/"
    },
    "executionInfo": {
     "elapsed": 77542,
     "status": "ok",
     "timestamp": 1655743459744,
     "user": {
      "displayName": "Milandu Keith Moussavou Boussougou",
      "userId": "16125998280788005643"
     },
     "user_tz": -540
    },
    "id": "QfoB8Ra0z1Uj",
    "outputId": "5a88aff0-edc5-4d6e-db1a-407a910b9eb6"
   },
   "outputs": [
    {
     "name": "stdout",
     "output_type": "stream",
     "text": [
      "This is the validation section to print the accuracy and see how it performs\n",
      "Here we are leveraging on the dataloader crearted for the validation dataset, the approcah is using more of pytorch\n"
     ]
    },
    {
     "name": "stderr",
     "output_type": "stream",
     "text": [
      "1it [00:00,  4.78it/s]"
     ]
    },
    {
     "name": "stdout",
     "output_type": "stream",
     "text": [
      "Validation Loss per 100 steps: 2.9802242806908907e-06\n",
      "Validation Accuracy per 100 steps: 100.0\n"
     ]
    },
    {
     "name": "stderr",
     "output_type": "stream",
     "text": [
      "293it [01:17,  3.77it/s]"
     ]
    },
    {
     "name": "stdout",
     "output_type": "stream",
     "text": [
      "Validation Loss Epoch: 0.5011329045080669\n",
      "Validation Accuracy Epoch: 94.1880341880342\n",
      "Accuracy on test data = 94.19%\n"
     ]
    },
    {
     "name": "stderr",
     "output_type": "stream",
     "text": [
      "\n"
     ]
    }
   ],
   "source": [
    "import pickle\n",
    "print('This is the validation section to print the accuracy and see how it performs')\n",
    "print('Here we are leveraging on the dataloader crearted for the validation dataset, the approcah is using more of pytorch')\n",
    "\n",
    "acc = valid(roberta_iid_trained, testing_loader, loss_function)\n",
    "print(\"Accuracy on test data = %0.2f%%\" % acc)\n",
    "\n",
    "d['train_acc'] = train_acc\n",
    "d['test_acc'] = acc\n",
    "\n",
    "\n",
    "# with open(f'/content/drive/My Drive/RoBERTa/Sexual_Harassment/FLRoBERTa_Harassment_eps0_5.pkl', 'wb') as file:\n",
    "#   pickle.dump(d, file)"
   ]
  },
  {
   "cell_type": "code",
   "execution_count": 41,
   "metadata": {
    "colab": {
     "base_uri": "https://localhost:8080/",
     "height": 1000
    },
    "executionInfo": {
     "elapsed": 955553,
     "status": "ok",
     "timestamp": 1655743227377,
     "user": {
      "displayName": "Milandu Keith Moussavou Boussougou",
      "userId": "16125998280788005643"
     },
     "user_tz": -540
    },
    "id": "CbWvaM88zTZs",
    "outputId": "bdab04c1-1d84-48ab-bd85-3b5509ec1986"
   },
   "outputs": [
    {
     "name": "stdout",
     "output_type": "stream",
     "text": [
      "Training Loss per 5000 steps: 1.0519900570216123e-05\n",
      "Training Accuracy per 5000 steps: 100.0\n",
      "The Total Accuracy for Epoch 1: 100.0\n",
      "Training Loss Epoch: 1.7076598870365463e-06\n",
      "Training Accuracy Epoch: 100.0\n",
      "-------------------------------\n",
      "Training Loss per 5000 steps: 5.51342679955269e-07\n",
      "Training Accuracy per 5000 steps: 100.0\n",
      "The Total Accuracy for Epoch 2: 100.0\n",
      "Training Loss Epoch: 6.704471374045321e-06\n",
      "Training Accuracy Epoch: 100.0\n",
      "-------------------------------\n",
      "Training Loss per 5000 steps: 8.493655059282901e-07\n",
      "Training Accuracy per 5000 steps: 100.0\n",
      "The Total Accuracy for Epoch 3: 98.2905982905983\n",
      "Training Loss Epoch: 0.18959401705192866\n",
      "Training Accuracy Epoch: 98.2905982905983\n",
      "-------------------------------\n",
      "Training Loss per 5000 steps: 2.071252538371482e-06\n",
      "Training Accuracy per 5000 steps: 100.0\n",
      "The Total Accuracy for Epoch 1: 100.0\n",
      "Training Loss Epoch: 2.694594099494907e-06\n",
      "Training Accuracy Epoch: 100.0\n",
      "-------------------------------\n",
      "Training Loss per 5000 steps: 3.0994222015579e-06\n",
      "Training Accuracy per 5000 steps: 100.0\n",
      "The Total Accuracy for Epoch 2: 97.43589743589743\n",
      "Training Loss Epoch: 0.1337163758510504\n",
      "Training Accuracy Epoch: 97.43589743589743\n",
      "-------------------------------\n",
      "Training Loss per 5000 steps: 0.00010325569019187242\n",
      "Training Accuracy per 5000 steps: 100.0\n",
      "The Total Accuracy for Epoch 3: 100.0\n",
      "Training Loss Epoch: 0.0011575455096817678\n",
      "Training Accuracy Epoch: 100.0\n",
      "-------------------------------\n",
      "Training Loss per 5000 steps: 1.232287468155846e-05\n",
      "Training Accuracy per 5000 steps: 100.0\n",
      "The Total Accuracy for Epoch 1: 100.0\n",
      "Training Loss Epoch: 0.0007676454917676286\n",
      "Training Accuracy Epoch: 100.0\n",
      "-------------------------------\n",
      "Training Loss per 5000 steps: 4.493756205192767e-05\n",
      "Training Accuracy per 5000 steps: 100.0\n",
      "The Total Accuracy for Epoch 2: 100.0\n",
      "Training Loss Epoch: 0.0012693522327557123\n",
      "Training Accuracy Epoch: 100.0\n",
      "-------------------------------\n",
      "Training Loss per 5000 steps: 0.00017103996651712805\n",
      "Training Accuracy per 5000 steps: 100.0\n",
      "The Total Accuracy for Epoch 3: 100.0\n",
      "Training Loss Epoch: 8.034617743154134e-05\n",
      "Training Accuracy Epoch: 100.0\n",
      "-------------------------------\n",
      "Round: 1... \tAverage Loss: 0.064\n",
      "Round: 1... \tAverage Accuracy: 99.43\n",
      "Training Loss per 5000 steps: 1.5914029063424096e-05\n",
      "Training Accuracy per 5000 steps: 100.0\n",
      "The Total Accuracy for Epoch 1: 99.57264957264957\n",
      "Training Loss Epoch: 0.01640453515644064\n",
      "Training Accuracy Epoch: 99.57264957264957\n",
      "-------------------------------\n",
      "Training Loss per 5000 steps: 0.0003324876306578517\n",
      "Training Accuracy per 5000 steps: 100.0\n",
      "The Total Accuracy for Epoch 2: 99.14529914529915\n",
      "Training Loss Epoch: 0.012380684697617047\n",
      "Training Accuracy Epoch: 99.14529914529915\n",
      "-------------------------------\n",
      "Training Loss per 5000 steps: 2.5897659725160338e-05\n",
      "Training Accuracy per 5000 steps: 100.0\n",
      "The Total Accuracy for Epoch 3: 99.57264957264957\n",
      "Training Loss Epoch: 0.004012366035309848\n",
      "Training Accuracy Epoch: 99.57264957264957\n",
      "-------------------------------\n",
      "Training Loss per 5000 steps: 6.236931221792474e-05\n",
      "Training Accuracy per 5000 steps: 100.0\n",
      "The Total Accuracy for Epoch 1: 100.0\n",
      "Training Loss Epoch: 0.0008479961535461674\n",
      "Training Accuracy Epoch: 100.0\n",
      "-------------------------------\n",
      "Training Loss per 5000 steps: 0.00016254140064120293\n",
      "Training Accuracy per 5000 steps: 100.0\n",
      "The Total Accuracy for Epoch 2: 100.0\n",
      "Training Loss Epoch: 0.001032671210426391\n",
      "Training Accuracy Epoch: 100.0\n",
      "-------------------------------\n",
      "Training Loss per 5000 steps: 1.402170346409548e-05\n",
      "Training Accuracy per 5000 steps: 100.0\n",
      "The Total Accuracy for Epoch 3: 100.0\n",
      "Training Loss Epoch: 4.127398221195714e-05\n",
      "Training Accuracy Epoch: 100.0\n",
      "-------------------------------\n",
      "Training Loss per 5000 steps: 4.455267480807379e-05\n",
      "Training Accuracy per 5000 steps: 100.0\n",
      "The Total Accuracy for Epoch 1: 100.0\n",
      "Training Loss Epoch: 4.713211232380369e-05\n",
      "Training Accuracy Epoch: 100.0\n",
      "-------------------------------\n",
      "Training Loss per 5000 steps: 1.288935982302064e-05\n",
      "Training Accuracy per 5000 steps: 100.0\n",
      "The Total Accuracy for Epoch 2: 100.0\n",
      "Training Loss Epoch: 4.636932120168543e-05\n",
      "Training Accuracy Epoch: 100.0\n",
      "-------------------------------\n",
      "Training Loss per 5000 steps: 7.420725978590781e-06\n",
      "Training Accuracy per 5000 steps: 100.0\n",
      "The Total Accuracy for Epoch 3: 100.0\n",
      "Training Loss Epoch: 4.4576760971419085e-05\n",
      "Training Accuracy Epoch: 100.0\n",
      "-------------------------------\n",
      "Round: 2... \tAverage Loss: 0.001\n",
      "Round: 2... \tAverage Accuracy: 99.858\n",
      "Training Loss per 5000 steps: 0.00020431600569281727\n",
      "Training Accuracy per 5000 steps: 100.0\n",
      "The Total Accuracy for Epoch 1: 100.0\n",
      "Training Loss Epoch: 6.014879991956453e-05\n",
      "Training Accuracy Epoch: 100.0\n",
      "-------------------------------\n",
      "Training Loss per 5000 steps: 1.94008262042189e-05\n",
      "Training Accuracy per 5000 steps: 100.0\n",
      "The Total Accuracy for Epoch 2: 100.0\n",
      "Training Loss Epoch: 7.587050284503978e-05\n",
      "Training Accuracy Epoch: 100.0\n",
      "-------------------------------\n",
      "Training Loss per 5000 steps: 4.7575882490491495e-05\n",
      "Training Accuracy per 5000 steps: 100.0\n",
      "The Total Accuracy for Epoch 3: 100.0\n",
      "Training Loss Epoch: 5.071200327317153e-05\n",
      "Training Accuracy Epoch: 100.0\n",
      "-------------------------------\n",
      "Training Loss per 5000 steps: 6.988528184592724e-06\n",
      "Training Accuracy per 5000 steps: 100.0\n",
      "The Total Accuracy for Epoch 1: 100.0\n",
      "Training Loss Epoch: 4.8047182478209534e-05\n",
      "Training Accuracy Epoch: 100.0\n",
      "-------------------------------\n",
      "Training Loss per 5000 steps: 7.033303518255707e-06\n",
      "Training Accuracy per 5000 steps: 100.0\n",
      "The Total Accuracy for Epoch 2: 100.0\n",
      "Training Loss Epoch: 4.8121456499454024e-05\n",
      "Training Accuracy Epoch: 100.0\n",
      "-------------------------------\n",
      "Training Loss per 5000 steps: 4.0333914512302727e-05\n",
      "Training Accuracy per 5000 steps: 100.0\n",
      "The Total Accuracy for Epoch 3: 100.0\n",
      "Training Loss Epoch: 0.00012275016946053559\n",
      "Training Accuracy Epoch: 100.0\n",
      "-------------------------------\n",
      "Training Loss per 5000 steps: 2.184405821026303e-05\n",
      "Training Accuracy per 5000 steps: 100.0\n",
      "The Total Accuracy for Epoch 1: 100.0\n",
      "Training Loss Epoch: 0.000490656949212583\n",
      "Training Accuracy Epoch: 100.0\n",
      "-------------------------------\n",
      "Training Loss per 5000 steps: 2.9472548703779466e-05\n",
      "Training Accuracy per 5000 steps: 100.0\n",
      "The Total Accuracy for Epoch 2: 100.0\n",
      "Training Loss Epoch: 3.794232829174386e-05\n",
      "Training Accuracy Epoch: 100.0\n",
      "-------------------------------\n",
      "Training Loss per 5000 steps: 2.1590853066300042e-05\n",
      "Training Accuracy per 5000 steps: 100.0\n",
      "The Total Accuracy for Epoch 3: 100.0\n",
      "Training Loss Epoch: 3.090357796888081e-05\n",
      "Training Accuracy Epoch: 100.0\n",
      "-------------------------------\n",
      "Round: 3... \tAverage Loss: 0.0\n",
      "Round: 3... \tAverage Accuracy: 100.0\n",
      "Training Done!\n",
      "Total time taken to Train: 955.5193722248077\n"
     ]
    },
    {
     "data": {
      "image/png": "[encoded data removed]",
      "text/plain": [
       "<Figure size 432x288 with 1 Axes>"
      ]
     },
     "metadata": {
      "needs_background": "light"
     },
     "output_type": "display_data"
    }
   ],
   "source": [
    "# number of training rounds\n",
    "rounds = 3\n",
    "# client fraction\n",
    "C = 0.3\n",
    "# number of clients\n",
    "K = 10\n",
    "# number of training passes on local dataset for each round\n",
    "E = 3\n",
    "# batch size\n",
    "batch_size = 10\n",
    "# learning Rate\n",
    "lr=1e-05\n",
    "# dict containing different type of data partition\n",
    "data_dict = iid_partition(training_set, 10)\n",
    "d={}\n",
    "\n",
    "loss_function = torch.nn.CrossEntropyLoss()\n",
    "\n",
    "if torch.cuda.is_available():\n",
    "  model.cuda()\n",
    "\n",
    "roberta_iid_trained,train_acc = training(model, rounds, train_dataset, data_dict, loss_function, lr, C, K, E, \"orange\")"
   ]
  },
  {
   "cell_type": "code",
   "execution_count": 45,
   "metadata": {
    "colab": {
     "base_uri": "https://localhost:8080/"
    },
    "executionInfo": {
     "elapsed": 78354,
     "status": "ok",
     "timestamp": 1655743538076,
     "user": {
      "displayName": "Milandu Keith Moussavou Boussougou",
      "userId": "16125998280788005643"
     },
     "user_tz": -540
    },
    "id": "GIyoTgdkz3GH",
    "outputId": "82599628-5c09-4e6b-ed56-17d825a0fb56"
   },
   "outputs": [
    {
     "name": "stdout",
     "output_type": "stream",
     "text": [
      "This is the validation section to print the accuracy and see how it performs\n",
      "Here we are leveraging on the dataloader crearted for the validation dataset, the approcah is using more of pytorch\n"
     ]
    },
    {
     "name": "stderr",
     "output_type": "stream",
     "text": [
      "1it [00:00,  3.22it/s]"
     ]
    },
    {
     "name": "stdout",
     "output_type": "stream",
     "text": [
      "Validation Loss per 100 steps: 1.1563171028683428e-05\n",
      "Validation Accuracy per 100 steps: 100.0\n"
     ]
    },
    {
     "name": "stderr",
     "output_type": "stream",
     "text": [
      "293it [01:17,  3.76it/s]"
     ]
    },
    {
     "name": "stdout",
     "output_type": "stream",
     "text": [
      "Validation Loss Epoch: 0.501134860385171\n",
      "Validation Accuracy Epoch: 94.1880341880342\n",
      "Accuracy on test data = 94.19%\n"
     ]
    },
    {
     "name": "stderr",
     "output_type": "stream",
     "text": [
      "\n"
     ]
    }
   ],
   "source": [
    "import pickle\n",
    "print('This is the validation section to print the accuracy and see how it performs')\n",
    "print('Here we are leveraging on the dataloader crearted for the validation dataset, the approcah is using more of pytorch')\n",
    "\n",
    "acc = valid(roberta_iid_trained, testing_loader, loss_function)\n",
    "print(\"Accuracy on test data = %0.2f%%\" % acc)\n",
    "\n",
    "d['train_acc'] = train_acc\n",
    "d['test_acc'] = acc\n",
    "\n",
    "\n",
    "# with open(f'/content/drive/My Drive/RoBERTa/Sexual_Harassment/FLRoBERTa_Harassment_eps0_5.pkl', 'wb') as file:\n",
    "#   pickle.dump(d, file)"
   ]
  },
  {
   "cell_type": "markdown",
   "metadata": {
    "id": "AEs6v_JN-6ac"
   },
   "source": [
    "### non-iid training"
   ]
  },
  {
   "cell_type": "code",
   "execution_count": 35,
   "metadata": {
    "colab": {
     "base_uri": "https://localhost:8080/",
     "height": 1000
    },
    "executionInfo": {
     "elapsed": 127157,
     "status": "ok",
     "timestamp": 1655739505877,
     "user": {
      "displayName": "Milandu Keith Moussavou Boussougou",
      "userId": "16125998280788005643"
     },
     "user_tz": -540
    },
    "id": "XAc_W8Yn0w8g",
    "outputId": "0b84324c-521e-4dad-877f-da8737d2be23"
   },
   "outputs": [
    {
     "name": "stdout",
     "output_type": "stream",
     "text": [
      "{0: array([1919, 1917, 1916, 1915, 1914, 1913, 1912, 1911, 1910, 1909,  501,\n",
      "       1676, 1677, 1680, 1684, 1664, 1685,  492, 1694, 1695,  120,  727,\n",
      "        726,  117,  748,  749,  112,  768,  767,  766,  489,  488,  487,\n",
      "        215,  216,  485,  484,  505,  578,  206, 1652, 1586, 1647, 1644,\n",
      "       1642, 1641, 1640, 1639, 1638, 1637,  148,  663,  662,  661,  660,\n",
      "        659,  658,  657,  149,  483, 1543, 1581, 1579, 1578, 1577, 1576,\n",
      "       1575, 1574, 1572, 1570, 1121, 1120, 1119, 1117, 1116, 1113, 1112,\n",
      "       1111, 1110, 1109, 1930, 1939, 1943, 1944, 1945, 1946, 1947, 1949,\n",
      "       1952,  296]), 1: array([ 312,  311,  281,  310,  309,  307,  306,  305,  304,  303,  302,\n",
      "        301,  300,  284,  285,  287,  299,  298,  297,  289,  601,  605,\n",
      "        643, 1487,  639, 1492, 1493, 1501,  629, 1506, 1272,  801, 1275,\n",
      "       1300,  799,  793, 1284, 1285, 1289, 1291,   15,  975,   16,  973,\n",
      "         17,   18,   19,  982,   20,  968, 1556, 1555, 1553, 1550, 1549,\n",
      "       1548, 1546, 1545, 1544, 1563,  839,  838,  837,   46,  910,  911,\n",
      "        912,  980,  979,   14,  264,  357,  356,  265,  354,  353,  352,\n",
      "        266,  267,  349,  323,  321,  320, 1918, 1921,  314, 1926, 1927,\n",
      "       1928,  325,   11,  984,  985, 1005,    3, 1003, 1002,    4, 1000,\n",
      "        998]), 2: array([1478, 1476, 1475, 1474, 1473, 1472, 1470, 1469, 1468, 1467,  761,\n",
      "       1354,  782, 1299, 1253,  817,  816,  814, 1258, 1262,  443,  238,\n",
      "        239,  440,  439,  240,  437,  231,  436,  457, 1606, 1607, 1608,\n",
      "       1611, 1612,  548, 1627, 1629,  532,  511, 1412, 1414, 1420,  690,\n",
      "       1430,  686, 1433, 1405, 1443,  671,  508,  531,  197,  528,  527,\n",
      "        526,  525,  524,  523,  198,  254,  407,  434,  408,  247,  431,\n",
      "        241,  430,  429,  428,  154,  654,  630,  655,  656,  677,  676,\n",
      "        675,  674,  672,  907,  906,  905,   48,  903,  902,   49,  900,\n",
      "        884,  899, 1718, 1719, 1756, 1755, 1754, 1753, 1750, 1749, 1748,\n",
      "       1747]), 3: array([ 260,   56, 2301,   34,   38,  155,   92,  214,   31,   91, 1891,\n",
      "       1890, 1889, 1887, 1886, 1884, 1883, 1904, 1010, 1170, 2201, 2200,\n",
      "       2199, 2198, 2197, 2196, 2194, 2193, 2191, 2188,  226,  470,  469,\n",
      "        227,  228,  467,  466,  465,  464,  463,  498,  497,  496,  495,\n",
      "        211,  212,  493,  213,  491,  490, 1216, 1215, 1233, 1011, 1669,\n",
      "       1671, 2136, 2135, 2134, 2133, 1194, 1197, 1207,  878, 1210,  849,\n",
      "       1214, 1218, 1219, 1220, 2175, 2174, 2173, 2171, 2169, 2168, 2167,\n",
      "       2166, 2165, 2163, 1477,  646, 1777, 1780, 1784, 1785,  417, 1792,\n",
      "       1795, 1797, 1129, 1130, 1131, 1132, 1168, 1166, 1165, 1164, 1163,\n",
      "       1162]), 4: array([1447, 1446, 1445, 1444, 1442, 1441, 1440, 1439, 1438, 1437,  274,\n",
      "        324,  275,  322,  276,  319,  318,  277,  317,  316,  575,  574,\n",
      "        573,  571,  570,  181,  569,  568,  567,  566, 1261, 1260, 1259,\n",
      "       1257, 1256, 1255, 1290, 1293, 1294, 1295,  708,  132,  707,  706,\n",
      "        133,  705,  704,  703,  702,  769, 1834, 1833, 1832, 1831, 1830,\n",
      "       1829, 1828, 1827, 1825, 1824,  427,  426,  425,  424,  423,  422,\n",
      "        421,  420,  244,  419, 1698, 1697, 1696, 1693, 1692, 1691, 1690,\n",
      "       1689, 1688, 1687,  170,  593,  592,  591,  171,  172,  590,  174,\n",
      "        588,  587, 1134, 1133, 1149, 1169, 1094, 1087, 1043, 1042, 1041,\n",
      "       1040]), 5: array([1895, 1896, 1898, 1899, 1880,  647, 1712, 1709, 1551, 1552, 1327,\n",
      "       1329, 1334, 1335, 1336, 1337, 1339, 1342,  753,  750,  194,  535,\n",
      "        534,  533,  503,  502,  208, 1009,  209,  499, 1592, 1590, 1589,\n",
      "       1587, 1625, 1626, 1628, 1630, 1667, 1666,  967,  966,   22,   23,\n",
      "        965,  964,  963,  962,  961,  969, 1757, 1713, 1711, 1708, 1707,\n",
      "       1705, 1704, 1703, 1702, 1699, 2147,  210, 1990,  195, 1989,   21,\n",
      "        150,   13, 1978, 2262,  847,  846,   71,  845,   74,   75,  842,\n",
      "         76,  680,   77,  348,  347,  346,  268,  345,  344,  343,  342,\n",
      "        269,  361, 1993, 1992, 1991, 1988, 1985, 1982, 1980, 1979, 1977,\n",
      "       1976]), 6: array([1845, 1844, 1843, 1842, 1841, 1858, 1670, 1879, 1882, 1920, 1482,\n",
      "       1500, 1425, 1423, 1376, 1372, 1371, 1370, 1369, 1368,  486, 1700,\n",
      "       1701,  482, 1706,  477,  494, 1604, 1662,  514,  693,  692,  691,\n",
      "        137,  689,  688,  138,  687,  139,  685, 1251, 1249, 1208, 1206,\n",
      "       1205, 1204, 1203, 1202, 1201, 1200, 2234, 2233, 2232, 2231, 2247,\n",
      "       2015, 2014, 2013, 1794, 1793, 1609, 1605, 1603, 1602, 1601, 1600,\n",
      "       1599, 1598, 1597, 1595, 1941, 1940, 1938, 1937, 1936, 1935, 1934,\n",
      "       1933, 1932, 1931, 1929, 1966, 1967, 1968, 1970, 2012, 2011, 2009,\n",
      "       2008, 2007,  377,  376,  375,  257,  373,  372,  371,  370,  369,\n",
      "        368]), 7: array([1082, 1081, 1079, 1078, 1077, 1076, 1075, 1073, 1072, 1070,  944,\n",
      "        942,  941,  940,  939,  938,  937,  936,  935,  958, 2332, 2330,\n",
      "       2329, 2328, 2326, 2325, 2268, 2324, 2321, 2319,  452,  234,  450,\n",
      "        449,  448,  235,  236,  237,  445,  444,  538,  537,  536,  546,\n",
      "        557,  558,  559,  577,  179,  576,  124,  722,  700,  699,  698,\n",
      "        697,  136,  696,  695,  694, 1395,  713,  724, 1471, 1250, 1231,\n",
      "       1061, 1063, 1064, 1071, 1766, 1765, 1764, 1763, 1762, 1796, 1799,\n",
      "       1800, 1801, 1835,  292,  770,   97,  784,  787,  788,   94,   93,\n",
      "        789,  101, 1161, 1160, 1157, 1156, 1155, 1154, 1153, 1095, 1150,\n",
      "       1148]), 8: array([ 108,  109,  756,  755,  754,  111,  752,  809,  122,  725, 2248,\n",
      "       2246, 2245, 2244, 2242, 2241, 2240, 2238, 2237, 2236, 1307, 1306,\n",
      "       1305, 1303, 1302, 1301, 1298, 1296, 1313, 1252, 1416, 1415, 1413,\n",
      "       1411, 1410, 1409, 1406, 1404, 1424, 1401,  418,  416,  415,  414,\n",
      "        413,  412,  411,  246,  409,  679, 1823, 1822, 1761, 1821, 1818,\n",
      "       1817, 1816, 1815, 1813, 1812,  204,  510,  509,  205,  507,  579,\n",
      "        580,  581,  653,  652,  896,  895,  894, 1158, 1159,  891,  889,\n",
      "       1167, 1151, 1957,  113,   96, 2050, 2051,  115,  253,   95, 2226,\n",
      "        191, 2195]), 9: array([   0, 1460, 1456, 1455, 1454, 1453, 1452, 1451, 1449, 1448, 1353,\n",
      "       1352, 1351, 1350, 1349, 1348, 1347, 1346, 1345, 1344,  530,  522,\n",
      "       1643, 1646, 1648, 1649, 1650, 1651,  517, 1656, 1975, 1974, 1973,\n",
      "       1996, 1924, 1923, 1922, 1876, 1874, 1872, 1732, 1731, 1730, 1729,\n",
      "       1728, 1727, 1726, 1723, 1722, 1721,  857,  856,  855,  854,  853,\n",
      "        852,  851,   69,   70,  848, 2052, 2049, 2048, 2047, 2046, 2044,\n",
      "       2043, 2042, 2041, 2040,   80,  280, 1972, 1971,  147, 2243,   82,\n",
      "        199, 1969,   61, 2100,  106,   67, 2222,  243, 2218,   51, 2219,\n",
      "       2023, 2280,   83,  815,   84,  813,  812,  811,  822,  835,  836,\n",
      "         78])}\n",
      "Training Loss per 5000 steps: 0.00031763198785483837\n",
      "Training Accuracy per 5000 steps: 100.0\n",
      "The Total Accuracy for Epoch 1: 100.0\n",
      "Training Loss Epoch: 0.0004475481479088418\n",
      "Training Accuracy Epoch: 100.0\n",
      "-------------------------------\n",
      "Training Loss per 5000 steps: 0.00014974194345995784\n",
      "Training Accuracy per 5000 steps: 100.0\n",
      "The Total Accuracy for Epoch 1: 100.0\n",
      "Training Loss Epoch: 0.00024617615753623587\n",
      "Training Accuracy Epoch: 100.0\n",
      "-------------------------------\n",
      "Training Loss per 5000 steps: 0.00017866501002572477\n",
      "Training Accuracy per 5000 steps: 100.0\n",
      "The Total Accuracy for Epoch 1: 100.0\n",
      "Training Loss Epoch: 0.00016271122093222893\n",
      "Training Accuracy Epoch: 100.0\n",
      "-------------------------------\n",
      "Round: 1... \tAverage Loss: 0.0\n",
      "Round: 1... \tAverage Accuracy: 100.0\n",
      "Training Loss per 5000 steps: 0.00012848169717472047\n",
      "Training Accuracy per 5000 steps: 100.0\n",
      "The Total Accuracy for Epoch 1: 100.0\n",
      "Training Loss Epoch: 0.003269733814634562\n",
      "Training Accuracy Epoch: 100.0\n",
      "-------------------------------\n",
      "Training Loss per 5000 steps: 0.00011111893400084227\n",
      "Training Accuracy per 5000 steps: 100.0\n",
      "The Total Accuracy for Epoch 1: 100.0\n",
      "Training Loss Epoch: 0.0002019783476918327\n",
      "Training Accuracy Epoch: 100.0\n",
      "-------------------------------\n",
      "Training Loss per 5000 steps: 6.395182572305202e-05\n",
      "Training Accuracy per 5000 steps: 100.0\n",
      "The Total Accuracy for Epoch 1: 99.0\n",
      "Training Loss Epoch: 0.02490825020392479\n",
      "Training Accuracy Epoch: 99.0\n",
      "-------------------------------\n",
      "Round: 2... \tAverage Loss: 0.009\n",
      "Round: 2... \tAverage Accuracy: 99.667\n",
      "Training Loss per 5000 steps: 9.696875349618495e-05\n",
      "Training Accuracy per 5000 steps: 100.0\n",
      "The Total Accuracy for Epoch 1: 100.0\n",
      "Training Loss Epoch: 0.0002994144099200359\n",
      "Training Accuracy Epoch: 100.0\n",
      "-------------------------------\n",
      "Training Loss per 5000 steps: 0.00012642447836697102\n",
      "Training Accuracy per 5000 steps: 100.0\n",
      "The Total Accuracy for Epoch 1: 100.0\n",
      "Training Loss Epoch: 0.00018616525211165516\n",
      "Training Accuracy Epoch: 100.0\n",
      "-------------------------------\n",
      "Training Loss per 5000 steps: 0.00011315919255139306\n",
      "Training Accuracy per 5000 steps: 100.0\n",
      "The Total Accuracy for Epoch 1: 100.0\n",
      "Training Loss Epoch: 0.00010355904585314699\n",
      "Training Accuracy Epoch: 100.0\n",
      "-------------------------------\n",
      "Round: 3... \tAverage Loss: 0.0\n",
      "Round: 3... \tAverage Accuracy: 100.0\n",
      "Training Done!\n",
      "Total time taken to Train: 126.37508201599121\n"
     ]
    },
    {
     "data": {
      "image/png": "[encoded data removed]",
      "text/plain": [
       "<Figure size 432x288 with 1 Axes>"
      ]
     },
     "metadata": {
      "needs_background": "light"
     },
     "output_type": "display_data"
    }
   ],
   "source": [
    "# number of training rounds\n",
    "rounds = 3\n",
    "# client fraction\n",
    "C = 0.3\n",
    "# number of clients\n",
    "K = 10\n",
    "# number of training passes on local dataset for each round\n",
    "E = 1\n",
    "# batch size\n",
    "batch_size = 10\n",
    "# learning Rate\n",
    "lr=1e-05\n",
    "# dict containing different type of data partition\n",
    "# data_dict = non_iid_partition(training_set, 10, 240, 10, 10)\n",
    "data_dict = non_iid_partition(training_set, K, 240, 10, 10)\n",
    "\n",
    "print(data_dict)\n",
    "d={}\n",
    "#iid_partition(training_set, 10)\n",
    "\n",
    "loss_function = torch.nn.CrossEntropyLoss()\n",
    "\n",
    "if torch.cuda.is_available():\n",
    "  model.cuda()\n",
    "\n",
    "roberta_non_iid_trained,train_acc = training(model, rounds, train_dataset, data_dict, loss_function, lr, C, K, E, \"orange\")"
   ]
  },
  {
   "cell_type": "code",
   "execution_count": 36,
   "metadata": {
    "colab": {
     "base_uri": "https://localhost:8080/"
    },
    "executionInfo": {
     "elapsed": 77879,
     "status": "ok",
     "timestamp": 1655739583720,
     "user": {
      "displayName": "Milandu Keith Moussavou Boussougou",
      "userId": "16125998280788005643"
     },
     "user_tz": -540
    },
    "id": "oHxP3pkx5v-K",
    "outputId": "da692f8e-0d42-4f03-fdc8-77f9e05473a7"
   },
   "outputs": [
    {
     "name": "stdout",
     "output_type": "stream",
     "text": [
      "This is the validation section to print the accuracy and see how it performs\n",
      "Here we are leveraging on the dataloader crearted for the validation dataset, the approcah is using more of pytorch\n"
     ]
    },
    {
     "name": "stderr",
     "output_type": "stream",
     "text": [
      "2it [00:00,  3.41it/s]"
     ]
    },
    {
     "name": "stdout",
     "output_type": "stream",
     "text": [
      "Validation Loss per 100 steps: 0.23380059003829956\n",
      "Validation Accuracy per 100 steps: 100.0\n"
     ]
    },
    {
     "name": "stderr",
     "output_type": "stream",
     "text": [
      "293it [01:17,  3.77it/s]"
     ]
    },
    {
     "name": "stdout",
     "output_type": "stream",
     "text": [
      "Validation Loss Epoch: 0.595097715085845\n",
      "Validation Accuracy Epoch: 92.64957264957265\n",
      "Accuracy on test data = 92.65%\n"
     ]
    },
    {
     "name": "stderr",
     "output_type": "stream",
     "text": [
      "\n"
     ]
    }
   ],
   "source": [
    "import pickle\n",
    "print('This is the validation section to print the accuracy and see how it performs')\n",
    "print('Here we are leveraging on the dataloader crearted for the validation dataset, the approcah is using more of pytorch')\n",
    "\n",
    "acc = valid(roberta_non_iid_trained, testing_loader, loss_function)\n",
    "print(\"Accuracy on test data = %0.2f%%\" % acc)\n",
    "\n",
    "\n",
    "d['train_acc'] = train_acc\n",
    "d['test_acc'] = acc\n",
    "\n",
    "\n",
    "# with open(f'/content/drive/My Drive/RoBERTa/Sexual_Harassment/FLRoBERTa_Harassment_eps0_5_noniid.pkl', 'wb') as file:\n",
    "#   pickle.dump(d, file)"
   ]
  },
  {
   "cell_type": "code",
   "execution_count": 38,
   "metadata": {
    "colab": {
     "base_uri": "https://localhost:8080/",
     "height": 1000
    },
    "executionInfo": {
     "elapsed": 216176,
     "status": "ok",
     "timestamp": 1655739923667,
     "user": {
      "displayName": "Milandu Keith Moussavou Boussougou",
      "userId": "16125998280788005643"
     },
     "user_tz": -540
    },
    "id": "F-gGZapQxpXN",
    "outputId": "58a691ab-bcb5-4150-bf84-69eb440390e8"
   },
   "outputs": [
    {
     "name": "stdout",
     "output_type": "stream",
     "text": [
      "{0: array([2308, 2323, 2183, 2267, 2265, 2224, 2223, 2217, 2216, 2215, 1272,\n",
      "        801, 1275, 1300,  799,  793, 1284, 1285, 1289, 1291, 1929, 1966,\n",
      "       1967, 1968, 1970, 2012, 2011, 2009, 2008, 2007,  693,  692,  691,\n",
      "        137,  689,  688,  138,  687,  139,  685,  865,  864,  863,  862,\n",
      "         64,  861,  883,  886,   47,  908,  141,  670,  669,  668,  143,\n",
      "        666,  144,  145,  146,  664,  772, 2277, 1986,   79, 1984, 2150,\n",
      "       1983, 2170, 2320, 2068,  264,  357,  356,  265,  354,  353,  352,\n",
      "        266,  267,  349,  308, 1850, 1908, 1901, 1857,  359, 1863, 1864,\n",
      "        355,  351, 1871, 1870, 1869, 1868, 1867, 1866, 1865, 1862, 1861,\n",
      "       1860]), 1: array([1039, 1038, 1037, 1036, 1035, 1034, 1033, 1032, 1031, 1029, 1907,\n",
      "       1906, 1881, 1905, 1903, 1900, 1897, 1894, 1893, 1892, 1008,  555,\n",
      "        554,  553,  188,  189,  190,  551,  550,  549, 1387, 1385, 1383,\n",
      "       1400, 1341, 1502, 1504, 1624, 1623, 1622,  508,  531,  197,  528,\n",
      "        527,  526,  525,  524,  523,  198, 1686, 1683, 1682, 1681, 1679,\n",
      "       1678, 1675, 1674, 1714, 1715,  196, 2235, 2322, 1981, 2069, 1987,\n",
      "       2172, 2148,  180,  104,   83,  815,   84,  813,  812,  811,  822,\n",
      "        835,  836,   78, 2331,   66, 2327, 2072,  207, 2032, 2107, 2074,\n",
      "       2152,   12, 1134, 1133, 1149, 1169, 1094, 1087, 1043, 1042, 1041,\n",
      "       1040]), 2: array([1895, 1896, 1898, 1899, 1880,  647, 1712, 1709, 1551, 1552, 2305,\n",
      "       2306, 2307, 2339, 2338, 2337, 2336, 2335, 2334, 2333,  575,  574,\n",
      "        573,  571,  570,  181,  569,  568,  567,  566, 1332, 1331, 1330,\n",
      "       1328, 1326, 1325, 1323, 1322, 1321, 1320, 1766, 1765, 1764, 1763,\n",
      "       1762, 1796, 1799, 1800, 1801, 1835, 1089, 1091, 1092, 1093,  943,\n",
      "       1099, 1083, 1107, 1056,  971, 1757, 1713, 1711, 1708, 1707, 1705,\n",
      "       1704, 1703, 1702, 1699,   15,  975,   16,  973,   17,   18,   19,\n",
      "        982,   20,  968, 1975, 1974, 1973, 1996, 1924, 1923, 1922, 1876,\n",
      "       1874, 1872,  258,  259,  367,  366,  365,  364,  261,  384,  270,\n",
      "        337]), 3: array([ 914,  913,  923,  933,   40,  934,   27,   29,  954,  953, 1482,\n",
      "       1500, 1425, 1423, 1376, 1372, 1371, 1370, 1369, 1368, 2187, 2186,\n",
      "       2225, 2227, 2228, 2230, 2264, 2263, 2261, 2259,  529, 2341, 1307,\n",
      "       1306, 1305, 1303, 1302, 1301, 1298, 1296, 1313, 1252, 2234, 2233,\n",
      "       2232, 2231, 2247, 2015, 2014, 2013, 1794, 1793,  498,  497,  496,\n",
      "        495,  211,  212,  493,  213,  491,  490,  462,  461,  229,  230,\n",
      "        458,  387,  435,  433,  248,  406,   50,  860,  859,  858,  833,\n",
      "        832,  831,  830,  829,  828,  839,  838,  837,   46,  910,  911,\n",
      "        912,  980,  979,   14]), 4: array([1447, 1446, 1445, 1444, 1442, 1441, 1440, 1439, 1438, 1437, 1090,\n",
      "       1069, 1067, 1066, 1065, 1062, 1060, 1059, 1058, 1057, 2258, 2256,\n",
      "       2255, 2254, 2253, 2252, 2251, 2250, 2249, 2266,  489,  488,  487,\n",
      "        215,  216,  485,  484,  505,  578,  206, 1791, 1790, 1789, 1788,\n",
      "       1787, 1786, 1783, 1782, 1781, 1779,  651,  650,  649,  648,  293,\n",
      "        644,  642,  151,  641,  640,  916, 1136, 1137,  909, 1143,  904,\n",
      "        901, 1173,  898, 1152, 1746, 1745, 1744, 1743, 1742, 1759, 1741,\n",
      "       1736, 1735, 1734,  628,  156,  169,  600,  599,  598,  597,  596,\n",
      "        595,  594, 2175, 2174, 2173, 2171, 2169, 2168, 2167, 2166, 2165,\n",
      "       2163]), 5: array([1343, 1377, 1379, 1380, 1381, 1422, 1421, 1419, 1418, 1417, 1450,\n",
      "        667,  665, 1457, 1458, 1459, 1461, 1463,  673,  739, 1834, 1833,\n",
      "       1832, 1831, 1830, 1829, 1828, 1827, 1825, 1824, 1230, 1229, 1228,\n",
      "       1227, 1226, 1224, 1223, 1222, 1221, 1217, 2108, 2106, 2104, 2137,\n",
      "       2139, 2140, 2141, 2180, 2177, 2176, 1569, 1568, 1567, 1566, 1583,\n",
      "       1565, 1562, 1561, 1559, 1557,  606,  166,  168,  217,  218,  481,\n",
      "        360,  262,  358,  263, 2182, 2185, 2303, 2302, 2300, 2299, 2298,\n",
      "       2297, 2296, 2295, 1147, 1146, 1145, 1144, 1142, 1141, 1140, 1139,\n",
      "       1138, 1135,  110,  242, 2119,  192,  221, 2192, 2138, 2229, 2105,\n",
      "       2208]), 6: array([1532, 1534, 1510, 1710, 1596,  552,  506,  504, 1672, 1673, 1319,\n",
      "       1317, 1315, 1254, 1314, 1312, 1311, 1310, 1309, 1308, 1665, 1663,\n",
      "       1661, 1660, 1659, 1658, 1657, 1655, 1654, 1653,  791,  792,   90,\n",
      "        794,  795,  783,  796,   89,  798,   88, 1514, 1512, 1511, 1509,\n",
      "       1508, 1507, 1505, 1540, 1541, 1542, 1732, 1731, 1730, 1729, 1728,\n",
      "       1727, 1726, 1723, 1722, 1721, 1556, 1555, 1553, 1550, 1549, 1548,\n",
      "       1546, 1545, 1544, 1563, 1941, 1940, 1938, 1937, 1936, 1935, 1934,\n",
      "       1933, 1932, 1931, 1106, 1105, 1104, 1103, 1102, 1101, 1100, 1098,\n",
      "       1097, 1096,  377,  376,  375,  257,  373,  372,  371,  370,  369,\n",
      "        368]), 7: array([ 810,  841,  751,  746,  745,  744,  743,  742,  741,  114,  761,\n",
      "       1354,  782, 1299, 1253,  817,  816,  814, 1258, 1262,  120,  727,\n",
      "        726,  117,  748,  749,  112,  768,  767,  766,  459,  480,  479,\n",
      "        219,  478,  476,  475,  223,  473,  224,  182,  565,  564,  183,\n",
      "        562,  184,  561,  185,  186,  187, 1609, 1605, 1603, 1602, 1601,\n",
      "       1600, 1599, 1598, 1597, 1595, 1636, 1635, 1634, 1633, 1632, 1631,\n",
      "       1645, 1503, 1584, 1582, 2147,  210, 1990,  195, 1989,   21,  150,\n",
      "         13, 1978, 2262,  847,  846,   71,  845,   74,   75,  842,   76,\n",
      "        680,   77,   11,  984,  985, 1005,    3, 1003, 1002,    4, 1000,\n",
      "        998]), 8: array([1026, 1024, 1022, 1021, 1020, 1019, 1018, 1017, 1016, 1015, 1554,\n",
      "        589, 1558,  586, 1560,  584, 1564, 1547,  582, 1573,  160, 2260,\n",
      "       2058, 2273,  159,  123, 2027,  200,  500,  294,  944,  942,  941,\n",
      "        940,  939,  938,  937,  936,  935,  958, 1478, 1476, 1475, 1474,\n",
      "       1473, 1472, 1470, 1469, 1468, 1467,  501, 1676, 1677, 1680, 1684,\n",
      "       1664, 1685,  492, 1694, 1695, 1489, 1488, 1486, 1485, 1484, 1426,\n",
      "       1483, 1481, 1480, 1479,  959, 1074,  957,  956,  955,  970, 1080,\n",
      "        949,  948, 1088,  323,  321,  320, 1918, 1921,  314, 1926, 1927,\n",
      "       1928,  325, 1161, 1160, 1157, 1156, 1155, 1154, 1153, 1095, 1150,\n",
      "       1148]), 9: array([1014, 1013, 1012, 1044, 1046, 1047, 1048, 1086, 1085, 1084, 1823,\n",
      "       1822, 1761, 1821, 1818, 1817, 1816, 1815, 1813, 1812, 1652, 1586,\n",
      "       1647, 1644, 1642, 1641, 1640, 1639, 1638, 1637,  797,  781,  790,\n",
      "        773,  771,  100,   98,  777,   99,  778, 2131, 2130, 2129, 2128,\n",
      "       2127, 2126, 2125, 2124, 2123, 2122,  844,  843, 1225,  840,  850,\n",
      "        929, 1174,  885, 1115, 1118,  857,  856,  855,  854,  853,  852,\n",
      "        851,   69,   70,  848, 1720,  468, 1724, 1725, 1733,  438,  460,\n",
      "       1739, 1740,  451,  113,   96, 2050, 2051,  115,  253,   95, 2226,\n",
      "        191, 2195, 1798, 1770,  410, 1805, 1811, 1814,  398, 1819, 1826,\n",
      "        385])}\n",
      "Training Loss per 5000 steps: 0.00010738220589701086\n",
      "Training Accuracy per 5000 steps: 100.0\n",
      "The Total Accuracy for Epoch 1: 100.0\n",
      "Training Loss Epoch: 8.966697994485282e-05\n",
      "Training Accuracy Epoch: 100.0\n",
      "-------------------------------\n",
      "Training Loss per 5000 steps: 9.738707740325481e-05\n",
      "Training Accuracy per 5000 steps: 100.0\n",
      "The Total Accuracy for Epoch 1: 100.0\n",
      "Training Loss Epoch: 7.09748682521212e-05\n",
      "Training Accuracy Epoch: 100.0\n",
      "-------------------------------\n",
      "Training Loss per 5000 steps: 2.031003896263428e-05\n",
      "Training Accuracy per 5000 steps: 100.0\n",
      "The Total Accuracy for Epoch 1: 100.0\n",
      "Training Loss Epoch: 3.531424450697019e-05\n",
      "Training Accuracy Epoch: 100.0\n",
      "-------------------------------\n",
      "Training Loss per 5000 steps: 1.7270163880311884e-05\n",
      "Training Accuracy per 5000 steps: 100.0\n",
      "The Total Accuracy for Epoch 1: 100.0\n",
      "Training Loss Epoch: 5.881790093553718e-05\n",
      "Training Accuracy Epoch: 100.0\n",
      "-------------------------------\n",
      "Training Loss per 5000 steps: 1.3455590305966325e-05\n",
      "Training Accuracy per 5000 steps: 100.0\n",
      "The Total Accuracy for Epoch 1: 100.0\n",
      "Training Loss Epoch: 0.003254718635406999\n",
      "Training Accuracy Epoch: 100.0\n",
      "-------------------------------\n",
      "Round: 1... \tAverage Loss: 0.001\n",
      "Round: 1... \tAverage Accuracy: 100.0\n",
      "Training Loss per 5000 steps: 3.0963754397816956e-05\n",
      "Training Accuracy per 5000 steps: 100.0\n",
      "The Total Accuracy for Epoch 1: 99.0\n",
      "Training Loss Epoch: 0.06971736455223156\n",
      "Training Accuracy Epoch: 99.0\n",
      "-------------------------------\n",
      "Training Loss per 5000 steps: 3.50467671523802e-05\n",
      "Training Accuracy per 5000 steps: 100.0\n",
      "The Total Accuracy for Epoch 1: 99.0\n",
      "Training Loss Epoch: 0.047511712252134415\n",
      "Training Accuracy Epoch: 99.0\n",
      "-------------------------------\n",
      "Training Loss per 5000 steps: 0.0001837570744100958\n",
      "Training Accuracy per 5000 steps: 100.0\n",
      "The Total Accuracy for Epoch 1: 100.0\n",
      "Training Loss Epoch: 5.406046469803326e-05\n",
      "Training Accuracy Epoch: 100.0\n",
      "-------------------------------\n",
      "Training Loss per 5000 steps: 9.48787055676803e-05\n",
      "Training Accuracy per 5000 steps: 100.0\n",
      "The Total Accuracy for Epoch 1: 99.0\n",
      "Training Loss Epoch: 0.06426957857540681\n",
      "Training Accuracy Epoch: 99.0\n",
      "-------------------------------\n",
      "Training Loss per 5000 steps: 4.2228166421409696e-05\n",
      "Training Accuracy per 5000 steps: 100.0\n",
      "The Total Accuracy for Epoch 1: 100.0\n",
      "Training Loss Epoch: 0.0011940351785317315\n",
      "Training Accuracy Epoch: 100.0\n",
      "-------------------------------\n",
      "Round: 2... \tAverage Loss: 0.037\n",
      "Round: 2... \tAverage Accuracy: 99.4\n",
      "Training Loss per 5000 steps: 2.2530206479132175e-05\n",
      "Training Accuracy per 5000 steps: 100.0\n",
      "The Total Accuracy for Epoch 1: 100.0\n",
      "Training Loss Epoch: 3.674243019374374e-05\n",
      "Training Accuracy Epoch: 100.0\n",
      "-------------------------------\n",
      "Training Loss per 5000 steps: 2.4049861167441122e-05\n",
      "Training Accuracy per 5000 steps: 100.0\n",
      "The Total Accuracy for Epoch 1: 100.0\n",
      "Training Loss Epoch: 4.432062409110725e-05\n",
      "Training Accuracy Epoch: 100.0\n",
      "-------------------------------\n",
      "Training Loss per 5000 steps: 3.747515074792318e-05\n",
      "Training Accuracy per 5000 steps: 100.0\n",
      "The Total Accuracy for Epoch 1: 100.0\n",
      "Training Loss Epoch: 3.0635710013134834e-05\n",
      "Training Accuracy Epoch: 100.0\n",
      "-------------------------------\n",
      "Training Loss per 5000 steps: 2.728345680225175e-05\n",
      "Training Accuracy per 5000 steps: 100.0\n",
      "The Total Accuracy for Epoch 1: 100.0\n",
      "Training Loss Epoch: 3.837101352333915e-05\n",
      "Training Accuracy Epoch: 100.0\n",
      "-------------------------------\n",
      "Training Loss per 5000 steps: 5.901943950448185e-05\n",
      "Training Accuracy per 5000 steps: 100.0\n",
      "The Total Accuracy for Epoch 1: 100.0\n",
      "Training Loss Epoch: 3.281678143069327e-05\n",
      "Training Accuracy Epoch: 100.0\n",
      "-------------------------------\n",
      "Round: 3... \tAverage Loss: 0.0\n",
      "Round: 3... \tAverage Accuracy: 100.0\n",
      "Training Done!\n",
      "Total time taken to Train: 215.5525085926056\n"
     ]
    },
    {
     "data": {
      "image/png": "[encoded data removed]",
      "text/plain": [
       "<Figure size 432x288 with 1 Axes>"
      ]
     },
     "metadata": {
      "needs_background": "light"
     },
     "output_type": "display_data"
    }
   ],
   "source": [
    "# number of training rounds\n",
    "rounds = 3\n",
    "# client fraction\n",
    "C = 0.5\n",
    "# number of clients\n",
    "K = 10\n",
    "# number of training passes on local dataset for each round\n",
    "E = 1\n",
    "# batch size\n",
    "batch_size = 10\n",
    "# learning Rate\n",
    "lr=1e-05\n",
    "# dict containing different type of data partition\n",
    "# data_dict = non_iid_partition(training_set, 10, 240, 10, 10)\n",
    "data_dict = non_iid_partition(training_set, K, 240, 10, 10)\n",
    "\n",
    "print(data_dict)\n",
    "d={}\n",
    "#iid_partition(training_set, 10)\n",
    "\n",
    "loss_function = torch.nn.CrossEntropyLoss()\n",
    "\n",
    "if torch.cuda.is_available():\n",
    "  model.cuda()\n",
    "\n",
    "roberta_non_iid_trained,train_acc = training(model, rounds, train_dataset, data_dict, loss_function, lr, C, K, E, \"orange\")"
   ]
  },
  {
   "cell_type": "code",
   "execution_count": 42,
   "metadata": {
    "colab": {
     "base_uri": "https://localhost:8080/"
    },
    "executionInfo": {
     "elapsed": 77510,
     "status": "ok",
     "timestamp": 1655743304870,
     "user": {
      "displayName": "Milandu Keith Moussavou Boussougou",
      "userId": "16125998280788005643"
     },
     "user_tz": -540
    },
    "id": "FOq3vpd1x7fG",
    "outputId": "3ed4cbd8-bee3-40ff-da6e-6a9e28892999"
   },
   "outputs": [
    {
     "name": "stdout",
     "output_type": "stream",
     "text": [
      "This is the validation section to print the accuracy and see how it performs\n",
      "Here we are leveraging on the dataloader crearted for the validation dataset, the approcah is using more of pytorch\n"
     ]
    },
    {
     "name": "stderr",
     "output_type": "stream",
     "text": [
      "1it [00:00,  2.75it/s]"
     ]
    },
    {
     "name": "stdout",
     "output_type": "stream",
     "text": [
      "Validation Loss per 100 steps: 1.2755259376717731e-05\n",
      "Validation Accuracy per 100 steps: 100.0\n"
     ]
    },
    {
     "name": "stderr",
     "output_type": "stream",
     "text": [
      "293it [01:17,  3.78it/s]"
     ]
    },
    {
     "name": "stdout",
     "output_type": "stream",
     "text": [
      "Validation Loss Epoch: 0.5011328947720743\n",
      "Validation Accuracy Epoch: 94.1880341880342\n",
      "Accuracy on test data = 94.19%\n"
     ]
    },
    {
     "name": "stderr",
     "output_type": "stream",
     "text": [
      "\n"
     ]
    }
   ],
   "source": [
    "import pickle\n",
    "print('This is the validation section to print the accuracy and see how it performs')\n",
    "print('Here we are leveraging on the dataloader crearted for the validation dataset, the approcah is using more of pytorch')\n",
    "\n",
    "acc = valid(roberta_non_iid_trained, testing_loader, loss_function)\n",
    "print(\"Accuracy on test data = %0.2f%%\" % acc)\n",
    "\n",
    "\n",
    "d['train_acc'] = train_acc\n",
    "d['test_acc'] = acc\n",
    "\n",
    "\n",
    "# with open(f'/content/drive/My Drive/RoBERTa/Sexual_Harassment/FLRoBERTa_Harassment_eps0_5_noniid.pkl', 'wb') as file:\n",
    "#   pickle.dump(d, file)"
   ]
  },
  {
   "cell_type": "code",
   "execution_count": 39,
   "metadata": {
    "colab": {
     "base_uri": "https://localhost:8080/",
     "height": 1000
    },
    "executionInfo": {
     "elapsed": 164077,
     "status": "ok",
     "timestamp": 1655740087735,
     "user": {
      "displayName": "Milandu Keith Moussavou Boussougou",
      "userId": "16125998280788005643"
     },
     "user_tz": -540
    },
    "id": "VwrH7Bfrx72-",
    "outputId": "c5ebcaff-8496-47da-b444-947822874ccd"
   },
   "outputs": [
    {
     "name": "stdout",
     "output_type": "stream",
     "text": [
      "{0: array([ 530,  522, 1643, 1646, 1648, 1649, 1650, 1651,  517, 1656, 1416,\n",
      "       1415, 1413, 1411, 1410, 1409, 1406, 1404, 1424, 1401,  498,  497,\n",
      "        496,  495,  211,  212,  493,  213,  491,  490, 1251, 1249, 1208,\n",
      "       1206, 1205, 1204, 1203, 1202, 1201, 1200, 1194, 1197, 1207,  878,\n",
      "       1210,  849, 1214, 1218, 1219, 1220, 2131, 2130, 2129, 2128, 2127,\n",
      "       2126, 2125, 2124, 2123, 2122, 2175, 2174, 2173, 2171, 2169, 2168,\n",
      "       2167, 2166, 2165, 2163, 1720,  468, 1724, 1725, 1733,  438,  460,\n",
      "       1739, 1740,  451, 1129, 1130, 1131, 1132, 1168, 1166, 1165, 1164,\n",
      "       1163, 1162, 2220, 2282,  222, 2022, 2203,  245, 2020, 2221,  173,\n",
      "       2284]), 1: array([ 626,  604,  624, 1513, 1517, 1518,  618,  611,  608, 1531,  810,\n",
      "        841,  751,  746,  745,  744,  743,  742,  741,  114,  249,  405,\n",
      "        404,  403,  402,  401,  250,  400,  399,  251,  252,  397,  396,\n",
      "        395,  394,  393,  392,  391,  390,  389,  708,  132,  707,  706,\n",
      "        133,  705,  704,  703,  702,  769, 1185, 1184, 1183, 1182, 1181,\n",
      "       1180, 1178, 1177, 1176, 1175,  800,   87,   86,  802,  803,  804,\n",
      "        805,  806,  807,  808, 1569, 1568, 1567, 1566, 1583, 1565, 1562,\n",
      "       1561, 1559, 1557,  847,  846,   71,  845,   74,   75,  842,   76,\n",
      "        680,   77, 2039, 2038, 2037, 2036, 2034, 2033, 2031, 2030, 2028,\n",
      "       2026]), 2: array([2279, 2278, 2276, 2275, 2274, 2272, 2271, 2270, 2269, 2304, 1014,\n",
      "       1013, 1012, 1044, 1046, 1047, 1048, 1086, 1085, 1084,  452,  234,\n",
      "        450,  449,  448,  235,  236,  237,  445,  444,  575,  574,  573,\n",
      "        571,  570,  181,  569,  568,  567,  566,  226,  470,  469,  227,\n",
      "        228,  467,  466,  465,  464,  463,  427,  426,  425,  424,  423,\n",
      "        422,  421,  420,  244,  419, 1766, 1765, 1764, 1763, 1762, 1796,\n",
      "       1799, 1800, 1801, 1835, 1823, 1822, 1761, 1821, 1818, 1817, 1816,\n",
      "       1815, 1813, 1812,  857,  856,  855,  854,  853,  852,  851,   69,\n",
      "         70,  848,  447, 1751, 1752,  446,  442, 1758, 1738,  474, 1849,\n",
      "       1856]), 3: array([1039, 1038, 1037, 1036, 1035, 1034, 1033, 1032, 1031, 1029,   57,\n",
      "         30, 2029, 2179,   33, 1998,  158,   39,  220,  119, 2318, 2317,\n",
      "       2316, 2315, 2314, 2313, 2312, 2311, 2310, 2309, 1106, 1105, 1104,\n",
      "       1103, 1102, 1101, 1100, 1098, 1097, 1096, 1190, 1668, 1211, 1213,\n",
      "       1248, 1247, 1246, 1245, 1244, 1243,  987, 1242, 1108, 1114, 1179,\n",
      "        876,  875,  871, 1186, 1191,  148,  663,  662,  661,  660,  659,\n",
      "        658,  657,  149,  483, 1477,  646, 1777, 1780, 1784, 1785,  417,\n",
      "       1792, 1795, 1797, 1929, 1966, 1967, 1968, 1970, 2012, 2011, 2009,\n",
      "       2008, 2007,  997,  996,    6,  995,    7,  994,    8,  993,    9,\n",
      "        992]), 4: array([1532, 1534, 1510, 1710, 1596,  552,  506,  504, 1672, 1673, 2214,\n",
      "       2213, 2212, 2210, 2209, 2207, 2206, 2205, 2204, 2202, 2201, 2200,\n",
      "       2199, 2198, 2197, 2196, 2194, 2193, 2191, 2188,  839,  838,  837,\n",
      "         46,  910,  911,  912,  980,  979,   14, 1395,  713,  724, 1471,\n",
      "       1250, 1231, 1061, 1063, 1064, 1071, 1199, 1198, 1196, 1195, 1193,\n",
      "       1209, 1192, 1189, 1188, 1187,  959, 1074,  957,  956,  955,  970,\n",
      "       1080,  949,  948, 1088,  874,  873,  882,  872,   65,  870,  869,\n",
      "        868,  867,  866, 1121, 1120, 1119, 1117, 1116, 1113, 1112, 1111,\n",
      "       1110, 1109]), 5: array([ 932,  924,  922,  921,  920,  919,  918,  917,   45,  915,  501,\n",
      "       1676, 1677, 1680, 1684, 1664, 1685,  492, 1694, 1695,  738,  116,\n",
      "        747,  737,  118,  735,  733,  731,  730,  729,  459,  480,  479,\n",
      "        219,  478,  476,  475,  223,  473,  224,  529, 2341, 1375, 1402,\n",
      "       1378,  723, 1382, 1384, 1386,  718, 1392,  715,  418,  416,  415,\n",
      "        414,  413,  412,  411,  246,  409,  679, 1526, 1525, 1524, 1523,\n",
      "       1522, 1521, 1520, 1519, 1516, 1515,   50,  860,  859,  858,  833,\n",
      "        832,  831,  830,  829,  828, 2108, 2106, 2104, 2137, 2139, 2140,\n",
      "       2141, 2180, 2177, 2176]), 6: array([ 312,  311,  281,  310,  309,  307,  306,  305,  304,  303, 1465,\n",
      "       1466, 1499, 1498, 1497, 1496, 1495, 1494, 1491, 1490,  182,  565,\n",
      "        564,  183,  562,  184,  561,  185,  186,  187, 1403,  711, 1362,\n",
      "       1363,  736,  734,  732,  728, 1373, 1374,  204,  510,  509,  205,\n",
      "        507,  579,  580,  581,  653,  652, 1652, 1586, 1647, 1644, 1642,\n",
      "       1641, 1640, 1639, 1638, 1637, 1995, 2143, 1994,   25,  129, 2112,\n",
      "        130, 2092, 2211,  131, 2103, 2161, 2159, 2158, 2157, 2156, 2155,\n",
      "       2154, 2153, 2151, 2083, 2082, 2081, 2101, 2079, 2076, 2075, 2073,\n",
      "       2071, 2070]), 7: array([2332, 2330, 2329, 2328, 2326, 2325, 2268, 2324, 2321, 2319, 1891,\n",
      "       1890, 1889, 1887, 1886, 1884, 1883, 1904, 1010, 1170,  601,  605,\n",
      "        643, 1487,  639, 1492, 1493, 1501,  629, 1506, 1343, 1377, 1379,\n",
      "       1380, 1381, 1422, 1421, 1419, 1418, 1417, 2258, 2256, 2255, 2254,\n",
      "       2253, 2252, 2251, 2250, 2249, 2266,  916, 1136, 1137,  909, 1143,\n",
      "        904,  901, 1173,  898, 1152, 1556, 1555, 1553, 1550, 1549, 1548,\n",
      "       1546, 1545, 1544, 1563,   15,  975,   16,  973,   17,   18,   19,\n",
      "        982,   20,  968,  113,   96, 2050, 2051,  115,  253,   95, 2226,\n",
      "        191, 2195, 1975, 1974, 1973, 1996, 1924, 1923, 1922, 1876, 1874,\n",
      "       1872]), 8: array([ 944,  942,  941,  940,  939,  938,  937,  936,  935,  958,  486,\n",
      "       1700, 1701,  482, 1706,  477,  494, 1604, 1662,  514, 1353, 1352,\n",
      "       1351, 1350, 1349, 1348, 1347, 1346, 1345, 1344, 1272,  801, 1275,\n",
      "       1300,  799,  793, 1284, 1285, 1289, 1291, 1592, 1590, 1589, 1587,\n",
      "       1625, 1626, 1628, 1630, 1667, 1666,  772, 2277, 1986,   79, 1984,\n",
      "       2150, 1983, 2170, 2320, 2068,  897,   52,  893,   53,   54,  892,\n",
      "         55,  890,  888,  887,  323,  321,  320, 1918, 1921,  314, 1926,\n",
      "       1927, 1928,  325, 1161, 1160, 1157, 1156, 1155, 1154, 1153, 1095,\n",
      "       1150, 1148]), 9: array([2305, 2306, 2307, 2339, 2338, 2337, 2336, 2335, 2334, 2333,  761,\n",
      "       1354,  782, 1299, 1253,  817,  816,  814, 1258, 1262, 1292,  786,\n",
      "        785, 1297, 1278,  818,  740, 1360, 1407, 1408, 1810, 1809, 1808,\n",
      "       1807, 1806, 1804, 1802, 1820, 1836, 1760, 1636, 1635, 1634, 1633,\n",
      "       1632, 1631, 1645, 1503, 1584, 1582,  141,  670,  669,  668,  143,\n",
      "        666,  144,  145,  146,  664, 1514, 1512, 1511, 1509, 1508, 1507,\n",
      "       1505, 1540, 1541, 1542, 2331,   66, 2327, 2072,  207, 2032, 2107,\n",
      "       2074, 2152,   12, 1941, 1940, 1938, 1937, 1936, 1935, 1934, 1933,\n",
      "       1932, 1931,  377,  376,  375,  257,  373,  372,  371,  370,  369,\n",
      "        368])}\n",
      "Training Loss per 5000 steps: 2.4884535378078e-05\n",
      "Training Accuracy per 5000 steps: 100.0\n",
      "The Total Accuracy for Epoch 1: 100.0\n",
      "Training Loss Epoch: 5.533262474972826e-05\n",
      "Training Accuracy Epoch: 100.0\n",
      "-------------------------------\n",
      "Training Loss per 5000 steps: 1.533310569357127e-05\n",
      "Training Accuracy per 5000 steps: 100.0\n",
      "The Total Accuracy for Epoch 1: 100.0\n",
      "Training Loss Epoch: 1.7879570388383097e-05\n",
      "Training Accuracy Epoch: 100.0\n",
      "-------------------------------\n",
      "Training Loss per 5000 steps: 6.258458142838208e-06\n",
      "Training Accuracy per 5000 steps: 100.0\n",
      "The Total Accuracy for Epoch 1: 100.0\n",
      "Training Loss Epoch: 1.5492304100916954e-05\n",
      "Training Accuracy Epoch: 100.0\n",
      "-------------------------------\n",
      "Round: 1... \tAverage Loss: 0.0\n",
      "Round: 1... \tAverage Accuracy: 100.0\n",
      "Training Loss per 5000 steps: 1.7672522517386824e-05\n",
      "Training Accuracy per 5000 steps: 100.0\n",
      "The Total Accuracy for Epoch 1: 100.0\n",
      "Training Loss Epoch: 5.497209041585358e-05\n",
      "Training Accuracy Epoch: 100.0\n",
      "-------------------------------\n",
      "Training Loss per 5000 steps: 0.00013626445434056222\n",
      "Training Accuracy per 5000 steps: 100.0\n",
      "The Total Accuracy for Epoch 1: 100.0\n",
      "Training Loss Epoch: 0.00011146694593359523\n",
      "Training Accuracy Epoch: 100.0\n",
      "-------------------------------\n",
      "Training Loss per 5000 steps: 1.4647534953837749e-05\n",
      "Training Accuracy per 5000 steps: 100.0\n",
      "The Total Accuracy for Epoch 1: 100.0\n",
      "Training Loss Epoch: 1.1582909261657429e-05\n",
      "Training Accuracy Epoch: 100.0\n",
      "-------------------------------\n",
      "Round: 2... \tAverage Loss: 0.0\n",
      "Round: 2... \tAverage Accuracy: 100.0\n",
      "Training Loss per 5000 steps: 3.277995347161777e-05\n",
      "Training Accuracy per 5000 steps: 100.0\n",
      "The Total Accuracy for Epoch 1: 100.0\n",
      "Training Loss Epoch: 1.264725569154297e-05\n",
      "Training Accuracy Epoch: 100.0\n",
      "-------------------------------\n",
      "Training Loss per 5000 steps: 4.753455868922174e-06\n",
      "Training Accuracy per 5000 steps: 100.0\n",
      "The Total Accuracy for Epoch 1: 100.0\n",
      "Training Loss Epoch: 8.736958875488199e-06\n",
      "Training Accuracy Epoch: 100.0\n",
      "-------------------------------\n",
      "Training Loss per 5000 steps: 2.0637558918679133e-05\n",
      "Training Accuracy per 5000 steps: 100.0\n",
      "The Total Accuracy for Epoch 1: 100.0\n",
      "Training Loss Epoch: 1.030226418991403e-05\n",
      "Training Accuracy Epoch: 100.0\n",
      "-------------------------------\n",
      "Round: 3... \tAverage Loss: 0.0\n",
      "Round: 3... \tAverage Accuracy: 100.0\n",
      "Training Loss per 5000 steps: 7.331334472837625e-06\n",
      "Training Accuracy per 5000 steps: 100.0\n",
      "The Total Accuracy for Epoch 1: 100.0\n",
      "Training Loss Epoch: 9.8277494089416e-06\n",
      "Training Accuracy Epoch: 100.0\n",
      "-------------------------------\n",
      "Training Loss per 5000 steps: 1.0132711395272054e-05\n",
      "Training Accuracy per 5000 steps: 100.0\n",
      "The Total Accuracy for Epoch 1: 100.0\n",
      "Training Loss Epoch: 8.511929501345059e-06\n",
      "Training Accuracy Epoch: 100.0\n",
      "-------------------------------\n",
      "Training Loss per 5000 steps: 6.8395947891986e-06\n",
      "Training Accuracy per 5000 steps: 100.0\n",
      "The Total Accuracy for Epoch 1: 100.0\n",
      "Training Loss Epoch: 6.666499162887563e-06\n",
      "Training Accuracy Epoch: 100.0\n",
      "-------------------------------\n",
      "Round: 4... \tAverage Loss: 0.0\n",
      "Round: 4... \tAverage Accuracy: 100.0\n",
      "Training Done!\n",
      "Total time taken to Train: 164.04945850372314\n"
     ]
    },
    {
     "data": {
      "image/png": "[encoded data removed]",
      "text/plain": [
       "<Figure size 432x288 with 1 Axes>"
      ]
     },
     "metadata": {
      "needs_background": "light"
     },
     "output_type": "display_data"
    }
   ],
   "source": [
    "# number of training rounds\n",
    "rounds = 4\n",
    "# client fraction\n",
    "C = 0.3\n",
    "# number of clients\n",
    "K = 10\n",
    "# number of training passes on local dataset for each round\n",
    "E = 1\n",
    "# batch size\n",
    "batch_size = 10\n",
    "# learning Rate\n",
    "lr=1e-05\n",
    "# dict containing different type of data partition\n",
    "# data_dict = non_iid_partition(training_set, 10, 240, 10, 10)\n",
    "data_dict = non_iid_partition(training_set, K, 240, 10, 10)\n",
    "\n",
    "print(data_dict)\n",
    "d={}\n",
    "#iid_partition(training_set, 10)\n",
    "\n",
    "loss_function = torch.nn.CrossEntropyLoss()\n",
    "\n",
    "if torch.cuda.is_available():\n",
    "  model.cuda()\n",
    "\n",
    "roberta_non_iid_trained,train_acc = training(model, rounds, train_dataset, data_dict, loss_function, lr, C, K, E, \"orange\")"
   ]
  },
  {
   "cell_type": "code",
   "execution_count": 43,
   "metadata": {
    "colab": {
     "base_uri": "https://localhost:8080/"
    },
    "executionInfo": {
     "elapsed": 77363,
     "status": "ok",
     "timestamp": 1655743382218,
     "user": {
      "displayName": "Milandu Keith Moussavou Boussougou",
      "userId": "16125998280788005643"
     },
     "user_tz": -540
    },
    "id": "cwVgohYbyA2D",
    "outputId": "890938e3-4cc8-4ec7-daa0-5c67facc5d48"
   },
   "outputs": [
    {
     "name": "stdout",
     "output_type": "stream",
     "text": [
      "This is the validation section to print the accuracy and see how it performs\n",
      "Here we are leveraging on the dataloader crearted for the validation dataset, the approcah is using more of pytorch\n"
     ]
    },
    {
     "name": "stderr",
     "output_type": "stream",
     "text": [
      "1it [00:00,  4.59it/s]"
     ]
    },
    {
     "name": "stdout",
     "output_type": "stream",
     "text": [
      "Validation Loss per 100 steps: 4.64914228359703e-06\n",
      "Validation Accuracy per 100 steps: 100.0\n"
     ]
    },
    {
     "name": "stderr",
     "output_type": "stream",
     "text": [
      "293it [01:17,  3.78it/s]"
     ]
    },
    {
     "name": "stdout",
     "output_type": "stream",
     "text": [
      "Validation Loss Epoch: 0.5011339342230061\n",
      "Validation Accuracy Epoch: 94.1880341880342\n",
      "Accuracy on test data = 94.19%\n"
     ]
    },
    {
     "name": "stderr",
     "output_type": "stream",
     "text": [
      "\n"
     ]
    }
   ],
   "source": [
    "import pickle\n",
    "print('This is the validation section to print the accuracy and see how it performs')\n",
    "print('Here we are leveraging on the dataloader crearted for the validation dataset, the approcah is using more of pytorch')\n",
    "\n",
    "acc = valid(roberta_non_iid_trained, testing_loader, loss_function)\n",
    "print(\"Accuracy on test data = %0.2f%%\" % acc)\n",
    "\n",
    "\n",
    "d['train_acc'] = train_acc\n",
    "d['test_acc'] = acc\n",
    "\n",
    "\n",
    "# with open(f'/content/drive/My Drive/RoBERTa/Sexual_Harassment/FLRoBERTa_Harassment_eps0_5_noniid.pkl', 'wb') as file:\n",
    "#   pickle.dump(d, file)"
   ]
  }
 ],
 "metadata": {
  "accelerator": "GPU",
  "colab": {
   "collapsed_sections": [
    "EGWafcsLH11y"
   ],
   "name": "FLKoBERT.ipynb",
   "provenance": [
    {
     "file_id": "1LegST7vgM127ZDE4XrDghi1FF2M-xl2f",
     "timestamp": 1655073185987
    }
   ]
  },
  "gpuClass": "standard",
  "kernelspec": {
   "display_name": "Python 3 (ipykernel)",
   "language": "python",
   "name": "python3"
  },
  "language_info": {
   "codemirror_mode": {
    "name": "ipython",
    "version": 3
   },
   "file_extension": ".py",
   "mimetype": "text/x-python",
   "name": "python",
   "nbconvert_exporter": "python",
   "pygments_lexer": "ipython3",
   "version": "3.10.9"
  }
 },
 "nbformat": 4,
 "nbformat_minor": 4
}
