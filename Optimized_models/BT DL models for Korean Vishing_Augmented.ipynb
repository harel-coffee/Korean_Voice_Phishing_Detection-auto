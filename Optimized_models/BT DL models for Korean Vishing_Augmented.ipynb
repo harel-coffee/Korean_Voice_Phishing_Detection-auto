{
 "cells": [
  {
   "cell_type": "code",
   "execution_count": 1,
   "id": "297a6371064289d7",
   "metadata": {
    "collapsed": false,
    "editable": true,
    "slideshow": {
     "slide_type": ""
    },
    "tags": [],
    "ExecuteTime": {
     "end_time": "2024-02-06T08:27:39.437188700Z",
     "start_time": "2024-02-06T08:27:36.919055400Z"
    }
   },
   "outputs": [
    {
     "name": "stdout",
     "output_type": "stream",
     "text": [
      "2024-02-06 17:27:37.292203: I tensorflow/core/util/port.cc:113] oneDNN custom operations are on. You may see slightly different numerical results due to floating-point round-off errors from different computation orders. To turn them off, set the environment variable `TF_ENABLE_ONEDNN_OPTS=0`.\r\n",
      "2024-02-06 17:27:37.319924: E external/local_xla/xla/stream_executor/cuda/cuda_dnn.cc:9261] Unable to register cuDNN factory: Attempting to register factory for plugin cuDNN when one has already been registered\r\n",
      "2024-02-06 17:27:37.319979: E external/local_xla/xla/stream_executor/cuda/cuda_fft.cc:607] Unable to register cuFFT factory: Attempting to register factory for plugin cuFFT when one has already been registered\r\n",
      "2024-02-06 17:27:37.321143: E external/local_xla/xla/stream_executor/cuda/cuda_blas.cc:1515] Unable to register cuBLAS factory: Attempting to register factory for plugin cuBLAS when one has already been registered\r\n",
      "2024-02-06 17:27:37.326914: I tensorflow/core/platform/cpu_feature_guard.cc:182] This TensorFlow binary is optimized to use available CPU instructions in performance-critical operations.\r\n",
      "To enable the following instructions: AVX2 AVX_VNNI FMA, in other operations, rebuild TensorFlow with the appropriate compiler flags.\r\n",
      "2024-02-06 17:27:37.916048: W tensorflow/compiler/tf2tensorrt/utils/py_utils.cc:38] TF-TRT Warning: Could not find TensorRT\r\n",
      "2024-02-06 17:27:38.999135: I external/local_xla/xla/stream_executor/cuda/cuda_executor.cc:887] could not open file to read NUMA node: /sys/bus/pci/devices/0000:01:00.0/numa_node\r\n",
      "Your kernel may have been built without NUMA support.\r\n",
      "2024-02-06 17:27:39.036097: I external/local_xla/xla/stream_executor/cuda/cuda_executor.cc:887] could not open file to read NUMA node: /sys/bus/pci/devices/0000:01:00.0/numa_node\r\n",
      "Your kernel may have been built without NUMA support.\r\n",
      "2024-02-06 17:27:39.036176: I external/local_xla/xla/stream_executor/cuda/cuda_executor.cc:887] could not open file to read NUMA node: /sys/bus/pci/devices/0000:01:00.0/numa_node\r\n",
      "Your kernel may have been built without NUMA support.\r\n",
      "[PhysicalDevice(name='/physical_device:GPU:0', device_type='GPU')]\r\n"
     ]
    }
   ],
   "source": [
    "!python3 -c \"import tensorflow as tf; print(tf.config.list_physical_devices('GPU'))\""
   ]
  },
  {
   "cell_type": "markdown",
   "id": "computational-james",
   "metadata": {
    "pycharm": {
     "name": "#%% md\n"
    }
   },
   "source": [
    "# Import library"
   ]
  },
  {
   "cell_type": "code",
   "execution_count": 2,
   "id": "worth-transmission",
   "metadata": {
    "executionInfo": {
     "elapsed": 2360,
     "status": "ok",
     "timestamp": 1650012512493,
     "user": {
      "displayName": "Milandu Keith Moussavou Boussougou",
      "userId": "16125998280788005643"
     },
     "user_tz": -540
    },
    "id": "wJWGvzLaj3Y7",
    "pycharm": {
     "name": "#%%\n"
    },
    "ExecuteTime": {
     "end_time": "2024-02-06T08:27:40.680529400Z",
     "start_time": "2024-02-06T08:27:39.441186800Z"
    }
   },
   "outputs": [
    {
     "name": "stderr",
     "output_type": "stream",
     "text": [
      "2024-02-06 17:27:39.691077: I tensorflow/core/util/port.cc:113] oneDNN custom operations are on. You may see slightly different numerical results due to floating-point round-off errors from different computation orders. To turn them off, set the environment variable `TF_ENABLE_ONEDNN_OPTS=0`.\n",
      "2024-02-06 17:27:39.716707: E external/local_xla/xla/stream_executor/cuda/cuda_dnn.cc:9261] Unable to register cuDNN factory: Attempting to register factory for plugin cuDNN when one has already been registered\n",
      "2024-02-06 17:27:39.716738: E external/local_xla/xla/stream_executor/cuda/cuda_fft.cc:607] Unable to register cuFFT factory: Attempting to register factory for plugin cuFFT when one has already been registered\n",
      "2024-02-06 17:27:39.717353: E external/local_xla/xla/stream_executor/cuda/cuda_blas.cc:1515] Unable to register cuBLAS factory: Attempting to register factory for plugin cuBLAS when one has already been registered\n",
      "2024-02-06 17:27:39.722093: I tensorflow/core/platform/cpu_feature_guard.cc:182] This TensorFlow binary is optimized to use available CPU instructions in performance-critical operations.\n",
      "To enable the following instructions: AVX2 AVX_VNNI FMA, in other operations, rebuild TensorFlow with the appropriate compiler flags.\n",
      "2024-02-06 17:27:40.244532: W tensorflow/compiler/tf2tensorrt/utils/py_utils.cc:38] TF-TRT Warning: Could not find TensorRT\n"
     ]
    }
   ],
   "source": [
    "from time import time\n",
    "from timeit import default_timer as timer\n",
    "from datetime import timedelta, datetime\n",
    "import re\n",
    "import os\n",
    "import io\n",
    "import pickle\n",
    "import sys\n",
    "import subprocess\n",
    "from glob import glob\n",
    "import csv\n",
    "import math\n",
    "import codecs\n",
    "import copy\n",
    "from tqdm import tqdm\n",
    "\n",
    "# EDA\n",
    "import matplotlib.pyplot as plt\n",
    "import seaborn as sns \n",
    "import plotly.express as px\n",
    "from wordcloud import WordCloud\n",
    "from collections import Counter\n",
    "import numpy as np\n",
    "import pandas as pd\n",
    "\n",
    "# NLP & ML \n",
    "from sklearn.preprocessing import StandardScaler, RobustScaler\n",
    "from sklearn.model_selection import train_test_split, StratifiedKFold\n",
    "from sklearn.metrics import (\n",
    "    classification_report,\n",
    "    confusion_matrix, \n",
    "    accuracy_score,\n",
    "    precision_score,\n",
    "    recall_score,\n",
    "    f1_score,\n",
    "    fbeta_score,\n",
    "    roc_auc_score,\n",
    "    matthews_corrcoef,\n",
    "    cohen_kappa_score\n",
    ")\n",
    "\n",
    "# DL\n",
    "import tensorflow as tf\n",
    "from tensorflow.keras.preprocessing.text import Tokenizer\n",
    "from tensorflow.keras.preprocessing.sequence import pad_sequences\n",
    "from tensorflow.keras.utils import to_categorical\n",
    "from tensorflow.keras.models import Sequential, Model, load_model\n",
    "from tensorflow.keras.layers import (\n",
    "    InputSpec,\n",
    "    Layer, \n",
    "    Input,\n",
    "    Embedding, \n",
    "    Conv1D, \n",
    "    Conv2D, \n",
    "    Bidirectional, \n",
    "    Dense, \n",
    "    Attention,\n",
    "    LSTM, \n",
    "    Activation, \n",
    "    Add, \n",
    "    Flatten, \n",
    "    Concatenate, \n",
    "    concatenate,\n",
    "    Reshape, \n",
    "    Dropout, \n",
    "    SpatialDropout1D, \n",
    "    BatchNormalization,\n",
    "    MaxPooling1D, \n",
    "    MaxPool2D, \n",
    "    GlobalAveragePooling1D, \n",
    "    GlobalMaxPooling1D, \n",
    "    GlobalMaxPool1D\n",
    ")\n",
    "from tensorflow.keras import initializers, regularizers, constraints, optimizers, layers, callbacks\n",
    "from tensorflow.keras.callbacks import ModelCheckpoint, TensorBoard, Callback, EarlyStopping, CSVLogger\n",
    "from tensorflow.keras.optimizers import Adam\n",
    "from tensorflow.keras import backend as K"
   ]
  },
  {
   "cell_type": "markdown",
   "id": "twenty-jacksonville",
   "metadata": {
    "pycharm": {
     "name": "#%% md\n"
    }
   },
   "source": [
    "# Plotting code"
   ]
  },
  {
   "cell_type": "code",
   "execution_count": 3,
   "id": "electronic-stopping",
   "metadata": {
    "pycharm": {
     "name": "#%%\n"
    },
    "ExecuteTime": {
     "end_time": "2024-02-06T08:27:40.693448200Z",
     "start_time": "2024-02-06T08:27:40.690053900Z"
    }
   },
   "outputs": [],
   "source": [
    "def show_values(pc, fmt=\"%.2f\", **kw):\n",
    "    '''\n",
    "    Heatmap with text in each cell with matplotlib's pyplot\n",
    "    Source: https://stackoverflow.com/a/25074150/395857 \n",
    "    By HYRY\n",
    "    '''\n",
    "#     from itertools import izip\n",
    "    pc.update_scalarmappable()\n",
    "    ax = pc.axes# FOR LATEST MATPLOTLIB\n",
    "    \n",
    "    #Use zip BELOW IN PYTHON 3\n",
    "    for p, color, value in zip(pc.get_paths(), pc.get_facecolors(), pc.get_array()):\n",
    "        x, y = p.vertices[:-2, :].mean(0)\n",
    "        if np.all(color[:3] > 0.5):\n",
    "            color = (0.0, 0.0, 0.0)\n",
    "        else:\n",
    "            color = (1.0, 1.0, 1.0)\n",
    "        # ax.text(x, y, fmt % value, ha=\"center\", va=\"center\", color=color, **kw)\n",
    "\n",
    "\n",
    "def cm2inch(*tupl):\n",
    "    '''\n",
    "    Specify figure size in centimeter in matplotlib\n",
    "    Source: https://stackoverflow.com/a/22787457/395857\n",
    "    By gns-ank\n",
    "    '''\n",
    "    inch = 2.54\n",
    "    if type(tupl[0]) == tuple:\n",
    "        return tuple(i/inch for i in tupl[0])\n",
    "    else:\n",
    "        return tuple(i/inch for i in tupl)\n",
    "\n",
    "\n",
    "def heatmap(AUC, title, xlabel, ylabel, xticklabels, yticklabels, figure_width=40, figure_height=20, correct_orientation=False, cmap='RdBu'):\n",
    "    '''\n",
    "    Inspired by:\n",
    "    - https://stackoverflow.com/a/16124677/395857 \n",
    "    - https://stackoverflow.com/a/25074150/395857\n",
    "    '''\n",
    "\n",
    "    # Plot it out\n",
    "    fig, ax = plt.subplots()    \n",
    "    #c = ax.pcolor(AUC, edgecolors='k', linestyle= 'dashed', linewidths=0.2, cmap='RdBu', vmin=0.0, vmax=1.0)\n",
    "    c = ax.pcolor(AUC, edgecolors='k', linestyle= 'dashed', linewidths=0.2, cmap=cmap)\n",
    "\n",
    "    # put the major ticks at the middle of each cell\n",
    "    ax.set_yticks(np.arange(AUC.shape[0]) + 0.5, minor=False)\n",
    "    ax.set_xticks(np.arange(AUC.shape[1]) + 0.5, minor=False)\n",
    "\n",
    "    # set tick labels\n",
    "    #ax.set_xticklabels(np.arange(1,AUC.shape[1]+1), minor=False)\n",
    "    ax.set_xticklabels(xticklabels, minor=False)\n",
    "    ax.set_yticklabels(yticklabels, minor=False)\n",
    "\n",
    "    # set title and x/y labels\n",
    "    plt.title(title)\n",
    "    plt.xlabel(xlabel)\n",
    "    plt.ylabel(ylabel)      \n",
    "    \n",
    "    # save the figure\n",
    "    plt.savefig('reports/' + title + '_' + datetime.now().strftime(\"%Y%m%d_%H-%M-%S\") + '.png', dpi=600, format='png', bbox_inches='tight')\n",
    "    plt.savefig('reports/' + title + '_' + datetime.now().strftime(\"%Y%m%d_%H-%M-%S\") + '.pdf', dpi=600, format='pdf', bbox_inches='tight')\n",
    "\n",
    "    # Remove last blank column\n",
    "    plt.xlim( (0, AUC.shape[1]) )\n",
    "\n",
    "    # Turn off all the ticks\n",
    "    ax = plt.gca()    \n",
    "    for t in ax.xaxis.get_major_ticks():\n",
    "        t.tick1On = False\n",
    "        t.tick2On = False\n",
    "    for t in ax.yaxis.get_major_ticks():\n",
    "        t.tick1On = False\n",
    "        t.tick2On = False\n",
    "\n",
    "    # Add color bar\n",
    "    plt.colorbar(c)\n",
    "\n",
    "    # Add text in each cell \n",
    "    show_values(c)\n",
    "\n",
    "    # Proper orientation (origin at the top left instead of bottom left)\n",
    "    if correct_orientation:\n",
    "        ax.invert_yaxis()\n",
    "        ax.xaxis.tick_top()       \n",
    "\n",
    "    # resize \n",
    "    fig = plt.gcf()\n",
    "    #fig.set_size_inches(cm2inch(40, 20))\n",
    "    #fig.set_size_inches(cm2inch(40*4, 20*4))\n",
    "    fig.set_size_inches(cm2inch(figure_width, figure_height))\n",
    "    \n",
    "\n",
    "#\n",
    "def plot_classification_report(classification_report, title='Classification report ', cmap='RdBu'):\n",
    "    '''\n",
    "    Plot scikit-learn classification report.\n",
    "    Extension based on https://stackoverflow.com/a/31689645/395857 \n",
    "    '''\n",
    "    lines = classification_report.split('\\n')\n",
    "\n",
    "    classes = []\n",
    "    plotMat = []\n",
    "    support = []\n",
    "    class_names = []\n",
    "    for line in lines[2 : (len(lines) - 4)]:\n",
    "        t = line.strip().split()\n",
    "        if len(t) < 2: continue\n",
    "        classes.append(t[0])\n",
    "        v = [float(x) for x in t[1: len(t) - 1]]\n",
    "        support.append(int(t[-1]))\n",
    "        class_names.append(t[0])\n",
    "        print(v)\n",
    "        plotMat.append(v)\n",
    "\n",
    "    print('plotMat: {0}'.format(plotMat))\n",
    "    print('support: {0}'.format(support))\n",
    "\n",
    "    xlabel = 'Metrics'\n",
    "    ylabel = 'Classes'\n",
    "    xticklabels = ['Precision', 'Recall', 'F1-score']\n",
    "    yticklabels = ['{0} ({1})'.format(class_names[idx], sup) for idx, sup  in enumerate(support)]\n",
    "    figure_width = 25\n",
    "    figure_height = len(class_names) + 7\n",
    "    correct_orientation = False\n",
    "    heatmap(np.array(plotMat), title, xlabel, ylabel, xticklabels, yticklabels, figure_width, figure_height, correct_orientation, cmap=cmap)\n",
    "    \n",
    "# Function to plot the training and validation loss and accuracy\n",
    "def plot_loss_accuracy(history, model_name):\n",
    "    # plot the training and validation loss\n",
    "    plt.plot(history.epoch, history.history['loss'], '-o', label='Training_loss')\n",
    "    plt.plot(history.epoch, history.history['val_loss'], '-o', label='Validation_loss')\n",
    "    plt.title(model_name + ' model loss')\n",
    "    plt.grid(True)\n",
    "    plt.legend()\n",
    "    plt.xlim(left=0)\n",
    "    plt.xlabel('epoch')\n",
    "    plt.ylabel('loss')\n",
    "    plt.savefig('reports/' + model_name + '_loss_metrics_'+ datetime.now().strftime(\"%Y%m%d_%H-%M-%S\") + '.png', dpi=600, format='png', bbox_inches='tight')\n",
    "    plt.savefig('reports/' + model_name + '_loss_metrics_'+ datetime.now().strftime(\"%Y%m%d_%H-%M-%S\") + '.pdf', dpi=600, format='pdf', bbox_inches='tight')\n",
    "    plt.show()\n",
    "    plt.close()\n",
    "    \n",
    "    # plot the training and validation accuracy\n",
    "    plt.plot(history.epoch, history.history['accuracy'], '-o', label='Training_accuracy')\n",
    "    plt.plot(history.epoch, history.history['val_accuracy'], '-o', label='Validation_accuracy')\n",
    "    plt.title(model_name + ' model accuracy')\n",
    "    plt.grid(True)\n",
    "    plt.legend()\n",
    "    plt.xlim(left=0)\n",
    "    plt.xlabel('epoch')\n",
    "    plt.ylabel('accuracy')\n",
    "    plt.savefig('reports/' + model_name + '_accuracy' + datetime.now().strftime(\"%Y%m%d_%H-%M-%S\") + '.png', dpi=600, format='png', bbox_inches='tight')\n",
    "    plt.savefig('reports/' + model_name + '_accuracy' + datetime.now().strftime(\"%Y%m%d_%H-%M-%S\") + '.pdf', dpi=600, format='pdf', bbox_inches='tight')\n",
    "    plt.show()\n",
    "    plt.close()\n",
    "\n",
    "def plot_class_distribution(data, title):\n",
    "    sns.set(style=\"whitegrid\")\n",
    "    # sns.set(style=\"ticks\")\n",
    "    ax = sns.countplot(x='label', data=data)\n",
    "    ax.set_title(title)\n",
    "    \n",
    "    # Annotate the bars with the number of samples\n",
    "    for p in ax.patches:\n",
    "        ax.annotate(f'{p.get_height()}', (p.get_x() + p.get_width() / 2., p.get_height()),\n",
    "                    ha='center', va='baseline', fontsize=11, color='black', xytext=(0, 5),\n",
    "                    textcoords='offset points')\n",
    "        \n",
    "    plt.show()"
   ]
  },
  {
   "cell_type": "markdown",
   "id": "304205db0ac0f50e",
   "metadata": {
    "collapsed": false
   },
   "source": [
    "# Data Preprocessing"
   ]
  },
  {
   "cell_type": "markdown",
   "id": "1b0e29107b025942",
   "metadata": {
    "collapsed": false
   },
   "source": [
    "## Vectorization of the datasets\n",
    "Encoding the text data into numerical data for the deep learning models"
   ]
  },
  {
   "cell_type": "code",
   "execution_count": 4,
   "id": "b4b353981ed38768",
   "metadata": {
    "collapsed": false,
    "ExecuteTime": {
     "end_time": "2024-02-06T08:27:45.690901300Z",
     "start_time": "2024-02-06T08:27:40.957378100Z"
    }
   },
   "outputs": [
    {
     "name": "stdout",
     "output_type": "stream",
     "text": [
      "Loading datasets...\n",
      "Datasets loaded.\n"
     ]
    }
   ],
   "source": [
    "#load the datasets\n",
    "print('Loading datasets...')\n",
    "train_set= pd.read_csv('datasets/train_set_ready.csv')\n",
    "val_set = pd.read_csv('datasets/val_set_ready.csv')\n",
    "test_set = pd.read_csv('datasets/test_set_ready.csv')\n",
    "\n",
    "# import all augmented dataset\n",
    "train_set_EnKo = pd.read_csv('datasets/train_set_EnKo_ready.csv')\n",
    "train_set_ChKo = pd.read_csv('datasets/train_set_ChKo_ready.csv')\n",
    "train_set_JaKo = pd.read_csv('datasets/train_set_JaKo_ready.csv')\n",
    "train_set_all = pd.read_csv('datasets/train_set_all_ready.csv')\n",
    "\n",
    "print('Datasets loaded.')"
   ]
  },
  {
   "cell_type": "code",
   "outputs": [
    {
     "name": "stdout",
     "output_type": "stream",
     "text": [
      "Rows with nan values in the train_set_JaKo:  Empty DataFrame\n",
      "Columns: [transcript, transcript_cleaned, corpus, corpus_1, label, length, length_cleaned, length_corpus, length_corpus_1]\n",
      "Index: []\n",
      "Rows with nan values in the train_set_all:  Empty DataFrame\n",
      "Columns: [transcript, transcript_cleaned, corpus, corpus_1, label, length, length_cleaned, length_corpus, length_corpus_1]\n",
      "Index: []\n"
     ]
    }
   ],
   "source": [
    "# Print the rows with nan values in the train_set_jaKo and train_set_all then drop them\n",
    "print('Rows with nan values in the train_set_JaKo: ', train_set_JaKo[train_set_JaKo.isna().any(axis=1)])\n",
    "print('Rows with nan values in the train_set_all: ', train_set_all[train_set_all.isna().any(axis=1)])"
   ],
   "metadata": {
    "collapsed": false,
    "ExecuteTime": {
     "end_time": "2024-02-06T08:27:46.860118800Z",
     "start_time": "2024-02-06T08:27:46.784830Z"
    }
   },
   "id": "3e36c0f0adf38fe9",
   "execution_count": 5
  },
  {
   "cell_type": "code",
   "execution_count": 6,
   "id": "21e6e14d157da4fe",
   "metadata": {
    "collapsed": false,
    "ExecuteTime": {
     "end_time": "2024-02-06T08:27:49.268439300Z",
     "start_time": "2024-02-06T08:27:49.231617400Z"
    }
   },
   "outputs": [],
   "source": [
    "# define the train and test sets data from the dataframes\n",
    "X_train = train_set['corpus']\n",
    "X_train_1 = train_set['corpus_1']\n",
    "y_train = train_set['label']\n",
    "\n",
    "X_val = val_set['corpus']\n",
    "X_val_1 = val_set['corpus_1']\n",
    "y_val = val_set['label']\n",
    "\n",
    "X_test = test_set['corpus']\n",
    "X_test_1 = test_set['corpus_1']\n",
    "y_test = test_set['label']\n",
    "\n",
    "X_train_EnKo = train_set_EnKo['corpus']\n",
    "X_train_EnKo_1 = train_set_EnKo['corpus_1']\n",
    "y_train_EnKo = train_set_EnKo['label']\n",
    "\n",
    "X_train_ChKo = train_set_ChKo['corpus']\n",
    "X_train_ChKo_1 = train_set_ChKo['corpus_1']\n",
    "y_train_ChKo = train_set_ChKo['label']\n",
    "\n",
    "X_train_JaKo = train_set_JaKo['corpus']\n",
    "X_train_JaKo_1 = train_set_JaKo['corpus_1']\n",
    "y_train_JaKo = train_set_JaKo['label']\n",
    "\n",
    "X_train_all = train_set_all['corpus']\n",
    "X_train_all_1 = train_set_all['corpus_1']\n",
    "y_train_all = train_set_all['label']"
   ]
  },
  {
   "cell_type": "code",
   "execution_count": 7,
   "id": "e6c4524f5ef5f343",
   "metadata": {
    "collapsed": false,
    "ExecuteTime": {
     "end_time": "2024-02-06T08:27:50.580875500Z",
     "start_time": "2024-02-06T08:27:50.528770Z"
    }
   },
   "outputs": [],
   "source": [
    "# write a function to pick the right augmented dataset to be used for the training\n",
    "def pick_augmented_dataset(augmented_dataset, X_train, X_train_1, y_train):\n",
    "    \"\"\"\n",
    "    Function to pick the right augmented dataset to be used for the training\n",
    "    \n",
    "    Parameters:\n",
    "    augmented_dataset: str, default='default'\n",
    "        The augmented dataset to be used for the training. It can be 'EnKo', 'ChKo', 'JaKo', 'All' or 'default' (original dataset)\n",
    "    X_train: list or array\n",
    "        The original trainset\n",
    "    X_train_1: list or array\n",
    "        The original trainset\n",
    "    y_train: list or array\n",
    "        The original trainset\n",
    "    \"\"\"\n",
    "    if augmented_dataset == 'EnKo':\n",
    "        X_train = X_train_EnKo\n",
    "        X_train_1 = X_train_EnKo_1\n",
    "        y_train = y_train_EnKo\n",
    "        print('Using the EnKo augmented dataset for the training')\n",
    "    elif augmented_dataset == 'ChKo':\n",
    "        X_train = X_train_ChKo\n",
    "        X_train_1 = X_train_ChKo_1\n",
    "        y_train = y_train_ChKo\n",
    "        print('Using the ChKo augmented dataset for the training')\n",
    "    elif augmented_dataset == 'JaKo':\n",
    "        X_train = X_train_JaKo\n",
    "        X_train_1 = X_train_JaKo_1\n",
    "        y_train = y_train_JaKo\n",
    "        print('Using the JaKo augmented dataset for the training')\n",
    "    elif augmented_dataset == 'All':\n",
    "        X_train = X_train_all\n",
    "        X_train_1 = X_train_all_1\n",
    "        y_train = y_train_all\n",
    "        print('Using the All augmented dataset for the training')\n",
    "    else:\n",
    "        X_train = X_train\n",
    "        X_train_1 = X_train_1\n",
    "        y_train = y_train\n",
    "        print('Using the original dataset for the training')\n",
    "    return X_train, X_train_1, y_train"
   ]
  },
  {
   "cell_type": "code",
   "execution_count": 8,
   "id": "b9951f1b56dd444f",
   "metadata": {
    "collapsed": false,
    "ExecuteTime": {
     "end_time": "2024-02-06T08:27:52.308038700Z",
     "start_time": "2024-02-06T08:27:52.257527400Z"
    }
   },
   "outputs": [
    {
     "name": "stdout",
     "output_type": "stream",
     "text": [
      "Using the JaKo augmented dataset for the training\n"
     ]
    }
   ],
   "source": [
    "# pick the right augmented dataset to be used for the training\n",
    "augmented_dataset = 'JaKo' # 'EnKo', 'ChKo', 'JaKo', 'All' or 'default\n",
    "X_train, X_train_1, y_train = pick_augmented_dataset(augmented_dataset, X_train, X_train_1, y_train)"
   ]
  },
  {
   "cell_type": "code",
   "execution_count": 9,
   "id": "4c295ae7fb961a7d",
   "metadata": {
    "collapsed": false,
    "ExecuteTime": {
     "end_time": "2024-02-06T08:27:53.737492900Z",
     "start_time": "2024-02-06T08:27:53.683491200Z"
    }
   },
   "outputs": [],
   "source": [
    "# Function to define the maximum number of words to be used\n",
    "def max_words_func(X_train, X_val, X_test):\n",
    "    max_len = 0\n",
    "    max_words = 0\n",
    " \n",
    "    # check the length of the trainset, the valset and the testset\n",
    "    print('Train set size = {} \\nValidation set size = {} \\nTest set size = {}'.format(len(X_train), len(X_val), len(X_test)))\n",
    "    \n",
    "    # count the maximum number of words in the trainset\n",
    "    max_words = len(set(\" \".join(X_train).split())) # max number of words for tokenizer\n",
    "    print('Maximum number of words in the train set = {}'.format(max_words))\n",
    "    \n",
    "    # get the maximum length of the sentences in the trainset\n",
    "    max_len = max([len(x.split()) for x in X_train]) # max length of each sentences, including padding\n",
    "    print('Maximum length of a sentence in the train set = {}'.format(max_len))\n",
    "\n",
    "    return max_words, max_len"
   ]
  },
  {
   "cell_type": "code",
   "execution_count": 10,
   "id": "72f2f23593ed4252",
   "metadata": {
    "collapsed": false,
    "ExecuteTime": {
     "end_time": "2024-02-06T08:27:55.266521100Z",
     "start_time": "2024-02-06T08:27:55.182498500Z"
    }
   },
   "outputs": [
    {
     "name": "stdout",
     "output_type": "stream",
     "text": [
      "Train set size = 2531 \n",
      "Validation set size = 440 \n",
      "Test set size = 440\n",
      "Maximum number of words in the train set = 34249\n",
      "Maximum length of a sentence in the train set = 4715\n"
     ]
    }
   ],
   "source": [
    "# define the maximum number of words and the maximum length of the sentences in the trainset\n",
    "max_words, max_len = max_words_func(X_train, X_val, X_test)"
   ]
  },
  {
   "cell_type": "code",
   "execution_count": 11,
   "id": "a30a4d36047d5035",
   "metadata": {
    "collapsed": false,
    "ExecuteTime": {
     "end_time": "2024-02-06T08:27:57.435642900Z",
     "start_time": "2024-02-06T08:27:57.307354700Z"
    }
   },
   "outputs": [
    {
     "data": {
      "text/plain": "<Figure size 640x480 with 1 Axes>",
      "image/png": "[encoded data removed]"
     },
     "metadata": {},
     "output_type": "display_data"
    }
   ],
   "source": [
    "plt.hist([len(s) for s in X_train], bins=20)\n",
    "plt.xlabel('Length of Data')\n",
    "plt.ylabel('Number of Data')\n",
    "plt.show()"
   ]
  },
  {
   "cell_type": "code",
   "execution_count": 12,
   "id": "e33ddd44583ca683",
   "metadata": {
    "collapsed": false,
    "ExecuteTime": {
     "end_time": "2024-02-06T08:27:58.679783800Z",
     "start_time": "2024-02-06T08:27:58.596425500Z"
    }
   },
   "outputs": [
    {
     "data": {
      "text/plain": "<Figure size 640x480 with 1 Axes>",
      "image/png": "[encoded data removed]"
     },
     "metadata": {},
     "output_type": "display_data"
    }
   ],
   "source": [
    "plt.hist([len(s) for s in X_test], bins=20)\n",
    "plt.xlabel('Length of Data')\n",
    "plt.ylabel('Number of Data')\n",
    "plt.show()"
   ]
  },
  {
   "cell_type": "markdown",
   "id": "5f416c15395795df",
   "metadata": {
    "collapsed": false
   },
   "source": [
    "### Traininig with the original train_set dataset"
   ]
  },
  {
   "cell_type": "code",
   "execution_count": null,
   "id": "89e659a18a85f818",
   "metadata": {
    "collapsed": false
   },
   "outputs": [],
   "source": [
    "# Function to tokenize the text data\n",
    "def tokenize_text(X_train, X_val, X_test, max_words=max_words, max_len=max_len):\n",
    "    # define the tokenizer and tokenization\n",
    "    tokenizer = Tokenizer(num_words=max_words, lower=False, char_level=False)\n",
    "    tokenizer.fit_on_texts(X_train)  #leaky\n",
    "    \n",
    "    # Function to convert texts to sequences of integers\n",
    "    def texts_to_sequences(X_train, X_val, X_test):\n",
    "        # convert texts to sequences of integers\n",
    "        X_train_seq = tokenizer.texts_to_sequences(X_train)\n",
    "        X_val_seq = tokenizer.texts_to_sequences(X_val)\n",
    "        X_test_seq = tokenizer.texts_to_sequences(X_test)\n",
    "        word_index = tokenizer.word_index\n",
    "        \n",
    "        print(\"Dictionary size: \", len(word_index))\n",
    "        \n",
    "        return X_train_seq, X_val_seq, X_test_seq, word_index\n",
    "    \n",
    "    # define the sequences of integers\n",
    "    X_train_seq, X_val_seq, X_test_seq, word_index = texts_to_sequences(X_train, X_val, X_test)\n",
    "    \n",
    "    # FPad the sequences to ensure uniform length\n",
    "    X_train_pad = pad_sequences(X_train_seq, padding='pre', maxlen=max_len)\n",
    "    X_val_pad = pad_sequences(X_val_seq, padding='pre', maxlen=max_len)\n",
    "    X_test_pad = pad_sequences(X_test_seq, padding='pre', maxlen=max_len)\n",
    "    \n",
    "    return X_train_pad, X_val_pad, X_test_pad, word_index"
   ]
  },
  {
   "cell_type": "code",
   "execution_count": null,
   "id": "35b10bf5ddd0fc1a",
   "metadata": {
    "collapsed": false
   },
   "outputs": [],
   "source": [
    "# tokenize the text data\n",
    "X_train_pad, X_val_pad, X_test_pad, word_index = tokenize_text(X_train, X_val, X_test, max_words, max_len)"
   ]
  },
  {
   "cell_type": "markdown",
   "id": "356f63c9492ba87e",
   "metadata": {
    "collapsed": false
   },
   "source": [
    "# Model Building and Training"
   ]
  },
  {
   "cell_type": "markdown",
   "id": "8b70dd5195612f20",
   "metadata": {
    "collapsed": false
   },
   "source": [
    "## Importing the FastText word embeddings"
   ]
  },
  {
   "cell_type": "code",
   "execution_count": null,
   "id": "357614d51612fad7",
   "metadata": {
    "collapsed": false
   },
   "outputs": [],
   "source": [
    "# run if the wiki.ko.vec is not available in the same directory\n",
    "import os\n",
    "import urllib.request\n",
    "# check if the file wiki.ko.vec is in the directory if not download it\n",
    "if not os.path.isfile('wiki.ko.vec'):\n",
    "    print('wiki.ko.vec does not exist, downloading file from the internet')\n",
    "    # download the FastText word embeddings and monitor the download progress bar with tqdm\n",
    "    with tqdm(unit='B', unit_scale=True, miniters=1, desc='wiki.ko.vec') as t:\n",
    "        urllib.request.urlretrieve('https://dl.fbaipublicfiles.com/fasttext/vectors-wiki/wiki.ko.vec', 'wiki.ko.vec', reporthook=lambda a,b,c: t.update(c))\n",
    "    # urllib.request.urlretrieve('https://dl.fbaipublicfiles.com/fasttext/vectors-wiki/wiki.ko.vec', 'wiki.ko.vec')\n",
    "else:\n",
    "    print('wiki.ko.vec exists, will not download file from the internet')"
   ]
  },
  {
   "cell_type": "code",
   "execution_count": null,
   "id": "29a103be30767f56",
   "metadata": {
    "collapsed": false
   },
   "outputs": [],
   "source": [
    "# import the FastText word embeddings\n",
    "print('Loading word FastText embeddings...')\n",
    "embeddings_index = {}\n",
    "f = codecs.open('wiki.ko.vec', encoding='utf-8')\n",
    "\n",
    "for line in tqdm(f):\n",
    "    values = line.rstrip().rsplit(' ')\n",
    "    word = values[0]\n",
    "    coefs = np.asarray(values[1:], dtype='float32')\n",
    "    embeddings_index[word] = coefs\n",
    "f.close()"
   ]
  },
  {
   "cell_type": "code",
   "execution_count": null,
   "id": "d79507de0f1a4c06",
   "metadata": {
    "collapsed": false
   },
   "outputs": [],
   "source": [
    "print('Found %s word vectors' % len(embeddings_index))"
   ]
  },
  {
   "cell_type": "code",
   "execution_count": null,
   "id": "5951bee5a0d0fcf3",
   "metadata": {
    "collapsed": false
   },
   "outputs": [],
   "source": [
    "# define the preprocessing parameters\n",
    "embedding_dim = 300 # embedding dimensions for word vectors (word2vec/GloVe/Fasttext)\n",
    "\n",
    "# defining the hyperparameters\n",
    "learning_rate = 1e-3\n",
    "batch_size= 32 # 64, 128\n",
    "epochs = 10\n",
    "steps_per_epoch = len(X_train) // batch_size  # total_samples is the training set size\n",
    "\n",
    "# Calculating decay steps\n",
    "# It's common to decay the learning rate at each epoch\n",
    "decay_steps = steps_per_epoch * epochs # 10000\n",
    "decay_rate = 0.9  # This is a common decay rate, but you can adjust it\n",
    "# learning_decay = 1e-10 # 1e-4\n",
    "\n",
    "spa_dropout_ratio = 0.2 # dropout ration, dropping a entire feature map\n",
    "kernel_size = 3 # [1,2,3,5] # [1,2,3,5] Size of the kernel. Mixing kernels of various sizes.\n",
    "                # specifying the length of the 1D convolution window.\n",
    "dense_units = 64 # hidden unit 128 the number of neurons in the hidden layer\n",
    "dropout_ratio = 0.2 # 0.1, 0.2 to 0.5 Dropout Ratio\n",
    "num_filters = 50 # 36, 128, 256 number of kernels, conv_size\n",
    "                # Integer, the dimensionality of the output space (i.e. the number of output filters in the convolution).\n",
    "\n",
    "lstm_units_1 = 64 # the size(dim) of the hidden state vector as well as the output vector.\n",
    "lstm_units_2 = 32 # the size(dim) of the hidden state vector as well as the output vector."
   ]
  },
  {
   "cell_type": "markdown",
   "id": "99bded3c2c7b7c",
   "metadata": {
    "collapsed": false
   },
   "source": [
    "### Preparing FastText embedding matrix for future use"
   ]
  },
  {
   "cell_type": "code",
   "execution_count": null,
   "id": "9f18cf14ef79ccfc",
   "metadata": {
    "collapsed": false
   },
   "outputs": [],
   "source": [
    "#embedding matrix\n",
    "# print('Preparing embedding matrix for future use...')\n",
    "words_not_found = []\n",
    "embed_dim = embedding_dim #300 # 32 Dimensions of the embedding vector\n",
    "nb_words = min(max_words, len(word_index))\n",
    "embedding_matrix = np.zeros((max_words, embed_dim))\n",
    "\n",
    "for word, i in word_index.items():\n",
    "    if i >= nb_words:\n",
    "        continue\n",
    "    embedding_vector = embeddings_index.get(word)\n",
    "    if (embedding_vector is not None) and len(embedding_vector) > 0:\n",
    "        # words not found in embedding index will be all-zeros.\n",
    "        embedding_matrix[i] = embedding_vector\n",
    "    else:\n",
    "        words_not_found.append(word)\n",
    "print('number of null word embeddings: %d' % np.sum(np.sum(embedding_matrix, axis=1) == 0))\n",
    "print(\"sample words not found: \", np.random.choice(words_not_found, 10))"
   ]
  },
  {
   "cell_type": "code",
   "execution_count": null,
   "id": "a3150406220c6a16",
   "metadata": {
    "collapsed": false
   },
   "outputs": [],
   "source": [
    "# Setting up our results dataframe\n",
    "df_results = pd.DataFrame(columns=['F1_score', 'Precision', 'Recall', 'Accuracy', 'Training time'])\n",
    "df_results"
   ]
  },
  {
   "cell_type": "markdown",
   "id": "12dabfd8c5ab6c0",
   "metadata": {
    "collapsed": false
   },
   "source": [
    "## Training with default embedding layer and the original train_set dataset"
   ]
  },
  {
   "cell_type": "markdown",
   "id": "e76aec593e9c1704",
   "metadata": {
    "collapsed": false
   },
   "source": [
    "### Single LSTM layer"
   ]
  },
  {
   "cell_type": "code",
   "execution_count": null,
   "id": "cda6204c1c043e69",
   "metadata": {
    "collapsed": false
   },
   "outputs": [],
   "source": [
    "# write a function to build, train and evaluate the LSTM model\n",
    "def build_train_lstm_model(model_name, X_train, y_train, X_val, y_val, X_test, y_test, epochs=epochs, batch_size=batch_size, learning_rate=learning_rate, decay_steps=decay_steps, decay_rate=decay_rate, embedding_matrix=None):\n",
    "    \n",
    "    # define the model architecture\n",
    "    model = Sequential()\n",
    "    # check if the embedding_matrix is None or not\n",
    "    if embedding_matrix is None:\n",
    "        model.add(Embedding(max_words, embedding_dim, input_length=max_len, trainable=False))\n",
    "    else:\n",
    "        model.add(Embedding(max_words, embedding_dim, weights= [embedding_matrix], input_length=max_len, trainable=False))\n",
    "    # model.add(SpatialDropout1D(spa_dropout_ratio))\n",
    "    model.add(LSTM(lstm_units_1))\n",
    "    model.add(Dense(dense_units, activation='relu'))\n",
    "    # model.add(LSTM(lstm_units_1, dropout=dropout_ratio, recurrent_dropout=dropout_ratio))\n",
    "    model.add(Dropout(dropout_ratio))\n",
    "    model.add(Dense(1, activation='sigmoid'))  # Assuming binary classification\n",
    "    \n",
    "    # compile the model\n",
    "    lr_schedule = tf.keras.optimizers.schedules.ExponentialDecay(\n",
    "    initial_learning_rate=learning_rate,\n",
    "    decay_steps=decay_steps,\n",
    "    decay_rate=decay_rate\n",
    "    )\n",
    "    \n",
    "    model.compile(\n",
    "        # optimizer=Adam(learning_rate=learning_rate, decay=learning_rate / decay_steps),\n",
    "        optimizer = Adam(learning_rate=lr_schedule),\n",
    "        loss='binary_crossentropy', \n",
    "        metrics=['accuracy']\n",
    "    )\n",
    "    \n",
    "    # print the model summary\n",
    "    print(model.summary())\n",
    "    print('#' * 150)\n",
    "    \n",
    "    # Create a callback that saves the best model during validation\n",
    "    model_checkpoint = ModelCheckpoint(\n",
    "        \"models/\" + model_name + \"_\" + datetime.now().strftime(\"%Y%m%d_%H%M%S\") + \".h5\",\n",
    "        # \"models/LSTM_\"+ datetime.now().strftime(\"%Y%m%d_%H%M%S\") + \".h5\",\n",
    "        monitor='val_accuracy', # val_loss or val_accuracy \n",
    "        verbose=1,\n",
    "        save_best_only=True,\n",
    "        mode='max' # max for val_accuracy, min for val_loss\n",
    "    )\n",
    "    # EarlyStopping to stop training when the validation loss has stopped improving\n",
    "    early_stopping = EarlyStopping(\n",
    "        monitor = 'val_loss',\n",
    "        verbose = 1,\n",
    "        patience = 3, # Number of epochs with no improvement after which training will be stopped.\n",
    "        mode = 'min'\n",
    "    )\n",
    "\n",
    "    # TensorBoard for visualization\n",
    "    log_dir = \"logs/fit/\" + datetime.now().strftime(\"%Y%m%d-%H%M%S\")\n",
    "    tensorboard_callback = TensorBoard(log_dir=log_dir, histogram_freq=1)\n",
    "\n",
    "    # train the model\n",
    "    start_time = time()\n",
    "    history = model.fit(\n",
    "        X_train,\n",
    "        y_train,\n",
    "        epochs=epochs,\n",
    "        batch_size=batch_size,\n",
    "        validation_data=(X_val, y_val),\n",
    "        verbose=1,\n",
    "        callbacks=[model_checkpoint, early_stopping, tensorboard_callback]\n",
    "    )\n",
    "    end_time = time()\n",
    "    training_time = end_time - start_time\n",
    "    \n",
    "    # print the training time\n",
    "    print('Training time: {}'.format(training_time))\n",
    "    \n",
    "    # evaluate the model\n",
    "    loss, accuracy = model.evaluate(X_test, y_test, verbose=1)\n",
    "    print('Test Loss: {}'.format(loss))\n",
    "    print('Test Accuracy: {}'.format(accuracy))\n",
    "    \n",
    "    # predict the test set\n",
    "    # y_pred = model.predict(X_test)\n",
    "    # y_pred = np.argmax(y_pred, axis=1)\n",
    "    # y_test = np.argmax(y_test, axis=1)\n",
    "    y_pred_probs = model.predict(X_test)\n",
    "    y_pred = (y_pred_probs >= 0.5).astype(int)  # Convert probabilities to binary (0 or 1)\n",
    "    \n",
    "    # print the precision, recall and f1-score\n",
    "    model_precision = precision_score(y_test, y_pred)\n",
    "    model_recall = recall_score(y_test, y_pred)\n",
    "    model_f1_score = f1_score(y_test, y_pred)\n",
    "    print('Precision: {}'.format(model_precision))\n",
    "    print('Recall: {}'.format(model_recall))\n",
    "    print('F1-score: {}'.format(model_f1_score))\n",
    "        \n",
    "    # print the classification report\n",
    "    report = classification_report(y_test, y_pred, digits=4, target_names=['None_vishing', 'Vishing'])\n",
    "    print(report)\n",
    "    \n",
    "    # print the confusion matrix\n",
    "    print(confusion_matrix(y_test, y_pred))\n",
    "        \n",
    "    # save the model\n",
    "    # model.save('models/{}.h5'.format(model_name))\n",
    "    \n",
    "    # save the history\n",
    "    with open('histories/{}.pkl'.format(model_name), 'wb') as file_pi:\n",
    "        pickle.dump(history.history, file_pi)\n",
    "    \n",
    "    # save the results\n",
    "    df_results.loc[model_name] = [model_f1_score, model_precision, model_recall, accuracy, training_time]\n",
    "    # df_results.loc[model_name] = [f1_score(y_test, y_pred), precision_score(y_test, y_pred), recall_score(y_test, y_pred), accuracy, training_time]  \n",
    "    \n",
    "    # print the results\n",
    "    # df_results\n",
    "    \n",
    "    return model, history, report"
   ]
  },
  {
   "cell_type": "code",
   "execution_count": null,
   "id": "a2017516f93ef4f8",
   "metadata": {
    "collapsed": false,
    "editable": true,
    "slideshow": {
     "slide_type": ""
    },
    "tags": []
   },
   "outputs": [],
   "source": [
    "# build, train and evaluate the LSTM model\n",
    "model_name = augmented_dataset + '_LSTM'\n",
    "model_lstm, history_lstm, report_lstm = build_train_lstm_model(model_name, X_train_pad, y_train, X_val_pad, y_val, X_test_pad, y_test)"
   ]
  },
  {
   "cell_type": "code",
   "execution_count": null,
   "id": "5a0ca2bfe3338c02",
   "metadata": {
    "collapsed": false
   },
   "outputs": [],
   "source": [
    "# print the results\n",
    "df_results"
   ]
  },
  {
   "cell_type": "markdown",
   "id": "d41f51391066c0e2",
   "metadata": {
    "collapsed": false
   },
   "source": [
    "#### Plot the results"
   ]
  },
  {
   "cell_type": "code",
   "execution_count": null,
   "id": "625c0810be4efd9d",
   "metadata": {
    "collapsed": false
   },
   "outputs": [],
   "source": [
    "plot_name = augmented_dataset + '_LSTM_Classification_report'\n",
    "plot_classification_report(report_lstm, plot_name)"
   ]
  },
  {
   "cell_type": "code",
   "execution_count": null,
   "id": "3c42da799e8a2e80",
   "metadata": {
    "collapsed": false
   },
   "outputs": [],
   "source": [
    "#plot the training and validation loss and accuracy\n",
    "plot_name = augmented_dataset + '_LSTM'\n",
    "plot_loss_accuracy(history_lstm, plot_name)"
   ]
  },
  {
   "cell_type": "code",
   "execution_count": null,
   "id": "95166221fd87fe2e",
   "metadata": {
    "collapsed": false
   },
   "outputs": [],
   "source": [
    "# plot the tensorboard results\n",
    "# %load_ext tensorboard\n",
    "# %tensorboard --logdir logs/fit\n",
    "# %tensorboard --logdir logs/fit"
   ]
  },
  {
   "cell_type": "markdown",
   "id": "e1caeff66dd045e",
   "metadata": {
    "collapsed": false
   },
   "source": [
    "### Single LSTM layer with FastText embedding layer"
   ]
  },
  {
   "cell_type": "code",
   "execution_count": null,
   "id": "7c831bd3c3b085ae",
   "metadata": {
    "collapsed": false
   },
   "outputs": [],
   "source": [
    "# build, train and evaluate the LSTM model\n",
    "model_name = augmented_dataset + '_LSTM_FT'\n",
    "model_lstm_ft, history_lstm_ft, report_lstm_ft = build_train_lstm_model(model_name, X_train_pad, y_train, X_val_pad, y_val, X_test_pad, y_test, embedding_matrix=embedding_matrix)"
   ]
  },
  {
   "cell_type": "code",
   "execution_count": null,
   "id": "dd4b986a90fcc29a",
   "metadata": {
    "collapsed": false
   },
   "outputs": [],
   "source": [
    "# print the results\n",
    "df_results"
   ]
  },
  {
   "cell_type": "code",
   "execution_count": null,
   "id": "d2f9b8ad4eda3151",
   "metadata": {
    "collapsed": false
   },
   "outputs": [],
   "source": [
    "plot_name = augmented_dataset + '_LSTM_FT_Classification_report'\n",
    "plot_classification_report(report_lstm_ft, plot_name)"
   ]
  },
  {
   "cell_type": "code",
   "execution_count": null,
   "id": "e8b77062be8ac33f",
   "metadata": {
    "collapsed": false
   },
   "outputs": [],
   "source": [
    "#plot the training and validation loss and accuracy\n",
    "plot_name = augmented_dataset + '_LSTM_FT'\n",
    "plot_loss_accuracy(history_lstm_ft, plot_name)"
   ]
  },
  {
   "cell_type": "markdown",
   "id": "aba9dfd0ee4f6361",
   "metadata": {
    "collapsed": false
   },
   "source": [
    "### Stacked LSTM layers\n"
   ]
  },
  {
   "cell_type": "code",
   "execution_count": null,
   "id": "8e57ec3571bc44f1",
   "metadata": {
    "collapsed": false
   },
   "outputs": [],
   "source": [
    "# write a function to build, train and evaluate the LSTM model\n",
    "def build_train_stackedlstm_model(model_name, X_train, y_train, X_val, y_val, X_test, y_test, epochs=epochs, batch_size=batch_size, learning_rate=learning_rate, decay_steps=decay_steps, decay_rate=decay_rate, embedding_matrix=None):\n",
    "    \n",
    "    # define the model architecture\n",
    "    model = Sequential()\n",
    "    # check if the embedding_matrix is None or not\n",
    "    if embedding_matrix is None:\n",
    "        model.add(Embedding(max_words, embedding_dim, input_length=max_len, trainable=False))\n",
    "    else:\n",
    "        model.add(Embedding(max_words, embedding_dim, weights= [embedding_matrix], input_length=max_len, trainable=False))\n",
    "    \n",
    "    # model.add(SpatialDropout1D(spa_dropout_ratio))\n",
    "    model.add(LSTM(lstm_units_1, return_sequences=True))\n",
    "    model.add(LSTM(lstm_units_2))\n",
    "    model.add(Dense(dense_units, activation='relu'))\n",
    "    # model.add(LSTM(lstm_units_1, dropout=dropout_ratio, recurrent_dropout=dropout_ratio))\n",
    "    model.add(Dropout(dropout_ratio))\n",
    "    model.add(Dense(1, activation='sigmoid'))  # Assuming binary classification\n",
    "    \n",
    "    # compile the model\n",
    "    lr_schedule = tf.keras.optimizers.schedules.ExponentialDecay(\n",
    "    initial_learning_rate=learning_rate,\n",
    "    decay_steps=decay_steps,\n",
    "    decay_rate=decay_rate\n",
    "    )\n",
    "    \n",
    "    model.compile(\n",
    "        # optimizer=Adam(learning_rate=learning_rate, decay=learning_rate / decay_steps),\n",
    "        optimizer = Adam(learning_rate=lr_schedule),\n",
    "        loss='binary_crossentropy', \n",
    "        metrics=['accuracy']\n",
    "    )\n",
    "    \n",
    "    # print the model summary\n",
    "    print(model.summary())\n",
    "    print('#' * 150)\n",
    "    \n",
    "    # Create a callback that saves the best model during validation\n",
    "    model_checkpoint = ModelCheckpoint(\n",
    "        \"models/\" + model_name + \"_\" + datetime.now().strftime(\"%Y%m%d_%H%M%S\") + \".h5\",\n",
    "        monitor='val_accuracy', # val_loss or val_accuracy \n",
    "        verbose=1,\n",
    "        save_best_only=True,\n",
    "        mode='max' # max for val_accuracy, min for val_loss\n",
    "    )\n",
    "    # EarlyStopping to stop training when the validation loss has stopped improving\n",
    "    early_stopping = EarlyStopping(\n",
    "        monitor = 'val_loss',\n",
    "        verbose = 1,\n",
    "        patience = 3, # Number of epochs with no improvement after which training will be stopped.\n",
    "        mode = 'min'\n",
    "    )\n",
    "\n",
    "    # TensorBoard for visualization\n",
    "    log_dir = \"logs/fit/\" + datetime.now().strftime(\"%Y%m%d-%H%M%S\")\n",
    "    tensorboard_callback = TensorBoard(log_dir=log_dir, histogram_freq=1)\n",
    "\n",
    "    # train the model\n",
    "    start_time = time()\n",
    "    history = model.fit(\n",
    "        X_train,\n",
    "        y_train,\n",
    "        epochs=epochs,\n",
    "        batch_size=batch_size,\n",
    "        validation_data=(X_val, y_val),\n",
    "        verbose=1,\n",
    "        callbacks=[model_checkpoint, early_stopping, tensorboard_callback]\n",
    "    )\n",
    "    end_time = time()\n",
    "    training_time = end_time - start_time\n",
    "    \n",
    "    # print the training time\n",
    "    print('Training time: {}'.format(training_time))\n",
    "    \n",
    "    # evaluate the model\n",
    "    loss, accuracy = model.evaluate(X_test, y_test, verbose=1)\n",
    "    print('Test Loss: {}'.format(loss))\n",
    "    print('Test Accuracy: {}'.format(accuracy))\n",
    "    \n",
    "    # predict the test set\n",
    "    # y_pred = model.predict(X_test)\n",
    "    # y_pred = np.argmax(y_pred, axis=1)\n",
    "    # y_test = np.argmax(y_test, axis=1)\n",
    "    y_pred_probs = model.predict(X_test)\n",
    "    y_pred = (y_pred_probs >= 0.5).astype(int)  # Convert probabilities to binary (0 or 1)\n",
    "    \n",
    "    # print the precision, recall and f1-score\n",
    "    model_precision = precision_score(y_test, y_pred)\n",
    "    model_recall = recall_score(y_test, y_pred)\n",
    "    model_f1_score = f1_score(y_test, y_pred)\n",
    "    print('Precision: {}'.format(model_precision))\n",
    "    print('Recall: {}'.format(model_recall))\n",
    "    print('F1-score: {}'.format(model_f1_score))\n",
    "        \n",
    "    # print the classification report\n",
    "    report = classification_report(y_test, y_pred, digits=4, target_names=['None_vishing', 'Vishing'])\n",
    "    print(report)\n",
    "    \n",
    "    # print the confusion matrix\n",
    "    print(confusion_matrix(y_test, y_pred))\n",
    "        \n",
    "    # save the model\n",
    "    # model.save('models/{}.h5'.format(model_name))\n",
    "    \n",
    "    # save the history\n",
    "    with open('histories/{}.pkl'.format(model_name), 'wb') as file_pi:\n",
    "        pickle.dump(history.history, file_pi)\n",
    "    \n",
    "    # save the results\n",
    "    df_results.loc[model_name] = [model_f1_score, model_precision, model_recall, accuracy, training_time]\n",
    "    # df_results.loc[model_name] = [f1_score(y_test, y_pred), precision_score(y_test, y_pred), recall_score(y_test, y_pred), accuracy, training_time]  \n",
    "    \n",
    "    # print the results\n",
    "    # df_results\n",
    "    \n",
    "    return model, history, report"
   ]
  },
  {
   "cell_type": "code",
   "execution_count": null,
   "id": "6249804883bea896",
   "metadata": {
    "collapsed": false
   },
   "outputs": [],
   "source": [
    "# build, train and evaluate the stacked LSTM layers model\n",
    "model_name = augmented_dataset + '_stackedLSTM'\n",
    "model_stackedlstm, history_stackedlstm, report_stackedlstm = build_train_stackedlstm_model(model_name, X_train_pad, y_train, X_val_pad, y_val, X_test_pad, y_test)"
   ]
  },
  {
   "cell_type": "code",
   "execution_count": null,
   "id": "8390b4bf4d8d6b75",
   "metadata": {
    "collapsed": false
   },
   "outputs": [],
   "source": [
    "# print the results\n",
    "df_results"
   ]
  },
  {
   "cell_type": "code",
   "execution_count": null,
   "id": "114dba2a27540cea",
   "metadata": {
    "collapsed": false
   },
   "outputs": [],
   "source": [
    "plot_name = augmented_dataset + '_stackedLSTM_Classification_report'\n",
    "plot_classification_report(report_stackedlstm, plot_name)"
   ]
  },
  {
   "cell_type": "code",
   "execution_count": null,
   "id": "7cc0e4d9b8db2b78",
   "metadata": {
    "collapsed": false
   },
   "outputs": [],
   "source": [
    "#plot the training and validation loss and accuracy\n",
    "plot_name = augmented_dataset + '_stackedLSTM'\n",
    "plot_loss_accuracy(history_stackedlstm, plot_name)"
   ]
  },
  {
   "cell_type": "markdown",
   "id": "fd4bf5de70aad18d",
   "metadata": {
    "collapsed": false
   },
   "source": [
    "### Stacked LSTM layer with FastText embedding layer\n"
   ]
  },
  {
   "cell_type": "code",
   "execution_count": null,
   "id": "cba82e22db70417",
   "metadata": {
    "collapsed": false
   },
   "outputs": [],
   "source": [
    "# build, train and evaluate the stacked LSTM layers model with FastText embedding layer\n",
    "model_name = augmented_dataset + '_stackedLSTM_FT'\n",
    "model_stackedlstm_ft, history_stackedlstm_ft, report_stackedlstm_ft = build_train_stackedlstm_model(model_name, X_train_pad, y_train, X_val_pad, y_val, X_test_pad, y_test, embedding_matrix=embedding_matrix)"
   ]
  },
  {
   "cell_type": "code",
   "execution_count": null,
   "id": "4ac013f720a88e7c",
   "metadata": {
    "collapsed": false
   },
   "outputs": [],
   "source": [
    "# print the results\n",
    "df_results"
   ]
  },
  {
   "cell_type": "code",
   "execution_count": null,
   "id": "453c8bd4ab21c03d",
   "metadata": {
    "collapsed": false
   },
   "outputs": [],
   "source": [
    "#plot the confusion matrix\n",
    "plot_name = augmented_dataset + '_stackedLSTM_FT_Classification_report'\n",
    "plot_classification_report(report_stackedlstm_ft, plot_name)"
   ]
  },
  {
   "cell_type": "code",
   "execution_count": null,
   "id": "5c9ce8b183276be6",
   "metadata": {
    "collapsed": false
   },
   "outputs": [],
   "source": [
    "#plot the training and validation loss and accuracy\n",
    "plot_name = augmented_dataset + '_stackedLSTM_FT'\n",
    "plot_loss_accuracy(history_stackedlstm_ft, plot_name)"
   ]
  },
  {
   "cell_type": "markdown",
   "id": "d81668053c0331c9",
   "metadata": {
    "collapsed": false
   },
   "source": [
    "### Single BiLSTM layer"
   ]
  },
  {
   "cell_type": "code",
   "execution_count": null,
   "id": "10f81b5925a0b1f1",
   "metadata": {
    "collapsed": false
   },
   "outputs": [],
   "source": [
    "# Function to build, train and evaluate the BiLSTM model\n",
    "def build_train_bilstm_model(model_name, X_train, y_train, X_val, y_val, X_test, y_test, epochs=epochs, batch_size=batch_size, learning_rate=learning_rate, decay_steps=decay_steps, decay_rate=decay_rate, embedding_matrix=None):\n",
    "    \n",
    "    # define the model architecture\n",
    "    model = Sequential()\n",
    "    # check if the embedding_matrix is None or not\n",
    "    if embedding_matrix is None:\n",
    "        model.add(Embedding(max_words, embedding_dim, input_length=max_len, trainable=False))\n",
    "    else:\n",
    "        model.add(Embedding(max_words, embedding_dim, weights= [embedding_matrix], input_length=max_len, trainable=False))\n",
    "    \n",
    "    # model.add(SpatialDropout1D(spa_dropout_ratio))\n",
    "    model.add(Bidirectional(LSTM(lstm_units_1)))\n",
    "    model.add(Dense(dense_units, activation='relu'))\n",
    "    model.add(Dropout(dropout_ratio))\n",
    "    model.add(Dense(1, activation='sigmoid'))  # Assuming binary classification\n",
    "    \n",
    "    # compile the model\n",
    "    lr_schedule = tf.keras.optimizers.schedules.ExponentialDecay(\n",
    "    initial_learning_rate=learning_rate,\n",
    "    decay_steps=decay_steps,\n",
    "    decay_rate=decay_rate\n",
    "    )\n",
    "    \n",
    "    model.compile(\n",
    "        # optimizer=Adam(learning_rate=learning_rate, decay=learning_rate / decay_steps),\n",
    "        optimizer = Adam(learning_rate=lr_schedule),\n",
    "        loss='binary_crossentropy', \n",
    "        metrics=['accuracy']\n",
    "    )\n",
    "    \n",
    "    # print the model summary\n",
    "    print(model.summary())\n",
    "    print('#' * 150)\n",
    "    \n",
    "    # Create a callback that saves the best model during validation\n",
    "    model_checkpoint = ModelCheckpoint(\n",
    "        \"models/\" + model_name + \"_\" + datetime.now().strftime(\"%Y%m%d_%H%M%S\") + \".h5\",\n",
    "        # \"models/BiLSTM_\"+ datetime.now().strftime(\"%Y%m%d_%H%M%S\") + \".h5\",\n",
    "        monitor='val_accuracy', # val_loss or val_accuracy \n",
    "        verbose=1,\n",
    "        save_best_only=True,\n",
    "        mode='max' # max for val_accuracy, min for val_loss\n",
    "    )\n",
    "    # EarlyStopping to stop training when the validation loss has stopped improving\n",
    "    early_stopping = EarlyStopping(\n",
    "        monitor = 'val_loss',\n",
    "        verbose = 1,\n",
    "        patience = 3, # Number of epochs with no improvement after which training will be stopped.\n",
    "        mode = 'min'\n",
    "    )\n",
    "\n",
    "    # TensorBoard for visualization\n",
    "    log_dir = \"logs/fit/\" + datetime.now().strftime(\"%Y%m%d-%H%M%S\")\n",
    "    tensorboard_callback = TensorBoard(log_dir=log_dir, histogram_freq=1)\n",
    "\n",
    "    # train the model\n",
    "    start_time = time()\n",
    "    history = model.fit(\n",
    "        X_train,\n",
    "        y_train,\n",
    "        epochs=epochs,\n",
    "        batch_size=batch_size,\n",
    "        validation_data=(X_val, y_val),\n",
    "        verbose=1,\n",
    "        callbacks=[model_checkpoint, early_stopping, tensorboard_callback]\n",
    "    )\n",
    "    end_time = time()\n",
    "    training_time = end_time - start_time\n",
    "    \n",
    "    # print the training time\n",
    "    print('Training time: {}'.format(training_time))\n",
    "    \n",
    "    # evaluate the model\n",
    "    loss, accuracy = model.evaluate(X_test, y_test, verbose=1)\n",
    "    print('Test Loss: {}'.format(loss))\n",
    "    print('Test Accuracy: {}'.format(accuracy))\n",
    "    \n",
    "    # predict the test set\n",
    "    # y_pred = model.predict(X_test)\n",
    "    # y_pred = np.argmax(y_pred, axis=1)\n",
    "    # y_test = np.argmax(y_test, axis=1)\n",
    "    y_pred_probs = model.predict(X_test)\n",
    "    y_pred = (y_pred_probs >= 0.5).astype(int)  # Convert probabilities to binary (0 or 1)\n",
    "    \n",
    "    # print the precision, recall and f1-score\n",
    "    model_precision = precision_score(y_test, y_pred)\n",
    "    model_recall = recall_score(y_test, y_pred)\n",
    "    model_f1_score = f1_score(y_test, y_pred)\n",
    "    print('Precision: {}'.format(model_precision))\n",
    "    print('Recall: {}'.format(model_recall))\n",
    "    print('F1-score: {}'.format(model_f1_score))\n",
    "        \n",
    "    # print the classification report\n",
    "    report = classification_report(y_test, y_pred, digits=4, target_names=['None_vishing', 'Vishing'])\n",
    "    print(report)\n",
    "    \n",
    "    # print the confusion matrix\n",
    "    print(confusion_matrix(y_test, y_pred))\n",
    "        \n",
    "    # save the model\n",
    "    # model.save('models/{}.h5'.format(model_name))\n",
    "    \n",
    "    # save the history\n",
    "    with open('histories/{}.pkl'.format(model_name), 'wb') as file_pi:\n",
    "        pickle.dump(history.history, file_pi)\n",
    "    \n",
    "    # save the results\n",
    "    df_results.loc[model_name] = [model_f1_score, model_precision, model_recall, accuracy, training_time]\n",
    "    # df_results.loc[model_name] = [f1_score(y_test, y_pred), precision_score(y_test, y_pred), recall_score(y_test, y_pred), accuracy, training_time]  \n",
    "    \n",
    "    # print the results\n",
    "    # df_results\n",
    "    \n",
    "    return model, history, report"
   ]
  },
  {
   "cell_type": "code",
   "execution_count": null,
   "id": "9edaf34fad9548",
   "metadata": {
    "collapsed": false
   },
   "outputs": [],
   "source": [
    "# build, train and evaluate the BiLSTM model\n",
    "model_name = augmented_dataset + '_BiLSTM'\n",
    "model_bilstm, history_bilstm, report_bilstm = build_train_bilstm_model(model_name, X_train_pad, y_train, X_val_pad, y_val, X_test_pad, y_test)"
   ]
  },
  {
   "cell_type": "code",
   "execution_count": null,
   "id": "e255abfe8d64e4f",
   "metadata": {
    "collapsed": false
   },
   "outputs": [],
   "source": [
    "# print the results\n",
    "df_results"
   ]
  },
  {
   "cell_type": "code",
   "execution_count": null,
   "id": "3e325f64cf221a87",
   "metadata": {
    "collapsed": false
   },
   "outputs": [],
   "source": [
    "#plot the confusion matrix\n",
    "plot_name = augmented_dataset + '_BiLSTM_Classification_report'\n",
    "plot_classification_report(report_bilstm, plot_name)"
   ]
  },
  {
   "cell_type": "code",
   "execution_count": null,
   "id": "f15853e33f406f5e",
   "metadata": {
    "collapsed": false
   },
   "outputs": [],
   "source": [
    "#plot the training and validation loss and accuracy\n",
    "plot_name = augmented_dataset + '_BiLSTM'\n",
    "plot_loss_accuracy(history_bilstm, plot_name)"
   ]
  },
  {
   "cell_type": "markdown",
   "id": "1378386f859f9376",
   "metadata": {
    "collapsed": false
   },
   "source": [
    "### Single BiLSTM layer with FastText embedding layer"
   ]
  },
  {
   "cell_type": "code",
   "execution_count": null,
   "id": "10a8ad2745658e79",
   "metadata": {
    "collapsed": false
   },
   "outputs": [],
   "source": [
    "# build, train and evaluate the BiLSTM model with FastText embedding layer\n",
    "model_name = augmented_dataset + '_BiLSTM_FT'\n",
    "model_bilstm_ft, history_bilstm_ft, report_bilstm_ft = build_train_bilstm_model(model_name, X_train_pad, y_train, X_val_pad, y_val, X_test_pad, y_test, embedding_matrix=embedding_matrix)"
   ]
  },
  {
   "cell_type": "code",
   "execution_count": null,
   "id": "aa40985a53025335",
   "metadata": {
    "collapsed": false
   },
   "outputs": [],
   "source": [
    "# print the results\n",
    "df_results"
   ]
  },
  {
   "cell_type": "code",
   "execution_count": null,
   "id": "92f5e5e6ce1ed095",
   "metadata": {
    "collapsed": false
   },
   "outputs": [],
   "source": [
    "#plot the confusion matrix\n",
    "plot_name = augmented_dataset + '_BiLSTM_FT_Classification_report'\n",
    "plot_classification_report(report_bilstm_ft, plot_name)"
   ]
  },
  {
   "cell_type": "code",
   "execution_count": null,
   "id": "f295141d753556a4",
   "metadata": {
    "collapsed": false
   },
   "outputs": [],
   "source": [
    "#plot the training and validation loss and accuracy\n",
    "plot_name = augmented_dataset + '_BiLSTM_FT'\n",
    "plot_loss_accuracy(history_bilstm_ft, plot_name)"
   ]
  },
  {
   "cell_type": "markdown",
   "id": "2bda6f2ca02c14e9",
   "metadata": {
    "collapsed": false
   },
   "source": [
    "### Stacked BiLSTM layers"
   ]
  },
  {
   "cell_type": "code",
   "execution_count": null,
   "id": "f79dec586d42447e",
   "metadata": {
    "collapsed": false
   },
   "outputs": [],
   "source": [
    "# Function to build, train and evaluate the stacked BiLSTM model\n",
    "def build_train_stackedbilstm_model(model_name, X_train, y_train, X_val, y_val, X_test, y_test, epochs=epochs, batch_size=batch_size, learning_rate=learning_rate, decay_steps=decay_steps, decay_rate=decay_rate, embedding_matrix=None):\n",
    "    \n",
    "    # define the model architecture\n",
    "    model = Sequential()\n",
    "    # check if the embedding_matrix is None or not\n",
    "    if embedding_matrix is None:\n",
    "        model.add(Embedding(max_words, embedding_dim, input_length=max_len, trainable=False))\n",
    "    else:\n",
    "        model.add(Embedding(max_words, embedding_dim, weights= [embedding_matrix], input_length=max_len, trainable=False))\n",
    "    \n",
    "    # model.add(SpatialDropout1D(spa_dropout_ratio))\n",
    "    model.add(Bidirectional(LSTM(lstm_units_1,return_sequences=True)))\n",
    "    model.add(Bidirectional(LSTM(lstm_units_2)))\n",
    "    model.add(Dense(dense_units, activation='relu'))\n",
    "    model.add(Dropout(dropout_ratio))\n",
    "    model.add(Dense(1, activation='sigmoid'))  # Assuming binary classification\n",
    "    \n",
    "    # compile the model\n",
    "    lr_schedule = tf.keras.optimizers.schedules.ExponentialDecay(\n",
    "    initial_learning_rate=learning_rate,\n",
    "    decay_steps=decay_steps,\n",
    "    decay_rate=decay_rate\n",
    "    )\n",
    "    \n",
    "    model.compile(\n",
    "        # optimizer=Adam(learning_rate=learning_rate, decay=learning_rate / decay_steps),\n",
    "        optimizer = Adam(learning_rate=lr_schedule),\n",
    "        loss='binary_crossentropy', \n",
    "        metrics=['accuracy']\n",
    "    )\n",
    "    \n",
    "    # print the model summary\n",
    "    print(model.summary())\n",
    "    print('#' * 150)\n",
    "    \n",
    "    # Create a callback that saves the best model during validation\n",
    "    model_checkpoint = ModelCheckpoint(\n",
    "        \"models/\" + model_name + \"_\" + datetime.now().strftime(\"%Y%m%d_%H%M%S\") + \".h5\",\n",
    "        # \"models/BiLSTM_\"+ datetime.now().strftime(\"%Y%m%d_%H%M%S\") + \".h5\",\n",
    "        monitor='val_accuracy', # val_loss or val_accuracy \n",
    "        verbose=1,\n",
    "        save_best_only=True,\n",
    "        mode='max' # max for val_accuracy, min for val_loss\n",
    "    )\n",
    "    # EarlyStopping to stop training when the validation loss has stopped improving\n",
    "    early_stopping = EarlyStopping(\n",
    "        monitor = 'val_loss',\n",
    "        verbose = 1,\n",
    "        patience = 3, # Number of epochs with no improvement after which training will be stopped.\n",
    "        mode = 'min'\n",
    "    )\n",
    "\n",
    "    # TensorBoard for visualization\n",
    "    log_dir = \"logs/fit/\" + datetime.now().strftime(\"%Y%m%d-%H%M%S\")\n",
    "    tensorboard_callback = TensorBoard(log_dir=log_dir, histogram_freq=1)\n",
    "\n",
    "    # train the model\n",
    "    start_time = time()\n",
    "    history = model.fit(\n",
    "        X_train,\n",
    "        y_train,\n",
    "        epochs=epochs,\n",
    "        batch_size=batch_size,\n",
    "        validation_data=(X_val, y_val),\n",
    "        verbose=1,\n",
    "        callbacks=[model_checkpoint, early_stopping, tensorboard_callback]\n",
    "    )\n",
    "    end_time = time()\n",
    "    training_time = end_time - start_time\n",
    "    \n",
    "    # print the training time\n",
    "    print('Training time: {}'.format(training_time))\n",
    "    \n",
    "    # evaluate the model\n",
    "    loss, accuracy = model.evaluate(X_test, y_test, verbose=1)\n",
    "    print('Test Loss: {}'.format(loss))\n",
    "    print('Test Accuracy: {}'.format(accuracy))\n",
    "    \n",
    "    # predict the test set\n",
    "    # y_pred = model.predict(X_test)\n",
    "    # y_pred = np.argmax(y_pred, axis=1)\n",
    "    # y_test = np.argmax(y_test, axis=1)\n",
    "    y_pred_probs = model.predict(X_test)\n",
    "    y_pred = (y_pred_probs >= 0.5).astype(int)  # Convert probabilities to binary (0 or 1)\n",
    "    \n",
    "    # print the precision, recall and f1-score\n",
    "    model_precision = precision_score(y_test, y_pred)\n",
    "    model_recall = recall_score(y_test, y_pred)\n",
    "    model_f1_score = f1_score(y_test, y_pred)\n",
    "    print('Precision: {}'.format(model_precision))\n",
    "    print('Recall: {}'.format(model_recall))\n",
    "    print('F1-score: {}'.format(model_f1_score))\n",
    "        \n",
    "    # print the classification report\n",
    "    report = classification_report(y_test, y_pred, digits=4, target_names=['None_vishing', 'Vishing'])\n",
    "    print(report)\n",
    "    \n",
    "    # print the confusion matrix\n",
    "    print(confusion_matrix(y_test, y_pred))\n",
    "        \n",
    "    # save the model\n",
    "    # model.save('models/{}.h5'.format(model_name))\n",
    "    \n",
    "    # save the history\n",
    "    with open('histories/{}.pkl'.format(model_name), 'wb') as file_pi:\n",
    "        pickle.dump(history.history, file_pi)\n",
    "    \n",
    "    # save the results\n",
    "    df_results.loc[model_name] = [model_f1_score, model_precision, model_recall, accuracy, training_time]\n",
    "    # df_results.loc[model_name] = [f1_score(y_test, y_pred), precision_score(y_test, y_pred), recall_score(y_test, y_pred), accuracy, training_time]  \n",
    "    \n",
    "    # print the results\n",
    "    # df_results\n",
    "    \n",
    "    return model, history, report"
   ]
  },
  {
   "cell_type": "code",
   "execution_count": null,
   "id": "5a9ebd0d0a19b6e6",
   "metadata": {
    "collapsed": false
   },
   "outputs": [],
   "source": [
    "# build, train and evaluate the stacked BiLSTM model\n",
    "model_name = augmented_dataset + '_stackedBiLSTM'\n",
    "model_stackedbilstm, history_stackedbilstm, report_stackedbilstm = build_train_stackedbilstm_model(model_name, X_train_pad, y_train, X_val_pad, y_val, X_test_pad, y_test)"
   ]
  },
  {
   "cell_type": "code",
   "execution_count": null,
   "id": "1647903d69f31441",
   "metadata": {
    "collapsed": false
   },
   "outputs": [],
   "source": [
    "# print the results\n",
    "df_results"
   ]
  },
  {
   "cell_type": "code",
   "execution_count": null,
   "id": "a0dc8845b6355089",
   "metadata": {
    "collapsed": false
   },
   "outputs": [],
   "source": [
    "#plot the confusion matrix\n",
    "plot_name = augmented_dataset + '_stackedBiLSTM_Classification_report'\n",
    "plot_classification_report(report_stackedbilstm, plot_name)"
   ]
  },
  {
   "cell_type": "code",
   "execution_count": null,
   "id": "4d01f5ed87f5e052",
   "metadata": {
    "collapsed": false
   },
   "outputs": [],
   "source": [
    "#plot the training and validation loss and accuracy\n",
    "plot_name = augmented_dataset + '_stackedBiLSTM'\n",
    "plot_loss_accuracy(history_stackedbilstm, plot_name)"
   ]
  },
  {
   "cell_type": "markdown",
   "id": "b792de0f8c653b70",
   "metadata": {
    "collapsed": false
   },
   "source": [
    "### Stacked BiLSTM layer with FastText embedding layer with FastText embedding layer"
   ]
  },
  {
   "cell_type": "code",
   "execution_count": null,
   "id": "c7431551ecc4052b",
   "metadata": {
    "collapsed": false
   },
   "outputs": [],
   "source": [
    "# build, train and evaluate the stacked BiLSTM model with FastText embedding layer\n",
    "model_name = augmented_dataset + '_stackedBiLSTM_FT'\n",
    "model_stackedbilstm_ft, history_stackedbilstm_ft, report_stackedbilstm_ft = build_train_stackedbilstm_model(model_name, X_train_pad, y_train, X_val_pad, y_val, X_test_pad, y_test, embedding_matrix=embedding_matrix)"
   ]
  },
  {
   "cell_type": "code",
   "execution_count": null,
   "id": "6577c6cbfdc80061",
   "metadata": {
    "collapsed": false
   },
   "outputs": [],
   "source": [
    "# print the results\n",
    "df_results"
   ]
  },
  {
   "cell_type": "code",
   "execution_count": null,
   "id": "3060a6c551616415",
   "metadata": {
    "collapsed": false
   },
   "outputs": [],
   "source": [
    "#plot the confusion matrix\n",
    "plot_name = augmented_dataset + '_stackedBiLSTM_FT_Classification_report'\n",
    "plot_classification_report(report_stackedbilstm_ft, plot_name)"
   ]
  },
  {
   "cell_type": "code",
   "execution_count": null,
   "id": "603af0c3545bb189",
   "metadata": {
    "collapsed": false
   },
   "outputs": [],
   "source": [
    "#plot the training and validation loss and accuracy\n",
    "plot_name = augmented_dataset + '_stackedBiLSTM_FT'\n",
    "plot_loss_accuracy(history_stackedbilstm_ft, plot_name)"
   ]
  },
  {
   "cell_type": "markdown",
   "id": "644138f74d12dc05",
   "metadata": {
    "collapsed": false
   },
   "source": [
    "### 1D CNN Layer"
   ]
  },
  {
   "cell_type": "code",
   "execution_count": null,
   "id": "b9d9ff8466157f3b",
   "metadata": {
    "collapsed": false
   },
   "outputs": [],
   "source": [
    "# Function to build, train and evaluate the stacked BiLSTM model\n",
    "def build_train_cnn_model(model_name, X_train, y_train, X_val, y_val, X_test, y_test, epochs=epochs, batch_size=batch_size, learning_rate=learning_rate, decay_steps=decay_steps, decay_rate=decay_rate, embedding_matrix=None):\n",
    "    \n",
    "    # define the model architecture\n",
    "    model = Sequential()\n",
    "    # check if the embedding_matrix is None or not\n",
    "    if embedding_matrix is None:\n",
    "        model.add(Embedding(max_words, embedding_dim, input_length=max_len, trainable=False))\n",
    "    else:\n",
    "        model.add(Embedding(max_words, embedding_dim, weights= [embedding_matrix], input_length=max_len, trainable=False))\n",
    "\n",
    "    model.add(SpatialDropout1D(spa_dropout_ratio))\n",
    "    model.add(Conv1D(num_filters, kernel_size, activation='relu', padding='valid'))\n",
    "    model.add(MaxPooling1D())\n",
    "    # model.add(GlobalMaxPooling1D()) #takes the maximum value over the time dimension from each feature map generated by the convolutional layers, Dimensionality Reduction, Reduces Overfitting\n",
    "    model.add(Dense(dense_units, activation='relu'))\n",
    "    model.add(Flatten()) # no need if used Global poooling\n",
    "    model.add(Dropout(dropout_ratio))\n",
    "    model.add(Dense(1, activation='sigmoid'))  # Assuming binary classification\n",
    "    \n",
    "    # compile the model\n",
    "    lr_schedule = tf.keras.optimizers.schedules.ExponentialDecay(\n",
    "    initial_learning_rate=learning_rate,\n",
    "    decay_steps=decay_steps,\n",
    "    decay_rate=decay_rate\n",
    "    )\n",
    "    \n",
    "    model.compile(\n",
    "        # optimizer=Adam(learning_rate=learning_rate, decay=learning_rate / decay_steps),\n",
    "        optimizer = Adam(learning_rate=lr_schedule),\n",
    "        loss='binary_crossentropy', \n",
    "        metrics=['accuracy']\n",
    "    )\n",
    "    \n",
    "    # print the model summary\n",
    "    print(model.summary())\n",
    "    print('#' * 150)\n",
    "    \n",
    "    # Create a callback that saves the best model during validation\n",
    "    model_checkpoint = ModelCheckpoint(\n",
    "        \"models/\" + model_name + \"_\" + datetime.now().strftime(\"%Y%m%d_%H%M%S\") + \".h5\",\n",
    "        # \"models/BiLSTM_\"+ datetime.now().strftime(\"%Y%m%d_%H%M%S\") + \".h5\",\n",
    "        monitor='val_accuracy', # val_loss or val_accuracy \n",
    "        verbose=1,\n",
    "        save_best_only=True,\n",
    "        mode='max' # max for val_accuracy, min for val_lossmode='mn'\n",
    "    )\n",
    "    # EarlyStopping to stop training when the validation loss has stopped improving\n",
    "    early_stopping = EarlyStopping(\n",
    "        monitor = 'val_loss',\n",
    "        verbose = 1,\n",
    "        patience = 3, # Number of epochs with no improvement after which training will be stopped.\n",
    "        mode = 'min'\n",
    "    )\n",
    "\n",
    "    # TensorBoard for visualization\n",
    "    log_dir = \"logs/fit/\" + datetime.now().strftime(\"%Y%m%d-%H%M%S\")\n",
    "    tensorboard_callback = TensorBoard(log_dir=log_dir, histogram_freq=1)\n",
    "\n",
    "    # train the model\n",
    "    start_time = time()\n",
    "    history = model.fit(\n",
    "        X_train,\n",
    "        y_train,\n",
    "        epochs=epochs,\n",
    "        batch_size=batch_size,\n",
    "        validation_data=(X_val, y_val),\n",
    "        verbose=1,\n",
    "        callbacks=[model_checkpoint, early_stopping, tensorboard_callback]\n",
    "    )\n",
    "    end_time = time()\n",
    "    training_time = end_time - start_time\n",
    "    \n",
    "    # print the training time\n",
    "    print('Training time: {}'.format(training_time))\n",
    "    \n",
    "    # evaluate the model\n",
    "    loss, accuracy = model.evaluate(X_test, y_test, verbose=1)\n",
    "    print('Test Loss: {}'.format(loss))\n",
    "    print('Test Accuracy: {}'.format(accuracy))\n",
    "    \n",
    "    # predict the test set\n",
    "    # y_pred = model.predict(X_test)\n",
    "    # y_pred = np.argmax(y_pred, axis=1)\n",
    "    # y_test = np.argmax(y_test, axis=1)\n",
    "    y_pred_probs = model.predict(X_test)\n",
    "    y_pred = (y_pred_probs >= 0.5).astype(int)  # Convert probabilities to binary (0 or 1)\n",
    "    \n",
    "    # print the precision, recall and f1-score\n",
    "    model_precision = precision_score(y_test, y_pred)\n",
    "    model_recall = recall_score(y_test, y_pred)\n",
    "    model_f1_score = f1_score(y_test, y_pred)\n",
    "    print('Precision: {}'.format(model_precision))\n",
    "    print('Recall: {}'.format(model_recall))\n",
    "    print('F1-score: {}'.format(model_f1_score))\n",
    "        \n",
    "    # print the classification report\n",
    "    report = classification_report(y_test, y_pred, digits=4, target_names=['None_vishing', 'Vishing'])\n",
    "    print(report)\n",
    "    \n",
    "    # print the confusion matrix\n",
    "    print(confusion_matrix(y_test, y_pred))\n",
    "        \n",
    "    # save the model\n",
    "    # model.save('models/{}.h5'.format(model_name))\n",
    "    \n",
    "    # save the history\n",
    "    with open('histories/{}.pkl'.format(model_name), 'wb') as file_pi:\n",
    "        pickle.dump(history.history, file_pi)\n",
    "    \n",
    "    # save the results\n",
    "    df_results.loc[model_name] = [model_f1_score, model_precision, model_recall, accuracy, training_time]\n",
    "    # df_results.loc[model_name] = [f1_score(y_test, y_pred), precision_score(y_test, y_pred), recall_score(y_test, y_pred), accuracy, training_time]  \n",
    "    \n",
    "    # print the results\n",
    "    # df_results\n",
    "    \n",
    "    return model, history, report"
   ]
  },
  {
   "cell_type": "code",
   "execution_count": null,
   "id": "81ecdbbbddbda051",
   "metadata": {
    "collapsed": false
   },
   "outputs": [],
   "source": [
    "# build, train and evaluate the CNN model\n",
    "model_name = augmented_dataset + '_CNN'\n",
    "model_cnn, history_cnn, report_cnn = build_train_cnn_model(model_name, X_train_pad, y_train, X_val_pad, y_val, X_test_pad, y_test)"
   ]
  },
  {
   "cell_type": "code",
   "execution_count": null,
   "id": "6d8af77ae212f81f",
   "metadata": {
    "collapsed": false
   },
   "outputs": [],
   "source": [
    "# print the results\n",
    "df_results"
   ]
  },
  {
   "cell_type": "code",
   "execution_count": null,
   "id": "10decec3d4c35c30",
   "metadata": {
    "collapsed": false
   },
   "outputs": [],
   "source": [
    "#plot the confusion matrix\n",
    "plot_name = augmented_dataset + '_CNN_Classification_report'\n",
    "plot_classification_report(report_cnn, plot_name)"
   ]
  },
  {
   "cell_type": "code",
   "execution_count": null,
   "id": "8d62ba137865277",
   "metadata": {
    "collapsed": false
   },
   "outputs": [],
   "source": [
    "#plot the training and validation loss and accuracy\n",
    "plot_name = augmented_dataset + '_CNN'\n",
    "plot_loss_accuracy(history_cnn, plot_name)"
   ]
  },
  {
   "cell_type": "markdown",
   "id": "25ece3f13710d321",
   "metadata": {
    "collapsed": false
   },
   "source": [
    "#### 1D CNN layer with FastText embedding layer"
   ]
  },
  {
   "cell_type": "code",
   "execution_count": null,
   "id": "76ce283fe86fe559",
   "metadata": {
    "collapsed": false
   },
   "outputs": [],
   "source": [
    "# build, train and evaluate the CNN model with FastText embedding layer\n",
    "model_name = augmented_dataset + '_CNN_FT'\n",
    "model_cnn_ft, history_cnn_ft, report_cnn_ft = build_train_cnn_model(model_name, X_train_pad, y_train, X_val_pad, y_val, X_test_pad, y_test, embedding_matrix=embedding_matrix)"
   ]
  },
  {
   "cell_type": "code",
   "execution_count": null,
   "id": "9905c61d2601dc2d",
   "metadata": {
    "collapsed": false
   },
   "outputs": [],
   "source": [
    "# print the results\n",
    "df_results"
   ]
  },
  {
   "cell_type": "code",
   "execution_count": null,
   "id": "b154446fe74de678",
   "metadata": {
    "collapsed": false
   },
   "outputs": [],
   "source": [
    "#plot the confusion matrix\n",
    "plot_name = augmented_dataset + '_CNN_FT_Classification_report'\n",
    "plot_classification_report(report_cnn_ft, plot_name)"
   ]
  },
  {
   "cell_type": "code",
   "execution_count": null,
   "id": "d24ca6653996b3a0",
   "metadata": {
    "collapsed": false
   },
   "outputs": [],
   "source": [
    "#plot the training and validation loss and accuracy\n",
    "plot_name = augmented_dataset + '_CNN_FT'\n",
    "plot_loss_accuracy(history_cnn_ft, plot_name)"
   ]
  },
  {
   "cell_type": "markdown",
   "id": "931052dd7304b432",
   "metadata": {
    "collapsed": false
   },
   "source": [
    "### 1D CNN layer with multiple kernel sizes"
   ]
  },
  {
   "cell_type": "code",
   "execution_count": null,
   "id": "fbc126155546835b",
   "metadata": {
    "collapsed": false
   },
   "outputs": [],
   "source": [
    "# Function to build, train and evaluate the 1D CNN layer with multiple kernel sizes model\n",
    "def build_train_cnn_multiple_model(model_name, X_train, y_train, X_val, y_val, X_test, y_test, epochs=epochs, batch_size=batch_size, learning_rate=learning_rate, decay_steps=decay_steps, decay_rate=decay_rate, embedding_matrix=None):\n",
    "    \n",
    "    # define the model architecture\n",
    "    model = Sequential()\n",
    "    # check if the embedding_matrix is None or not\n",
    "    if embedding_matrix is None:\n",
    "        model.add(Embedding(max_words, embedding_dim, input_length=max_len, trainable=False))\n",
    "    else:\n",
    "        model.add(Embedding(max_words, embedding_dim, weights= [embedding_matrix], input_length=max_len, trainable=False))\n",
    "\n",
    "    model.add(SpatialDropout1D(spa_dropout_ratio))\n",
    "    model.add(Conv1D(num_filters, kernel_size, activation='relu', padding='same'))\n",
    "    model.add(MaxPooling1D())\n",
    "    model.add(Conv1D(num_filters, kernel_size+1, activation='relu', padding='same'))\n",
    "    model.add(MaxPooling1D())\n",
    "    model.add(Conv1D(num_filters, kernel_size+2, activation='relu', padding='same'))\n",
    "    model.add(MaxPooling1D())\n",
    "    # model.add(GlobalMaxPooling1D()) #takes the maximum value over the time dimension from each feature map generated by the convolutional layers, Dimensionality Reduction, Reduces Overfitting\n",
    "    model.add(Dense(dense_units, activation='relu'))\n",
    "    model.add(Flatten()) # no need if used Global poooling\n",
    "    model.add(Dropout(dropout_ratio))\n",
    "    model.add(Dense(1, activation='sigmoid'))  # Assuming binary classification\n",
    "\n",
    "    # compile the model\n",
    "    lr_schedule = tf.keras.optimizers.schedules.ExponentialDecay(\n",
    "        initial_learning_rate=learning_rate,\n",
    "        decay_steps=decay_steps,\n",
    "        decay_rate=decay_rate\n",
    "    )\n",
    "\n",
    "    model.compile(\n",
    "        # optimizer=Adam(learning_rate=learning_rate, decay=learning_rate / decay_steps),\n",
    "        optimizer=Adam(learning_rate=lr_schedule),\n",
    "        loss='binary_crossentropy',\n",
    "        metrics=['accuracy']\n",
    "    )\n",
    "\n",
    "    # print the model summary\n",
    "    print(model.summary())\n",
    "    print('#' * 150)\n",
    "\n",
    "    # Create a callback that saves the best model during validation\n",
    "    model_checkpoint = ModelCheckpoint(\n",
    "        \"models/\" + model_name + \"_\" + datetime.now().strftime(\"%Y%m%d_%H%M%S\") + \".h5\",\n",
    "        # \"models/BiLSTM_\"+ datetime.now().strftime(\"%Y%m%d_%H%M%S\") + \".h5\",\n",
    "        monitor='val_accuracy',  # val_loss or val_accuracy \n",
    "        verbose=1,\n",
    "        save_best_only=True,\n",
    "        mode='max'  # max for val_accuracy, min for val_lossmode='mn'\n",
    "    )\n",
    "    # EarlyStopping to stop training when the validation loss has stopped improving\n",
    "    early_stopping = EarlyStopping(\n",
    "        monitor='val_loss',\n",
    "        verbose=1,\n",
    "        patience=3,  # Number of epochs with no improvement after which training will be stopped.\n",
    "        mode='min'\n",
    "    )\n",
    "\n",
    "    # TensorBoard for visualization\n",
    "    log_dir = \"logs/fit/\" + datetime.now().strftime(\"%Y%m%d-%H%M%S\")\n",
    "    tensorboard_callback = TensorBoard(log_dir=log_dir, histogram_freq=1)\n",
    "\n",
    "    # train the model\n",
    "    start_time = time()\n",
    "    history = model.fit(\n",
    "        X_train,\n",
    "        y_train,\n",
    "        epochs=epochs,\n",
    "        batch_size=batch_size,\n",
    "        validation_data=(X_val, y_val),\n",
    "        verbose=1,\n",
    "        callbacks=[model_checkpoint, early_stopping, tensorboard_callback]\n",
    "    )\n",
    "    end_time = time()\n",
    "    training_time = end_time - start_time\n",
    "\n",
    "    # print the training time\n",
    "    print('Training time: {}'.format(training_time))\n",
    "\n",
    "    # evaluate the model\n",
    "    loss, accuracy = model.evaluate(X_test, y_test, verbose=1)\n",
    "    print('Test Loss: {}'.format(loss))\n",
    "    print('Test Accuracy: {}'.format(accuracy))\n",
    "\n",
    "    # predict the test set\n",
    "    # y_pred = model.predict(X_test)\n",
    "    # y_pred = np.argmax(y_pred, axis=1)\n",
    "    # y_test = np.argmax(y_test, axis=1)\n",
    "    y_pred_probs = model.predict(X_test)\n",
    "    y_pred = (y_pred_probs >= 0.5).astype(int)  # Convert probabilities to binary (0 or 1)\n",
    "\n",
    "    # print the precision, recall and f1-score\n",
    "    model_precision = precision_score(y_test, y_pred)\n",
    "    model_recall = recall_score(y_test, y_pred)\n",
    "    model_f1_score = f1_score(y_test, y_pred)\n",
    "    print('Precision: {}'.format(model_precision))\n",
    "    print('Recall: {}'.format(model_recall))\n",
    "    print('F1-score: {}'.format(model_f1_score))\n",
    "\n",
    "    # print the classification report\n",
    "    report = classification_report(y_test, y_pred, digits=4, target_names=['None_vishing', 'Vishing'])\n",
    "    print(report)\n",
    "\n",
    "    # print the confusion matrix\n",
    "    print(confusion_matrix(y_test, y_pred))\n",
    "\n",
    "    # save the model\n",
    "    # model.save('models/{}.h5'.format(model_name))\n",
    "\n",
    "    # save the history\n",
    "    with open('histories/{}.pkl'.format(model_name), 'wb') as file_pi:\n",
    "        pickle.dump(history.history, file_pi)\n",
    "\n",
    "    # save the results\n",
    "    df_results.loc[model_name] = [model_f1_score, model_precision, model_recall, accuracy, training_time]\n",
    "    # df_results.loc[model_name] = [f1_score(y_test, y_pred), precision_score(y_test, y_pred), recall_score(y_test, y_pred), accuracy, training_time]  \n",
    "\n",
    "    # print the results\n",
    "    # df_results\n",
    "\n",
    "    return model, history, report"
   ]
  },
  {
   "cell_type": "code",
   "execution_count": null,
   "id": "cffc64605784bbe6",
   "metadata": {
    "collapsed": false
   },
   "outputs": [],
   "source": [
    "# build, train and evaluate the CNN with mulitple kernel sizes model\n",
    "model_name = augmented_dataset + '_CNN_multiple'\n",
    "model_cnn_multiple, history_cnn_multiple, report_cnn_multiple = build_train_cnn_multiple_model(model_name, X_train_pad, y_train, X_val_pad, y_val, X_test_pad, y_test)"
   ]
  },
  {
   "cell_type": "code",
   "execution_count": null,
   "id": "193a58ba2acd26a7",
   "metadata": {
    "collapsed": false
   },
   "outputs": [],
   "source": [
    "# print the results\n",
    "df_results"
   ]
  },
  {
   "cell_type": "code",
   "execution_count": null,
   "id": "ae4a657cf8d221cf",
   "metadata": {
    "collapsed": false
   },
   "outputs": [],
   "source": [
    "#plot the confusion matrix\n",
    "plot_name = augmented_dataset + '_CNN_multiple_Classification_report'\n",
    "plot_classification_report(report_cnn_multiple, plot_name)"
   ]
  },
  {
   "cell_type": "code",
   "execution_count": null,
   "id": "f01907d1c8d0c472",
   "metadata": {
    "collapsed": false
   },
   "outputs": [],
   "source": [
    "#plot the training and validation loss and accuracy\n",
    "plot_name = augmented_dataset + '_CNN_multiple'\n",
    "plot_loss_accuracy(history_cnn_multiple, plot_name)"
   ]
  },
  {
   "cell_type": "markdown",
   "id": "d004131060eb0d92",
   "metadata": {
    "collapsed": false
   },
   "source": [
    "#### 1D CNN layer with multiple kernel sizes with FastText embedding layer"
   ]
  },
  {
   "cell_type": "code",
   "execution_count": null,
   "id": "7546a459ef600855",
   "metadata": {
    "collapsed": false
   },
   "outputs": [],
   "source": [
    "# build, train and evaluate the CNN with multiple kernel sizes model with FastText embedding layer\n",
    "model_name = augmented_dataset + '_CNN_multiple_FT'\n",
    "model_cnn_multiple_ft, history_cnn_multiple_ft, report_cnn_multiple_ft = build_train_cnn_multiple_model(model_name, X_train_pad, y_train, X_val_pad, y_val, X_test_pad, y_test, embedding_matrix=embedding_matrix)"
   ]
  },
  {
   "cell_type": "code",
   "execution_count": null,
   "id": "110f795e7550352d",
   "metadata": {
    "collapsed": false
   },
   "outputs": [],
   "source": [
    "# print the results\n",
    "df_results"
   ]
  },
  {
   "cell_type": "code",
   "execution_count": null,
   "id": "240639395d76b2a7",
   "metadata": {
    "collapsed": false
   },
   "outputs": [],
   "source": [
    "#plot the confusion matrix\n",
    "plot_name = augmented_dataset + '_CNN_multiple_FT_Classification_report'\n",
    "plot_classification_report(report_cnn_multiple_ft, plot_name)"
   ]
  },
  {
   "cell_type": "code",
   "execution_count": null,
   "id": "c3f4fbf4c4f72a86",
   "metadata": {
    "collapsed": false
   },
   "outputs": [],
   "source": [
    "#plot the training and validation loss and accuracy\n",
    "plot_name = augmented_dataset + '_CNN_multiple_FT'\n",
    "plot_loss_accuracy(history_cnn_multiple_ft, plot_name)"
   ]
  },
  {
   "cell_type": "markdown",
   "id": "a4e92f6ad018a254",
   "metadata": {
    "collapsed": false
   },
   "source": [
    "## save the results in csv"
   ]
  },
  {
   "cell_type": "code",
   "execution_count": null,
   "id": "c7037ddc7157dbb8",
   "metadata": {
    "collapsed": false
   },
   "outputs": [],
   "source": [
    "# save the training results\n",
    "df_results.to_csv(\"reports/\" + augmented_dataset+ \" _Models_performance_summary_\" + datetime.now().strftime(\"%Y%m%d_%H-%M-%S\") + \".csv\")"
   ]
  },
  {
   "cell_type": "markdown",
   "id": "81d2cbfe59f8ff0a",
   "metadata": {
    "collapsed": false
   },
   "source": [
    "## Plot all the models performance\n"
   ]
  },
  {
   "cell_type": "code",
   "execution_count": null,
   "id": "d78384625e1f3c4b",
   "metadata": {
    "collapsed": false
   },
   "outputs": [],
   "source": [
    "# plot overall accuracy on test set\n",
    "fig = plt.figure(figsize=(9,6))\n",
    "plt.plot(history_lstm.epoch, history_lstm.history['val_accuracy'], '-o', label='lstm')\n",
    "plt.plot(history_lstm_ft.epoch, history_lstm_ft.history['val_accuracy'], '-o', label='lstm_ft')\n",
    "plt.plot(history_stackedlstm.epoch, history_stackedlstm.history['val_accuracy'], '-o', label='stackedlstm')\n",
    "plt.plot(history_stackedlstm_ft.epoch, history_stackedlstm_ft.history['val_accuracy'], '-o', label='stackedlstm_ft')\n",
    "plt.plot(history_bilstm.epoch, history_bilstm.history['val_accuracy'], '-o', label='bilstm')\n",
    "plt.plot(history_bilstm_ft.epoch, history_bilstm_ft.history['val_accuracy'], '-o', label='bilstm_ft')\n",
    "plt.plot(history_stackedbilstm.epoch, history_stackedbilstm.history['val_accuracy'], '-o', label='stackedbilstm')\n",
    "plt.plot(history_stackedbilstm_ft.epoch, history_stackedbilstm_ft.history['val_accuracy'], '-o', label='stackedbilstm_ft')\n",
    "plt.plot(history_cnn.epoch, history_cnn.history['val_accuracy'], '-o', label='cnn')\n",
    "plt.plot(history_cnn_ft.epoch,history_cnn_ft.history['val_accuracy'], '-o', label='cnn_ft')\n",
    "plt.plot(history_cnn_multiple.epoch, history_cnn_multiple.history['val_accuracy'], '-o', label='cnn_multiple')\n",
    "plt.plot(history_cnn_multiple_ft.epoch, history_cnn_multiple_ft.history['val_accuracy'], '-o', label='cnn_multiple_ft')\n",
    "plt.title(augmented_dataset+'_Validation Accuracy of All Models')\n",
    "plt.grid(True)\n",
    "plt.legend()\n",
    "plt.xlim(left=0)\n",
    "plt.xlabel('epoch')\n",
    "plt.ylabel('accuracy')\n",
    "plt.savefig('reports/'+augmented_dataset+'_All_models_accuracy_metrics_'+ datetime.now().strftime(\"%Y%m%d_%H-%M-%S\") + '.png', dpi=600, format='png', bbox_inches='tight')\n",
    "plt.savefig('reports/'+augmented_dataset+'_All_models_accuracy_metrics_'+ datetime.now().strftime(\"%Y%m%d_%H-%M-%S\") + '.pdf', dpi=600, format='pdf', bbox_inches='tight')\n",
    "plt.show()\n",
    "plt.close()"
   ]
  },
  {
   "cell_type": "code",
   "execution_count": null,
   "id": "efb5f582b134032e",
   "metadata": {
    "collapsed": false
   },
   "outputs": [],
   "source": [
    "# plot overall looss on test set\n",
    "fig = plt.figure(figsize=(9,6))\n",
    "plt.plot(history_lstm.epoch, history_lstm.history['val_loss'], '-o', label='lstm')\n",
    "plt.plot(history_lstm_ft.epoch, history_lstm_ft.history['val_loss'], '-o', label='lstm_ft')\n",
    "plt.plot(history_stackedlstm.epoch, history_stackedlstm.history['val_loss'], '-o', label='stackedlstm')\n",
    "plt.plot(history_stackedlstm_ft.epoch, history_stackedlstm_ft.history['val_loss'], '-o', label='stackedlstm_ft')\n",
    "plt.plot(history_bilstm.epoch, history_bilstm.history['val_loss'], '-o', label='bilstm')\n",
    "plt.plot(history_bilstm_ft.epoch, history_bilstm_ft.history['val_loss'], '-o', label='bilstm_ft')\n",
    "plt.plot(history_stackedbilstm.epoch, history_stackedbilstm.history['val_loss'], '-o', label='stackedbilstm')\n",
    "plt.plot(history_stackedbilstm_ft.epoch, history_stackedbilstm_ft.history['val_loss'], '-o', label='stackedbilstm_ft')\n",
    "plt.plot(history_cnn.epoch, history_cnn.history['val_loss'], '-o', label='cnn')\n",
    "plt.plot(history_cnn_ft.epoch, history_cnn_ft.history['val_loss'], '-o', label='cnn_ft')\n",
    "plt.plot(history_cnn_multiple.epoch, history_cnn_multiple.history['val_loss'], '-o', label='cnn_multiple')\n",
    "plt.plot(history_cnn_multiple_ft.epoch, history_cnn_multiple_ft.history['val_loss'], '-o', label='cnn_multiple_ft')\n",
    "plt.title(augmented_dataset+'_Validation Loss of All Models')\n",
    "plt.grid(True)\n",
    "plt.legend()\n",
    "plt.xlim(left=0)\n",
    "plt.xlabel('epoch')\n",
    "plt.ylabel('accuracy')\n",
    "plt.savefig('reports/'+augmented_dataset+'_All_models_val_loss_metrics_'+ datetime.now().strftime(\"%Y%m%d_%H-%M-%S\") + '.png', dpi=600, format='png', bbox_inches='tight')\n",
    "plt.savefig('reports/'+augmented_dataset+'_All_models_val_loss_metrics_'+ datetime.now().strftime(\"%Y%m%d_%H-%M-%S\") + '.pdf', dpi=600, format='pdf', bbox_inches='tight')\n",
    "plt.show()\n",
    "plt.close()"
   ]
  },
  {
   "cell_type": "code",
   "execution_count": null,
   "id": "960dd06a-7766-46ee-9a32-28f5e306e2f7",
   "metadata": {
    "editable": true,
    "slideshow": {
     "slide_type": ""
    },
    "tags": []
   },
   "outputs": [],
   "source": []
  }
 ],
 "metadata": {
  "kernelspec": {
   "display_name": "Python 3 (ipykernel)",
   "language": "python",
   "name": "python3"
  },
  "language_info": {
   "codemirror_mode": {
    "name": "ipython",
    "version": 3
   },
   "file_extension": ".py",
   "mimetype": "text/x-python",
   "name": "python",
   "nbconvert_exporter": "python",
   "pygments_lexer": "ipython3",
   "version": "3.11.7"
  }
 },
 "nbformat": 4,
 "nbformat_minor": 5
}
