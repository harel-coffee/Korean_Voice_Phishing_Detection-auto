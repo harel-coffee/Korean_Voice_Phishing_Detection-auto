{
 "cells": [
  {
   "cell_type": "code",
   "outputs": [
    {
     "name": "stdout",
     "output_type": "stream",
     "text": [
      "2024-01-29 16:16:05.437042: I tensorflow/core/util/port.cc:113] oneDNN custom operations are on. You may see slightly different numerical results due to floating-point round-off errors from different computation orders. To turn them off, set the environment variable `TF_ENABLE_ONEDNN_OPTS=0`.\r\n",
      "2024-01-29 16:16:05.659094: E external/local_xla/xla/stream_executor/cuda/cuda_dnn.cc:9261] Unable to register cuDNN factory: Attempting to register factory for plugin cuDNN when one has already been registered\r\n",
      "2024-01-29 16:16:05.659151: E external/local_xla/xla/stream_executor/cuda/cuda_fft.cc:607] Unable to register cuFFT factory: Attempting to register factory for plugin cuFFT when one has already been registered\r\n",
      "2024-01-29 16:16:05.692468: E external/local_xla/xla/stream_executor/cuda/cuda_blas.cc:1515] Unable to register cuBLAS factory: Attempting to register factory for plugin cuBLAS when one has already been registered\r\n",
      "2024-01-29 16:16:05.769405: I tensorflow/core/platform/cpu_feature_guard.cc:182] This TensorFlow binary is optimized to use available CPU instructions in performance-critical operations.\r\n",
      "To enable the following instructions: AVX2 AVX_VNNI FMA, in other operations, rebuild TensorFlow with the appropriate compiler flags.\r\n",
      "2024-01-29 16:16:06.619594: W tensorflow/compiler/tf2tensorrt/utils/py_utils.cc:38] TF-TRT Warning: Could not find TensorRT\r\n",
      "2024-01-29 16:16:08.276460: I external/local_xla/xla/stream_executor/cuda/cuda_executor.cc:887] could not open file to read NUMA node: /sys/bus/pci/devices/0000:01:00.0/numa_node\r\n",
      "Your kernel may have been built without NUMA support.\r\n",
      "2024-01-29 16:16:08.420193: I external/local_xla/xla/stream_executor/cuda/cuda_executor.cc:887] could not open file to read NUMA node: /sys/bus/pci/devices/0000:01:00.0/numa_node\r\n",
      "Your kernel may have been built without NUMA support.\r\n",
      "2024-01-29 16:16:08.420262: I external/local_xla/xla/stream_executor/cuda/cuda_executor.cc:887] could not open file to read NUMA node: /sys/bus/pci/devices/0000:01:00.0/numa_node\r\n",
      "Your kernel may have been built without NUMA support.\r\n",
      "[PhysicalDevice(name='/physical_device:GPU:0', device_type='GPU')]\r\n"
     ]
    }
   ],
   "source": [
    "!python3 -c \"import tensorflow as tf; print(tf.config.list_physical_devices('GPU'))\""
   ],
   "metadata": {
    "collapsed": false,
    "ExecuteTime": {
     "end_time": "2024-01-29T07:16:08.983945300Z",
     "start_time": "2024-01-29T07:16:04.767009600Z"
    }
   },
   "id": "297a6371064289d7",
   "execution_count": 1
  },
  {
   "cell_type": "markdown",
   "id": "computational-james",
   "metadata": {
    "pycharm": {
     "name": "#%% md\n"
    }
   },
   "source": [
    "# Import library"
   ]
  },
  {
   "cell_type": "code",
   "execution_count": 2,
   "id": "worth-transmission",
   "metadata": {
    "executionInfo": {
     "elapsed": 2360,
     "status": "ok",
     "timestamp": 1650012512493,
     "user": {
      "displayName": "Milandu Keith Moussavou Boussougou",
      "userId": "16125998280788005643"
     },
     "user_tz": -540
    },
    "id": "wJWGvzLaj3Y7",
    "pycharm": {
     "name": "#%%\n"
    },
    "ExecuteTime": {
     "end_time": "2024-01-29T07:16:10.382384500Z",
     "start_time": "2024-01-29T07:16:08.987953200Z"
    }
   },
   "outputs": [
    {
     "name": "stderr",
     "output_type": "stream",
     "text": [
      "2024-01-29 16:16:09.335439: I tensorflow/core/util/port.cc:113] oneDNN custom operations are on. You may see slightly different numerical results due to floating-point round-off errors from different computation orders. To turn them off, set the environment variable `TF_ENABLE_ONEDNN_OPTS=0`.\n",
      "2024-01-29 16:16:09.363932: E external/local_xla/xla/stream_executor/cuda/cuda_dnn.cc:9261] Unable to register cuDNN factory: Attempting to register factory for plugin cuDNN when one has already been registered\n",
      "2024-01-29 16:16:09.363965: E external/local_xla/xla/stream_executor/cuda/cuda_fft.cc:607] Unable to register cuFFT factory: Attempting to register factory for plugin cuFFT when one has already been registered\n",
      "2024-01-29 16:16:09.364541: E external/local_xla/xla/stream_executor/cuda/cuda_blas.cc:1515] Unable to register cuBLAS factory: Attempting to register factory for plugin cuBLAS when one has already been registered\n",
      "2024-01-29 16:16:09.368876: I tensorflow/core/platform/cpu_feature_guard.cc:182] This TensorFlow binary is optimized to use available CPU instructions in performance-critical operations.\n",
      "To enable the following instructions: AVX2 AVX_VNNI FMA, in other operations, rebuild TensorFlow with the appropriate compiler flags.\n",
      "2024-01-29 16:16:09.908770: W tensorflow/compiler/tf2tensorrt/utils/py_utils.cc:38] TF-TRT Warning: Could not find TensorRT\n"
     ]
    }
   ],
   "source": [
    "from time import time\n",
    "from timeit import default_timer as timer\n",
    "from datetime import timedelta, datetime\n",
    "import re\n",
    "import os\n",
    "import io\n",
    "import pickle\n",
    "import sys\n",
    "import subprocess\n",
    "from glob import glob\n",
    "import csv\n",
    "import math\n",
    "import codecs\n",
    "import copy\n",
    "from tqdm import tqdm\n",
    "\n",
    "# EDA\n",
    "import matplotlib.pyplot as plt\n",
    "import seaborn as sns \n",
    "import plotly.express as px\n",
    "from wordcloud import WordCloud\n",
    "from collections import Counter\n",
    "import numpy as np\n",
    "import pandas as pd\n",
    "\n",
    "# NLP & ML \n",
    "from sklearn.preprocessing import StandardScaler, RobustScaler\n",
    "from sklearn.model_selection import train_test_split, StratifiedKFold\n",
    "from sklearn.metrics import (\n",
    "    classification_report,\n",
    "    confusion_matrix, \n",
    "    accuracy_score,\n",
    "    precision_score,\n",
    "    recall_score,\n",
    "    f1_score,\n",
    "    fbeta_score,\n",
    "    roc_auc_score,\n",
    "    matthews_corrcoef,\n",
    "    cohen_kappa_score\n",
    ")\n",
    "\n",
    "# DL\n",
    "import tensorflow as tf\n",
    "from tensorflow.keras.preprocessing.text import Tokenizer\n",
    "from tensorflow.keras.preprocessing.sequence import pad_sequences\n",
    "from tensorflow.keras.utils import to_categorical\n",
    "from tensorflow.keras.models import Sequential, Model, load_model\n",
    "from tensorflow.keras.layers import (\n",
    "    InputSpec,\n",
    "    Layer, \n",
    "    Input,\n",
    "    Embedding, \n",
    "    Conv1D, \n",
    "    Conv2D, \n",
    "    Bidirectional, \n",
    "    Dense, \n",
    "    Attention,\n",
    "    LSTM, \n",
    "    Activation, \n",
    "    Add, \n",
    "    Flatten, \n",
    "    Concatenate, \n",
    "    concatenate,\n",
    "    Reshape, \n",
    "    Dropout, \n",
    "    SpatialDropout1D, \n",
    "    BatchNormalization,\n",
    "    MaxPooling1D, \n",
    "    MaxPool2D, \n",
    "    GlobalAveragePooling1D, \n",
    "    GlobalMaxPooling1D, \n",
    "    GlobalMaxPool1D\n",
    ")\n",
    "from tensorflow.keras import initializers, regularizers, constraints, optimizers, layers, callbacks\n",
    "from tensorflow.keras.callbacks import ModelCheckpoint, TensorBoard, Callback, EarlyStopping, CSVLogger\n",
    "from tensorflow.keras.optimizers import Adam\n",
    "from tensorflow.keras import backend as K"
   ]
  },
  {
   "cell_type": "markdown",
   "id": "twenty-jacksonville",
   "metadata": {
    "pycharm": {
     "name": "#%% md\n"
    }
   },
   "source": [
    "# Ploting code"
   ]
  },
  {
   "cell_type": "code",
   "execution_count": 33,
   "id": "electronic-stopping",
   "metadata": {
    "pycharm": {
     "name": "#%%\n"
    },
    "ExecuteTime": {
     "end_time": "2024-01-29T09:15:53.373500Z",
     "start_time": "2024-01-29T09:15:53.339895600Z"
    }
   },
   "outputs": [],
   "source": [
    "def show_values(pc, fmt=\"%.2f\", **kw):\n",
    "    '''\n",
    "    Heatmap with text in each cell with matplotlib's pyplot\n",
    "    Source: https://stackoverflow.com/a/25074150/395857 \n",
    "    By HYRY\n",
    "    '''\n",
    "#     from itertools import izip\n",
    "    pc.update_scalarmappable()\n",
    "    ax = pc.axes# FOR LATEST MATPLOTLIB\n",
    "    \n",
    "    #Use zip BELOW IN PYTHON 3\n",
    "    for p, color, value in zip(pc.get_paths(), pc.get_facecolors(), pc.get_array()):\n",
    "        x, y = p.vertices[:-2, :].mean(0)\n",
    "        if np.all(color[:3] > 0.5):\n",
    "            color = (0.0, 0.0, 0.0)\n",
    "        else:\n",
    "            color = (1.0, 1.0, 1.0)\n",
    "        ax.text(x, y, fmt % value, ha=\"center\", va=\"center\", color=color, **kw)\n",
    "\n",
    "\n",
    "def cm2inch(*tupl):\n",
    "    '''\n",
    "    Specify figure size in centimeter in matplotlib\n",
    "    Source: https://stackoverflow.com/a/22787457/395857\n",
    "    By gns-ank\n",
    "    '''\n",
    "    inch = 2.54\n",
    "    if type(tupl[0]) == tuple:\n",
    "        return tuple(i/inch for i in tupl[0])\n",
    "    else:\n",
    "        return tuple(i/inch for i in tupl)\n",
    "\n",
    "\n",
    "def heatmap(AUC, title, xlabel, ylabel, xticklabels, yticklabels, figure_width=40, figure_height=20, correct_orientation=False, cmap='RdBu'):\n",
    "    '''\n",
    "    Inspired by:\n",
    "    - https://stackoverflow.com/a/16124677/395857 \n",
    "    - https://stackoverflow.com/a/25074150/395857\n",
    "    '''\n",
    "\n",
    "    # Plot it out\n",
    "    fig, ax = plt.subplots()    \n",
    "    #c = ax.pcolor(AUC, edgecolors='k', linestyle= 'dashed', linewidths=0.2, cmap='RdBu', vmin=0.0, vmax=1.0)\n",
    "    c = ax.pcolor(AUC, edgecolors='k', linestyle= 'dashed', linewidths=0.2, cmap=cmap)\n",
    "\n",
    "    # put the major ticks at the middle of each cell\n",
    "    ax.set_yticks(np.arange(AUC.shape[0]) + 0.5, minor=False)\n",
    "    ax.set_xticks(np.arange(AUC.shape[1]) + 0.5, minor=False)\n",
    "\n",
    "    # set tick labels\n",
    "    #ax.set_xticklabels(np.arange(1,AUC.shape[1]+1), minor=False)\n",
    "    ax.set_xticklabels(xticklabels, minor=False)\n",
    "    ax.set_yticklabels(yticklabels, minor=False)\n",
    "\n",
    "    # set title and x/y labels\n",
    "    plt.title(title)\n",
    "    plt.xlabel(xlabel)\n",
    "    plt.ylabel(ylabel)      \n",
    "    \n",
    "    # save the figure\n",
    "    plt.savefig('reports/' + title + '_' + datetime.now().strftime(\"%Y%m%d_%H-%M-%S\") + '.png', dpi=600, format='png', bbox_inches='tight')\n",
    "    plt.savefig('reports/' + title + '_' + datetime.now().strftime(\"%Y%m%d_%H-%M-%S\") + '.pdf', dpi=600, format='pdf', bbox_inches='tight')\n",
    "\n",
    "    # Remove last blank column\n",
    "    plt.xlim( (0, AUC.shape[1]) )\n",
    "\n",
    "    # Turn off all the ticks\n",
    "    ax = plt.gca()    \n",
    "    for t in ax.xaxis.get_major_ticks():\n",
    "        t.tick1On = False\n",
    "        t.tick2On = False\n",
    "    for t in ax.yaxis.get_major_ticks():\n",
    "        t.tick1On = False\n",
    "        t.tick2On = False\n",
    "\n",
    "    # Add color bar\n",
    "    plt.colorbar(c)\n",
    "\n",
    "    # Add text in each cell \n",
    "    show_values(c)\n",
    "\n",
    "    # Proper orientation (origin at the top left instead of bottom left)\n",
    "    if correct_orientation:\n",
    "        ax.invert_yaxis()\n",
    "        ax.xaxis.tick_top()       \n",
    "\n",
    "    # resize \n",
    "    fig = plt.gcf()\n",
    "    #fig.set_size_inches(cm2inch(40, 20))\n",
    "    #fig.set_size_inches(cm2inch(40*4, 20*4))\n",
    "    fig.set_size_inches(cm2inch(figure_width, figure_height))\n",
    "    \n",
    "\n",
    "#\n",
    "def plot_classification_report(classification_report, title='Classification report ', cmap='RdBu'):\n",
    "    '''\n",
    "    Plot scikit-learn classification report.\n",
    "    Extension based on https://stackoverflow.com/a/31689645/395857 \n",
    "    '''\n",
    "    lines = classification_report.split('\\n')\n",
    "\n",
    "    classes = []\n",
    "    plotMat = []\n",
    "    support = []\n",
    "    class_names = []\n",
    "    for line in lines[2 : (len(lines) - 4)]:\n",
    "        t = line.strip().split()\n",
    "        if len(t) < 2: continue\n",
    "        classes.append(t[0])\n",
    "        v = [float(x) for x in t[1: len(t) - 1]]\n",
    "        support.append(int(t[-1]))\n",
    "        class_names.append(t[0])\n",
    "        print(v)\n",
    "        plotMat.append(v)\n",
    "\n",
    "    print('plotMat: {0}'.format(plotMat))\n",
    "    print('support: {0}'.format(support))\n",
    "\n",
    "    xlabel = 'Metrics'\n",
    "    ylabel = 'Classes'\n",
    "    xticklabels = ['Precision', 'Recall', 'F1-score']\n",
    "    yticklabels = ['{0} ({1})'.format(class_names[idx], sup) for idx, sup  in enumerate(support)]\n",
    "    figure_width = 25\n",
    "    figure_height = len(class_names) + 7\n",
    "    correct_orientation = False\n",
    "    heatmap(np.array(plotMat), title, xlabel, ylabel, xticklabels, yticklabels, figure_width, figure_height, correct_orientation, cmap=cmap)\n",
    "    \n",
    "# Function to plot the training and validation loss and accuracy\n",
    "def plot_loss_accuracy(history, model_name):\n",
    "    # plot the training and validation loss\n",
    "    plt.plot(history.epoch, history.history['loss'], '-o', label='Training_loss')\n",
    "    plt.plot(history.epoch, history.history['val_loss'], '-o', label='Validation_loss')\n",
    "    plt.title(model_name + ' model loss')\n",
    "    plt.grid(True)\n",
    "    plt.legend()\n",
    "    plt.xlim(left=0)\n",
    "    plt.xlabel('epoch')\n",
    "    plt.ylabel('loss')\n",
    "    plt.savefig('reports/' + model_name + '_loss_metrics_'+ datetime.now().strftime(\"%Y%m%d_%H-%M-%S\") + '.png', dpi=600, format='png', bbox_inches='tight')\n",
    "    plt.savefig('reports/' + model_name + '_loss_metrics_'+ datetime.now().strftime(\"%Y%m%d_%H-%M-%S\") + '.pdf', dpi=600, format='pdf', bbox_inches='tight')\n",
    "    plt.show()\n",
    "    plt.close()\n",
    "    \n",
    "    # plot the training and validation accuracy\n",
    "    plt.plot(history.epoch, history.history['accuracy'], '-o', label='Training_accuracy')\n",
    "    plt.plot(history.epoch, history.history['val_accuracy'], '-o', label='Validation_accuracy')\n",
    "    plt.title(model_name + ' model accuracy')\n",
    "    plt.grid(True)\n",
    "    plt.legend()\n",
    "    plt.xlim(left=0)\n",
    "    plt.xlabel('epoch')\n",
    "    plt.ylabel('accuracy')\n",
    "    plt.savefig('reports/' + model_name + '_accuracy' + datetime.now().strftime(\"%Y%m%d_%H-%M-%S\") + '.png', dpi=600, format='png', bbox_inches='tight')\n",
    "    plt.savefig('reports/' + model_name + '_accuracy' + datetime.now().strftime(\"%Y%m%d_%H-%M-%S\") + '.pdf', dpi=600, format='pdf', bbox_inches='tight')\n",
    "    plt.show()\n",
    "    plt.close()\n",
    "\n",
    "def plot_class_distribution(data, title):\n",
    "    sns.set(style=\"whitegrid\")\n",
    "    # sns.set(style=\"ticks\")\n",
    "    ax = sns.countplot(x='label', data=data)\n",
    "    ax.set_title(title)\n",
    "    \n",
    "    # Annotate the bars with the number of samples\n",
    "    for p in ax.patches:\n",
    "        ax.annotate(f'{p.get_height()}', (p.get_x() + p.get_width() / 2., p.get_height()),\n",
    "                    ha='center', va='baseline', fontsize=11, color='black', xytext=(0, 5),\n",
    "                    textcoords='offset points')\n",
    "        \n",
    "    plt.show()"
   ]
  },
  {
   "cell_type": "markdown",
   "source": [
    "# Datasets importation and EDA"
   ],
   "metadata": {
    "collapsed": false
   },
   "id": "d216d44615ad1468"
  },
  {
   "cell_type": "code",
   "outputs": [],
   "source": [
    "# import the train, validation and the test sets\n",
    "print('Loading datasets...')\n",
    "train_set= pd.read_csv('datasets/training_set.csv')\n",
    "val_set = pd.read_csv('datasets/validation_set.csv')\n",
    "test_set = pd.read_csv('datasets/test_set.csv')\n",
    "\n",
    "# import all augmented dataset\n",
    "train_set_ch = pd.read_csv('datasets/vishing_dataset_CH_AUG.csv')\n",
    "train_set_en = pd.read_csv('datasets/vishing_dataset_EN_AUG.csv')\n",
    "train_set_ja = pd.read_csv('datasets/vishing_dataset_JA_AUG.csv')\n",
    "\n",
    "print('Datasets loaded.')"
   ],
   "metadata": {
    "collapsed": false
   },
   "id": "e857ebb099d48eb6",
   "execution_count": null
  },
  {
   "cell_type": "code",
   "outputs": [],
   "source": [
    "train_set.info()\n",
    "print('-'*80)\n",
    "val_set.info()\n",
    "print('-'*80)\n",
    "test_set.info()"
   ],
   "metadata": {
    "collapsed": false
   },
   "id": "a9f5dd456c31dda1",
   "execution_count": null
  },
  {
   "cell_type": "code",
   "outputs": [],
   "source": [
    "train_set_en.info()\n",
    "print('-'*80)\n",
    "train_set_ja.info()\n",
    "print('-'*80)\n",
    "train_set_ch.info()"
   ],
   "metadata": {
    "collapsed": false
   },
   "id": "c0f7d34b9cac3555",
   "execution_count": null
  },
  {
   "cell_type": "code",
   "outputs": [],
   "source": [
    "# Delete all the rows in train_set_en, train_set_ja and train_set_ch that have label 0\n",
    "train_set_ch = train_set_ch[train_set_ch['label'] != 0]\n",
    "train_set_en = train_set_en[train_set_en['label'] != 0]\n",
    "train_set_ja = train_set_ja[train_set_ja['label'] != 0]"
   ],
   "metadata": {
    "collapsed": false
   },
   "id": "728addbe7c6a49a2",
   "execution_count": null
  },
  {
   "cell_type": "markdown",
   "source": [
    "## Plot the distribution of the classes in the datasets"
   ],
   "metadata": {
    "collapsed": false
   },
   "id": "cb753cf31e42fb5e"
  },
  {
   "cell_type": "code",
   "outputs": [],
   "source": [
    "#plot the distribution of the datasets\n",
    "plot_class_distribution(train_set, 'Train Dataset Class Distribution')\n",
    "plot_class_distribution(val_set, 'Validation Dataset Class Distribution')\n",
    "plot_class_distribution(test_set, 'Test Dataset Class Distribution')"
   ],
   "metadata": {
    "collapsed": false
   },
   "id": "701ec442c0befe16",
   "execution_count": null
  },
  {
   "cell_type": "code",
   "outputs": [],
   "source": [
    "#plot the distribution of the datasets\n",
    "plot_class_distribution(train_set_en, '(English Augmented) Train Dataset Class Distribution')\n",
    "plot_class_distribution(train_set_ja, '(Japanese Augmented) Train Dataset Class Distribution')\n",
    "plot_class_distribution(train_set_ch, '(Chinese Augmented) Train Dataset Class Distribution')"
   ],
   "metadata": {
    "collapsed": false
   },
   "id": "b1e2acaa99c288b",
   "execution_count": null
  },
  {
   "cell_type": "code",
   "outputs": [],
   "source": [
    "# drop the colum we don't need\n",
    "train_set.drop(['id'], axis=1, inplace=True)\n",
    "val_set.drop(['id'], axis=1, inplace=True)\n",
    "test_set.drop(['id'], axis=1, inplace=True)\n",
    "\n",
    "#check the dataframes\n",
    "train_set.info()\n",
    "print('-'*80)\n",
    "val_set.info()\n",
    "print('-'*80)\n",
    "test_set.info()"
   ],
   "metadata": {
    "collapsed": false
   },
   "id": "c083b7a03240e15c",
   "execution_count": null
  },
  {
   "cell_type": "code",
   "outputs": [],
   "source": [
    "# drop the colum we don't need\n",
    "train_set_en.drop(['id', 'transcript', 'translation', 'processed'], axis=1, inplace=True)\n",
    "train_set_ja.drop(['id', 'transcript', 'translation', 'processed'], axis=1, inplace=True)\n",
    "train_set_ch.drop(['id', 'transcript', 'translation', 'processed'], axis=1, inplace=True)\n",
    "\n",
    "#check the dataframes\n",
    "train_set_en.info()\n",
    "print('-'*80)\n",
    "train_set_ja.info()\n",
    "print('-'*80)\n",
    "train_set_ch.info()"
   ],
   "metadata": {
    "collapsed": false
   },
   "id": "8fd262ad4d49817a",
   "execution_count": null
  },
  {
   "cell_type": "code",
   "outputs": [],
   "source": [
    "# rename the column back_translation of train_set_en, train_set_ja, train_set_ch to transcript_en, transcript_ja, transcript_ch\n",
    "train_set_en.rename(columns={'back_translation':'transcript_en'}, inplace=True)\n",
    "train_set_ja.rename(columns={'back_translation':'transcript_ja'}, inplace=True)\n",
    "train_set_ch.rename(columns={'back_translation':'transcript_ch'}, inplace=True)\n",
    "\n",
    "# display the info of the dataframes\n",
    "train_set_en.info()\n",
    "print('-'*80)\n",
    "train_set_ja.info()\n",
    "print('-'*80)\n",
    "train_set_ch.info()"
   ],
   "metadata": {
    "collapsed": false
   },
   "id": "3b628d2ba1a34650",
   "execution_count": null
  },
  {
   "cell_type": "markdown",
   "source": [
    " ## Calculating the length of each data sample."
   ],
   "metadata": {
    "collapsed": false
   },
   "id": "56112131c97d54e9"
  },
  {
   "cell_type": "code",
   "outputs": [],
   "source": [
    "# calculate the length of each data sample in the train_set, val_set and test_set and add the length as a new column named length to the dataframes\n",
    "train_set['length'] = train_set['transcript'].apply(lambda x: len(x))\n",
    "val_set['length'] = val_set['transcript'].apply(lambda x: len(x))\n",
    "test_set['length'] = test_set['transcript'].apply(lambda x: len(x))"
   ],
   "metadata": {
    "collapsed": false
   },
   "id": "4e8990a1dea85eff",
   "execution_count": null
  },
  {
   "cell_type": "code",
   "outputs": [],
   "source": [
    "# display the heads of the train_set and sort the dataframe by length\n",
    "train_set.head().sort_values(by=['length'], ascending=False)"
   ],
   "metadata": {
    "collapsed": false
   },
   "id": "3639d56c3e0b7ef3",
   "execution_count": null
  },
  {
   "cell_type": "code",
   "outputs": [],
   "source": [
    "val_set.head().sort_values(by=['length'], ascending=False)"
   ],
   "metadata": {
    "collapsed": false
   },
   "id": "e050899678e28626",
   "execution_count": null
  },
  {
   "cell_type": "code",
   "outputs": [],
   "source": [
    "test_set.head().sort_values(by=['length'], ascending=False)"
   ],
   "metadata": {
    "collapsed": false
   },
   "id": "69e796b0f94a60ef",
   "execution_count": null
  },
  {
   "cell_type": "code",
   "outputs": [],
   "source": [
    "# calculate the length of each data samples in the train_set_en, train_set_ja and train_set_ch and add the length as a new column named length to the dataframes\n",
    "train_set_en['length'] = train_set_en['transcript_en'].apply(lambda x: len(x))\n",
    "train_set_ja['length'] = train_set_ja['transcript_ja'].apply(lambda x: len(x))\n",
    "train_set_ch['length'] = train_set_ch['transcript_ch'].apply(lambda x: len(x))"
   ],
   "metadata": {
    "collapsed": false
   },
   "id": "603847d2572d4fd9",
   "execution_count": null
  },
  {
   "cell_type": "code",
   "outputs": [],
   "source": [
    "# display the heads of the train_set_en and sort the dataframe by length\n",
    "train_set_en.head().sort_values(by=['length'], ascending=False)"
   ],
   "metadata": {
    "collapsed": false
   },
   "id": "27036334045f9fe9",
   "execution_count": null
  },
  {
   "cell_type": "code",
   "outputs": [],
   "source": [
    "train_set_ja.head().sort_values(by=['length'], ascending=False)"
   ],
   "metadata": {
    "collapsed": false
   },
   "id": "94bb3ce82b4d263b",
   "execution_count": null
  },
  {
   "cell_type": "code",
   "outputs": [],
   "source": [
    "train_set_ch.head().sort_values(by=['length'], ascending=False)"
   ],
   "metadata": {
    "collapsed": false
   },
   "id": "8bbd3f4a0b1d3b57",
   "execution_count": null
  },
  {
   "cell_type": "markdown",
   "source": [
    "## Distribution based on length of words"
   ],
   "metadata": {
    "collapsed": false
   },
   "id": "43bd4a74b402eb56"
  },
  {
   "cell_type": "code",
   "outputs": [],
   "source": [
    "# Make a function to plot the distribution of the length of the data samples in the train_set, val_set and test_set (boxplot and histogram)\n",
    "def plot_length_distribution(data, title):\n",
    "    sns.set(style=\"whitegrid\")\n",
    "    # sns.set(style=\"ticks\")\n",
    "    fig, (ax1, ax2) = plt.subplots(1, 2, figsize=(15, 5))\n",
    "    fig.suptitle(title)\n",
    "    \n",
    "    # plot the boxplot\n",
    "    # sns.boxplot(x='length', data=data, ax=ax1)\n",
    "    sns.boxplot(y='length', x='label', data=data, ax=ax1)\n",
    "    ax1.set_title('Boxplot')\n",
    "    \n",
    "    # plot the histogram\n",
    "    sns.histplot(x='length', data=data, ax=ax2)\n",
    "    ax2.set_title('Histogram')\n",
    "    \n",
    "    plt.show()"
   ],
   "metadata": {
    "collapsed": false
   },
   "id": "beae16e14bbbc34b",
   "execution_count": null
  },
  {
   "cell_type": "code",
   "outputs": [],
   "source": [
    "# plot the distribution of the length of the data samples in the train_set, val_set and test_set\n",
    "plot_length_distribution(train_set, 'Train Dataset Length Distribution')\n",
    "plot_length_distribution(val_set, 'Validation Dataset Length Distribution')\n",
    "plot_length_distribution(test_set, 'Test Dataset Length Distribution')"
   ],
   "metadata": {
    "collapsed": false
   },
   "id": "fdd222569626a037",
   "execution_count": null
  },
  {
   "cell_type": "code",
   "outputs": [],
   "source": [
    "# plot the distribution of the length of the data samples in the train_set_en, train_set_ja and train_set_ch\n",
    "plot_length_distribution(train_set_en, '(English Augmented) Train Dataset Length Distribution')\n",
    "plot_length_distribution(train_set_ja, '(Japanese Augmented) Train Dataset Length Distribution')\n",
    "plot_length_distribution(train_set_ch, '(Chinese Augmented) Train Dataset Length Distribution')"
   ],
   "metadata": {
    "collapsed": false
   },
   "id": "cf787b25ef6f9354",
   "execution_count": null
  },
  {
   "cell_type": "markdown",
   "source": [
    "## Concatenate the augmented datasets to the original train_set dataframe\n"
   ],
   "metadata": {
    "collapsed": false
   },
   "id": "b3fc2887cad1d112"
  },
  {
   "cell_type": "code",
   "outputs": [],
   "source": [
    "# Make new train_set dataset with only train_set['transcript'] and train_set['label'] columns.\n",
    "train_set_new = train_set[['transcript', 'label']]\n",
    "train_set_new.columns = ['transcript', 'label']\n",
    "train_set_new"
   ],
   "metadata": {
    "collapsed": false
   },
   "id": "8256ab7febe25c69",
   "execution_count": null
  },
  {
   "cell_type": "code",
   "outputs": [],
   "source": [
    "# Make new train_set_en dataset with only train_set_en['transcript_en'] and train_set_en['label'] columns. Rename the columns to 'transcript_en' to 'transcript'.\n",
    "train_set_en_new = train_set_en[['transcript_en', 'label']]\n",
    "train_set_en_new.columns = ['transcript', 'label']\n",
    "train_set_en_new"
   ],
   "metadata": {
    "collapsed": false
   },
   "id": "6dd81feec3e69b81",
   "execution_count": null
  },
  {
   "cell_type": "code",
   "outputs": [],
   "source": [
    "# concatenate the augmented train_set_en dataset with the original dataset to create the new train_set dataset for training the models with back-translation method as text augmentation method.\n",
    "train_set_EnKo = pd.concat([train_set_new, train_set_en_new], ignore_index=True)\n",
    "train_set_EnKo = train_set_EnKo.sample(frac=1).reset_index(drop=True)\n",
    "train_set_EnKo"
   ],
   "metadata": {
    "collapsed": false
   },
   "id": "eb5b682885dc542",
   "execution_count": null
  },
  {
   "cell_type": "code",
   "outputs": [],
   "source": [
    "# plot the class distribution of the new train_set dataset \n",
    "plot_class_distribution(train_set_EnKo, 'En-Ko Augmented Train Set Class Distribution')"
   ],
   "metadata": {
    "collapsed": false
   },
   "id": "a6b37c35d2177aff",
   "execution_count": null
  },
  {
   "cell_type": "code",
   "outputs": [],
   "source": [
    "# Make new train_set_ch dataset with only train_set_ch['transcript_ch'] and train_set_ch['label'] columns. Rename the columns to 'transcript_ch' to 'transcript'.\n",
    "train_set_ch_new = train_set_ch[['transcript_ch', 'label']]\n",
    "train_set_ch_new.columns = ['transcript', 'label']\n",
    "train_set_ch_new"
   ],
   "metadata": {
    "collapsed": false
   },
   "id": "a1a79dfa39195966",
   "execution_count": null
  },
  {
   "cell_type": "code",
   "outputs": [],
   "source": [
    "# concatenate the augmented train_set_ch dataset with the original dataset to create the new train_set dataset for training the models with back-translation method as text augmentation method.\n",
    "train_set_ChKo = pd.concat([train_set_new, train_set_ch_new], ignore_index=True)\n",
    "train_set_ChKo = train_set_ChKo.sample(frac=1).reset_index(drop=True)\n",
    "train_set_ChKo"
   ],
   "metadata": {
    "collapsed": false
   },
   "id": "3afca11e1119918b",
   "execution_count": null
  },
  {
   "cell_type": "code",
   "outputs": [],
   "source": [
    "# plot the class distribution of the new train_set dataset\n",
    "plot_class_distribution(train_set_ChKo, 'Ch-Ko Augmented Train Set Class Distribution')"
   ],
   "metadata": {
    "collapsed": false
   },
   "id": "e8020e9d591d1b65",
   "execution_count": null
  },
  {
   "cell_type": "code",
   "outputs": [],
   "source": [
    "# Make new train_set_ja dataset with only train_set_ja['transcript_ja'] and train_set_ja['label'] columns. Rename the columns to 'transcript_ja' to 'transcript'.\n",
    "train_set_ja_new = train_set_ja[['transcript_ja', 'label']]\n",
    "train_set_ja_new.columns = ['transcript', 'label']\n",
    "train_set_ja_new"
   ],
   "metadata": {
    "collapsed": false
   },
   "id": "8a04cc99f81197f8",
   "execution_count": null
  },
  {
   "cell_type": "code",
   "outputs": [],
   "source": [
    "# concatenate the augmented train_set_ja dataset with the original dataset to create the new train_set dataset for training the models with back-translation method as text augmentation method.\n",
    "train_set_JaKo = pd.concat([train_set_new, train_set_ja_new], ignore_index=True)\n",
    "train_set_JaKo = train_set_JaKo.sample(frac=1).reset_index(drop=True)\n",
    "train_set_JaKo"
   ],
   "metadata": {
    "collapsed": false
   },
   "id": "e94ba9197948cc26",
   "execution_count": null
  },
  {
   "cell_type": "code",
   "outputs": [],
   "source": [
    "# plot the class distribution of the new train_set dataset\n",
    "plot_class_distribution(train_set_JaKo, 'Ja-Ko Augmented Train Set Class Distribution')"
   ],
   "metadata": {
    "collapsed": false
   },
   "id": "49acad3327ce5105",
   "execution_count": null
  },
  {
   "cell_type": "code",
   "outputs": [],
   "source": [
    "# concatenate the augmented train_set_new, train_set_en_new, train_set_ch_new, train_set_ja_new dataset to a new dataset\n",
    "train_set_all = pd.concat([train_set_new, train_set_en_new, train_set_ch_new, train_set_ja_new], ignore_index=True)\n",
    "train_set_all = train_set_all.sample(frac=1).reset_index(drop=True)\n",
    "train_set_all"
   ],
   "metadata": {
    "collapsed": false
   },
   "id": "d2d7356416359506",
   "execution_count": null
  },
  {
   "cell_type": "code",
   "outputs": [],
   "source": [
    "# plot the class distribution of the new train_set dataset\n",
    "plot_class_distribution(train_set_all, 'All BT Augmented Train Set Class Distribution')"
   ],
   "metadata": {
    "collapsed": false
   },
   "id": "77ca1adf03de15f9",
   "execution_count": null
  },
  {
   "cell_type": "code",
   "outputs": [],
   "source": [
    "# Save all the new train_set dataset to csv files\n",
    "train_set_EnKo.to_csv('datasets/train_set_EnKo.csv', index=False)\n",
    "train_set_ChKo.to_csv('datasets/train_set_ChKo.csv', index=False)\n",
    "train_set_JaKo.to_csv('datasets/train_set_JaKo.csv', index=False)\n",
    "train_set_all.to_csv('datasets/train_set_all.csv', index=False)"
   ],
   "metadata": {
    "collapsed": false
   },
   "id": "41a08594e4e4f05e",
   "execution_count": null
  },
  {
   "cell_type": "markdown",
   "source": [
    "# Data Preprocessing"
   ],
   "metadata": {
    "collapsed": false
   },
   "id": "ef87eee10b384c97"
  },
  {
   "cell_type": "markdown",
   "source": [
    "## Import all the train, validation and test sets"
   ],
   "metadata": {
    "collapsed": false
   },
   "id": "91a1d731a8c9eb5b"
  },
  {
   "cell_type": "code",
   "outputs": [],
   "source": [
    "# import the train, validation and the test sets\n",
    "print('Loading datasets...')\n",
    "train_set= pd.read_csv('datasets/training_set.csv')\n",
    "val_set = pd.read_csv('datasets/validation_set.csv')\n",
    "test_set = pd.read_csv('datasets/test_set.csv')\n",
    "\n",
    "# import all augmented dataset\n",
    "train_set_EnKo = pd.read_csv('datasets/train_set_EnKo.csv')\n",
    "train_set_ChKo = pd.read_csv('datasets/train_set_ChKo.csv')\n",
    "train_set_JaKo = pd.read_csv('datasets/train_set_JaKo.csv')\n",
    "train_set_all = pd.read_csv('datasets/train_set_all.csv')\n",
    "\n",
    "print('Datasets loaded.')"
   ],
   "metadata": {
    "collapsed": false
   },
   "id": "58636b54ad594858",
   "execution_count": null
  },
  {
   "cell_type": "code",
   "outputs": [],
   "source": [
    "# display the heads of the train_set, val_set and test_set\n",
    "train_set.head()"
   ],
   "metadata": {
    "collapsed": false
   },
   "id": "7bad31aace1cc318",
   "execution_count": null
  },
  {
   "cell_type": "code",
   "outputs": [],
   "source": [
    "# in one figure, plot all the class distribution of all the augmented train_set dataset and original train_set dataset.\n",
    "sns.set(style=\"whitegrid\")\n",
    "# sns.set(style=\"ticks\")\n",
    "fig, (ax1, ax2, ax3, ax4, ax5) = plt.subplots(1, 5, figsize=(25, 5))\n",
    "fig.suptitle('All Train Set Class Distribution')\n",
    "\n",
    "# plot the class distribution of the original train_set dataset\n",
    "sns.countplot(x='label', data=train_set, ax=ax1)\n",
    "ax1.set_title('Original Train Set')\n",
    "\n",
    "# plot the class distribution of the En-Ko augmented train_set dataset\n",
    "sns.countplot(x='label', data=train_set_EnKo, ax=ax2)\n",
    "ax2.set_title('En-Ko Augmented Train Set')\n",
    "\n",
    "# plot the class distribution of the Ch-Ko augmented train_set dataset\n",
    "sns.countplot(x='label', data=train_set_ChKo, ax=ax3)\n",
    "ax3.set_title('Ch-Ko Augmented Train Set')\n",
    "\n",
    "# plot the class distribution of the Ja-Ko augmented train_set dataset\n",
    "sns.countplot(x='label', data=train_set_JaKo, ax=ax4)\n",
    "ax4.set_title('Ja-Ko Augmented Train Set')\n",
    "\n",
    "# plot the class distribution of the All augmented train_set dataset\n",
    "sns.countplot(x='label', data=train_set_all, ax=ax5)\n",
    "ax5.set_title('All Augmented Train Set')\n",
    "\n",
    "plt.show()\n"
   ],
   "metadata": {
    "collapsed": false
   },
   "id": "9ee3ec5106e71265",
   "execution_count": null
  },
  {
   "cell_type": "markdown",
   "source": [
    "## Installation of mecab-ko and mecab-ko-dic for Korean text preprocessing, Morphology Analyzer"
   ],
   "metadata": {
    "collapsed": false
   },
   "id": "f1de807edb6a2053"
  },
  {
   "cell_type": "code",
   "outputs": [],
   "source": [
    "!git clone https://github.com/SOMJANG/Mecab-ko-for-Google-Colab.git"
   ],
   "metadata": {
    "collapsed": false
   },
   "id": "e3e9e0f8980311ae",
   "execution_count": null
  },
  {
   "cell_type": "code",
   "outputs": [],
   "source": [
    "cd Mecab-ko-for-Google-Colab"
   ],
   "metadata": {
    "collapsed": false
   },
   "id": "8bb5dac8573bb0a4",
   "execution_count": null
  },
  {
   "cell_type": "code",
   "outputs": [],
   "source": [
    "!bash install_mecab-ko_on_colab_light_220429.sh"
   ],
   "metadata": {
    "collapsed": false
   },
   "id": "ecd0a39a91abe054",
   "execution_count": null
  },
  {
   "cell_type": "code",
   "outputs": [],
   "source": [
    "# # Check if Mecab-ko-for-GoogleColab is installed. If not, install it.\n",
    "# try:\n",
    "#     from konlpy.tag import Mecab\n",
    "# except:\n",
    "#     print('Mecab-ko-for-GoogleColab is not installed. Installing...')\n",
    "#     # subprocess.check_call(['bash', './install_mecab-ko_on_colab190912.sh'])\n",
    "#     # print('Mecab-ko-for-GoogleColab installed.')\n",
    "#     print('run the following command in the terminal: bash ./install_mecab-ko_on_colab190912.sh')\n",
    "# \n",
    "# \n",
    "# # if not os.path.exists('/content/Mecab-ko-for-Google-Colab'):\n",
    "# #     print('Installing Mecab-ko-for-Google-Colab...')\n",
    "# #     !git clone"
   ],
   "metadata": {
    "collapsed": false
   },
   "id": "64d524337d83c533",
   "execution_count": null
  },
  {
   "cell_type": "markdown",
   "source": [
    "### Testing the Mecab-ko"
   ],
   "metadata": {
    "collapsed": false
   },
   "id": "b47e0ca58538fd45"
  },
  {
   "cell_type": "code",
   "outputs": [],
   "source": [
    "# Test the Mecab-ko\n",
    "from konlpy.tag import Mecab\n",
    "mecab = Mecab()"
   ],
   "metadata": {
    "collapsed": false
   },
   "id": "add0b40403d51095",
   "execution_count": null
  },
  {
   "cell_type": "code",
   "outputs": [],
   "source": [
    "text = '네이버에 중고나라 사이트 아시죠? 대구지역 있으세요 아시죠? 사이트에서 김재원 일단...'\n",
    "print(mecab.morphs(text))\n",
    "print(mecab.pos(text))\n",
    "print(mecab.nouns(text))"
   ],
   "metadata": {
    "collapsed": false
   },
   "id": "e870fc3c0c75dd89",
   "execution_count": null
  },
  {
   "cell_type": "markdown",
   "source": [
    "### Dataset cleaning and purification"
   ],
   "metadata": {
    "collapsed": false
   },
   "id": "e2c88493ccbeb7fd"
  },
  {
   "cell_type": "code",
   "outputs": [],
   "source": [
    "# functions to perform the cleaning parts\n",
    "def apply_replacement(src_df, replace_func):\n",
    "    # Create a copy of the DataFrame to avoid modifying the original one\n",
    "    ret_df = src_df.copy()\n",
    "    \n",
    "    # Apply the replacement function to each element in the 'transcript_cleaned' column\n",
    "    ret_df.loc[:, 'transcript_cleaned'] = ret_df['transcript_cleaned'].apply(replace_func)\n",
    "    # ret_df['transcript_cleaned'] = ret_df['transcript_cleaned'].apply(lambda x: replace_func(x))\n",
    "    \n",
    "    return ret_df\n",
    "\n",
    "# remove the unwanted word and characters from the dataset\n",
    "def word_replace(x):\n",
    "    example_word_replace_list = {'o/': '',\n",
    "                                 'b/': '',\n",
    "                                 'n/': '',\n",
    "                                 '\\n': ' ',\n",
    "                                 'name': '',\n",
    "                                 'laughing': '',\n",
    "                                 'clearing': '',\n",
    "                                 'singing': '',\n",
    "                                 'applauding': ''}\n",
    "    for i in example_word_replace_list:\n",
    "        x = x.replace(i, example_word_replace_list[i])\n",
    "    return x\n",
    "\n",
    "# remove the special character from the transcripts\n",
    "# def remove_special_symbols(sentence):\n",
    "#     sentence = re.sub(r\"[^a-zA-Z0-9ㄱ-ㅎㅏ-ㅣ가-힣 ]\", '', sentence)\n",
    "#     return sentence\n",
    "\n",
    "def remove_special_symbols(sentence): \n",
    "    sentence = re.sub(r\"[-~=+,#/\\?:^$.@*\\\"※~&%ㆍ!』\\\\‘|\\(\\)\\[\\]\\<\\>`\\'…》]\", '', sentence)\n",
    "    return sentence\n",
    "\n",
    "# Function to delete placeholder words like X, x, O, o, ㅇ, 0, O, o that are repeated more than 2 times in a row\n",
    "def replace_x_o(sentence):\n",
    "    sentence = re.sub(r\"([xXoOㅇ0]{2,})\", '', sentence)\n",
    "    return sentence\n",
    "\n",
    "# remove the unwanted word and characters from the transcripts\n",
    "def nline_replace(x):\n",
    "    example_word_replace_list = {'\\n' : ' '}\n",
    "    for i in example_word_replace_list:\n",
    "        x = x.replace(i, example_word_replace_list[i])\n",
    "    return x\n",
    "\n",
    "# Function to delete extra white space between words\n",
    "def remove_extra_white_spaces(sentence):\n",
    "    sentence = re.sub(r\"\\s+\", ' ', sentence)\n",
    "    return sentence\n",
    "\n",
    "# def remove_extra_white_spaces(text):\n",
    "#     single_char_pattern = r'\\s+[a-zA-Z]\\s+'\n",
    "#     without_sc = re.sub(pattern=single_char_pattern, repl=\" \", string=text)\n",
    "#     return without_sc\n",
    "\n",
    "# Function to delete all the numbers and digits from the transcripts\n",
    "def remove_numbers(sentence):\n",
    "    sentence = re.sub(r\"\\d+\", '', sentence)\n",
    "    return sentence\n",
    "\n",
    "# A function to perform the cleaning parts on the dataset after duplicating the column transcript to transcript_cleaned and put it next to the original column transcript\n",
    "def clean_dataset(dataset):\n",
    "    # duplicate the original transcript to keep track of the processing\n",
    "    dataset['transcript_cleaned'] = dataset['transcript']\n",
    "    \n",
    "    # move the column transcript_cleaned next to the original column transcript\n",
    "    dataset = dataset[['transcript', 'transcript_cleaned', 'label']]\n",
    "    \n",
    "    # apply the cleaning functions to the dataset\n",
    "    dataset = apply_replacement(dataset, word_replace)\n",
    "    dataset = apply_replacement(dataset, remove_special_symbols)\n",
    "    dataset = apply_replacement(dataset, replace_x_o)\n",
    "    dataset = apply_replacement(dataset, nline_replace)\n",
    "    dataset = apply_replacement(dataset, remove_extra_white_spaces)\n",
    "    dataset = apply_replacement(dataset, remove_numbers)\n",
    "    return dataset"
   ],
   "metadata": {
    "collapsed": false
   },
   "id": "291cb3ae98181b97",
   "execution_count": null
  },
  {
   "cell_type": "code",
   "outputs": [],
   "source": [
    "# clean the train_set, val_set and test_set and save them in a new column named transcript_cleaned next to the original column transcript in the dataframes.\n",
    "train_set = clean_dataset(train_set)\n",
    "val_set = clean_dataset(val_set)\n",
    "test_set = clean_dataset(test_set)"
   ],
   "metadata": {
    "collapsed": false
   },
   "id": "5b30cb9ee06cc7e0",
   "execution_count": null
  },
  {
   "cell_type": "code",
   "outputs": [],
   "source": [
    "# display the heads of the train_set, val_set and test_set\n",
    "train_set.head()"
   ],
   "metadata": {
    "collapsed": false
   },
   "id": "ae06d22f35019d56",
   "execution_count": null
  },
  {
   "cell_type": "code",
   "outputs": [],
   "source": [
    "val_set.head()"
   ],
   "metadata": {
    "collapsed": false
   },
   "id": "45e0e46a8cf007b1",
   "execution_count": null
  },
  {
   "cell_type": "code",
   "outputs": [],
   "source": [
    "test_set.head()"
   ],
   "metadata": {
    "collapsed": false
   },
   "id": "fed31d309e78ad3a",
   "execution_count": null
  },
  {
   "cell_type": "code",
   "outputs": [],
   "source": [
    "# clean the train_set_EnKo, train_set_ChKo, train_set_JaKo and train_set_all\n",
    "train_set_EnKo = clean_dataset(train_set_EnKo)\n",
    "train_set_ChKo = clean_dataset(train_set_ChKo)\n",
    "train_set_JaKo = clean_dataset(train_set_JaKo)\n",
    "train_set_all = clean_dataset(train_set_all)"
   ],
   "metadata": {
    "collapsed": false
   },
   "id": "f86eabbb26609d34",
   "execution_count": null
  },
  {
   "cell_type": "code",
   "outputs": [],
   "source": [
    "# display the heads of the train_set_EnKo, train_set_ChKo, train_set_JaKo and train_set_all\n",
    "train_set_EnKo.head()"
   ],
   "metadata": {
    "collapsed": false
   },
   "id": "7b521e9335b1390f",
   "execution_count": null
  },
  {
   "cell_type": "code",
   "outputs": [],
   "source": [
    "train_set_ChKo.head()"
   ],
   "metadata": {
    "collapsed": false
   },
   "id": "62089461bdeb0f7e",
   "execution_count": null
  },
  {
   "cell_type": "code",
   "outputs": [],
   "source": [
    "train_set_JaKo.head()"
   ],
   "metadata": {
    "collapsed": false
   },
   "id": "7a811cd6b70f4bb",
   "execution_count": null
  },
  {
   "cell_type": "code",
   "outputs": [],
   "source": [
    "train_set_all.head()"
   ],
   "metadata": {
    "collapsed": false
   },
   "id": "b8274e365a02aec2",
   "execution_count": null
  },
  {
   "cell_type": "code",
   "outputs": [],
   "source": [
    "# # add a column named length to the datasets and calculate the length of each transcript_cleaned and add it to the length column\n",
    "# train_set['length'] = train_set['transcript_cleaned'].apply(lambda x: len(x))\n",
    "# val_set['length'] = val_set['transcript_cleaned'].apply(lambda x: len(x))\n",
    "# test_set['length'] = test_set['transcript_cleaned'].apply(lambda x: len(x))\n",
    "# \n",
    "# train_set_EnKo['length'] = train_set_EnKo['transcript_cleaned'].apply(lambda x: len(x))\n",
    "# train_set_ChKo['length'] = train_set_ChKo['transcript_cleaned'].apply(lambda x: len(x))\n",
    "# train_set_JaKo['length'] = train_set_JaKo['transcript_cleaned'].apply(lambda x: len(x))\n",
    "# train_set_all['length'] = train_set_all['transcript_cleaned'].apply(lambda x: len(x))"
   ],
   "metadata": {
    "collapsed": false
   },
   "id": "728aa54bcc84aa42",
   "execution_count": null
  },
  {
   "cell_type": "markdown",
   "source": [
    "### Remove the stopwords from the transcripts\n",
    "we will use the stopwords-ko-simple.txt file to remove the stopwords from the transcripts.It contains few stopwords that are commonly used in Korean language.\n",
    "We will further use the stopwords-ko.txt file to remove the stopwords from the transcripts. It contains more stopwords than the stopwords-ko-simple.txt file."
   ],
   "metadata": {
    "collapsed": false
   },
   "id": "ef12874d22fe3590"
  },
  {
   "cell_type": "code",
   "outputs": [],
   "source": [
    "# import the stopwords from the file stopwords-ko-simple.txt and create a list of stopwords\n",
    "def import_stopwords(file_name):    \n",
    "    stopwords = []\n",
    "    with open(file_name, 'r', encoding='utf-8') as f:\n",
    "        for line in f:\n",
    "            stopwords.append(line.strip())\n",
    "\n",
    "    print(stopwords)\n",
    "    \n",
    "    return stopwords"
   ],
   "metadata": {
    "collapsed": false
   },
   "id": "5de9b9f9552d84fe",
   "execution_count": null
  },
  {
   "cell_type": "code",
   "outputs": [],
   "source": [
    "# using the function, import the stopwords from the file stopwords-ko-simple.txt\n",
    "stopwords = import_stopwords('stopwords-ko-simple.txt')"
   ],
   "metadata": {
    "collapsed": false
   },
   "id": "6cfa91cf29eece0a",
   "execution_count": null
  },
  {
   "cell_type": "code",
   "outputs": [],
   "source": [
    "# # korean stopwords list\n",
    "# stopwords = [\"을\", \"를\", \"이\", \"가\", \"ㅡ\", \"은\", \"는\", \"XXX\", \"xxx\", \"어요\", \"아니\", \"입니다\", \"에서\", \"에서\", \"니까\", \"으로\", \"근데\", \"습니다\", \"습니까\", \"저희\", \"합니다\", \"하고\", \"싶어요\", \"있는\", \"있습니다\", \"싶습니다\", \"그냥\", \"고요\", \"에요\", \"예요\", \"으시\", \"그래서\"]\n",
    "\n",
    "# Function to remove the stop word from the train and test dataframe\n",
    "def get_model_input(_words):\n",
    "    global stopwords\n",
    "    _words = [x for x in _words if x[0] not in stopwords]\n",
    "    _words = [x for x in _words if x[:-1] not in stopwords]\n",
    "\n",
    "    for i in range(len(_words)-1):\n",
    "        yield _words[i]\n",
    "        \n",
    "def get_corpus(df):\n",
    "    corpus = []\n",
    "    for lwords in df:    \n",
    "        temp = []\n",
    "        for x in get_model_input(lwords):\n",
    "            if len(x) != 1:\n",
    "                temp.append(\"{}\".format(x))\n",
    "        corpus.append(\" \".join(temp))\n",
    "    return corpus "
   ],
   "metadata": {
    "collapsed": false
   },
   "id": "c3241b3374f8eb32",
   "execution_count": null
  },
  {
   "cell_type": "code",
   "outputs": [],
   "source": [
    "# remove the stopwords from the train_set, val_set, test_set, train_set_EnKo, train_set_ChKo, train_set_JaKo and train_set_all after tokenization with Mecab-ko\n",
    "# train_set['transcript_cleaned00'] = train_set['transcript_cleaned'].apply(lambda x: ' '.join([word for word in mecab.morphs(x) if word not in (stopwords)]))\n",
    "# val_set['transcript_cleaned'] = val_set['transcript_cleaned'].apply(lambda x: ' '.join([word for word in mecab.morphs(x) if word not in (stopwords)]))\n",
    "# test_set['transcript_cleaned'] = test_set['transcript_cleaned'].apply(lambda x: ' '.join([word for word in mecab.morphs(x) if word not in (stopwords)]))"
   ],
   "metadata": {
    "collapsed": false
   },
   "id": "1bd5fdfa642c699f",
   "execution_count": null
  },
  {
   "cell_type": "code",
   "outputs": [],
   "source": [
    "# train_set_EnKo['transcript_cleaned'] = train_set_EnKo['transcript_cleaned'].apply(lambda x: ' '.join([word for word in mecab.morphs(x) if word not in (stopwords)]))\n",
    "# train_set_ChKo['transcript_cleaned'] = train_set_ChKo['transcript_cleaned'].apply(lambda x: ' '.join([word for word in mecab.morphs(x) if word not in (stopwords)]))\n",
    "# train_set_JaKo['transcript_cleaned'] = train_set_JaKo['transcript_cleaned'].apply(lambda x: ' '.join([word for word in mecab.morphs(x) if word not in (stopwords)]))\n",
    "# train_set_all['transcript_cleaned'] = train_set_all['transcript_cleaned'].apply(lambda x: ' '.join([word for word in mecab.morphs(x) if word not in (stopwords)]))"
   ],
   "metadata": {
    "collapsed": false
   },
   "id": "28532540deb30e1d",
   "execution_count": null
  },
  {
   "cell_type": "code",
   "outputs": [],
   "source": [
    "from konlpy.tag import Mecab\n",
    "mecab = Mecab()\n",
    "\n",
    "train_set_corpus = get_corpus([(mecab.morphs(x)) for x in train_set['transcript_cleaned']])\n",
    "val_set_corpus = get_corpus([(mecab.morphs(x)) for x in val_set['transcript_cleaned']])\n",
    "test_set_corpus = get_corpus([(mecab.morphs(x)) for x in test_set['transcript_cleaned']])"
   ],
   "metadata": {
    "collapsed": false
   },
   "id": "5a176993ddb6d57e",
   "execution_count": null
  },
  {
   "cell_type": "code",
   "outputs": [],
   "source": [
    "train_set_EnKo_corpus = get_corpus([(mecab.morphs(x)) for x in train_set_EnKo['transcript_cleaned']])\n",
    "train_set_ChKo_corpus = get_corpus([(mecab.morphs(x)) for x in train_set_ChKo['transcript_cleaned']])\n",
    "train_set_JaKo_corpus = get_corpus([(mecab.morphs(x)) for x in train_set_JaKo['transcript_cleaned']])\n",
    "train_set_all_corpus = get_corpus([(mecab.morphs(x)) for x in train_set_all['transcript_cleaned']])"
   ],
   "metadata": {
    "collapsed": false
   },
   "id": "46d0262d174803c5",
   "execution_count": null
  },
  {
   "cell_type": "code",
   "outputs": [],
   "source": [
    "# adding the corpus to the dataframe\n",
    "train_set['corpus'] = train_set_corpus\n",
    "val_set['corpus'] = val_set_corpus\n",
    "test_set['corpus'] = test_set_corpus\n",
    "\n",
    "train_set_EnKo['corpus'] = train_set_EnKo_corpus\n",
    "train_set_ChKo['corpus'] = train_set_ChKo_corpus\n",
    "train_set_JaKo['corpus'] = train_set_JaKo_corpus\n",
    "train_set_all['corpus'] = train_set_all_corpus"
   ],
   "metadata": {
    "collapsed": false
   },
   "id": "307bb2a306045fd9",
   "execution_count": null
  },
  {
   "cell_type": "code",
   "outputs": [],
   "source": [
    "# add the length of the transcripts, transcript_cleaned and corpus to the dataframes\n",
    "train_set['length'] = train_set['transcript'].apply(lambda x: len(x))\n",
    "val_set['length'] = val_set['transcript'].apply(lambda x: len(x))\n",
    "test_set['length'] = test_set['transcript'].apply(lambda x: len(x))\n",
    "\n",
    "train_set_EnKo['length'] = train_set_EnKo['transcript'].apply(lambda x: len(x))\n",
    "train_set_ChKo['length'] = train_set_ChKo['transcript'].apply(lambda x: len(x))\n",
    "train_set_JaKo['length'] = train_set_JaKo['transcript'].apply(lambda x: len(x))\n",
    "train_set_all['length'] = train_set_all['transcript'].apply(lambda x: len(x))\n",
    "\n",
    "train_set['length_cleaned'] = train_set['transcript_cleaned'].apply(lambda x: len(x))\n",
    "val_set['length_cleaned'] = val_set['transcript_cleaned'].apply(lambda x: len(x))\n",
    "test_set['length_cleaned'] = test_set['transcript_cleaned'].apply(lambda x: len(x))\n",
    "\n",
    "train_set_EnKo['length_cleaned'] = train_set_EnKo['transcript_cleaned'].apply(lambda x: len(x))\n",
    "train_set_ChKo['length_cleaned'] = train_set_ChKo['transcript_cleaned'].apply(lambda x: len(x))\n",
    "train_set_JaKo['length_cleaned'] = train_set_JaKo['transcript_cleaned'].apply(lambda x: len(x))\n",
    "train_set_all['length_cleaned'] = train_set_all['transcript_cleaned'].apply(lambda x: len(x))\n",
    "\n",
    "train_set['length_corpus'] = train_set['corpus'].apply(lambda x: len(x))\n",
    "val_set['length_corpus'] = val_set['corpus'].apply(lambda x: len(x))\n",
    "test_set['length_corpus'] = test_set['corpus'].apply(lambda x: len(x))\n",
    "\n",
    "train_set_EnKo['length_corpus'] = train_set_EnKo['corpus'].apply(lambda x: len(x))\n",
    "train_set_ChKo['length_corpus'] = train_set_ChKo['corpus'].apply(lambda x: len(x))\n",
    "train_set_JaKo['length_corpus'] = train_set_JaKo['corpus'].apply(lambda x: len(x))\n",
    "train_set_all['length_corpus'] = train_set_all['corpus'].apply(lambda x: len(x))"
   ],
   "metadata": {
    "collapsed": false
   },
   "id": "f863793c46858299",
   "execution_count": null
  },
  {
   "cell_type": "code",
   "outputs": [],
   "source": [
    "train_set.head()"
   ],
   "metadata": {
    "collapsed": false
   },
   "id": "238bb2636e73e15d",
   "execution_count": null
  },
  {
   "cell_type": "code",
   "outputs": [],
   "source": [
    "train_set.head()"
   ],
   "metadata": {
    "collapsed": false
   },
   "id": "f9a66597174302b2",
   "execution_count": null
  },
  {
   "cell_type": "code",
   "outputs": [],
   "source": [
    "train_set_all.head()"
   ],
   "metadata": {
    "collapsed": false
   },
   "id": "dea76cb4bb3a6803",
   "execution_count": null
  },
  {
   "cell_type": "code",
   "outputs": [],
   "source": [
    "# using the function, import the stopwords from the file stopwords-ko-simple.txt\n",
    "stopwords = import_stopwords('stopwords-ko.txt')"
   ],
   "metadata": {
    "collapsed": false
   },
   "id": "7de62711f84fde00",
   "execution_count": null
  },
  {
   "cell_type": "code",
   "outputs": [],
   "source": [
    "train_set_corpus_1 = get_corpus([(mecab.morphs(x)) for x in train_set['transcript_cleaned']])\n",
    "val_set_corpus_1 = get_corpus([(mecab.morphs(x)) for x in val_set['transcript_cleaned']])\n",
    "test_set_corpus_1 = get_corpus([(mecab.morphs(x)) for x in test_set['transcript_cleaned']])\n",
    "\n",
    "train_set_EnKo_corpus_1 = get_corpus([(mecab.morphs(x)) for x in train_set_EnKo['transcript_cleaned']])\n",
    "train_set_ChKo_corpus_1 = get_corpus([(mecab.morphs(x)) for x in train_set_ChKo['transcript_cleaned']])\n",
    "train_set_JaKo_corpus_1 = get_corpus([(mecab.morphs(x)) for x in train_set_JaKo['transcript_cleaned']])\n",
    "train_set_all_corpus_1 = get_corpus([(mecab.morphs(x)) for x in train_set_all['transcript_cleaned']])"
   ],
   "metadata": {
    "collapsed": false
   },
   "id": "51e101dd95e04fac",
   "execution_count": null
  },
  {
   "cell_type": "code",
   "outputs": [],
   "source": [
    "# adding the corpus to the dataframe\n",
    "train_set['corpus_1'] = train_set_corpus_1\n",
    "val_set['corpus_1'] = val_set_corpus_1\n",
    "test_set['corpus_1'] = test_set_corpus_1\n",
    "\n",
    "train_set_EnKo['corpus_1'] = train_set_EnKo_corpus_1\n",
    "train_set_ChKo['corpus_1'] = train_set_ChKo_corpus_1\n",
    "train_set_JaKo['corpus_1'] = train_set_JaKo_corpus_1\n",
    "train_set_all['corpus_1'] = train_set_all_corpus_1"
   ],
   "metadata": {
    "collapsed": false
   },
   "id": "631d44dfd799f7cb",
   "execution_count": null
  },
  {
   "cell_type": "code",
   "outputs": [],
   "source": [
    "# adding the length of corpus_1 to the dataframe \n",
    "train_set['length_corpus_1'] = train_set['corpus_1'].apply(lambda x: len(x))\n",
    "val_set['length_corpus_1'] = val_set['corpus_1'].apply(lambda x: len(x))\n",
    "test_set['length_corpus_1'] = test_set['corpus_1'].apply(lambda x: len(x))\n",
    "\n",
    "train_set_EnKo['length_corpus_1'] = train_set_EnKo['corpus_1'].apply(lambda x: len(x))\n",
    "train_set_ChKo['length_corpus_1'] = train_set_ChKo['corpus_1'].apply(lambda x: len(x))\n",
    "train_set_JaKo['length_corpus_1'] = train_set_JaKo['corpus_1'].apply(lambda x: len(x))\n",
    "train_set_all['length_corpus_1'] = train_set_all['corpus_1'].apply(lambda x: len(x))"
   ],
   "metadata": {
    "collapsed": false
   },
   "id": "986f398a2357f280",
   "execution_count": null
  },
  {
   "cell_type": "code",
   "outputs": [],
   "source": [
    "train_set.head()"
   ],
   "metadata": {
    "collapsed": false
   },
   "id": "82d9d2b09b63a048",
   "execution_count": null
  },
  {
   "cell_type": "code",
   "outputs": [],
   "source": [
    "# order the columns in the dataframes to have the label column after the corpus column\n",
    "train_set = train_set[['transcript', 'transcript_cleaned', 'corpus', 'corpus_1', 'label', 'length', 'length_cleaned', 'length_corpus', 'length_corpus_1']]\n",
    "val_set = val_set[['transcript', 'transcript_cleaned', 'corpus', 'corpus_1', 'label', 'length', 'length_cleaned', 'length_corpus', 'length_corpus_1']]\n",
    "test_set = test_set[['transcript', 'transcript_cleaned', 'corpus', 'corpus_1', 'label', 'length', 'length_cleaned', 'length_corpus', 'length_corpus_1']]\n",
    "\n",
    "train_set_EnKo = train_set_EnKo[['transcript', 'transcript_cleaned', 'corpus', 'corpus_1', 'label', 'length', 'length_cleaned', 'length_corpus', 'length_corpus_1']]\n",
    "train_set_ChKo = train_set_ChKo[['transcript', 'transcript_cleaned', 'corpus', 'corpus_1', 'label', 'length', 'length_cleaned', 'length_corpus', 'length_corpus_1']]\n",
    "train_set_JaKo = train_set_JaKo[['transcript', 'transcript_cleaned', 'corpus', 'corpus_1', 'label', 'length', 'length_cleaned', 'length_corpus', 'length_corpus_1']]\n",
    "train_set_all = train_set_all[['transcript', 'transcript_cleaned', 'corpus', 'corpus_1', 'label', 'length', 'length_cleaned', 'length_corpus', 'length_corpus_1']]"
   ],
   "metadata": {
    "collapsed": false
   },
   "id": "79251a1d6d95ccb2",
   "execution_count": null
  },
  {
   "cell_type": "code",
   "outputs": [],
   "source": [
    "train_set.head()"
   ],
   "metadata": {
    "collapsed": false
   },
   "id": "99cd3b0046c20881",
   "execution_count": null
  },
  {
   "cell_type": "code",
   "outputs": [],
   "source": [
    "train_set_all.head()"
   ],
   "metadata": {
    "collapsed": false
   },
   "id": "281086d4b0408e03",
   "execution_count": null
  },
  {
   "cell_type": "markdown",
   "source": [
    "### Save the datasets to csv files"
   ],
   "metadata": {
    "collapsed": false
   },
   "id": "ea881243a512ca84"
  },
  {
   "cell_type": "code",
   "outputs": [],
   "source": [
    "# save all the dataframes to csv files\n",
    "train_set.to_csv('datasets/train_set_ready.csv', index=False)\n",
    "val_set.to_csv('datasets/val_set_ready.csv', index=False)\n",
    "test_set.to_csv('datasets/test_set_ready.csv', index=False)\n",
    "\n",
    "train_set_EnKo.to_csv('datasets/train_set_EnKo_ready.csv', index=False)\n",
    "train_set_ChKo.to_csv('datasets/train_set_ChKo_ready.csv', index=False)\n",
    "train_set_JaKo.to_csv('datasets/train_set_JaKo_ready.csv', index=False)\n",
    "train_set_all.to_csv('datasets/train_set_all_ready.csv', index=False)"
   ],
   "metadata": {
    "collapsed": false
   },
   "id": "3947e8e1352fefc3",
   "execution_count": null
  },
  {
   "cell_type": "markdown",
   "source": [
    "## Vectorization of the datasets\n",
    "Encoding the text data into numerical data for the deep learning models"
   ],
   "metadata": {
    "collapsed": false
   },
   "id": "1b0e29107b025942"
  },
  {
   "cell_type": "code",
   "outputs": [
    {
     "name": "stdout",
     "output_type": "stream",
     "text": [
      "Loading datasets...\n",
      "Datasets loaded.\n"
     ]
    }
   ],
   "source": [
    "#load the datasets\n",
    "print('Loading datasets...')\n",
    "train_set= pd.read_csv('datasets/train_set_ready.csv')\n",
    "val_set = pd.read_csv('datasets/val_set_ready.csv')\n",
    "test_set = pd.read_csv('datasets/test_set_ready.csv')\n",
    "\n",
    "# import all augmented dataset\n",
    "train_set_EnKo = pd.read_csv('datasets/train_set_EnKo_ready.csv')\n",
    "train_set_ChKo = pd.read_csv('datasets/train_set_ChKo_ready.csv')\n",
    "train_set_JaKo = pd.read_csv('datasets/train_set_JaKo_ready.csv')\n",
    "train_set_all = pd.read_csv('datasets/train_set_all_ready.csv')\n",
    "\n",
    "print('Datasets loaded.')"
   ],
   "metadata": {
    "collapsed": false,
    "ExecuteTime": {
     "end_time": "2024-01-29T07:17:22.936729500Z",
     "start_time": "2024-01-29T07:17:13.710484400Z"
    }
   },
   "id": "b4b353981ed38768",
   "execution_count": 4
  },
  {
   "cell_type": "code",
   "outputs": [],
   "source": [
    "# define the train and test sets data from the dataframes\n",
    "X_train = train_set['corpus']\n",
    "X_train_1 = train_set['corpus_1']\n",
    "y_train = train_set['label']\n",
    "\n",
    "X_val = val_set['corpus']\n",
    "X_val_1 = val_set['corpus_1']\n",
    "y_val = val_set['label']\n",
    "\n",
    "X_test = test_set['corpus']\n",
    "X_test_1 = test_set['corpus_1']\n",
    "y_test = test_set['label']\n",
    "\n",
    "X_train_EnKo = train_set_EnKo['corpus']\n",
    "X_train_EnKo_1 = train_set_EnKo['corpus_1']\n",
    "y_train_EnKo = train_set_EnKo['label']\n",
    "\n",
    "X_train_ChKo = train_set_ChKo['corpus']\n",
    "X_train_ChKo_1 = train_set_ChKo['corpus_1']\n",
    "y_train_ChKo = train_set_ChKo['label']\n",
    "\n",
    "X_train_JaKo = train_set_JaKo['corpus']\n",
    "X_train_JaKo_1 = train_set_JaKo['corpus_1']\n",
    "y_train_JaKo = train_set_JaKo['label']\n",
    "\n",
    "X_train_all = train_set_all['corpus']\n",
    "X_train_all_1 = train_set_all['corpus_1']\n",
    "y_train_all = train_set_all['label']"
   ],
   "metadata": {
    "collapsed": false,
    "ExecuteTime": {
     "end_time": "2024-01-29T07:17:49.079723800Z",
     "start_time": "2024-01-29T07:17:49.046723500Z"
    }
   },
   "id": "21e6e14d157da4fe",
   "execution_count": 7
  },
  {
   "cell_type": "code",
   "outputs": [],
   "source": [
    "# Function to define the maximum number of words to be used\n",
    "def max_words_func(X_train, X_val, X_test):\n",
    "    max_len = 0\n",
    "    max_words = 0\n",
    "    \n",
    "    # check the length of the trainset, the valset and the testset\n",
    "    print('Train set size = {} \\nValidation set size = {} \\nTest set size = {}'.format(len(X_train), len(X_val), len(X_test)))\n",
    "    \n",
    "    # count the maximum number of words in the trainset\n",
    "    max_words = len(set(\" \".join(X_train).split())) # max number of words for tokenizer\n",
    "    print('Maximum number of words in the train set = {}'.format(max_words))\n",
    "    \n",
    "    # get the maximum length of the sentences in the trainset\n",
    "    max_len = max([len(x.split()) for x in X_train]) # max length of each sentences, including padding\n",
    "    print('Maximum length of a sentence in the train set = {}'.format(max_len))\n",
    "\n",
    "    return max_words, max_len"
   ],
   "metadata": {
    "collapsed": false,
    "ExecuteTime": {
     "end_time": "2024-01-29T07:17:53.445457300Z",
     "start_time": "2024-01-29T07:17:53.395944100Z"
    }
   },
   "id": "4c295ae7fb961a7d",
   "execution_count": 8
  },
  {
   "cell_type": "code",
   "outputs": [
    {
     "name": "stdout",
     "output_type": "stream",
     "text": [
      "Train set size = 2047 \n",
      "Validation set size = 440 \n",
      "Test set size = 440\n",
      "Maximum number of words in the train set = 33844\n",
      "Maximum length of a sentence in the train set = 4715\n"
     ]
    }
   ],
   "source": [
    "# define the maximum number of words and the maximum length of the sentences in the trainset\n",
    "max_words, max_len = max_words_func(X_train, X_val, X_test)"
   ],
   "metadata": {
    "collapsed": false,
    "ExecuteTime": {
     "end_time": "2024-01-29T07:18:08.985223900Z",
     "start_time": "2024-01-29T07:18:08.882686400Z"
    }
   },
   "id": "72f2f23593ed4252",
   "execution_count": 9
  },
  {
   "cell_type": "code",
   "outputs": [
    {
     "data": {
      "text/plain": "<Figure size 640x480 with 1 Axes>",
      "image/png": "[encoded data removed]"
     },
     "metadata": {},
     "output_type": "display_data"
    }
   ],
   "source": [
    "plt.hist([len(s) for s in X_train], bins=20)\n",
    "plt.xlabel('Length of Data')\n",
    "plt.ylabel('Number of Data')\n",
    "plt.show()"
   ],
   "metadata": {
    "collapsed": false,
    "ExecuteTime": {
     "end_time": "2024-01-29T08:42:26.494905100Z",
     "start_time": "2024-01-29T08:42:26.173608800Z"
    }
   },
   "id": "a30a4d36047d5035",
   "execution_count": 12
  },
  {
   "cell_type": "code",
   "outputs": [
    {
     "data": {
      "text/plain": "<Figure size 640x480 with 1 Axes>",
      "image/png": "[encoded data removed]"
     },
     "metadata": {},
     "output_type": "display_data"
    }
   ],
   "source": [
    "plt.hist([len(s) for s in X_test], bins=20)\n",
    "plt.xlabel('Length of Data')\n",
    "plt.ylabel('Number of Data')\n",
    "plt.show()"
   ],
   "metadata": {
    "collapsed": false,
    "ExecuteTime": {
     "end_time": "2024-01-29T08:42:27.066140700Z",
     "start_time": "2024-01-29T08:42:26.981134100Z"
    }
   },
   "id": "e33ddd44583ca683",
   "execution_count": 13
  },
  {
   "cell_type": "markdown",
   "source": [
    "### Traininig with the original train_set dataset"
   ],
   "metadata": {
    "collapsed": false
   },
   "id": "5f416c15395795df"
  },
  {
   "cell_type": "code",
   "outputs": [],
   "source": [
    "# Function to tokenize the text data\n",
    "def tokenize_text(X_train, X_val, X_test, max_words=max_words, max_len=max_len):\n",
    "    # define the tokenizer and tokenization\n",
    "    tokenizer = Tokenizer(num_words=max_words, lower=False, char_level=False)\n",
    "    tokenizer.fit_on_texts(X_train)  #leaky\n",
    "    \n",
    "    # Function to convert texts to sequences of integers\n",
    "    def texts_to_sequences(X_train, X_val, X_test):\n",
    "        # convert texts to sequences of integers\n",
    "        X_train_seq = tokenizer.texts_to_sequences(X_train)\n",
    "        X_val_seq = tokenizer.texts_to_sequences(X_val)\n",
    "        X_test_seq = tokenizer.texts_to_sequences(X_test)\n",
    "        word_index = tokenizer.word_index\n",
    "        \n",
    "        print(\"Dictionary size: \", len(word_index))\n",
    "        \n",
    "        return X_train_seq, X_val_seq, X_test_seq, word_index\n",
    "    \n",
    "    # define the sequences of integers\n",
    "    X_train_seq, X_val_seq, X_test_seq, word_index = texts_to_sequences(X_train, X_val, X_test)\n",
    "    \n",
    "    # FPad the sequences to ensure uniform length\n",
    "    X_train_pad = pad_sequences(X_train_seq, padding='pre', maxlen=max_len)\n",
    "    X_val_pad = pad_sequences(X_val_seq, padding='pre', maxlen=max_len)\n",
    "    X_test_pad = pad_sequences(X_test_seq, padding='pre', maxlen=max_len)\n",
    "    \n",
    "    return X_train_pad, X_val_pad, X_test_pad, word_index"
   ],
   "metadata": {
    "collapsed": false,
    "ExecuteTime": {
     "end_time": "2024-01-29T08:46:32.391127100Z",
     "start_time": "2024-01-29T08:46:32.327063900Z"
    }
   },
   "id": "89e659a18a85f818",
   "execution_count": 17
  },
  {
   "cell_type": "code",
   "outputs": [
    {
     "name": "stdout",
     "output_type": "stream",
     "text": [
      "Dictionary size:  33844\n"
     ]
    }
   ],
   "source": [
    "# tokenize the text data\n",
    "X_train_pad, X_val_pad, X_test_pad, word_index = tokenize_text(X_train, X_val, X_test, max_words, max_len)"
   ],
   "metadata": {
    "collapsed": false,
    "ExecuteTime": {
     "end_time": "2024-01-29T08:46:45.844323400Z",
     "start_time": "2024-01-29T08:46:43.522789200Z"
    }
   },
   "id": "35b10bf5ddd0fc1a",
   "execution_count": 18
  },
  {
   "cell_type": "code",
   "outputs": [],
   "source": [
    "# encoding the data to numerical data\n",
    "# define the tokenizer and tokenization\n",
    "# tokenizer = Tokenizer(num_words=max_words, lower=False, char_level=False)\n",
    "# tokenizer.fit_on_texts(X_train)  #leaky"
   ],
   "metadata": {
    "collapsed": false,
    "ExecuteTime": {
     "end_time": "2024-01-29T08:46:55.373266300Z",
     "start_time": "2024-01-29T08:46:55.320740100Z"
    }
   },
   "id": "7009e50d3d3d8ba1",
   "execution_count": 19
  },
  {
   "cell_type": "code",
   "outputs": [],
   "source": [
    "# # Function to convert texts to sequences of integers\n",
    "# def texts_to_sequences(X_train, X_val, X_test):\n",
    "#     # convert texts to sequences of integers\n",
    "#     X_train_seq = tokenizer.texts_to_sequences(X_train)\n",
    "#     X_val_seq = tokenizer.texts_to_sequences(X_val)\n",
    "#     X_test_seq = tokenizer.texts_to_sequences(X_test)\n",
    "#     word_index = tokenizer.word_index\n",
    "#     \n",
    "#     print(\"Dictionary size: \", len(word_index))\n",
    "#     \n",
    "#     return X_train_seq, X_val_seq, X_test_seq, word_index"
   ],
   "metadata": {
    "collapsed": false,
    "ExecuteTime": {
     "end_time": "2024-01-29T08:46:55.928995200Z",
     "start_time": "2024-01-29T08:46:55.879997300Z"
    }
   },
   "id": "e736cc1f0071fc3c",
   "execution_count": 20
  },
  {
   "cell_type": "code",
   "outputs": [],
   "source": [
    "# define the sequences of integers\n",
    "# X_train_seq, X_val_seq, X_test_seq, word_index = texts_to_sequences(X_train, X_val, X_test)"
   ],
   "metadata": {
    "collapsed": false,
    "ExecuteTime": {
     "end_time": "2024-01-29T08:47:08.685713400Z",
     "start_time": "2024-01-29T08:47:08.627113900Z"
    }
   },
   "id": "1b539e39341ead5d",
   "execution_count": 21
  },
  {
   "cell_type": "markdown",
   "source": [
    "# Model Building and Training"
   ],
   "metadata": {
    "collapsed": false
   },
   "id": "356f63c9492ba87e"
  },
  {
   "cell_type": "markdown",
   "source": [
    "## Importing the FastText word embeddings"
   ],
   "metadata": {
    "collapsed": false
   },
   "id": "8b70dd5195612f20"
  },
  {
   "cell_type": "code",
   "outputs": [],
   "source": [
    "# run if the wiki.ko.vec is not available in the same directory\n",
    "import os\n",
    "import urllib.request\n",
    "# check if the file wiki.ko.vec is in the directory if not download it\n",
    "if not os.path.isfile('wiki.ko.vec'):\n",
    "    print('wiki.ko.vec does not exist, downloading file from the internet')\n",
    "    # download the FastText word embeddings and monitor the download progress bar with tqdm\n",
    "    with tqdm(unit='B', unit_scale=True, miniters=1, desc='wiki.ko.vec') as t:\n",
    "        urllib.request.urlretrieve('https://dl.fbaipublicfiles.com/fasttext/vectors-wiki/wiki.ko.vec', 'wiki.ko.vec', reporthook=lambda a,b,c: t.update(c))\n",
    "    # urllib.request.urlretrieve('https://dl.fbaipublicfiles.com/fasttext/vectors-wiki/wiki.ko.vec', 'wiki.ko.vec')\n",
    "else:\n",
    "    print('wiki.ko.vec exists, will not download file from the internet')"
   ],
   "metadata": {
    "collapsed": false
   },
   "id": "357614d51612fad7",
   "execution_count": 47
  },
  {
   "cell_type": "code",
   "outputs": [],
   "source": [
    "# import the FastText word embeddings\n",
    "print('Loading word FastText embeddings...')\n",
    "embeddings_index = {}\n",
    "f = codecs.open('wiki.ko.vec', encoding='utf-8')\n",
    "\n",
    "for line in tqdm(f):\n",
    "    values = line.rstrip().rsplit(' ')\n",
    "    word = values[0]\n",
    "    coefs = np.asarray(values[1:], dtype='float32')\n",
    "    embeddings_index[word] = coefs\n",
    "f.close()"
   ],
   "metadata": {
    "collapsed": false
   },
   "id": "29a103be30767f56",
   "execution_count": 48
  },
  {
   "cell_type": "code",
   "outputs": [],
   "source": [
    "print('Found %s word vectors' % len(embeddings_index))"
   ],
   "metadata": {
    "collapsed": false
   },
   "id": "d79507de0f1a4c06",
   "execution_count": 51
  },
  {
   "cell_type": "code",
   "outputs": [],
   "source": [
    "print(len(embeddings_index))"
   ],
   "metadata": {
    "collapsed": false
   },
   "id": "6a37d19ccffb035",
   "execution_count": 54
  },
  {
   "cell_type": "code",
   "outputs": [],
   "source": [
    "# # create a weight matrix for words in training docs\n",
    "# embedding_matrix = np.zeros((max_words, embedding_dim))\n",
    "# for word, i in word_index.items():\n",
    "#     if i < max_words:\n",
    "#         embedding_vector = embeddings_index.get(word)\n",
    "#         if embedding_vector is not None:\n",
    "#             embedding_matrix[i] = embedding_vector"
   ],
   "metadata": {
    "collapsed": false
   },
   "id": "ac071c36786d65f8"
  },
  {
   "cell_type": "code",
   "outputs": [],
   "source": [
    "# # define the embedding layer\n",
    "# embedding_layer = Embedding(max_words,\n",
    "#                             embedding_dim,\n",
    "#                             embeddings_initializer=Constant(embedding_matrix),\n",
    "#                             input_length=max_len,\n",
    "#                             trainable=False)"
   ],
   "metadata": {
    "collapsed": false
   },
   "id": "879c2f9b4d072c75"
  },
  {
   "cell_type": "code",
   "outputs": [],
   "source": [
    "# define the preprocessing parameters\n",
    "embedding_dim = 300 # embedding dimensions for word vectors (word2vec/GloVe/Fasttext)\n",
    "\n",
    "# defining the hyperparameters\n",
    "learning_rate = 1e-3\n",
    "batch_size= 32 # 64, 128\n",
    "epochs = 10\n",
    "steps_per_epoch = len(X_train) // batch_size  # total_samples is the training set size\n",
    "\n",
    "# Calculating decay steps\n",
    "# It's common to decay the learning rate at each epoch\n",
    "decay_steps = steps_per_epoch * epochs # 10000\n",
    "decay_rate = 0.9  # This is a common decay rate, but you can adjust it\n",
    "# learning_decay = 1e-10 # 1e-4\n",
    "\n",
    "spa_dropout_ratio = 0.2 # dropout ration, dropping a entire feature map\n",
    "kernel_size = 3 # [1,2,3,5] # [1,2,3,5] Size of the kernel. Mixing kernels of various sizes.\n",
    "                # specifying the length of the 1D convolution window.\n",
    "dense_units = 64 # hidden unit 128 the number of neurons in the hidden layer\n",
    "dropout_ratio = 0.2 # 0.1, 0.2 to 0.5 Dropout Ratio\n",
    "num_filters = 50 # 36, 128, 256 number of kernels, conv_size\n",
    "                # Integer, the dimensionality of the output space (i.e. the number of output filters in the convolution).\n",
    "\n",
    "lstm_units_1 = 64 # the size(dim) of the hidden state vector as well as the output vector.\n",
    "lstm_units_2 = 32 # the size(dim) of the hidden state vector as well as the output vector."
   ],
   "metadata": {
    "collapsed": false,
    "ExecuteTime": {
     "end_time": "2024-01-29T08:47:49.327582300Z",
     "start_time": "2024-01-29T08:47:49.259045500Z"
    }
   },
   "id": "5951bee5a0d0fcf3",
   "execution_count": 23
  },
  {
   "cell_type": "markdown",
   "source": [
    "### Preparing FastText embedding matrix for future use"
   ],
   "metadata": {
    "collapsed": false
   },
   "id": "99bded3c2c7b7c"
  },
  {
   "cell_type": "code",
   "outputs": [],
   "source": [
    "#embedding matrix\n",
    "# print('Preparing embedding matrix for future use...')\n",
    "words_not_found = []\n",
    "embed_dim = embedding_dim #300 # 32 Dimensions of the embedding vector\n",
    "nb_words = min(max_words, len(word_index))\n",
    "embedding_matrix = np.zeros((max_words, embed_dim))\n",
    "\n",
    "for word, i in word_index.items():\n",
    "    if i >= nb_words:\n",
    "        continue\n",
    "    embedding_vector = embeddings_index.get(word)\n",
    "    if (embedding_vector is not None) and len(embedding_vector) > 0:\n",
    "        # words not found in embedding index will be all-zeros.\n",
    "        embedding_matrix[i] = embedding_vector\n",
    "    else:\n",
    "        words_not_found.append(word)\n",
    "print('number of null word embeddings: %d' % np.sum(np.sum(embedding_matrix, axis=1) == 0))\n",
    "print(\"sample words not found: \", np.random.choice(words_not_found, 10))"
   ],
   "metadata": {
    "collapsed": false
   },
   "id": "9f18cf14ef79ccfc"
  },
  {
   "cell_type": "code",
   "outputs": [
    {
     "data": {
      "text/plain": "Empty DataFrame\nColumns: [F1_score, Precision, Recall, Accuracy, Training time]\nIndex: []",
      "text/html": "<div>\n<style scoped>\n    .dataframe tbody tr th:only-of-type {\n        vertical-align: middle;\n    }\n\n    .dataframe tbody tr th {\n        vertical-align: top;\n    }\n\n    .dataframe thead th {\n        text-align: right;\n    }\n</style>\n<table border=\"1\" class=\"dataframe\">\n  <thead>\n    <tr style=\"text-align: right;\">\n      <th></th>\n      <th>F1_score</th>\n      <th>Precision</th>\n      <th>Recall</th>\n      <th>Accuracy</th>\n      <th>Training time</th>\n    </tr>\n  </thead>\n  <tbody>\n  </tbody>\n</table>\n</div>"
     },
     "execution_count": 22,
     "metadata": {},
     "output_type": "execute_result"
    }
   ],
   "source": [
    "# Setting up our results dataframe\n",
    "df_results = pd.DataFrame(columns=['F1_score', 'Precision', 'Recall', 'Accuracy', 'Training time'])\n",
    "df_results"
   ],
   "metadata": {
    "collapsed": false,
    "ExecuteTime": {
     "end_time": "2024-01-29T08:47:34.624565900Z",
     "start_time": "2024-01-29T08:47:34.543815400Z"
    }
   },
   "id": "a3150406220c6a16",
   "execution_count": 22
  },
  {
   "cell_type": "markdown",
   "source": [
    "## Training with default embedding layer and the original train_set dataset"
   ],
   "metadata": {
    "collapsed": false
   },
   "id": "12dabfd8c5ab6c0"
  },
  {
   "cell_type": "markdown",
   "source": [
    "### Single LSTM layer"
   ],
   "metadata": {
    "collapsed": false
   },
   "id": "e76aec593e9c1704"
  },
  {
   "cell_type": "code",
   "outputs": [],
   "source": [
    "# write a function to build, train and evaluate the LSTM model\n",
    "def build_train_singlelstm_model(model_name, X_train, y_train, X_val, y_val, X_test, y_test, epochs=epochs, batch_size=batch_size, learning_rate=learning_rate, decay_steps=decay_steps, decay_rate=decay_rate, embedding_matrix=None):\n",
    "    \n",
    "    # define the model architecture\n",
    "    model = Sequential()\n",
    "    model.add(Embedding(max_words, embedding_dim, weights= [embedding_matrix], input_length=max_len, trainable=False))\n",
    "    # model.add(SpatialDropout1D(spa_dropout_ratio))\n",
    "    model.add(LSTM(lstm_units_1))\n",
    "    model.add(Dense(dense_units, activation='relu'))\n",
    "    # model.add(LSTM(lstm_units_1, dropout=dropout_ratio, recurrent_dropout=dropout_ratio))\n",
    "    model.add(Dropout(spa_dropout_ratio))\n",
    "    model.add(Dense(1, activation='sigmoid'))  # Assuming binary classification\n",
    "    \n",
    "    # compile the model\n",
    "    lr_schedule = tf.keras.optimizers.schedules.ExponentialDecay(\n",
    "    initial_learning_rate=learning_rate,\n",
    "    decay_steps=decay_steps,\n",
    "    decay_rate=decay_rate\n",
    "    )\n",
    "    \n",
    "    model.compile(\n",
    "        # optimizer=Adam(learning_rate=learning_rate, decay=learning_rate / decay_steps),\n",
    "        optimizer = Adam(learning_rate=lr_schedule),\n",
    "        loss='binary_crossentropy', \n",
    "        metrics=['accuracy']\n",
    "    )\n",
    "    \n",
    "    # print the model summary\n",
    "    print(model.summary())\n",
    "    print('#' * 150)\n",
    "    \n",
    "    # Create a callback that saves the best model during validation\n",
    "    model_checkpoint = ModelCheckpoint(\n",
    "        \"models/singleLSTM_\"+ datetime.now().strftime(\"%Y%m%d_%H%M%S\") + \".h5\",\n",
    "        monitor='val_accuracy', # val_loss or val_accuracy \n",
    "        verbose=1,\n",
    "        save_best_only=True,\n",
    "        mode='min'\n",
    "    )\n",
    "    # EarlyStopping to stop training when the validation loss has stopped improving\n",
    "    early_stopping = EarlyStopping(\n",
    "        monitor = 'val_loss',\n",
    "        verbose = 1,\n",
    "        patience = 3, # Number of epochs with no improvement after which training will be stopped.\n",
    "        mode = 'min'\n",
    "    )\n",
    "\n",
    "    # TensorBoard for visualization\n",
    "    log_dir = \"logs/fit/\" + datetime.now().strftime(\"%Y%m%d-%H%M%S\")\n",
    "    tensorboard_callback = TensorBoard(log_dir=log_dir, histogram_freq=1)\n",
    "\n",
    "    # train the model\n",
    "    start_time = time()\n",
    "    history = model.fit(\n",
    "        X_train,\n",
    "        y_train,\n",
    "        epochs=epochs,\n",
    "        batch_size=batch_size,\n",
    "        validation_data=(X_val, y_val),\n",
    "        verbose=1,\n",
    "        callbacks=[model_checkpoint, early_stopping, tensorboard_callback]\n",
    "    )\n",
    "    end_time = time()\n",
    "    training_time = end_time - start_time\n",
    "    \n",
    "    # print the training time\n",
    "    print('Training time: {}'.format(training_time))\n",
    "    \n",
    "    # evaluate the model\n",
    "    loss, accuracy = model.evaluate(X_test, y_test, verbose=1)\n",
    "    print('Test Loss: {}'.format(loss))\n",
    "    print('Test Accuracy: {}'.format(accuracy))\n",
    "    \n",
    "    # predict the test set\n",
    "    # y_pred = model.predict(X_test)\n",
    "    # y_pred = np.argmax(y_pred, axis=1)\n",
    "    # y_test = np.argmax(y_test, axis=1)\n",
    "    y_pred_probs = model.predict(X_test)\n",
    "    y_pred = (y_pred_probs >= 0.5).astype(int)  # Convert probabilities to binary (0 or 1)\n",
    "    \n",
    "    # print the precision, recall and f1-score\n",
    "    model_precision = precision_score(y_test, y_pred)\n",
    "    model_recall = recall_score(y_test, y_pred)\n",
    "    model_f1_score = f1_score(y_test, y_pred)\n",
    "    print('Precision: {}'.format(model_precision))\n",
    "    print('Recall: {}'.format(model_recall))\n",
    "    print('F1-score: {}'.format(model_f1_score))\n",
    "        \n",
    "    # print the classification report\n",
    "    report = classification_report(y_test, y_pred, digits=4, target_names=['None_vishing', 'Vishing'])\n",
    "    print(report)\n",
    "    \n",
    "    # print the confusion matrix\n",
    "    print(confusion_matrix(y_test, y_pred))\n",
    "        \n",
    "    # save the model\n",
    "    # model.save('models/{}.h5'.format(model_name))\n",
    "    \n",
    "    # save the history\n",
    "    with open('histories/{}.pkl'.format(model_name), 'wb') as file_pi:\n",
    "        pickle.dump(history.history, file_pi)\n",
    "    \n",
    "    # save the results\n",
    "    df_results.loc[model_name] = [model_f1_score, model_precision, model_recall, accuracy, training_time]\n",
    "    # df_results.loc[model_name] = [f1_score(y_test, y_pred), precision_score(y_test, y_pred), recall_score(y_test, y_pred), accuracy, training_time]  \n",
    "    \n",
    "    # print the results\n",
    "    # df_results\n",
    "    \n",
    "    return model, history, report"
   ],
   "metadata": {
    "collapsed": false
   },
   "id": "cda6204c1c043e69",
   "execution_count": 50
  },
  {
   "cell_type": "code",
   "outputs": [
    {
     "name": "stderr",
     "output_type": "stream",
     "text": [
      "2024-01-29 18:01:22.350125: I external/local_xla/xla/stream_executor/cuda/cuda_executor.cc:887] could not open file to read NUMA node: /sys/bus/pci/devices/0000:01:00.0/numa_node\n",
      "Your kernel may have been built without NUMA support.\n",
      "2024-01-29 18:01:23.314240: I external/local_xla/xla/stream_executor/cuda/cuda_executor.cc:887] could not open file to read NUMA node: /sys/bus/pci/devices/0000:01:00.0/numa_node\n",
      "Your kernel may have been built without NUMA support.\n",
      "2024-01-29 18:01:23.314311: I external/local_xla/xla/stream_executor/cuda/cuda_executor.cc:887] could not open file to read NUMA node: /sys/bus/pci/devices/0000:01:00.0/numa_node\n",
      "Your kernel may have been built without NUMA support.\n",
      "2024-01-29 18:01:23.332577: I external/local_xla/xla/stream_executor/cuda/cuda_executor.cc:887] could not open file to read NUMA node: /sys/bus/pci/devices/0000:01:00.0/numa_node\n",
      "Your kernel may have been built without NUMA support.\n",
      "2024-01-29 18:01:23.332651: I external/local_xla/xla/stream_executor/cuda/cuda_executor.cc:887] could not open file to read NUMA node: /sys/bus/pci/devices/0000:01:00.0/numa_node\n",
      "Your kernel may have been built without NUMA support.\n",
      "2024-01-29 18:01:23.332668: I external/local_xla/xla/stream_executor/cuda/cuda_executor.cc:887] could not open file to read NUMA node: /sys/bus/pci/devices/0000:01:00.0/numa_node\n",
      "Your kernel may have been built without NUMA support.\n",
      "2024-01-29 18:01:24.418194: I external/local_xla/xla/stream_executor/cuda/cuda_executor.cc:887] could not open file to read NUMA node: /sys/bus/pci/devices/0000:01:00.0/numa_node\n",
      "Your kernel may have been built without NUMA support.\n",
      "2024-01-29 18:01:24.418630: I external/local_xla/xla/stream_executor/cuda/cuda_executor.cc:887] could not open file to read NUMA node: /sys/bus/pci/devices/0000:01:00.0/numa_node\n",
      "Your kernel may have been built without NUMA support.\n",
      "2024-01-29 18:01:24.418760: I tensorflow/core/common_runtime/gpu/gpu_device.cc:2022] Could not identify NUMA node of platform GPU id 0, defaulting to 0.  Your kernel may not have been built with NUMA support.\n",
      "2024-01-29 18:01:24.419070: I external/local_xla/xla/stream_executor/cuda/cuda_executor.cc:887] could not open file to read NUMA node: /sys/bus/pci/devices/0000:01:00.0/numa_node\n",
      "Your kernel may have been built without NUMA support.\n",
      "2024-01-29 18:01:24.419427: I tensorflow/core/common_runtime/gpu/gpu_device.cc:1929] Created device /job:localhost/replica:0/task:0/device:GPU:0 with 5578 MB memory:  -> device: 0, name: NVIDIA GeForce RTX 4060 Laptop GPU, pci bus id: 0000:01:00.0, compute capability: 8.9\n",
      "2024-01-29 18:01:25.206018: W external/local_xla/xla/stream_executor/gpu/asm_compiler.cc:225] Falling back to the CUDA driver for PTX compilation; ptxas does not support CC 8.9\n",
      "2024-01-29 18:01:25.206056: W external/local_xla/xla/stream_executor/gpu/asm_compiler.cc:228] Used ptxas at ptxas\n",
      "2024-01-29 18:01:25.206121: W tensorflow/compiler/mlir/tools/kernel_gen/transforms/gpu_kernel_to_blob_pass.cc:191] Failed to compile generated PTX with ptxas. Falling back to compilation by driver.\n"
     ]
    },
    {
     "name": "stdout",
     "output_type": "stream",
     "text": [
      "Model: \"sequential\"\n",
      "_________________________________________________________________\n",
      " Layer (type)                Output Shape              Param #   \n",
      "=================================================================\n",
      " embedding (Embedding)       (None, 4715, 300)         10153200  \n",
      "                                                                 \n",
      " lstm (LSTM)                 (None, 64)                93440     \n",
      "                                                                 \n",
      " dropout (Dropout)           (None, 64)                0         \n",
      "                                                                 \n",
      " dense (Dense)               (None, 1)                 65        \n",
      "                                                                 \n",
      "=================================================================\n",
      "Total params: 10246705 (39.09 MB)\n",
      "Trainable params: 93505 (365.25 KB)\n",
      "Non-trainable params: 10153200 (38.73 MB)\n",
      "_________________________________________________________________\n"
     ]
    },
    {
     "name": "stderr",
     "output_type": "stream",
     "text": [
      "2024-01-29 18:01:25.544490: W tensorflow/compiler/mlir/tools/kernel_gen/transforms/gpu_kernel_to_blob_pass.cc:191] Failed to compile generated PTX with ptxas. Falling back to compilation by driver.\n",
      "2024-01-29 18:01:25.550703: W tensorflow/compiler/mlir/tools/kernel_gen/transforms/gpu_kernel_to_blob_pass.cc:191] Failed to compile generated PTX with ptxas. Falling back to compilation by driver.\n",
      "2024-01-29 18:01:25.550818: W tensorflow/compiler/mlir/tools/kernel_gen/transforms/gpu_kernel_to_blob_pass.cc:191] Failed to compile generated PTX with ptxas. Falling back to compilation by driver.\n",
      "2024-01-29 18:01:25.550947: W tensorflow/compiler/mlir/tools/kernel_gen/transforms/gpu_kernel_to_blob_pass.cc:191] Failed to compile generated PTX with ptxas. Falling back to compilation by driver.\n",
      "2024-01-29 18:01:25.552081: W tensorflow/compiler/mlir/tools/kernel_gen/transforms/gpu_kernel_to_blob_pass.cc:191] Failed to compile generated PTX with ptxas. Falling back to compilation by driver.\n",
      "2024-01-29 18:01:25.552118: W tensorflow/compiler/mlir/tools/kernel_gen/transforms/gpu_kernel_to_blob_pass.cc:191] Failed to compile generated PTX with ptxas. Falling back to compilation by driver.\n",
      "2024-01-29 18:01:25.555177: W tensorflow/compiler/mlir/tools/kernel_gen/transforms/gpu_kernel_to_blob_pass.cc:191] Failed to compile generated PTX with ptxas. Falling back to compilation by driver.\n",
      "2024-01-29 18:01:25.555230: W tensorflow/compiler/mlir/tools/kernel_gen/transforms/gpu_kernel_to_blob_pass.cc:191] Failed to compile generated PTX with ptxas. Falling back to compilation by driver.\n"
     ]
    },
    {
     "name": "stdout",
     "output_type": "stream",
     "text": [
      "None\n",
      "######################################################################################################################################################\n",
      "Epoch 1/10\n"
     ]
    },
    {
     "name": "stderr",
     "output_type": "stream",
     "text": [
      "2024-01-29 18:01:25.930241: W tensorflow/compiler/mlir/tools/kernel_gen/transforms/gpu_kernel_to_blob_pass.cc:191] Failed to compile generated PTX with ptxas. Falling back to compilation by driver.\n",
      "2024-01-29 18:01:25.930300: W tensorflow/compiler/mlir/tools/kernel_gen/transforms/gpu_kernel_to_blob_pass.cc:191] Failed to compile generated PTX with ptxas. Falling back to compilation by driver.\n",
      "2024-01-29 18:01:25.930644: W tensorflow/compiler/mlir/tools/kernel_gen/transforms/gpu_kernel_to_blob_pass.cc:191] Failed to compile generated PTX with ptxas. Falling back to compilation by driver.\n",
      "2024-01-29 18:01:25.930727: W tensorflow/compiler/mlir/tools/kernel_gen/transforms/gpu_kernel_to_blob_pass.cc:191] Failed to compile generated PTX with ptxas. Falling back to compilation by driver.\n",
      "2024-01-29 18:01:25.931275: W tensorflow/compiler/mlir/tools/kernel_gen/transforms/gpu_kernel_to_blob_pass.cc:191] Failed to compile generated PTX with ptxas. Falling back to compilation by driver.\n",
      "2024-01-29 18:01:25.931323: W tensorflow/compiler/mlir/tools/kernel_gen/transforms/gpu_kernel_to_blob_pass.cc:191] Failed to compile generated PTX with ptxas. Falling back to compilation by driver.\n",
      "2024-01-29 18:01:25.931902: W tensorflow/compiler/mlir/tools/kernel_gen/transforms/gpu_kernel_to_blob_pass.cc:191] Failed to compile generated PTX with ptxas. Falling back to compilation by driver.\n",
      "2024-01-29 18:01:25.932042: W tensorflow/compiler/mlir/tools/kernel_gen/transforms/gpu_kernel_to_blob_pass.cc:191] Failed to compile generated PTX with ptxas. Falling back to compilation by driver.\n",
      "2024-01-29 18:01:27.145132: I external/local_xla/xla/stream_executor/cuda/cuda_dnn.cc:454] Loaded cuDNN version 8904\n",
      "2024-01-29 18:01:27.316631: W tensorflow/compiler/mlir/tools/kernel_gen/transforms/gpu_kernel_to_blob_pass.cc:191] Failed to compile generated PTX with ptxas. Falling back to compilation by driver.\n",
      "2024-01-29 18:01:27.316680: W tensorflow/compiler/mlir/tools/kernel_gen/transforms/gpu_kernel_to_blob_pass.cc:191] Failed to compile generated PTX with ptxas. Falling back to compilation by driver.\n",
      "2024-01-29 18:01:27.317268: W tensorflow/compiler/mlir/tools/kernel_gen/transforms/gpu_kernel_to_blob_pass.cc:191] Failed to compile generated PTX with ptxas. Falling back to compilation by driver.\n",
      "2024-01-29 18:01:27.422711: W tensorflow/compiler/mlir/tools/kernel_gen/transforms/gpu_kernel_to_blob_pass.cc:191] Failed to compile generated PTX with ptxas. Falling back to compilation by driver.\n",
      "2024-01-29 18:01:27.423573: W tensorflow/compiler/mlir/tools/kernel_gen/transforms/gpu_kernel_to_blob_pass.cc:191] Failed to compile generated PTX with ptxas. Falling back to compilation by driver.\n",
      "2024-01-29 18:01:27.424762: W tensorflow/compiler/mlir/tools/kernel_gen/transforms/gpu_kernel_to_blob_pass.cc:191] Failed to compile generated PTX with ptxas. Falling back to compilation by driver.\n",
      "2024-01-29 18:01:27.424803: W tensorflow/compiler/mlir/tools/kernel_gen/transforms/gpu_kernel_to_blob_pass.cc:191] Failed to compile generated PTX with ptxas. Falling back to compilation by driver.\n",
      "2024-01-29 18:01:27.426004: W tensorflow/compiler/mlir/tools/kernel_gen/transforms/gpu_kernel_to_blob_pass.cc:191] Failed to compile generated PTX with ptxas. Falling back to compilation by driver.\n",
      "2024-01-29 18:01:27.426652: W tensorflow/compiler/mlir/tools/kernel_gen/transforms/gpu_kernel_to_blob_pass.cc:191] Failed to compile generated PTX with ptxas. Falling back to compilation by driver.\n",
      "2024-01-29 18:01:27.426685: W tensorflow/compiler/mlir/tools/kernel_gen/transforms/gpu_kernel_to_blob_pass.cc:191] Failed to compile generated PTX with ptxas. Falling back to compilation by driver.\n",
      "2024-01-29 18:01:27.426719: W tensorflow/compiler/mlir/tools/kernel_gen/transforms/gpu_kernel_to_blob_pass.cc:191] Failed to compile generated PTX with ptxas. Falling back to compilation by driver.\n",
      "2024-01-29 18:01:27.426863: W tensorflow/compiler/mlir/tools/kernel_gen/transforms/gpu_kernel_to_blob_pass.cc:191] Failed to compile generated PTX with ptxas. Falling back to compilation by driver.\n",
      "2024-01-29 18:01:27.677921: W tensorflow/compiler/mlir/tools/kernel_gen/transforms/gpu_kernel_to_blob_pass.cc:191] Failed to compile generated PTX with ptxas. Falling back to compilation by driver.\n",
      "2024-01-29 18:01:27.705635: W tensorflow/compiler/mlir/tools/kernel_gen/transforms/gpu_kernel_to_blob_pass.cc:191] Failed to compile generated PTX with ptxas. Falling back to compilation by driver.\n",
      "2024-01-29 18:01:27.745531: W tensorflow/compiler/mlir/tools/kernel_gen/transforms/gpu_kernel_to_blob_pass.cc:191] Failed to compile generated PTX with ptxas. Falling back to compilation by driver.\n",
      "2024-01-29 18:01:27.777132: W tensorflow/compiler/mlir/tools/kernel_gen/transforms/gpu_kernel_to_blob_pass.cc:191] Failed to compile generated PTX with ptxas. Falling back to compilation by driver.\n",
      "2024-01-29 18:01:27.821158: W tensorflow/compiler/mlir/tools/kernel_gen/transforms/gpu_kernel_to_blob_pass.cc:191] Failed to compile generated PTX with ptxas. Falling back to compilation by driver.\n",
      "2024-01-29 18:01:27.856534: I external/local_xla/xla/service/service.cc:168] XLA service 0x7f159c170290 initialized for platform CUDA (this does not guarantee that XLA will be used). Devices:\n",
      "2024-01-29 18:01:27.856576: I external/local_xla/xla/service/service.cc:176]   StreamExecutor device (0): NVIDIA GeForce RTX 4060 Laptop GPU, Compute Capability 8.9\n",
      "2024-01-29 18:01:27.902241: I tensorflow/compiler/mlir/tensorflow/utils/dump_mlir_util.cc:269] disabling MLIR crash reproducer, set env var `MLIR_CRASH_REPRODUCER_DIRECTORY` to enable.\n",
      "2024-01-29 18:01:28.008248: W external/local_xla/xla/service/gpu/nvptx_compiler.cc:408] Couldn't read CUDA driver version.\n",
      "WARNING: All log messages before absl::InitializeLog() is called are written to STDERR\n",
      "I0000 00:00:1706518888.025447     997 device_compiler.h:186] Compiled cluster using XLA!  This line is logged at most once for the lifetime of the process.\n"
     ]
    },
    {
     "name": "stdout",
     "output_type": "stream",
     "text": [
      "64/64 [==============================] - ETA: 0s - loss: 0.3620 - accuracy: 0.8188\n",
      "Epoch 1: val_accuracy improved from inf to 0.98182, saving model to models/singleLSTM_20240129_180125.h5\n"
     ]
    },
    {
     "name": "stderr",
     "output_type": "stream",
     "text": [
      "/home/mbmk92/anaconda3/envs/vishingWSL/lib/python3.11/site-packages/keras/src/engine/training.py:3103: UserWarning: You are saving your model as an HDF5 file via `model.save()`. This file format is considered legacy. We recommend using instead the native Keras format, e.g. `model.save('my_model.keras')`.\n",
      "  saving_api.save_model(\n"
     ]
    },
    {
     "name": "stdout",
     "output_type": "stream",
     "text": [
      "64/64 [==============================] - 22s 315ms/step - loss: 0.3620 - accuracy: 0.8188 - val_loss: 0.1360 - val_accuracy: 0.9818\n",
      "Epoch 2/10\n",
      "64/64 [==============================] - ETA: 0s - loss: 0.2752 - accuracy: 0.9511\n",
      "Epoch 2: val_accuracy improved from 0.98182 to 0.89091, saving model to models/singleLSTM_20240129_180125.h5\n",
      "64/64 [==============================] - 20s 310ms/step - loss: 0.2752 - accuracy: 0.9511 - val_loss: 0.5965 - val_accuracy: 0.8909\n",
      "Epoch 3/10\n",
      "64/64 [==============================] - ETA: 0s - loss: 0.1581 - accuracy: 0.9766\n",
      "Epoch 3: val_accuracy did not improve from 0.89091\n",
      "64/64 [==============================] - 18s 274ms/step - loss: 0.1581 - accuracy: 0.9766 - val_loss: 0.1144 - val_accuracy: 0.9705\n",
      "Epoch 4/10\n",
      "64/64 [==============================] - ETA: 0s - loss: 0.0813 - accuracy: 0.9868\n",
      "Epoch 4: val_accuracy did not improve from 0.89091\n",
      "64/64 [==============================] - 16s 253ms/step - loss: 0.0813 - accuracy: 0.9868 - val_loss: 0.1035 - val_accuracy: 0.9705\n",
      "Epoch 5/10\n",
      "64/64 [==============================] - ETA: 0s - loss: 0.0596 - accuracy: 0.9946\n",
      "Epoch 5: val_accuracy did not improve from 0.89091\n",
      "64/64 [==============================] - 15s 240ms/step - loss: 0.0596 - accuracy: 0.9946 - val_loss: 0.0597 - val_accuracy: 0.9977\n",
      "Epoch 6/10\n",
      "64/64 [==============================] - ETA: 0s - loss: 0.1745 - accuracy: 0.9565\n",
      "Epoch 6: val_accuracy did not improve from 0.89091\n",
      "64/64 [==============================] - 17s 259ms/step - loss: 0.1745 - accuracy: 0.9565 - val_loss: 0.0769 - val_accuracy: 0.9841\n",
      "Epoch 7/10\n",
      "64/64 [==============================] - ETA: 0s - loss: 0.0886 - accuracy: 0.9878\n",
      "Epoch 7: val_accuracy did not improve from 0.89091\n",
      "64/64 [==============================] - 16s 251ms/step - loss: 0.0886 - accuracy: 0.9878 - val_loss: 0.3754 - val_accuracy: 0.9386\n",
      "Epoch 8/10\n",
      "64/64 [==============================] - ETA: 0s - loss: 0.0987 - accuracy: 0.9888\n",
      "Epoch 8: val_accuracy did not improve from 0.89091\n",
      "64/64 [==============================] - 15s 239ms/step - loss: 0.0987 - accuracy: 0.9888 - val_loss: 0.0558 - val_accuracy: 0.9886\n",
      "Epoch 9/10\n",
      "64/64 [==============================] - ETA: 0s - loss: 0.0418 - accuracy: 0.9888\n",
      "Epoch 9: val_accuracy did not improve from 0.89091\n",
      "64/64 [==============================] - 16s 249ms/step - loss: 0.0418 - accuracy: 0.9888 - val_loss: 0.0356 - val_accuracy: 0.9955\n",
      "Epoch 10/10\n",
      "64/64 [==============================] - ETA: 0s - loss: 0.0225 - accuracy: 0.9976\n",
      "Epoch 10: val_accuracy did not improve from 0.89091\n",
      "64/64 [==============================] - 15s 243ms/step - loss: 0.0225 - accuracy: 0.9976 - val_loss: 0.0166 - val_accuracy: 0.9955\n",
      "Training time: 171.44653868675232\n",
      "14/14 [==============================] - 2s 173ms/step - loss: 0.0226 - accuracy: 0.9977\n",
      "Test Loss: 0.02262665145099163\n",
      "Test Accuracy: 0.9977272748947144\n",
      "14/14 [==============================] - 3s 127ms/step\n",
      "Precision: 1.0\n",
      "Recall: 0.9904761904761905\n",
      "F1-score: 0.9952153110047847\n",
      "              precision    recall  f1-score   support\n",
      "\n",
      "None_vishing     0.9970    1.0000    0.9985       335\n",
      "     Vishing     1.0000    0.9905    0.9952       105\n",
      "\n",
      "    accuracy                         0.9977       440\n",
      "   macro avg     0.9985    0.9952    0.9969       440\n",
      "weighted avg     0.9977    0.9977    0.9977       440\n",
      "\n",
      "[[335   0]\n",
      " [  1 104]]\n"
     ]
    },
    {
     "name": "stderr",
     "output_type": "stream",
     "text": [
      "/home/mbmk92/anaconda3/envs/vishingWSL/lib/python3.11/site-packages/keras/src/engine/training.py:3103: UserWarning: You are saving your model as an HDF5 file via `model.save()`. This file format is considered legacy. We recommend using instead the native Keras format, e.g. `model.save('my_model.keras')`.\n",
      "  saving_api.save_model(\n"
     ]
    }
   ],
   "source": [
    "# build, train and evaluate the LSTM model\n",
    "model_1, history_1, report_1 = build_train_singlelstm_model('singleLSTM', X_train_pad, y_train, X_val_pad, y_val, X_test_pad, y_test)"
   ],
   "metadata": {
    "collapsed": false,
    "ExecuteTime": {
     "end_time": "2024-01-29T09:04:23.065181700Z",
     "start_time": "2024-01-29T09:01:21.065365500Z"
    }
   },
   "id": "a2017516f93ef4f8",
   "execution_count": 25
  },
  {
   "cell_type": "code",
   "outputs": [
    {
     "data": {
      "text/plain": "            F1_score  Precision    Recall  Accuracy  Training time\nsingleLSTM  0.995215        1.0  0.990476  0.997727     171.446539",
      "text/html": "<div>\n<style scoped>\n    .dataframe tbody tr th:only-of-type {\n        vertical-align: middle;\n    }\n\n    .dataframe tbody tr th {\n        vertical-align: top;\n    }\n\n    .dataframe thead th {\n        text-align: right;\n    }\n</style>\n<table border=\"1\" class=\"dataframe\">\n  <thead>\n    <tr style=\"text-align: right;\">\n      <th></th>\n      <th>F1_score</th>\n      <th>Precision</th>\n      <th>Recall</th>\n      <th>Accuracy</th>\n      <th>Training time</th>\n    </tr>\n  </thead>\n  <tbody>\n    <tr>\n      <th>singleLSTM</th>\n      <td>0.995215</td>\n      <td>1.0</td>\n      <td>0.990476</td>\n      <td>0.997727</td>\n      <td>171.446539</td>\n    </tr>\n  </tbody>\n</table>\n</div>"
     },
     "execution_count": 26,
     "metadata": {},
     "output_type": "execute_result"
    }
   ],
   "source": [
    "# print the results\n",
    "df_results"
   ],
   "metadata": {
    "collapsed": false,
    "ExecuteTime": {
     "end_time": "2024-01-29T09:04:45.255200200Z",
     "start_time": "2024-01-29T09:04:45.169688400Z"
    }
   },
   "id": "5a0ca2bfe3338c02",
   "execution_count": 26
  },
  {
   "cell_type": "markdown",
   "source": [
    "#### Plot the results"
   ],
   "metadata": {
    "collapsed": false
   },
   "id": "d41f51391066c0e2"
  },
  {
   "cell_type": "code",
   "outputs": [
    {
     "name": "stdout",
     "output_type": "stream",
     "text": [
      "[0.997, 1.0, 0.9985]\n",
      "[1.0, 0.9905, 0.9952]\n",
      "plotMat: [[0.997, 1.0, 0.9985], [1.0, 0.9905, 0.9952]]\n",
      "support: [335, 105]\n"
     ]
    },
    {
     "ename": "TypeError",
     "evalue": "Only length-1 arrays can be converted to Python scalars",
     "output_type": "error",
     "traceback": [
      "\u001B[0;31m---------------------------------------------------------------------------\u001B[0m",
      "\u001B[0;31mTypeError\u001B[0m                                 Traceback (most recent call last)",
      "Cell \u001B[0;32mIn[34], line 1\u001B[0m\n\u001B[0;32m----> 1\u001B[0m plot_classification_report(report_1, \u001B[38;5;124m'\u001B[39m\u001B[38;5;124msingleLSTM_Classification_report\u001B[39m\u001B[38;5;124m'\u001B[39m)\n",
      "Cell \u001B[0;32mIn[33], line 126\u001B[0m, in \u001B[0;36mplot_classification_report\u001B[0;34m(classification_report, title, cmap)\u001B[0m\n\u001B[1;32m    124\u001B[0m figure_height \u001B[38;5;241m=\u001B[39m \u001B[38;5;28mlen\u001B[39m(class_names) \u001B[38;5;241m+\u001B[39m \u001B[38;5;241m7\u001B[39m\n\u001B[1;32m    125\u001B[0m correct_orientation \u001B[38;5;241m=\u001B[39m \u001B[38;5;28;01mFalse\u001B[39;00m\n\u001B[0;32m--> 126\u001B[0m heatmap(np\u001B[38;5;241m.\u001B[39marray(plotMat), title, xlabel, ylabel, xticklabels, yticklabels, figure_width, figure_height, correct_orientation, cmap\u001B[38;5;241m=\u001B[39mcmap)\n",
      "Cell \u001B[0;32mIn[33], line 80\u001B[0m, in \u001B[0;36mheatmap\u001B[0;34m(AUC, title, xlabel, ylabel, xticklabels, yticklabels, figure_width, figure_height, correct_orientation, cmap)\u001B[0m\n\u001B[1;32m     77\u001B[0m plt\u001B[38;5;241m.\u001B[39mcolorbar(c)\n\u001B[1;32m     79\u001B[0m \u001B[38;5;66;03m# Add text in each cell \u001B[39;00m\n\u001B[0;32m---> 80\u001B[0m show_values(c)\n\u001B[1;32m     82\u001B[0m \u001B[38;5;66;03m# Proper orientation (origin at the top left instead of bottom left)\u001B[39;00m\n\u001B[1;32m     83\u001B[0m \u001B[38;5;28;01mif\u001B[39;00m correct_orientation:\n",
      "Cell \u001B[0;32mIn[33], line 18\u001B[0m, in \u001B[0;36mshow_values\u001B[0;34m(pc, fmt, **kw)\u001B[0m\n\u001B[1;32m     16\u001B[0m \u001B[38;5;28;01melse\u001B[39;00m:\n\u001B[1;32m     17\u001B[0m     color \u001B[38;5;241m=\u001B[39m (\u001B[38;5;241m1.0\u001B[39m, \u001B[38;5;241m1.0\u001B[39m, \u001B[38;5;241m1.0\u001B[39m)\n\u001B[0;32m---> 18\u001B[0m ax\u001B[38;5;241m.\u001B[39mtext(x, y, fmt \u001B[38;5;241m%\u001B[39m value, ha\u001B[38;5;241m=\u001B[39m\u001B[38;5;124m\"\u001B[39m\u001B[38;5;124mcenter\u001B[39m\u001B[38;5;124m\"\u001B[39m, va\u001B[38;5;241m=\u001B[39m\u001B[38;5;124m\"\u001B[39m\u001B[38;5;124mcenter\u001B[39m\u001B[38;5;124m\"\u001B[39m, color\u001B[38;5;241m=\u001B[39mcolor, \u001B[38;5;241m*\u001B[39m\u001B[38;5;241m*\u001B[39mkw)\n",
      "File \u001B[0;32m~/anaconda3/envs/vishingWSL/lib/python3.11/site-packages/numpy/ma/core.py:4452\u001B[0m, in \u001B[0;36mMaskedArray.__float__\u001B[0;34m(self)\u001B[0m\n\u001B[1;32m   4447\u001B[0m \u001B[38;5;250m\u001B[39m\u001B[38;5;124;03m\"\"\"\u001B[39;00m\n\u001B[1;32m   4448\u001B[0m \u001B[38;5;124;03mConvert to float.\u001B[39;00m\n\u001B[1;32m   4449\u001B[0m \n\u001B[1;32m   4450\u001B[0m \u001B[38;5;124;03m\"\"\"\u001B[39;00m\n\u001B[1;32m   4451\u001B[0m \u001B[38;5;28;01mif\u001B[39;00m \u001B[38;5;28mself\u001B[39m\u001B[38;5;241m.\u001B[39msize \u001B[38;5;241m>\u001B[39m \u001B[38;5;241m1\u001B[39m:\n\u001B[0;32m-> 4452\u001B[0m     \u001B[38;5;28;01mraise\u001B[39;00m \u001B[38;5;167;01mTypeError\u001B[39;00m(\u001B[38;5;124m\"\u001B[39m\u001B[38;5;124mOnly length-1 arrays can be converted \u001B[39m\u001B[38;5;124m\"\u001B[39m\n\u001B[1;32m   4453\u001B[0m                     \u001B[38;5;124m\"\u001B[39m\u001B[38;5;124mto Python scalars\u001B[39m\u001B[38;5;124m\"\u001B[39m)\n\u001B[1;32m   4454\u001B[0m \u001B[38;5;28;01melif\u001B[39;00m \u001B[38;5;28mself\u001B[39m\u001B[38;5;241m.\u001B[39m_mask:\n\u001B[1;32m   4455\u001B[0m     warnings\u001B[38;5;241m.\u001B[39mwarn(\u001B[38;5;124m\"\u001B[39m\u001B[38;5;124mWarning: converting a masked element to nan.\u001B[39m\u001B[38;5;124m\"\u001B[39m, stacklevel\u001B[38;5;241m=\u001B[39m\u001B[38;5;241m2\u001B[39m)\n",
      "\u001B[0;31mTypeError\u001B[0m: Only length-1 arrays can be converted to Python scalars"
     ]
    },
    {
     "data": {
      "text/plain": "<Figure size 640x480 with 2 Axes>",
      "image/png": "[encoded data removed]"
     },
     "metadata": {},
     "output_type": "display_data"
    }
   ],
   "source": [
    "plot_classification_report(report_1, 'singleLSTM_Classification_report')"
   ],
   "metadata": {
    "collapsed": false,
    "ExecuteTime": {
     "end_time": "2024-01-29T09:16:08.478197Z",
     "start_time": "2024-01-29T09:16:07.874847300Z"
    }
   },
   "id": "625c0810be4efd9d",
   "execution_count": 34
  },
  {
   "cell_type": "code",
   "outputs": [],
   "source": [
    "# plt.savefig('reports/simpleLSTM_plot_classif_report_'+ datetime.now().strftime(\"%Y%m%d_%H-%M-%S\") + '.png', dpi=600, format='png', bbox_inches='tight')\n",
    "# plt.close()"
   ],
   "metadata": {
    "collapsed": false,
    "ExecuteTime": {
     "end_time": "2024-01-29T09:05:43.407286100Z",
     "start_time": "2024-01-29T09:05:43.373776Z"
    }
   },
   "id": "d906c61d496196ec",
   "execution_count": 28
  },
  {
   "cell_type": "code",
   "outputs": [
    {
     "data": {
      "text/plain": "<Figure size 640x480 with 1 Axes>",
      "image/png": "[encoded data removed]"
     },
     "metadata": {},
     "output_type": "display_data"
    },
    {
     "data": {
      "text/plain": "<Figure size 640x480 with 1 Axes>",
      "image/png": "[encoded data removed]"
     },
     "metadata": {},
     "output_type": "display_data"
    }
   ],
   "source": [
    "#plot the training and validation loss and accuracy\n",
    "plot_loss_accuracy(history_1, 'singleLSTM')"
   ],
   "metadata": {
    "collapsed": false,
    "ExecuteTime": {
     "end_time": "2024-01-29T09:09:18.543105200Z",
     "start_time": "2024-01-29T09:09:15.430571400Z"
    }
   },
   "id": "3c42da799e8a2e80",
   "execution_count": 30
  },
  {
   "cell_type": "code",
   "outputs": [
    {
     "name": "stdout",
     "output_type": "stream",
     "text": [
      "The tensorboard extension is already loaded. To reload it, use:\n",
      "  %reload_ext tensorboard\n"
     ]
    },
    {
     "data": {
      "text/plain": "Launching TensorBoard..."
     },
     "metadata": {},
     "output_type": "display_data"
    },
    {
     "data": {
      "text/plain": "<IPython.core.display.HTML object>",
      "text/html": "\n      <iframe id=\"tensorboard-frame-8e84d1eed77905a3\" width=\"100%\" height=\"800\" frameborder=\"0\">\n      </iframe>\n      <script>\n        (function() {\n          const frame = document.getElementById(\"tensorboard-frame-8e84d1eed77905a3\");\n          const url = new URL(\"/\", window.location);\n          const port = 6006;\n          if (port) {\n            url.port = port;\n          }\n          frame.src = url;\n        })();\n      </script>\n    "
     },
     "metadata": {},
     "output_type": "display_data"
    }
   ],
   "source": [
    "# plot the tensorboard results\n",
    "# %load_ext tensorboard\n",
    "# %tensorboard --logdir logs/fit\n",
    "# %tensorboard --logdir logs/fit"
   ],
   "metadata": {
    "collapsed": false,
    "ExecuteTime": {
     "end_time": "2024-01-29T09:19:21.942675400Z",
     "start_time": "2024-01-29T09:19:21.762963Z"
    }
   },
   "id": "95166221fd87fe2e",
   "execution_count": 35
  },
  {
   "cell_type": "markdown",
   "source": [
    "### Single LSTM layer with FastText embedding layer"
   ],
   "metadata": {
    "collapsed": false
   },
   "id": "e1caeff66dd045e"
  },
  {
   "cell_type": "code",
   "outputs": [],
   "source": [
    "# build, train and evaluate the LSTM model\n",
    "model_lstm_ft, history_lstm_ft, report_lstm_ft = build_train_singlelstm_model('singleLSTM_FT', X_train_pad, y_train, X_val_pad, y_val, X_test_pad, y_test, embedding_matrix=embedding_matrix)"
   ],
   "metadata": {
    "collapsed": false
   },
   "id": "7c831bd3c3b085ae"
  },
  {
   "cell_type": "markdown",
   "source": [
    "### Stacked LSTM layers\n"
   ],
   "metadata": {
    "collapsed": false
   },
   "id": "aba9dfd0ee4f6361"
  },
  {
   "cell_type": "code",
   "outputs": [],
   "source": [
    "# write a function to build, train and evaluate the LSTM model\n",
    "def build_train_stackedlstm_model(model_name, X_train, y_train, X_val, y_val, X_test, y_test, epochs=epochs, batch_size=batch_size, learning_rate=learning_rate, decay_steps=decay_steps, decay_rate=decay_rate):\n",
    "    \n",
    "    # define the model architecture\n",
    "    model = Sequential()\n",
    "    model.add(Embedding(max_words, embedding_dim, input_length=max_len, trainable=False))\n",
    "    # model.add(SpatialDropout1D(spa_dropout_ratio))\n",
    "    model.add(LSTM(lstm_units_1, return_sequences=True))\n",
    "    model.add(LSTM(lstm_units_2))\n",
    "    model.add(Dropout(spa_dropout_ratio))\n",
    "    # model.add(LSTM(lstm_units_1, dropout=dropout_ratio, recurrent_dropout=dropout_ratio))\n",
    "    model.add(Dropout(spa_dropout_ratio))\n",
    "    model.add(Dense(1, activation='sigmoid'))  # Assuming binary classification\n",
    "    \n",
    "    # compile the model\n",
    "    lr_schedule = tf.keras.optimizers.schedules.ExponentialDecay(\n",
    "    initial_learning_rate=learning_rate,\n",
    "    decay_steps=decay_steps,\n",
    "    decay_rate=decay_rate\n",
    "    )\n",
    "    \n",
    "    model.compile(\n",
    "        # optimizer=Adam(learning_rate=learning_rate, decay=learning_rate / decay_steps),\n",
    "        optimizer = Adam(learning_rate=lr_schedule),\n",
    "        loss='binary_crossentropy', \n",
    "        metrics=['accuracy']\n",
    "    )\n",
    "    \n",
    "    # print the model summary\n",
    "    print(model.summary())\n",
    "    print('#' * 150)\n",
    "    \n",
    "    # Create a callback that saves the best model during validation\n",
    "    model_checkpoint = ModelCheckpoint(\n",
    "        \"models/singleLSTM_\"+ datetime.now().strftime(\"%Y%m%d_%H%M%S\") + \".h5\",\n",
    "        monitor='val_accuracy', # val_loss or val_accuracy \n",
    "        verbose=1,\n",
    "        save_best_only=True,\n",
    "        mode='min'\n",
    "    )\n",
    "    # EarlyStopping to stop training when the validation loss has stopped improving\n",
    "    early_stopping = EarlyStopping(\n",
    "        monitor = 'val_loss',\n",
    "        verbose = 1,\n",
    "        patience = 3, # Number of epochs with no improvement after which training will be stopped.\n",
    "        mode = 'min'\n",
    "    )\n",
    "\n",
    "    # TensorBoard for visualization\n",
    "    log_dir = \"logs/fit/\" + datetime.now().strftime(\"%Y%m%d-%H%M%S\")\n",
    "    tensorboard_callback = TensorBoard(log_dir=log_dir, histogram_freq=1)\n",
    "\n",
    "    # train the model\n",
    "    start_time = time()\n",
    "    history = model.fit(\n",
    "        X_train,\n",
    "        y_train,\n",
    "        epochs=epochs,\n",
    "        batch_size=batch_size,\n",
    "        validation_data=(X_val, y_val),\n",
    "        verbose=1,\n",
    "        callbacks=[model_checkpoint, early_stopping, tensorboard_callback]\n",
    "    )\n",
    "    end_time = time()\n",
    "    training_time = end_time - start_time\n",
    "    \n",
    "    # print the training time\n",
    "    print('Training time: {}'.format(training_time))\n",
    "    \n",
    "    # evaluate the model\n",
    "    loss, accuracy = model.evaluate(X_test, y_test, verbose=1)\n",
    "    print('Test Loss: {}'.format(loss))\n",
    "    print('Test Accuracy: {}'.format(accuracy))\n",
    "    \n",
    "    # predict the test set\n",
    "    # y_pred = model.predict(X_test)\n",
    "    # y_pred = np.argmax(y_pred, axis=1)\n",
    "    # y_test = np.argmax(y_test, axis=1)\n",
    "    y_pred_probs = model.predict(X_test)\n",
    "    y_pred = (y_pred_probs >= 0.5).astype(int)  # Convert probabilities to binary (0 or 1)\n",
    "    \n",
    "    # print the precision, recall and f1-score\n",
    "    model_precision = precision_score(y_test, y_pred)\n",
    "    model_recall = recall_score(y_test, y_pred)\n",
    "    model_f1_score = f1_score(y_test, y_pred)\n",
    "    print('Precision: {}'.format(model_precision))\n",
    "    print('Recall: {}'.format(model_recall))\n",
    "    print('F1-score: {}'.format(model_f1_score))\n",
    "        \n",
    "    # print the classification report\n",
    "    report = classification_report(y_test, y_pred, digits=4, target_names=['None_vishing', 'Vishing'])\n",
    "    print(report)\n",
    "    \n",
    "    # print the confusion matrix\n",
    "    print(confusion_matrix(y_test, y_pred))\n",
    "        \n",
    "    # save the model\n",
    "    # model.save('models/{}.h5'.format(model_name))\n",
    "    \n",
    "    # save the history\n",
    "    with open('histories/{}.pkl'.format(model_name), 'wb') as file_pi:\n",
    "        pickle.dump(history.history, file_pi)\n",
    "    \n",
    "    # save the results\n",
    "    df_results.loc[model_name] = [model_f1_score, model_precision, model_recall, accuracy, training_time]\n",
    "    # df_results.loc[model_name] = [f1_score(y_test, y_pred), precision_score(y_test, y_pred), recall_score(y_test, y_pred), accuracy, training_time]  \n",
    "    \n",
    "    # print the results\n",
    "    # df_results\n",
    "    \n",
    "    return model, history, report"
   ],
   "metadata": {
    "collapsed": false,
    "ExecuteTime": {
     "end_time": "2024-01-26T18:23:02.576420300Z",
     "start_time": "2024-01-26T18:23:02.514132500Z"
    }
   },
   "id": "8e57ec3571bc44f1",
   "execution_count": 64
  },
  {
   "cell_type": "code",
   "outputs": [
    {
     "name": "stdout",
     "output_type": "stream",
     "text": [
      "Model: \"sequential_3\"\n",
      "_________________________________________________________________\n",
      " Layer (type)                Output Shape              Param #   \n",
      "=================================================================\n",
      " embedding_3 (Embedding)     (None, 4715, 300)         10153200  \n",
      "                                                                 \n",
      " lstm_3 (LSTM)               (None, 4715, 64)          93440     \n",
      "                                                                 \n",
      " lstm_4 (LSTM)               (None, 32)                12416     \n",
      "                                                                 \n",
      " dropout_1 (Dropout)         (None, 32)                0         \n",
      "                                                                 \n",
      " dropout_2 (Dropout)         (None, 32)                0         \n",
      "                                                                 \n",
      " dense_3 (Dense)             (None, 1)                 33        \n",
      "                                                                 \n",
      "=================================================================\n",
      "Total params: 10259089 (39.14 MB)\n",
      "Trainable params: 105889 (413.63 KB)\n",
      "Non-trainable params: 10153200 (38.73 MB)\n",
      "_________________________________________________________________\n",
      "None\n",
      "######################################################################################################################################################\n",
      "Epoch 1/10\n",
      "64/64 [==============================] - ETA: 0s - loss: 0.3237 - accuracy: 0.8705\n",
      "Epoch 1: val_accuracy improved from inf to 0.99545, saving model to models/singleLSTM_20240127_032359.h5\n"
     ]
    },
    {
     "name": "stderr",
     "output_type": "stream",
     "text": [
      "/home/mbmk92/anaconda3/envs/vishingWSL/lib/python3.11/site-packages/keras/src/engine/training.py:3103: UserWarning: You are saving your model as an HDF5 file via `model.save()`. This file format is considered legacy. We recommend using instead the native Keras format, e.g. `model.save('my_model.keras')`.\n",
      "  saving_api.save_model(\n"
     ]
    },
    {
     "name": "stdout",
     "output_type": "stream",
     "text": [
      "64/64 [==============================] - 42s 561ms/step - loss: 0.3237 - accuracy: 0.8705 - val_loss: 0.0481 - val_accuracy: 0.9955\n",
      "Epoch 2/10\n",
      "64/64 [==============================] - ETA: 0s - loss: 0.0642 - accuracy: 0.9878\n",
      "Epoch 2: val_accuracy improved from 0.99545 to 0.97955, saving model to models/singleLSTM_20240127_032359.h5\n",
      "64/64 [==============================] - 35s 540ms/step - loss: 0.0642 - accuracy: 0.9878 - val_loss: 0.0922 - val_accuracy: 0.9795\n",
      "Epoch 3/10\n",
      "64/64 [==============================] - ETA: 0s - loss: 0.0216 - accuracy: 0.9976\n",
      "Epoch 3: val_accuracy did not improve from 0.97955\n",
      "64/64 [==============================] - 33s 524ms/step - loss: 0.0216 - accuracy: 0.9976 - val_loss: 0.0182 - val_accuracy: 0.9977\n",
      "Epoch 4/10\n",
      "64/64 [==============================] - ETA: 0s - loss: 0.3899 - accuracy: 0.9101\n",
      "Epoch 4: val_accuracy improved from 0.97955 to 0.46818, saving model to models/singleLSTM_20240127_032359.h5\n",
      "64/64 [==============================] - 33s 524ms/step - loss: 0.3899 - accuracy: 0.9101 - val_loss: 1.2157 - val_accuracy: 0.4682\n",
      "Epoch 5/10\n",
      "64/64 [==============================] - ETA: 0s - loss: 0.4128 - accuracy: 0.8852\n",
      "Epoch 5: val_accuracy did not improve from 0.46818\n",
      "64/64 [==============================] - 36s 564ms/step - loss: 0.4128 - accuracy: 0.8852 - val_loss: 0.1365 - val_accuracy: 0.9795\n",
      "Epoch 6/10\n",
      "64/64 [==============================] - ETA: 0s - loss: 0.0920 - accuracy: 0.9873\n",
      "Epoch 6: val_accuracy did not improve from 0.46818\n",
      "64/64 [==============================] - 31s 483ms/step - loss: 0.0920 - accuracy: 0.9873 - val_loss: 0.0691 - val_accuracy: 0.9864\n",
      "Epoch 6: early stopping\n",
      "Training time: 210.97585463523865\n",
      "14/14 [==============================] - 3s 244ms/step - loss: 0.0618 - accuracy: 0.9909\n",
      "Test Loss: 0.06183578446507454\n",
      "Test Accuracy: 0.9909090995788574\n",
      "14/14 [==============================] - 4s 220ms/step\n",
      "Precision: 0.9719626168224299\n",
      "Recall: 0.9904761904761905\n",
      "F1-score: 0.9811320754716981\n",
      "              precision    recall  f1-score   support\n",
      "\n",
      "None_vishing     0.9970    0.9910    0.9940       335\n",
      "     Vishing     0.9720    0.9905    0.9811       105\n",
      "\n",
      "    accuracy                         0.9909       440\n",
      "   macro avg     0.9845    0.9908    0.9876       440\n",
      "weighted avg     0.9910    0.9909    0.9909       440\n",
      "\n",
      "[[332   3]\n",
      " [  1 104]]\n"
     ]
    },
    {
     "name": "stderr",
     "output_type": "stream",
     "text": [
      "/home/mbmk92/anaconda3/envs/vishingWSL/lib/python3.11/site-packages/keras/src/engine/training.py:3103: UserWarning: You are saving your model as an HDF5 file via `model.save()`. This file format is considered legacy. We recommend using instead the native Keras format, e.g. `model.save('my_model.keras')`.\n",
      "  saving_api.save_model(\n"
     ]
    }
   ],
   "source": [
    "# build, train and evaluate the double LSTM layers model\n",
    "model_2, history_2, report_2 = build_train_doublelstm_model('doubleLSTM', X_train_pad, y_train, X_val_pad, y_val, X_test_pad, y_test)"
   ],
   "metadata": {
    "collapsed": false,
    "ExecuteTime": {
     "end_time": "2024-01-26T18:27:38.848341500Z",
     "start_time": "2024-01-26T18:23:58.773596800Z"
    }
   },
   "id": "6249804883bea896",
   "execution_count": 65
  },
  {
   "cell_type": "code",
   "outputs": [
    {
     "data": {
      "text/plain": "            F1_score  Precision    Recall  Accuracy  Training time\nsingleLSTM  0.995215   1.000000  0.990476  0.997727     187.598633\ndoubleLSTM  0.981132   0.971963  0.990476  0.990909     210.975855",
      "text/html": "<div>\n<style scoped>\n    .dataframe tbody tr th:only-of-type {\n        vertical-align: middle;\n    }\n\n    .dataframe tbody tr th {\n        vertical-align: top;\n    }\n\n    .dataframe thead th {\n        text-align: right;\n    }\n</style>\n<table border=\"1\" class=\"dataframe\">\n  <thead>\n    <tr style=\"text-align: right;\">\n      <th></th>\n      <th>F1_score</th>\n      <th>Precision</th>\n      <th>Recall</th>\n      <th>Accuracy</th>\n      <th>Training time</th>\n    </tr>\n  </thead>\n  <tbody>\n    <tr>\n      <th>singleLSTM</th>\n      <td>0.995215</td>\n      <td>1.000000</td>\n      <td>0.990476</td>\n      <td>0.997727</td>\n      <td>187.598633</td>\n    </tr>\n    <tr>\n      <th>doubleLSTM</th>\n      <td>0.981132</td>\n      <td>0.971963</td>\n      <td>0.990476</td>\n      <td>0.990909</td>\n      <td>210.975855</td>\n    </tr>\n  </tbody>\n</table>\n</div>"
     },
     "execution_count": 66,
     "metadata": {},
     "output_type": "execute_result"
    }
   ],
   "source": [
    "# print the results\n",
    "df_results"
   ],
   "metadata": {
    "collapsed": false,
    "ExecuteTime": {
     "end_time": "2024-01-26T18:27:38.889856Z",
     "start_time": "2024-01-26T18:27:38.848341500Z"
    }
   },
   "id": "8390b4bf4d8d6b75",
   "execution_count": 66
  },
  {
   "cell_type": "markdown",
   "source": [
    "#### Plot the results"
   ],
   "metadata": {
    "collapsed": false
   },
   "id": "c29b2624865a030c"
  },
  {
   "cell_type": "code",
   "outputs": [
    {
     "name": "stdout",
     "output_type": "stream",
     "text": [
      "[0.997, 0.991, 0.994]\n",
      "[0.972, 0.9905, 0.9811]\n",
      "plotMat: [[0.997, 0.991, 0.994], [0.972, 0.9905, 0.9811]]\n",
      "support: [335, 105]\n"
     ]
    },
    {
     "ename": "TypeError",
     "evalue": "Only length-1 arrays can be converted to Python scalars",
     "output_type": "error",
     "traceback": [
      "\u001B[0;31m---------------------------------------------------------------------------\u001B[0m",
      "\u001B[0;31mTypeError\u001B[0m                                 Traceback (most recent call last)",
      "Cell \u001B[0;32mIn[67], line 1\u001B[0m\n\u001B[0;32m----> 1\u001B[0m plot_classification_report(report_2, \u001B[38;5;124m'\u001B[39m\u001B[38;5;124mdoubleLSTM_Classification_report\u001B[39m\u001B[38;5;124m'\u001B[39m)\n",
      "Cell \u001B[0;32mIn[3], line 126\u001B[0m, in \u001B[0;36mplot_classification_report\u001B[0;34m(classification_report, title, cmap)\u001B[0m\n\u001B[1;32m    124\u001B[0m figure_height \u001B[38;5;241m=\u001B[39m \u001B[38;5;28mlen\u001B[39m(class_names) \u001B[38;5;241m+\u001B[39m \u001B[38;5;241m7\u001B[39m\n\u001B[1;32m    125\u001B[0m correct_orientation \u001B[38;5;241m=\u001B[39m \u001B[38;5;28;01mFalse\u001B[39;00m\n\u001B[0;32m--> 126\u001B[0m heatmap(np\u001B[38;5;241m.\u001B[39marray(plotMat), title, xlabel, ylabel, xticklabels, yticklabels, figure_width, figure_height, correct_orientation, cmap\u001B[38;5;241m=\u001B[39mcmap)\n",
      "Cell \u001B[0;32mIn[3], line 76\u001B[0m, in \u001B[0;36mheatmap\u001B[0;34m(AUC, title, xlabel, ylabel, xticklabels, yticklabels, figure_width, figure_height, correct_orientation, cmap)\u001B[0m\n\u001B[1;32m     73\u001B[0m plt\u001B[38;5;241m.\u001B[39mcolorbar(c)\n\u001B[1;32m     75\u001B[0m \u001B[38;5;66;03m# Add text in each cell \u001B[39;00m\n\u001B[0;32m---> 76\u001B[0m show_values(c)\n\u001B[1;32m     78\u001B[0m \u001B[38;5;66;03m# Proper orientation (origin at the top left instead of bottom left)\u001B[39;00m\n\u001B[1;32m     79\u001B[0m \u001B[38;5;28;01mif\u001B[39;00m correct_orientation:\n",
      "Cell \u001B[0;32mIn[3], line 18\u001B[0m, in \u001B[0;36mshow_values\u001B[0;34m(pc, fmt, **kw)\u001B[0m\n\u001B[1;32m     16\u001B[0m \u001B[38;5;28;01melse\u001B[39;00m:\n\u001B[1;32m     17\u001B[0m     color \u001B[38;5;241m=\u001B[39m (\u001B[38;5;241m1.0\u001B[39m, \u001B[38;5;241m1.0\u001B[39m, \u001B[38;5;241m1.0\u001B[39m)\n\u001B[0;32m---> 18\u001B[0m ax\u001B[38;5;241m.\u001B[39mtext(x, y, fmt \u001B[38;5;241m%\u001B[39m value, ha\u001B[38;5;241m=\u001B[39m\u001B[38;5;124m\"\u001B[39m\u001B[38;5;124mcenter\u001B[39m\u001B[38;5;124m\"\u001B[39m, va\u001B[38;5;241m=\u001B[39m\u001B[38;5;124m\"\u001B[39m\u001B[38;5;124mcenter\u001B[39m\u001B[38;5;124m\"\u001B[39m, color\u001B[38;5;241m=\u001B[39mcolor, \u001B[38;5;241m*\u001B[39m\u001B[38;5;241m*\u001B[39mkw)\n",
      "File \u001B[0;32m~/anaconda3/envs/vishingWSL/lib/python3.11/site-packages/numpy/ma/core.py:4452\u001B[0m, in \u001B[0;36mMaskedArray.__float__\u001B[0;34m(self)\u001B[0m\n\u001B[1;32m   4447\u001B[0m \u001B[38;5;250m\u001B[39m\u001B[38;5;124;03m\"\"\"\u001B[39;00m\n\u001B[1;32m   4448\u001B[0m \u001B[38;5;124;03mConvert to float.\u001B[39;00m\n\u001B[1;32m   4449\u001B[0m \n\u001B[1;32m   4450\u001B[0m \u001B[38;5;124;03m\"\"\"\u001B[39;00m\n\u001B[1;32m   4451\u001B[0m \u001B[38;5;28;01mif\u001B[39;00m \u001B[38;5;28mself\u001B[39m\u001B[38;5;241m.\u001B[39msize \u001B[38;5;241m>\u001B[39m \u001B[38;5;241m1\u001B[39m:\n\u001B[0;32m-> 4452\u001B[0m     \u001B[38;5;28;01mraise\u001B[39;00m \u001B[38;5;167;01mTypeError\u001B[39;00m(\u001B[38;5;124m\"\u001B[39m\u001B[38;5;124mOnly length-1 arrays can be converted \u001B[39m\u001B[38;5;124m\"\u001B[39m\n\u001B[1;32m   4453\u001B[0m                     \u001B[38;5;124m\"\u001B[39m\u001B[38;5;124mto Python scalars\u001B[39m\u001B[38;5;124m\"\u001B[39m)\n\u001B[1;32m   4454\u001B[0m \u001B[38;5;28;01melif\u001B[39;00m \u001B[38;5;28mself\u001B[39m\u001B[38;5;241m.\u001B[39m_mask:\n\u001B[1;32m   4455\u001B[0m     warnings\u001B[38;5;241m.\u001B[39mwarn(\u001B[38;5;124m\"\u001B[39m\u001B[38;5;124mWarning: converting a masked element to nan.\u001B[39m\u001B[38;5;124m\"\u001B[39m, stacklevel\u001B[38;5;241m=\u001B[39m\u001B[38;5;241m2\u001B[39m)\n",
      "\u001B[0;31mTypeError\u001B[0m: Only length-1 arrays can be converted to Python scalars"
     ]
    },
    {
     "data": {
      "text/plain": "<Figure size 640x480 with 2 Axes>",
      "image/png": "[encoded data removed]"
     },
     "metadata": {},
     "output_type": "display_data"
    }
   ],
   "source": [
    "plot_classification_report(report_2, 'doubleLSTM_Classification_report')"
   ],
   "metadata": {
    "collapsed": false,
    "ExecuteTime": {
     "end_time": "2024-01-26T18:27:39.858179300Z",
     "start_time": "2024-01-26T18:27:38.878856Z"
    }
   },
   "id": "114dba2a27540cea",
   "execution_count": 67
  },
  {
   "cell_type": "code",
   "outputs": [
    {
     "ename": "NameError",
     "evalue": "name 'history_2' is not defined",
     "output_type": "error",
     "traceback": [
      "\u001B[0;31m---------------------------------------------------------------------------\u001B[0m",
      "\u001B[0;31mNameError\u001B[0m                                 Traceback (most recent call last)",
      "Cell \u001B[0;32mIn[29], line 2\u001B[0m\n\u001B[1;32m      1\u001B[0m \u001B[38;5;66;03m#plot the training and validation loss and accuracy\u001B[39;00m\n\u001B[0;32m----> 2\u001B[0m plot_loss_accuracy(history_2, \u001B[38;5;124m'\u001B[39m\u001B[38;5;124mdoubleLSTM\u001B[39m\u001B[38;5;124m'\u001B[39m)\n",
      "\u001B[0;31mNameError\u001B[0m: name 'history_2' is not defined"
     ]
    }
   ],
   "source": [
    "#plot the training and validation loss and accuracy\n",
    "plot_loss_accuracy(history_2, 'doubleLSTM')"
   ],
   "metadata": {
    "collapsed": false,
    "ExecuteTime": {
     "end_time": "2024-01-29T09:09:02.494494Z",
     "start_time": "2024-01-29T09:09:02.440537300Z"
    }
   },
   "id": "7cc0e4d9b8db2b78",
   "execution_count": 29
  },
  {
   "cell_type": "code",
   "outputs": [],
   "source": [],
   "metadata": {
    "collapsed": false
   },
   "id": "cba82e22db70417"
  },
  {
   "cell_type": "code",
   "outputs": [],
   "source": [],
   "metadata": {
    "collapsed": false
   },
   "id": "4ac013f720a88e7c"
  },
  {
   "cell_type": "code",
   "outputs": [],
   "source": [],
   "metadata": {
    "collapsed": false
   },
   "id": "453c8bd4ab21c03d"
  },
  {
   "cell_type": "code",
   "outputs": [],
   "source": [],
   "metadata": {
    "collapsed": false
   },
   "id": "5c9ce8b183276be6"
  },
  {
   "cell_type": "code",
   "outputs": [],
   "source": [],
   "metadata": {
    "collapsed": false
   },
   "id": "f0e87fba6e9158f5"
  },
  {
   "cell_type": "code",
   "outputs": [],
   "source": [],
   "metadata": {
    "collapsed": false
   },
   "id": "10f81b5925a0b1f1"
  },
  {
   "cell_type": "code",
   "outputs": [],
   "source": [],
   "metadata": {
    "collapsed": false
   },
   "id": "f79dec586d42447e"
  },
  {
   "cell_type": "code",
   "outputs": [],
   "source": [],
   "metadata": {
    "collapsed": false
   },
   "id": "5a9ebd0d0a19b6e6"
  },
  {
   "cell_type": "code",
   "outputs": [],
   "source": [],
   "metadata": {
    "collapsed": false
   },
   "id": "1647903d69f31441"
  },
  {
   "cell_type": "code",
   "outputs": [],
   "source": [],
   "metadata": {
    "collapsed": false
   },
   "id": "a0dc8845b6355089"
  },
  {
   "cell_type": "code",
   "outputs": [],
   "source": [],
   "metadata": {
    "collapsed": false
   },
   "id": "4d01f5ed87f5e052"
  },
  {
   "cell_type": "code",
   "outputs": [],
   "source": [],
   "metadata": {
    "collapsed": false
   },
   "id": "c7431551ecc4052b"
  },
  {
   "cell_type": "code",
   "outputs": [],
   "source": [],
   "metadata": {
    "collapsed": false
   },
   "id": "6577c6cbfdc80061"
  },
  {
   "cell_type": "code",
   "outputs": [],
   "source": [],
   "metadata": {
    "collapsed": false
   },
   "id": "3060a6c551616415"
  },
  {
   "cell_type": "code",
   "outputs": [],
   "source": [],
   "metadata": {
    "collapsed": false
   },
   "id": "603af0c3545bb189"
  },
  {
   "cell_type": "code",
   "outputs": [],
   "source": [],
   "metadata": {
    "collapsed": false
   },
   "id": "76ce283fe86fe559"
  },
  {
   "cell_type": "code",
   "outputs": [],
   "source": [],
   "metadata": {
    "collapsed": false
   },
   "id": "9905c61d2601dc2d"
  },
  {
   "cell_type": "code",
   "outputs": [],
   "source": [],
   "metadata": {
    "collapsed": false
   },
   "id": "b154446fe74de678"
  },
  {
   "cell_type": "code",
   "outputs": [],
   "source": [],
   "metadata": {
    "collapsed": false
   },
   "id": "d24ca6653996b3a0"
  },
  {
   "cell_type": "code",
   "outputs": [],
   "source": [
    "# write a function to build, train and evaluate the model\n",
    "def build_model(model_name, embedding_layer, X_train, y_train, X_val, y_val, X_test, y_test, epochs=epochs, batch_size=batch_size, learning_rate=learning_rate, decay_steps=decay_steps, decay_rate=decay_rate):\n",
    "    # define the model\n",
    "    model = Sequential()\n",
    "    model.add(embedding_layer)\n",
    "    model.add(Conv1D(num_filters, kernel_size, activation='relu', padding='same'))\n",
    "    model.add(MaxPooling1D())\n",
    "    model.add(Conv1D(num_filters, kernel_size, activation='relu', padding='same'))\n",
    "    model.add(GlobalMaxPooling1D())\n",
    "    model.add(Dense(dense_units, activation='relu'))\n",
    "    model.add(Dropout(dropout_ratio))\n",
    "    model.add(Dense(2, activation='softmax'))\n",
    "    \n",
    "    # compile the model\n",
    "    model.compile(optimizer=Adam(learning_rate=learning_rate, decay=learning_rate / decay_steps), loss='binary_crossentropy', metrics=['accuracy'])\n",
    "    \n",
    "    # print the model summary\n",
    "    print(model.summary())\n",
    "    \n",
    "    # train the model\n",
    "    start_time = time.time()\n",
    "    history = model.fit(X_train, y_train, epochs=epochs, batch_size=batch_size, validation_data=(X_val, y_val), verbose=1)\n",
    "    end_time = time.time()\n",
    "    training_time = end_time - start_time\n",
    "    \n",
    "    # evaluate the model\n",
    "    loss, accuracy = model.evaluate(X_test, y_test, verbose=1)\n",
    "    print('Test Loss: {}'.format(loss))\n",
    "    print('Test Accuracy: {}'.format(accuracy))\n",
    "    \n",
    "    # predict the test set\n",
    "    y_pred = model.predict(X_test)\n",
    "    y_pred = np.argmax(y_pred, axis=1)\n",
    "    y_test = np.argmax(y_test, axis=1)\n",
    "    \n",
    "    # print the classification report\n",
    "    print(classification_report(y_test, y_pred))\n",
    "    \n",
    "    # print the confusion matrix\n",
    "    print(confusion_matrix(y_test, y_pred))\n",
    "    \n",
    "    # print the training time\n",
    "    print('Training time: {}'.format(training_time))\n",
    "    \n",
    "    # save the model\n",
    "    model.save('models/{}.h5'.format(model_name))\n",
    "    \n",
    "    # save the history\n",
    "    with open('histories/{}.pkl'.format(model_name), 'wb') as file_pi:\n",
    "        pickle.dump(history.history, file_pi)\n",
    "    \n",
    "    # save the results\n",
    "    df_results.loc[model_name] = [f1_score(y_test, y_pred), precision_score(y_test, y_pred), recall_score(y_test, y_pred), accuracy, training_time]\n",
    "    \n",
    "    return model, history\n"
   ],
   "metadata": {
    "collapsed": false
   },
   "id": "78ba2bde65143662"
  },
  {
   "cell_type": "code",
   "outputs": [],
   "source": [],
   "metadata": {
    "collapsed": false
   },
   "id": "240639395d76b2a7"
  },
  {
   "cell_type": "code",
   "outputs": [],
   "source": [],
   "metadata": {
    "collapsed": false
   },
   "id": "c3f4fbf4c4f72a86"
  },
  {
   "cell_type": "code",
   "outputs": [],
   "source": [],
   "metadata": {
    "collapsed": false
   },
   "id": "cab94c492ad1fc77"
  },
  {
   "cell_type": "code",
   "outputs": [],
   "source": [],
   "metadata": {
    "collapsed": false
   },
   "id": "9f65a5745463f94e"
  },
  {
   "cell_type": "code",
   "outputs": [],
   "source": [],
   "metadata": {
    "collapsed": false
   },
   "id": "929492771b1802a3"
  },
  {
   "cell_type": "code",
   "outputs": [],
   "source": [],
   "metadata": {
    "collapsed": false
   },
   "id": "7ed5a5b6c042e7f2"
  },
  {
   "cell_type": "code",
   "outputs": [],
   "source": [],
   "metadata": {
    "collapsed": false
   },
   "id": "10713f81d577a91b"
  },
  {
   "cell_type": "code",
   "outputs": [],
   "source": [],
   "metadata": {
    "collapsed": false
   },
   "id": "e24b62eaf6663d27"
  },
  {
   "cell_type": "code",
   "outputs": [],
   "source": [],
   "metadata": {
    "collapsed": false
   },
   "id": "69028d51d1745bb9"
  }
 ],
 "metadata": {
  "kernelspec": {
   "name": "python3",
   "language": "python",
   "display_name": "Python 3 (ipykernel)"
  },
  "language_info": {
   "codemirror_mode": {
    "name": "ipython",
    "version": 3
   },
   "file_extension": ".py",
   "mimetype": "text/x-python",
   "name": "python",
   "nbconvert_exporter": "python",
   "pygments_lexer": "ipython3",
   "version": "3.10.4"
  }
 },
 "nbformat": 4,
 "nbformat_minor": 5
}
